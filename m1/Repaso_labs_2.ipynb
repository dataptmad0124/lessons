{
 "cells": [
  {
   "cell_type": "markdown",
   "id": "cfb353fe",
   "metadata": {},
   "source": [
    "# Numpy"
   ]
  },
  {
   "cell_type": "code",
   "execution_count": 1,
   "id": "7286697e",
   "metadata": {},
   "outputs": [],
   "source": [
    "import numpy as np"
   ]
  },
  {
   "cell_type": "code",
   "execution_count": 2,
   "id": "06f56205",
   "metadata": {},
   "outputs": [
    {
     "data": {
      "text/plain": [
       "'1.22.1'"
      ]
     },
     "execution_count": 2,
     "metadata": {},
     "output_type": "execute_result"
    }
   ],
   "source": [
    "np.__version__"
   ]
  },
  {
   "cell_type": "code",
   "execution_count": 3,
   "id": "4ad4ea41",
   "metadata": {},
   "outputs": [
    {
     "name": "stdout",
     "output_type": "stream",
     "text": [
      "openblas64__info:\n",
      "    libraries = ['openblas64_', 'openblas64_']\n",
      "    library_dirs = ['/opt/arm64-builds/lib']\n",
      "    language = c\n",
      "    define_macros = [('HAVE_CBLAS', None), ('BLAS_SYMBOL_SUFFIX', '64_'), ('HAVE_BLAS_ILP64', None)]\n",
      "    runtime_library_dirs = ['/opt/arm64-builds/lib']\n",
      "blas_ilp64_opt_info:\n",
      "    libraries = ['openblas64_', 'openblas64_']\n",
      "    library_dirs = ['/opt/arm64-builds/lib']\n",
      "    language = c\n",
      "    define_macros = [('HAVE_CBLAS', None), ('BLAS_SYMBOL_SUFFIX', '64_'), ('HAVE_BLAS_ILP64', None)]\n",
      "    runtime_library_dirs = ['/opt/arm64-builds/lib']\n",
      "openblas64__lapack_info:\n",
      "    libraries = ['openblas64_', 'openblas64_']\n",
      "    library_dirs = ['/opt/arm64-builds/lib']\n",
      "    language = c\n",
      "    define_macros = [('HAVE_CBLAS', None), ('BLAS_SYMBOL_SUFFIX', '64_'), ('HAVE_BLAS_ILP64', None), ('HAVE_LAPACKE', None)]\n",
      "    runtime_library_dirs = ['/opt/arm64-builds/lib']\n",
      "lapack_ilp64_opt_info:\n",
      "    libraries = ['openblas64_', 'openblas64_']\n",
      "    library_dirs = ['/opt/arm64-builds/lib']\n",
      "    language = c\n",
      "    define_macros = [('HAVE_CBLAS', None), ('BLAS_SYMBOL_SUFFIX', '64_'), ('HAVE_BLAS_ILP64', None), ('HAVE_LAPACKE', None)]\n",
      "    runtime_library_dirs = ['/opt/arm64-builds/lib']\n",
      "Supported SIMD extensions in this NumPy install:\n",
      "    baseline = NEON,NEON_FP16,NEON_VFPV4,ASIMD\n",
      "    found = ASIMDHP\n",
      "    not found = ASIMDDP\n"
     ]
    }
   ],
   "source": [
    "np.show_config()"
   ]
  },
  {
   "cell_type": "code",
   "execution_count": 4,
   "id": "fb013c59",
   "metadata": {},
   "outputs": [
    {
     "data": {
      "text/plain": [
       "array([[[0., 0., 0., 0., 0.],\n",
       "        [0., 0., 0., 0., 0.],\n",
       "        [0., 0., 0., 0., 0.]],\n",
       "\n",
       "       [[0., 0., 0., 0., 0.],\n",
       "        [0., 0., 0., 0., 0.],\n",
       "        [0., 0., 0., 0., 0.]]])"
      ]
     },
     "execution_count": 4,
     "metadata": {},
     "output_type": "execute_result"
    }
   ],
   "source": [
    "np.empty((2, 3, 5))"
   ]
  },
  {
   "cell_type": "code",
   "execution_count": 5,
   "id": "6ebfc06c",
   "metadata": {},
   "outputs": [],
   "source": [
    "a = np.random.random((2, 3, 5))"
   ]
  },
  {
   "cell_type": "code",
   "execution_count": 6,
   "id": "8a652ae2",
   "metadata": {},
   "outputs": [
    {
     "data": {
      "text/plain": [
       "array([[[0.50941193, 0.68819739, 0.87729553, 0.61785377, 0.57347641],\n",
       "        [0.01301543, 0.98587231, 0.24467503, 0.10420571, 0.83397552],\n",
       "        [0.91609149, 0.5337963 , 0.79055486, 0.88567299, 0.34188902]],\n",
       "\n",
       "       [[0.89696033, 0.19393062, 0.85578119, 0.31989216, 0.24396504],\n",
       "        [0.42303238, 0.49446719, 0.44055659, 0.73796809, 0.53175819],\n",
       "        [0.26725587, 0.93149933, 0.58977581, 0.93209337, 0.62832117]]])"
      ]
     },
     "execution_count": 6,
     "metadata": {},
     "output_type": "execute_result"
    }
   ],
   "source": [
    "a"
   ]
  },
  {
   "cell_type": "code",
   "execution_count": 7,
   "id": "68e2f53c",
   "metadata": {},
   "outputs": [
    {
     "data": {
      "text/plain": [
       "array([[[0.20613007, 0.32432211, 0.26772088, 0.10700058, 0.33828726],\n",
       "        [0.84732803, 0.9285873 , 0.9927981 , 0.64130861, 0.81439517],\n",
       "        [0.41275426, 0.25501606, 0.66519113, 0.65790925, 0.69794537]],\n",
       "\n",
       "       [[0.58237088, 0.3057491 , 0.44398225, 0.06565279, 0.6143629 ],\n",
       "        [0.5833966 , 0.39970574, 0.4805861 , 0.59107301, 0.38895117],\n",
       "        [0.3876661 , 0.82572903, 0.10404504, 0.30751048, 0.97464994]]])"
      ]
     },
     "execution_count": 7,
     "metadata": {},
     "output_type": "execute_result"
    }
   ],
   "source": [
    "np.random.rand(2, 3, 5)"
   ]
  },
  {
   "cell_type": "code",
   "execution_count": 8,
   "id": "fd7da6d4",
   "metadata": {},
   "outputs": [
    {
     "data": {
      "text/plain": [
       "array([[[0.57691817, 0.30784863, 0.88870597, 0.44554978, 0.56792489],\n",
       "        [0.27818925, 0.64222958, 0.80232097, 0.72387298, 0.24719434],\n",
       "        [0.85575509, 0.70999834, 0.36134394, 0.24265127, 0.46202228]],\n",
       "\n",
       "       [[0.39832434, 0.43809669, 0.15217486, 0.97844644, 0.49004474],\n",
       "        [0.9091031 , 0.72640813, 0.72560717, 0.84637714, 0.13216423],\n",
       "        [0.71723485, 0.20810604, 0.9946872 , 0.67943526, 0.26265338]]])"
      ]
     },
     "execution_count": 8,
     "metadata": {},
     "output_type": "execute_result"
    }
   ],
   "source": [
    "np.random.random_sample((2, 3, 5))"
   ]
  },
  {
   "cell_type": "code",
   "execution_count": 9,
   "id": "e094725c",
   "metadata": {},
   "outputs": [
    {
     "data": {
      "text/plain": [
       "array([2, 2, 2, 2, 2])"
      ]
     },
     "execution_count": 9,
     "metadata": {},
     "output_type": "execute_result"
    }
   ],
   "source": [
    "np.random.randint(2, 3, 5)"
   ]
  },
  {
   "cell_type": "code",
   "execution_count": 10,
   "id": "bb5b56c8",
   "metadata": {},
   "outputs": [
    {
     "data": {
      "text/plain": [
       "array([[[0.50941193, 0.68819739, 0.87729553, 0.61785377, 0.57347641],\n",
       "        [0.01301543, 0.98587231, 0.24467503, 0.10420571, 0.83397552],\n",
       "        [0.91609149, 0.5337963 , 0.79055486, 0.88567299, 0.34188902]],\n",
       "\n",
       "       [[0.89696033, 0.19393062, 0.85578119, 0.31989216, 0.24396504],\n",
       "        [0.42303238, 0.49446719, 0.44055659, 0.73796809, 0.53175819],\n",
       "        [0.26725587, 0.93149933, 0.58977581, 0.93209337, 0.62832117]]])"
      ]
     },
     "execution_count": 10,
     "metadata": {},
     "output_type": "execute_result"
    }
   ],
   "source": [
    "a"
   ]
  },
  {
   "cell_type": "code",
   "execution_count": 11,
   "id": "d9269f56",
   "metadata": {},
   "outputs": [
    {
     "data": {
      "text/plain": [
       "array([[[1., 1., 1.],\n",
       "        [1., 1., 1.]],\n",
       "\n",
       "       [[1., 1., 1.],\n",
       "        [1., 1., 1.]],\n",
       "\n",
       "       [[1., 1., 1.],\n",
       "        [1., 1., 1.]],\n",
       "\n",
       "       [[1., 1., 1.],\n",
       "        [1., 1., 1.]],\n",
       "\n",
       "       [[1., 1., 1.],\n",
       "        [1., 1., 1.]]])"
      ]
     },
     "execution_count": 11,
     "metadata": {},
     "output_type": "execute_result"
    }
   ],
   "source": [
    "dim = [5, 2, 3]  # 5 capas, 2 filas, 3 columnas\n",
    "\n",
    "b = np.ones(dim)\n",
    "\n",
    "b"
   ]
  },
  {
   "cell_type": "code",
   "execution_count": 12,
   "id": "0109711c",
   "metadata": {},
   "outputs": [
    {
     "data": {
      "text/plain": [
       "True"
      ]
     },
     "execution_count": 12,
     "metadata": {},
     "output_type": "execute_result"
    }
   ],
   "source": [
    "a.size == b.size"
   ]
  },
  {
   "cell_type": "code",
   "execution_count": 13,
   "id": "1361f714",
   "metadata": {},
   "outputs": [
    {
     "data": {
      "text/plain": [
       "30"
      ]
     },
     "execution_count": 13,
     "metadata": {},
     "output_type": "execute_result"
    }
   ],
   "source": [
    "a.size"
   ]
  },
  {
   "cell_type": "code",
   "execution_count": 14,
   "id": "1f9e0ea4",
   "metadata": {},
   "outputs": [
    {
     "data": {
      "text/plain": [
       "30"
      ]
     },
     "execution_count": 14,
     "metadata": {},
     "output_type": "execute_result"
    }
   ],
   "source": [
    "b.size"
   ]
  },
  {
   "cell_type": "code",
   "execution_count": 15,
   "id": "ffb6cd6b",
   "metadata": {},
   "outputs": [
    {
     "ename": "ValueError",
     "evalue": "operands could not be broadcast together with shapes (2,3,5) (5,2,3) ",
     "output_type": "error",
     "traceback": [
      "\u001b[0;31m---------------------------------------------------------------------------\u001b[0m",
      "\u001b[0;31mValueError\u001b[0m                                Traceback (most recent call last)",
      "Cell \u001b[0;32mIn[15], line 1\u001b[0m\n\u001b[0;32m----> 1\u001b[0m \u001b[43mnp\u001b[49m\u001b[38;5;241;43m.\u001b[39;49m\u001b[43madd\u001b[49m\u001b[43m(\u001b[49m\u001b[43ma\u001b[49m\u001b[43m,\u001b[49m\u001b[43m \u001b[49m\u001b[43mb\u001b[49m\u001b[43m)\u001b[49m\n",
      "\u001b[0;31mValueError\u001b[0m: operands could not be broadcast together with shapes (2,3,5) (5,2,3) "
     ]
    }
   ],
   "source": [
    "np.add(a, b)"
   ]
  },
  {
   "cell_type": "code",
   "execution_count": 16,
   "id": "3f136b04",
   "metadata": {},
   "outputs": [
    {
     "ename": "ValueError",
     "evalue": "operands could not be broadcast together with shapes (2,3,5) (5,2,3) ",
     "output_type": "error",
     "traceback": [
      "\u001b[0;31m---------------------------------------------------------------------------\u001b[0m",
      "\u001b[0;31mValueError\u001b[0m                                Traceback (most recent call last)",
      "Cell \u001b[0;32mIn[16], line 1\u001b[0m\n\u001b[0;32m----> 1\u001b[0m \u001b[43ma\u001b[49m\u001b[43m \u001b[49m\u001b[38;5;241;43m+\u001b[39;49m\u001b[43m \u001b[49m\u001b[43mb\u001b[49m\n",
      "\u001b[0;31mValueError\u001b[0m: operands could not be broadcast together with shapes (2,3,5) (5,2,3) "
     ]
    }
   ],
   "source": [
    "a + b"
   ]
  },
  {
   "cell_type": "code",
   "execution_count": 17,
   "id": "fefb619a",
   "metadata": {},
   "outputs": [
    {
     "data": {
      "text/plain": [
       "(3, 2, 5)"
      ]
     },
     "execution_count": 17,
     "metadata": {},
     "output_type": "execute_result"
    }
   ],
   "source": [
    "b.T.shape"
   ]
  },
  {
   "cell_type": "code",
   "execution_count": 18,
   "id": "a4f06635",
   "metadata": {},
   "outputs": [
    {
     "data": {
      "text/plain": [
       "(5, 2, 3)"
      ]
     },
     "execution_count": 18,
     "metadata": {},
     "output_type": "execute_result"
    }
   ],
   "source": [
    "b.transpose(0, 1, 2).shape"
   ]
  },
  {
   "cell_type": "code",
   "execution_count": 19,
   "id": "d4f0fe41",
   "metadata": {},
   "outputs": [
    {
     "data": {
      "text/plain": [
       "(2, 3, 5)"
      ]
     },
     "execution_count": 19,
     "metadata": {},
     "output_type": "execute_result"
    }
   ],
   "source": [
    "b.transpose(1, 2, 0).shape"
   ]
  },
  {
   "cell_type": "code",
   "execution_count": 20,
   "id": "8510f305",
   "metadata": {},
   "outputs": [
    {
     "data": {
      "text/plain": [
       "array([[[1.50941193, 1.68819739, 1.87729553, 1.61785377, 1.57347641],\n",
       "        [1.01301543, 1.98587231, 1.24467503, 1.10420571, 1.83397552],\n",
       "        [1.91609149, 1.5337963 , 1.79055486, 1.88567299, 1.34188902]],\n",
       "\n",
       "       [[1.89696033, 1.19393062, 1.85578119, 1.31989216, 1.24396504],\n",
       "        [1.42303238, 1.49446719, 1.44055659, 1.73796809, 1.53175819],\n",
       "        [1.26725587, 1.93149933, 1.58977581, 1.93209337, 1.62832117]]])"
      ]
     },
     "execution_count": 20,
     "metadata": {},
     "output_type": "execute_result"
    }
   ],
   "source": [
    "a + b.transpose(1, 2, 0)"
   ]
  },
  {
   "cell_type": "code",
   "execution_count": 21,
   "id": "ec2bedc2",
   "metadata": {},
   "outputs": [
    {
     "data": {
      "text/plain": [
       "array([[[1.50941193, 1.68819739, 1.87729553, 1.61785377, 1.57347641],\n",
       "        [1.01301543, 1.98587231, 1.24467503, 1.10420571, 1.83397552],\n",
       "        [1.91609149, 1.5337963 , 1.79055486, 1.88567299, 1.34188902]],\n",
       "\n",
       "       [[1.89696033, 1.19393062, 1.85578119, 1.31989216, 1.24396504],\n",
       "        [1.42303238, 1.49446719, 1.44055659, 1.73796809, 1.53175819],\n",
       "        [1.26725587, 1.93149933, 1.58977581, 1.93209337, 1.62832117]]])"
      ]
     },
     "execution_count": 21,
     "metadata": {},
     "output_type": "execute_result"
    }
   ],
   "source": [
    "np.add(a, b.transpose(1, 2, 0))"
   ]
  },
  {
   "cell_type": "code",
   "execution_count": 22,
   "id": "569468e5",
   "metadata": {},
   "outputs": [],
   "source": [
    "c = b.transpose(1, 2, 0)"
   ]
  },
  {
   "cell_type": "code",
   "execution_count": 23,
   "id": "f59a6b04",
   "metadata": {},
   "outputs": [
    {
     "data": {
      "text/plain": [
       "array([[[1.50941193, 1.68819739, 1.87729553, 1.61785377, 1.57347641],\n",
       "        [1.01301543, 1.98587231, 1.24467503, 1.10420571, 1.83397552],\n",
       "        [1.91609149, 1.5337963 , 1.79055486, 1.88567299, 1.34188902]],\n",
       "\n",
       "       [[1.89696033, 1.19393062, 1.85578119, 1.31989216, 1.24396504],\n",
       "        [1.42303238, 1.49446719, 1.44055659, 1.73796809, 1.53175819],\n",
       "        [1.26725587, 1.93149933, 1.58977581, 1.93209337, 1.62832117]]])"
      ]
     },
     "execution_count": 23,
     "metadata": {},
     "output_type": "execute_result"
    }
   ],
   "source": [
    "d = np.add(a, c)\n",
    "\n",
    "d"
   ]
  },
  {
   "cell_type": "code",
   "execution_count": 24,
   "id": "005172c0",
   "metadata": {},
   "outputs": [
    {
     "data": {
      "text/plain": [
       "array([[[0.50941193, 0.68819739, 0.87729553, 0.61785377, 0.57347641],\n",
       "        [0.01301543, 0.98587231, 0.24467503, 0.10420571, 0.83397552],\n",
       "        [0.91609149, 0.5337963 , 0.79055486, 0.88567299, 0.34188902]],\n",
       "\n",
       "       [[0.89696033, 0.19393062, 0.85578119, 0.31989216, 0.24396504],\n",
       "        [0.42303238, 0.49446719, 0.44055659, 0.73796809, 0.53175819],\n",
       "        [0.26725587, 0.93149933, 0.58977581, 0.93209337, 0.62832117]]])"
      ]
     },
     "execution_count": 24,
     "metadata": {},
     "output_type": "execute_result"
    }
   ],
   "source": [
    "np.multiply(a, c)"
   ]
  },
  {
   "cell_type": "code",
   "execution_count": 25,
   "id": "91877930",
   "metadata": {},
   "outputs": [
    {
     "data": {
      "text/plain": [
       "array([[[0.50941193, 0.68819739, 0.87729553, 0.61785377, 0.57347641],\n",
       "        [0.01301543, 0.98587231, 0.24467503, 0.10420571, 0.83397552],\n",
       "        [0.91609149, 0.5337963 , 0.79055486, 0.88567299, 0.34188902]],\n",
       "\n",
       "       [[0.89696033, 0.19393062, 0.85578119, 0.31989216, 0.24396504],\n",
       "        [0.42303238, 0.49446719, 0.44055659, 0.73796809, 0.53175819],\n",
       "        [0.26725587, 0.93149933, 0.58977581, 0.93209337, 0.62832117]]])"
      ]
     },
     "execution_count": 25,
     "metadata": {},
     "output_type": "execute_result"
    }
   ],
   "source": [
    "a * c"
   ]
  },
  {
   "cell_type": "code",
   "execution_count": 26,
   "id": "9920430d",
   "metadata": {},
   "outputs": [
    {
     "data": {
      "text/plain": [
       "array([[[0.50941193, 0.68819739, 0.87729553, 0.61785377, 0.57347641],\n",
       "        [0.01301543, 0.98587231, 0.24467503, 0.10420571, 0.83397552],\n",
       "        [0.91609149, 0.5337963 , 0.79055486, 0.88567299, 0.34188902]],\n",
       "\n",
       "       [[0.89696033, 0.19393062, 0.85578119, 0.31989216, 0.24396504],\n",
       "        [0.42303238, 0.49446719, 0.44055659, 0.73796809, 0.53175819],\n",
       "        [0.26725587, 0.93149933, 0.58977581, 0.93209337, 0.62832117]]])"
      ]
     },
     "execution_count": 26,
     "metadata": {},
     "output_type": "execute_result"
    }
   ],
   "source": [
    "e = a * c\n",
    "\n",
    "e"
   ]
  },
  {
   "cell_type": "code",
   "execution_count": 27,
   "id": "5cde356e",
   "metadata": {},
   "outputs": [
    {
     "data": {
      "text/plain": [
       "array([[[ True,  True,  True,  True,  True],\n",
       "        [ True,  True,  True,  True,  True],\n",
       "        [ True,  True,  True,  True,  True]],\n",
       "\n",
       "       [[ True,  True,  True,  True,  True],\n",
       "        [ True,  True,  True,  True,  True],\n",
       "        [ True,  True,  True,  True,  True]]])"
      ]
     },
     "execution_count": 27,
     "metadata": {},
     "output_type": "execute_result"
    }
   ],
   "source": [
    "e == a"
   ]
  },
  {
   "cell_type": "code",
   "execution_count": 28,
   "id": "2a6a05d7",
   "metadata": {},
   "outputs": [
    {
     "data": {
      "text/plain": [
       "False"
      ]
     },
     "execution_count": 28,
     "metadata": {},
     "output_type": "execute_result"
    }
   ],
   "source": [
    "a is e"
   ]
  },
  {
   "cell_type": "code",
   "execution_count": 29,
   "id": "8dd85ba1",
   "metadata": {},
   "outputs": [
    {
     "data": {
      "text/plain": [
       "4428175280"
      ]
     },
     "execution_count": 29,
     "metadata": {},
     "output_type": "execute_result"
    }
   ],
   "source": [
    "id(a)"
   ]
  },
  {
   "cell_type": "code",
   "execution_count": 30,
   "id": "9e448ed2",
   "metadata": {},
   "outputs": [
    {
     "data": {
      "text/plain": [
       "4428485808"
      ]
     },
     "execution_count": 30,
     "metadata": {},
     "output_type": "execute_result"
    }
   ],
   "source": [
    "id(e)"
   ]
  },
  {
   "cell_type": "code",
   "execution_count": 31,
   "id": "8de88f2c",
   "metadata": {},
   "outputs": [
    {
     "data": {
      "text/plain": [
       "1.9858723131796956"
      ]
     },
     "execution_count": 31,
     "metadata": {},
     "output_type": "execute_result"
    }
   ],
   "source": [
    "d_max = d.max()\n",
    "\n",
    "d_max"
   ]
  },
  {
   "cell_type": "code",
   "execution_count": 32,
   "id": "595d8cec",
   "metadata": {},
   "outputs": [
    {
     "data": {
      "text/plain": [
       "1.580108034403412"
      ]
     },
     "execution_count": 32,
     "metadata": {},
     "output_type": "execute_result"
    }
   ],
   "source": [
    "d_mean = d.mean()\n",
    "\n",
    "d_mean"
   ]
  },
  {
   "cell_type": "code",
   "execution_count": 33,
   "id": "35a53df6",
   "metadata": {},
   "outputs": [
    {
     "data": {
      "text/plain": [
       "1.0130154316677804"
      ]
     },
     "execution_count": 33,
     "metadata": {},
     "output_type": "execute_result"
    }
   ],
   "source": [
    "d_min = d.min()\n",
    "\n",
    "d_min"
   ]
  },
  {
   "cell_type": "code",
   "execution_count": 34,
   "id": "54aff039",
   "metadata": {},
   "outputs": [
    {
     "data": {
      "text/plain": [
       "array([[[0.50941193, 0.68819739, 0.87729553, 0.61785377, 0.57347641],\n",
       "        [0.01301543, 0.98587231, 0.24467503, 0.10420571, 0.83397552],\n",
       "        [0.91609149, 0.5337963 , 0.79055486, 0.88567299, 0.34188902]],\n",
       "\n",
       "       [[0.89696033, 0.19393062, 0.85578119, 0.31989216, 0.24396504],\n",
       "        [0.42303238, 0.49446719, 0.44055659, 0.73796809, 0.53175819],\n",
       "        [0.26725587, 0.93149933, 0.58977581, 0.93209337, 0.62832117]]])"
      ]
     },
     "execution_count": 34,
     "metadata": {},
     "output_type": "execute_result"
    }
   ],
   "source": [
    "f = np.empty((2, 3, 5))   # esto esta vacio\n",
    "\n",
    "f"
   ]
  },
  {
   "cell_type": "code",
   "execution_count": 35,
   "id": "840e77f7",
   "metadata": {},
   "outputs": [
    {
     "data": {
      "text/plain": [
       "array([[[1.50941193, 1.68819739, 1.87729553, 1.61785377, 1.57347641],\n",
       "        [1.01301543, 1.98587231, 1.24467503, 1.10420571, 1.83397552],\n",
       "        [1.91609149, 1.5337963 , 1.79055486, 1.88567299, 1.34188902]],\n",
       "\n",
       "       [[1.89696033, 1.19393062, 1.85578119, 1.31989216, 1.24396504],\n",
       "        [1.42303238, 1.49446719, 1.44055659, 1.73796809, 1.53175819],\n",
       "        [1.26725587, 1.93149933, 1.58977581, 1.93209337, 1.62832117]]])"
      ]
     },
     "execution_count": 35,
     "metadata": {},
     "output_type": "execute_result"
    }
   ],
   "source": [
    "d"
   ]
  },
  {
   "cell_type": "code",
   "execution_count": 36,
   "id": "be4db892",
   "metadata": {},
   "outputs": [
    {
     "data": {
      "text/plain": [
       "(2, 3, 5)"
      ]
     },
     "execution_count": 36,
     "metadata": {},
     "output_type": "execute_result"
    }
   ],
   "source": [
    "f.shape"
   ]
  },
  {
   "cell_type": "code",
   "execution_count": 37,
   "id": "f454f71a",
   "metadata": {},
   "outputs": [],
   "source": [
    "for capa in range(f.shape[0]):   # 2 capas\n",
    "    \n",
    "    for fila in range(f.shape[1]):   # 3 filas\n",
    "        \n",
    "        for col in range(f.shape[2]):  # 5 columnas\n",
    "            \n",
    "            \n",
    "            if d_min == d[capa][fila][col]: # si es el minimo ponme cero en f\n",
    "                \n",
    "                f[capa][fila][col] = 0\n",
    "                \n",
    "            \n",
    "            elif d_min < d[capa][fila][col] < d_mean: # si esta entre el minimo y la media ponme 25\n",
    "                \n",
    "                f[capa][fila][col] = 25\n",
    "                \n",
    "                \n",
    "            elif d_mean == d[capa][fila][col]: # si es la media ponme 50 en f\n",
    "                \n",
    "                f[capa][fila][col] = 50\n",
    "                \n",
    "                \n",
    "            elif d_mean < d[capa][fila][col] < d_max: # si esta entre la media y el maximo ponme 75\n",
    "                \n",
    "                f[capa][fila][col] = 75\n",
    "                \n",
    "                \n",
    "            elif d_max == d[capa][fila][col]: # si es el maximo ponme 100 en f\n",
    "                \n",
    "                f[capa][fila][col] = 100\n",
    "        \n",
    "        \n",
    "        \n",
    "\n",
    "    \n",
    "    "
   ]
  },
  {
   "cell_type": "code",
   "execution_count": 38,
   "id": "edb9fed3",
   "metadata": {},
   "outputs": [
    {
     "data": {
      "text/plain": [
       "array([[[ 25.,  75.,  75.,  75.,  25.],\n",
       "        [  0., 100.,  25.,  25.,  75.],\n",
       "        [ 75.,  25.,  75.,  75.,  25.]],\n",
       "\n",
       "       [[ 75.,  25.,  75.,  25.,  25.],\n",
       "        [ 25.,  25.,  25.,  75.,  25.],\n",
       "        [ 25.,  75.,  75.,  75.,  75.]]])"
      ]
     },
     "execution_count": 38,
     "metadata": {},
     "output_type": "execute_result"
    }
   ],
   "source": [
    "f"
   ]
  },
  {
   "cell_type": "code",
   "execution_count": 40,
   "id": "3713b456",
   "metadata": {},
   "outputs": [],
   "source": [
    "\n",
    "\n",
    "f = f.astype('str')   # a formato string\n",
    "\n",
    "\n",
    "for capa in range(f.shape[0]):   # 2 capas\n",
    "    \n",
    "    for fila in range(f.shape[1]):   # 3 filas\n",
    "        \n",
    "        for col in range(f.shape[2]):  # 5 columnas\n",
    "            \n",
    "            \n",
    "            if d_min == d[capa][fila][col]: # si es el minimo ponme A en f\n",
    "                \n",
    "                f[capa][fila][col] = 'A'\n",
    "                \n",
    "            \n",
    "            elif d_min < d[capa][fila][col] < d_mean: # si esta entre el minimo y la media ponme B\n",
    "                \n",
    "                f[capa][fila][col] = 'B'\n",
    "                \n",
    "                \n",
    "            elif d_mean == d[capa][fila][col]: # si es la media ponme C en f\n",
    "                \n",
    "                f[capa][fila][col] = 'C'\n",
    "                \n",
    "                \n",
    "            elif d_mean < d[capa][fila][col] < d_max: # si esta entre la media y el maximo ponme D\n",
    "                \n",
    "                f[capa][fila][col] = 'D'\n",
    "                \n",
    "                \n",
    "            elif d_max == d[capa][fila][col]: # si es el maximo ponme E en f\n",
    "                \n",
    "                f[capa][fila][col] = 'E'\n",
    "        \n",
    "        \n",
    "        \n",
    "\n",
    "    \n",
    "    "
   ]
  },
  {
   "cell_type": "code",
   "execution_count": 41,
   "id": "837a9084",
   "metadata": {},
   "outputs": [
    {
     "data": {
      "text/plain": [
       "array([[['B', 'D', 'D', 'D', 'B'],\n",
       "        ['A', 'E', 'B', 'B', 'D'],\n",
       "        ['D', 'B', 'D', 'D', 'B']],\n",
       "\n",
       "       [['D', 'B', 'D', 'B', 'B'],\n",
       "        ['B', 'B', 'B', 'D', 'B'],\n",
       "        ['B', 'D', 'D', 'D', 'D']]], dtype='<U32')"
      ]
     },
     "execution_count": 41,
     "metadata": {},
     "output_type": "execute_result"
    }
   ],
   "source": [
    "f"
   ]
  },
  {
   "cell_type": "code",
   "execution_count": 43,
   "id": "23e72a75",
   "metadata": {},
   "outputs": [
    {
     "data": {
      "text/plain": [
       "str"
      ]
     },
     "execution_count": 43,
     "metadata": {},
     "output_type": "execute_result"
    }
   ],
   "source": [
    "type(str(f))"
   ]
  },
  {
   "cell_type": "code",
   "execution_count": 44,
   "id": "edc9ec30",
   "metadata": {},
   "outputs": [
    {
     "data": {
      "text/plain": [
       "numpy.ndarray"
      ]
     },
     "execution_count": 44,
     "metadata": {},
     "output_type": "execute_result"
    }
   ],
   "source": [
    "type(f)"
   ]
  },
  {
   "cell_type": "code",
   "execution_count": 45,
   "id": "a89ed397",
   "metadata": {},
   "outputs": [
    {
     "data": {
      "text/plain": [
       "array(\"[[['B' 'D' 'D' 'D' 'B']\\n  ['A' 'E' 'B' 'B' 'D']\\n  ['D' 'B' 'D' 'D' 'B']]\\n\\n [['D' 'B' 'D' 'B' 'B']\\n  ['B' 'B' 'B' 'D' 'B']\\n  ['B' 'D' 'D' 'D' 'D']]]\",\n",
       "      dtype='<U147')"
      ]
     },
     "execution_count": 45,
     "metadata": {},
     "output_type": "execute_result"
    }
   ],
   "source": [
    "np.array(str(f))"
   ]
  },
  {
   "cell_type": "code",
   "execution_count": 46,
   "id": "31211c32",
   "metadata": {},
   "outputs": [
    {
     "data": {
      "text/plain": [
       "()"
      ]
     },
     "execution_count": 46,
     "metadata": {},
     "output_type": "execute_result"
    }
   ],
   "source": [
    "np.array(str(f)).shape"
   ]
  },
  {
   "cell_type": "code",
   "execution_count": 50,
   "id": "1ce32d02",
   "metadata": {},
   "outputs": [
    {
     "data": {
      "text/plain": [
       "1"
      ]
     },
     "execution_count": 50,
     "metadata": {},
     "output_type": "execute_result"
    }
   ],
   "source": [
    "np.array(str(f)).size"
   ]
  },
  {
   "cell_type": "code",
   "execution_count": 48,
   "id": "a98a5dd7",
   "metadata": {},
   "outputs": [
    {
     "data": {
      "text/plain": [
       "array(\"[[['B' 'D' 'D' 'D' 'B']\\n  ['A' 'E' 'B' 'B' 'D']\\n  ['D' 'B' 'D' 'D' 'B']]\\n\\n [['D' 'B' 'D' 'B' 'B']\\n  ['B' 'B' 'B' 'D' 'B']\\n  ['B' 'D' 'D' 'D' 'D']]]\",\n",
       "      dtype='<U147')"
      ]
     },
     "execution_count": 48,
     "metadata": {},
     "output_type": "execute_result"
    }
   ],
   "source": [
    "np.array(str(f))"
   ]
  },
  {
   "cell_type": "code",
   "execution_count": 49,
   "id": "dc4bef5d",
   "metadata": {},
   "outputs": [
    {
     "data": {
      "text/plain": [
       "\"[[['B' 'D' 'D' 'D' 'B']\\n  ['A' 'E' 'B' 'B' 'D']\\n  ['D' 'B' 'D' 'D' 'B']]\\n\\n [['D' 'B' 'D' 'B' 'B']\\n  ['B' 'B' 'B' 'D' 'B']\\n  ['B' 'D' 'D' 'D' 'D']]]\""
      ]
     },
     "execution_count": 49,
     "metadata": {},
     "output_type": "execute_result"
    }
   ],
   "source": [
    "str(f)"
   ]
  },
  {
   "cell_type": "code",
   "execution_count": 52,
   "id": "fcd1e32b",
   "metadata": {},
   "outputs": [
    {
     "data": {
      "text/plain": [
       "1"
      ]
     },
     "execution_count": 52,
     "metadata": {},
     "output_type": "execute_result"
    }
   ],
   "source": [
    "[1,2,3,4][0]"
   ]
  },
  {
   "cell_type": "code",
   "execution_count": 54,
   "id": "0dd4c97d",
   "metadata": {},
   "outputs": [
    {
     "data": {
      "text/plain": [
       "'['"
      ]
     },
     "execution_count": 54,
     "metadata": {},
     "output_type": "execute_result"
    }
   ],
   "source": [
    "str([1,2,3,4])[0]"
   ]
  },
  {
   "cell_type": "markdown",
   "id": "8e0ad5bb",
   "metadata": {},
   "source": [
    "# Import Export"
   ]
  },
  {
   "cell_type": "code",
   "execution_count": 55,
   "id": "f8bc14e0",
   "metadata": {},
   "outputs": [],
   "source": [
    "import pandas as pd"
   ]
  },
  {
   "cell_type": "code",
   "execution_count": 56,
   "id": "78faf899",
   "metadata": {},
   "outputs": [],
   "source": [
    "ruta = 'datasets/nasa.json'"
   ]
  },
  {
   "cell_type": "code",
   "execution_count": 58,
   "id": "ae411dfa",
   "metadata": {},
   "outputs": [
    {
     "data": {
      "text/html": [
       "<div>\n",
       "<style scoped>\n",
       "    .dataframe tbody tr th:only-of-type {\n",
       "        vertical-align: middle;\n",
       "    }\n",
       "\n",
       "    .dataframe tbody tr th {\n",
       "        vertical-align: top;\n",
       "    }\n",
       "\n",
       "    .dataframe thead th {\n",
       "        text-align: right;\n",
       "    }\n",
       "</style>\n",
       "<table border=\"1\" class=\"dataframe\">\n",
       "  <thead>\n",
       "    <tr style=\"text-align: right;\">\n",
       "      <th></th>\n",
       "      <th>:@computed_region_cbhk_fwbd</th>\n",
       "      <th>:@computed_region_nnqa_25f4</th>\n",
       "      <th>fall</th>\n",
       "      <th>geolocation</th>\n",
       "      <th>id</th>\n",
       "      <th>mass</th>\n",
       "      <th>name</th>\n",
       "      <th>nametype</th>\n",
       "      <th>recclass</th>\n",
       "      <th>reclat</th>\n",
       "      <th>reclong</th>\n",
       "      <th>year</th>\n",
       "    </tr>\n",
       "  </thead>\n",
       "  <tbody>\n",
       "    <tr>\n",
       "      <th>0</th>\n",
       "      <td>NaN</td>\n",
       "      <td>NaN</td>\n",
       "      <td>Fell</td>\n",
       "      <td>{'type': 'Point', 'coordinates': [6.08333, 50....</td>\n",
       "      <td>1</td>\n",
       "      <td>21.0</td>\n",
       "      <td>Aachen</td>\n",
       "      <td>Valid</td>\n",
       "      <td>L5</td>\n",
       "      <td>50.77500</td>\n",
       "      <td>6.08333</td>\n",
       "      <td>1880-01-01T00:00:00.000</td>\n",
       "    </tr>\n",
       "    <tr>\n",
       "      <th>1</th>\n",
       "      <td>NaN</td>\n",
       "      <td>NaN</td>\n",
       "      <td>Fell</td>\n",
       "      <td>{'type': 'Point', 'coordinates': [10.23333, 56...</td>\n",
       "      <td>2</td>\n",
       "      <td>720.0</td>\n",
       "      <td>Aarhus</td>\n",
       "      <td>Valid</td>\n",
       "      <td>H6</td>\n",
       "      <td>56.18333</td>\n",
       "      <td>10.23333</td>\n",
       "      <td>1951-01-01T00:00:00.000</td>\n",
       "    </tr>\n",
       "    <tr>\n",
       "      <th>2</th>\n",
       "      <td>NaN</td>\n",
       "      <td>NaN</td>\n",
       "      <td>Fell</td>\n",
       "      <td>{'type': 'Point', 'coordinates': [-113, 54.216...</td>\n",
       "      <td>6</td>\n",
       "      <td>107000.0</td>\n",
       "      <td>Abee</td>\n",
       "      <td>Valid</td>\n",
       "      <td>EH4</td>\n",
       "      <td>54.21667</td>\n",
       "      <td>-113.00000</td>\n",
       "      <td>1952-01-01T00:00:00.000</td>\n",
       "    </tr>\n",
       "    <tr>\n",
       "      <th>3</th>\n",
       "      <td>NaN</td>\n",
       "      <td>NaN</td>\n",
       "      <td>Fell</td>\n",
       "      <td>{'type': 'Point', 'coordinates': [-99.9, 16.88...</td>\n",
       "      <td>10</td>\n",
       "      <td>1914.0</td>\n",
       "      <td>Acapulco</td>\n",
       "      <td>Valid</td>\n",
       "      <td>Acapulcoite</td>\n",
       "      <td>16.88333</td>\n",
       "      <td>-99.90000</td>\n",
       "      <td>1976-01-01T00:00:00.000</td>\n",
       "    </tr>\n",
       "    <tr>\n",
       "      <th>4</th>\n",
       "      <td>NaN</td>\n",
       "      <td>NaN</td>\n",
       "      <td>Fell</td>\n",
       "      <td>{'type': 'Point', 'coordinates': [-64.95, -33....</td>\n",
       "      <td>370</td>\n",
       "      <td>780.0</td>\n",
       "      <td>Achiras</td>\n",
       "      <td>Valid</td>\n",
       "      <td>L6</td>\n",
       "      <td>-33.16667</td>\n",
       "      <td>-64.95000</td>\n",
       "      <td>1902-01-01T00:00:00.000</td>\n",
       "    </tr>\n",
       "  </tbody>\n",
       "</table>\n",
       "</div>"
      ],
      "text/plain": [
       "   :@computed_region_cbhk_fwbd  :@computed_region_nnqa_25f4  fall  \\\n",
       "0                          NaN                          NaN  Fell   \n",
       "1                          NaN                          NaN  Fell   \n",
       "2                          NaN                          NaN  Fell   \n",
       "3                          NaN                          NaN  Fell   \n",
       "4                          NaN                          NaN  Fell   \n",
       "\n",
       "                                         geolocation   id      mass      name  \\\n",
       "0  {'type': 'Point', 'coordinates': [6.08333, 50....    1      21.0    Aachen   \n",
       "1  {'type': 'Point', 'coordinates': [10.23333, 56...    2     720.0    Aarhus   \n",
       "2  {'type': 'Point', 'coordinates': [-113, 54.216...    6  107000.0      Abee   \n",
       "3  {'type': 'Point', 'coordinates': [-99.9, 16.88...   10    1914.0  Acapulco   \n",
       "4  {'type': 'Point', 'coordinates': [-64.95, -33....  370     780.0   Achiras   \n",
       "\n",
       "  nametype     recclass    reclat    reclong                     year  \n",
       "0    Valid           L5  50.77500    6.08333  1880-01-01T00:00:00.000  \n",
       "1    Valid           H6  56.18333   10.23333  1951-01-01T00:00:00.000  \n",
       "2    Valid          EH4  54.21667 -113.00000  1952-01-01T00:00:00.000  \n",
       "3    Valid  Acapulcoite  16.88333  -99.90000  1976-01-01T00:00:00.000  \n",
       "4    Valid           L6 -33.16667  -64.95000  1902-01-01T00:00:00.000  "
      ]
     },
     "execution_count": 58,
     "metadata": {},
     "output_type": "execute_result"
    }
   ],
   "source": [
    "json_data = pd.read_json(ruta)\n",
    "\n",
    "json_data.head()"
   ]
  },
  {
   "cell_type": "code",
   "execution_count": 59,
   "id": "d384f418",
   "metadata": {},
   "outputs": [
    {
     "data": {
      "text/html": [
       "<div>\n",
       "<style scoped>\n",
       "    .dataframe tbody tr th:only-of-type {\n",
       "        vertical-align: middle;\n",
       "    }\n",
       "\n",
       "    .dataframe tbody tr th {\n",
       "        vertical-align: top;\n",
       "    }\n",
       "\n",
       "    .dataframe thead th {\n",
       "        text-align: right;\n",
       "    }\n",
       "</style>\n",
       "<table border=\"1\" class=\"dataframe\">\n",
       "  <thead>\n",
       "    <tr style=\"text-align: right;\">\n",
       "      <th></th>\n",
       "      <th>:@computed_region_cbhk_fwbd</th>\n",
       "      <th>:@computed_region_nnqa_25f4</th>\n",
       "      <th>fall</th>\n",
       "      <th>geolocation</th>\n",
       "      <th>id</th>\n",
       "      <th>mass</th>\n",
       "      <th>name</th>\n",
       "      <th>nametype</th>\n",
       "      <th>recclass</th>\n",
       "      <th>reclat</th>\n",
       "      <th>reclong</th>\n",
       "      <th>year</th>\n",
       "    </tr>\n",
       "  </thead>\n",
       "  <tbody>\n",
       "    <tr>\n",
       "      <th>0</th>\n",
       "      <td>NaN</td>\n",
       "      <td>NaN</td>\n",
       "      <td>Fell</td>\n",
       "      <td>{'type': 'Point', 'coordinates': [6.08333, 50....</td>\n",
       "      <td>1</td>\n",
       "      <td>21.0</td>\n",
       "      <td>Aachen</td>\n",
       "      <td>Valid</td>\n",
       "      <td>L5</td>\n",
       "      <td>50.77500</td>\n",
       "      <td>6.08333</td>\n",
       "      <td>1880-01-01T00:00:00.000</td>\n",
       "    </tr>\n",
       "    <tr>\n",
       "      <th>1</th>\n",
       "      <td>NaN</td>\n",
       "      <td>NaN</td>\n",
       "      <td>Fell</td>\n",
       "      <td>{'type': 'Point', 'coordinates': [10.23333, 56...</td>\n",
       "      <td>2</td>\n",
       "      <td>720.0</td>\n",
       "      <td>Aarhus</td>\n",
       "      <td>Valid</td>\n",
       "      <td>H6</td>\n",
       "      <td>56.18333</td>\n",
       "      <td>10.23333</td>\n",
       "      <td>1951-01-01T00:00:00.000</td>\n",
       "    </tr>\n",
       "    <tr>\n",
       "      <th>2</th>\n",
       "      <td>NaN</td>\n",
       "      <td>NaN</td>\n",
       "      <td>Fell</td>\n",
       "      <td>{'type': 'Point', 'coordinates': [-113, 54.216...</td>\n",
       "      <td>6</td>\n",
       "      <td>107000.0</td>\n",
       "      <td>Abee</td>\n",
       "      <td>Valid</td>\n",
       "      <td>EH4</td>\n",
       "      <td>54.21667</td>\n",
       "      <td>-113.00000</td>\n",
       "      <td>1952-01-01T00:00:00.000</td>\n",
       "    </tr>\n",
       "    <tr>\n",
       "      <th>3</th>\n",
       "      <td>NaN</td>\n",
       "      <td>NaN</td>\n",
       "      <td>Fell</td>\n",
       "      <td>{'type': 'Point', 'coordinates': [-99.9, 16.88...</td>\n",
       "      <td>10</td>\n",
       "      <td>1914.0</td>\n",
       "      <td>Acapulco</td>\n",
       "      <td>Valid</td>\n",
       "      <td>Acapulcoite</td>\n",
       "      <td>16.88333</td>\n",
       "      <td>-99.90000</td>\n",
       "      <td>1976-01-01T00:00:00.000</td>\n",
       "    </tr>\n",
       "    <tr>\n",
       "      <th>4</th>\n",
       "      <td>NaN</td>\n",
       "      <td>NaN</td>\n",
       "      <td>Fell</td>\n",
       "      <td>{'type': 'Point', 'coordinates': [-64.95, -33....</td>\n",
       "      <td>370</td>\n",
       "      <td>780.0</td>\n",
       "      <td>Achiras</td>\n",
       "      <td>Valid</td>\n",
       "      <td>L6</td>\n",
       "      <td>-33.16667</td>\n",
       "      <td>-64.95000</td>\n",
       "      <td>1902-01-01T00:00:00.000</td>\n",
       "    </tr>\n",
       "  </tbody>\n",
       "</table>\n",
       "</div>"
      ],
      "text/plain": [
       "   :@computed_region_cbhk_fwbd  :@computed_region_nnqa_25f4  fall  \\\n",
       "0                          NaN                          NaN  Fell   \n",
       "1                          NaN                          NaN  Fell   \n",
       "2                          NaN                          NaN  Fell   \n",
       "3                          NaN                          NaN  Fell   \n",
       "4                          NaN                          NaN  Fell   \n",
       "\n",
       "                                         geolocation   id      mass      name  \\\n",
       "0  {'type': 'Point', 'coordinates': [6.08333, 50....    1      21.0    Aachen   \n",
       "1  {'type': 'Point', 'coordinates': [10.23333, 56...    2     720.0    Aarhus   \n",
       "2  {'type': 'Point', 'coordinates': [-113, 54.216...    6  107000.0      Abee   \n",
       "3  {'type': 'Point', 'coordinates': [-99.9, 16.88...   10    1914.0  Acapulco   \n",
       "4  {'type': 'Point', 'coordinates': [-64.95, -33....  370     780.0   Achiras   \n",
       "\n",
       "  nametype     recclass    reclat    reclong                     year  \n",
       "0    Valid           L5  50.77500    6.08333  1880-01-01T00:00:00.000  \n",
       "1    Valid           H6  56.18333   10.23333  1951-01-01T00:00:00.000  \n",
       "2    Valid          EH4  54.21667 -113.00000  1952-01-01T00:00:00.000  \n",
       "3    Valid  Acapulcoite  16.88333  -99.90000  1976-01-01T00:00:00.000  \n",
       "4    Valid           L6 -33.16667  -64.95000  1902-01-01T00:00:00.000  "
      ]
     },
     "execution_count": 59,
     "metadata": {},
     "output_type": "execute_result"
    }
   ],
   "source": [
    "nasa = pd.read_json(ruta)\n",
    "\n",
    "nasa.head()"
   ]
  },
  {
   "cell_type": "code",
   "execution_count": 60,
   "id": "8fdc6770",
   "metadata": {},
   "outputs": [
    {
     "name": "stdout",
     "output_type": "stream",
     "text": [
      "     :@computed_region_cbhk_fwbd  :@computed_region_nnqa_25f4  fall  \\\n",
      "0                            NaN                          NaN  Fell   \n",
      "1                            NaN                          NaN  Fell   \n",
      "2                            NaN                          NaN  Fell   \n",
      "3                            NaN                          NaN  Fell   \n",
      "4                            NaN                          NaN  Fell   \n",
      "..                           ...                          ...   ...   \n",
      "995                          NaN                          NaN  Fell   \n",
      "996                          NaN                          NaN  Fell   \n",
      "997                          NaN                          NaN  Fell   \n",
      "998                          NaN                          NaN  Fell   \n",
      "999                          NaN                          NaN  Fell   \n",
      "\n",
      "                                           geolocation     id      mass  \\\n",
      "0    {'type': 'Point', 'coordinates': [6.08333, 50....      1      21.0   \n",
      "1    {'type': 'Point', 'coordinates': [10.23333, 56...      2     720.0   \n",
      "2    {'type': 'Point', 'coordinates': [-113, 54.216...      6  107000.0   \n",
      "3    {'type': 'Point', 'coordinates': [-99.9, 16.88...     10    1914.0   \n",
      "4    {'type': 'Point', 'coordinates': [-64.95, -33....    370     780.0   \n",
      "..                                                 ...    ...       ...   \n",
      "995  {'type': 'Point', 'coordinates': [79.41667, 13...  24009     230.0   \n",
      "996  {'type': 'Point', 'coordinates': [-7.61123, 29...  54823    7000.0   \n",
      "997  {'type': 'Point', 'coordinates': [111.53333, -...  24011   20000.0   \n",
      "998  {'type': 'Point', 'coordinates': [106.58333, -...  24012   16500.0   \n",
      "999  {'type': 'Point', 'coordinates': [34.76667, 47...  24019     600.0   \n",
      "\n",
      "          name nametype               recclass    reclat    reclong  \\\n",
      "0       Aachen    Valid                     L5  50.77500    6.08333   \n",
      "1       Aarhus    Valid                     H6  56.18333   10.23333   \n",
      "2         Abee    Valid                    EH4  54.21667 -113.00000   \n",
      "3     Acapulco    Valid            Acapulcoite  16.88333  -99.90000   \n",
      "4      Achiras    Valid                     L6 -33.16667  -64.95000   \n",
      "..         ...      ...                    ...       ...        ...   \n",
      "995   Tirupati    Valid                     H6  13.63333   79.41667   \n",
      "996    Tissint    Valid  Martian (shergottite)  29.48195   -7.61123   \n",
      "997      Tjabe    Valid                     H6  -7.08333  111.53333   \n",
      "998   Tjerebon    Valid                     L5  -6.66667  106.58333   \n",
      "999  Tomakovka    Valid                    LL6  47.85000   34.76667   \n",
      "\n",
      "                        year  \n",
      "0    1880-01-01T00:00:00.000  \n",
      "1    1951-01-01T00:00:00.000  \n",
      "2    1952-01-01T00:00:00.000  \n",
      "3    1976-01-01T00:00:00.000  \n",
      "4    1902-01-01T00:00:00.000  \n",
      "..                       ...  \n",
      "995  1934-01-01T00:00:00.000  \n",
      "996  2011-01-01T00:00:00.000  \n",
      "997  1869-01-01T00:00:00.000  \n",
      "998  1922-01-01T00:00:00.000  \n",
      "999  1905-01-01T00:00:00.000  \n",
      "\n",
      "[1000 rows x 12 columns]\n"
     ]
    }
   ],
   "source": [
    "print(nasa)"
   ]
  },
  {
   "cell_type": "code",
   "execution_count": 62,
   "id": "c2469fe2",
   "metadata": {},
   "outputs": [
    {
     "data": {
      "text/html": [
       "<div>\n",
       "<style scoped>\n",
       "    .dataframe tbody tr th:only-of-type {\n",
       "        vertical-align: middle;\n",
       "    }\n",
       "\n",
       "    .dataframe tbody tr th {\n",
       "        vertical-align: top;\n",
       "    }\n",
       "\n",
       "    .dataframe thead th {\n",
       "        text-align: right;\n",
       "    }\n",
       "</style>\n",
       "<table border=\"1\" class=\"dataframe\">\n",
       "  <thead>\n",
       "    <tr style=\"text-align: right;\">\n",
       "      <th></th>\n",
       "      <th>:@computed_region_cbhk_fwbd</th>\n",
       "      <th>:@computed_region_nnqa_25f4</th>\n",
       "      <th>fall</th>\n",
       "      <th>geolocation</th>\n",
       "      <th>id</th>\n",
       "      <th>mass</th>\n",
       "      <th>name</th>\n",
       "      <th>nametype</th>\n",
       "      <th>recclass</th>\n",
       "      <th>reclat</th>\n",
       "      <th>reclong</th>\n",
       "      <th>year</th>\n",
       "    </tr>\n",
       "  </thead>\n",
       "  <tbody>\n",
       "    <tr>\n",
       "      <th>0</th>\n",
       "      <td>NaN</td>\n",
       "      <td>NaN</td>\n",
       "      <td>Fell</td>\n",
       "      <td>{'type': 'Point', 'coordinates': [6.08333, 50....</td>\n",
       "      <td>1</td>\n",
       "      <td>21.0</td>\n",
       "      <td>Aachen</td>\n",
       "      <td>Valid</td>\n",
       "      <td>L5</td>\n",
       "      <td>50.77500</td>\n",
       "      <td>6.08333</td>\n",
       "      <td>1880-01-01T00:00:00.000</td>\n",
       "    </tr>\n",
       "    <tr>\n",
       "      <th>1</th>\n",
       "      <td>NaN</td>\n",
       "      <td>NaN</td>\n",
       "      <td>Fell</td>\n",
       "      <td>{'type': 'Point', 'coordinates': [10.23333, 56...</td>\n",
       "      <td>2</td>\n",
       "      <td>720.0</td>\n",
       "      <td>Aarhus</td>\n",
       "      <td>Valid</td>\n",
       "      <td>H6</td>\n",
       "      <td>56.18333</td>\n",
       "      <td>10.23333</td>\n",
       "      <td>1951-01-01T00:00:00.000</td>\n",
       "    </tr>\n",
       "    <tr>\n",
       "      <th>2</th>\n",
       "      <td>NaN</td>\n",
       "      <td>NaN</td>\n",
       "      <td>Fell</td>\n",
       "      <td>{'type': 'Point', 'coordinates': [-113, 54.216...</td>\n",
       "      <td>6</td>\n",
       "      <td>107000.0</td>\n",
       "      <td>Abee</td>\n",
       "      <td>Valid</td>\n",
       "      <td>EH4</td>\n",
       "      <td>54.21667</td>\n",
       "      <td>-113.00000</td>\n",
       "      <td>1952-01-01T00:00:00.000</td>\n",
       "    </tr>\n",
       "    <tr>\n",
       "      <th>3</th>\n",
       "      <td>NaN</td>\n",
       "      <td>NaN</td>\n",
       "      <td>Fell</td>\n",
       "      <td>{'type': 'Point', 'coordinates': [-99.9, 16.88...</td>\n",
       "      <td>10</td>\n",
       "      <td>1914.0</td>\n",
       "      <td>Acapulco</td>\n",
       "      <td>Valid</td>\n",
       "      <td>Acapulcoite</td>\n",
       "      <td>16.88333</td>\n",
       "      <td>-99.90000</td>\n",
       "      <td>1976-01-01T00:00:00.000</td>\n",
       "    </tr>\n",
       "    <tr>\n",
       "      <th>4</th>\n",
       "      <td>NaN</td>\n",
       "      <td>NaN</td>\n",
       "      <td>Fell</td>\n",
       "      <td>{'type': 'Point', 'coordinates': [-64.95, -33....</td>\n",
       "      <td>370</td>\n",
       "      <td>780.0</td>\n",
       "      <td>Achiras</td>\n",
       "      <td>Valid</td>\n",
       "      <td>L6</td>\n",
       "      <td>-33.16667</td>\n",
       "      <td>-64.95000</td>\n",
       "      <td>1902-01-01T00:00:00.000</td>\n",
       "    </tr>\n",
       "  </tbody>\n",
       "</table>\n",
       "</div>"
      ],
      "text/plain": [
       "   :@computed_region_cbhk_fwbd  :@computed_region_nnqa_25f4  fall  \\\n",
       "0                          NaN                          NaN  Fell   \n",
       "1                          NaN                          NaN  Fell   \n",
       "2                          NaN                          NaN  Fell   \n",
       "3                          NaN                          NaN  Fell   \n",
       "4                          NaN                          NaN  Fell   \n",
       "\n",
       "                                         geolocation   id      mass      name  \\\n",
       "0  {'type': 'Point', 'coordinates': [6.08333, 50....    1      21.0    Aachen   \n",
       "1  {'type': 'Point', 'coordinates': [10.23333, 56...    2     720.0    Aarhus   \n",
       "2  {'type': 'Point', 'coordinates': [-113, 54.216...    6  107000.0      Abee   \n",
       "3  {'type': 'Point', 'coordinates': [-99.9, 16.88...   10    1914.0  Acapulco   \n",
       "4  {'type': 'Point', 'coordinates': [-64.95, -33....  370     780.0   Achiras   \n",
       "\n",
       "  nametype     recclass    reclat    reclong                     year  \n",
       "0    Valid           L5  50.77500    6.08333  1880-01-01T00:00:00.000  \n",
       "1    Valid           H6  56.18333   10.23333  1951-01-01T00:00:00.000  \n",
       "2    Valid          EH4  54.21667 -113.00000  1952-01-01T00:00:00.000  \n",
       "3    Valid  Acapulcoite  16.88333  -99.90000  1976-01-01T00:00:00.000  \n",
       "4    Valid           L6 -33.16667  -64.95000  1902-01-01T00:00:00.000  "
      ]
     },
     "metadata": {},
     "output_type": "display_data"
    }
   ],
   "source": [
    "display(nasa.head())"
   ]
  },
  {
   "cell_type": "code",
   "execution_count": 63,
   "id": "e543c27e",
   "metadata": {},
   "outputs": [
    {
     "data": {
      "text/html": [
       "<div>\n",
       "<style scoped>\n",
       "    .dataframe tbody tr th:only-of-type {\n",
       "        vertical-align: middle;\n",
       "    }\n",
       "\n",
       "    .dataframe tbody tr th {\n",
       "        vertical-align: top;\n",
       "    }\n",
       "\n",
       "    .dataframe thead th {\n",
       "        text-align: right;\n",
       "    }\n",
       "</style>\n",
       "<table border=\"1\" class=\"dataframe\">\n",
       "  <thead>\n",
       "    <tr style=\"text-align: right;\">\n",
       "      <th></th>\n",
       "      <th>:@computed_region_cbhk_fwbd</th>\n",
       "      <th>:@computed_region_nnqa_25f4</th>\n",
       "      <th>fall</th>\n",
       "      <th>geolocation</th>\n",
       "      <th>id</th>\n",
       "      <th>mass</th>\n",
       "      <th>name</th>\n",
       "      <th>nametype</th>\n",
       "      <th>recclass</th>\n",
       "      <th>reclat</th>\n",
       "      <th>reclong</th>\n",
       "      <th>year</th>\n",
       "    </tr>\n",
       "  </thead>\n",
       "  <tbody>\n",
       "    <tr>\n",
       "      <th>0</th>\n",
       "      <td>NaN</td>\n",
       "      <td>NaN</td>\n",
       "      <td>Fell</td>\n",
       "      <td>{'type': 'Point', 'coordinates': [6.08333, 50....</td>\n",
       "      <td>1</td>\n",
       "      <td>21.0</td>\n",
       "      <td>Aachen</td>\n",
       "      <td>Valid</td>\n",
       "      <td>L5</td>\n",
       "      <td>50.77500</td>\n",
       "      <td>6.08333</td>\n",
       "      <td>1880-01-01T00:00:00.000</td>\n",
       "    </tr>\n",
       "    <tr>\n",
       "      <th>1</th>\n",
       "      <td>NaN</td>\n",
       "      <td>NaN</td>\n",
       "      <td>Fell</td>\n",
       "      <td>{'type': 'Point', 'coordinates': [10.23333, 56...</td>\n",
       "      <td>2</td>\n",
       "      <td>720.0</td>\n",
       "      <td>Aarhus</td>\n",
       "      <td>Valid</td>\n",
       "      <td>H6</td>\n",
       "      <td>56.18333</td>\n",
       "      <td>10.23333</td>\n",
       "      <td>1951-01-01T00:00:00.000</td>\n",
       "    </tr>\n",
       "    <tr>\n",
       "      <th>2</th>\n",
       "      <td>NaN</td>\n",
       "      <td>NaN</td>\n",
       "      <td>Fell</td>\n",
       "      <td>{'type': 'Point', 'coordinates': [-113, 54.216...</td>\n",
       "      <td>6</td>\n",
       "      <td>107000.0</td>\n",
       "      <td>Abee</td>\n",
       "      <td>Valid</td>\n",
       "      <td>EH4</td>\n",
       "      <td>54.21667</td>\n",
       "      <td>-113.00000</td>\n",
       "      <td>1952-01-01T00:00:00.000</td>\n",
       "    </tr>\n",
       "    <tr>\n",
       "      <th>3</th>\n",
       "      <td>NaN</td>\n",
       "      <td>NaN</td>\n",
       "      <td>Fell</td>\n",
       "      <td>{'type': 'Point', 'coordinates': [-99.9, 16.88...</td>\n",
       "      <td>10</td>\n",
       "      <td>1914.0</td>\n",
       "      <td>Acapulco</td>\n",
       "      <td>Valid</td>\n",
       "      <td>Acapulcoite</td>\n",
       "      <td>16.88333</td>\n",
       "      <td>-99.90000</td>\n",
       "      <td>1976-01-01T00:00:00.000</td>\n",
       "    </tr>\n",
       "    <tr>\n",
       "      <th>4</th>\n",
       "      <td>NaN</td>\n",
       "      <td>NaN</td>\n",
       "      <td>Fell</td>\n",
       "      <td>{'type': 'Point', 'coordinates': [-64.95, -33....</td>\n",
       "      <td>370</td>\n",
       "      <td>780.0</td>\n",
       "      <td>Achiras</td>\n",
       "      <td>Valid</td>\n",
       "      <td>L6</td>\n",
       "      <td>-33.16667</td>\n",
       "      <td>-64.95000</td>\n",
       "      <td>1902-01-01T00:00:00.000</td>\n",
       "    </tr>\n",
       "  </tbody>\n",
       "</table>\n",
       "</div>"
      ],
      "text/plain": [
       "   :@computed_region_cbhk_fwbd  :@computed_region_nnqa_25f4  fall  \\\n",
       "0                          NaN                          NaN  Fell   \n",
       "1                          NaN                          NaN  Fell   \n",
       "2                          NaN                          NaN  Fell   \n",
       "3                          NaN                          NaN  Fell   \n",
       "4                          NaN                          NaN  Fell   \n",
       "\n",
       "                                         geolocation   id      mass      name  \\\n",
       "0  {'type': 'Point', 'coordinates': [6.08333, 50....    1      21.0    Aachen   \n",
       "1  {'type': 'Point', 'coordinates': [10.23333, 56...    2     720.0    Aarhus   \n",
       "2  {'type': 'Point', 'coordinates': [-113, 54.216...    6  107000.0      Abee   \n",
       "3  {'type': 'Point', 'coordinates': [-99.9, 16.88...   10    1914.0  Acapulco   \n",
       "4  {'type': 'Point', 'coordinates': [-64.95, -33....  370     780.0   Achiras   \n",
       "\n",
       "  nametype     recclass    reclat    reclong                     year  \n",
       "0    Valid           L5  50.77500    6.08333  1880-01-01T00:00:00.000  \n",
       "1    Valid           H6  56.18333   10.23333  1951-01-01T00:00:00.000  \n",
       "2    Valid          EH4  54.21667 -113.00000  1952-01-01T00:00:00.000  \n",
       "3    Valid  Acapulcoite  16.88333  -99.90000  1976-01-01T00:00:00.000  \n",
       "4    Valid           L6 -33.16667  -64.95000  1902-01-01T00:00:00.000  "
      ]
     },
     "execution_count": 63,
     "metadata": {},
     "output_type": "execute_result"
    }
   ],
   "source": [
    "nasa.head()   # la ultima fila de cada celda del jupyter hace display"
   ]
  },
  {
   "cell_type": "code",
   "execution_count": 67,
   "id": "761c7091",
   "metadata": {},
   "outputs": [
    {
     "data": {
      "text/plain": [
       "Fell     996\n",
       "Found      4\n",
       "Name: fall, dtype: int64"
      ]
     },
     "execution_count": 67,
     "metadata": {},
     "output_type": "execute_result"
    }
   ],
   "source": [
    "nasa['fall'].value_counts()"
   ]
  },
  {
   "cell_type": "code",
   "execution_count": 68,
   "id": "43e6919d",
   "metadata": {},
   "outputs": [],
   "source": [
    "nasa.to_json('nasa.json', orient='records')"
   ]
  },
  {
   "cell_type": "code",
   "execution_count": 69,
   "id": "f124d4e7",
   "metadata": {},
   "outputs": [],
   "source": [
    "nasa.to_json('nasa.json', orient='index')"
   ]
  },
  {
   "cell_type": "code",
   "execution_count": 70,
   "id": "fcd16b89",
   "metadata": {},
   "outputs": [],
   "source": [
    "nasa.to_json('nasa.json', orient='columns')"
   ]
  },
  {
   "cell_type": "code",
   "execution_count": 81,
   "id": "76d3404b",
   "metadata": {},
   "outputs": [],
   "source": [
    "cols = ['time', 'rad_flow', 'fpv_close', 'fpv_open', 'high', 'bypass', 'bpv_close', 'bpv_open', 'class', '']\n",
    "tst_url = 'https://archive.ics.uci.edu/ml/machine-learning-databases/statlog/shuttle/shuttle.tst'"
   ]
  },
  {
   "cell_type": "code",
   "execution_count": 82,
   "id": "bfa45cef",
   "metadata": {},
   "outputs": [
    {
     "data": {
      "text/html": [
       "<div>\n",
       "<style scoped>\n",
       "    .dataframe tbody tr th:only-of-type {\n",
       "        vertical-align: middle;\n",
       "    }\n",
       "\n",
       "    .dataframe tbody tr th {\n",
       "        vertical-align: top;\n",
       "    }\n",
       "\n",
       "    .dataframe thead th {\n",
       "        text-align: right;\n",
       "    }\n",
       "</style>\n",
       "<table border=\"1\" class=\"dataframe\">\n",
       "  <thead>\n",
       "    <tr style=\"text-align: right;\">\n",
       "      <th></th>\n",
       "      <th>0</th>\n",
       "      <th>1</th>\n",
       "      <th>2</th>\n",
       "      <th>3</th>\n",
       "      <th>4</th>\n",
       "      <th>5</th>\n",
       "      <th>6</th>\n",
       "      <th>7</th>\n",
       "      <th>8</th>\n",
       "      <th>9</th>\n",
       "    </tr>\n",
       "  </thead>\n",
       "  <tbody>\n",
       "    <tr>\n",
       "      <th>0</th>\n",
       "      <td>55</td>\n",
       "      <td>0</td>\n",
       "      <td>81</td>\n",
       "      <td>0</td>\n",
       "      <td>-6</td>\n",
       "      <td>11</td>\n",
       "      <td>25</td>\n",
       "      <td>88</td>\n",
       "      <td>64</td>\n",
       "      <td>4</td>\n",
       "    </tr>\n",
       "    <tr>\n",
       "      <th>1</th>\n",
       "      <td>56</td>\n",
       "      <td>0</td>\n",
       "      <td>96</td>\n",
       "      <td>0</td>\n",
       "      <td>52</td>\n",
       "      <td>-4</td>\n",
       "      <td>40</td>\n",
       "      <td>44</td>\n",
       "      <td>4</td>\n",
       "      <td>4</td>\n",
       "    </tr>\n",
       "    <tr>\n",
       "      <th>2</th>\n",
       "      <td>50</td>\n",
       "      <td>-1</td>\n",
       "      <td>89</td>\n",
       "      <td>-7</td>\n",
       "      <td>50</td>\n",
       "      <td>0</td>\n",
       "      <td>39</td>\n",
       "      <td>40</td>\n",
       "      <td>2</td>\n",
       "      <td>1</td>\n",
       "    </tr>\n",
       "    <tr>\n",
       "      <th>3</th>\n",
       "      <td>53</td>\n",
       "      <td>9</td>\n",
       "      <td>79</td>\n",
       "      <td>0</td>\n",
       "      <td>42</td>\n",
       "      <td>-2</td>\n",
       "      <td>25</td>\n",
       "      <td>37</td>\n",
       "      <td>12</td>\n",
       "      <td>4</td>\n",
       "    </tr>\n",
       "    <tr>\n",
       "      <th>4</th>\n",
       "      <td>55</td>\n",
       "      <td>2</td>\n",
       "      <td>82</td>\n",
       "      <td>0</td>\n",
       "      <td>54</td>\n",
       "      <td>-6</td>\n",
       "      <td>26</td>\n",
       "      <td>28</td>\n",
       "      <td>2</td>\n",
       "      <td>1</td>\n",
       "    </tr>\n",
       "  </tbody>\n",
       "</table>\n",
       "</div>"
      ],
      "text/plain": [
       "    0  1   2  3   4   5   6   7   8  9\n",
       "0  55  0  81  0  -6  11  25  88  64  4\n",
       "1  56  0  96  0  52  -4  40  44   4  4\n",
       "2  50 -1  89 -7  50   0  39  40   2  1\n",
       "3  53  9  79  0  42  -2  25  37  12  4\n",
       "4  55  2  82  0  54  -6  26  28   2  1"
      ]
     },
     "execution_count": 82,
     "metadata": {},
     "output_type": "execute_result"
    }
   ],
   "source": [
    "shuttle = pd.read_csv(tst_url, sep=' ', header=None)\n",
    "\n",
    "shuttle.head()"
   ]
  },
  {
   "cell_type": "code",
   "execution_count": 83,
   "id": "8f5baca1",
   "metadata": {},
   "outputs": [],
   "source": [
    "shuttle.columns = cols"
   ]
  },
  {
   "cell_type": "code",
   "execution_count": 84,
   "id": "79d15a61",
   "metadata": {},
   "outputs": [
    {
     "data": {
      "text/html": [
       "<div>\n",
       "<style scoped>\n",
       "    .dataframe tbody tr th:only-of-type {\n",
       "        vertical-align: middle;\n",
       "    }\n",
       "\n",
       "    .dataframe tbody tr th {\n",
       "        vertical-align: top;\n",
       "    }\n",
       "\n",
       "    .dataframe thead th {\n",
       "        text-align: right;\n",
       "    }\n",
       "</style>\n",
       "<table border=\"1\" class=\"dataframe\">\n",
       "  <thead>\n",
       "    <tr style=\"text-align: right;\">\n",
       "      <th></th>\n",
       "      <th>time</th>\n",
       "      <th>rad_flow</th>\n",
       "      <th>fpv_close</th>\n",
       "      <th>fpv_open</th>\n",
       "      <th>high</th>\n",
       "      <th>bypass</th>\n",
       "      <th>bpv_close</th>\n",
       "      <th>bpv_open</th>\n",
       "      <th>class</th>\n",
       "      <th></th>\n",
       "    </tr>\n",
       "  </thead>\n",
       "  <tbody>\n",
       "    <tr>\n",
       "      <th>0</th>\n",
       "      <td>55</td>\n",
       "      <td>0</td>\n",
       "      <td>81</td>\n",
       "      <td>0</td>\n",
       "      <td>-6</td>\n",
       "      <td>11</td>\n",
       "      <td>25</td>\n",
       "      <td>88</td>\n",
       "      <td>64</td>\n",
       "      <td>4</td>\n",
       "    </tr>\n",
       "    <tr>\n",
       "      <th>1</th>\n",
       "      <td>56</td>\n",
       "      <td>0</td>\n",
       "      <td>96</td>\n",
       "      <td>0</td>\n",
       "      <td>52</td>\n",
       "      <td>-4</td>\n",
       "      <td>40</td>\n",
       "      <td>44</td>\n",
       "      <td>4</td>\n",
       "      <td>4</td>\n",
       "    </tr>\n",
       "    <tr>\n",
       "      <th>2</th>\n",
       "      <td>50</td>\n",
       "      <td>-1</td>\n",
       "      <td>89</td>\n",
       "      <td>-7</td>\n",
       "      <td>50</td>\n",
       "      <td>0</td>\n",
       "      <td>39</td>\n",
       "      <td>40</td>\n",
       "      <td>2</td>\n",
       "      <td>1</td>\n",
       "    </tr>\n",
       "    <tr>\n",
       "      <th>3</th>\n",
       "      <td>53</td>\n",
       "      <td>9</td>\n",
       "      <td>79</td>\n",
       "      <td>0</td>\n",
       "      <td>42</td>\n",
       "      <td>-2</td>\n",
       "      <td>25</td>\n",
       "      <td>37</td>\n",
       "      <td>12</td>\n",
       "      <td>4</td>\n",
       "    </tr>\n",
       "    <tr>\n",
       "      <th>4</th>\n",
       "      <td>55</td>\n",
       "      <td>2</td>\n",
       "      <td>82</td>\n",
       "      <td>0</td>\n",
       "      <td>54</td>\n",
       "      <td>-6</td>\n",
       "      <td>26</td>\n",
       "      <td>28</td>\n",
       "      <td>2</td>\n",
       "      <td>1</td>\n",
       "    </tr>\n",
       "  </tbody>\n",
       "</table>\n",
       "</div>"
      ],
      "text/plain": [
       "   time  rad_flow  fpv_close  fpv_open  high  bypass  bpv_close  bpv_open  \\\n",
       "0    55         0         81         0    -6      11         25        88   \n",
       "1    56         0         96         0    52      -4         40        44   \n",
       "2    50        -1         89        -7    50       0         39        40   \n",
       "3    53         9         79         0    42      -2         25        37   \n",
       "4    55         2         82         0    54      -6         26        28   \n",
       "\n",
       "   class     \n",
       "0     64  4  \n",
       "1      4  4  \n",
       "2      2  1  \n",
       "3     12  4  \n",
       "4      2  1  "
      ]
     },
     "execution_count": 84,
     "metadata": {},
     "output_type": "execute_result"
    }
   ],
   "source": [
    "shuttle.head()"
   ]
  },
  {
   "cell_type": "code",
   "execution_count": 85,
   "id": "45773755",
   "metadata": {},
   "outputs": [],
   "source": [
    "shuttle.to_csv('datasets/shuttle.csv')"
   ]
  },
  {
   "cell_type": "code",
   "execution_count": 87,
   "id": "951ac45d",
   "metadata": {},
   "outputs": [],
   "source": [
    "astronaut = pd.read_excel('datasets/astronauts.xls')"
   ]
  },
  {
   "cell_type": "code",
   "execution_count": 88,
   "id": "721a8720",
   "metadata": {},
   "outputs": [
    {
     "data": {
      "text/html": [
       "<div>\n",
       "<style scoped>\n",
       "    .dataframe tbody tr th:only-of-type {\n",
       "        vertical-align: middle;\n",
       "    }\n",
       "\n",
       "    .dataframe tbody tr th {\n",
       "        vertical-align: top;\n",
       "    }\n",
       "\n",
       "    .dataframe thead th {\n",
       "        text-align: right;\n",
       "    }\n",
       "</style>\n",
       "<table border=\"1\" class=\"dataframe\">\n",
       "  <thead>\n",
       "    <tr style=\"text-align: right;\">\n",
       "      <th></th>\n",
       "      <th>Name</th>\n",
       "      <th>Year</th>\n",
       "      <th>Group</th>\n",
       "      <th>Status</th>\n",
       "      <th>Birth Date</th>\n",
       "      <th>Birth Place</th>\n",
       "      <th>Gender</th>\n",
       "      <th>Alma Mater</th>\n",
       "      <th>Undergraduate Major</th>\n",
       "      <th>Graduate Major</th>\n",
       "      <th>Military Rank</th>\n",
       "      <th>Military Branch</th>\n",
       "      <th>Space Flights</th>\n",
       "      <th>Space Flight (hr)</th>\n",
       "      <th>Space Walks</th>\n",
       "      <th>Space Walks (hr)</th>\n",
       "      <th>Missions</th>\n",
       "      <th>Death Date</th>\n",
       "      <th>Death Mission</th>\n",
       "    </tr>\n",
       "  </thead>\n",
       "  <tbody>\n",
       "    <tr>\n",
       "      <th>0</th>\n",
       "      <td>Joseph M. Acaba</td>\n",
       "      <td>2004.0</td>\n",
       "      <td>19.0</td>\n",
       "      <td>Active</td>\n",
       "      <td>1967-05-17</td>\n",
       "      <td>Inglewood, CA</td>\n",
       "      <td>Male</td>\n",
       "      <td>University of California-Santa Barbara; Univer...</td>\n",
       "      <td>Geology</td>\n",
       "      <td>Geology</td>\n",
       "      <td>NaN</td>\n",
       "      <td>NaN</td>\n",
       "      <td>2</td>\n",
       "      <td>3307</td>\n",
       "      <td>2</td>\n",
       "      <td>13.0</td>\n",
       "      <td>STS-119 (Discovery), ISS-31/32 (Soyuz)</td>\n",
       "      <td>NaT</td>\n",
       "      <td>NaN</td>\n",
       "    </tr>\n",
       "    <tr>\n",
       "      <th>1</th>\n",
       "      <td>Loren W. Acton</td>\n",
       "      <td>NaN</td>\n",
       "      <td>NaN</td>\n",
       "      <td>Retired</td>\n",
       "      <td>1936-03-07</td>\n",
       "      <td>Lewiston, MT</td>\n",
       "      <td>Male</td>\n",
       "      <td>Montana State University; University of Colorado</td>\n",
       "      <td>Engineering Physics</td>\n",
       "      <td>Solar Physics</td>\n",
       "      <td>NaN</td>\n",
       "      <td>NaN</td>\n",
       "      <td>1</td>\n",
       "      <td>190</td>\n",
       "      <td>0</td>\n",
       "      <td>0.0</td>\n",
       "      <td>STS 51-F (Challenger)</td>\n",
       "      <td>NaT</td>\n",
       "      <td>NaN</td>\n",
       "    </tr>\n",
       "    <tr>\n",
       "      <th>2</th>\n",
       "      <td>James C. Adamson</td>\n",
       "      <td>1984.0</td>\n",
       "      <td>10.0</td>\n",
       "      <td>Retired</td>\n",
       "      <td>1946-03-03</td>\n",
       "      <td>Warsaw, NY</td>\n",
       "      <td>Male</td>\n",
       "      <td>US Military Academy; Princeton University</td>\n",
       "      <td>Engineering</td>\n",
       "      <td>Aerospace Engineering</td>\n",
       "      <td>Colonel</td>\n",
       "      <td>US Army (Retired)</td>\n",
       "      <td>2</td>\n",
       "      <td>334</td>\n",
       "      <td>0</td>\n",
       "      <td>0.0</td>\n",
       "      <td>STS-28 (Columbia), STS-43 (Atlantis)</td>\n",
       "      <td>NaT</td>\n",
       "      <td>NaN</td>\n",
       "    </tr>\n",
       "    <tr>\n",
       "      <th>3</th>\n",
       "      <td>Thomas D. Akers</td>\n",
       "      <td>1987.0</td>\n",
       "      <td>12.0</td>\n",
       "      <td>Retired</td>\n",
       "      <td>1951-05-20</td>\n",
       "      <td>St. Louis, MO</td>\n",
       "      <td>Male</td>\n",
       "      <td>University of Missouri-Rolla</td>\n",
       "      <td>Applied Mathematics</td>\n",
       "      <td>Applied Mathematics</td>\n",
       "      <td>Colonel</td>\n",
       "      <td>US Air Force (Retired)</td>\n",
       "      <td>4</td>\n",
       "      <td>814</td>\n",
       "      <td>4</td>\n",
       "      <td>29.0</td>\n",
       "      <td>STS-41 (Discovery), STS-49 (Endeavor), STS-61 ...</td>\n",
       "      <td>NaT</td>\n",
       "      <td>NaN</td>\n",
       "    </tr>\n",
       "    <tr>\n",
       "      <th>4</th>\n",
       "      <td>Buzz Aldrin</td>\n",
       "      <td>1963.0</td>\n",
       "      <td>3.0</td>\n",
       "      <td>Retired</td>\n",
       "      <td>1930-01-20</td>\n",
       "      <td>Montclair, NJ</td>\n",
       "      <td>Male</td>\n",
       "      <td>US Military Academy; MIT</td>\n",
       "      <td>Mechanical Engineering</td>\n",
       "      <td>Astronautics</td>\n",
       "      <td>Colonel</td>\n",
       "      <td>US Air Force (Retired)</td>\n",
       "      <td>2</td>\n",
       "      <td>289</td>\n",
       "      <td>2</td>\n",
       "      <td>8.0</td>\n",
       "      <td>Gemini 12, Apollo 11</td>\n",
       "      <td>NaT</td>\n",
       "      <td>NaN</td>\n",
       "    </tr>\n",
       "  </tbody>\n",
       "</table>\n",
       "</div>"
      ],
      "text/plain": [
       "               Name    Year  Group   Status Birth Date    Birth Place Gender  \\\n",
       "0   Joseph M. Acaba  2004.0   19.0   Active 1967-05-17  Inglewood, CA   Male   \n",
       "1    Loren W. Acton     NaN    NaN  Retired 1936-03-07   Lewiston, MT   Male   \n",
       "2  James C. Adamson  1984.0   10.0  Retired 1946-03-03     Warsaw, NY   Male   \n",
       "3   Thomas D. Akers  1987.0   12.0  Retired 1951-05-20  St. Louis, MO   Male   \n",
       "4       Buzz Aldrin  1963.0    3.0  Retired 1930-01-20  Montclair, NJ   Male   \n",
       "\n",
       "                                          Alma Mater     Undergraduate Major  \\\n",
       "0  University of California-Santa Barbara; Univer...                 Geology   \n",
       "1   Montana State University; University of Colorado     Engineering Physics   \n",
       "2          US Military Academy; Princeton University             Engineering   \n",
       "3                       University of Missouri-Rolla     Applied Mathematics   \n",
       "4                           US Military Academy; MIT  Mechanical Engineering   \n",
       "\n",
       "          Graduate Major Military Rank         Military Branch  Space Flights  \\\n",
       "0                Geology           NaN                     NaN              2   \n",
       "1          Solar Physics           NaN                     NaN              1   \n",
       "2  Aerospace Engineering       Colonel       US Army (Retired)              2   \n",
       "3    Applied Mathematics       Colonel  US Air Force (Retired)              4   \n",
       "4           Astronautics       Colonel  US Air Force (Retired)              2   \n",
       "\n",
       "   Space Flight (hr)  Space Walks  Space Walks (hr)  \\\n",
       "0               3307            2              13.0   \n",
       "1                190            0               0.0   \n",
       "2                334            0               0.0   \n",
       "3                814            4              29.0   \n",
       "4                289            2               8.0   \n",
       "\n",
       "                                            Missions Death Date Death Mission  \n",
       "0             STS-119 (Discovery), ISS-31/32 (Soyuz)        NaT           NaN  \n",
       "1                              STS 51-F (Challenger)        NaT           NaN  \n",
       "2               STS-28 (Columbia), STS-43 (Atlantis)        NaT           NaN  \n",
       "3  STS-41 (Discovery), STS-49 (Endeavor), STS-61 ...        NaT           NaN  \n",
       "4                               Gemini 12, Apollo 11        NaT           NaN  "
      ]
     },
     "execution_count": 88,
     "metadata": {},
     "output_type": "execute_result"
    }
   ],
   "source": [
    "astronaut.head()"
   ]
  },
  {
   "cell_type": "code",
   "execution_count": 91,
   "id": "e41f4b71",
   "metadata": {},
   "outputs": [
    {
     "data": {
      "text/plain": [
       "Physics                                  35\n",
       "Aerospace Engineering                    33\n",
       "Mechanical Engineering                   30\n",
       "Aeronautical Engineering                 28\n",
       "Electrical Engineering                   23\n",
       "                                         ..\n",
       "Astronomy                                 1\n",
       "Marine Engineering & Nautical Science     1\n",
       "Philosophy                                1\n",
       "Bioscience                                1\n",
       "Military Science                          1\n",
       "Name: Undergraduate Major, Length: 83, dtype: int64"
      ]
     },
     "execution_count": 91,
     "metadata": {},
     "output_type": "execute_result"
    }
   ],
   "source": [
    "astronaut['Undergraduate Major'].value_counts()"
   ]
  },
  {
   "cell_type": "code",
   "execution_count": 92,
   "id": "16cef52f",
   "metadata": {},
   "outputs": [],
   "source": [
    "astronaut.to_csv('datasets/astronaut.csv')"
   ]
  },
  {
   "cell_type": "code",
   "execution_count": 93,
   "id": "4b0f992c",
   "metadata": {},
   "outputs": [],
   "source": [
    "astronaut.to_csv('datasets/astronaut.csv', sep='\\t')"
   ]
  },
  {
   "cell_type": "code",
   "execution_count": 94,
   "id": "50a67940",
   "metadata": {},
   "outputs": [],
   "source": [
    "astronaut.to_csv('datasets/astronaut.csv', sep=';')"
   ]
  },
  {
   "cell_type": "code",
   "execution_count": null,
   "id": "5f805bc8",
   "metadata": {},
   "outputs": [],
   "source": []
  },
  {
   "cell_type": "code",
   "execution_count": 95,
   "id": "aa428e4c",
   "metadata": {},
   "outputs": [
    {
     "data": {
      "text/plain": [
       "['Season',\n",
       " 'Age',\n",
       " 'Childish',\n",
       " 'Accident',\n",
       " 'Surgical',\n",
       " 'High fevers',\n",
       " 'Frequency of alcohol consumption',\n",
       " 'Smoking habit',\n",
       " 'Number of hours spent sitting per day',\n",
       " 'Output']"
      ]
     },
     "execution_count": 95,
     "metadata": {},
     "output_type": "execute_result"
    }
   ],
   "source": [
    "cols_fert=['Season', 'Age', 'Childish', 'Accident', 'Surgical', 'High fevers', 'Frequency of alcohol consumption', 'Smoking habit', 'Number of hours spent sitting per day', 'Output']\n",
    "\n",
    "cols_fert"
   ]
  },
  {
   "cell_type": "code",
   "execution_count": 97,
   "id": "7d7a0f99",
   "metadata": {},
   "outputs": [
    {
     "data": {
      "text/html": [
       "<div>\n",
       "<style scoped>\n",
       "    .dataframe tbody tr th:only-of-type {\n",
       "        vertical-align: middle;\n",
       "    }\n",
       "\n",
       "    .dataframe tbody tr th {\n",
       "        vertical-align: top;\n",
       "    }\n",
       "\n",
       "    .dataframe thead th {\n",
       "        text-align: right;\n",
       "    }\n",
       "</style>\n",
       "<table border=\"1\" class=\"dataframe\">\n",
       "  <thead>\n",
       "    <tr style=\"text-align: right;\">\n",
       "      <th></th>\n",
       "      <th>0</th>\n",
       "      <th>1</th>\n",
       "      <th>2</th>\n",
       "      <th>3</th>\n",
       "      <th>4</th>\n",
       "      <th>5</th>\n",
       "      <th>6</th>\n",
       "      <th>7</th>\n",
       "      <th>8</th>\n",
       "      <th>9</th>\n",
       "    </tr>\n",
       "  </thead>\n",
       "  <tbody>\n",
       "    <tr>\n",
       "      <th>0</th>\n",
       "      <td>-0.33</td>\n",
       "      <td>0.69</td>\n",
       "      <td>0</td>\n",
       "      <td>1</td>\n",
       "      <td>1</td>\n",
       "      <td>0</td>\n",
       "      <td>0.8</td>\n",
       "      <td>0</td>\n",
       "      <td>0.88</td>\n",
       "      <td>N</td>\n",
       "    </tr>\n",
       "    <tr>\n",
       "      <th>1</th>\n",
       "      <td>-0.33</td>\n",
       "      <td>0.94</td>\n",
       "      <td>1</td>\n",
       "      <td>0</td>\n",
       "      <td>1</td>\n",
       "      <td>0</td>\n",
       "      <td>0.8</td>\n",
       "      <td>1</td>\n",
       "      <td>0.31</td>\n",
       "      <td>O</td>\n",
       "    </tr>\n",
       "    <tr>\n",
       "      <th>2</th>\n",
       "      <td>-0.33</td>\n",
       "      <td>0.50</td>\n",
       "      <td>1</td>\n",
       "      <td>0</td>\n",
       "      <td>0</td>\n",
       "      <td>0</td>\n",
       "      <td>1.0</td>\n",
       "      <td>-1</td>\n",
       "      <td>0.50</td>\n",
       "      <td>N</td>\n",
       "    </tr>\n",
       "    <tr>\n",
       "      <th>3</th>\n",
       "      <td>-0.33</td>\n",
       "      <td>0.75</td>\n",
       "      <td>0</td>\n",
       "      <td>1</td>\n",
       "      <td>1</td>\n",
       "      <td>0</td>\n",
       "      <td>1.0</td>\n",
       "      <td>-1</td>\n",
       "      <td>0.38</td>\n",
       "      <td>N</td>\n",
       "    </tr>\n",
       "    <tr>\n",
       "      <th>4</th>\n",
       "      <td>-0.33</td>\n",
       "      <td>0.67</td>\n",
       "      <td>1</td>\n",
       "      <td>1</td>\n",
       "      <td>0</td>\n",
       "      <td>0</td>\n",
       "      <td>0.8</td>\n",
       "      <td>-1</td>\n",
       "      <td>0.50</td>\n",
       "      <td>O</td>\n",
       "    </tr>\n",
       "  </tbody>\n",
       "</table>\n",
       "</div>"
      ],
      "text/plain": [
       "      0     1  2  3  4  5    6  7     8  9\n",
       "0 -0.33  0.69  0  1  1  0  0.8  0  0.88  N\n",
       "1 -0.33  0.94  1  0  1  0  0.8  1  0.31  O\n",
       "2 -0.33  0.50  1  0  0  0  1.0 -1  0.50  N\n",
       "3 -0.33  0.75  0  1  1  0  1.0 -1  0.38  N\n",
       "4 -0.33  0.67  1  1  0  0  0.8 -1  0.50  O"
      ]
     },
     "execution_count": 97,
     "metadata": {},
     "output_type": "execute_result"
    }
   ],
   "source": [
    "fert = pd.read_csv('datasets/fertility_Diagnosis.txt', header=None)\n",
    "\n",
    "fert.head()"
   ]
  },
  {
   "cell_type": "code",
   "execution_count": 98,
   "id": "02b19367",
   "metadata": {},
   "outputs": [],
   "source": [
    "fert.columns = cols_fert"
   ]
  },
  {
   "cell_type": "code",
   "execution_count": 99,
   "id": "0f4d138e",
   "metadata": {},
   "outputs": [
    {
     "data": {
      "text/html": [
       "<div>\n",
       "<style scoped>\n",
       "    .dataframe tbody tr th:only-of-type {\n",
       "        vertical-align: middle;\n",
       "    }\n",
       "\n",
       "    .dataframe tbody tr th {\n",
       "        vertical-align: top;\n",
       "    }\n",
       "\n",
       "    .dataframe thead th {\n",
       "        text-align: right;\n",
       "    }\n",
       "</style>\n",
       "<table border=\"1\" class=\"dataframe\">\n",
       "  <thead>\n",
       "    <tr style=\"text-align: right;\">\n",
       "      <th></th>\n",
       "      <th>Season</th>\n",
       "      <th>Age</th>\n",
       "      <th>Childish</th>\n",
       "      <th>Accident</th>\n",
       "      <th>Surgical</th>\n",
       "      <th>High fevers</th>\n",
       "      <th>Frequency of alcohol consumption</th>\n",
       "      <th>Smoking habit</th>\n",
       "      <th>Number of hours spent sitting per day</th>\n",
       "      <th>Output</th>\n",
       "    </tr>\n",
       "  </thead>\n",
       "  <tbody>\n",
       "    <tr>\n",
       "      <th>0</th>\n",
       "      <td>-0.33</td>\n",
       "      <td>0.69</td>\n",
       "      <td>0</td>\n",
       "      <td>1</td>\n",
       "      <td>1</td>\n",
       "      <td>0</td>\n",
       "      <td>0.8</td>\n",
       "      <td>0</td>\n",
       "      <td>0.88</td>\n",
       "      <td>N</td>\n",
       "    </tr>\n",
       "    <tr>\n",
       "      <th>1</th>\n",
       "      <td>-0.33</td>\n",
       "      <td>0.94</td>\n",
       "      <td>1</td>\n",
       "      <td>0</td>\n",
       "      <td>1</td>\n",
       "      <td>0</td>\n",
       "      <td>0.8</td>\n",
       "      <td>1</td>\n",
       "      <td>0.31</td>\n",
       "      <td>O</td>\n",
       "    </tr>\n",
       "    <tr>\n",
       "      <th>2</th>\n",
       "      <td>-0.33</td>\n",
       "      <td>0.50</td>\n",
       "      <td>1</td>\n",
       "      <td>0</td>\n",
       "      <td>0</td>\n",
       "      <td>0</td>\n",
       "      <td>1.0</td>\n",
       "      <td>-1</td>\n",
       "      <td>0.50</td>\n",
       "      <td>N</td>\n",
       "    </tr>\n",
       "    <tr>\n",
       "      <th>3</th>\n",
       "      <td>-0.33</td>\n",
       "      <td>0.75</td>\n",
       "      <td>0</td>\n",
       "      <td>1</td>\n",
       "      <td>1</td>\n",
       "      <td>0</td>\n",
       "      <td>1.0</td>\n",
       "      <td>-1</td>\n",
       "      <td>0.38</td>\n",
       "      <td>N</td>\n",
       "    </tr>\n",
       "    <tr>\n",
       "      <th>4</th>\n",
       "      <td>-0.33</td>\n",
       "      <td>0.67</td>\n",
       "      <td>1</td>\n",
       "      <td>1</td>\n",
       "      <td>0</td>\n",
       "      <td>0</td>\n",
       "      <td>0.8</td>\n",
       "      <td>-1</td>\n",
       "      <td>0.50</td>\n",
       "      <td>O</td>\n",
       "    </tr>\n",
       "  </tbody>\n",
       "</table>\n",
       "</div>"
      ],
      "text/plain": [
       "   Season   Age  Childish  Accident  Surgical  High fevers  \\\n",
       "0   -0.33  0.69         0         1         1            0   \n",
       "1   -0.33  0.94         1         0         1            0   \n",
       "2   -0.33  0.50         1         0         0            0   \n",
       "3   -0.33  0.75         0         1         1            0   \n",
       "4   -0.33  0.67         1         1         0            0   \n",
       "\n",
       "   Frequency of alcohol consumption  Smoking habit  \\\n",
       "0                               0.8              0   \n",
       "1                               0.8              1   \n",
       "2                               1.0             -1   \n",
       "3                               1.0             -1   \n",
       "4                               0.8             -1   \n",
       "\n",
       "   Number of hours spent sitting per day Output  \n",
       "0                                   0.88      N  \n",
       "1                                   0.31      O  \n",
       "2                                   0.50      N  \n",
       "3                                   0.38      N  \n",
       "4                                   0.50      O  "
      ]
     },
     "execution_count": 99,
     "metadata": {},
     "output_type": "execute_result"
    }
   ],
   "source": [
    "fert.head()"
   ]
  },
  {
   "cell_type": "code",
   "execution_count": 100,
   "id": "d8e2cc54",
   "metadata": {},
   "outputs": [],
   "source": [
    "fert.to_csv('datasets/fert.csv')"
   ]
  },
  {
   "cell_type": "code",
   "execution_count": 104,
   "id": "7cc70240",
   "metadata": {},
   "outputs": [
    {
     "data": {
      "text/plain": [
       "0.669"
      ]
     },
     "execution_count": 104,
     "metadata": {},
     "output_type": "execute_result"
    }
   ],
   "source": [
    "fert.Age.mean()"
   ]
  },
  {
   "cell_type": "code",
   "execution_count": null,
   "id": "bbceebb3",
   "metadata": {},
   "outputs": [],
   "source": []
  }
 ],
 "metadata": {
  "kernelspec": {
   "display_name": "clase",
   "language": "python",
   "name": "clase"
  },
  "language_info": {
   "codemirror_mode": {
    "name": "ipython",
    "version": 3
   },
   "file_extension": ".py",
   "mimetype": "text/x-python",
   "name": "python",
   "nbconvert_exporter": "python",
   "pygments_lexer": "ipython3",
   "version": "3.9.12"
  }
 },
 "nbformat": 4,
 "nbformat_minor": 5
}
