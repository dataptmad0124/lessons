{
 "cells": [
  {
   "cell_type": "markdown",
   "id": "053c3aae",
   "metadata": {},
   "source": [
    "# List Comprehension"
   ]
  },
  {
   "cell_type": "code",
   "execution_count": 1,
   "id": "23480d2d",
   "metadata": {},
   "outputs": [
    {
     "name": "stdout",
     "output_type": "stream",
     "text": [
      "CPU times: user 3 µs, sys: 1 µs, total: 4 µs\n",
      "Wall time: 12.2 µs\n"
     ]
    }
   ],
   "source": [
    "%%time"
   ]
  },
  {
   "cell_type": "code",
   "execution_count": 2,
   "id": "96a75281",
   "metadata": {},
   "outputs": [
    {
     "name": "stdout",
     "output_type": "stream",
     "text": [
      "CPU times: user 61.5 ms, sys: 6.04 ms, total: 67.5 ms\n",
      "Wall time: 66.5 ms\n"
     ]
    },
    {
     "data": {
      "text/plain": [
       "[0, 1, 2, 3, 4, 5, 6, 7, 8, 9]"
      ]
     },
     "execution_count": 2,
     "metadata": {},
     "output_type": "execute_result"
    }
   ],
   "source": [
    "%%time\n",
    "\n",
    "lst = []\n",
    "\n",
    "\n",
    "for i in range(1000000):\n",
    "    \n",
    "    lst.append(i)\n",
    "    \n",
    "    \n",
    "lst[:10]"
   ]
  },
  {
   "cell_type": "code",
   "execution_count": 3,
   "id": "f7eaa35c",
   "metadata": {},
   "outputs": [
    {
     "data": {
      "text/plain": [
       "1000000"
      ]
     },
     "execution_count": 3,
     "metadata": {},
     "output_type": "execute_result"
    }
   ],
   "source": [
    "len(lst)"
   ]
  },
  {
   "cell_type": "code",
   "execution_count": 4,
   "id": "d6cc540a",
   "metadata": {},
   "outputs": [
    {
     "name": "stdout",
     "output_type": "stream",
     "text": [
      "CPU times: user 43.6 ms, sys: 13.8 ms, total: 57.3 ms\n",
      "Wall time: 56.1 ms\n"
     ]
    },
    {
     "data": {
      "text/plain": [
       "[0, 1, 2, 3, 4, 5, 6, 7, 8, 9]"
      ]
     },
     "execution_count": 4,
     "metadata": {},
     "output_type": "execute_result"
    }
   ],
   "source": [
    "%%time\n",
    "\n",
    "lst = [i for i in range(1000000)]\n",
    "\n",
    "lst[:10]"
   ]
  },
  {
   "cell_type": "code",
   "execution_count": 5,
   "id": "415182c7",
   "metadata": {},
   "outputs": [
    {
     "data": {
      "text/plain": [
       "1000000"
      ]
     },
     "execution_count": 5,
     "metadata": {},
     "output_type": "execute_result"
    }
   ],
   "source": [
    "len(lst)"
   ]
  },
  {
   "cell_type": "code",
   "execution_count": 6,
   "id": "daeb99bb",
   "metadata": {},
   "outputs": [
    {
     "data": {
      "text/plain": [
       "['hola', 'gdejnfg', 'adios', 'oierufn9', 'poreopkpowk']"
      ]
     },
     "execution_count": 6,
     "metadata": {},
     "output_type": "execute_result"
    }
   ],
   "source": [
    "palabras = ['hola', 'gdejnfg', 'adios', 'oierufn9', 'poreopkpowk']\n",
    "\n",
    "palabras"
   ]
  },
  {
   "cell_type": "code",
   "execution_count": 12,
   "id": "ff685a20",
   "metadata": {},
   "outputs": [
    {
     "data": {
      "text/plain": [
       "['HOLA', 'GDEJNFG', 'ADIOS', 'OIERUFN9', 'POREOPKPOWK']"
      ]
     },
     "execution_count": 12,
     "metadata": {},
     "output_type": "execute_result"
    }
   ],
   "source": [
    "mayus = []\n",
    "\n",
    "\n",
    "for e in palabras:\n",
    "    \n",
    "    mayus.append(e.upper())\n",
    "    \n",
    "mayus"
   ]
  },
  {
   "cell_type": "code",
   "execution_count": 9,
   "id": "1a6932aa",
   "metadata": {},
   "outputs": [
    {
     "data": {
      "text/plain": [
       "['HOLA', 'GDEJNFG', 'ADIOS', 'OIERUFN9', 'POREOPKPOWK']"
      ]
     },
     "execution_count": 9,
     "metadata": {},
     "output_type": "execute_result"
    }
   ],
   "source": [
    "mayus2 = [e.upper() for e in palabras]\n",
    "\n",
    "mayus2"
   ]
  },
  {
   "cell_type": "code",
   "execution_count": 14,
   "id": "077dfd44",
   "metadata": {},
   "outputs": [
    {
     "ename": "AttributeError",
     "evalue": "'list' object has no attribute 'capitalize'",
     "output_type": "error",
     "traceback": [
      "\u001b[0;31m---------------------------------------------------------------------------\u001b[0m",
      "\u001b[0;31mAttributeError\u001b[0m                            Traceback (most recent call last)",
      "Cell \u001b[0;32mIn[14], line 1\u001b[0m\n\u001b[0;32m----> 1\u001b[0m \u001b[43mmayus\u001b[49m\u001b[38;5;241;43m.\u001b[39;49m\u001b[43mcapitalize\u001b[49m()\n",
      "\u001b[0;31mAttributeError\u001b[0m: 'list' object has no attribute 'capitalize'"
     ]
    }
   ],
   "source": [
    "mayus.capitalize()"
   ]
  },
  {
   "cell_type": "code",
   "execution_count": 15,
   "id": "840e4c78",
   "metadata": {},
   "outputs": [
    {
     "data": {
      "text/plain": [
       "list"
      ]
     },
     "execution_count": 15,
     "metadata": {},
     "output_type": "execute_result"
    }
   ],
   "source": [
    "type(mayus)"
   ]
  },
  {
   "cell_type": "code",
   "execution_count": 16,
   "id": "d1712b71",
   "metadata": {
    "scrolled": true
   },
   "outputs": [
    {
     "data": {
      "text/plain": [
       "[0, 2, 4, 6, 8, 10, 12, 14, 16, 18]"
      ]
     },
     "execution_count": 16,
     "metadata": {},
     "output_type": "execute_result"
    }
   ],
   "source": [
    "lst = []\n",
    "\n",
    "\n",
    "for i in range(20):\n",
    "    \n",
    "    if i%2==0:\n",
    "        \n",
    "        lst.append(i)\n",
    "        \n",
    "        \n",
    "lst"
   ]
  },
  {
   "cell_type": "code",
   "execution_count": 18,
   "id": "f510ff7f",
   "metadata": {},
   "outputs": [
    {
     "data": {
      "text/plain": [
       "[0, 2, 4, 6, 8, 10, 12, 14, 16, 18]"
      ]
     },
     "execution_count": 18,
     "metadata": {},
     "output_type": "execute_result"
    }
   ],
   "source": [
    "lst2 = [i for i in range(20) if i%2==0]\n",
    "\n",
    "\n",
    "lst2"
   ]
  },
  {
   "cell_type": "code",
   "execution_count": 19,
   "id": "c025e9af",
   "metadata": {},
   "outputs": [
    {
     "data": {
      "text/plain": [
       "[0, 11, 2, 13, 4, 15, 6, 17, 8, 19, 10, 21, 12, 23, 14, 25, 16, 27, 18, 29]"
      ]
     },
     "execution_count": 19,
     "metadata": {},
     "output_type": "execute_result"
    }
   ],
   "source": [
    "lst = []\n",
    "\n",
    "\n",
    "for i in range(20):\n",
    "    \n",
    "    if i%2==0:\n",
    "        \n",
    "        lst.append(i)\n",
    "        \n",
    "    elif i%2==1:\n",
    "        \n",
    "        lst.append(i+10)\n",
    "        \n",
    "        \n",
    "lst"
   ]
  },
  {
   "cell_type": "code",
   "execution_count": 20,
   "id": "743b8a68",
   "metadata": {},
   "outputs": [
    {
     "data": {
      "text/plain": [
       "[0, 11, 2, 13, 4, 15, 6, 17, 8, 19, 10, 21, 12, 23, 14, 25, 16, 27, 18, 29]"
      ]
     },
     "execution_count": 20,
     "metadata": {},
     "output_type": "execute_result"
    }
   ],
   "source": [
    "lst2 = [i if i%2==0 else i+10 for i in range(20)]\n",
    "\n",
    "\n",
    "lst2"
   ]
  },
  {
   "cell_type": "code",
   "execution_count": 22,
   "id": "bd8ee66c",
   "metadata": {},
   "outputs": [
    {
     "data": {
      "text/plain": [
       "[0, 11, 'hola', 3, 14, 'hola', 6, 17, 'hola', 9]"
      ]
     },
     "execution_count": 22,
     "metadata": {},
     "output_type": "execute_result"
    }
   ],
   "source": [
    "lst = []\n",
    "\n",
    "\n",
    "for i in range(10):\n",
    "    \n",
    "    if i%3==0:\n",
    "        \n",
    "        lst.append(i)\n",
    "        \n",
    "    elif i%3==1:\n",
    "        \n",
    "        lst.append(i+10)\n",
    "        \n",
    "    else:\n",
    "        \n",
    "        lst.append('hola')\n",
    "        \n",
    "        \n",
    "lst"
   ]
  },
  {
   "cell_type": "code",
   "execution_count": 24,
   "id": "917ef4f8",
   "metadata": {},
   "outputs": [
    {
     "data": {
      "text/plain": [
       "[0, 11, 'hola', 3, 14, 'hola', 6, 17, 'hola', 9]"
      ]
     },
     "execution_count": 24,
     "metadata": {},
     "output_type": "execute_result"
    }
   ],
   "source": [
    "lst2 = [i if i%3==0 else (i+10 if i%3==1 else 'hola') for i in range(10)]\n",
    "\n",
    "\n",
    "lst2"
   ]
  },
  {
   "cell_type": "code",
   "execution_count": 25,
   "id": "c158a1d1",
   "metadata": {},
   "outputs": [
    {
     "data": {
      "text/plain": [
       "[[1, 2, 3], [4, 5, 6], [7, 8, 9]]"
      ]
     },
     "execution_count": 25,
     "metadata": {},
     "output_type": "execute_result"
    }
   ],
   "source": [
    "matriz = [[1,2,3], [4,5,6], [7,8,9]]\n",
    "\n",
    "matriz"
   ]
  },
  {
   "cell_type": "code",
   "execution_count": 26,
   "id": "13f34d4e",
   "metadata": {},
   "outputs": [
    {
     "data": {
      "text/plain": [
       "3"
      ]
     },
     "execution_count": 26,
     "metadata": {},
     "output_type": "execute_result"
    }
   ],
   "source": [
    "len(matriz)"
   ]
  },
  {
   "cell_type": "code",
   "execution_count": 29,
   "id": "e056679d",
   "metadata": {},
   "outputs": [
    {
     "data": {
      "text/plain": [
       "[1, 2, 3, 4, 5, 6, 7, 8, 9]"
      ]
     },
     "execution_count": 29,
     "metadata": {},
     "output_type": "execute_result"
    }
   ],
   "source": [
    "flat = []\n",
    "\n",
    "\n",
    "for fila in matriz:\n",
    "    \n",
    "    for elem in fila:\n",
    "        \n",
    "        flat.append(elem)\n",
    "        \n",
    "flat"
   ]
  },
  {
   "cell_type": "code",
   "execution_count": 31,
   "id": "15ab9039",
   "metadata": {},
   "outputs": [
    {
     "data": {
      "text/plain": [
       "[1, 2, 3, 4, 5, 6, 7, 8, 9]"
      ]
     },
     "execution_count": 31,
     "metadata": {},
     "output_type": "execute_result"
    }
   ],
   "source": [
    "flat2 = [elem for fila in matriz for elem in fila]\n",
    "\n",
    "\n",
    "flat2"
   ]
  },
  {
   "cell_type": "code",
   "execution_count": 32,
   "id": "4adf3408",
   "metadata": {},
   "outputs": [
    {
     "data": {
      "text/plain": [
       "[2, 4, 6, 8]"
      ]
     },
     "execution_count": 32,
     "metadata": {},
     "output_type": "execute_result"
    }
   ],
   "source": [
    "flat = []\n",
    "\n",
    "\n",
    "for fila in matriz:\n",
    "    \n",
    "    for elem in fila:\n",
    "        \n",
    "        if elem%2==0:\n",
    "            \n",
    "            flat.append(elem)\n",
    "\n",
    "        \n",
    "flat"
   ]
  },
  {
   "cell_type": "code",
   "execution_count": 34,
   "id": "b3d042c5",
   "metadata": {},
   "outputs": [
    {
     "data": {
      "text/plain": [
       "[2, 4, 6, 8]"
      ]
     },
     "execution_count": 34,
     "metadata": {},
     "output_type": "execute_result"
    }
   ],
   "source": [
    "flat2 = [elem for fila in matriz for elem in fila if elem%2==0]\n",
    "\n",
    "flat2"
   ]
  },
  {
   "cell_type": "code",
   "execution_count": 39,
   "id": "e3f86ce5",
   "metadata": {},
   "outputs": [
    {
     "data": {
      "text/plain": [
       "[9, 9, 9]"
      ]
     },
     "execution_count": 39,
     "metadata": {},
     "output_type": "execute_result"
    }
   ],
   "source": [
    "matriz = []\n",
    "\n",
    "\n",
    "for fila in range(3):\n",
    "    \n",
    "    tmp_lst = 9\n",
    "        \n",
    "    matriz.append(tmp_lst)\n",
    "    \n",
    "matriz"
   ]
  },
  {
   "cell_type": "code",
   "execution_count": 40,
   "id": "29e9bed8",
   "metadata": {},
   "outputs": [
    {
     "data": {
      "text/plain": [
       "[9, 9, 9]"
      ]
     },
     "execution_count": 40,
     "metadata": {},
     "output_type": "execute_result"
    }
   ],
   "source": [
    "matriz = [9 for fila in range(3)]\n",
    "\n",
    "matriz"
   ]
  },
  {
   "cell_type": "code",
   "execution_count": 36,
   "id": "10923315",
   "metadata": {},
   "outputs": [
    {
     "data": {
      "text/plain": [
       "[[0, 1, 2, 3], [0, 1, 2, 3], [0, 1, 2, 3]]"
      ]
     },
     "execution_count": 36,
     "metadata": {},
     "output_type": "execute_result"
    }
   ],
   "source": [
    "matriz = []\n",
    "\n",
    "\n",
    "for fila in range(3):\n",
    "    \n",
    "    tmp_lst = []\n",
    "    \n",
    "    for elem in range(4):\n",
    "        \n",
    "        tmp_lst.append(elem)\n",
    "        \n",
    "    matriz.append(tmp_lst)\n",
    "    \n",
    "matriz"
   ]
  },
  {
   "cell_type": "code",
   "execution_count": 38,
   "id": "78de876c",
   "metadata": {},
   "outputs": [
    {
     "data": {
      "text/plain": [
       "[[0, 1, 2, 3], [0, 1, 2, 3], [0, 1, 2, 3]]"
      ]
     },
     "execution_count": 38,
     "metadata": {},
     "output_type": "execute_result"
    }
   ],
   "source": [
    "matriz2 = [[elem for elem in range(4)] for fila in range(3)]\n",
    "\n",
    "matriz2"
   ]
  },
  {
   "cell_type": "code",
   "execution_count": 42,
   "id": "f4971bbe",
   "metadata": {},
   "outputs": [
    {
     "data": {
      "text/plain": [
       "[1, 2, 3, 4, 5, 6, 7, 8, 9, 10]"
      ]
     },
     "execution_count": 42,
     "metadata": {},
     "output_type": "execute_result"
    }
   ],
   "source": [
    "# Ejercicio 1 - lista de 1 a 50\n",
    "\n",
    "\n",
    "lst = []\n",
    "\n",
    "for i in range(1, 51):\n",
    "    \n",
    "    lst.append(i)\n",
    "    \n",
    "lst[:10]"
   ]
  },
  {
   "cell_type": "code",
   "execution_count": 45,
   "id": "98d97ace",
   "metadata": {},
   "outputs": [
    {
     "data": {
      "text/plain": [
       "[1, 2, 3, 4]"
      ]
     },
     "execution_count": 45,
     "metadata": {},
     "output_type": "execute_result"
    }
   ],
   "source": [
    "lst = [i for i in range(1, 51)]\n",
    "\n",
    "lst[:4]"
   ]
  },
  {
   "cell_type": "markdown",
   "id": "983d844a",
   "metadata": {},
   "source": [
    "__Worth reading:__\n",
    "\n",
    "- https://medium.com/techtofreedom/8-levels-of-using-list-comprehension-in-python-efc3c339a1f0\n",
    "\n",
    "- https://betterprogramming.pub/3-misuses-of-python-list-comprehension-to-avoid-54adc312e48c\n"
   ]
  }
 ],
 "metadata": {
  "kernelspec": {
   "display_name": "clase",
   "language": "python",
   "name": "clase"
  },
  "language_info": {
   "codemirror_mode": {
    "name": "ipython",
    "version": 3
   },
   "file_extension": ".py",
   "mimetype": "text/x-python",
   "name": "python",
   "nbconvert_exporter": "python",
   "pygments_lexer": "ipython3",
   "version": "3.9.12"
  }
 },
 "nbformat": 4,
 "nbformat_minor": 5
}
