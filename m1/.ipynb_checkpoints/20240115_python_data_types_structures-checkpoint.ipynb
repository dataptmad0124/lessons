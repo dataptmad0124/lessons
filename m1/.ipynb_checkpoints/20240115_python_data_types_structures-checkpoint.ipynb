{
 "cells": [
  {
   "cell_type": "markdown",
   "id": "74222d4c",
   "metadata": {},
   "source": [
    "# Data Types\n",
    "\n",
    "- __String__\n",
    "    \n",
    "- __Integer__\n",
    "    \n",
    "- __Float__\n",
    "\n",
    "- __Boolean__"
   ]
  },
  {
   "cell_type": "code",
   "execution_count": 1,
   "id": "00de4c17",
   "metadata": {},
   "outputs": [
    {
     "data": {
      "text/plain": [
       "'hola que tal?'"
      ]
     },
     "execution_count": 1,
     "metadata": {},
     "output_type": "execute_result"
    }
   ],
   "source": [
    "# strings (cadena de caracteres)\n",
    "\n",
    "texto = 'hola que tal?'\n",
    "\n",
    "texto"
   ]
  },
  {
   "cell_type": "code",
   "execution_count": 2,
   "id": "7fa35d80",
   "metadata": {},
   "outputs": [
    {
     "data": {
      "text/plain": [
       "str"
      ]
     },
     "execution_count": 2,
     "metadata": {},
     "output_type": "execute_result"
    }
   ],
   "source": [
    "type(texto)"
   ]
  },
  {
   "cell_type": "code",
   "execution_count": 18,
   "id": "3692f851",
   "metadata": {},
   "outputs": [],
   "source": [
    "#help(str)"
   ]
  },
  {
   "cell_type": "code",
   "execution_count": 7,
   "id": "43db823c",
   "metadata": {},
   "outputs": [
    {
     "data": {
      "text/plain": [
       "True"
      ]
     },
     "execution_count": 7,
     "metadata": {},
     "output_type": "execute_result"
    }
   ],
   "source": [
    "texto.startswith('hola')"
   ]
  },
  {
   "cell_type": "code",
   "execution_count": 8,
   "id": "e2fb47ee",
   "metadata": {},
   "outputs": [
    {
     "data": {
      "text/plain": [
       "9"
      ]
     },
     "execution_count": 8,
     "metadata": {},
     "output_type": "execute_result"
    }
   ],
   "source": [
    "num = 9\n",
    "\n",
    "num"
   ]
  },
  {
   "cell_type": "code",
   "execution_count": 10,
   "id": "b585d9ea",
   "metadata": {},
   "outputs": [
    {
     "data": {
      "text/plain": [
       "'Hola alegre. Me debes 9€'"
      ]
     },
     "execution_count": 10,
     "metadata": {},
     "output_type": "execute_result"
    }
   ],
   "source": [
    "f'Hola alegre. Me debes {num}€'  # python 3"
   ]
  },
  {
   "cell_type": "code",
   "execution_count": 11,
   "id": "302fa4d1",
   "metadata": {},
   "outputs": [
    {
     "data": {
      "text/plain": [
       "'Hola alegre. Me debes 9€'"
      ]
     },
     "execution_count": 11,
     "metadata": {},
     "output_type": "execute_result"
    }
   ],
   "source": [
    "'Hola alegre. Me debes {}€'.format(num)  # python 2"
   ]
  },
  {
   "cell_type": "code",
   "execution_count": 14,
   "id": "868d51dc",
   "metadata": {},
   "outputs": [
    {
     "data": {
      "text/plain": [
       "'El precio del producto es 12900. Mis gastos son 900 y tengo 55 clientes'"
      ]
     },
     "execution_count": 14,
     "metadata": {},
     "output_type": "execute_result"
    }
   ],
   "source": [
    "precio = 12900\n",
    "\n",
    "clientes = 55\n",
    "\n",
    "gastos = 900\n",
    "\n",
    "\n",
    "f'El precio del producto es {precio}. Mis gastos son {gastos} y tengo {clientes} clientes'"
   ]
  },
  {
   "cell_type": "code",
   "execution_count": 17,
   "id": "b63c0ade",
   "metadata": {},
   "outputs": [
    {
     "data": {
      "text/plain": [
       "'hola que tal?'"
      ]
     },
     "execution_count": 17,
     "metadata": {},
     "output_type": "execute_result"
    }
   ],
   "source": [
    "texto.upper().lower()"
   ]
  },
  {
   "cell_type": "code",
   "execution_count": 19,
   "id": "522cf3cd",
   "metadata": {},
   "outputs": [],
   "source": [
    "def restar(x):\n",
    "    \n",
    "    return x - 4"
   ]
  },
  {
   "cell_type": "code",
   "execution_count": 22,
   "id": "512e0122",
   "metadata": {},
   "outputs": [
    {
     "data": {
      "text/plain": [
       "6"
      ]
     },
     "execution_count": 22,
     "metadata": {},
     "output_type": "execute_result"
    }
   ],
   "source": [
    "restar(10)"
   ]
  },
  {
   "cell_type": "code",
   "execution_count": 23,
   "id": "009b3bde",
   "metadata": {},
   "outputs": [
    {
     "data": {
      "text/plain": [
       "int"
      ]
     },
     "execution_count": 23,
     "metadata": {},
     "output_type": "execute_result"
    }
   ],
   "source": [
    "# enteros y reales\n",
    "\n",
    "\n",
    "entero = 90\n",
    "\n",
    "type(entero)"
   ]
  },
  {
   "cell_type": "code",
   "execution_count": 27,
   "id": "53172657",
   "metadata": {},
   "outputs": [
    {
     "data": {
      "text/plain": [
       "3.9415926535"
      ]
     },
     "execution_count": 27,
     "metadata": {},
     "output_type": "execute_result"
    }
   ],
   "source": [
    "real = 3.9415926535\n",
    "\n",
    "real"
   ]
  },
  {
   "cell_type": "code",
   "execution_count": 28,
   "id": "298cc055",
   "metadata": {},
   "outputs": [
    {
     "data": {
      "text/plain": [
       "float"
      ]
     },
     "execution_count": 28,
     "metadata": {},
     "output_type": "execute_result"
    }
   ],
   "source": [
    "type(real)"
   ]
  },
  {
   "cell_type": "code",
   "execution_count": 29,
   "id": "2d490444",
   "metadata": {},
   "outputs": [
    {
     "data": {
      "text/plain": [
       "3"
      ]
     },
     "execution_count": 29,
     "metadata": {},
     "output_type": "execute_result"
    }
   ],
   "source": [
    "int(real)"
   ]
  },
  {
   "cell_type": "code",
   "execution_count": 30,
   "id": "e75fe281",
   "metadata": {},
   "outputs": [
    {
     "data": {
      "text/plain": [
       "4"
      ]
     },
     "execution_count": 30,
     "metadata": {},
     "output_type": "execute_result"
    }
   ],
   "source": [
    "round(real)"
   ]
  },
  {
   "cell_type": "code",
   "execution_count": 31,
   "id": "217edc94",
   "metadata": {},
   "outputs": [
    {
     "data": {
      "text/plain": [
       "3.9416"
      ]
     },
     "execution_count": 31,
     "metadata": {},
     "output_type": "execute_result"
    }
   ],
   "source": [
    "round(real, 4)   # redondeo al cuarto decimal"
   ]
  },
  {
   "cell_type": "code",
   "execution_count": 33,
   "id": "85a36b9f",
   "metadata": {},
   "outputs": [
    {
     "data": {
      "text/plain": [
       "False"
      ]
     },
     "execution_count": 33,
     "metadata": {},
     "output_type": "execute_result"
    }
   ],
   "source": [
    "#  booleanos\n",
    "\n",
    "\n",
    "bool()"
   ]
  },
  {
   "cell_type": "code",
   "execution_count": 34,
   "id": "fdfebdc8",
   "metadata": {},
   "outputs": [
    {
     "data": {
      "text/plain": [
       "False"
      ]
     },
     "execution_count": 34,
     "metadata": {},
     "output_type": "execute_result"
    }
   ],
   "source": [
    "bool(0)"
   ]
  },
  {
   "cell_type": "code",
   "execution_count": 35,
   "id": "6315fb4d",
   "metadata": {},
   "outputs": [
    {
     "data": {
      "text/plain": [
       "True"
      ]
     },
     "execution_count": 35,
     "metadata": {},
     "output_type": "execute_result"
    }
   ],
   "source": [
    "bool(1)"
   ]
  },
  {
   "cell_type": "code",
   "execution_count": 36,
   "id": "b166d55d",
   "metadata": {},
   "outputs": [
    {
     "data": {
      "text/plain": [
       "True"
      ]
     },
     "execution_count": 36,
     "metadata": {},
     "output_type": "execute_result"
    }
   ],
   "source": [
    "bool(9)"
   ]
  },
  {
   "cell_type": "markdown",
   "id": "1c25590f",
   "metadata": {},
   "source": [
    "---\n",
    "\n",
    "# Data Structures\n",
    "\n",
    "- __Tuple__\n",
    "    \n",
    "- __List__\n",
    "    \n",
    "- __Dict__\n",
    "\n",
    "- __Set__"
   ]
  },
  {
   "cell_type": "code",
   "execution_count": 37,
   "id": "0ee5a3c7",
   "metadata": {},
   "outputs": [
    {
     "data": {
      "text/plain": [
       "(1, 3, 'hola', True)"
      ]
     },
     "execution_count": 37,
     "metadata": {},
     "output_type": "execute_result"
    }
   ],
   "source": [
    "# tuplas \n",
    "\n",
    "\n",
    "tupla = (1,3,'hola', True)\n",
    "\n",
    "tupla"
   ]
  },
  {
   "cell_type": "code",
   "execution_count": 38,
   "id": "270f4d77",
   "metadata": {},
   "outputs": [
    {
     "ename": "AttributeError",
     "evalue": "'tuple' object has no attribute 'append'",
     "output_type": "error",
     "traceback": [
      "\u001b[0;31m---------------------------------------------------------------------------\u001b[0m",
      "\u001b[0;31mAttributeError\u001b[0m                            Traceback (most recent call last)",
      "Cell \u001b[0;32mIn[38], line 1\u001b[0m\n\u001b[0;32m----> 1\u001b[0m \u001b[43mtupla\u001b[49m\u001b[38;5;241;43m.\u001b[39;49m\u001b[43mappend\u001b[49m(\u001b[38;5;241m9\u001b[39m)\n",
      "\u001b[0;31mAttributeError\u001b[0m: 'tuple' object has no attribute 'append'"
     ]
    }
   ],
   "source": [
    "tupla.append(9)"
   ]
  },
  {
   "cell_type": "code",
   "execution_count": 39,
   "id": "ee4da235",
   "metadata": {},
   "outputs": [
    {
     "data": {
      "text/plain": [
       "1"
      ]
     },
     "execution_count": 39,
     "metadata": {},
     "output_type": "execute_result"
    }
   ],
   "source": [
    "tupla[0]"
   ]
  },
  {
   "cell_type": "code",
   "execution_count": 40,
   "id": "b1c86d15",
   "metadata": {},
   "outputs": [
    {
     "ename": "TypeError",
     "evalue": "'tuple' object does not support item assignment",
     "output_type": "error",
     "traceback": [
      "\u001b[0;31m---------------------------------------------------------------------------\u001b[0m",
      "\u001b[0;31mTypeError\u001b[0m                                 Traceback (most recent call last)",
      "Cell \u001b[0;32mIn[40], line 1\u001b[0m\n\u001b[0;32m----> 1\u001b[0m \u001b[43mtupla\u001b[49m\u001b[43m[\u001b[49m\u001b[38;5;241;43m0\u001b[39;49m\u001b[43m]\u001b[49m \u001b[38;5;241m=\u001b[39m \u001b[38;5;241m90\u001b[39m\n",
      "\u001b[0;31mTypeError\u001b[0m: 'tuple' object does not support item assignment"
     ]
    }
   ],
   "source": [
    "tupla[0] = 90"
   ]
  },
  {
   "cell_type": "code",
   "execution_count": 41,
   "id": "3bccd749",
   "metadata": {},
   "outputs": [
    {
     "data": {
      "text/plain": [
       "[1, 3, 'hola', True]"
      ]
     },
     "execution_count": 41,
     "metadata": {},
     "output_type": "execute_result"
    }
   ],
   "source": [
    "# lista\n",
    "\n",
    "\n",
    "lst = list(tupla)\n",
    "\n",
    "lst"
   ]
  },
  {
   "cell_type": "code",
   "execution_count": 42,
   "id": "e5254239",
   "metadata": {},
   "outputs": [],
   "source": [
    "lst.append(90)"
   ]
  },
  {
   "cell_type": "code",
   "execution_count": 43,
   "id": "118518ce",
   "metadata": {},
   "outputs": [
    {
     "data": {
      "text/plain": [
       "[1, 3, 'hola', True, 90]"
      ]
     },
     "execution_count": 43,
     "metadata": {},
     "output_type": "execute_result"
    }
   ],
   "source": [
    "lst"
   ]
  },
  {
   "cell_type": "code",
   "execution_count": 45,
   "id": "7c21b7cb",
   "metadata": {},
   "outputs": [],
   "source": [
    "lst[0] = 'hola'"
   ]
  },
  {
   "cell_type": "code",
   "execution_count": 46,
   "id": "a566a1e2",
   "metadata": {},
   "outputs": [
    {
     "data": {
      "text/plain": [
       "['hola', 3, 'hola', True, 90]"
      ]
     },
     "execution_count": 46,
     "metadata": {},
     "output_type": "execute_result"
    }
   ],
   "source": [
    "lst"
   ]
  },
  {
   "cell_type": "code",
   "execution_count": 48,
   "id": "9b4d5f2a",
   "metadata": {},
   "outputs": [],
   "source": [
    "#help(lst)"
   ]
  },
  {
   "cell_type": "code",
   "execution_count": 49,
   "id": "9fa0a849",
   "metadata": {},
   "outputs": [],
   "source": [
    "lst.insert(2, 'wodifnwoienfoerfneiofneikrub')"
   ]
  },
  {
   "cell_type": "code",
   "execution_count": 50,
   "id": "805c424a",
   "metadata": {},
   "outputs": [
    {
     "data": {
      "text/plain": [
       "['hola', 3, 'wodifnwoienfoerfneiofneikrub', 'hola', True, 90]"
      ]
     },
     "execution_count": 50,
     "metadata": {},
     "output_type": "execute_result"
    }
   ],
   "source": [
    "lst"
   ]
  },
  {
   "cell_type": "code",
   "execution_count": 57,
   "id": "1da6e35c",
   "metadata": {},
   "outputs": [
    {
     "data": {
      "text/plain": [
       "[[1, 2, 3], [4, 5, 6], [7, 8, 9]]"
      ]
     },
     "execution_count": 57,
     "metadata": {},
     "output_type": "execute_result"
    }
   ],
   "source": [
    "matriz=[[1,2,3],[4,5,6],[7,8,9]]\n",
    "\n",
    "matriz"
   ]
  },
  {
   "cell_type": "code",
   "execution_count": 52,
   "id": "63124f1d",
   "metadata": {},
   "outputs": [
    {
     "data": {
      "text/plain": [
       "3"
      ]
     },
     "execution_count": 52,
     "metadata": {},
     "output_type": "execute_result"
    }
   ],
   "source": [
    "len(matriz)"
   ]
  },
  {
   "cell_type": "code",
   "execution_count": 53,
   "id": "3d9300e8",
   "metadata": {},
   "outputs": [
    {
     "data": {
      "text/plain": [
       "[1, 2, 3]"
      ]
     },
     "execution_count": 53,
     "metadata": {},
     "output_type": "execute_result"
    }
   ],
   "source": [
    "matriz[0]"
   ]
  },
  {
   "cell_type": "code",
   "execution_count": 54,
   "id": "6b5d2e25",
   "metadata": {},
   "outputs": [
    {
     "data": {
      "text/plain": [
       "1"
      ]
     },
     "execution_count": 54,
     "metadata": {},
     "output_type": "execute_result"
    }
   ],
   "source": [
    "matriz[0][0]"
   ]
  },
  {
   "cell_type": "code",
   "execution_count": 56,
   "id": "1586a076",
   "metadata": {},
   "outputs": [
    {
     "data": {
      "text/plain": [
       "[1, 2, 3, 4, 5, 6]"
      ]
     },
     "execution_count": 56,
     "metadata": {},
     "output_type": "execute_result"
    }
   ],
   "source": [
    "[1,2,3]+[4,5,6]"
   ]
  },
  {
   "cell_type": "code",
   "execution_count": 58,
   "id": "cc5017d5",
   "metadata": {},
   "outputs": [],
   "source": [
    "# dicccionario, estructura clave-valor\n",
    "\n",
    "dictio = {'nombre': 'Yona', \n",
    "          'edad': 39, \n",
    "          'lugar': 'Madrid'}"
   ]
  },
  {
   "cell_type": "code",
   "execution_count": 59,
   "id": "55efcd3f",
   "metadata": {},
   "outputs": [
    {
     "data": {
      "text/plain": [
       "{'nombre': 'Yona', 'edad': 39, 'lugar': 'Madrid'}"
      ]
     },
     "execution_count": 59,
     "metadata": {},
     "output_type": "execute_result"
    }
   ],
   "source": [
    "dictio"
   ]
  },
  {
   "cell_type": "code",
   "execution_count": 60,
   "id": "d607d8b6",
   "metadata": {},
   "outputs": [
    {
     "data": {
      "text/plain": [
       "39"
      ]
     },
     "execution_count": 60,
     "metadata": {},
     "output_type": "execute_result"
    }
   ],
   "source": [
    "dictio['edad']"
   ]
  },
  {
   "cell_type": "code",
   "execution_count": 61,
   "id": "237cf20d",
   "metadata": {},
   "outputs": [],
   "source": [
    "dictio['edad'] = 10e4   # notacion cientifica"
   ]
  },
  {
   "cell_type": "code",
   "execution_count": 62,
   "id": "1df54f38",
   "metadata": {},
   "outputs": [
    {
     "data": {
      "text/plain": [
       "{'nombre': 'Yona', 'edad': 100000.0, 'lugar': 'Madrid'}"
      ]
     },
     "execution_count": 62,
     "metadata": {},
     "output_type": "execute_result"
    }
   ],
   "source": [
    "dictio"
   ]
  },
  {
   "cell_type": "code",
   "execution_count": 71,
   "id": "872e5c76",
   "metadata": {},
   "outputs": [],
   "source": [
    "#help(dict)"
   ]
  },
  {
   "cell_type": "code",
   "execution_count": 65,
   "id": "99208bf6",
   "metadata": {},
   "outputs": [
    {
     "ename": "KeyError",
     "evalue": "'altura'",
     "output_type": "error",
     "traceback": [
      "\u001b[0;31m---------------------------------------------------------------------------\u001b[0m",
      "\u001b[0;31mKeyError\u001b[0m                                  Traceback (most recent call last)",
      "Cell \u001b[0;32mIn[65], line 1\u001b[0m\n\u001b[0;32m----> 1\u001b[0m \u001b[43mdictio\u001b[49m\u001b[43m[\u001b[49m\u001b[38;5;124;43m'\u001b[39;49m\u001b[38;5;124;43maltura\u001b[39;49m\u001b[38;5;124;43m'\u001b[39;49m\u001b[43m]\u001b[49m\n",
      "\u001b[0;31mKeyError\u001b[0m: 'altura'"
     ]
    }
   ],
   "source": [
    "dictio['altura']"
   ]
  },
  {
   "cell_type": "code",
   "execution_count": 64,
   "id": "0e6521e9",
   "metadata": {},
   "outputs": [],
   "source": [
    "dictio.get('altura')"
   ]
  },
  {
   "cell_type": "code",
   "execution_count": 66,
   "id": "3bf45cca",
   "metadata": {},
   "outputs": [
    {
     "data": {
      "text/plain": [
       "'Valor por defecto....'"
      ]
     },
     "execution_count": 66,
     "metadata": {},
     "output_type": "execute_result"
    }
   ],
   "source": [
    "dictio.get('altura', 'Valor por defecto....')"
   ]
  },
  {
   "cell_type": "code",
   "execution_count": 67,
   "id": "5f68f6cf",
   "metadata": {},
   "outputs": [
    {
     "data": {
      "text/plain": [
       "100000.0"
      ]
     },
     "execution_count": 67,
     "metadata": {},
     "output_type": "execute_result"
    }
   ],
   "source": [
    "dictio.get('edad', 'Valor por defecto....')"
   ]
  },
  {
   "cell_type": "code",
   "execution_count": 68,
   "id": "f2a1ce48",
   "metadata": {},
   "outputs": [
    {
     "data": {
      "text/plain": [
       "dict_keys(['nombre', 'edad', 'lugar'])"
      ]
     },
     "execution_count": 68,
     "metadata": {},
     "output_type": "execute_result"
    }
   ],
   "source": [
    "dictio.keys()"
   ]
  },
  {
   "cell_type": "code",
   "execution_count": 69,
   "id": "a47498e4",
   "metadata": {},
   "outputs": [
    {
     "data": {
      "text/plain": [
       "dict_values(['Yona', 100000.0, 'Madrid'])"
      ]
     },
     "execution_count": 69,
     "metadata": {},
     "output_type": "execute_result"
    }
   ],
   "source": [
    "dictio.values()"
   ]
  },
  {
   "cell_type": "code",
   "execution_count": 70,
   "id": "902a1896",
   "metadata": {},
   "outputs": [
    {
     "data": {
      "text/plain": [
       "dict_items([('nombre', 'Yona'), ('edad', 100000.0), ('lugar', 'Madrid')])"
      ]
     },
     "execution_count": 70,
     "metadata": {},
     "output_type": "execute_result"
    }
   ],
   "source": [
    "dictio.items()"
   ]
  },
  {
   "cell_type": "code",
   "execution_count": 72,
   "id": "7d4c39f3",
   "metadata": {},
   "outputs": [],
   "source": [
    "dictio['altura'] = 180"
   ]
  },
  {
   "cell_type": "code",
   "execution_count": 73,
   "id": "44eb2183",
   "metadata": {},
   "outputs": [
    {
     "data": {
      "text/plain": [
       "{'nombre': 'Yona', 'edad': 100000.0, 'lugar': 'Madrid', 'altura': 180}"
      ]
     },
     "execution_count": 73,
     "metadata": {},
     "output_type": "execute_result"
    }
   ],
   "source": [
    "dictio"
   ]
  },
  {
   "cell_type": "code",
   "execution_count": 74,
   "id": "2f411a20",
   "metadata": {},
   "outputs": [
    {
     "data": {
      "text/plain": [
       "100"
      ]
     },
     "execution_count": 74,
     "metadata": {},
     "output_type": "execute_result"
    }
   ],
   "source": [
    "x = 10\n",
    "\n",
    "\n",
    "x += 90    # x = x + 90\n",
    "\n",
    "x"
   ]
  },
  {
   "cell_type": "code",
   "execution_count": 75,
   "id": "d01b6728",
   "metadata": {},
   "outputs": [],
   "source": [
    "dictio['altura'] -= 10"
   ]
  },
  {
   "cell_type": "code",
   "execution_count": 76,
   "id": "a914f70b",
   "metadata": {},
   "outputs": [
    {
     "data": {
      "text/plain": [
       "{'nombre': 'Yona', 'edad': 100000.0, 'lugar': 'Madrid', 'altura': 170}"
      ]
     },
     "execution_count": 76,
     "metadata": {},
     "output_type": "execute_result"
    }
   ],
   "source": [
    "dictio"
   ]
  },
  {
   "cell_type": "code",
   "execution_count": 77,
   "id": "c9ff8492",
   "metadata": {},
   "outputs": [
    {
     "data": {
      "text/plain": [
       "dict_keys(['nombre', 'edad', 'lugar', 'altura'])"
      ]
     },
     "execution_count": 77,
     "metadata": {},
     "output_type": "execute_result"
    }
   ],
   "source": [
    "dictio.keys()"
   ]
  },
  {
   "cell_type": "code",
   "execution_count": 78,
   "id": "97fa96a6",
   "metadata": {},
   "outputs": [
    {
     "data": {
      "text/plain": [
       "False"
      ]
     },
     "execution_count": 78,
     "metadata": {},
     "output_type": "execute_result"
    }
   ],
   "source": [
    "'pelo' in dictio.keys()"
   ]
  },
  {
   "cell_type": "code",
   "execution_count": 79,
   "id": "539aa9e8",
   "metadata": {},
   "outputs": [
    {
     "data": {
      "text/plain": [
       "True"
      ]
     },
     "execution_count": 79,
     "metadata": {},
     "output_type": "execute_result"
    }
   ],
   "source": [
    "'altura' in dictio.keys()"
   ]
  },
  {
   "cell_type": "code",
   "execution_count": 80,
   "id": "30047d01",
   "metadata": {},
   "outputs": [
    {
     "data": {
      "text/plain": [
       "False"
      ]
     },
     "execution_count": 80,
     "metadata": {},
     "output_type": "execute_result"
    }
   ],
   "source": [
    "'pelo' in dictio"
   ]
  },
  {
   "cell_type": "code",
   "execution_count": 81,
   "id": "c783f532",
   "metadata": {},
   "outputs": [
    {
     "data": {
      "text/plain": [
       "True"
      ]
     },
     "execution_count": 81,
     "metadata": {},
     "output_type": "execute_result"
    }
   ],
   "source": [
    "'altura' in dictio"
   ]
  },
  {
   "cell_type": "code",
   "execution_count": 82,
   "id": "9e0a029d",
   "metadata": {},
   "outputs": [
    {
     "data": {
      "text/plain": [
       "set()"
      ]
     },
     "execution_count": 82,
     "metadata": {},
     "output_type": "execute_result"
    }
   ],
   "source": [
    "# sets - conjuntos\n",
    "\n",
    "\n",
    "set()"
   ]
  },
  {
   "cell_type": "code",
   "execution_count": 83,
   "id": "1dc977b3",
   "metadata": {},
   "outputs": [
    {
     "data": {
      "text/plain": [
       "[1, 1, 1, 1, 1, 1, 1, 2, 2, 2, 2, 2, 2, 2, 2, 2, 3, 3, 3, 3, 3]"
      ]
     },
     "execution_count": 83,
     "metadata": {},
     "output_type": "execute_result"
    }
   ],
   "source": [
    "lst = [1,1,1,1,1,1,1,2,2,2,2,2,2,2,2,2,3,3,3,3,3]\n",
    "\n",
    "lst"
   ]
  },
  {
   "cell_type": "code",
   "execution_count": 84,
   "id": "83025348",
   "metadata": {},
   "outputs": [
    {
     "data": {
      "text/plain": [
       "{1, 2, 3}"
      ]
     },
     "execution_count": 84,
     "metadata": {},
     "output_type": "execute_result"
    }
   ],
   "source": [
    "set(lst)"
   ]
  },
  {
   "cell_type": "code",
   "execution_count": 85,
   "id": "4eb55240",
   "metadata": {},
   "outputs": [
    {
     "data": {
      "text/plain": [
       "[1, 2, 3]"
      ]
     },
     "execution_count": 85,
     "metadata": {},
     "output_type": "execute_result"
    }
   ],
   "source": [
    "lst2 = list(set(lst))   # valores unicos\n",
    "\n",
    "lst2"
   ]
  },
  {
   "cell_type": "code",
   "execution_count": 86,
   "id": "480ef294",
   "metadata": {},
   "outputs": [],
   "source": [
    "set_1 = set([1,2,3,4])\n",
    "\n",
    "set_2 = set([2,3,5,7])"
   ]
  },
  {
   "cell_type": "code",
   "execution_count": 89,
   "id": "a0a75578",
   "metadata": {},
   "outputs": [],
   "source": [
    "#help(set)"
   ]
  },
  {
   "cell_type": "code",
   "execution_count": 88,
   "id": "47cf1854",
   "metadata": {},
   "outputs": [
    {
     "data": {
      "text/plain": [
       "{2, 3}"
      ]
     },
     "execution_count": 88,
     "metadata": {},
     "output_type": "execute_result"
    }
   ],
   "source": [
    "set_1.intersection(set_2)"
   ]
  },
  {
   "cell_type": "code",
   "execution_count": 90,
   "id": "b99c6cf7",
   "metadata": {},
   "outputs": [
    {
     "data": {
      "text/plain": [
       "{1, 2, 3, 4, 5, 7}"
      ]
     },
     "execution_count": 90,
     "metadata": {},
     "output_type": "execute_result"
    }
   ],
   "source": [
    "set_1.union(set_2)"
   ]
  },
  {
   "cell_type": "code",
   "execution_count": 91,
   "id": "f8a9b7b8",
   "metadata": {},
   "outputs": [],
   "source": [
    "set_3 = set([2,3])"
   ]
  },
  {
   "cell_type": "code",
   "execution_count": 92,
   "id": "4a4d5831",
   "metadata": {},
   "outputs": [
    {
     "data": {
      "text/plain": [
       "True"
      ]
     },
     "execution_count": 92,
     "metadata": {},
     "output_type": "execute_result"
    }
   ],
   "source": [
    "set_1.issuperset(set_3)"
   ]
  },
  {
   "cell_type": "code",
   "execution_count": 93,
   "id": "b30a7708",
   "metadata": {},
   "outputs": [
    {
     "data": {
      "text/plain": [
       "True"
      ]
     },
     "execution_count": 93,
     "metadata": {},
     "output_type": "execute_result"
    }
   ],
   "source": [
    "set_3.issubset(set_1)"
   ]
  },
  {
   "cell_type": "code",
   "execution_count": 94,
   "id": "1077c9cb",
   "metadata": {},
   "outputs": [
    {
     "data": {
      "text/plain": [
       "False"
      ]
     },
     "execution_count": 94,
     "metadata": {},
     "output_type": "execute_result"
    }
   ],
   "source": [
    "set_2.issubset(set_1)"
   ]
  },
  {
   "cell_type": "code",
   "execution_count": null,
   "id": "b1ee6f3c",
   "metadata": {},
   "outputs": [],
   "source": []
  }
 ],
 "metadata": {
  "kernelspec": {
   "display_name": "clase",
   "language": "python",
   "name": "clase"
  },
  "language_info": {
   "codemirror_mode": {
    "name": "ipython",
    "version": 3
   },
   "file_extension": ".py",
   "mimetype": "text/x-python",
   "name": "python",
   "nbconvert_exporter": "python",
   "pygments_lexer": "ipython3",
   "version": "3.9.12"
  }
 },
 "nbformat": 4,
 "nbformat_minor": 5
}
