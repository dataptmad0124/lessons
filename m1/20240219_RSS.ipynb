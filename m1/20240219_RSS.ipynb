{
 "cells": [
  {
   "cell_type": "markdown",
   "metadata": {},
   "source": [
    "# 2.1 - RSS\n",
    "\n",
    "$$$$\n",
    "\n",
    "![rss](img/rss.png)\n",
    "\n"
   ]
  },
  {
   "cell_type": "markdown",
   "metadata": {},
   "source": [
    "RSS son las siglas de **Really Simple Syndication**, un formato XML para distribuir contenido en la web. Se utiliza para difundir información actualizada frecuentemente a usuarios que se han suscrito a la fuente de contenidos. El formato permite distribuir contenidos sin necesidad de un navegador, utilizando programas llamados agregadores de noticias, diseñados para leer contenidos RSS. A pesar de eso, es posible utilizar el mismo navegador para ver los contenidos RSS. Las últimas versiones de los principales navegadores permiten leer los RSS sin necesidad de programas adicionales. RSS es parte de la familia de los formatos XML, desarrollado específicamente para todo tipo de sitios que se actualicen con frecuencia y por medio del cual se puede compartir la información y usarla en otros sitios web o programas. A esto se le conoce como redifusión web o sindicación web .\n",
    "\n",
    "\n",
    "En el archivo RSS simplemente están los datos de las novedades del sitio, como el título, fecha de publicación o la descripción. El programa que lea el RSS será encargado de darle estilo o apariencia a los datos que se incluyan en el archivo y presentarlos de una manera atractiva al usuario y de fácil lectura.\n",
    "\n",
    "Que RSS sea un formato basado en XML significa que el archivo RSS se compone por una serie de etiquetas definidas que tendrán un formato dado, y que respetará las reglas generales de XML. Este archivo normalmente es nombrado index.xml y se encuentra ubicado en la página principal.\n",
    "\n",
    "Vale aclarar que RSS no es un protocolo, dado que no contempla parámetros de ningún tipo. No es posible definir mediante una consulta un criterio de búsqueda. \n"
   ]
  },
  {
   "cell_type": "markdown",
   "metadata": {},
   "source": [
    "## Trabajando con RSS\n",
    "\n",
    "Normalmente, el feed del RSS corresponde a un archivo con la extensión .rss. Tenemos una herramienta perfecta para manejar ese tipo de feed."
   ]
  },
  {
   "cell_type": "code",
   "execution_count": null,
   "metadata": {},
   "outputs": [],
   "source": [
    "%pip install feedparser"
   ]
  },
  {
   "cell_type": "code",
   "execution_count": 1,
   "metadata": {},
   "outputs": [],
   "source": [
    "import feedparser"
   ]
  },
  {
   "cell_type": "markdown",
   "metadata": {},
   "source": [
    "### Reddit RSS\n",
    "\n",
    "Para extraer el contenido, tan solo pasamos la url del RSS al feedparser."
   ]
  },
  {
   "cell_type": "code",
   "execution_count": 19,
   "metadata": {},
   "outputs": [],
   "source": [
    "reddit = feedparser.parse('https://www.reddit.com/r/news/.rss')"
   ]
  },
  {
   "cell_type": "code",
   "execution_count": 20,
   "metadata": {},
   "outputs": [
    {
     "data": {
      "text/plain": [
       "dict_keys(['bozo', 'entries', 'feed', 'headers', 'href', 'status', 'encoding', 'version', 'namespaces'])"
      ]
     },
     "execution_count": 20,
     "metadata": {},
     "output_type": "execute_result"
    }
   ],
   "source": [
    "reddit.keys()"
   ]
  },
  {
   "cell_type": "code",
   "execution_count": 21,
   "metadata": {},
   "outputs": [
    {
     "data": {
      "text/plain": [
       "{'authors': [{'name': '/u/dpgtfc',\n",
       "   'href': 'https://www.reddit.com/user/dpgtfc'}],\n",
       " 'author_detail': {'name': '/u/dpgtfc',\n",
       "  'href': 'https://www.reddit.com/user/dpgtfc'},\n",
       " 'href': 'https://www.reddit.com/user/dpgtfc',\n",
       " 'author': '/u/dpgtfc',\n",
       " 'tags': [{'term': 'news', 'scheme': None, 'label': 'r/news'}],\n",
       " 'content': [{'type': 'text/html',\n",
       "   'language': None,\n",
       "   'base': 'https://www.reddit.com/r/news/.rss',\n",
       "   'value': '&#32; submitted by &#32; <a href=\"https://www.reddit.com/user/dpgtfc\"> /u/dpgtfc </a> <br /> <span><a href=\"https://www.nbcnews.com/news/us-news/least-1-dead-5-injured-shooting-indianapolis-waffle-house-rcna139446\">[link]</a></span> &#32; <span><a href=\"https://www.reddit.com/r/news/comments/1auqq65/at_least_1_dead_5_injured_in_shooting_at/\">[comments]</a></span>'}],\n",
       " 'summary': '&#32; submitted by &#32; <a href=\"https://www.reddit.com/user/dpgtfc\"> /u/dpgtfc </a> <br /> <span><a href=\"https://www.nbcnews.com/news/us-news/least-1-dead-5-injured-shooting-indianapolis-waffle-house-rcna139446\">[link]</a></span> &#32; <span><a href=\"https://www.reddit.com/r/news/comments/1auqq65/at_least_1_dead_5_injured_in_shooting_at/\">[comments]</a></span>',\n",
       " 'id': 'https://www.reddit.com/r/news/t3_1auqq65',\n",
       " 'guidislink': True,\n",
       " 'link': 'https://www.reddit.com/r/news/comments/1auqq65/at_least_1_dead_5_injured_in_shooting_at/',\n",
       " 'links': [{'href': 'https://www.reddit.com/r/news/comments/1auqq65/at_least_1_dead_5_injured_in_shooting_at/',\n",
       "   'rel': 'alternate',\n",
       "   'type': 'text/html'}],\n",
       " 'updated': '2024-02-19T16:00:23+00:00',\n",
       " 'updated_parsed': time.struct_time(tm_year=2024, tm_mon=2, tm_mday=19, tm_hour=16, tm_min=0, tm_sec=23, tm_wday=0, tm_yday=50, tm_isdst=0),\n",
       " 'published': '2024-02-19T16:00:23+00:00',\n",
       " 'published_parsed': time.struct_time(tm_year=2024, tm_mon=2, tm_mday=19, tm_hour=16, tm_min=0, tm_sec=23, tm_wday=0, tm_yday=50, tm_isdst=0),\n",
       " 'title': 'At least 1 dead, 5 injured in shooting at Indianapolis Waffle House',\n",
       " 'title_detail': {'type': 'text/plain',\n",
       "  'language': None,\n",
       "  'base': 'https://www.reddit.com/r/news/.rss',\n",
       "  'value': 'At least 1 dead, 5 injured in shooting at Indianapolis Waffle House'}}"
      ]
     },
     "execution_count": 21,
     "metadata": {},
     "output_type": "execute_result"
    }
   ],
   "source": [
    "reddit['entries'][0]"
   ]
  },
  {
   "cell_type": "code",
   "execution_count": 22,
   "metadata": {},
   "outputs": [
    {
     "data": {
      "text/plain": [
       "dict_keys(['authors', 'author_detail', 'href', 'author', 'tags', 'content', 'summary', 'id', 'guidislink', 'link', 'links', 'updated', 'updated_parsed', 'published', 'published_parsed', 'title', 'title_detail'])"
      ]
     },
     "execution_count": 22,
     "metadata": {},
     "output_type": "execute_result"
    }
   ],
   "source": [
    "reddit['entries'][0].keys()"
   ]
  },
  {
   "cell_type": "code",
   "execution_count": 23,
   "metadata": {},
   "outputs": [],
   "source": [
    "import pandas as pd"
   ]
  },
  {
   "cell_type": "code",
   "execution_count": 24,
   "metadata": {},
   "outputs": [
    {
     "data": {
      "text/html": [
       "<div>\n",
       "<style scoped>\n",
       "    .dataframe tbody tr th:only-of-type {\n",
       "        vertical-align: middle;\n",
       "    }\n",
       "\n",
       "    .dataframe tbody tr th {\n",
       "        vertical-align: top;\n",
       "    }\n",
       "\n",
       "    .dataframe thead th {\n",
       "        text-align: right;\n",
       "    }\n",
       "</style>\n",
       "<table border=\"1\" class=\"dataframe\">\n",
       "  <thead>\n",
       "    <tr style=\"text-align: right;\">\n",
       "      <th></th>\n",
       "      <th>authors</th>\n",
       "      <th>author_detail</th>\n",
       "      <th>href</th>\n",
       "      <th>author</th>\n",
       "      <th>tags</th>\n",
       "      <th>content</th>\n",
       "      <th>summary</th>\n",
       "      <th>id</th>\n",
       "      <th>guidislink</th>\n",
       "      <th>link</th>\n",
       "      <th>links</th>\n",
       "      <th>updated</th>\n",
       "      <th>updated_parsed</th>\n",
       "      <th>published</th>\n",
       "      <th>published_parsed</th>\n",
       "      <th>title</th>\n",
       "      <th>title_detail</th>\n",
       "    </tr>\n",
       "  </thead>\n",
       "  <tbody>\n",
       "    <tr>\n",
       "      <th>0</th>\n",
       "      <td>[{'name': '/u/dpgtfc', 'href': 'https://www.re...</td>\n",
       "      <td>{'name': '/u/dpgtfc', 'href': 'https://www.red...</td>\n",
       "      <td>https://www.reddit.com/user/dpgtfc</td>\n",
       "      <td>/u/dpgtfc</td>\n",
       "      <td>[{'term': 'news', 'scheme': None, 'label': 'r/...</td>\n",
       "      <td>[{'type': 'text/html', 'language': None, 'base...</td>\n",
       "      <td>&amp;#32; submitted by &amp;#32; &lt;a href=\"https://www....</td>\n",
       "      <td>https://www.reddit.com/r/news/t3_1auqq65</td>\n",
       "      <td>True</td>\n",
       "      <td>https://www.reddit.com/r/news/comments/1auqq65...</td>\n",
       "      <td>[{'href': 'https://www.reddit.com/r/news/comme...</td>\n",
       "      <td>2024-02-19T16:00:23+00:00</td>\n",
       "      <td>(2024, 2, 19, 16, 0, 23, 0, 50, 0)</td>\n",
       "      <td>2024-02-19T16:00:23+00:00</td>\n",
       "      <td>(2024, 2, 19, 16, 0, 23, 0, 50, 0)</td>\n",
       "      <td>At least 1 dead, 5 injured in shooting at Indi...</td>\n",
       "      <td>{'type': 'text/plain', 'language': None, 'base...</td>\n",
       "    </tr>\n",
       "    <tr>\n",
       "      <th>1</th>\n",
       "      <td>[{'name': '/u/drrdf', 'href': 'https://www.red...</td>\n",
       "      <td>{'name': '/u/drrdf', 'href': 'https://www.redd...</td>\n",
       "      <td>https://www.reddit.com/user/drrdf</td>\n",
       "      <td>/u/drrdf</td>\n",
       "      <td>[{'term': 'news', 'scheme': None, 'label': 'r/...</td>\n",
       "      <td>[{'type': 'text/html', 'language': None, 'base...</td>\n",
       "      <td>&amp;#32; submitted by &amp;#32; &lt;a href=\"https://www....</td>\n",
       "      <td>https://www.reddit.com/r/news/t3_1aus8y5</td>\n",
       "      <td>True</td>\n",
       "      <td>https://www.reddit.com/r/news/comments/1aus8y5...</td>\n",
       "      <td>[{'href': 'https://www.reddit.com/r/news/comme...</td>\n",
       "      <td>2024-02-19T17:00:10+00:00</td>\n",
       "      <td>(2024, 2, 19, 17, 0, 10, 0, 50, 0)</td>\n",
       "      <td>2024-02-19T17:00:10+00:00</td>\n",
       "      <td>(2024, 2, 19, 17, 0, 10, 0, 50, 0)</td>\n",
       "      <td>Navalny's body will not be released to family ...</td>\n",
       "      <td>{'type': 'text/plain', 'language': None, 'base...</td>\n",
       "    </tr>\n",
       "    <tr>\n",
       "      <th>2</th>\n",
       "      <td>[{'name': '/u/MrDangerMan', 'href': 'https://w...</td>\n",
       "      <td>{'name': '/u/MrDangerMan', 'href': 'https://ww...</td>\n",
       "      <td>https://www.reddit.com/user/MrDangerMan</td>\n",
       "      <td>/u/MrDangerMan</td>\n",
       "      <td>[{'term': 'news', 'scheme': None, 'label': 'r/...</td>\n",
       "      <td>[{'type': 'text/html', 'language': None, 'base...</td>\n",
       "      <td>&amp;#32; submitted by &amp;#32; &lt;a href=\"https://www....</td>\n",
       "      <td>https://www.reddit.com/r/news/t3_1auslup</td>\n",
       "      <td>True</td>\n",
       "      <td>https://www.reddit.com/r/news/comments/1auslup...</td>\n",
       "      <td>[{'href': 'https://www.reddit.com/r/news/comme...</td>\n",
       "      <td>2024-02-19T17:13:26+00:00</td>\n",
       "      <td>(2024, 2, 19, 17, 13, 26, 0, 50, 0)</td>\n",
       "      <td>2024-02-19T17:13:26+00:00</td>\n",
       "      <td>(2024, 2, 19, 17, 13, 26, 0, 50, 0)</td>\n",
       "      <td>Prattville police arrest Montgomery officer on...</td>\n",
       "      <td>{'type': 'text/plain', 'language': None, 'base...</td>\n",
       "    </tr>\n",
       "    <tr>\n",
       "      <th>3</th>\n",
       "      <td>[{'name': '/u/PanzerAal', 'href': 'https://www...</td>\n",
       "      <td>{'name': '/u/PanzerAal', 'href': 'https://www....</td>\n",
       "      <td>https://www.reddit.com/user/PanzerAal</td>\n",
       "      <td>/u/PanzerAal</td>\n",
       "      <td>[{'term': 'news', 'scheme': None, 'label': 'r/...</td>\n",
       "      <td>[{'type': 'text/html', 'language': None, 'base...</td>\n",
       "      <td>&amp;#32; submitted by &amp;#32; &lt;a href=\"https://www....</td>\n",
       "      <td>https://www.reddit.com/r/news/t3_1aurfxv</td>\n",
       "      <td>True</td>\n",
       "      <td>https://www.reddit.com/r/news/comments/1aurfxv...</td>\n",
       "      <td>[{'href': 'https://www.reddit.com/r/news/comme...</td>\n",
       "      <td>2024-02-19T16:28:23+00:00</td>\n",
       "      <td>(2024, 2, 19, 16, 28, 23, 0, 50, 0)</td>\n",
       "      <td>2024-02-19T16:28:23+00:00</td>\n",
       "      <td>(2024, 2, 19, 16, 28, 23, 0, 50, 0)</td>\n",
       "      <td>Germany seeks new EU sanctions on Russia over ...</td>\n",
       "      <td>{'type': 'text/plain', 'language': None, 'base...</td>\n",
       "    </tr>\n",
       "    <tr>\n",
       "      <th>4</th>\n",
       "      <td>[{'name': '/u/coolbern', 'href': 'https://www....</td>\n",
       "      <td>{'name': '/u/coolbern', 'href': 'https://www.r...</td>\n",
       "      <td>https://www.reddit.com/user/coolbern</td>\n",
       "      <td>/u/coolbern</td>\n",
       "      <td>[{'term': 'news', 'scheme': None, 'label': 'r/...</td>\n",
       "      <td>[{'type': 'text/html', 'language': None, 'base...</td>\n",
       "      <td>&amp;#32; submitted by &amp;#32; &lt;a href=\"https://www....</td>\n",
       "      <td>https://www.reddit.com/r/news/t3_1aupub9</td>\n",
       "      <td>True</td>\n",
       "      <td>https://www.reddit.com/r/news/comments/1aupub9...</td>\n",
       "      <td>[{'href': 'https://www.reddit.com/r/news/comme...</td>\n",
       "      <td>2024-02-19T15:23:59+00:00</td>\n",
       "      <td>(2024, 2, 19, 15, 23, 59, 0, 50, 0)</td>\n",
       "      <td>2024-02-19T15:23:59+00:00</td>\n",
       "      <td>(2024, 2, 19, 15, 23, 59, 0, 50, 0)</td>\n",
       "      <td>Documents reveal Abraham Lincoln pardoned Bide...</td>\n",
       "      <td>{'type': 'text/plain', 'language': None, 'base...</td>\n",
       "    </tr>\n",
       "  </tbody>\n",
       "</table>\n",
       "</div>"
      ],
      "text/plain": [
       "                                             authors  \\\n",
       "0  [{'name': '/u/dpgtfc', 'href': 'https://www.re...   \n",
       "1  [{'name': '/u/drrdf', 'href': 'https://www.red...   \n",
       "2  [{'name': '/u/MrDangerMan', 'href': 'https://w...   \n",
       "3  [{'name': '/u/PanzerAal', 'href': 'https://www...   \n",
       "4  [{'name': '/u/coolbern', 'href': 'https://www....   \n",
       "\n",
       "                                       author_detail  \\\n",
       "0  {'name': '/u/dpgtfc', 'href': 'https://www.red...   \n",
       "1  {'name': '/u/drrdf', 'href': 'https://www.redd...   \n",
       "2  {'name': '/u/MrDangerMan', 'href': 'https://ww...   \n",
       "3  {'name': '/u/PanzerAal', 'href': 'https://www....   \n",
       "4  {'name': '/u/coolbern', 'href': 'https://www.r...   \n",
       "\n",
       "                                      href          author  \\\n",
       "0       https://www.reddit.com/user/dpgtfc       /u/dpgtfc   \n",
       "1        https://www.reddit.com/user/drrdf        /u/drrdf   \n",
       "2  https://www.reddit.com/user/MrDangerMan  /u/MrDangerMan   \n",
       "3    https://www.reddit.com/user/PanzerAal    /u/PanzerAal   \n",
       "4     https://www.reddit.com/user/coolbern     /u/coolbern   \n",
       "\n",
       "                                                tags  \\\n",
       "0  [{'term': 'news', 'scheme': None, 'label': 'r/...   \n",
       "1  [{'term': 'news', 'scheme': None, 'label': 'r/...   \n",
       "2  [{'term': 'news', 'scheme': None, 'label': 'r/...   \n",
       "3  [{'term': 'news', 'scheme': None, 'label': 'r/...   \n",
       "4  [{'term': 'news', 'scheme': None, 'label': 'r/...   \n",
       "\n",
       "                                             content  \\\n",
       "0  [{'type': 'text/html', 'language': None, 'base...   \n",
       "1  [{'type': 'text/html', 'language': None, 'base...   \n",
       "2  [{'type': 'text/html', 'language': None, 'base...   \n",
       "3  [{'type': 'text/html', 'language': None, 'base...   \n",
       "4  [{'type': 'text/html', 'language': None, 'base...   \n",
       "\n",
       "                                             summary  \\\n",
       "0  &#32; submitted by &#32; <a href=\"https://www....   \n",
       "1  &#32; submitted by &#32; <a href=\"https://www....   \n",
       "2  &#32; submitted by &#32; <a href=\"https://www....   \n",
       "3  &#32; submitted by &#32; <a href=\"https://www....   \n",
       "4  &#32; submitted by &#32; <a href=\"https://www....   \n",
       "\n",
       "                                         id  guidislink  \\\n",
       "0  https://www.reddit.com/r/news/t3_1auqq65        True   \n",
       "1  https://www.reddit.com/r/news/t3_1aus8y5        True   \n",
       "2  https://www.reddit.com/r/news/t3_1auslup        True   \n",
       "3  https://www.reddit.com/r/news/t3_1aurfxv        True   \n",
       "4  https://www.reddit.com/r/news/t3_1aupub9        True   \n",
       "\n",
       "                                                link  \\\n",
       "0  https://www.reddit.com/r/news/comments/1auqq65...   \n",
       "1  https://www.reddit.com/r/news/comments/1aus8y5...   \n",
       "2  https://www.reddit.com/r/news/comments/1auslup...   \n",
       "3  https://www.reddit.com/r/news/comments/1aurfxv...   \n",
       "4  https://www.reddit.com/r/news/comments/1aupub9...   \n",
       "\n",
       "                                               links  \\\n",
       "0  [{'href': 'https://www.reddit.com/r/news/comme...   \n",
       "1  [{'href': 'https://www.reddit.com/r/news/comme...   \n",
       "2  [{'href': 'https://www.reddit.com/r/news/comme...   \n",
       "3  [{'href': 'https://www.reddit.com/r/news/comme...   \n",
       "4  [{'href': 'https://www.reddit.com/r/news/comme...   \n",
       "\n",
       "                     updated                       updated_parsed  \\\n",
       "0  2024-02-19T16:00:23+00:00   (2024, 2, 19, 16, 0, 23, 0, 50, 0)   \n",
       "1  2024-02-19T17:00:10+00:00   (2024, 2, 19, 17, 0, 10, 0, 50, 0)   \n",
       "2  2024-02-19T17:13:26+00:00  (2024, 2, 19, 17, 13, 26, 0, 50, 0)   \n",
       "3  2024-02-19T16:28:23+00:00  (2024, 2, 19, 16, 28, 23, 0, 50, 0)   \n",
       "4  2024-02-19T15:23:59+00:00  (2024, 2, 19, 15, 23, 59, 0, 50, 0)   \n",
       "\n",
       "                   published                     published_parsed  \\\n",
       "0  2024-02-19T16:00:23+00:00   (2024, 2, 19, 16, 0, 23, 0, 50, 0)   \n",
       "1  2024-02-19T17:00:10+00:00   (2024, 2, 19, 17, 0, 10, 0, 50, 0)   \n",
       "2  2024-02-19T17:13:26+00:00  (2024, 2, 19, 17, 13, 26, 0, 50, 0)   \n",
       "3  2024-02-19T16:28:23+00:00  (2024, 2, 19, 16, 28, 23, 0, 50, 0)   \n",
       "4  2024-02-19T15:23:59+00:00  (2024, 2, 19, 15, 23, 59, 0, 50, 0)   \n",
       "\n",
       "                                               title  \\\n",
       "0  At least 1 dead, 5 injured in shooting at Indi...   \n",
       "1  Navalny's body will not be released to family ...   \n",
       "2  Prattville police arrest Montgomery officer on...   \n",
       "3  Germany seeks new EU sanctions on Russia over ...   \n",
       "4  Documents reveal Abraham Lincoln pardoned Bide...   \n",
       "\n",
       "                                        title_detail  \n",
       "0  {'type': 'text/plain', 'language': None, 'base...  \n",
       "1  {'type': 'text/plain', 'language': None, 'base...  \n",
       "2  {'type': 'text/plain', 'language': None, 'base...  \n",
       "3  {'type': 'text/plain', 'language': None, 'base...  \n",
       "4  {'type': 'text/plain', 'language': None, 'base...  "
      ]
     },
     "execution_count": 24,
     "metadata": {},
     "output_type": "execute_result"
    }
   ],
   "source": [
    "pd.DataFrame(reddit['entries']).head()"
   ]
  },
  {
   "cell_type": "code",
   "execution_count": 25,
   "metadata": {},
   "outputs": [
    {
     "data": {
      "text/plain": [
       "'2024-02-19T19:04:16+00:00'"
      ]
     },
     "execution_count": 25,
     "metadata": {},
     "output_type": "execute_result"
    }
   ],
   "source": [
    "pd.DataFrame(reddit['entries'])['published'].max()  # despues"
   ]
  },
  {
   "cell_type": "code",
   "execution_count": 18,
   "metadata": {},
   "outputs": [
    {
     "data": {
      "text/plain": [
       "'2024-02-19T19:04:16+00:00'"
      ]
     },
     "execution_count": 18,
     "metadata": {},
     "output_type": "execute_result"
    }
   ],
   "source": [
    "pd.DataFrame(reddit['entries'])['published'].max() # antes"
   ]
  },
  {
   "cell_type": "markdown",
   "metadata": {},
   "source": [
    "### [Nasa](https://www.nasa.gov/content/nasa-rss-feeds) RSS"
   ]
  },
  {
   "cell_type": "code",
   "execution_count": 27,
   "metadata": {},
   "outputs": [
    {
     "data": {
      "text/plain": [
       "dict_keys(['bozo', 'entries', 'feed', 'headers', 'etag', 'updated', 'updated_parsed', 'href', 'status', 'encoding', 'version', 'namespaces'])"
      ]
     },
     "execution_count": 27,
     "metadata": {},
     "output_type": "execute_result"
    }
   ],
   "source": [
    "feedparser.parse('https://www.nasa.gov/news-release/feed/').keys()"
   ]
  },
  {
   "cell_type": "markdown",
   "metadata": {},
   "source": [
    "### [ForexLive](https://www.forexlive.com/rss) RSS"
   ]
  },
  {
   "cell_type": "code",
   "execution_count": 28,
   "metadata": {
    "scrolled": false
   },
   "outputs": [
    {
     "data": {
      "text/plain": [
       "dict_keys(['bozo', 'entries', 'feed', 'headers', 'etag', 'href', 'status', 'encoding', 'version', 'namespaces'])"
      ]
     },
     "execution_count": 28,
     "metadata": {},
     "output_type": "execute_result"
    }
   ],
   "source": [
    "feedparser.parse('https://www.forexlive.com/feed/cryptocurrency').keys()"
   ]
  },
  {
   "cell_type": "markdown",
   "metadata": {},
   "source": [
    "### [Unam](http://www.ssn.unam.mx) RSS\n",
    "\n",
    "A veces el RSS viene directamente en formato .xml\n",
    "\n",
    "Veremos como tratarlo."
   ]
  },
  {
   "cell_type": "code",
   "execution_count": null,
   "metadata": {},
   "outputs": [],
   "source": [
    "%pip install xmltodict"
   ]
  },
  {
   "cell_type": "code",
   "execution_count": 30,
   "metadata": {},
   "outputs": [],
   "source": [
    "import xmltodict\n",
    "\n",
    "import requests as req "
   ]
  },
  {
   "cell_type": "code",
   "execution_count": 31,
   "metadata": {},
   "outputs": [],
   "source": [
    "url = 'http://www.ssn.unam.mx/rss/ultimos-sismos.xml'"
   ]
  },
  {
   "cell_type": "code",
   "execution_count": 32,
   "metadata": {},
   "outputs": [
    {
     "data": {
      "text/plain": [
       "<Response [200]>"
      ]
     },
     "execution_count": 32,
     "metadata": {},
     "output_type": "execute_result"
    }
   ],
   "source": [
    "resp = req.get(url)\n",
    "\n",
    "resp"
   ]
  },
  {
   "cell_type": "code",
   "execution_count": 36,
   "metadata": {},
   "outputs": [],
   "source": [
    "data = xmltodict.parse(resp.text)"
   ]
  },
  {
   "cell_type": "code",
   "execution_count": 38,
   "metadata": {},
   "outputs": [
    {
     "data": {
      "text/plain": [
       "dict_keys(['rss'])"
      ]
     },
     "execution_count": 38,
     "metadata": {},
     "output_type": "execute_result"
    }
   ],
   "source": [
    "data.keys()"
   ]
  },
  {
   "cell_type": "code",
   "execution_count": 45,
   "metadata": {},
   "outputs": [
    {
     "data": {
      "text/plain": [
       "15"
      ]
     },
     "execution_count": 45,
     "metadata": {},
     "output_type": "execute_result"
    }
   ],
   "source": [
    "len(data['rss']['channel']['item'])"
   ]
  },
  {
   "cell_type": "code",
   "execution_count": 46,
   "metadata": {},
   "outputs": [
    {
     "data": {
      "text/plain": [
       "{'title': '4.2, 13 km al NOROESTE de  RIO GRANDE, OAX',\n",
       " 'description': '<p>Fecha:2024-02-19 12:22:04 (Hora de M&eacute;xico)<br/>Lat/Lon: 16.1/-97.52<br/>Profundidad: 7.2 km </p>',\n",
       " 'link': 'http://www2.ssn.unam.mx:8080/jsp/localizacion-de-sismo.jsp?latitud=16.1&longitud=-97.52&prf=7.2 km&ma=4.2&fecha=2024-02-19&hora=12:22:04&loc=13 km al NOROESTE de  RIO GRANDE, OAX &evento=1',\n",
       " 'geo:lat': '16.1',\n",
       " 'geo:long': '-97.52'}"
      ]
     },
     "execution_count": 46,
     "metadata": {},
     "output_type": "execute_result"
    }
   ],
   "source": [
    "data['rss']['channel']['item'][0]"
   ]
  },
  {
   "cell_type": "code",
   "execution_count": 49,
   "metadata": {},
   "outputs": [
    {
     "data": {
      "text/plain": [
       "'http://www2.ssn.unam.mx:8080/jsp/localizacion-de-sismo.jsp?latitud=16.1&longitud=-97.52&prf=7.2 km&ma=4.2&fecha=2024-02-19&hora=12:22:04&loc=13 km al NOROESTE de  RIO GRANDE, OAX &evento=1'"
      ]
     },
     "execution_count": 49,
     "metadata": {},
     "output_type": "execute_result"
    }
   ],
   "source": [
    "link = data['rss']['channel']['item'][0]['link']\n",
    "\n",
    "link"
   ]
  },
  {
   "cell_type": "code",
   "execution_count": 53,
   "metadata": {},
   "outputs": [
    {
     "data": {
      "text/plain": [
       "['latitud=16.1',\n",
       " 'longitud=-97.52',\n",
       " 'prf=7.2 km',\n",
       " 'ma=4.2',\n",
       " 'fecha=2024-02-19',\n",
       " 'hora=12:22:04',\n",
       " 'loc=13 km al NOROESTE de  RIO GRANDE, OAX ']"
      ]
     },
     "execution_count": 53,
     "metadata": {},
     "output_type": "execute_result"
    }
   ],
   "source": [
    "link.split('?')[1].split('&')[:-1]"
   ]
  },
  {
   "cell_type": "code",
   "execution_count": 56,
   "metadata": {},
   "outputs": [
    {
     "data": {
      "text/plain": [
       "{'latitud': '16.1',\n",
       " 'longitud': '-97.52',\n",
       " 'prf': '7.2 km',\n",
       " 'ma': '4.2',\n",
       " 'fecha': '2024-02-19',\n",
       " 'hora': '12:22:04',\n",
       " 'loc': '13 km al NOROESTE de  RIO GRANDE, OAX '}"
      ]
     },
     "execution_count": 56,
     "metadata": {},
     "output_type": "execute_result"
    }
   ],
   "source": [
    "d = link.split('?')[1].split('&')[:-1]\n",
    "\n",
    "dict([e.split('=') for e in d])"
   ]
  },
  {
   "cell_type": "code",
   "execution_count": 57,
   "metadata": {},
   "outputs": [],
   "source": [
    "resultado = []\n",
    "\n",
    "\n",
    "for terremoto in data['rss']['channel']['item']:\n",
    "    \n",
    "    link = terremoto['link']\n",
    "    \n",
    "    d = link.split('?')[1].split('&')[:-1]\n",
    "    \n",
    "    dictio = dict([e.split('=') for e in d])\n",
    "    \n",
    "    \n",
    "    resultado.append(dictio)\n"
   ]
  },
  {
   "cell_type": "code",
   "execution_count": 59,
   "metadata": {},
   "outputs": [
    {
     "data": {
      "text/html": [
       "<div>\n",
       "<style scoped>\n",
       "    .dataframe tbody tr th:only-of-type {\n",
       "        vertical-align: middle;\n",
       "    }\n",
       "\n",
       "    .dataframe tbody tr th {\n",
       "        vertical-align: top;\n",
       "    }\n",
       "\n",
       "    .dataframe thead th {\n",
       "        text-align: right;\n",
       "    }\n",
       "</style>\n",
       "<table border=\"1\" class=\"dataframe\">\n",
       "  <thead>\n",
       "    <tr style=\"text-align: right;\">\n",
       "      <th></th>\n",
       "      <th>latitud</th>\n",
       "      <th>longitud</th>\n",
       "      <th>prf</th>\n",
       "      <th>ma</th>\n",
       "      <th>fecha</th>\n",
       "      <th>hora</th>\n",
       "      <th>loc</th>\n",
       "    </tr>\n",
       "  </thead>\n",
       "  <tbody>\n",
       "    <tr>\n",
       "      <th>0</th>\n",
       "      <td>16.1</td>\n",
       "      <td>-97.52</td>\n",
       "      <td>7.2 km</td>\n",
       "      <td>4.2</td>\n",
       "      <td>2024-02-19</td>\n",
       "      <td>12:22:04</td>\n",
       "      <td>13 km al NOROESTE de  RIO GRANDE, OAX</td>\n",
       "    </tr>\n",
       "    <tr>\n",
       "      <th>1</th>\n",
       "      <td>16.1</td>\n",
       "      <td>-99.02</td>\n",
       "      <td>16.4 km</td>\n",
       "      <td>4.3</td>\n",
       "      <td>2024-02-19</td>\n",
       "      <td>10:30:33</td>\n",
       "      <td>87 km al SURESTE de  SAN MARCOS, GRO</td>\n",
       "    </tr>\n",
       "    <tr>\n",
       "      <th>2</th>\n",
       "      <td>15.3</td>\n",
       "      <td>-94.36</td>\n",
       "      <td>42.1 km</td>\n",
       "      <td>3.7</td>\n",
       "      <td>2024-02-19</td>\n",
       "      <td>04:46:28</td>\n",
       "      <td>109 km al SUROESTE de  TONALA, CHIS</td>\n",
       "    </tr>\n",
       "    <tr>\n",
       "      <th>3</th>\n",
       "      <td>16.72</td>\n",
       "      <td>-95.01</td>\n",
       "      <td>5.5 km</td>\n",
       "      <td>3.4</td>\n",
       "      <td>2024-02-19</td>\n",
       "      <td>04:29:03</td>\n",
       "      <td>17 km al SUR de  MATIAS ROMERO, OAX</td>\n",
       "    </tr>\n",
       "    <tr>\n",
       "      <th>4</th>\n",
       "      <td>15.17</td>\n",
       "      <td>-94.32</td>\n",
       "      <td>3.4 km</td>\n",
       "      <td>3.7</td>\n",
       "      <td>2024-02-19</td>\n",
       "      <td>04:22:01</td>\n",
       "      <td>118 km al SUROESTE de  TONALA, CHIS</td>\n",
       "    </tr>\n",
       "    <tr>\n",
       "      <th>5</th>\n",
       "      <td>17.03</td>\n",
       "      <td>-95.1</td>\n",
       "      <td>110.0 km</td>\n",
       "      <td>3.5</td>\n",
       "      <td>2024-02-19</td>\n",
       "      <td>04:16:37</td>\n",
       "      <td>19 km al NOROESTE de  MATIAS ROMERO, OAX</td>\n",
       "    </tr>\n",
       "    <tr>\n",
       "      <th>6</th>\n",
       "      <td>15.11</td>\n",
       "      <td>-93.02</td>\n",
       "      <td>95.6 km</td>\n",
       "      <td>3.7</td>\n",
       "      <td>2024-02-19</td>\n",
       "      <td>03:40:02</td>\n",
       "      <td>39 km al SUROESTE de  MAPASTEPEC, CHIS</td>\n",
       "    </tr>\n",
       "    <tr>\n",
       "      <th>7</th>\n",
       "      <td>16.52</td>\n",
       "      <td>-95.07</td>\n",
       "      <td>2.2 km</td>\n",
       "      <td>3.6</td>\n",
       "      <td>2024-02-19</td>\n",
       "      <td>03:27:16</td>\n",
       "      <td>6 km al SURESTE de  CD IXTEPEC, OAX</td>\n",
       "    </tr>\n",
       "    <tr>\n",
       "      <th>8</th>\n",
       "      <td>26.12</td>\n",
       "      <td>-110.44</td>\n",
       "      <td>16.1 km</td>\n",
       "      <td>3.8</td>\n",
       "      <td>2024-02-19</td>\n",
       "      <td>02:37:02</td>\n",
       "      <td>91 km al ESTE de  LORETO, BCS</td>\n",
       "    </tr>\n",
       "    <tr>\n",
       "      <th>9</th>\n",
       "      <td>17.34</td>\n",
       "      <td>-94.9</td>\n",
       "      <td>125.7 km</td>\n",
       "      <td>3.3</td>\n",
       "      <td>2024-02-19</td>\n",
       "      <td>02:31:00</td>\n",
       "      <td>54 km al NORESTE de  MATIAS ROMERO, OAX</td>\n",
       "    </tr>\n",
       "    <tr>\n",
       "      <th>10</th>\n",
       "      <td>17.56</td>\n",
       "      <td>-94.91</td>\n",
       "      <td>127.3 km</td>\n",
       "      <td>3.6</td>\n",
       "      <td>2024-02-19</td>\n",
       "      <td>01:50:14</td>\n",
       "      <td>36 km al SUR de  SAYULA DE ALEMAN, VER</td>\n",
       "    </tr>\n",
       "    <tr>\n",
       "      <th>11</th>\n",
       "      <td>16.51</td>\n",
       "      <td>-97.5</td>\n",
       "      <td>22.6 km</td>\n",
       "      <td>3.1</td>\n",
       "      <td>2024-02-19</td>\n",
       "      <td>00:52:22</td>\n",
       "      <td>56 km al NORTE de  RIO GRANDE, OAX</td>\n",
       "    </tr>\n",
       "    <tr>\n",
       "      <th>12</th>\n",
       "      <td>16.93</td>\n",
       "      <td>-94.97</td>\n",
       "      <td>117.4 km</td>\n",
       "      <td>3.8</td>\n",
       "      <td>2024-02-19</td>\n",
       "      <td>00:35:04</td>\n",
       "      <td>10 km al NORESTE de  MATIAS ROMERO, OAX</td>\n",
       "    </tr>\n",
       "    <tr>\n",
       "      <th>13</th>\n",
       "      <td>16.96</td>\n",
       "      <td>-99.81</td>\n",
       "      <td>26.7 km</td>\n",
       "      <td>3.8</td>\n",
       "      <td>2024-02-19</td>\n",
       "      <td>00:05:22</td>\n",
       "      <td>14 km al NORESTE de  ACAPULCO, GRO</td>\n",
       "    </tr>\n",
       "    <tr>\n",
       "      <th>14</th>\n",
       "      <td>17.22</td>\n",
       "      <td>-100.08</td>\n",
       "      <td>30.2 km</td>\n",
       "      <td>3.6</td>\n",
       "      <td>2024-02-19</td>\n",
       "      <td>00:04:18</td>\n",
       "      <td>24 km al NORTE de  COYUCA DE BENITEZ, GRO</td>\n",
       "    </tr>\n",
       "  </tbody>\n",
       "</table>\n",
       "</div>"
      ],
      "text/plain": [
       "   latitud longitud       prf   ma       fecha      hora  \\\n",
       "0     16.1   -97.52    7.2 km  4.2  2024-02-19  12:22:04   \n",
       "1     16.1   -99.02   16.4 km  4.3  2024-02-19  10:30:33   \n",
       "2     15.3   -94.36   42.1 km  3.7  2024-02-19  04:46:28   \n",
       "3    16.72   -95.01    5.5 km  3.4  2024-02-19  04:29:03   \n",
       "4    15.17   -94.32    3.4 km  3.7  2024-02-19  04:22:01   \n",
       "5    17.03    -95.1  110.0 km  3.5  2024-02-19  04:16:37   \n",
       "6    15.11   -93.02   95.6 km  3.7  2024-02-19  03:40:02   \n",
       "7    16.52   -95.07    2.2 km  3.6  2024-02-19  03:27:16   \n",
       "8    26.12  -110.44   16.1 km  3.8  2024-02-19  02:37:02   \n",
       "9    17.34    -94.9  125.7 km  3.3  2024-02-19  02:31:00   \n",
       "10   17.56   -94.91  127.3 km  3.6  2024-02-19  01:50:14   \n",
       "11   16.51    -97.5   22.6 km  3.1  2024-02-19  00:52:22   \n",
       "12   16.93   -94.97  117.4 km  3.8  2024-02-19  00:35:04   \n",
       "13   16.96   -99.81   26.7 km  3.8  2024-02-19  00:05:22   \n",
       "14   17.22  -100.08   30.2 km  3.6  2024-02-19  00:04:18   \n",
       "\n",
       "                                           loc  \n",
       "0       13 km al NOROESTE de  RIO GRANDE, OAX   \n",
       "1        87 km al SURESTE de  SAN MARCOS, GRO   \n",
       "2         109 km al SUROESTE de  TONALA, CHIS   \n",
       "3         17 km al SUR de  MATIAS ROMERO, OAX   \n",
       "4         118 km al SUROESTE de  TONALA, CHIS   \n",
       "5    19 km al NOROESTE de  MATIAS ROMERO, OAX   \n",
       "6      39 km al SUROESTE de  MAPASTEPEC, CHIS   \n",
       "7         6 km al SURESTE de  CD IXTEPEC, OAX   \n",
       "8               91 km al ESTE de  LORETO, BCS   \n",
       "9     54 km al NORESTE de  MATIAS ROMERO, OAX   \n",
       "10     36 km al SUR de  SAYULA DE ALEMAN, VER   \n",
       "11         56 km al NORTE de  RIO GRANDE, OAX   \n",
       "12    10 km al NORESTE de  MATIAS ROMERO, OAX   \n",
       "13         14 km al NORESTE de  ACAPULCO, GRO   \n",
       "14  24 km al NORTE de  COYUCA DE BENITEZ, GRO   "
      ]
     },
     "execution_count": 59,
     "metadata": {},
     "output_type": "execute_result"
    }
   ],
   "source": [
    "import pandas as pd\n",
    "\n",
    "pd.DataFrame(resultado)"
   ]
  },
  {
   "cell_type": "code",
   "execution_count": null,
   "metadata": {},
   "outputs": [],
   "source": [
    "url = 'http://www.ssn.unam.mx/rss/ultimos-sismos.xml'\n",
    "\n",
    "resultado = []\n",
    "\n",
    "while 1:  # bucle infinito\n",
    "    \n",
    "    resp = req.get(url)\n",
    "    \n",
    "    data = xmltodict.parse(resp.text)\n",
    "\n",
    "\n",
    "    for terremoto in data['rss']['channel']['item']:\n",
    "\n",
    "        link = terremoto['link']\n",
    "\n",
    "        d = link.split('?')[1].split('&')[:-1]\n",
    "\n",
    "        dictio = dict([e.split('=') for e in d])\n",
    "\n",
    "\n",
    "        resultado.append(dictio)"
   ]
  }
 ],
 "metadata": {
  "kernelspec": {
   "display_name": "clase",
   "language": "python",
   "name": "clase"
  },
  "language_info": {
   "codemirror_mode": {
    "name": "ipython",
    "version": 3
   },
   "file_extension": ".py",
   "mimetype": "text/x-python",
   "name": "python",
   "nbconvert_exporter": "python",
   "pygments_lexer": "ipython3",
   "version": "3.9.12"
  }
 },
 "nbformat": 4,
 "nbformat_minor": 4
}
