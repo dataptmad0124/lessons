{
 "cells": [
  {
   "cell_type": "markdown",
   "id": "fd9ae331",
   "metadata": {},
   "source": [
    "# Operators\n",
    "\n",
    "- __Arithmetic Operators__\n",
    "    \n",
    "- __Assignment Operators__\n",
    "    \n",
    "- __Comparison Operators__\n",
    "\n",
    "- __Logical Operators__\n",
    "\n",
    "- __Identity Operators__\n",
    "\n",
    "- __Membership Operators__\n"
   ]
  },
  {
   "cell_type": "code",
   "execution_count": 1,
   "id": "0931eabe",
   "metadata": {},
   "outputs": [],
   "source": [
    "# Arithmetic Operators\n",
    "\n",
    "x = 6\n",
    "\n",
    "y = 9"
   ]
  },
  {
   "cell_type": "code",
   "execution_count": 2,
   "id": "6644afc6",
   "metadata": {},
   "outputs": [
    {
     "data": {
      "text/plain": [
       "6"
      ]
     },
     "execution_count": 2,
     "metadata": {},
     "output_type": "execute_result"
    }
   ],
   "source": [
    "x"
   ]
  },
  {
   "cell_type": "code",
   "execution_count": 3,
   "id": "f66d3b81",
   "metadata": {},
   "outputs": [
    {
     "data": {
      "text/plain": [
       "9"
      ]
     },
     "execution_count": 3,
     "metadata": {},
     "output_type": "execute_result"
    }
   ],
   "source": [
    "y"
   ]
  },
  {
   "cell_type": "code",
   "execution_count": 4,
   "id": "dc383cfa",
   "metadata": {},
   "outputs": [
    {
     "data": {
      "text/plain": [
       "15"
      ]
     },
     "execution_count": 4,
     "metadata": {},
     "output_type": "execute_result"
    }
   ],
   "source": [
    "# suma\n",
    "\n",
    "x + y"
   ]
  },
  {
   "cell_type": "code",
   "execution_count": 5,
   "id": "89dd330f",
   "metadata": {},
   "outputs": [
    {
     "data": {
      "text/plain": [
       "14"
      ]
     },
     "execution_count": 5,
     "metadata": {},
     "output_type": "execute_result"
    }
   ],
   "source": [
    "6 + 8"
   ]
  },
  {
   "cell_type": "code",
   "execution_count": 6,
   "id": "c97cb665",
   "metadata": {},
   "outputs": [
    {
     "data": {
      "text/plain": [
       "-3"
      ]
     },
     "execution_count": 6,
     "metadata": {},
     "output_type": "execute_result"
    }
   ],
   "source": [
    "# resta\n",
    "\n",
    "x - y"
   ]
  },
  {
   "cell_type": "code",
   "execution_count": 7,
   "id": "9e11ba55",
   "metadata": {},
   "outputs": [
    {
     "data": {
      "text/plain": [
       "54"
      ]
     },
     "execution_count": 7,
     "metadata": {},
     "output_type": "execute_result"
    }
   ],
   "source": [
    "# multiplicacion\n",
    "\n",
    "x * y"
   ]
  },
  {
   "cell_type": "code",
   "execution_count": 8,
   "id": "8ff2de61",
   "metadata": {},
   "outputs": [
    {
     "data": {
      "text/plain": [
       "0.6666666666666666"
      ]
     },
     "execution_count": 8,
     "metadata": {},
     "output_type": "execute_result"
    }
   ],
   "source": [
    "# division\n",
    "\n",
    "x / y"
   ]
  },
  {
   "cell_type": "code",
   "execution_count": 9,
   "id": "ae471b21",
   "metadata": {},
   "outputs": [
    {
     "data": {
      "text/plain": [
       "1"
      ]
     },
     "execution_count": 9,
     "metadata": {},
     "output_type": "execute_result"
    }
   ],
   "source": [
    "round(x / y)"
   ]
  },
  {
   "cell_type": "code",
   "execution_count": 10,
   "id": "b736ce42",
   "metadata": {},
   "outputs": [
    {
     "data": {
      "text/plain": [
       "0.67"
      ]
     },
     "execution_count": 10,
     "metadata": {},
     "output_type": "execute_result"
    }
   ],
   "source": [
    "round(x / y, 2)  # redondeo con dos decimales"
   ]
  },
  {
   "cell_type": "code",
   "execution_count": 11,
   "id": "51e12e45",
   "metadata": {},
   "outputs": [
    {
     "data": {
      "text/plain": [
       "1.5"
      ]
     },
     "execution_count": 11,
     "metadata": {},
     "output_type": "execute_result"
    }
   ],
   "source": [
    "y / x"
   ]
  },
  {
   "cell_type": "code",
   "execution_count": 12,
   "id": "9ae6c8b2",
   "metadata": {},
   "outputs": [
    {
     "data": {
      "text/plain": [
       "1"
      ]
     },
     "execution_count": 12,
     "metadata": {},
     "output_type": "execute_result"
    }
   ],
   "source": [
    "# division entera\n",
    "\n",
    "y // x"
   ]
  },
  {
   "cell_type": "code",
   "execution_count": 13,
   "id": "24b2d2d8",
   "metadata": {},
   "outputs": [
    {
     "data": {
      "text/plain": [
       "3"
      ]
     },
     "execution_count": 13,
     "metadata": {},
     "output_type": "execute_result"
    }
   ],
   "source": [
    "# modulo (resto de la division)\n",
    "\n",
    "y % x"
   ]
  },
  {
   "cell_type": "code",
   "execution_count": 14,
   "id": "f42e8518",
   "metadata": {},
   "outputs": [
    {
     "data": {
      "text/plain": [
       "6"
      ]
     },
     "execution_count": 14,
     "metadata": {},
     "output_type": "execute_result"
    }
   ],
   "source": [
    "20 // 3"
   ]
  },
  {
   "cell_type": "code",
   "execution_count": 15,
   "id": "43c87b7b",
   "metadata": {},
   "outputs": [
    {
     "data": {
      "text/plain": [
       "2"
      ]
     },
     "execution_count": 15,
     "metadata": {},
     "output_type": "execute_result"
    }
   ],
   "source": [
    "20 % 3"
   ]
  },
  {
   "cell_type": "code",
   "execution_count": 16,
   "id": "67be0ba9",
   "metadata": {},
   "outputs": [
    {
     "data": {
      "text/plain": [
       "5"
      ]
     },
     "execution_count": 16,
     "metadata": {},
     "output_type": "execute_result"
    }
   ],
   "source": [
    "845 % 88 % 12 "
   ]
  },
  {
   "cell_type": "code",
   "execution_count": 17,
   "id": "cca67623",
   "metadata": {},
   "outputs": [
    {
     "data": {
      "text/plain": [
       "14"
      ]
     },
     "execution_count": 17,
     "metadata": {},
     "output_type": "execute_result"
    }
   ],
   "source": [
    "# jerarquia de operaciones\n",
    "\n",
    "3 * 4 + 2"
   ]
  },
  {
   "cell_type": "code",
   "execution_count": 18,
   "id": "8c2eb993",
   "metadata": {},
   "outputs": [
    {
     "data": {
      "text/plain": [
       "18"
      ]
     },
     "execution_count": 18,
     "metadata": {},
     "output_type": "execute_result"
    }
   ],
   "source": [
    "3 * (4 + 2)"
   ]
  },
  {
   "cell_type": "code",
   "execution_count": 19,
   "id": "60f3fd7d",
   "metadata": {},
   "outputs": [
    {
     "data": {
      "text/plain": [
       "8"
      ]
     },
     "execution_count": 19,
     "metadata": {},
     "output_type": "execute_result"
    }
   ],
   "source": [
    "# potencia / raiz\n",
    "\n",
    "2 ** 3"
   ]
  },
  {
   "cell_type": "code",
   "execution_count": 20,
   "id": "a73584c3",
   "metadata": {},
   "outputs": [
    {
     "data": {
      "text/plain": [
       "1.4142135623730951"
      ]
     },
     "execution_count": 20,
     "metadata": {},
     "output_type": "execute_result"
    }
   ],
   "source": [
    "2 ** 0.5  # raiz cuadrada de 2\n"
   ]
  },
  {
   "cell_type": "code",
   "execution_count": 21,
   "id": "856225c8",
   "metadata": {},
   "outputs": [
    {
     "data": {
      "text/plain": [
       "1.0"
      ]
     },
     "execution_count": 21,
     "metadata": {},
     "output_type": "execute_result"
    }
   ],
   "source": [
    "2 ** 1/2"
   ]
  },
  {
   "cell_type": "code",
   "execution_count": 22,
   "id": "bb531d33",
   "metadata": {},
   "outputs": [
    {
     "data": {
      "text/plain": [
       "1.4142135623730951"
      ]
     },
     "execution_count": 22,
     "metadata": {},
     "output_type": "execute_result"
    }
   ],
   "source": [
    "2 ** (1/2)"
   ]
  },
  {
   "cell_type": "code",
   "execution_count": 23,
   "id": "f013bedd",
   "metadata": {},
   "outputs": [
    {
     "data": {
      "text/plain": [
       "0.125"
      ]
     },
     "execution_count": 23,
     "metadata": {},
     "output_type": "execute_result"
    }
   ],
   "source": [
    "2 ** -3"
   ]
  },
  {
   "cell_type": "code",
   "execution_count": 24,
   "id": "96d99520",
   "metadata": {},
   "outputs": [
    {
     "data": {
      "text/plain": [
       "1000.0"
      ]
     },
     "execution_count": 24,
     "metadata": {},
     "output_type": "execute_result"
    }
   ],
   "source": [
    "# notacion cientifica\n",
    "\n",
    "\n",
    "1e3   # 1000"
   ]
  },
  {
   "cell_type": "code",
   "execution_count": 25,
   "id": "8c677293",
   "metadata": {},
   "outputs": [
    {
     "data": {
      "text/plain": [
       "0.001"
      ]
     },
     "execution_count": 25,
     "metadata": {},
     "output_type": "execute_result"
    }
   ],
   "source": [
    "1e-3"
   ]
  },
  {
   "cell_type": "code",
   "execution_count": 26,
   "id": "e4d04435",
   "metadata": {},
   "outputs": [],
   "source": [
    "# Assignment Operators"
   ]
  },
  {
   "cell_type": "code",
   "execution_count": 27,
   "id": "f353f82b",
   "metadata": {},
   "outputs": [
    {
     "data": {
      "text/plain": [
       "9"
      ]
     },
     "execution_count": 27,
     "metadata": {},
     "output_type": "execute_result"
    }
   ],
   "source": [
    "x = 9   # definicion\n",
    "\n",
    "x"
   ]
  },
  {
   "cell_type": "code",
   "execution_count": 28,
   "id": "d795e674",
   "metadata": {},
   "outputs": [],
   "source": [
    "x += 7    # x = x + 7"
   ]
  },
  {
   "cell_type": "code",
   "execution_count": 29,
   "id": "a4cfa5d5",
   "metadata": {},
   "outputs": [
    {
     "data": {
      "text/plain": [
       "16"
      ]
     },
     "execution_count": 29,
     "metadata": {},
     "output_type": "execute_result"
    }
   ],
   "source": [
    "x"
   ]
  },
  {
   "cell_type": "code",
   "execution_count": 30,
   "id": "95e1ab43",
   "metadata": {},
   "outputs": [
    {
     "data": {
      "text/plain": [
       "9"
      ]
     },
     "execution_count": 30,
     "metadata": {},
     "output_type": "execute_result"
    }
   ],
   "source": [
    "x -= 7    # x = x - 7\n",
    "\n",
    "x"
   ]
  },
  {
   "cell_type": "code",
   "execution_count": 31,
   "id": "05d61b61",
   "metadata": {},
   "outputs": [
    {
     "data": {
      "text/plain": [
       "63"
      ]
     },
     "execution_count": 31,
     "metadata": {},
     "output_type": "execute_result"
    }
   ],
   "source": [
    "x *= 7    # x = x * 7\n",
    "\n",
    "x"
   ]
  },
  {
   "cell_type": "code",
   "execution_count": 32,
   "id": "e50f2ad2",
   "metadata": {},
   "outputs": [
    {
     "data": {
      "text/plain": [
       "9.0"
      ]
     },
     "execution_count": 32,
     "metadata": {},
     "output_type": "execute_result"
    }
   ],
   "source": [
    "x /= 7    # x = x / 7\n",
    "\n",
    "x"
   ]
  },
  {
   "cell_type": "code",
   "execution_count": 33,
   "id": "ba71f633",
   "metadata": {},
   "outputs": [
    {
     "data": {
      "text/plain": [
       "9.0"
      ]
     },
     "execution_count": 33,
     "metadata": {},
     "output_type": "execute_result"
    }
   ],
   "source": [
    "x"
   ]
  },
  {
   "cell_type": "code",
   "execution_count": 34,
   "id": "c9c9e8b1",
   "metadata": {},
   "outputs": [
    {
     "data": {
      "text/plain": [
       "9"
      ]
     },
     "execution_count": 34,
     "metadata": {},
     "output_type": "execute_result"
    }
   ],
   "source": [
    "y"
   ]
  },
  {
   "cell_type": "code",
   "execution_count": 35,
   "id": "9abbae56",
   "metadata": {},
   "outputs": [
    {
     "ename": "NameError",
     "evalue": "name 'z' is not defined",
     "output_type": "error",
     "traceback": [
      "\u001b[0;31m---------------------------------------------------------------------------\u001b[0m",
      "\u001b[0;31mNameError\u001b[0m                                 Traceback (most recent call last)",
      "Cell \u001b[0;32mIn[35], line 1\u001b[0m\n\u001b[0;32m----> 1\u001b[0m \u001b[43mz\u001b[49m\n",
      "\u001b[0;31mNameError\u001b[0m: name 'z' is not defined"
     ]
    }
   ],
   "source": [
    "z"
   ]
  },
  {
   "cell_type": "code",
   "execution_count": 36,
   "id": "7bf6ec03",
   "metadata": {},
   "outputs": [
    {
     "data": {
      "text/plain": [
       "False"
      ]
     },
     "execution_count": 36,
     "metadata": {},
     "output_type": "execute_result"
    }
   ],
   "source": [
    "x == 3   # comparacion"
   ]
  },
  {
   "cell_type": "code",
   "execution_count": 37,
   "id": "b221ff39",
   "metadata": {},
   "outputs": [
    {
     "data": {
      "text/plain": [
       "True"
      ]
     },
     "execution_count": 37,
     "metadata": {},
     "output_type": "execute_result"
    }
   ],
   "source": [
    "x == 9  # igualdad"
   ]
  },
  {
   "cell_type": "code",
   "execution_count": 38,
   "id": "40717e3d",
   "metadata": {},
   "outputs": [
    {
     "data": {
      "text/plain": [
       "True"
      ]
     },
     "execution_count": 38,
     "metadata": {},
     "output_type": "execute_result"
    }
   ],
   "source": [
    "x != 6  # desigualdad (distinto de)"
   ]
  },
  {
   "cell_type": "code",
   "execution_count": 39,
   "id": "c2e881d4",
   "metadata": {},
   "outputs": [
    {
     "data": {
      "text/plain": [
       "False"
      ]
     },
     "execution_count": 39,
     "metadata": {},
     "output_type": "execute_result"
    }
   ],
   "source": [
    "x <= 6  # desigualdad (menor o igual)"
   ]
  },
  {
   "cell_type": "code",
   "execution_count": 40,
   "id": "c14bfd3f",
   "metadata": {},
   "outputs": [
    {
     "data": {
      "text/plain": [
       "False"
      ]
     },
     "execution_count": 40,
     "metadata": {},
     "output_type": "execute_result"
    }
   ],
   "source": [
    "x < 6  # desigualdad (menor )"
   ]
  },
  {
   "cell_type": "code",
   "execution_count": 41,
   "id": "f8e4f0f1",
   "metadata": {},
   "outputs": [
    {
     "data": {
      "text/plain": [
       "True"
      ]
     },
     "execution_count": 41,
     "metadata": {},
     "output_type": "execute_result"
    }
   ],
   "source": [
    "x >= 6  # desigualdad (mayor o igual)"
   ]
  },
  {
   "cell_type": "code",
   "execution_count": 42,
   "id": "f881ed01",
   "metadata": {},
   "outputs": [
    {
     "data": {
      "text/plain": [
       "True"
      ]
     },
     "execution_count": 42,
     "metadata": {},
     "output_type": "execute_result"
    }
   ],
   "source": [
    "x > 6  # desigualdad (mayor)"
   ]
  },
  {
   "cell_type": "code",
   "execution_count": 43,
   "id": "87af1418",
   "metadata": {},
   "outputs": [
    {
     "data": {
      "text/plain": [
       "True"
      ]
     },
     "execution_count": 43,
     "metadata": {},
     "output_type": "execute_result"
    }
   ],
   "source": [
    "# operadores logicos (and, or, not)\n",
    "\n",
    "True"
   ]
  },
  {
   "cell_type": "code",
   "execution_count": 44,
   "id": "94947eec",
   "metadata": {},
   "outputs": [
    {
     "data": {
      "text/plain": [
       "False"
      ]
     },
     "execution_count": 44,
     "metadata": {},
     "output_type": "execute_result"
    }
   ],
   "source": [
    "False"
   ]
  },
  {
   "cell_type": "code",
   "execution_count": 45,
   "id": "b8b134ce",
   "metadata": {},
   "outputs": [
    {
     "data": {
      "text/plain": [
       "True"
      ]
     },
     "execution_count": 45,
     "metadata": {},
     "output_type": "execute_result"
    }
   ],
   "source": [
    "True and True"
   ]
  },
  {
   "cell_type": "code",
   "execution_count": 46,
   "id": "fd7d39b1",
   "metadata": {},
   "outputs": [
    {
     "data": {
      "text/plain": [
       "False"
      ]
     },
     "execution_count": 46,
     "metadata": {},
     "output_type": "execute_result"
    }
   ],
   "source": [
    "True and False"
   ]
  },
  {
   "cell_type": "code",
   "execution_count": 47,
   "id": "16df7256",
   "metadata": {},
   "outputs": [
    {
     "data": {
      "text/plain": [
       "True"
      ]
     },
     "execution_count": 47,
     "metadata": {},
     "output_type": "execute_result"
    }
   ],
   "source": [
    "True or False"
   ]
  },
  {
   "cell_type": "code",
   "execution_count": 48,
   "id": "20343aa8",
   "metadata": {},
   "outputs": [
    {
     "data": {
      "text/plain": [
       "True"
      ]
     },
     "execution_count": 48,
     "metadata": {},
     "output_type": "execute_result"
    }
   ],
   "source": [
    "True or True"
   ]
  },
  {
   "cell_type": "code",
   "execution_count": 49,
   "id": "959701df",
   "metadata": {},
   "outputs": [
    {
     "data": {
      "text/plain": [
       "False"
      ]
     },
     "execution_count": 49,
     "metadata": {},
     "output_type": "execute_result"
    }
   ],
   "source": [
    "False or False"
   ]
  },
  {
   "cell_type": "code",
   "execution_count": 50,
   "id": "b97e1757",
   "metadata": {},
   "outputs": [
    {
     "data": {
      "text/plain": [
       "False"
      ]
     },
     "execution_count": 50,
     "metadata": {},
     "output_type": "execute_result"
    }
   ],
   "source": [
    "False and False"
   ]
  },
  {
   "cell_type": "code",
   "execution_count": 51,
   "id": "f9aa488c",
   "metadata": {},
   "outputs": [
    {
     "data": {
      "text/plain": [
       "False"
      ]
     },
     "execution_count": 51,
     "metadata": {},
     "output_type": "execute_result"
    }
   ],
   "source": [
    "not True"
   ]
  },
  {
   "cell_type": "code",
   "execution_count": 52,
   "id": "df357844",
   "metadata": {},
   "outputs": [
    {
     "data": {
      "text/plain": [
       "True"
      ]
     },
     "execution_count": 52,
     "metadata": {},
     "output_type": "execute_result"
    }
   ],
   "source": [
    "not False"
   ]
  },
  {
   "cell_type": "code",
   "execution_count": 53,
   "id": "59e7e00b",
   "metadata": {},
   "outputs": [],
   "source": [
    "x = 9\n",
    "\n",
    "y = 9"
   ]
  },
  {
   "cell_type": "code",
   "execution_count": 54,
   "id": "6bc1f6c6",
   "metadata": {},
   "outputs": [
    {
     "data": {
      "text/plain": [
       "4303350320"
      ]
     },
     "execution_count": 54,
     "metadata": {},
     "output_type": "execute_result"
    }
   ],
   "source": [
    "id(x)  # es el espacio de memoria RAM que ocupa"
   ]
  },
  {
   "cell_type": "code",
   "execution_count": 55,
   "id": "07e86af6",
   "metadata": {},
   "outputs": [
    {
     "data": {
      "text/plain": [
       "4303350320"
      ]
     },
     "execution_count": 55,
     "metadata": {},
     "output_type": "execute_result"
    }
   ],
   "source": [
    "id(y)"
   ]
  },
  {
   "cell_type": "code",
   "execution_count": 56,
   "id": "1061ad61",
   "metadata": {},
   "outputs": [
    {
     "data": {
      "text/plain": [
       "True"
      ]
     },
     "execution_count": 56,
     "metadata": {},
     "output_type": "execute_result"
    }
   ],
   "source": [
    "x == y"
   ]
  },
  {
   "cell_type": "code",
   "execution_count": 57,
   "id": "ed1dd076",
   "metadata": {},
   "outputs": [
    {
     "data": {
      "text/plain": [
       "True"
      ]
     },
     "execution_count": 57,
     "metadata": {},
     "output_type": "execute_result"
    }
   ],
   "source": [
    "x is y"
   ]
  },
  {
   "cell_type": "code",
   "execution_count": 58,
   "id": "b8982f79",
   "metadata": {},
   "outputs": [
    {
     "data": {
      "text/plain": [
       "False"
      ]
     },
     "execution_count": 58,
     "metadata": {},
     "output_type": "execute_result"
    }
   ],
   "source": [
    "var1 = 'iron'\n",
    "\n",
    "var2 = 'on'\n",
    "\n",
    "var1 == var2"
   ]
  },
  {
   "cell_type": "code",
   "execution_count": 59,
   "id": "30d9a5c3",
   "metadata": {},
   "outputs": [
    {
     "data": {
      "text/plain": [
       "False"
      ]
     },
     "execution_count": 59,
     "metadata": {},
     "output_type": "execute_result"
    }
   ],
   "source": [
    "var1 is var2"
   ]
  },
  {
   "cell_type": "code",
   "execution_count": 60,
   "id": "e82e445d",
   "metadata": {},
   "outputs": [
    {
     "data": {
      "text/plain": [
       "True"
      ]
     },
     "execution_count": 60,
     "metadata": {},
     "output_type": "execute_result"
    }
   ],
   "source": [
    "var2 in var1"
   ]
  },
  {
   "cell_type": "code",
   "execution_count": 61,
   "id": "2b23a382",
   "metadata": {},
   "outputs": [],
   "source": [
    "lst = [1,2,3]\n",
    "\n",
    "lst2 = [1,2,3]"
   ]
  },
  {
   "cell_type": "code",
   "execution_count": 62,
   "id": "f43043d3",
   "metadata": {},
   "outputs": [
    {
     "data": {
      "text/plain": [
       "True"
      ]
     },
     "execution_count": 62,
     "metadata": {},
     "output_type": "execute_result"
    }
   ],
   "source": [
    "lst == lst2"
   ]
  },
  {
   "cell_type": "code",
   "execution_count": 63,
   "id": "c86e4578",
   "metadata": {},
   "outputs": [
    {
     "data": {
      "text/plain": [
       "False"
      ]
     },
     "execution_count": 63,
     "metadata": {},
     "output_type": "execute_result"
    }
   ],
   "source": [
    "lst is lst2"
   ]
  },
  {
   "cell_type": "code",
   "execution_count": 64,
   "id": "dacc7773",
   "metadata": {},
   "outputs": [
    {
     "data": {
      "text/plain": [
       "4353871808"
      ]
     },
     "execution_count": 64,
     "metadata": {},
     "output_type": "execute_result"
    }
   ],
   "source": [
    "id(lst)"
   ]
  },
  {
   "cell_type": "code",
   "execution_count": 65,
   "id": "4dafb662",
   "metadata": {},
   "outputs": [
    {
     "data": {
      "text/plain": [
       "4358101248"
      ]
     },
     "execution_count": 65,
     "metadata": {},
     "output_type": "execute_result"
    }
   ],
   "source": [
    "id(lst2)"
   ]
  },
  {
   "cell_type": "code",
   "execution_count": 66,
   "id": "3ecd4ef0",
   "metadata": {},
   "outputs": [
    {
     "data": {
      "text/plain": [
       "[1, 2, 3, 8]"
      ]
     },
     "execution_count": 66,
     "metadata": {},
     "output_type": "execute_result"
    }
   ],
   "source": [
    "lst.append(8)\n",
    "\n",
    "lst"
   ]
  },
  {
   "cell_type": "code",
   "execution_count": 67,
   "id": "df7583b9",
   "metadata": {},
   "outputs": [
    {
     "data": {
      "text/plain": [
       "[1, 2, 3]"
      ]
     },
     "execution_count": 67,
     "metadata": {},
     "output_type": "execute_result"
    }
   ],
   "source": [
    "lst2"
   ]
  },
  {
   "cell_type": "code",
   "execution_count": 68,
   "id": "86d5861c",
   "metadata": {},
   "outputs": [],
   "source": [
    "lst = lst2  # no es una copia"
   ]
  },
  {
   "cell_type": "code",
   "execution_count": 69,
   "id": "cc74e959",
   "metadata": {},
   "outputs": [
    {
     "data": {
      "text/plain": [
       "True"
      ]
     },
     "execution_count": 69,
     "metadata": {},
     "output_type": "execute_result"
    }
   ],
   "source": [
    "lst is lst2"
   ]
  },
  {
   "cell_type": "code",
   "execution_count": 70,
   "id": "68804ef3",
   "metadata": {},
   "outputs": [],
   "source": [
    "lst.append(8)"
   ]
  },
  {
   "cell_type": "code",
   "execution_count": 71,
   "id": "a188135a",
   "metadata": {},
   "outputs": [
    {
     "data": {
      "text/plain": [
       "[1, 2, 3, 8]"
      ]
     },
     "execution_count": 71,
     "metadata": {},
     "output_type": "execute_result"
    }
   ],
   "source": [
    "lst"
   ]
  },
  {
   "cell_type": "code",
   "execution_count": 72,
   "id": "30a6fe97",
   "metadata": {},
   "outputs": [
    {
     "data": {
      "text/plain": [
       "[1, 2, 3, 8]"
      ]
     },
     "execution_count": 72,
     "metadata": {},
     "output_type": "execute_result"
    }
   ],
   "source": [
    "lst2"
   ]
  },
  {
   "cell_type": "code",
   "execution_count": 73,
   "id": "f40a34a5",
   "metadata": {},
   "outputs": [],
   "source": [
    "lst = lst2[:]   # esto es una copia"
   ]
  },
  {
   "cell_type": "markdown",
   "id": "646f5e8a",
   "metadata": {},
   "source": [
    "---\n",
    "\n",
    "# Control Flow\n",
    "\n",
    "- __if__\n",
    "    \n",
    "- __elif__\n",
    "    \n",
    "- __else__\n",
    "\n",
    "- __for__\n",
    "\n",
    "- __while__"
   ]
  },
  {
   "cell_type": "code",
   "execution_count": 74,
   "id": "802f9e5b",
   "metadata": {},
   "outputs": [
    {
     "data": {
      "text/plain": [
       "9"
      ]
     },
     "execution_count": 74,
     "metadata": {},
     "output_type": "execute_result"
    }
   ],
   "source": [
    "x"
   ]
  },
  {
   "cell_type": "code",
   "execution_count": 75,
   "id": "1100c01e",
   "metadata": {},
   "outputs": [
    {
     "data": {
      "text/plain": [
       "1"
      ]
     },
     "execution_count": 75,
     "metadata": {},
     "output_type": "execute_result"
    }
   ],
   "source": [
    "x % 2  # resto de la division"
   ]
  },
  {
   "cell_type": "code",
   "execution_count": 76,
   "id": "76556836",
   "metadata": {},
   "outputs": [
    {
     "data": {
      "text/plain": [
       "0"
      ]
     },
     "execution_count": 76,
     "metadata": {},
     "output_type": "execute_result"
    }
   ],
   "source": [
    "4 % 2"
   ]
  },
  {
   "cell_type": "code",
   "execution_count": 77,
   "id": "dffc9d8b",
   "metadata": {},
   "outputs": [
    {
     "name": "stdout",
     "output_type": "stream",
     "text": [
      "X es impar\n"
     ]
    }
   ],
   "source": [
    "if x%2==0:   # si el resto de dividir x entre dos es cero...\n",
    "     \n",
    "    print('X es par')  # printea esto\n",
    "    \n",
    "elif x%2==1:  # si el resto de dividir x entre dos es uno...\n",
    "    \n",
    "    print('X es impar') # printea esto otro\n",
    "    \n",
    "    \n",
    "else:  # para cualquier otro caso...\n",
    "    \n",
    "    print('Por aqui no va nunca')\n",
    "    \n",
    "    "
   ]
  },
  {
   "cell_type": "code",
   "execution_count": 78,
   "id": "693b7998",
   "metadata": {},
   "outputs": [
    {
     "data": {
      "text/plain": [
       "True"
      ]
     },
     "execution_count": 78,
     "metadata": {},
     "output_type": "execute_result"
    }
   ],
   "source": [
    "x%2 == 1"
   ]
  },
  {
   "cell_type": "code",
   "execution_count": 79,
   "id": "6dec8c4c",
   "metadata": {},
   "outputs": [
    {
     "data": {
      "text/plain": [
       "True"
      ]
     },
     "execution_count": 79,
     "metadata": {},
     "output_type": "execute_result"
    }
   ],
   "source": [
    "x%2 != 0"
   ]
  },
  {
   "cell_type": "code",
   "execution_count": 80,
   "id": "db274937",
   "metadata": {},
   "outputs": [
    {
     "name": "stdout",
     "output_type": "stream",
     "text": [
      "X es impar\n"
     ]
    }
   ],
   "source": [
    "if x%2==0:   # si el resto de dividir x entre dos es cero...\n",
    "     \n",
    "    print('X es par')  # printea esto\n",
    "    \n",
    "else:  # para cualquier otro caso...\n",
    "    \n",
    "    print('X es impar')\n",
    "    "
   ]
  },
  {
   "cell_type": "code",
   "execution_count": 81,
   "id": "63d9b84e",
   "metadata": {},
   "outputs": [
    {
     "name": "stdout",
     "output_type": "stream",
     "text": [
      "X es impar\n"
     ]
    }
   ],
   "source": [
    "if x%2==0:   # si el resto de dividir x entre dos es cero...\n",
    "     \n",
    "    print('X es par')  # printea esto\n",
    "    \n",
    "elif x%2==1:  # si el resto de dividir x entre dos es uno...\n",
    "    \n",
    "    print('X es impar') # printea esto otro\n",
    "    \n",
    "    \n",
    "else:     # esto es por buenas practicas\n",
    "    pass"
   ]
  },
  {
   "cell_type": "code",
   "execution_count": 82,
   "id": "a28e58d6",
   "metadata": {},
   "outputs": [
    {
     "name": "stdout",
     "output_type": "stream",
     "text": [
      "The Zen of Python, by Tim Peters\n",
      "\n",
      "Beautiful is better than ugly.\n",
      "Explicit is better than implicit.\n",
      "Simple is better than complex.\n",
      "Complex is better than complicated.\n",
      "Flat is better than nested.\n",
      "Sparse is better than dense.\n",
      "Readability counts.\n",
      "Special cases aren't special enough to break the rules.\n",
      "Although practicality beats purity.\n",
      "Errors should never pass silently.\n",
      "Unless explicitly silenced.\n",
      "In the face of ambiguity, refuse the temptation to guess.\n",
      "There should be one-- and preferably only one --obvious way to do it.\n",
      "Although that way may not be obvious at first unless you're Dutch.\n",
      "Now is better than never.\n",
      "Although never is often better than *right* now.\n",
      "If the implementation is hard to explain, it's a bad idea.\n",
      "If the implementation is easy to explain, it may be a good idea.\n",
      "Namespaces are one honking great idea -- let's do more of those!\n"
     ]
    }
   ],
   "source": [
    "import this"
   ]
  },
  {
   "cell_type": "code",
   "execution_count": 83,
   "id": "099c47d0",
   "metadata": {},
   "outputs": [
    {
     "name": "stdout",
     "output_type": "stream",
     "text": [
      "X es impar\n"
     ]
    }
   ],
   "source": [
    "if x%2==0:   # si el resto de dividir x entre dos es cero...\n",
    "     \n",
    "    print('X es par')  # printea esto\n",
    "    \n",
    "if x%2==1:  # si el resto de dividir x entre dos es uno...\n",
    "    \n",
    "    print('X es impar') # printea esto otro"
   ]
  },
  {
   "cell_type": "code",
   "execution_count": 84,
   "id": "67ff0376",
   "metadata": {},
   "outputs": [],
   "source": [
    "# bucles for"
   ]
  },
  {
   "cell_type": "code",
   "execution_count": 85,
   "id": "cc458043",
   "metadata": {},
   "outputs": [
    {
     "data": {
      "text/plain": [
       "[2, 3, 4, 5, 6, 7, 8, 9]"
      ]
     },
     "execution_count": 85,
     "metadata": {},
     "output_type": "execute_result"
    }
   ],
   "source": [
    "lst = [2,3,4,5,6,7,8,9]\n",
    "\n",
    "lst"
   ]
  },
  {
   "cell_type": "code",
   "execution_count": 86,
   "id": "838635cb",
   "metadata": {},
   "outputs": [
    {
     "name": "stdout",
     "output_type": "stream",
     "text": [
      "Numero:  2\n",
      "Numero:  3\n",
      "Numero:  4\n",
      "Numero:  5\n",
      "Numero:  6\n",
      "Numero:  7\n",
      "Numero:  8\n",
      "Numero:  9\n"
     ]
    }
   ],
   "source": [
    "# 1er tipo (para cada elemento en la lista....)\n",
    "\n",
    "for elemento in lst:\n",
    "    \n",
    "    print('Numero: ', elemento)"
   ]
  },
  {
   "cell_type": "code",
   "execution_count": 87,
   "id": "b4bf1a86",
   "metadata": {},
   "outputs": [
    {
     "data": {
      "text/plain": [
       "9"
      ]
     },
     "execution_count": 87,
     "metadata": {},
     "output_type": "execute_result"
    }
   ],
   "source": [
    "elemento"
   ]
  },
  {
   "cell_type": "code",
   "execution_count": 88,
   "id": "6ecff5eb",
   "metadata": {},
   "outputs": [
    {
     "name": "stdout",
     "output_type": "stream",
     "text": [
      "h\n",
      "o\n",
      "l\n",
      "a\n",
      " \n",
      "q\n",
      "u\n",
      "e\n",
      " \n",
      "t\n",
      "a\n",
      "l\n",
      ",\n",
      " \n",
      "h\n",
      "o\n",
      "l\n",
      "a\n",
      " \n",
      "q\n",
      "u\n",
      "e\n",
      " \n",
      "p\n",
      "a\n",
      "s\n",
      "a\n",
      " \n",
      "q\n",
      "u\n",
      "e\n",
      " \n",
      "t\n",
      "a\n",
      "l\n",
      "l\n",
      "l\n"
     ]
    }
   ],
   "source": [
    "for letra in 'hola que tal, hola que pasa que talll':\n",
    "    \n",
    "    print(letra)"
   ]
  },
  {
   "cell_type": "code",
   "execution_count": 89,
   "id": "d965563f",
   "metadata": {},
   "outputs": [
    {
     "data": {
      "text/plain": [
       "'hola que tal, hola que pasa que talll'"
      ]
     },
     "execution_count": 89,
     "metadata": {},
     "output_type": "execute_result"
    }
   ],
   "source": [
    "texto = 'hola que tal, hola que pasa que talll'\n",
    "\n",
    "texto"
   ]
  },
  {
   "cell_type": "code",
   "execution_count": 90,
   "id": "7e42b430",
   "metadata": {},
   "outputs": [
    {
     "data": {
      "text/plain": [
       "['hola', 'que', 'tal,', 'hola', 'que', 'pasa', 'que', 'talll']"
      ]
     },
     "execution_count": 90,
     "metadata": {},
     "output_type": "execute_result"
    }
   ],
   "source": [
    "texto.split()"
   ]
  },
  {
   "cell_type": "code",
   "execution_count": 91,
   "id": "321e5d8d",
   "metadata": {},
   "outputs": [
    {
     "name": "stdout",
     "output_type": "stream",
     "text": [
      "Palabra:  hola\n",
      "Palabra:  que\n",
      "Palabra:  tal,\n",
      "Palabra:  hola\n",
      "Palabra:  que\n",
      "Palabra:  pasa\n",
      "Palabra:  que\n",
      "Palabra:  talll\n"
     ]
    }
   ],
   "source": [
    "for palabra in texto.split():\n",
    "    \n",
    "    print('Palabra: ',palabra)"
   ]
  },
  {
   "cell_type": "code",
   "execution_count": 92,
   "id": "5b9372e2",
   "metadata": {},
   "outputs": [
    {
     "data": {
      "text/plain": [
       "{'hola', 'pasa', 'que', 'tal,', 'talll'}"
      ]
     },
     "execution_count": 92,
     "metadata": {},
     "output_type": "execute_result"
    }
   ],
   "source": [
    "set(texto.split())"
   ]
  },
  {
   "cell_type": "code",
   "execution_count": 93,
   "id": "4662a012",
   "metadata": {},
   "outputs": [
    {
     "name": "stdout",
     "output_type": "stream",
     "text": [
      "Palabra:  hola\n",
      "Palabra:  que\n",
      "Palabra:  talll\n",
      "Palabra:  pasa\n",
      "Palabra:  tal,\n"
     ]
    }
   ],
   "source": [
    "for palabra in set(texto.split()):\n",
    "    \n",
    "    print('Palabra: ',palabra)"
   ]
  },
  {
   "cell_type": "code",
   "execution_count": 94,
   "id": "3e97eae5",
   "metadata": {},
   "outputs": [
    {
     "data": {
      "text/plain": [
       "['hola', 'pasa', 'que', 'tal,', 'talll']"
      ]
     },
     "execution_count": 94,
     "metadata": {},
     "output_type": "execute_result"
    }
   ],
   "source": [
    "sorted(set(texto.split()))  # ordena de menor a mayor por defecto"
   ]
  },
  {
   "cell_type": "code",
   "execution_count": 95,
   "id": "261d8207",
   "metadata": {},
   "outputs": [
    {
     "data": {
      "text/plain": [
       "['talll', 'tal,', 'que', 'pasa', 'hola']"
      ]
     },
     "execution_count": 95,
     "metadata": {},
     "output_type": "execute_result"
    }
   ],
   "source": [
    "sorted(set(texto.split()), reverse=True)  # ordena de mayor a menor"
   ]
  },
  {
   "cell_type": "code",
   "execution_count": 96,
   "id": "b15051bd",
   "metadata": {},
   "outputs": [
    {
     "data": {
      "text/plain": [
       "['hola', 'pasa', 'que', 'tal,', 'talll']"
      ]
     },
     "execution_count": 96,
     "metadata": {},
     "output_type": "execute_result"
    }
   ],
   "source": [
    "['talll', 'tal,', 'que', 'pasa', 'hola'][::-1]  # vete desde el pricipio hasta el final al reves"
   ]
  },
  {
   "cell_type": "code",
   "execution_count": 97,
   "id": "500fc2d7",
   "metadata": {},
   "outputs": [
    {
     "data": {
      "text/plain": [
       "8"
      ]
     },
     "execution_count": 97,
     "metadata": {},
     "output_type": "execute_result"
    }
   ],
   "source": [
    "# 2º tipo de bucle (para cada indice en el rango de la longitud....)\n",
    "\n",
    "\n",
    "len(lst)"
   ]
  },
  {
   "cell_type": "code",
   "execution_count": 98,
   "id": "e380c771",
   "metadata": {},
   "outputs": [
    {
     "name": "stdout",
     "output_type": "stream",
     "text": [
      "Indice:  0\n",
      "Indice:  1\n",
      "Indice:  2\n",
      "Indice:  3\n",
      "Indice:  4\n",
      "Indice:  5\n",
      "Indice:  6\n",
      "Indice:  7\n"
     ]
    }
   ],
   "source": [
    "for indice in range(len(lst)):\n",
    "    \n",
    "    print('Indice: ', indice)"
   ]
  },
  {
   "cell_type": "code",
   "execution_count": 99,
   "id": "9d143f75",
   "metadata": {},
   "outputs": [
    {
     "data": {
      "text/plain": [
       "[2, 3, 4, 5, 6, 7, 8, 9]"
      ]
     },
     "execution_count": 99,
     "metadata": {},
     "output_type": "execute_result"
    }
   ],
   "source": [
    "lst"
   ]
  },
  {
   "cell_type": "code",
   "execution_count": 100,
   "id": "b3c4f808",
   "metadata": {},
   "outputs": [
    {
     "data": {
      "text/plain": [
       "[0, 1, 2, 3, 4, 5, 6, 7]"
      ]
     },
     "execution_count": 100,
     "metadata": {},
     "output_type": "execute_result"
    }
   ],
   "source": [
    "list(range(8))   # va de cero a 7 de uno en uno"
   ]
  },
  {
   "cell_type": "code",
   "execution_count": 101,
   "id": "8dcc5024",
   "metadata": {},
   "outputs": [
    {
     "data": {
      "text/plain": [
       "[2, 3, 4, 5, 6, 7, 8]"
      ]
     },
     "execution_count": 101,
     "metadata": {},
     "output_type": "execute_result"
    }
   ],
   "source": [
    "list(range(2, 9))  # va de 2 a 8 de uno en uno"
   ]
  },
  {
   "cell_type": "code",
   "execution_count": 102,
   "id": "271189d5",
   "metadata": {},
   "outputs": [
    {
     "data": {
      "text/plain": [
       "[2, 5, 8]"
      ]
     },
     "execution_count": 102,
     "metadata": {},
     "output_type": "execute_result"
    }
   ],
   "source": [
    "list(range(2, 9, 3))  # va de 2 a 8 de tres en tres"
   ]
  },
  {
   "cell_type": "code",
   "execution_count": 103,
   "id": "e07d0104",
   "metadata": {},
   "outputs": [
    {
     "data": {
      "text/plain": [
       "[2, 4, 6, 8]"
      ]
     },
     "execution_count": 103,
     "metadata": {},
     "output_type": "execute_result"
    }
   ],
   "source": [
    "start = 2\n",
    "\n",
    "stop = 10\n",
    "\n",
    "step = 2\n",
    "\n",
    "list(range(start, stop, step))"
   ]
  },
  {
   "cell_type": "code",
   "execution_count": 104,
   "id": "4cb521cf",
   "metadata": {},
   "outputs": [
    {
     "data": {
      "text/plain": [
       "[0, 1, 2, 3, 4, 5, 6, 7, 8, 9]"
      ]
     },
     "execution_count": 104,
     "metadata": {},
     "output_type": "execute_result"
    }
   ],
   "source": [
    "list(range(0, 10, 1))"
   ]
  },
  {
   "cell_type": "code",
   "execution_count": 105,
   "id": "c0d5c73a",
   "metadata": {},
   "outputs": [
    {
     "data": {
      "text/plain": [
       "2"
      ]
     },
     "execution_count": 105,
     "metadata": {},
     "output_type": "execute_result"
    }
   ],
   "source": [
    "lst[0]"
   ]
  },
  {
   "cell_type": "code",
   "execution_count": 106,
   "id": "f3354099",
   "metadata": {},
   "outputs": [],
   "source": [
    "lst2 = ['hola', 'adios', 'hasta']"
   ]
  },
  {
   "cell_type": "code",
   "execution_count": 107,
   "id": "0fa1985c",
   "metadata": {},
   "outputs": [
    {
     "name": "stdout",
     "output_type": "stream",
     "text": [
      "Indice:  0\n",
      "Elemento:  2\n",
      "\n",
      "Indice:  1\n",
      "Elemento:  3\n",
      "\n",
      "Indice:  2\n",
      "Elemento:  4\n",
      "\n",
      "Indice:  3\n",
      "Elemento:  5\n",
      "\n",
      "Indice:  4\n",
      "Elemento:  6\n",
      "\n",
      "Indice:  5\n",
      "Elemento:  7\n",
      "\n",
      "Indice:  6\n",
      "Elemento:  8\n",
      "\n",
      "Indice:  7\n",
      "Elemento:  9\n",
      "\n"
     ]
    }
   ],
   "source": [
    "for indice in range(len(lst)):\n",
    "    \n",
    "    print('Indice: ', indice)\n",
    "    \n",
    "    print('Elemento: ', lst[indice])\n",
    "    \n",
    "    print()"
   ]
  },
  {
   "cell_type": "code",
   "execution_count": 108,
   "id": "6757ec1b",
   "metadata": {},
   "outputs": [
    {
     "name": "stdout",
     "output_type": "stream",
     "text": [
      "Indice:  0\n",
      "Elemento lista 1:  2\n",
      "Elemento lista 2:  hola\n",
      "\n",
      "Indice:  1\n",
      "Elemento lista 1:  3\n",
      "Elemento lista 2:  adios\n",
      "\n",
      "Indice:  2\n",
      "Elemento lista 1:  4\n",
      "Elemento lista 2:  hasta\n",
      "\n"
     ]
    }
   ],
   "source": [
    "for indice in range(3):\n",
    "    \n",
    "    print('Indice: ', indice)\n",
    "    \n",
    "    print('Elemento lista 1: ', lst[indice])\n",
    "    \n",
    "    print('Elemento lista 2: ', lst2[indice])\n",
    "    \n",
    "    print()"
   ]
  },
  {
   "cell_type": "code",
   "execution_count": 109,
   "id": "dd9fe252",
   "metadata": {},
   "outputs": [
    {
     "data": {
      "text/plain": [
       "[(0, 2), (1, 3), (2, 4), (3, 5), (4, 6), (5, 7), (6, 8), (7, 9)]"
      ]
     },
     "execution_count": 109,
     "metadata": {},
     "output_type": "execute_result"
    }
   ],
   "source": [
    "list(enumerate(lst))"
   ]
  },
  {
   "cell_type": "code",
   "execution_count": 110,
   "id": "8e3459bf",
   "metadata": {},
   "outputs": [
    {
     "name": "stdout",
     "output_type": "stream",
     "text": [
      "Indice:  0\n",
      "Elemento lista:  2\n",
      "\n",
      "Indice:  1\n",
      "Elemento lista:  3\n",
      "\n",
      "Indice:  2\n",
      "Elemento lista:  4\n",
      "\n",
      "Indice:  3\n",
      "Elemento lista:  5\n",
      "\n",
      "Indice:  4\n",
      "Elemento lista:  6\n",
      "\n",
      "Indice:  5\n",
      "Elemento lista:  7\n",
      "\n",
      "Indice:  6\n",
      "Elemento lista:  8\n",
      "\n",
      "Indice:  7\n",
      "Elemento lista:  9\n",
      "\n"
     ]
    }
   ],
   "source": [
    "# 3er (todo a la vez)\n",
    "\n",
    "\n",
    "for i,e in enumerate(lst):\n",
    "    \n",
    "    print('Indice: ', i)\n",
    "    \n",
    "    print('Elemento lista: ', e)\n",
    "    \n",
    "    print()"
   ]
  },
  {
   "cell_type": "code",
   "execution_count": 111,
   "id": "4a8665a0",
   "metadata": {},
   "outputs": [
    {
     "data": {
      "text/plain": [
       "7"
      ]
     },
     "execution_count": 111,
     "metadata": {},
     "output_type": "execute_result"
    }
   ],
   "source": [
    "i"
   ]
  },
  {
   "cell_type": "code",
   "execution_count": 112,
   "id": "d2a805d0",
   "metadata": {},
   "outputs": [
    {
     "data": {
      "text/plain": [
       "9"
      ]
     },
     "execution_count": 112,
     "metadata": {},
     "output_type": "execute_result"
    }
   ],
   "source": [
    "e"
   ]
  },
  {
   "cell_type": "code",
   "execution_count": 113,
   "id": "eec367f8",
   "metadata": {},
   "outputs": [
    {
     "data": {
      "text/plain": [
       "zip"
      ]
     },
     "execution_count": 113,
     "metadata": {},
     "output_type": "execute_result"
    }
   ],
   "source": [
    "zip"
   ]
  },
  {
   "cell_type": "code",
   "execution_count": 114,
   "id": "06471ab4",
   "metadata": {},
   "outputs": [
    {
     "data": {
      "text/plain": [
       "[(2, 'hola'), (3, 'adios'), (4, 'hasta')]"
      ]
     },
     "execution_count": 114,
     "metadata": {},
     "output_type": "execute_result"
    }
   ],
   "source": [
    "list(zip(lst, lst2))"
   ]
  },
  {
   "cell_type": "code",
   "execution_count": 115,
   "id": "3a6674e7",
   "metadata": {},
   "outputs": [
    {
     "data": {
      "text/plain": [
       "[(2, 'hola', 2), (3, 'adios', 3), (4, 'hasta', 4)]"
      ]
     },
     "execution_count": 115,
     "metadata": {},
     "output_type": "execute_result"
    }
   ],
   "source": [
    "list(zip(lst, lst2, lst))"
   ]
  },
  {
   "cell_type": "code",
   "execution_count": 116,
   "id": "4a74fd98",
   "metadata": {},
   "outputs": [
    {
     "name": "stdout",
     "output_type": "stream",
     "text": [
      "Uno: 2\n",
      "Dos: hola\n",
      "Tres: 12\n",
      "\n",
      "Uno: 3\n",
      "Dos: adios\n",
      "Tres: 13\n",
      "\n",
      "Uno: 4\n",
      "Dos: hasta\n",
      "Tres: 14\n",
      "\n"
     ]
    }
   ],
   "source": [
    "for a,b,c in zip(lst, lst2, lst):\n",
    "    \n",
    "    print('Uno:', a)\n",
    "    print('Dos:', b)\n",
    "    print('Tres:', c+10)\n",
    "    print()"
   ]
  },
  {
   "cell_type": "code",
   "execution_count": 117,
   "id": "da35d1b7",
   "metadata": {},
   "outputs": [],
   "source": [
    "a,b,c = [1,2,3]"
   ]
  },
  {
   "cell_type": "code",
   "execution_count": 118,
   "id": "9bb6d83a",
   "metadata": {},
   "outputs": [
    {
     "data": {
      "text/plain": [
       "1"
      ]
     },
     "execution_count": 118,
     "metadata": {},
     "output_type": "execute_result"
    }
   ],
   "source": [
    "a"
   ]
  },
  {
   "cell_type": "code",
   "execution_count": 119,
   "id": "bf3ec15f",
   "metadata": {},
   "outputs": [
    {
     "data": {
      "text/plain": [
       "3"
      ]
     },
     "execution_count": 119,
     "metadata": {},
     "output_type": "execute_result"
    }
   ],
   "source": [
    "c"
   ]
  },
  {
   "cell_type": "code",
   "execution_count": 120,
   "id": "bbd24a3e",
   "metadata": {},
   "outputs": [
    {
     "data": {
      "text/plain": [
       "2"
      ]
     },
     "execution_count": 120,
     "metadata": {},
     "output_type": "execute_result"
    }
   ],
   "source": [
    "b"
   ]
  },
  {
   "cell_type": "code",
   "execution_count": 121,
   "id": "8066a854",
   "metadata": {},
   "outputs": [
    {
     "ename": "ValueError",
     "evalue": "too many values to unpack (expected 2)",
     "output_type": "error",
     "traceback": [
      "\u001b[0;31m---------------------------------------------------------------------------\u001b[0m",
      "\u001b[0;31mValueError\u001b[0m                                Traceback (most recent call last)",
      "Cell \u001b[0;32mIn[121], line 1\u001b[0m\n\u001b[0;32m----> 1\u001b[0m a,b \u001b[38;5;241m=\u001b[39m [\u001b[38;5;241m1\u001b[39m,\u001b[38;5;241m2\u001b[39m,\u001b[38;5;241m3\u001b[39m]\n",
      "\u001b[0;31mValueError\u001b[0m: too many values to unpack (expected 2)"
     ]
    }
   ],
   "source": [
    "a,b = [1,2,3]"
   ]
  },
  {
   "cell_type": "code",
   "execution_count": 122,
   "id": "5039b977",
   "metadata": {},
   "outputs": [],
   "source": [
    "lst = []\n",
    "\n",
    "\n",
    "for i in range(20):\n",
    "    \n",
    "    if i%2==0:   # si el indice es par....\n",
    "        \n",
    "        lst.append(i)   # iuntroduce dentro de la lista\n",
    "        \n",
    "    else:\n",
    "        continue   # pasa al siguiente paso del bucle"
   ]
  },
  {
   "cell_type": "code",
   "execution_count": 123,
   "id": "c2ff736d",
   "metadata": {},
   "outputs": [
    {
     "data": {
      "text/plain": [
       "[0, 2, 4, 6, 8, 10, 12, 14, 16, 18]"
      ]
     },
     "execution_count": 123,
     "metadata": {},
     "output_type": "execute_result"
    }
   ],
   "source": [
    "lst"
   ]
  },
  {
   "cell_type": "code",
   "execution_count": 124,
   "id": "95367b1d",
   "metadata": {},
   "outputs": [],
   "source": [
    "lst.append(5)"
   ]
  },
  {
   "cell_type": "code",
   "execution_count": 125,
   "id": "9d7d0b32",
   "metadata": {},
   "outputs": [
    {
     "data": {
      "text/plain": [
       "[0, 2, 4, 6, 8, 10, 12, 14, 16, 18, 5]"
      ]
     },
     "execution_count": 125,
     "metadata": {},
     "output_type": "execute_result"
    }
   ],
   "source": [
    "lst"
   ]
  },
  {
   "cell_type": "code",
   "execution_count": 126,
   "id": "33c81ab6",
   "metadata": {},
   "outputs": [
    {
     "data": {
      "text/plain": [
       "[1, 2, 3, 4, 5, 6]"
      ]
     },
     "execution_count": 126,
     "metadata": {},
     "output_type": "execute_result"
    }
   ],
   "source": [
    "[1,2,3] + [4,5,6]"
   ]
  },
  {
   "cell_type": "code",
   "execution_count": 127,
   "id": "b0cb9d2c",
   "metadata": {},
   "outputs": [
    {
     "data": {
      "text/plain": [
       "[0, 2, 4, 6, 8, 10, 12, 14, 16, 18]"
      ]
     },
     "execution_count": 127,
     "metadata": {},
     "output_type": "execute_result"
    }
   ],
   "source": [
    "list(range(0, 20, 2))"
   ]
  },
  {
   "cell_type": "code",
   "execution_count": 128,
   "id": "a0d0042b",
   "metadata": {},
   "outputs": [
    {
     "name": "stdout",
     "output_type": "stream",
     "text": [
      "Numero de fila:  0\n",
      "Numero de fila:  1\n",
      "Numero de fila:  2\n"
     ]
    }
   ],
   "source": [
    "matriz = []\n",
    "\n",
    "\n",
    "for fila in range(3):  # bucle de 3 pasos\n",
    "    \n",
    "    print('Numero de fila: ', fila)\n",
    "    \n",
    "    tmp_lst = []  # ghenera lista vacia para cada paso\n",
    "    \n",
    "    for elemento in range(4): # bucle de 4 pasos\n",
    "        \n",
    "        tmp_lst.append(elemento+fila)\n",
    "        \n",
    "        \n",
    "    # se acaba aqui, con la sangria\n",
    "    \n",
    "    matriz.append(tmp_lst)  # introduce la lista temporal\n",
    "        \n",
    "    "
   ]
  },
  {
   "cell_type": "code",
   "execution_count": 129,
   "id": "631b74e1",
   "metadata": {},
   "outputs": [
    {
     "data": {
      "text/plain": [
       "[[0, 1, 2, 3], [1, 2, 3, 4], [2, 3, 4, 5]]"
      ]
     },
     "execution_count": 129,
     "metadata": {},
     "output_type": "execute_result"
    }
   ],
   "source": [
    "matriz"
   ]
  },
  {
   "cell_type": "code",
   "execution_count": 130,
   "id": "4f08636c",
   "metadata": {},
   "outputs": [
    {
     "data": {
      "text/plain": [
       "[0, 1, 2, 3]"
      ]
     },
     "execution_count": 130,
     "metadata": {},
     "output_type": "execute_result"
    }
   ],
   "source": [
    "tmp_lst = []  # ghenera lista vacia para cada paso\n",
    "    \n",
    "for elemento in range(4): # bucle de 4 pasos\n",
    "\n",
    "    tmp_lst.append(elemento)\n",
    "    \n",
    "tmp_lst"
   ]
  },
  {
   "cell_type": "code",
   "execution_count": 131,
   "id": "a14d7d75",
   "metadata": {},
   "outputs": [
    {
     "data": {
      "text/plain": [
       "[15, 18, 13, 16, 2]"
      ]
     },
     "execution_count": 131,
     "metadata": {},
     "output_type": "execute_result"
    }
   ],
   "source": [
    "import random\n",
    "\n",
    "random.sample(range(20), k=5)  # nº alea desde 0 a 19. Dame 5"
   ]
  },
  {
   "cell_type": "code",
   "execution_count": 132,
   "id": "ab3e6a06",
   "metadata": {},
   "outputs": [
    {
     "data": {
      "text/plain": [
       "[[11, 6, 8, 1, 3],\n",
       " [10, 15, 4, 3, 7],\n",
       " [11, 1, 16, 10, 9],\n",
       " [10, 14, 0, 4, 8],\n",
       " [19, 16, 6, 0, 15]]"
      ]
     },
     "execution_count": 132,
     "metadata": {},
     "output_type": "execute_result"
    }
   ],
   "source": [
    "matriz = []\n",
    "\n",
    "for i in range(5):\n",
    "    \n",
    "    matriz.append(random.sample(range(20), k=5))\n",
    "    \n",
    "matriz"
   ]
  },
  {
   "cell_type": "code",
   "execution_count": 133,
   "id": "4aa97ae6",
   "metadata": {},
   "outputs": [
    {
     "name": "stdout",
     "output_type": "stream",
     "text": [
      "Hola, el numero es 10\n",
      "Hola, el numero es 9\n",
      "Hola, el numero es 8\n",
      "Hola, el numero es 7\n",
      "Hola, el numero es 6\n",
      "Hola, el numero es 5\n",
      "Hola, el numero es 4\n",
      "Hola, el numero es 3\n",
      "Hola, el numero es 2\n",
      "Hola, el numero es 1\n"
     ]
    }
   ],
   "source": [
    "# bucle while (basado en una condicion)\n",
    "\n",
    "\n",
    "numero = 10\n",
    "\n",
    "\n",
    "while numero>0:  # mientras que el numero sea mayor que cero, haz lo siguinte....\n",
    "    \n",
    "    print('Hola, el numero es', numero)\n",
    "    \n",
    "    numero -= 1  # numero = numero - 1\n",
    "\n",
    "\n"
   ]
  },
  {
   "cell_type": "code",
   "execution_count": 134,
   "id": "bae326fe",
   "metadata": {},
   "outputs": [
    {
     "data": {
      "text/plain": [
       "0"
      ]
     },
     "execution_count": 134,
     "metadata": {},
     "output_type": "execute_result"
    }
   ],
   "source": [
    "numero"
   ]
  },
  {
   "cell_type": "code",
   "execution_count": 135,
   "id": "42f39667",
   "metadata": {},
   "outputs": [
    {
     "name": "stdout",
     "output_type": "stream",
     "text": [
      "Hola, el numero es 10\n",
      "Hola, el numero es 9\n",
      "Hola, el numero es 8\n",
      "Hola, el numero es 7\n",
      "Hola, el numero es 6\n",
      "Hola, el numero es 5\n",
      "Hola, el numero es 4\n",
      "Hola, el numero es 3\n",
      "Hola, el numero es 2\n",
      "Hola, el numero es 1\n",
      "Hola, el numero es 0\n"
     ]
    }
   ],
   "source": [
    "numero = 10\n",
    "\n",
    "\n",
    "while numero>=0:  # mientras que el numero sea mayor que cero, haz lo siguinte....\n",
    "    \n",
    "    print('Hola, el numero es', numero)\n",
    "    \n",
    "    numero -= 1  # numero = numero - 1"
   ]
  },
  {
   "cell_type": "code",
   "execution_count": 136,
   "id": "d262ac44",
   "metadata": {},
   "outputs": [],
   "source": [
    "while True:  # bucle infinito\n",
    "    break"
   ]
  },
  {
   "cell_type": "code",
   "execution_count": 137,
   "id": "1e10d2de",
   "metadata": {},
   "outputs": [],
   "source": [
    "while 1:    # bucle infinito\n",
    "    break"
   ]
  },
  {
   "cell_type": "code",
   "execution_count": 148,
   "id": "abe82c36",
   "metadata": {},
   "outputs": [
    {
     "name": "stdout",
     "output_type": "stream",
     "text": [
      "Dime tu nombre Yona\n",
      "Hola Yona\n",
      "Hasta luegui Yona\n"
     ]
    }
   ],
   "source": [
    "while 1:    # bucle infinito\n",
    "    \n",
    "    nombre = input('Dime tu nombre ')\n",
    "    \n",
    "    while 1:    # bucle infinito\n",
    "        print('Hola', nombre)\n",
    "        break\n",
    "        \n",
    "    print('Hasta luegui', nombre)\n",
    "    \n",
    "    break"
   ]
  },
  {
   "cell_type": "code",
   "execution_count": 141,
   "id": "a8e0054b",
   "metadata": {},
   "outputs": [
    {
     "name": "stdout",
     "output_type": "stream",
     "text": [
      "0\n",
      "1\n",
      "1\n",
      "2\n",
      "3\n",
      "5\n",
      "8\n",
      "13\n",
      "21\n",
      "34\n",
      "55\n",
      "89\n"
     ]
    }
   ],
   "source": [
    "# secuencia de Fibonacci\n",
    "\n",
    "a = 0\n",
    "\n",
    "b = 1\n",
    "\n",
    "print(a)\n",
    "\n",
    "print(b)\n",
    "\n",
    "\n",
    "contador = 10\n",
    "\n",
    "\n",
    "while contador > 0:\n",
    "    \n",
    "    c = a+b\n",
    "    \n",
    "    print(c)\n",
    "    \n",
    "    a = b\n",
    "    \n",
    "    b = c\n",
    "    \n",
    "    contador -= 1\n",
    "    "
   ]
  },
  {
   "cell_type": "code",
   "execution_count": 145,
   "id": "71591099",
   "metadata": {},
   "outputs": [
    {
     "data": {
      "text/plain": [
       "1000000"
      ]
     },
     "execution_count": 145,
     "metadata": {},
     "output_type": "execute_result"
    }
   ],
   "source": [
    "1_000_000"
   ]
  },
  {
   "cell_type": "code",
   "execution_count": null,
   "id": "ff7853cf",
   "metadata": {},
   "outputs": [],
   "source": []
  }
 ],
 "metadata": {
  "kernelspec": {
   "display_name": "clase",
   "language": "python",
   "name": "clase"
  },
  "language_info": {
   "codemirror_mode": {
    "name": "ipython",
    "version": 3
   },
   "file_extension": ".py",
   "mimetype": "text/x-python",
   "name": "python",
   "nbconvert_exporter": "python",
   "pygments_lexer": "ipython3",
   "version": "3.9.12"
  }
 },
 "nbformat": 4,
 "nbformat_minor": 5
}
