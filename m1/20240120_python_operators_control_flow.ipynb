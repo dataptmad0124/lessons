{
 "cells": [
  {
   "cell_type": "markdown",
   "id": "fd9ae331",
   "metadata": {},
   "source": [
    "# Operators\n",
    "\n",
    "- __Arithmetic Operators__\n",
    "    \n",
    "- __Assignment Operators__\n",
    "    \n",
    "- __Comparison Operators__\n",
    "\n",
    "- __Logical Operators__\n",
    "\n",
    "- __Identity Operators__\n",
    "\n",
    "- __Membership Operators__\n"
   ]
  },
  {
   "cell_type": "code",
   "execution_count": 1,
   "id": "0931eabe",
   "metadata": {},
   "outputs": [],
   "source": [
    "# Arithmetic Operators\n",
    "\n",
    "x = 6\n",
    "\n",
    "y = 9"
   ]
  },
  {
   "cell_type": "code",
   "execution_count": 2,
   "id": "6644afc6",
   "metadata": {},
   "outputs": [
    {
     "data": {
      "text/plain": [
       "6"
      ]
     },
     "execution_count": 2,
     "metadata": {},
     "output_type": "execute_result"
    }
   ],
   "source": [
    "x"
   ]
  },
  {
   "cell_type": "code",
   "execution_count": 3,
   "id": "f66d3b81",
   "metadata": {},
   "outputs": [
    {
     "data": {
      "text/plain": [
       "9"
      ]
     },
     "execution_count": 3,
     "metadata": {},
     "output_type": "execute_result"
    }
   ],
   "source": [
    "y"
   ]
  },
  {
   "cell_type": "code",
   "execution_count": 4,
   "id": "df37cb82",
   "metadata": {},
   "outputs": [
    {
     "data": {
      "text/plain": [
       "15"
      ]
     },
     "execution_count": 4,
     "metadata": {},
     "output_type": "execute_result"
    }
   ],
   "source": [
    "# suma\n",
    "\n",
    "x + y"
   ]
  },
  {
   "cell_type": "code",
   "execution_count": 5,
   "id": "a4db6a58",
   "metadata": {},
   "outputs": [
    {
     "data": {
      "text/plain": [
       "14"
      ]
     },
     "execution_count": 5,
     "metadata": {},
     "output_type": "execute_result"
    }
   ],
   "source": [
    "6 + 8"
   ]
  },
  {
   "cell_type": "code",
   "execution_count": 6,
   "id": "3ee91499",
   "metadata": {},
   "outputs": [
    {
     "data": {
      "text/plain": [
       "-3"
      ]
     },
     "execution_count": 6,
     "metadata": {},
     "output_type": "execute_result"
    }
   ],
   "source": [
    "# resta\n",
    "\n",
    "x - y"
   ]
  },
  {
   "cell_type": "code",
   "execution_count": 7,
   "id": "9e11ba55",
   "metadata": {},
   "outputs": [
    {
     "data": {
      "text/plain": [
       "54"
      ]
     },
     "execution_count": 7,
     "metadata": {},
     "output_type": "execute_result"
    }
   ],
   "source": [
    "# multiplicacion\n",
    "\n",
    "x * y"
   ]
  },
  {
   "cell_type": "code",
   "execution_count": 8,
   "id": "8ff2de61",
   "metadata": {},
   "outputs": [
    {
     "data": {
      "text/plain": [
       "0.6666666666666666"
      ]
     },
     "execution_count": 8,
     "metadata": {},
     "output_type": "execute_result"
    }
   ],
   "source": [
    "# division\n",
    "\n",
    "x / y"
   ]
  },
  {
   "cell_type": "code",
   "execution_count": 9,
   "id": "ae471b21",
   "metadata": {},
   "outputs": [
    {
     "data": {
      "text/plain": [
       "1"
      ]
     },
     "execution_count": 9,
     "metadata": {},
     "output_type": "execute_result"
    }
   ],
   "source": [
    "round(x / y)"
   ]
  },
  {
   "cell_type": "code",
   "execution_count": 10,
   "id": "b736ce42",
   "metadata": {},
   "outputs": [
    {
     "data": {
      "text/plain": [
       "0.67"
      ]
     },
     "execution_count": 10,
     "metadata": {},
     "output_type": "execute_result"
    }
   ],
   "source": [
    "round(x / y, 2)  # redondeo con dos decimales"
   ]
  },
  {
   "cell_type": "code",
   "execution_count": 11,
   "id": "51e12e45",
   "metadata": {},
   "outputs": [
    {
     "data": {
      "text/plain": [
       "1.5"
      ]
     },
     "execution_count": 11,
     "metadata": {},
     "output_type": "execute_result"
    }
   ],
   "source": [
    "y / x"
   ]
  },
  {
   "cell_type": "code",
   "execution_count": 12,
   "id": "9ae6c8b2",
   "metadata": {},
   "outputs": [
    {
     "data": {
      "text/plain": [
       "1"
      ]
     },
     "execution_count": 12,
     "metadata": {},
     "output_type": "execute_result"
    }
   ],
   "source": [
    "# division entera\n",
    "\n",
    "y // x"
   ]
  },
  {
   "cell_type": "code",
   "execution_count": 13,
   "id": "c0906880",
   "metadata": {},
   "outputs": [
    {
     "data": {
      "text/plain": [
       "3"
      ]
     },
     "execution_count": 13,
     "metadata": {},
     "output_type": "execute_result"
    }
   ],
   "source": [
    "# modulo (resto de la division)\n",
    "\n",
    "y % x"
   ]
  },
  {
   "cell_type": "code",
   "execution_count": 14,
   "id": "7d51f764",
   "metadata": {},
   "outputs": [
    {
     "data": {
      "text/plain": [
       "6"
      ]
     },
     "execution_count": 14,
     "metadata": {},
     "output_type": "execute_result"
    }
   ],
   "source": [
    "20 // 3"
   ]
  },
  {
   "cell_type": "code",
   "execution_count": 15,
   "id": "d8723785",
   "metadata": {},
   "outputs": [
    {
     "data": {
      "text/plain": [
       "2"
      ]
     },
     "execution_count": 15,
     "metadata": {},
     "output_type": "execute_result"
    }
   ],
   "source": [
    "20 % 3"
   ]
  },
  {
   "cell_type": "code",
   "execution_count": 16,
   "id": "e6416dad",
   "metadata": {},
   "outputs": [
    {
     "data": {
      "text/plain": [
       "5"
      ]
     },
     "execution_count": 16,
     "metadata": {},
     "output_type": "execute_result"
    }
   ],
   "source": [
    "845 % 88 % 12 "
   ]
  },
  {
   "cell_type": "code",
   "execution_count": 17,
   "id": "e5f4622d",
   "metadata": {},
   "outputs": [
    {
     "data": {
      "text/plain": [
       "14"
      ]
     },
     "execution_count": 17,
     "metadata": {},
     "output_type": "execute_result"
    }
   ],
   "source": [
    "# jerarquia de operaciones\n",
    "\n",
    "3 * 4 + 2"
   ]
  },
  {
   "cell_type": "code",
   "execution_count": 18,
   "id": "41ea87ee",
   "metadata": {},
   "outputs": [
    {
     "data": {
      "text/plain": [
       "18"
      ]
     },
     "execution_count": 18,
     "metadata": {},
     "output_type": "execute_result"
    }
   ],
   "source": [
    "3 * (4 + 2)"
   ]
  },
  {
   "cell_type": "code",
   "execution_count": 19,
   "id": "da2b8757",
   "metadata": {},
   "outputs": [
    {
     "data": {
      "text/plain": [
       "8"
      ]
     },
     "execution_count": 19,
     "metadata": {},
     "output_type": "execute_result"
    }
   ],
   "source": [
    "# potencia / raiz\n",
    "\n",
    "2 ** 3"
   ]
  },
  {
   "cell_type": "code",
   "execution_count": 20,
   "id": "9444197a",
   "metadata": {},
   "outputs": [
    {
     "data": {
      "text/plain": [
       "1.4142135623730951"
      ]
     },
     "execution_count": 20,
     "metadata": {},
     "output_type": "execute_result"
    }
   ],
   "source": [
    "2 ** 0.5  # raiz cuadrada de 2\n"
   ]
  },
  {
   "cell_type": "code",
   "execution_count": 21,
   "id": "b818969d",
   "metadata": {},
   "outputs": [
    {
     "data": {
      "text/plain": [
       "1.0"
      ]
     },
     "execution_count": 21,
     "metadata": {},
     "output_type": "execute_result"
    }
   ],
   "source": [
    "2 ** 1/2"
   ]
  },
  {
   "cell_type": "code",
   "execution_count": 22,
   "id": "87862b2e",
   "metadata": {},
   "outputs": [
    {
     "data": {
      "text/plain": [
       "1.4142135623730951"
      ]
     },
     "execution_count": 22,
     "metadata": {},
     "output_type": "execute_result"
    }
   ],
   "source": [
    "2 ** (1/2)"
   ]
  },
  {
   "cell_type": "code",
   "execution_count": 23,
   "id": "954c30b0",
   "metadata": {},
   "outputs": [
    {
     "data": {
      "text/plain": [
       "0.125"
      ]
     },
     "execution_count": 23,
     "metadata": {},
     "output_type": "execute_result"
    }
   ],
   "source": [
    "2 ** -3"
   ]
  },
  {
   "cell_type": "code",
   "execution_count": 24,
   "id": "34a6c041",
   "metadata": {},
   "outputs": [
    {
     "data": {
      "text/plain": [
       "1000.0"
      ]
     },
     "execution_count": 24,
     "metadata": {},
     "output_type": "execute_result"
    }
   ],
   "source": [
    "# notacion cientifica\n",
    "\n",
    "\n",
    "1e3   # 1000"
   ]
  },
  {
   "cell_type": "code",
   "execution_count": 25,
   "id": "c45fddb0",
   "metadata": {},
   "outputs": [
    {
     "data": {
      "text/plain": [
       "0.001"
      ]
     },
     "execution_count": 25,
     "metadata": {},
     "output_type": "execute_result"
    }
   ],
   "source": [
    "1e-3"
   ]
  },
  {
   "cell_type": "code",
   "execution_count": 26,
   "id": "020d15d0",
   "metadata": {},
   "outputs": [],
   "source": [
    "# Assignment Operators"
   ]
  },
  {
   "cell_type": "code",
   "execution_count": 27,
   "id": "375eb617",
   "metadata": {},
   "outputs": [
    {
     "data": {
      "text/plain": [
       "9"
      ]
     },
     "execution_count": 27,
     "metadata": {},
     "output_type": "execute_result"
    }
   ],
   "source": [
    "x = 9   # definicion\n",
    "\n",
    "x"
   ]
  },
  {
   "cell_type": "code",
   "execution_count": 28,
   "id": "89b9cb69",
   "metadata": {},
   "outputs": [],
   "source": [
    "x += 7    # x = x + 7"
   ]
  },
  {
   "cell_type": "code",
   "execution_count": 29,
   "id": "6efebd41",
   "metadata": {},
   "outputs": [
    {
     "data": {
      "text/plain": [
       "16"
      ]
     },
     "execution_count": 29,
     "metadata": {},
     "output_type": "execute_result"
    }
   ],
   "source": [
    "x"
   ]
  },
  {
   "cell_type": "code",
   "execution_count": 30,
   "id": "eb9949d2",
   "metadata": {},
   "outputs": [
    {
     "data": {
      "text/plain": [
       "9"
      ]
     },
     "execution_count": 30,
     "metadata": {},
     "output_type": "execute_result"
    }
   ],
   "source": [
    "x -= 7    # x = x - 7\n",
    "\n",
    "x"
   ]
  },
  {
   "cell_type": "code",
   "execution_count": 31,
   "id": "d611e503",
   "metadata": {},
   "outputs": [
    {
     "data": {
      "text/plain": [
       "63"
      ]
     },
     "execution_count": 31,
     "metadata": {},
     "output_type": "execute_result"
    }
   ],
   "source": [
    "x *= 7    # x = x * 7\n",
    "\n",
    "x"
   ]
  },
  {
   "cell_type": "code",
   "execution_count": 32,
   "id": "c540ae19",
   "metadata": {},
   "outputs": [
    {
     "data": {
      "text/plain": [
       "9.0"
      ]
     },
     "execution_count": 32,
     "metadata": {},
     "output_type": "execute_result"
    }
   ],
   "source": [
    "x /= 7    # x = x / 7\n",
    "\n",
    "x"
   ]
  },
  {
   "cell_type": "code",
   "execution_count": 33,
   "id": "53cd606a",
   "metadata": {},
   "outputs": [
    {
     "data": {
      "text/plain": [
       "9.0"
      ]
     },
     "execution_count": 33,
     "metadata": {},
     "output_type": "execute_result"
    }
   ],
   "source": [
    "x"
   ]
  },
  {
   "cell_type": "code",
   "execution_count": 34,
   "id": "1ec818be",
   "metadata": {},
   "outputs": [
    {
     "data": {
      "text/plain": [
       "9"
      ]
     },
     "execution_count": 34,
     "metadata": {},
     "output_type": "execute_result"
    }
   ],
   "source": [
    "y"
   ]
  },
  {
   "cell_type": "code",
   "execution_count": 35,
   "id": "4fb0e440",
   "metadata": {},
   "outputs": [
    {
     "ename": "NameError",
     "evalue": "name 'z' is not defined",
     "output_type": "error",
     "traceback": [
      "\u001b[0;31m---------------------------------------------------------------------------\u001b[0m",
      "\u001b[0;31mNameError\u001b[0m                                 Traceback (most recent call last)",
      "Cell \u001b[0;32mIn[35], line 1\u001b[0m\n\u001b[0;32m----> 1\u001b[0m \u001b[43mz\u001b[49m\n",
      "\u001b[0;31mNameError\u001b[0m: name 'z' is not defined"
     ]
    }
   ],
   "source": [
    "z"
   ]
  },
  {
   "cell_type": "code",
   "execution_count": 36,
   "id": "082b2489",
   "metadata": {},
   "outputs": [
    {
     "data": {
      "text/plain": [
       "False"
      ]
     },
     "execution_count": 36,
     "metadata": {},
     "output_type": "execute_result"
    }
   ],
   "source": [
    "x == 3   # comparacion"
   ]
  },
  {
   "cell_type": "code",
   "execution_count": 37,
   "id": "289fb731",
   "metadata": {},
   "outputs": [
    {
     "data": {
      "text/plain": [
       "True"
      ]
     },
     "execution_count": 37,
     "metadata": {},
     "output_type": "execute_result"
    }
   ],
   "source": [
    "x == 9  # igualdad"
   ]
  },
  {
   "cell_type": "code",
   "execution_count": 38,
   "id": "76aa04b6",
   "metadata": {},
   "outputs": [
    {
     "data": {
      "text/plain": [
       "True"
      ]
     },
     "execution_count": 38,
     "metadata": {},
     "output_type": "execute_result"
    }
   ],
   "source": [
    "x != 6  # desigualdad (distinto de)"
   ]
  },
  {
   "cell_type": "code",
   "execution_count": 39,
   "id": "0165f644",
   "metadata": {},
   "outputs": [
    {
     "data": {
      "text/plain": [
       "False"
      ]
     },
     "execution_count": 39,
     "metadata": {},
     "output_type": "execute_result"
    }
   ],
   "source": [
    "x <= 6  # desigualdad (menor o igual)"
   ]
  },
  {
   "cell_type": "code",
   "execution_count": 40,
   "id": "a9a7c017",
   "metadata": {},
   "outputs": [
    {
     "data": {
      "text/plain": [
       "False"
      ]
     },
     "execution_count": 40,
     "metadata": {},
     "output_type": "execute_result"
    }
   ],
   "source": [
    "x < 6  # desigualdad (menor )"
   ]
  },
  {
   "cell_type": "code",
   "execution_count": 41,
   "id": "8328398a",
   "metadata": {},
   "outputs": [
    {
     "data": {
      "text/plain": [
       "True"
      ]
     },
     "execution_count": 41,
     "metadata": {},
     "output_type": "execute_result"
    }
   ],
   "source": [
    "x >= 6  # desigualdad (mayor o igual)"
   ]
  },
  {
   "cell_type": "code",
   "execution_count": 42,
   "id": "98424520",
   "metadata": {},
   "outputs": [
    {
     "data": {
      "text/plain": [
       "True"
      ]
     },
     "execution_count": 42,
     "metadata": {},
     "output_type": "execute_result"
    }
   ],
   "source": [
    "x > 6  # desigualdad (mayor)"
   ]
  },
  {
   "cell_type": "code",
   "execution_count": 43,
   "id": "66a4a4ab",
   "metadata": {},
   "outputs": [
    {
     "data": {
      "text/plain": [
       "True"
      ]
     },
     "execution_count": 43,
     "metadata": {},
     "output_type": "execute_result"
    }
   ],
   "source": [
    "# operadores logicos (and, or, not)\n",
    "\n",
    "True"
   ]
  },
  {
   "cell_type": "code",
   "execution_count": 44,
   "id": "f1eed690",
   "metadata": {},
   "outputs": [
    {
     "data": {
      "text/plain": [
       "False"
      ]
     },
     "execution_count": 44,
     "metadata": {},
     "output_type": "execute_result"
    }
   ],
   "source": [
    "False"
   ]
  },
  {
   "cell_type": "code",
   "execution_count": 45,
   "id": "3e54e6d7",
   "metadata": {},
   "outputs": [
    {
     "data": {
      "text/plain": [
       "True"
      ]
     },
     "execution_count": 45,
     "metadata": {},
     "output_type": "execute_result"
    }
   ],
   "source": [
    "True and True"
   ]
  },
  {
   "cell_type": "code",
   "execution_count": 46,
   "id": "8e829aeb",
   "metadata": {},
   "outputs": [
    {
     "data": {
      "text/plain": [
       "False"
      ]
     },
     "execution_count": 46,
     "metadata": {},
     "output_type": "execute_result"
    }
   ],
   "source": [
    "True and False"
   ]
  },
  {
   "cell_type": "code",
   "execution_count": 47,
   "id": "bd51f803",
   "metadata": {},
   "outputs": [
    {
     "data": {
      "text/plain": [
       "True"
      ]
     },
     "execution_count": 47,
     "metadata": {},
     "output_type": "execute_result"
    }
   ],
   "source": [
    "True or False"
   ]
  },
  {
   "cell_type": "code",
   "execution_count": 48,
   "id": "5f69ca63",
   "metadata": {},
   "outputs": [
    {
     "data": {
      "text/plain": [
       "True"
      ]
     },
     "execution_count": 48,
     "metadata": {},
     "output_type": "execute_result"
    }
   ],
   "source": [
    "True or True"
   ]
  },
  {
   "cell_type": "code",
   "execution_count": 49,
   "id": "675a134b",
   "metadata": {},
   "outputs": [
    {
     "data": {
      "text/plain": [
       "False"
      ]
     },
     "execution_count": 49,
     "metadata": {},
     "output_type": "execute_result"
    }
   ],
   "source": [
    "False or False"
   ]
  },
  {
   "cell_type": "code",
   "execution_count": 50,
   "id": "75e7676c",
   "metadata": {},
   "outputs": [
    {
     "data": {
      "text/plain": [
       "False"
      ]
     },
     "execution_count": 50,
     "metadata": {},
     "output_type": "execute_result"
    }
   ],
   "source": [
    "False and False"
   ]
  },
  {
   "cell_type": "code",
   "execution_count": 51,
   "id": "aded19da",
   "metadata": {},
   "outputs": [
    {
     "data": {
      "text/plain": [
       "False"
      ]
     },
     "execution_count": 51,
     "metadata": {},
     "output_type": "execute_result"
    }
   ],
   "source": [
    "not True"
   ]
  },
  {
   "cell_type": "code",
   "execution_count": 52,
   "id": "8dbaecf2",
   "metadata": {},
   "outputs": [
    {
     "data": {
      "text/plain": [
       "True"
      ]
     },
     "execution_count": 52,
     "metadata": {},
     "output_type": "execute_result"
    }
   ],
   "source": [
    "not False"
   ]
  },
  {
   "cell_type": "code",
   "execution_count": 53,
   "id": "182d3d6e",
   "metadata": {},
   "outputs": [],
   "source": [
    "x = 9\n",
    "\n",
    "y = 9"
   ]
  },
  {
   "cell_type": "code",
   "execution_count": 54,
   "id": "f5acb36e",
   "metadata": {},
   "outputs": [
    {
     "data": {
      "text/plain": [
       "4303350320"
      ]
     },
     "execution_count": 54,
     "metadata": {},
     "output_type": "execute_result"
    }
   ],
   "source": [
    "id(x)  # es el espacio de memoria RAM que ocupa"
   ]
  },
  {
   "cell_type": "code",
   "execution_count": 55,
   "id": "c74e83ee",
   "metadata": {},
   "outputs": [
    {
     "data": {
      "text/plain": [
       "4303350320"
      ]
     },
     "execution_count": 55,
     "metadata": {},
     "output_type": "execute_result"
    }
   ],
   "source": [
    "id(y)"
   ]
  },
  {
   "cell_type": "code",
   "execution_count": 56,
   "id": "3febf485",
   "metadata": {},
   "outputs": [
    {
     "data": {
      "text/plain": [
       "True"
      ]
     },
     "execution_count": 56,
     "metadata": {},
     "output_type": "execute_result"
    }
   ],
   "source": [
    "x == y"
   ]
  },
  {
   "cell_type": "code",
   "execution_count": 57,
   "id": "b809160e",
   "metadata": {},
   "outputs": [
    {
     "data": {
      "text/plain": [
       "True"
      ]
     },
     "execution_count": 57,
     "metadata": {},
     "output_type": "execute_result"
    }
   ],
   "source": [
    "x is y"
   ]
  },
  {
   "cell_type": "code",
   "execution_count": 58,
   "id": "27ae613d",
   "metadata": {},
   "outputs": [
    {
     "data": {
      "text/plain": [
       "False"
      ]
     },
     "execution_count": 58,
     "metadata": {},
     "output_type": "execute_result"
    }
   ],
   "source": [
    "var1 = 'iron'\n",
    "\n",
    "var2 = 'on'\n",
    "\n",
    "var1 == var2"
   ]
  },
  {
   "cell_type": "code",
   "execution_count": 59,
   "id": "85561059",
   "metadata": {},
   "outputs": [
    {
     "data": {
      "text/plain": [
       "False"
      ]
     },
     "execution_count": 59,
     "metadata": {},
     "output_type": "execute_result"
    }
   ],
   "source": [
    "var1 is var2"
   ]
  },
  {
   "cell_type": "code",
   "execution_count": 60,
   "id": "c8a470fd",
   "metadata": {},
   "outputs": [
    {
     "data": {
      "text/plain": [
       "True"
      ]
     },
     "execution_count": 60,
     "metadata": {},
     "output_type": "execute_result"
    }
   ],
   "source": [
    "var2 in var1"
   ]
  },
  {
   "cell_type": "code",
   "execution_count": 61,
   "id": "0c584fac",
   "metadata": {},
   "outputs": [],
   "source": [
    "lst = [1,2,3]\n",
    "\n",
    "lst2 = [1,2,3]"
   ]
  },
  {
   "cell_type": "code",
   "execution_count": 62,
   "id": "bb5b13ea",
   "metadata": {},
   "outputs": [
    {
     "data": {
      "text/plain": [
       "True"
      ]
     },
     "execution_count": 62,
     "metadata": {},
     "output_type": "execute_result"
    }
   ],
   "source": [
    "lst == lst2"
   ]
  },
  {
   "cell_type": "code",
   "execution_count": 63,
   "id": "7fe3b93a",
   "metadata": {},
   "outputs": [
    {
     "data": {
      "text/plain": [
       "False"
      ]
     },
     "execution_count": 63,
     "metadata": {},
     "output_type": "execute_result"
    }
   ],
   "source": [
    "lst is lst2"
   ]
  },
  {
   "cell_type": "code",
   "execution_count": 64,
   "id": "8b8bcef5",
   "metadata": {},
   "outputs": [
    {
     "data": {
      "text/plain": [
       "4353871808"
      ]
     },
     "execution_count": 64,
     "metadata": {},
     "output_type": "execute_result"
    }
   ],
   "source": [
    "id(lst)"
   ]
  },
  {
   "cell_type": "code",
   "execution_count": 65,
   "id": "979e0a29",
   "metadata": {},
   "outputs": [
    {
     "data": {
      "text/plain": [
       "4358101248"
      ]
     },
     "execution_count": 65,
     "metadata": {},
     "output_type": "execute_result"
    }
   ],
   "source": [
    "id(lst2)"
   ]
  },
  {
   "cell_type": "code",
   "execution_count": 66,
   "id": "1ea9717f",
   "metadata": {},
   "outputs": [
    {
     "data": {
      "text/plain": [
       "[1, 2, 3, 8]"
      ]
     },
     "execution_count": 66,
     "metadata": {},
     "output_type": "execute_result"
    }
   ],
   "source": [
    "lst.append(8)\n",
    "\n",
    "lst"
   ]
  },
  {
   "cell_type": "code",
   "execution_count": 67,
   "id": "193bf40c",
   "metadata": {},
   "outputs": [
    {
     "data": {
      "text/plain": [
       "[1, 2, 3]"
      ]
     },
     "execution_count": 67,
     "metadata": {},
     "output_type": "execute_result"
    }
   ],
   "source": [
    "lst2"
   ]
  },
  {
   "cell_type": "code",
   "execution_count": 68,
   "id": "ae275e17",
   "metadata": {},
   "outputs": [],
   "source": [
    "lst = lst2  # no es una copia"
   ]
  },
  {
   "cell_type": "code",
   "execution_count": 69,
   "id": "9e1529dc",
   "metadata": {},
   "outputs": [
    {
     "data": {
      "text/plain": [
       "True"
      ]
     },
     "execution_count": 69,
     "metadata": {},
     "output_type": "execute_result"
    }
   ],
   "source": [
    "lst is lst2"
   ]
  },
  {
   "cell_type": "code",
   "execution_count": 70,
   "id": "d2ad561f",
   "metadata": {},
   "outputs": [],
   "source": [
    "lst.append(8)"
   ]
  },
  {
   "cell_type": "code",
   "execution_count": 71,
   "id": "af99534b",
   "metadata": {},
   "outputs": [
    {
     "data": {
      "text/plain": [
       "[1, 2, 3, 8]"
      ]
     },
     "execution_count": 71,
     "metadata": {},
     "output_type": "execute_result"
    }
   ],
   "source": [
    "lst"
   ]
  },
  {
   "cell_type": "code",
   "execution_count": 72,
   "id": "49d34b76",
   "metadata": {},
   "outputs": [
    {
     "data": {
      "text/plain": [
       "[1, 2, 3, 8]"
      ]
     },
     "execution_count": 72,
     "metadata": {},
     "output_type": "execute_result"
    }
   ],
   "source": [
    "lst2"
   ]
  },
  {
   "cell_type": "code",
   "execution_count": 73,
   "id": "b386a4af",
   "metadata": {},
   "outputs": [],
   "source": [
    "lst = lst2[:]   # esto es una copia"
   ]
  },
  {
   "cell_type": "markdown",
   "id": "646f5e8a",
   "metadata": {},
   "source": [
    "---\n",
    "\n",
    "# Control Flow\n",
    "\n",
    "- __if__\n",
    "    \n",
    "- __elif__\n",
    "    \n",
    "- __else__\n",
    "\n",
    "- __for__\n",
    "\n",
    "- __while__"
   ]
  },
  {
   "cell_type": "code",
   "execution_count": 74,
   "id": "802f9e5b",
   "metadata": {},
   "outputs": [
    {
     "data": {
      "text/plain": [
       "9"
      ]
     },
     "execution_count": 74,
     "metadata": {},
     "output_type": "execute_result"
    }
   ],
   "source": [
    "x"
   ]
  },
  {
   "cell_type": "code",
   "execution_count": 75,
   "id": "1100c01e",
   "metadata": {},
   "outputs": [
    {
     "data": {
      "text/plain": [
       "1"
      ]
     },
     "execution_count": 75,
     "metadata": {},
     "output_type": "execute_result"
    }
   ],
   "source": [
    "x % 2  # resto de la division"
   ]
  },
  {
   "cell_type": "code",
   "execution_count": 76,
   "id": "76556836",
   "metadata": {},
   "outputs": [
    {
     "data": {
      "text/plain": [
       "0"
      ]
     },
     "execution_count": 76,
     "metadata": {},
     "output_type": "execute_result"
    }
   ],
   "source": [
    "4 % 2"
   ]
  },
  {
   "cell_type": "code",
   "execution_count": 77,
   "id": "dffc9d8b",
   "metadata": {},
   "outputs": [
    {
     "name": "stdout",
     "output_type": "stream",
     "text": [
      "X es impar\n"
     ]
    }
   ],
   "source": [
    "if x%2==0:   # si el resto de dividir x entre dos es cero...\n",
    "     \n",
    "    print('X es par')  # printea esto\n",
    "    \n",
    "elif x%2==1:  # si el resto de dividir x entre dos es uno...\n",
    "    \n",
    "    print('X es impar') # printea esto otro\n",
    "    \n",
    "    \n",
    "else:  # para cualquier otro caso...\n",
    "    \n",
    "    print('Por aqui no va nunca')\n",
    "    \n",
    "    "
   ]
  },
  {
   "cell_type": "code",
   "execution_count": 78,
   "id": "91a26012",
   "metadata": {},
   "outputs": [
    {
     "data": {
      "text/plain": [
       "True"
      ]
     },
     "execution_count": 78,
     "metadata": {},
     "output_type": "execute_result"
    }
   ],
   "source": [
    "x%2 == 1"
   ]
  },
  {
   "cell_type": "code",
   "execution_count": 79,
   "id": "5edad267",
   "metadata": {},
   "outputs": [
    {
     "data": {
      "text/plain": [
       "True"
      ]
     },
     "execution_count": 79,
     "metadata": {},
     "output_type": "execute_result"
    }
   ],
   "source": [
    "x%2 != 0"
   ]
  },
  {
   "cell_type": "code",
   "execution_count": 80,
   "id": "db274937",
   "metadata": {},
   "outputs": [
    {
     "name": "stdout",
     "output_type": "stream",
     "text": [
      "X es impar\n"
     ]
    }
   ],
   "source": [
    "if x%2==0:   # si el resto de dividir x entre dos es cero...\n",
    "     \n",
    "    print('X es par')  # printea esto\n",
    "    \n",
    "else:  # para cualquier otro caso...\n",
    "    \n",
    "    print('X es impar')\n",
    "    "
   ]
  },
  {
   "cell_type": "code",
   "execution_count": 81,
   "id": "fcd1bb44",
   "metadata": {},
   "outputs": [
    {
     "name": "stdout",
     "output_type": "stream",
     "text": [
      "X es impar\n"
     ]
    }
   ],
   "source": [
    "if x%2==0:   # si el resto de dividir x entre dos es cero...\n",
    "     \n",
    "    print('X es par')  # printea esto\n",
    "    \n",
    "elif x%2==1:  # si el resto de dividir x entre dos es uno...\n",
    "    \n",
    "    print('X es impar') # printea esto otro\n",
    "    \n",
    "    \n",
    "else:     # esto es por buenas practicas\n",
    "    pass"
   ]
  },
  {
   "cell_type": "code",
   "execution_count": 82,
   "id": "4600ed65",
   "metadata": {},
   "outputs": [
    {
     "name": "stdout",
     "output_type": "stream",
     "text": [
      "The Zen of Python, by Tim Peters\n",
      "\n",
      "Beautiful is better than ugly.\n",
      "Explicit is better than implicit.\n",
      "Simple is better than complex.\n",
      "Complex is better than complicated.\n",
      "Flat is better than nested.\n",
      "Sparse is better than dense.\n",
      "Readability counts.\n",
      "Special cases aren't special enough to break the rules.\n",
      "Although practicality beats purity.\n",
      "Errors should never pass silently.\n",
      "Unless explicitly silenced.\n",
      "In the face of ambiguity, refuse the temptation to guess.\n",
      "There should be one-- and preferably only one --obvious way to do it.\n",
      "Although that way may not be obvious at first unless you're Dutch.\n",
      "Now is better than never.\n",
      "Although never is often better than *right* now.\n",
      "If the implementation is hard to explain, it's a bad idea.\n",
      "If the implementation is easy to explain, it may be a good idea.\n",
      "Namespaces are one honking great idea -- let's do more of those!\n"
     ]
    }
   ],
   "source": [
    "import this"
   ]
  },
  {
   "cell_type": "code",
   "execution_count": 83,
   "id": "18698c5a",
   "metadata": {},
   "outputs": [
    {
     "name": "stdout",
     "output_type": "stream",
     "text": [
      "X es impar\n"
     ]
    }
   ],
   "source": [
    "if x%2==0:   # si el resto de dividir x entre dos es cero...\n",
    "     \n",
    "    print('X es par')  # printea esto\n",
    "    \n",
    "if x%2==1:  # si el resto de dividir x entre dos es uno...\n",
    "    \n",
    "    print('X es impar') # printea esto otro"
   ]
  },
  {
   "cell_type": "code",
   "execution_count": 84,
   "id": "fe77430a",
   "metadata": {},
   "outputs": [],
   "source": [
    "# bucles for"
   ]
  },
  {
   "cell_type": "code",
   "execution_count": 85,
   "id": "a3e59d04",
   "metadata": {},
   "outputs": [
    {
     "data": {
      "text/plain": [
       "[2, 3, 4, 5, 6, 7, 8, 9]"
      ]
     },
     "execution_count": 85,
     "metadata": {},
     "output_type": "execute_result"
    }
   ],
   "source": [
    "lst = [2,3,4,5,6,7,8,9]\n",
    "\n",
    "lst"
   ]
  },
  {
   "cell_type": "code",
   "execution_count": 86,
   "id": "e178eae9",
   "metadata": {},
   "outputs": [
    {
     "name": "stdout",
     "output_type": "stream",
     "text": [
      "Numero:  2\n",
      "Numero:  3\n",
      "Numero:  4\n",
      "Numero:  5\n",
      "Numero:  6\n",
      "Numero:  7\n",
      "Numero:  8\n",
      "Numero:  9\n"
     ]
    }
   ],
   "source": [
    "# 1er tipo (para cada elemento en la lista....)\n",
    "\n",
    "for elemento in lst:\n",
    "    \n",
    "    print('Numero: ', elemento)"
   ]
  },
  {
   "cell_type": "code",
   "execution_count": 87,
   "id": "2f92ff95",
   "metadata": {},
   "outputs": [
    {
     "data": {
      "text/plain": [
       "9"
      ]
     },
     "execution_count": 87,
     "metadata": {},
     "output_type": "execute_result"
    }
   ],
   "source": [
    "elemento"
   ]
  },
  {
   "cell_type": "code",
   "execution_count": 88,
   "id": "3e05b536",
   "metadata": {},
   "outputs": [
    {
     "name": "stdout",
     "output_type": "stream",
     "text": [
      "h\n",
      "o\n",
      "l\n",
      "a\n",
      " \n",
      "q\n",
      "u\n",
      "e\n",
      " \n",
      "t\n",
      "a\n",
      "l\n",
      ",\n",
      " \n",
      "h\n",
      "o\n",
      "l\n",
      "a\n",
      " \n",
      "q\n",
      "u\n",
      "e\n",
      " \n",
      "p\n",
      "a\n",
      "s\n",
      "a\n",
      " \n",
      "q\n",
      "u\n",
      "e\n",
      " \n",
      "t\n",
      "a\n",
      "l\n",
      "l\n",
      "l\n"
     ]
    }
   ],
   "source": [
    "for letra in 'hola que tal, hola que pasa que talll':\n",
    "    \n",
    "    print(letra)"
   ]
  },
  {
   "cell_type": "code",
   "execution_count": 89,
   "id": "16e8a854",
   "metadata": {},
   "outputs": [
    {
     "data": {
      "text/plain": [
       "'hola que tal, hola que pasa que talll'"
      ]
     },
     "execution_count": 89,
     "metadata": {},
     "output_type": "execute_result"
    }
   ],
   "source": [
    "texto = 'hola que tal, hola que pasa que talll'\n",
    "\n",
    "texto"
   ]
  },
  {
   "cell_type": "code",
   "execution_count": 90,
   "id": "980fc269",
   "metadata": {},
   "outputs": [
    {
     "data": {
      "text/plain": [
       "['hola', 'que', 'tal,', 'hola', 'que', 'pasa', 'que', 'talll']"
      ]
     },
     "execution_count": 90,
     "metadata": {},
     "output_type": "execute_result"
    }
   ],
   "source": [
    "texto.split()"
   ]
  },
  {
   "cell_type": "code",
   "execution_count": 91,
   "id": "bddb0358",
   "metadata": {},
   "outputs": [
    {
     "name": "stdout",
     "output_type": "stream",
     "text": [
      "Palabra:  hola\n",
      "Palabra:  que\n",
      "Palabra:  tal,\n",
      "Palabra:  hola\n",
      "Palabra:  que\n",
      "Palabra:  pasa\n",
      "Palabra:  que\n",
      "Palabra:  talll\n"
     ]
    }
   ],
   "source": [
    "for palabra in texto.split():\n",
    "    \n",
    "    print('Palabra: ',palabra)"
   ]
  },
  {
   "cell_type": "code",
   "execution_count": 92,
   "id": "9be892f5",
   "metadata": {},
   "outputs": [
    {
     "data": {
      "text/plain": [
       "{'hola', 'pasa', 'que', 'tal,', 'talll'}"
      ]
     },
     "execution_count": 92,
     "metadata": {},
     "output_type": "execute_result"
    }
   ],
   "source": [
    "set(texto.split())"
   ]
  },
  {
   "cell_type": "code",
   "execution_count": 93,
   "id": "16877f75",
   "metadata": {},
   "outputs": [
    {
     "name": "stdout",
     "output_type": "stream",
     "text": [
      "Palabra:  hola\n",
      "Palabra:  que\n",
      "Palabra:  talll\n",
      "Palabra:  pasa\n",
      "Palabra:  tal,\n"
     ]
    }
   ],
   "source": [
    "for palabra in set(texto.split()):\n",
    "    \n",
    "    print('Palabra: ',palabra)"
   ]
  },
  {
   "cell_type": "code",
   "execution_count": 94,
   "id": "66806b2d",
   "metadata": {},
   "outputs": [
    {
     "data": {
      "text/plain": [
       "['hola', 'pasa', 'que', 'tal,', 'talll']"
      ]
     },
     "execution_count": 94,
     "metadata": {},
     "output_type": "execute_result"
    }
   ],
   "source": [
    "sorted(set(texto.split()))  # ordena de menor a mayor por defecto"
   ]
  },
  {
   "cell_type": "code",
   "execution_count": 95,
   "id": "43ef5643",
   "metadata": {},
   "outputs": [
    {
     "data": {
      "text/plain": [
       "['talll', 'tal,', 'que', 'pasa', 'hola']"
      ]
     },
     "execution_count": 95,
     "metadata": {},
     "output_type": "execute_result"
    }
   ],
   "source": [
    "sorted(set(texto.split()), reverse=True)  # ordena de mayor a menor"
   ]
  },
  {
   "cell_type": "code",
   "execution_count": 96,
   "id": "f20988b6",
   "metadata": {},
   "outputs": [
    {
     "data": {
      "text/plain": [
       "['hola', 'pasa', 'que', 'tal,', 'talll']"
      ]
     },
     "execution_count": 96,
     "metadata": {},
     "output_type": "execute_result"
    }
   ],
   "source": [
    "['talll', 'tal,', 'que', 'pasa', 'hola'][::-1]  # vete desde el pricipio hasta el final al reves"
   ]
  },
  {
   "cell_type": "code",
   "execution_count": 97,
   "id": "2b4aa494",
   "metadata": {},
   "outputs": [
    {
     "data": {
      "text/plain": [
       "8"
      ]
     },
     "execution_count": 97,
     "metadata": {},
     "output_type": "execute_result"
    }
   ],
   "source": [
    "# 2º tipo de bucle (para cada indice en el rango de la longitud....)\n",
    "\n",
    "\n",
    "len(lst)"
   ]
  },
  {
   "cell_type": "code",
   "execution_count": 98,
   "id": "c776f387",
   "metadata": {},
   "outputs": [
    {
     "name": "stdout",
     "output_type": "stream",
     "text": [
      "Indice:  0\n",
      "Indice:  1\n",
      "Indice:  2\n",
      "Indice:  3\n",
      "Indice:  4\n",
      "Indice:  5\n",
      "Indice:  6\n",
      "Indice:  7\n"
     ]
    }
   ],
   "source": [
    "for indice in range(len(lst)):\n",
    "    \n",
    "    print('Indice: ', indice)"
   ]
  },
  {
   "cell_type": "code",
   "execution_count": 99,
   "id": "041c988d",
   "metadata": {},
   "outputs": [
    {
     "data": {
      "text/plain": [
       "[2, 3, 4, 5, 6, 7, 8, 9]"
      ]
     },
     "execution_count": 99,
     "metadata": {},
     "output_type": "execute_result"
    }
   ],
   "source": [
    "lst"
   ]
  },
  {
   "cell_type": "code",
   "execution_count": 100,
   "id": "1622b25c",
   "metadata": {},
   "outputs": [
    {
     "data": {
      "text/plain": [
       "[0, 1, 2, 3, 4, 5, 6, 7]"
      ]
     },
     "execution_count": 100,
     "metadata": {},
     "output_type": "execute_result"
    }
   ],
   "source": [
    "list(range(8))   # va de cero a 7 de uno en uno"
   ]
  },
  {
   "cell_type": "code",
   "execution_count": 101,
   "id": "7259e16e",
   "metadata": {},
   "outputs": [
    {
     "data": {
      "text/plain": [
       "[2, 3, 4, 5, 6, 7, 8]"
      ]
     },
     "execution_count": 101,
     "metadata": {},
     "output_type": "execute_result"
    }
   ],
   "source": [
    "list(range(2, 9))  # va de 2 a 8 de uno en uno"
   ]
  },
  {
   "cell_type": "code",
   "execution_count": 102,
   "id": "a27b891b",
   "metadata": {},
   "outputs": [
    {
     "data": {
      "text/plain": [
       "[2, 5, 8]"
      ]
     },
     "execution_count": 102,
     "metadata": {},
     "output_type": "execute_result"
    }
   ],
   "source": [
    "list(range(2, 9, 3))  # va de 2 a 8 de tres en tres"
   ]
  },
  {
   "cell_type": "code",
   "execution_count": 103,
   "id": "f0c5f9ba",
   "metadata": {},
   "outputs": [
    {
     "data": {
      "text/plain": [
       "[2, 4, 6, 8]"
      ]
     },
     "execution_count": 103,
     "metadata": {},
     "output_type": "execute_result"
    }
   ],
   "source": [
    "start = 2\n",
    "\n",
    "stop = 10\n",
    "\n",
    "step = 2\n",
    "\n",
    "list(range(start, stop, step))"
   ]
  },
  {
   "cell_type": "code",
   "execution_count": 104,
   "id": "f6d5cd00",
   "metadata": {},
   "outputs": [
    {
     "data": {
      "text/plain": [
       "[0, 1, 2, 3, 4, 5, 6, 7, 8, 9]"
      ]
     },
     "execution_count": 104,
     "metadata": {},
     "output_type": "execute_result"
    }
   ],
   "source": [
    "list(range(0, 10, 1))"
   ]
  },
  {
   "cell_type": "code",
   "execution_count": 105,
   "id": "089fbd28",
   "metadata": {},
   "outputs": [
    {
     "data": {
      "text/plain": [
       "2"
      ]
     },
     "execution_count": 105,
     "metadata": {},
     "output_type": "execute_result"
    }
   ],
   "source": [
    "lst[0]"
   ]
  },
  {
   "cell_type": "code",
   "execution_count": 106,
   "id": "11ca1622",
   "metadata": {},
   "outputs": [],
   "source": [
    "lst2 = ['hola', 'adios', 'hasta']"
   ]
  },
  {
   "cell_type": "code",
   "execution_count": 107,
   "id": "37073aeb",
   "metadata": {},
   "outputs": [
    {
     "name": "stdout",
     "output_type": "stream",
     "text": [
      "Indice:  0\n",
      "Elemento:  2\n",
      "\n",
      "Indice:  1\n",
      "Elemento:  3\n",
      "\n",
      "Indice:  2\n",
      "Elemento:  4\n",
      "\n",
      "Indice:  3\n",
      "Elemento:  5\n",
      "\n",
      "Indice:  4\n",
      "Elemento:  6\n",
      "\n",
      "Indice:  5\n",
      "Elemento:  7\n",
      "\n",
      "Indice:  6\n",
      "Elemento:  8\n",
      "\n",
      "Indice:  7\n",
      "Elemento:  9\n",
      "\n"
     ]
    }
   ],
   "source": [
    "for indice in range(len(lst)):\n",
    "    \n",
    "    print('Indice: ', indice)\n",
    "    \n",
    "    print('Elemento: ', lst[indice])\n",
    "    \n",
    "    print()"
   ]
  },
  {
   "cell_type": "code",
   "execution_count": 108,
   "id": "e160bab5",
   "metadata": {},
   "outputs": [
    {
     "name": "stdout",
     "output_type": "stream",
     "text": [
      "Indice:  0\n",
      "Elemento lista 1:  2\n",
      "Elemento lista 2:  hola\n",
      "\n",
      "Indice:  1\n",
      "Elemento lista 1:  3\n",
      "Elemento lista 2:  adios\n",
      "\n",
      "Indice:  2\n",
      "Elemento lista 1:  4\n",
      "Elemento lista 2:  hasta\n",
      "\n"
     ]
    }
   ],
   "source": [
    "for indice in range(3):\n",
    "    \n",
    "    print('Indice: ', indice)\n",
    "    \n",
    "    print('Elemento lista 1: ', lst[indice])\n",
    "    \n",
    "    print('Elemento lista 2: ', lst2[indice])\n",
    "    \n",
    "    print()"
   ]
  },
  {
   "cell_type": "code",
   "execution_count": 109,
   "id": "01c45ce5",
   "metadata": {},
   "outputs": [
    {
     "data": {
      "text/plain": [
       "[(0, 2), (1, 3), (2, 4), (3, 5), (4, 6), (5, 7), (6, 8), (7, 9)]"
      ]
     },
     "execution_count": 109,
     "metadata": {},
     "output_type": "execute_result"
    }
   ],
   "source": [
    "list(enumerate(lst))"
   ]
  },
  {
   "cell_type": "code",
   "execution_count": 110,
   "id": "d5154070",
   "metadata": {},
   "outputs": [
    {
     "name": "stdout",
     "output_type": "stream",
     "text": [
      "Indice:  0\n",
      "Elemento lista:  2\n",
      "\n",
      "Indice:  1\n",
      "Elemento lista:  3\n",
      "\n",
      "Indice:  2\n",
      "Elemento lista:  4\n",
      "\n",
      "Indice:  3\n",
      "Elemento lista:  5\n",
      "\n",
      "Indice:  4\n",
      "Elemento lista:  6\n",
      "\n",
      "Indice:  5\n",
      "Elemento lista:  7\n",
      "\n",
      "Indice:  6\n",
      "Elemento lista:  8\n",
      "\n",
      "Indice:  7\n",
      "Elemento lista:  9\n",
      "\n"
     ]
    }
   ],
   "source": [
    "# 3er (todo a la vez)\n",
    "\n",
    "\n",
    "for i,e in enumerate(lst):\n",
    "    \n",
    "    print('Indice: ', i)\n",
    "    \n",
    "    print('Elemento lista: ', e)\n",
    "    \n",
    "    print()"
   ]
  },
  {
   "cell_type": "code",
   "execution_count": 111,
   "id": "b18dbafe",
   "metadata": {},
   "outputs": [
    {
     "data": {
      "text/plain": [
       "7"
      ]
     },
     "execution_count": 111,
     "metadata": {},
     "output_type": "execute_result"
    }
   ],
   "source": [
    "i"
   ]
  },
  {
   "cell_type": "code",
   "execution_count": 112,
   "id": "cb408bef",
   "metadata": {},
   "outputs": [
    {
     "data": {
      "text/plain": [
       "9"
      ]
     },
     "execution_count": 112,
     "metadata": {},
     "output_type": "execute_result"
    }
   ],
   "source": [
    "e"
   ]
  },
  {
   "cell_type": "code",
   "execution_count": 113,
   "id": "ebe099b6",
   "metadata": {},
   "outputs": [
    {
     "data": {
      "text/plain": [
       "zip"
      ]
     },
     "execution_count": 113,
     "metadata": {},
     "output_type": "execute_result"
    }
   ],
   "source": [
    "zip"
   ]
  },
  {
   "cell_type": "code",
   "execution_count": 114,
   "id": "4183da39",
   "metadata": {},
   "outputs": [
    {
     "data": {
      "text/plain": [
       "[(2, 'hola'), (3, 'adios'), (4, 'hasta')]"
      ]
     },
     "execution_count": 114,
     "metadata": {},
     "output_type": "execute_result"
    }
   ],
   "source": [
    "list(zip(lst, lst2))"
   ]
  },
  {
   "cell_type": "code",
   "execution_count": 115,
   "id": "b54c666e",
   "metadata": {},
   "outputs": [
    {
     "data": {
      "text/plain": [
       "[(2, 'hola', 2), (3, 'adios', 3), (4, 'hasta', 4)]"
      ]
     },
     "execution_count": 115,
     "metadata": {},
     "output_type": "execute_result"
    }
   ],
   "source": [
    "list(zip(lst, lst2, lst))"
   ]
  },
  {
   "cell_type": "code",
   "execution_count": 116,
   "id": "00ed2994",
   "metadata": {},
   "outputs": [
    {
     "name": "stdout",
     "output_type": "stream",
     "text": [
      "Uno: 2\n",
      "Dos: hola\n",
      "Tres: 12\n",
      "\n",
      "Uno: 3\n",
      "Dos: adios\n",
      "Tres: 13\n",
      "\n",
      "Uno: 4\n",
      "Dos: hasta\n",
      "Tres: 14\n",
      "\n"
     ]
    }
   ],
   "source": [
    "for a,b,c in zip(lst, lst2, lst):\n",
    "    \n",
    "    print('Uno:', a)\n",
    "    print('Dos:', b)\n",
    "    print('Tres:', c+10)\n",
    "    print()"
   ]
  },
  {
   "cell_type": "code",
   "execution_count": 117,
   "id": "793dc269",
   "metadata": {},
   "outputs": [],
   "source": [
    "a,b,c = [1,2,3]"
   ]
  },
  {
   "cell_type": "code",
   "execution_count": 118,
   "id": "f79d098a",
   "metadata": {},
   "outputs": [
    {
     "data": {
      "text/plain": [
       "1"
      ]
     },
     "execution_count": 118,
     "metadata": {},
     "output_type": "execute_result"
    }
   ],
   "source": [
    "a"
   ]
  },
  {
   "cell_type": "code",
   "execution_count": 119,
   "id": "8064c4f2",
   "metadata": {},
   "outputs": [
    {
     "data": {
      "text/plain": [
       "3"
      ]
     },
     "execution_count": 119,
     "metadata": {},
     "output_type": "execute_result"
    }
   ],
   "source": [
    "c"
   ]
  },
  {
   "cell_type": "code",
   "execution_count": 120,
   "id": "f3bc78af",
   "metadata": {},
   "outputs": [
    {
     "data": {
      "text/plain": [
       "2"
      ]
     },
     "execution_count": 120,
     "metadata": {},
     "output_type": "execute_result"
    }
   ],
   "source": [
    "b"
   ]
  },
  {
   "cell_type": "code",
   "execution_count": 121,
   "id": "ff8a730b",
   "metadata": {},
   "outputs": [
    {
     "ename": "ValueError",
     "evalue": "too many values to unpack (expected 2)",
     "output_type": "error",
     "traceback": [
      "\u001b[0;31m---------------------------------------------------------------------------\u001b[0m",
      "\u001b[0;31mValueError\u001b[0m                                Traceback (most recent call last)",
      "Cell \u001b[0;32mIn[121], line 1\u001b[0m\n\u001b[0;32m----> 1\u001b[0m a,b \u001b[38;5;241m=\u001b[39m [\u001b[38;5;241m1\u001b[39m,\u001b[38;5;241m2\u001b[39m,\u001b[38;5;241m3\u001b[39m]\n",
      "\u001b[0;31mValueError\u001b[0m: too many values to unpack (expected 2)"
     ]
    }
   ],
   "source": [
    "a,b = [1,2,3]"
   ]
  },
  {
   "cell_type": "code",
   "execution_count": 122,
   "id": "a5ee0b83",
   "metadata": {},
   "outputs": [],
   "source": [
    "lst = []\n",
    "\n",
    "\n",
    "for i in range(20):\n",
    "    \n",
    "    if i%2==0:   # si el indice es par....\n",
    "        \n",
    "        lst.append(i)   # iuntroduce dentro de la lista\n",
    "        \n",
    "    else:\n",
    "        continue   # pasa al siguiente paso del bucle"
   ]
  },
  {
   "cell_type": "code",
   "execution_count": 123,
   "id": "204e5d58",
   "metadata": {},
   "outputs": [
    {
     "data": {
      "text/plain": [
       "[0, 2, 4, 6, 8, 10, 12, 14, 16, 18]"
      ]
     },
     "execution_count": 123,
     "metadata": {},
     "output_type": "execute_result"
    }
   ],
   "source": [
    "lst"
   ]
  },
  {
   "cell_type": "code",
   "execution_count": 124,
   "id": "31dff782",
   "metadata": {},
   "outputs": [],
   "source": [
    "lst.append(5)"
   ]
  },
  {
   "cell_type": "code",
   "execution_count": 125,
   "id": "a4b1e3f4",
   "metadata": {},
   "outputs": [
    {
     "data": {
      "text/plain": [
       "[0, 2, 4, 6, 8, 10, 12, 14, 16, 18, 5]"
      ]
     },
     "execution_count": 125,
     "metadata": {},
     "output_type": "execute_result"
    }
   ],
   "source": [
    "lst"
   ]
  },
  {
   "cell_type": "code",
   "execution_count": 126,
   "id": "963107e5",
   "metadata": {},
   "outputs": [
    {
     "data": {
      "text/plain": [
       "[1, 2, 3, 4, 5, 6]"
      ]
     },
     "execution_count": 126,
     "metadata": {},
     "output_type": "execute_result"
    }
   ],
   "source": [
    "[1,2,3] + [4,5,6]"
   ]
  },
  {
   "cell_type": "code",
   "execution_count": 127,
   "id": "d2b588f7",
   "metadata": {},
   "outputs": [
    {
     "data": {
      "text/plain": [
       "[0, 2, 4, 6, 8, 10, 12, 14, 16, 18]"
      ]
     },
     "execution_count": 127,
     "metadata": {},
     "output_type": "execute_result"
    }
   ],
   "source": [
    "list(range(0, 20, 2))"
   ]
  },
  {
   "cell_type": "code",
   "execution_count": 128,
   "id": "012f2ff4",
   "metadata": {},
   "outputs": [
    {
     "name": "stdout",
     "output_type": "stream",
     "text": [
      "Numero de fila:  0\n",
      "Numero de fila:  1\n",
      "Numero de fila:  2\n"
     ]
    }
   ],
   "source": [
    "matriz = []\n",
    "\n",
    "\n",
    "for fila in range(3):  # bucle de 3 pasos\n",
    "    \n",
    "    print('Numero de fila: ', fila)\n",
    "    \n",
    "    tmp_lst = []  # ghenera lista vacia para cada paso\n",
    "    \n",
    "    for elemento in range(4): # bucle de 4 pasos\n",
    "        \n",
    "        tmp_lst.append(elemento+fila)\n",
    "        \n",
    "        \n",
    "    # se acaba aqui, con la sangria\n",
    "    \n",
    "    matriz.append(tmp_lst)  # introduce la lista temporal\n",
    "        \n",
    "    "
   ]
  },
  {
   "cell_type": "code",
   "execution_count": 129,
   "id": "ea60ba20",
   "metadata": {},
   "outputs": [
    {
     "data": {
      "text/plain": [
       "[[0, 1, 2, 3], [1, 2, 3, 4], [2, 3, 4, 5]]"
      ]
     },
     "execution_count": 129,
     "metadata": {},
     "output_type": "execute_result"
    }
   ],
   "source": [
    "matriz"
   ]
  },
  {
   "cell_type": "code",
   "execution_count": 130,
   "id": "71d4aaf2",
   "metadata": {},
   "outputs": [
    {
     "data": {
      "text/plain": [
       "[0, 1, 2, 3]"
      ]
     },
     "execution_count": 130,
     "metadata": {},
     "output_type": "execute_result"
    }
   ],
   "source": [
    "tmp_lst = []  # ghenera lista vacia para cada paso\n",
    "    \n",
    "for elemento in range(4): # bucle de 4 pasos\n",
    "\n",
    "    tmp_lst.append(elemento)\n",
    "    \n",
    "tmp_lst"
   ]
  },
  {
   "cell_type": "code",
   "execution_count": 131,
   "id": "d8107201",
   "metadata": {},
   "outputs": [
    {
     "data": {
      "text/plain": [
       "[15, 18, 13, 16, 2]"
      ]
     },
     "execution_count": 131,
     "metadata": {},
     "output_type": "execute_result"
    }
   ],
   "source": [
    "import random\n",
    "\n",
    "random.sample(range(20), k=5)  # nº alea desde 0 a 19. Dame 5"
   ]
  },
  {
   "cell_type": "code",
   "execution_count": 132,
   "id": "206c6a58",
   "metadata": {},
   "outputs": [
    {
     "data": {
      "text/plain": [
       "[[11, 6, 8, 1, 3],\n",
       " [10, 15, 4, 3, 7],\n",
       " [11, 1, 16, 10, 9],\n",
       " [10, 14, 0, 4, 8],\n",
       " [19, 16, 6, 0, 15]]"
      ]
     },
     "execution_count": 132,
     "metadata": {},
     "output_type": "execute_result"
    }
   ],
   "source": [
    "matriz = []\n",
    "\n",
    "for i in range(5):\n",
    "    \n",
    "    matriz.append(random.sample(range(20), k=5))\n",
    "    \n",
    "matriz"
   ]
  },
  {
   "cell_type": "code",
   "execution_count": 133,
   "id": "8f00c289",
   "metadata": {},
   "outputs": [
    {
     "name": "stdout",
     "output_type": "stream",
     "text": [
      "Hola, el numero es 10\n",
      "Hola, el numero es 9\n",
      "Hola, el numero es 8\n",
      "Hola, el numero es 7\n",
      "Hola, el numero es 6\n",
      "Hola, el numero es 5\n",
      "Hola, el numero es 4\n",
      "Hola, el numero es 3\n",
      "Hola, el numero es 2\n",
      "Hola, el numero es 1\n"
     ]
    }
   ],
   "source": [
    "# bucle while (basado en una condicion)\n",
    "\n",
    "\n",
    "numero = 10\n",
    "\n",
    "\n",
    "while numero>0:  # mientras que el numero sea mayor que cero, haz lo siguinte....\n",
    "    \n",
    "    print('Hola, el numero es', numero)\n",
    "    \n",
    "    numero -= 1  # numero = numero - 1\n",
    "\n",
    "\n"
   ]
  },
  {
   "cell_type": "code",
   "execution_count": 134,
   "id": "dfa54b7a",
   "metadata": {},
   "outputs": [
    {
     "data": {
      "text/plain": [
       "0"
      ]
     },
     "execution_count": 134,
     "metadata": {},
     "output_type": "execute_result"
    }
   ],
   "source": [
    "numero"
   ]
  },
  {
   "cell_type": "code",
   "execution_count": 135,
   "id": "e247ce32",
   "metadata": {},
   "outputs": [
    {
     "name": "stdout",
     "output_type": "stream",
     "text": [
      "Hola, el numero es 10\n",
      "Hola, el numero es 9\n",
      "Hola, el numero es 8\n",
      "Hola, el numero es 7\n",
      "Hola, el numero es 6\n",
      "Hola, el numero es 5\n",
      "Hola, el numero es 4\n",
      "Hola, el numero es 3\n",
      "Hola, el numero es 2\n",
      "Hola, el numero es 1\n",
      "Hola, el numero es 0\n"
     ]
    }
   ],
   "source": [
    "numero = 10\n",
    "\n",
    "\n",
    "while numero>=0:  # mientras que el numero sea mayor que cero, haz lo siguinte....\n",
    "    \n",
    "    print('Hola, el numero es', numero)\n",
    "    \n",
    "    numero -= 1  # numero = numero - 1"
   ]
  },
  {
   "cell_type": "code",
   "execution_count": 136,
   "id": "3c276e49",
   "metadata": {},
   "outputs": [],
   "source": [
    "while True:  # bucle infinito\n",
    "    break"
   ]
  },
  {
   "cell_type": "code",
   "execution_count": 137,
   "id": "bfb02dd3",
   "metadata": {},
   "outputs": [],
   "source": [
    "while 1:    # bucle infinito\n",
    "    break"
   ]
  },
  {
   "cell_type": "code",
   "execution_count": 148,
   "id": "c32f3659",
   "metadata": {},
   "outputs": [
    {
     "name": "stdout",
     "output_type": "stream",
     "text": [
      "Dime tu nombre Yona\n",
      "Hola Yona\n",
      "Hasta luegui Yona\n"
     ]
    }
   ],
   "source": [
    "while 1:    # bucle infinito\n",
    "    \n",
    "    nombre = input('Dime tu nombre ')\n",
    "    \n",
    "    while 1:    # bucle infinito\n",
    "        print('Hola', nombre)\n",
    "        break\n",
    "        \n",
    "    print('Hasta luegui', nombre)\n",
    "    \n",
    "    break"
   ]
  },
  {
   "cell_type": "code",
   "execution_count": 141,
   "id": "f54fce63",
   "metadata": {},
   "outputs": [
    {
     "name": "stdout",
     "output_type": "stream",
     "text": [
      "0\n",
      "1\n",
      "1\n",
      "2\n",
      "3\n",
      "5\n",
      "8\n",
      "13\n",
      "21\n",
      "34\n",
      "55\n",
      "89\n"
     ]
    }
   ],
   "source": [
    "# secuencia de Fibonacci\n",
    "\n",
    "a = 0\n",
    "\n",
    "b = 1\n",
    "\n",
    "print(a)\n",
    "\n",
    "print(b)\n",
    "\n",
    "\n",
    "contador = 10\n",
    "\n",
    "\n",
    "while contador > 0:\n",
    "    \n",
    "    c = a+b\n",
    "    \n",
    "    print(c)\n",
    "    \n",
    "    a = b\n",
    "    \n",
    "    b = c\n",
    "    \n",
    "    contador -= 1\n",
    "    "
   ]
  },
  {
   "cell_type": "code",
   "execution_count": 145,
   "id": "1f359017",
   "metadata": {},
   "outputs": [
    {
     "data": {
      "text/plain": [
       "1000000"
      ]
     },
     "execution_count": 145,
     "metadata": {},
     "output_type": "execute_result"
    }
   ],
   "source": [
    "1_000_000"
   ]
  },
  {
   "cell_type": "code",
   "execution_count": null,
   "id": "fb473be4",
   "metadata": {},
   "outputs": [],
   "source": []
  }
 ],
 "metadata": {
  "kernelspec": {
   "display_name": "clase",
   "language": "python",
   "name": "clase"
  },
  "language_info": {
   "codemirror_mode": {
    "name": "ipython",
    "version": 3
   },
   "file_extension": ".py",
   "mimetype": "text/x-python",
   "name": "python",
   "nbconvert_exporter": "python",
   "pygments_lexer": "ipython3",
   "version": "3.9.12"
  }
 },
 "nbformat": 4,
 "nbformat_minor": 5
}
