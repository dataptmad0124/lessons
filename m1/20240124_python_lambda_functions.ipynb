{
 "cells": [
  {
   "cell_type": "markdown",
   "id": "b621af6c",
   "metadata": {},
   "source": [
    "# Lambda Functions\n",
    "\n",
    "- Is an Anonymous Function\n",
    "\n",
    "- Usually, is meant for one-time use.\n",
    "\n",
    "- Can have only One Expression.\n",
    "\n",
    "- It is faster than a normal function"
   ]
  },
  {
   "cell_type": "code",
   "execution_count": 1,
   "id": "5e8f11a2",
   "metadata": {},
   "outputs": [
    {
     "data": {
      "text/plain": [
       "5"
      ]
     },
     "execution_count": 1,
     "metadata": {},
     "output_type": "execute_result"
    }
   ],
   "source": [
    "# max\n",
    "\n",
    "lst = [1,2,3,4,5]\n",
    "\n",
    "res = 0\n",
    "\n",
    "for num in lst:\n",
    "    \n",
    "    if num > res:\n",
    "        \n",
    "        res = num\n",
    "    \n",
    "    \n",
    "res"
   ]
  },
  {
   "cell_type": "code",
   "execution_count": 3,
   "id": "f4e13935",
   "metadata": {},
   "outputs": [
    {
     "data": {
      "text/plain": [
       "10"
      ]
     },
     "execution_count": 3,
     "metadata": {},
     "output_type": "execute_result"
    }
   ],
   "source": [
    "suma([1,2,3,4])"
   ]
  },
  {
   "cell_type": "code",
   "execution_count": 4,
   "id": "4c64437b",
   "metadata": {},
   "outputs": [
    {
     "data": {
      "text/plain": [
       "10"
      ]
     },
     "execution_count": 4,
     "metadata": {},
     "output_type": "execute_result"
    }
   ],
   "source": [
    "sum([1,2,3,4])"
   ]
  },
  {
   "cell_type": "code",
   "execution_count": 5,
   "id": "032f9e9e",
   "metadata": {},
   "outputs": [
    {
     "ename": "SyntaxError",
     "evalue": "invalid syntax (3724669921.py, line 1)",
     "output_type": "error",
     "traceback": [
      "\u001b[0;36m  Cell \u001b[0;32mIn[5], line 1\u001b[0;36m\u001b[0m\n\u001b[0;31m    def = 90\u001b[0m\n\u001b[0m        ^\u001b[0m\n\u001b[0;31mSyntaxError\u001b[0m\u001b[0;31m:\u001b[0m invalid syntax\n"
     ]
    }
   ],
   "source": [
    "def = 90"
   ]
  },
  {
   "cell_type": "code",
   "execution_count": 6,
   "id": "28d97abe",
   "metadata": {},
   "outputs": [],
   "source": [
    "print = 90"
   ]
  },
  {
   "cell_type": "code",
   "execution_count": 7,
   "id": "055df6fb",
   "metadata": {},
   "outputs": [
    {
     "data": {
      "text/plain": [
       "90"
      ]
     },
     "execution_count": 7,
     "metadata": {},
     "output_type": "execute_result"
    }
   ],
   "source": [
    "print"
   ]
  },
  {
   "cell_type": "code",
   "execution_count": 8,
   "id": "b2cdb909",
   "metadata": {},
   "outputs": [
    {
     "ename": "TypeError",
     "evalue": "'int' object is not callable",
     "output_type": "error",
     "traceback": [
      "\u001b[0;31m---------------------------------------------------------------------------\u001b[0m",
      "\u001b[0;31mTypeError\u001b[0m                                 Traceback (most recent call last)",
      "Cell \u001b[0;32mIn[8], line 1\u001b[0m\n\u001b[0;32m----> 1\u001b[0m \u001b[38;5;28;43mprint\u001b[39;49m\u001b[43m(\u001b[49m\u001b[38;5;124;43m'\u001b[39;49m\u001b[38;5;124;43mhola\u001b[39;49m\u001b[38;5;124;43m'\u001b[39;49m\u001b[43m)\u001b[49m\n",
      "\u001b[0;31mTypeError\u001b[0m: 'int' object is not callable"
     ]
    }
   ],
   "source": [
    "print('hola')"
   ]
  },
  {
   "cell_type": "code",
   "execution_count": 9,
   "id": "7524cf72",
   "metadata": {},
   "outputs": [
    {
     "data": {
      "text/plain": [
       "int"
      ]
     },
     "execution_count": 9,
     "metadata": {},
     "output_type": "execute_result"
    }
   ],
   "source": [
    "type(print)"
   ]
  },
  {
   "cell_type": "code",
   "execution_count": 2,
   "id": "22d25aae",
   "metadata": {},
   "outputs": [],
   "source": [
    "def suma(lst):\n",
    "    \n",
    "    res = 0\n",
    "\n",
    "    for num in lst:\n",
    "        \n",
    "        res = res + num\n",
    "\n",
    "\n",
    "    return res\n"
   ]
  },
  {
   "cell_type": "code",
   "execution_count": 11,
   "id": "98cf95e6",
   "metadata": {},
   "outputs": [
    {
     "data": {
      "text/plain": [
       "<function __main__.<lambda>(lst)>"
      ]
     },
     "execution_count": 11,
     "metadata": {},
     "output_type": "execute_result"
    }
   ],
   "source": [
    "lambda lst: sum(lst)"
   ]
  },
  {
   "cell_type": "code",
   "execution_count": 12,
   "id": "eadb15b6",
   "metadata": {},
   "outputs": [
    {
     "data": {
      "text/plain": [
       "<function len(obj, /)>"
      ]
     },
     "execution_count": 12,
     "metadata": {},
     "output_type": "execute_result"
    }
   ],
   "source": [
    "len"
   ]
  },
  {
   "cell_type": "code",
   "execution_count": 13,
   "id": "237e2495",
   "metadata": {},
   "outputs": [
    {
     "data": {
      "text/plain": [
       "<function max>"
      ]
     },
     "execution_count": 13,
     "metadata": {},
     "output_type": "execute_result"
    }
   ],
   "source": [
    "max"
   ]
  },
  {
   "cell_type": "code",
   "execution_count": 14,
   "id": "4841948f",
   "metadata": {},
   "outputs": [
    {
     "data": {
      "text/plain": [
       "10"
      ]
     },
     "execution_count": 14,
     "metadata": {},
     "output_type": "execute_result"
    }
   ],
   "source": [
    "(lambda lst: sum(lst))([1,2,3,4])"
   ]
  },
  {
   "cell_type": "code",
   "execution_count": 15,
   "id": "23e271f5",
   "metadata": {},
   "outputs": [],
   "source": [
    "funcion = lambda lst: sum(lst)"
   ]
  },
  {
   "cell_type": "code",
   "execution_count": 16,
   "id": "446f1d5d",
   "metadata": {},
   "outputs": [
    {
     "data": {
      "text/plain": [
       "<function __main__.<lambda>(lst)>"
      ]
     },
     "execution_count": 16,
     "metadata": {},
     "output_type": "execute_result"
    }
   ],
   "source": [
    "funcion"
   ]
  },
  {
   "cell_type": "code",
   "execution_count": 17,
   "id": "f08c832b",
   "metadata": {},
   "outputs": [
    {
     "data": {
      "text/plain": [
       "15"
      ]
     },
     "execution_count": 17,
     "metadata": {},
     "output_type": "execute_result"
    }
   ],
   "source": [
    "funcion([1,2,3,4,5])"
   ]
  },
  {
   "cell_type": "code",
   "execution_count": 18,
   "id": "86f6c8d1",
   "metadata": {},
   "outputs": [],
   "source": [
    "def funcion_chorras(a,b):\n",
    "    \n",
    "    return a+b-10"
   ]
  },
  {
   "cell_type": "code",
   "execution_count": 19,
   "id": "deab7fe1",
   "metadata": {},
   "outputs": [
    {
     "data": {
      "text/plain": [
       "7"
      ]
     },
     "execution_count": 19,
     "metadata": {},
     "output_type": "execute_result"
    }
   ],
   "source": [
    "funcion_chorras(8, 9)"
   ]
  },
  {
   "cell_type": "code",
   "execution_count": 20,
   "id": "e62d24c3",
   "metadata": {},
   "outputs": [
    {
     "data": {
      "text/plain": [
       "<function __main__.<lambda>(a, b)>"
      ]
     },
     "execution_count": 20,
     "metadata": {},
     "output_type": "execute_result"
    }
   ],
   "source": [
    "lambda a,b : a+b-10"
   ]
  },
  {
   "cell_type": "code",
   "execution_count": 21,
   "id": "ddac2f63",
   "metadata": {},
   "outputs": [],
   "source": [
    "funcion_chorras2 = lambda a,b : a+b-10"
   ]
  },
  {
   "cell_type": "code",
   "execution_count": 22,
   "id": "8ffa0a3b",
   "metadata": {},
   "outputs": [
    {
     "data": {
      "text/plain": [
       "7"
      ]
     },
     "execution_count": 22,
     "metadata": {},
     "output_type": "execute_result"
    }
   ],
   "source": [
    "funcion_chorras2(8, 9)"
   ]
  },
  {
   "cell_type": "code",
   "execution_count": 23,
   "id": "247bf3c3",
   "metadata": {},
   "outputs": [
    {
     "data": {
      "text/plain": [
       "<function __main__.funcion_chorras(a, b)>"
      ]
     },
     "execution_count": 23,
     "metadata": {},
     "output_type": "execute_result"
    }
   ],
   "source": [
    "funcion_chorras"
   ]
  },
  {
   "cell_type": "code",
   "execution_count": 24,
   "id": "e3c1ca1b",
   "metadata": {},
   "outputs": [
    {
     "data": {
      "text/plain": [
       "<function __main__.<lambda>(a, b)>"
      ]
     },
     "execution_count": 24,
     "metadata": {},
     "output_type": "execute_result"
    }
   ],
   "source": [
    "funcion_chorras2"
   ]
  },
  {
   "cell_type": "code",
   "execution_count": 26,
   "id": "da1563d2",
   "metadata": {},
   "outputs": [
    {
     "data": {
      "text/plain": [
       "27"
      ]
     },
     "execution_count": 26,
     "metadata": {},
     "output_type": "execute_result"
    }
   ],
   "source": [
    "(lambda a,b : a+b-10)(7, 30)"
   ]
  },
  {
   "cell_type": "code",
   "execution_count": null,
   "id": "75e31ca7",
   "metadata": {},
   "outputs": [],
   "source": [
    "lambda a,b : a+b\n",
    "\n",
    "# lambda parametros: expresion return \n",
    "\n",
    "# lambda *args, **kwargs: expresion return"
   ]
  },
  {
   "cell_type": "code",
   "execution_count": 28,
   "id": "dd529d2c",
   "metadata": {},
   "outputs": [],
   "source": [
    "numero = (lambda a,b : a+b-10)(7, 30)"
   ]
  },
  {
   "cell_type": "code",
   "execution_count": 29,
   "id": "9d1435f4",
   "metadata": {},
   "outputs": [
    {
     "data": {
      "text/plain": [
       "27"
      ]
     },
     "execution_count": 29,
     "metadata": {},
     "output_type": "execute_result"
    }
   ],
   "source": [
    "numero"
   ]
  },
  {
   "cell_type": "code",
   "execution_count": 30,
   "id": "5fbb9fae",
   "metadata": {},
   "outputs": [
    {
     "data": {
      "text/plain": [
       "int"
      ]
     },
     "execution_count": 30,
     "metadata": {},
     "output_type": "execute_result"
    }
   ],
   "source": [
    "type(numero)"
   ]
  },
  {
   "cell_type": "code",
   "execution_count": 33,
   "id": "a2734176",
   "metadata": {},
   "outputs": [],
   "source": [
    "numero = 90"
   ]
  },
  {
   "cell_type": "code",
   "execution_count": 34,
   "id": "234adac9",
   "metadata": {},
   "outputs": [
    {
     "data": {
      "text/plain": [
       "'hola'"
      ]
     },
     "execution_count": 34,
     "metadata": {},
     "output_type": "execute_result"
    }
   ],
   "source": [
    "palabra = 'hola' if numero>10 else 'adios'\n",
    "\n",
    "palabra"
   ]
  },
  {
   "cell_type": "code",
   "execution_count": 37,
   "id": "84cbff35",
   "metadata": {},
   "outputs": [
    {
     "data": {
      "text/plain": [
       "'hasta luegui'"
      ]
     },
     "execution_count": 37,
     "metadata": {},
     "output_type": "execute_result"
    }
   ],
   "source": [
    "numero = 0\n",
    "\n",
    "palabra = 'hola' if numero>0 else ('adios' if numero<0 else 'hasta luegui')\n",
    "\n",
    "palabra"
   ]
  },
  {
   "cell_type": "markdown",
   "id": "9ea11404",
   "metadata": {},
   "source": [
    "Lambda functions are commonly used when you want to pass a function as an argument to higher-order functions, that is, functions that take other functions as their arguments."
   ]
  }
 ],
 "metadata": {
  "kernelspec": {
   "display_name": "Python 3 (ipykernel)",
   "language": "python",
   "name": "python3"
  },
  "language_info": {
   "codemirror_mode": {
    "name": "ipython",
    "version": 3
   },
   "file_extension": ".py",
   "mimetype": "text/x-python",
   "name": "python",
   "nbconvert_exporter": "python",
   "pygments_lexer": "ipython3",
   "version": "3.9.12"
  }
 },
 "nbformat": 4,
 "nbformat_minor": 5
}
