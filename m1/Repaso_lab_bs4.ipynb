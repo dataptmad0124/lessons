{
 "cells": [
  {
   "cell_type": "code",
   "execution_count": 1,
   "id": "4b75fc1e",
   "metadata": {},
   "outputs": [],
   "source": [
    "import requests as req\n",
    "from bs4 import BeautifulSoup as bs\n",
    "import pandas as pd"
   ]
  },
  {
   "cell_type": "code",
   "execution_count": 2,
   "id": "7a73461b",
   "metadata": {},
   "outputs": [],
   "source": [
    "url = 'https://github.com/trending/developers'"
   ]
  },
  {
   "cell_type": "code",
   "execution_count": 3,
   "id": "583938a0",
   "metadata": {},
   "outputs": [],
   "source": [
    "html = req.get(url).text\n",
    "\n",
    "sopa = bs(html, 'html.parser')"
   ]
  },
  {
   "cell_type": "code",
   "execution_count": 7,
   "id": "c140e580",
   "metadata": {},
   "outputs": [],
   "source": [
    "tarjetas = sopa.find_all('div', {'class': 'col-md-6'})"
   ]
  },
  {
   "cell_type": "code",
   "execution_count": 34,
   "id": "32db57a9",
   "metadata": {},
   "outputs": [
    {
     "data": {
      "text/plain": [
       "<div class=\"col-md-6\">\n",
       "<h1 class=\"h3 lh-condensed\">\n",
       "<a class=\"Link\" data-hydro-click='{\"event_type\":\"explore.click\",\"payload\":{\"click_context\":\"TRENDING_DEVELOPERS_PAGE\",\"click_target\":\"OWNER\",\"click_visual_representation\":\"TRENDING_DEVELOPER\",\"actor_id\":null,\"record_id\":249515,\"originating_url\":\"https://github.com/trending/developers\",\"user_id\":null}}' data-hydro-click-hmac=\"51165bfc1c861494ded78df1dc13223c5c4f43d557b38cd782ddbf18afca9865\" data-view-component=\"true\" href=\"/hathach\">\n",
       "            Ha Thach\n",
       "</a> </h1>\n",
       "<p class=\"f4 text-normal mb-1\">\n",
       "<a class=\"Link--secondary Link\" data-hydro-click='{\"event_type\":\"explore.click\",\"payload\":{\"click_context\":\"TRENDING_DEVELOPERS_PAGE\",\"click_target\":\"OWNER\",\"click_visual_representation\":\"TRENDING_DEVELOPER\",\"actor_id\":null,\"record_id\":249515,\"originating_url\":\"https://github.com/trending/developers\",\"user_id\":null}}' data-hydro-click-hmac=\"51165bfc1c861494ded78df1dc13223c5c4f43d557b38cd782ddbf18afca9865\" data-view-component=\"true\" href=\"/hathach\">\n",
       "              hathach\n",
       "</a> </p>\n",
       "</div>"
      ]
     },
     "execution_count": 34,
     "metadata": {},
     "output_type": "execute_result"
    }
   ],
   "source": [
    "tarjetas[0]"
   ]
  },
  {
   "cell_type": "code",
   "execution_count": 14,
   "id": "167ca66b",
   "metadata": {},
   "outputs": [
    {
     "data": {
      "text/plain": [
       "'Ha Thach'"
      ]
     },
     "execution_count": 14,
     "metadata": {},
     "output_type": "execute_result"
    }
   ],
   "source": [
    "nombre = tarjetas[0].find('h1').text.strip()\n",
    "\n",
    "nombre"
   ]
  },
  {
   "cell_type": "code",
   "execution_count": 15,
   "id": "606d6a44",
   "metadata": {},
   "outputs": [
    {
     "data": {
      "text/plain": [
       "'hathach'"
      ]
     },
     "execution_count": 15,
     "metadata": {},
     "output_type": "execute_result"
    }
   ],
   "source": [
    "nick = tarjetas[0].find('p').text.strip()\n",
    "\n",
    "nick"
   ]
  },
  {
   "cell_type": "code",
   "execution_count": 16,
   "id": "8f9e896c",
   "metadata": {},
   "outputs": [
    {
     "data": {
      "text/plain": [
       "'Ha Thach(hathach)'"
      ]
     },
     "execution_count": 16,
     "metadata": {},
     "output_type": "execute_result"
    }
   ],
   "source": [
    "f'{nombre}({nick})'"
   ]
  },
  {
   "cell_type": "code",
   "execution_count": 20,
   "id": "d783798f",
   "metadata": {},
   "outputs": [
    {
     "data": {
      "text/plain": [
       "9"
      ]
     },
     "execution_count": 20,
     "metadata": {},
     "output_type": "execute_result"
    }
   ],
   "source": [
    "# ejemplo\n",
    "\n",
    "a = None\n",
    "\n",
    "num = 12 if a else 9\n",
    "\n",
    "num"
   ]
  },
  {
   "cell_type": "code",
   "execution_count": 23,
   "id": "3f2c011c",
   "metadata": {},
   "outputs": [
    {
     "data": {
      "text/plain": [
       "50"
      ]
     },
     "execution_count": 23,
     "metadata": {},
     "output_type": "execute_result"
    }
   ],
   "source": [
    "len(tarjetas)"
   ]
  },
  {
   "cell_type": "code",
   "execution_count": 22,
   "id": "24eb6e2c",
   "metadata": {},
   "outputs": [
    {
     "name": "stdout",
     "output_type": "stream",
     "text": [
      "<div class=\"col-md-6\">\n",
      "<div class=\"f5 color-fg-muted my-2 my-md-0\">\n",
      "<p class=\"mb-3 d-flex flex-items-center\">\n",
      "<span class=\"sr-only\">Works for @second-state</span>\n",
      "<svg aria-hidden=\"true\" class=\"octicon octicon-organization color-fg-muted mr-2\" data-view-component=\"true\" height=\"16\" version=\"1.1\" viewbox=\"0 0 16 16\" width=\"16\">\n",
      "<path d=\"M1.75 16A1.75 1.75 0 0 1 0 14.25V1.75C0 .784.784 0 1.75 0h8.5C11.216 0 12 .784 12 1.75v12.5c0 .085-.006.168-.018.25h2.268a.25.25 0 0 0 .25-.25V8.285a.25.25 0 0 0-.111-.208l-1.055-.703a.749.749 0 1 1 .832-1.248l1.055.703c.487.325.779.871.779 1.456v5.965A1.75 1.75 0 0 1 14.25 16h-3.5a.766.766 0 0 1-.197-.026c-.099.017-.2.026-.303.026h-3a.75.75 0 0 1-.75-.75V14h-1v1.25a.75.75 0 0 1-.75.75Zm-.25-1.75c0 .138.112.25.25.25H4v-1.25a.75.75 0 0 1 .75-.75h2.5a.75.75 0 0 1 .75.75v1.25h2.25a.25.25 0 0 0 .25-.25V1.75a.25.25 0 0 0-.25-.25h-8.5a.25.25 0 0 0-.25.25ZM3.75 6h.5a.75.75 0 0 1 0 1.5h-.5a.75.75 0 0 1 0-1.5ZM3 3.75A.75.75 0 0 1 3.75 3h.5a.75.75 0 0 1 0 1.5h-.5A.75.75 0 0 1 3 3.75Zm4 3A.75.75 0 0 1 7.75 6h.5a.75.75 0 0 1 0 1.5h-.5A.75.75 0 0 1 7 6.75ZM7.75 3h.5a.75.75 0 0 1 0 1.5h-.5a.75.75 0 0 1 0-1.5ZM3 9.75A.75.75 0 0 1 3.75 9h.5a.75.75 0 0 1 0 1.5h-.5A.75.75 0 0 1 3 9.75ZM7.75 9h.5a.75.75 0 0 1 0 1.5h-.5a.75.75 0 0 1 0-1.5Z\"></path>\n",
      "</svg>\n",
      "<span class=\"Truncate\">\n",
      "<span aria-hidden=\"true\" class=\"Truncate-text\">@second-state</span>\n",
      "</span>\n",
      "</p>\n",
      "</div>\n",
      "</div>\n",
      "<div class=\"col-md-6\">\n",
      "<div class=\"f5 color-fg-muted my-2 my-md-0\">\n",
      "<p class=\"mb-3\"><svg aria-hidden=\"true\" class=\"octicon octicon-clock color-fg-muted\" data-view-component=\"true\" height=\"16\" version=\"1.1\" viewbox=\"0 0 16 16\" width=\"16\">\n",
      "<path d=\"M8 0a8 8 0 1 1 0 16A8 8 0 0 1 8 0ZM1.5 8a6.5 6.5 0 1 0 13 0 6.5 6.5 0 0 0-13 0Zm7-3.25v2.992l2.028.812a.75.75 0 0 1-.557 1.392l-2.5-1A.751.751 0 0 1 7 8.25v-3.5a.75.75 0 0 1 1.5 0Z\"></path>\n",
      "</svg> Joined on Jul 14, 2012</p>\n",
      "</div>\n",
      "</div>\n",
      "<div class=\"col-md-6\">\n",
      "<div class=\"f5 color-fg-muted my-2 my-md-0\">\n",
      "<p class=\"mb-3 d-flex flex-items-center\">\n",
      "<span class=\"sr-only\">Works for Grafana Labs</span>\n",
      "<svg aria-hidden=\"true\" class=\"octicon octicon-organization color-fg-muted mr-2\" data-view-component=\"true\" height=\"16\" version=\"1.1\" viewbox=\"0 0 16 16\" width=\"16\">\n",
      "<path d=\"M1.75 16A1.75 1.75 0 0 1 0 14.25V1.75C0 .784.784 0 1.75 0h8.5C11.216 0 12 .784 12 1.75v12.5c0 .085-.006.168-.018.25h2.268a.25.25 0 0 0 .25-.25V8.285a.25.25 0 0 0-.111-.208l-1.055-.703a.749.749 0 1 1 .832-1.248l1.055.703c.487.325.779.871.779 1.456v5.965A1.75 1.75 0 0 1 14.25 16h-3.5a.766.766 0 0 1-.197-.026c-.099.017-.2.026-.303.026h-3a.75.75 0 0 1-.75-.75V14h-1v1.25a.75.75 0 0 1-.75.75Zm-.25-1.75c0 .138.112.25.25.25H4v-1.25a.75.75 0 0 1 .75-.75h2.5a.75.75 0 0 1 .75.75v1.25h2.25a.25.25 0 0 0 .25-.25V1.75a.25.25 0 0 0-.25-.25h-8.5a.25.25 0 0 0-.25.25ZM3.75 6h.5a.75.75 0 0 1 0 1.5h-.5a.75.75 0 0 1 0-1.5ZM3 3.75A.75.75 0 0 1 3.75 3h.5a.75.75 0 0 1 0 1.5h-.5A.75.75 0 0 1 3 3.75Zm4 3A.75.75 0 0 1 7.75 6h.5a.75.75 0 0 1 0 1.5h-.5A.75.75 0 0 1 7 6.75ZM7.75 3h.5a.75.75 0 0 1 0 1.5h-.5a.75.75 0 0 1 0-1.5ZM3 9.75A.75.75 0 0 1 3.75 9h.5a.75.75 0 0 1 0 1.5h-.5A.75.75 0 0 1 3 9.75ZM7.75 9h.5a.75.75 0 0 1 0 1.5h-.5a.75.75 0 0 1 0-1.5Z\"></path>\n",
      "</svg>\n",
      "<span class=\"Truncate\">\n",
      "<span aria-hidden=\"true\" class=\"Truncate-text\">Grafana Labs</span>\n",
      "</span>\n",
      "</p>\n",
      "</div>\n",
      "</div>\n",
      "<div class=\"col-md-6\">\n",
      "<div class=\"f5 color-fg-muted my-2 my-md-0\">\n",
      "<p class=\"mb-3 d-flex flex-items-center\">\n",
      "<span class=\"sr-only\">Works for @ropensci </span>\n",
      "<svg aria-hidden=\"true\" class=\"octicon octicon-organization color-fg-muted mr-2\" data-view-component=\"true\" height=\"16\" version=\"1.1\" viewbox=\"0 0 16 16\" width=\"16\">\n",
      "<path d=\"M1.75 16A1.75 1.75 0 0 1 0 14.25V1.75C0 .784.784 0 1.75 0h8.5C11.216 0 12 .784 12 1.75v12.5c0 .085-.006.168-.018.25h2.268a.25.25 0 0 0 .25-.25V8.285a.25.25 0 0 0-.111-.208l-1.055-.703a.749.749 0 1 1 .832-1.248l1.055.703c.487.325.779.871.779 1.456v5.965A1.75 1.75 0 0 1 14.25 16h-3.5a.766.766 0 0 1-.197-.026c-.099.017-.2.026-.303.026h-3a.75.75 0 0 1-.75-.75V14h-1v1.25a.75.75 0 0 1-.75.75Zm-.25-1.75c0 .138.112.25.25.25H4v-1.25a.75.75 0 0 1 .75-.75h2.5a.75.75 0 0 1 .75.75v1.25h2.25a.25.25 0 0 0 .25-.25V1.75a.25.25 0 0 0-.25-.25h-8.5a.25.25 0 0 0-.25.25ZM3.75 6h.5a.75.75 0 0 1 0 1.5h-.5a.75.75 0 0 1 0-1.5ZM3 3.75A.75.75 0 0 1 3.75 3h.5a.75.75 0 0 1 0 1.5h-.5A.75.75 0 0 1 3 3.75Zm4 3A.75.75 0 0 1 7.75 6h.5a.75.75 0 0 1 0 1.5h-.5A.75.75 0 0 1 7 6.75ZM7.75 3h.5a.75.75 0 0 1 0 1.5h-.5a.75.75 0 0 1 0-1.5ZM3 9.75A.75.75 0 0 1 3.75 9h.5a.75.75 0 0 1 0 1.5h-.5A.75.75 0 0 1 3 9.75ZM7.75 9h.5a.75.75 0 0 1 0 1.5h-.5a.75.75 0 0 1 0-1.5Z\"></path>\n",
      "</svg>\n",
      "<span class=\"Truncate\">\n",
      "<span aria-hidden=\"true\" class=\"Truncate-text\">@ropensci </span>\n",
      "</span>\n",
      "</p>\n",
      "</div>\n",
      "</div>\n"
     ]
    }
   ],
   "source": [
    "res = []\n",
    "\n",
    "for t in tarjetas:\n",
    "    \n",
    "    try:\n",
    "    \n",
    "        nombre = t.find('h1').text.strip()\n",
    "\n",
    "        nick = t.find('p').text.strip() if t.find('p') else ''\n",
    "\n",
    "        completo = f'{nombre}({nick})'\n",
    "\n",
    "        res.append(completo)\n",
    "        \n",
    "    except:\n",
    "        print(t)"
   ]
  },
  {
   "cell_type": "code",
   "execution_count": 24,
   "id": "f3cd303a",
   "metadata": {},
   "outputs": [
    {
     "data": {
      "text/plain": [
       "['Ha Thach(hathach)',\n",
       " 'tinyusb()',\n",
       " 'Suyeol Jeon(devxoul)',\n",
       " 'Toaster()',\n",
       " 'Joe C(buffalojoec)',\n",
       " 'transfer-hook-order-tracker()',\n",
       " 'Jacob Lee(jacoblee93)',\n",
       " 'fully-local-pdf-chatbot()',\n",
       " 'Casper(casper-hansen)',\n",
       " 'AutoAWQ()',\n",
       " 'Hans-Kristian Arntzen(HansKristian-Work)',\n",
       " 'vkd3d-proton()',\n",
       " 'nihui()',\n",
       " 'ruapu()',\n",
       " 'Matthias Fey(rusty1s)',\n",
       " 'pytorch_scatter()',\n",
       " 'James Yeung(ElderJames)',\n",
       " 'ant-design-blazor()',\n",
       " 'hustcc(hustcc)',\n",
       " 'echarts-for-react()',\n",
       " 'Stan Girard(StanGirard)',\n",
       " 'seo-audits-toolkit()',\n",
       " 'sinclairzx81()',\n",
       " 'typebox()',\n",
       " 'hydai(hydai)',\n",
       " 'Tom MacWright(tmcw)',\n",
       " 'big()',\n",
       " 'R.I.Pienaar(ripienaar)',\n",
       " 'free-for-dev()',\n",
       " 'Paul Schoenfelder(bitwalker)',\n",
       " 'libcluster()',\n",
       " 'Leonid Bugaev(buger)',\n",
       " 'goreplay()',\n",
       " 'Fengyuan Chen(fengyuanchen)',\n",
       " 'cropperjs()',\n",
       " 'lencx(lencx)',\n",
       " 'Noi()',\n",
       " 'Kevin Ushey(kevinushey)',\n",
       " 'Arvin Xu(arvinxx)',\n",
       " 'gitmoji-commit-workflow()',\n",
       " 'Phil Wang(lucidrains)',\n",
       " 'vit-pytorch()',\n",
       " 'Torkel Ödegaard(torkelo)',\n",
       " 'ZhengCheng(1c7)',\n",
       " 'chinese-independent-developer()',\n",
       " 'Yanina Bellini Saibene(yabellini)']"
      ]
     },
     "execution_count": 24,
     "metadata": {},
     "output_type": "execute_result"
    }
   ],
   "source": [
    "res"
   ]
  },
  {
   "cell_type": "code",
   "execution_count": 25,
   "id": "8b2a9bb3",
   "metadata": {},
   "outputs": [
    {
     "data": {
      "text/plain": [
       "46"
      ]
     },
     "execution_count": 25,
     "metadata": {},
     "output_type": "execute_result"
    }
   ],
   "source": [
    "len(res)"
   ]
  },
  {
   "cell_type": "code",
   "execution_count": 27,
   "id": "da2c381f",
   "metadata": {},
   "outputs": [
    {
     "data": {
      "text/plain": [
       "25"
      ]
     },
     "execution_count": 27,
     "metadata": {},
     "output_type": "execute_result"
    }
   ],
   "source": [
    "len(sopa.find_all('h1', {'class': 'h3 lh-condensed'}))"
   ]
  },
  {
   "cell_type": "code",
   "execution_count": 30,
   "id": "43c80971",
   "metadata": {},
   "outputs": [
    {
     "data": {
      "text/plain": [
       "'Ha Thach'"
      ]
     },
     "execution_count": 30,
     "metadata": {},
     "output_type": "execute_result"
    }
   ],
   "source": [
    "sopa.find_all('h1', {'class': 'h3 lh-condensed'})[0].text.strip()"
   ]
  },
  {
   "cell_type": "code",
   "execution_count": 31,
   "id": "3e461999",
   "metadata": {},
   "outputs": [
    {
     "data": {
      "text/plain": [
       "['Ha Thach',\n",
       " 'Suyeol Jeon',\n",
       " 'Joe C',\n",
       " 'Jacob Lee',\n",
       " 'Casper',\n",
       " 'Hans-Kristian Arntzen',\n",
       " 'nihui',\n",
       " 'Matthias Fey',\n",
       " 'James Yeung',\n",
       " 'hustcc',\n",
       " 'Stan Girard',\n",
       " 'sinclairzx81',\n",
       " 'hydai',\n",
       " 'Tom MacWright',\n",
       " 'R.I.Pienaar',\n",
       " 'Paul Schoenfelder',\n",
       " 'Leonid Bugaev',\n",
       " 'Fengyuan Chen',\n",
       " 'lencx',\n",
       " 'Kevin Ushey',\n",
       " 'Arvin Xu',\n",
       " 'Phil Wang',\n",
       " 'Torkel Ödegaard',\n",
       " 'ZhengCheng',\n",
       " 'Yanina Bellini Saibene']"
      ]
     },
     "execution_count": 31,
     "metadata": {},
     "output_type": "execute_result"
    }
   ],
   "source": [
    "[e.text.strip() for e in sopa.find_all('h1', {'class': 'h3 lh-condensed'})]"
   ]
  },
  {
   "cell_type": "code",
   "execution_count": 33,
   "id": "08583691",
   "metadata": {},
   "outputs": [
    {
     "data": {
      "text/plain": [
       "23"
      ]
     },
     "execution_count": 33,
     "metadata": {},
     "output_type": "execute_result"
    }
   ],
   "source": [
    "len(sopa.find_all('p', {'class': 'f4 text-normal mb-1'}))"
   ]
  },
  {
   "cell_type": "code",
   "execution_count": 32,
   "id": "6e152cd7",
   "metadata": {},
   "outputs": [
    {
     "data": {
      "text/plain": [
       "['hathach',\n",
       " 'devxoul',\n",
       " 'buffalojoec',\n",
       " 'jacoblee93',\n",
       " 'casper-hansen',\n",
       " 'HansKristian-Work',\n",
       " 'rusty1s',\n",
       " 'ElderJames',\n",
       " 'hustcc',\n",
       " 'StanGirard',\n",
       " 'hydai',\n",
       " 'tmcw',\n",
       " 'ripienaar',\n",
       " 'bitwalker',\n",
       " 'buger',\n",
       " 'fengyuanchen',\n",
       " 'lencx',\n",
       " 'kevinushey',\n",
       " 'arvinxx',\n",
       " 'lucidrains',\n",
       " 'torkelo',\n",
       " '1c7',\n",
       " 'yabellini']"
      ]
     },
     "execution_count": 32,
     "metadata": {},
     "output_type": "execute_result"
    }
   ],
   "source": [
    "[e.text.strip() for e in sopa.find_all('p', {'class': 'f4 text-normal mb-1'})]"
   ]
  },
  {
   "cell_type": "code",
   "execution_count": 40,
   "id": "e5ec6d22",
   "metadata": {},
   "outputs": [],
   "source": [
    "res = []\n",
    "\n",
    "for i in range(0, len(tarjetas), 2):   # start-stop-step\n",
    "    \n",
    "\n",
    "    \n",
    "    nombre = tarjetas[i].find('h1').text.strip()\n",
    "    \n",
    "    \n",
    "    nick = tarjetas[i].find('p').text.strip() if tarjetas[i].find('p') else ''\n",
    "\n",
    "    completo = f'{nombre}({nick})'\n",
    "\n",
    "    res.append(completo)\n"
   ]
  },
  {
   "cell_type": "code",
   "execution_count": 41,
   "id": "9dd7cb0b",
   "metadata": {},
   "outputs": [
    {
     "data": {
      "text/plain": [
       "['Ha Thach(hathach)',\n",
       " 'Suyeol Jeon(devxoul)',\n",
       " 'Joe C(buffalojoec)',\n",
       " 'Jacob Lee(jacoblee93)',\n",
       " 'Casper(casper-hansen)',\n",
       " 'Hans-Kristian Arntzen(HansKristian-Work)',\n",
       " 'nihui()',\n",
       " 'Matthias Fey(rusty1s)',\n",
       " 'James Yeung(ElderJames)',\n",
       " 'hustcc(hustcc)',\n",
       " 'Stan Girard(StanGirard)',\n",
       " 'sinclairzx81()',\n",
       " 'hydai(hydai)',\n",
       " 'Tom MacWright(tmcw)',\n",
       " 'R.I.Pienaar(ripienaar)',\n",
       " 'Paul Schoenfelder(bitwalker)',\n",
       " 'Leonid Bugaev(buger)',\n",
       " 'Fengyuan Chen(fengyuanchen)',\n",
       " 'lencx(lencx)',\n",
       " 'Kevin Ushey(kevinushey)',\n",
       " 'Arvin Xu(arvinxx)',\n",
       " 'Phil Wang(lucidrains)',\n",
       " 'Torkel Ödegaard(torkelo)',\n",
       " 'ZhengCheng(1c7)',\n",
       " 'Yanina Bellini Saibene(yabellini)']"
      ]
     },
     "execution_count": 41,
     "metadata": {},
     "output_type": "execute_result"
    }
   ],
   "source": [
    "res"
   ]
  },
  {
   "cell_type": "code",
   "execution_count": 42,
   "id": "f6a13dbd",
   "metadata": {},
   "outputs": [
    {
     "data": {
      "text/plain": [
       "25"
      ]
     },
     "execution_count": 42,
     "metadata": {},
     "output_type": "execute_result"
    }
   ],
   "source": [
    "len(res)"
   ]
  },
  {
   "cell_type": "code",
   "execution_count": 43,
   "id": "5a9f5c66",
   "metadata": {},
   "outputs": [
    {
     "data": {
      "text/plain": [
       "50"
      ]
     },
     "execution_count": 43,
     "metadata": {},
     "output_type": "execute_result"
    }
   ],
   "source": [
    "len(tarjetas)"
   ]
  },
  {
   "cell_type": "markdown",
   "id": "221cb0b5",
   "metadata": {},
   "source": [
    "## 2"
   ]
  },
  {
   "cell_type": "code",
   "execution_count": 44,
   "id": "32c66ebe",
   "metadata": {},
   "outputs": [],
   "source": [
    "url = 'https://github.com/trending/python?since=daily'\n",
    "\n",
    "html = req.get(url).text\n",
    "\n",
    "sopa = bs(html, 'html.parser')"
   ]
  },
  {
   "cell_type": "code",
   "execution_count": 46,
   "id": "2a6d9d18",
   "metadata": {},
   "outputs": [],
   "source": [
    "tarjetas = sopa.find_all('h2', {'class': 'h3 lh-condensed'})"
   ]
  },
  {
   "cell_type": "code",
   "execution_count": 52,
   "id": "0ffa1aac",
   "metadata": {},
   "outputs": [
    {
     "data": {
      "text/plain": [
       "'google / gemma_pytorch'"
      ]
     },
     "execution_count": 52,
     "metadata": {},
     "output_type": "execute_result"
    }
   ],
   "source": [
    "tarjetas[0].text.strip().replace('\\n\\n     ', '')"
   ]
  },
  {
   "cell_type": "code",
   "execution_count": 53,
   "id": "cce34a23",
   "metadata": {},
   "outputs": [
    {
     "data": {
      "text/plain": [
       "['google / gemma_pytorch',\n",
       " 'jackfrued / Python-100-Days',\n",
       " 'levihsu / OOTDiffusion',\n",
       " 'FujiwaraChoki / MoneyPrinterV2',\n",
       " 'mtkarimi / smart-resident-guard',\n",
       " 'zhayujie / chatgpt-on-wechat',\n",
       " 'soufianetahiri / Anxun-isoon',\n",
       " 'Azure-Samples / azure-search-openai-demo',\n",
       " 'huggingface / transformers',\n",
       " 'mosaicml / llm-foundry',\n",
       " 'ckan / ckan',\n",
       " 'eosphoros-ai / DB-GPT',\n",
       " 'chatchat-space / Langchain-Chatchat',\n",
       " 'vllm-project / vllm',\n",
       " 'Lightning-AI / pytorch-lightning',\n",
       " 'zulip / zulip',\n",
       " 'Vchitect / Latte',\n",
       " 'PostHog / posthog',\n",
       " 'modelscope / modelscope',\n",
       " 'GaussianObject / GaussianObject',\n",
       " 'NVIDIA / NeMo',\n",
       " 'Chocapikk / CVE-2024-25600',\n",
       " 'keras-team / keras',\n",
       " 'charlax / professional-programming',\n",
       " 'mandiant / capa']"
      ]
     },
     "execution_count": 53,
     "metadata": {},
     "output_type": "execute_result"
    }
   ],
   "source": [
    "res = []\n",
    "\n",
    "\n",
    "for t in tarjetas:\n",
    "    \n",
    "    dato = t.text.strip().replace('\\n\\n     ', '')\n",
    "    \n",
    "    res.append(dato)\n",
    "    \n",
    "    \n",
    "res"
   ]
  },
  {
   "cell_type": "code",
   "execution_count": 54,
   "id": "3891695c",
   "metadata": {},
   "outputs": [
    {
     "data": {
      "text/plain": [
       "25"
      ]
     },
     "execution_count": 54,
     "metadata": {},
     "output_type": "execute_result"
    }
   ],
   "source": [
    "len(res)"
   ]
  },
  {
   "cell_type": "markdown",
   "id": "9c541486",
   "metadata": {},
   "source": [
    "## 4"
   ]
  },
  {
   "cell_type": "code",
   "execution_count": 55,
   "id": "0ca44a90",
   "metadata": {},
   "outputs": [],
   "source": [
    "url ='https://en.wikipedia.org/wiki/Python' \n",
    "\n",
    "html = req.get(url).text\n",
    "\n",
    "sopa = bs(html, 'html.parser')"
   ]
  },
  {
   "cell_type": "code",
   "execution_count": 58,
   "id": "11ea14f3",
   "metadata": {},
   "outputs": [],
   "source": [
    "aes = sopa.find_all('a')"
   ]
  },
  {
   "cell_type": "code",
   "execution_count": 60,
   "id": "a12fe0f7",
   "metadata": {},
   "outputs": [
    {
     "data": {
      "text/plain": [
       "'Jump to content'"
      ]
     },
     "execution_count": 60,
     "metadata": {},
     "output_type": "execute_result"
    }
   ],
   "source": [
    "aes[0].text"
   ]
  },
  {
   "cell_type": "code",
   "execution_count": 62,
   "id": "a5965f7e",
   "metadata": {},
   "outputs": [
    {
     "data": {
      "text/plain": [
       "'#bodyContent'"
      ]
     },
     "execution_count": 62,
     "metadata": {},
     "output_type": "execute_result"
    }
   ],
   "source": [
    "aes[0].attrs['href']"
   ]
  },
  {
   "cell_type": "code",
   "execution_count": 64,
   "id": "e0a3b4bd",
   "metadata": {},
   "outputs": [
    {
     "data": {
      "text/plain": [
       "['https://donate.wikimedia.org/wiki/Special:FundraiserRedirector?utm_source=donate&utm_medium=sidebar&utm_campaign=C13_en.wikipedia.org&uselang=en',\n",
       " 'https://af.wikipedia.org/wiki/Python',\n",
       " 'https://als.wikipedia.org/wiki/Python',\n",
       " 'https://ar.wikipedia.org/wiki/%D8%A8%D8%A7%D9%8A%D8%AB%D9%88%D9%86_(%D8%AA%D9%88%D8%B6%D9%8A%D8%AD)',\n",
       " 'https://az.wikipedia.org/wiki/Python_(d%C9%99qiql%C9%99%C5%9Fdirm%C9%99)',\n",
       " 'https://bn.wikipedia.org/wiki/%E0%A6%AA%E0%A6%BE%E0%A6%87%E0%A6%A5%E0%A6%A8_(%E0%A6%A6%E0%A7%8D%E0%A6%AC%E0%A7%8D%E0%A6%AF%E0%A6%B0%E0%A7%8D%E0%A6%A5%E0%A6%A4%E0%A6%BE_%E0%A6%A8%E0%A6%BF%E0%A6%B0%E0%A6%B8%E0%A6%A8)',\n",
       " 'https://be.wikipedia.org/wiki/Python',\n",
       " 'https://bg.wikipedia.org/wiki/%D0%9F%D0%B8%D1%82%D0%BE%D0%BD_(%D0%BF%D0%BE%D1%8F%D1%81%D0%BD%D0%B5%D0%BD%D0%B8%D0%B5)',\n",
       " 'https://cs.wikipedia.org/wiki/Python_(rozcestn%C3%ADk)',\n",
       " 'https://da.wikipedia.org/wiki/Python',\n",
       " 'https://de.wikipedia.org/wiki/Python',\n",
       " 'https://eo.wikipedia.org/wiki/Pitono_(apartigilo)',\n",
       " 'https://eu.wikipedia.org/wiki/Python_(argipena)',\n",
       " 'https://fa.wikipedia.org/wiki/%D9%BE%D8%A7%DB%8C%D8%AA%D9%88%D9%86',\n",
       " 'https://fr.wikipedia.org/wiki/Python',\n",
       " 'https://ko.wikipedia.org/wiki/%ED%8C%8C%EC%9D%B4%EC%84%A0',\n",
       " 'https://hr.wikipedia.org/wiki/Python_(razdvojba)',\n",
       " 'https://io.wikipedia.org/wiki/Pitono',\n",
       " 'https://id.wikipedia.org/wiki/Python',\n",
       " 'https://ia.wikipedia.org/wiki/Python_(disambiguation)',\n",
       " 'https://is.wikipedia.org/wiki/Python_(a%C3%B0greining)',\n",
       " 'https://it.wikipedia.org/wiki/Python_(disambigua)',\n",
       " 'https://he.wikipedia.org/wiki/%D7%A4%D7%99%D7%AA%D7%95%D7%9F',\n",
       " 'https://kn.wikipedia.org/wiki/%E0%B2%B9%E0%B3%86%E0%B2%AC%E0%B3%8D%E0%B2%AC%E0%B2%BE%E0%B2%B5%E0%B3%81',\n",
       " 'https://ka.wikipedia.org/wiki/%E1%83%9E%E1%83%98%E1%83%97%E1%83%9D%E1%83%9C%E1%83%98_(%E1%83%9B%E1%83%A0%E1%83%90%E1%83%95%E1%83%90%E1%83%9A%E1%83%9B%E1%83%9C%E1%83%98%E1%83%A8%E1%83%95%E1%83%9C%E1%83%94%E1%83%9A%E1%83%9D%E1%83%95%E1%83%90%E1%83%9C%E1%83%98)',\n",
       " 'https://kg.wikipedia.org/wiki/Mboma_(nyoka)',\n",
       " 'https://la.wikipedia.org/wiki/Python_(discretiva)',\n",
       " 'https://lb.wikipedia.org/wiki/Python',\n",
       " 'https://hu.wikipedia.org/wiki/Python_(egy%C3%A9rtelm%C5%B1s%C3%ADt%C5%91_lap)',\n",
       " 'https://mr.wikipedia.org/wiki/%E0%A4%AA%E0%A4%BE%E0%A4%AF%E0%A4%A5%E0%A5%89%E0%A4%A8_(%E0%A4%86%E0%A4%9C%E0%A5%8D%E0%A4%9E%E0%A4%BE%E0%A4%B5%E0%A4%B2%E0%A5%80_%E0%A4%AD%E0%A4%BE%E0%A4%B7%E0%A4%BE)',\n",
       " 'https://nl.wikipedia.org/wiki/Python',\n",
       " 'https://ja.wikipedia.org/wiki/%E3%83%91%E3%82%A4%E3%82%BD%E3%83%B3',\n",
       " 'https://no.wikipedia.org/wiki/Pyton',\n",
       " 'https://pl.wikipedia.org/wiki/Pyton',\n",
       " 'https://pt.wikipedia.org/wiki/Python_(desambigua%C3%A7%C3%A3o)',\n",
       " 'https://ru.wikipedia.org/wiki/Python_(%D0%B7%D0%BD%D0%B0%D1%87%D0%B5%D0%BD%D0%B8%D1%8F)',\n",
       " 'https://sk.wikipedia.org/wiki/Python',\n",
       " 'https://sr.wikipedia.org/wiki/%D0%9F%D0%B8%D1%82%D0%BE%D0%BD_(%D0%B2%D0%B8%D1%88%D0%B5%D0%B7%D0%BD%D0%B0%D1%87%D0%BD%D0%B0_%D0%BE%D0%B4%D1%80%D0%B5%D0%B4%D0%BD%D0%B8%D1%86%D0%B0)',\n",
       " 'https://sh.wikipedia.org/wiki/Python',\n",
       " 'https://fi.wikipedia.org/wiki/Python',\n",
       " 'https://sv.wikipedia.org/wiki/Pyton',\n",
       " 'https://th.wikipedia.org/wiki/%E0%B9%84%E0%B8%9E%E0%B8%97%E0%B8%AD%E0%B8%99',\n",
       " 'https://tr.wikipedia.org/wiki/Python_(anlam_ayr%C4%B1m%C4%B1)',\n",
       " 'https://uk.wikipedia.org/wiki/%D0%9F%D1%96%D1%84%D0%BE%D0%BD',\n",
       " 'https://ur.wikipedia.org/wiki/%D9%BE%D8%A7%D8%A6%DB%8C%D8%AA%DA%BE%D9%88%D9%86',\n",
       " 'https://vi.wikipedia.org/wiki/Python',\n",
       " 'https://zh.wikipedia.org/wiki/Python_(%E6%B6%88%E6%AD%A7%E4%B9%89)',\n",
       " 'https://www.wikidata.org/wiki/Special:EntityPage/Q747452#sitelinks-wikipedia',\n",
       " '/w/index.php?title=Special:UrlShortener&url=https%3A%2F%2Fen.wikipedia.org%2Fwiki%2FPython',\n",
       " '/w/index.php?title=Special:QrCode&url=https%3A%2F%2Fen.wikipedia.org%2Fwiki%2FPython',\n",
       " 'https://www.wikidata.org/wiki/Special:EntityPage/Q747452',\n",
       " 'https://commons.wikimedia.org/wiki/Category:Python',\n",
       " 'https://en.wiktionary.org/wiki/Python',\n",
       " 'https://en.wiktionary.org/wiki/python',\n",
       " 'https://en.wikipedia.org/w/index.php?title=Special:WhatLinksHere/Python&namespace=0',\n",
       " 'https://en.wikipedia.org/w/index.php?title=Python&oldid=1196720317',\n",
       " 'https://foundation.wikimedia.org/wiki/Special:MyLanguage/Policy:Privacy_policy',\n",
       " 'https://foundation.wikimedia.org/wiki/Special:MyLanguage/Policy:Universal_Code_of_Conduct',\n",
       " 'https://developer.wikimedia.org',\n",
       " 'https://stats.wikimedia.org/#/en.wikipedia.org',\n",
       " 'https://foundation.wikimedia.org/wiki/Special:MyLanguage/Policy:Cookie_statement',\n",
       " 'https://wikimediafoundation.org/',\n",
       " 'https://www.mediawiki.org/']"
      ]
     },
     "execution_count": 64,
     "metadata": {},
     "output_type": "execute_result"
    }
   ],
   "source": [
    "res = []\n",
    "\n",
    "for a in aes:\n",
    "    \n",
    "    if 'https' in a.attrs['href']:\n",
    "        \n",
    "        res.append(a.attrs['href'])\n",
    "    \n",
    "    \n",
    "res"
   ]
  },
  {
   "cell_type": "markdown",
   "id": "9242c6f6",
   "metadata": {},
   "source": [
    "## 5"
   ]
  },
  {
   "cell_type": "code",
   "execution_count": 65,
   "id": "4a92684c",
   "metadata": {},
   "outputs": [],
   "source": [
    "url = 'http://uscode.house.gov/download/download.shtml'\n",
    "\n",
    "html = req.get(url).text\n",
    "\n",
    "sopa = bs(html, 'html.parser')"
   ]
  },
  {
   "cell_type": "code",
   "execution_count": 67,
   "id": "d7a837d1",
   "metadata": {},
   "outputs": [
    {
     "data": {
      "text/plain": [
       "6"
      ]
     },
     "execution_count": 67,
     "metadata": {},
     "output_type": "execute_result"
    }
   ],
   "source": [
    "len(sopa.find_all('div', {'class': 'usctitlechanged'}))"
   ]
  },
  {
   "cell_type": "markdown",
   "id": "95631909",
   "metadata": {},
   "source": [
    "## 7"
   ]
  },
  {
   "cell_type": "code",
   "execution_count": 68,
   "id": "42352020",
   "metadata": {},
   "outputs": [],
   "source": [
    "url = 'https://www.emsc-csem.org/Earthquake/'\n",
    "\n",
    "html = req.get(url).text\n",
    "\n",
    "sopa = bs(html, 'html.parser')"
   ]
  },
  {
   "cell_type": "code",
   "execution_count": 70,
   "id": "b96419ef",
   "metadata": {},
   "outputs": [
    {
     "data": {
      "text/plain": [
       "3"
      ]
     },
     "execution_count": 70,
     "metadata": {},
     "output_type": "execute_result"
    }
   ],
   "source": [
    "len(sopa.find_all('table'))"
   ]
  },
  {
   "cell_type": "code",
   "execution_count": 75,
   "id": "1bdb7f48",
   "metadata": {},
   "outputs": [
    {
     "data": {
      "text/plain": [
       "<table class=\"eqs table-scroll\">\n",
       "<thead><tr><th class=\"thico\"><th class=\"citiz\" colspan=\"2\"><div>Citizen<br/>response</div><div><div class=\"dm comm\"></div><div class=\"dm pic\"></div></div></th>\n",
       "</th><th class=\"tbdat\">Date &amp; Time<div>UTC</div></th><th class=\"tblat\">Lat.<div>degrees</div></th><th class=\"tblon\">Lon.<div>degrees</div></th><th class=\"tbdep\">Depth<div>km</div></th><th class=\"tbmag\">Mag.<span>[+]</span></th><th class=\"tbreg\">Region</th></tr></thead>\n",
       "<tbody></tbody>\n",
       "</table>"
      ]
     },
     "execution_count": 75,
     "metadata": {},
     "output_type": "execute_result"
    }
   ],
   "source": [
    "tabla = sopa.find('table', {'class': 'eqs table-scroll'})\n",
    "\n",
    "tabla"
   ]
  },
  {
   "cell_type": "code",
   "execution_count": 77,
   "id": "2d228ec1",
   "metadata": {},
   "outputs": [
    {
     "data": {
      "text/plain": [
       "'Citizenresponse\\nDate & TimeUTCLat.degreesLon.degreesDepthkmMag.[+]Region'"
      ]
     },
     "execution_count": 77,
     "metadata": {},
     "output_type": "execute_result"
    }
   ],
   "source": [
    "tabla.find('thead').text"
   ]
  },
  {
   "cell_type": "markdown",
   "id": "d4e332c3",
   "metadata": {},
   "source": [
    "## 8"
   ]
  },
  {
   "cell_type": "code",
   "execution_count": 81,
   "id": "96f93b13",
   "metadata": {},
   "outputs": [],
   "source": [
    "url = 'https://twitter.com/elonmusk'\n",
    "\n",
    "html = req.get(url).text\n",
    "\n",
    "sopa = bs(html, 'html.parser')"
   ]
  },
  {
   "cell_type": "code",
   "execution_count": 82,
   "id": "78033537",
   "metadata": {},
   "outputs": [
    {
     "data": {
      "text/plain": [
       "<!DOCTYPE html>\n",
       "\n",
       "<html dir=\"ltr\" lang=\"en\">\n",
       "<head>\n",
       "<meta charset=\"utf-8\"/>\n",
       "<meta content=\"width=device-width,initial-scale=1,maximum-scale=1,user-scalable=0,viewport-fit=cover\" name=\"viewport\"/>\n",
       "<style>\n",
       "    body {\n",
       "      -ms-overflow-style: scrollbar;\n",
       "      overflow-y: scroll;\n",
       "      overscroll-behavior-y: none;\n",
       "    }\n",
       "\n",
       "    .errorContainer {\n",
       "      background-color: #FFF;\n",
       "      color: #0F1419;\n",
       "      max-width: 600px;\n",
       "      margin: 0 auto;\n",
       "      padding: 10%;\n",
       "      font-family: Helvetica, sans-serif;\n",
       "      font-size: 16px;\n",
       "    }\n",
       "\n",
       "    .errorButton {\n",
       "      margin: 3em 0;\n",
       "    }\n",
       "\n",
       "    .errorButton a {\n",
       "      background: #1DA1F2;\n",
       "      border-radius: 2.5em;\n",
       "      color: white;\n",
       "      padding: 1em 2em;\n",
       "      text-decoration: none;\n",
       "    }\n",
       "\n",
       "    .errorButton a:hover,\n",
       "    .errorButton a:focus {\n",
       "      background: rgb(26, 145, 218);\n",
       "    }\n",
       "\n",
       "    .errorFooter {\n",
       "      color: #657786;\n",
       "      font-size: 80%;\n",
       "      line-height: 1.5;\n",
       "      padding: 1em 0;\n",
       "    }\n",
       "\n",
       "    .errorFooter a,\n",
       "    .errorFooter a:visited {\n",
       "      color: #657786;\n",
       "      text-decoration: none;\n",
       "      padding-right: 1em;\n",
       "    }\n",
       "\n",
       "    .errorFooter a:hover,\n",
       "    .errorFooter a:active {\n",
       "      text-decoration: underline;\n",
       "    }\n",
       "\n",
       "  </style>\n",
       "</head>\n",
       "<body>\n",
       "<div class=\"errorContainer\">\n",
       "<img alt=\"Twitter\" height=\"38\" src=\"https://abs.twimg.com/errors/logo46x38.png\" srcset=\"https://abs.twimg.com/errors/logo46x38.png 1x, https://abs.twimg.com/errors/logo46x38@2x.png 2x\" width=\"46\"/>\n",
       "<h1>This browser is no longer supported.</h1>\n",
       "<p>\n",
       "      Please switch to a supported browser to continue using twitter.com. You can see a list of supported browsers in our Help Center.\n",
       "    </p>\n",
       "<p class=\"errorButton\"><a href=\"https://help.twitter.com/using-twitter/twitter-supported-browsers\">Help Center</a>\n",
       "</p>\n",
       "<p class=\"errorFooter\">\n",
       "<a href=\"https://twitter.com/tos\">Terms of Service</a>\n",
       "<a href=\"https://twitter.com/privacy\">Privacy Policy</a>\n",
       "<a href=\"https://support.twitter.com/articles/20170514\">Cookie Policy</a>\n",
       "<a href=\"https://legal.twitter.com/imprint.html\">Imprint</a>\n",
       "<a href=\"https://business.twitter.com/en/help/troubleshooting/how-twitter-ads-work.html?ref=web-twc-ao-gbl-adsinfo&amp;utm_source=twc&amp;utm_medium=web&amp;utm_campaign=ao&amp;utm_content=adsinfo\">Ads info</a>\n",
       "      © 2024 X Corp.\n",
       "    </p>\n",
       "</div>\n",
       "</body>\n",
       "</html>"
      ]
     },
     "execution_count": 82,
     "metadata": {},
     "output_type": "execute_result"
    }
   ],
   "source": [
    "sopa"
   ]
  },
  {
   "cell_type": "markdown",
   "id": "101cd8ad",
   "metadata": {},
   "source": [
    "## 9"
   ]
  },
  {
   "cell_type": "code",
   "execution_count": 83,
   "id": "5b5dda9d",
   "metadata": {},
   "outputs": [],
   "source": [
    "url = 'https://www.wikipedia.org/'\n",
    "\n",
    "html = req.get(url).text\n",
    "\n",
    "sopa = bs(html, 'html.parser')"
   ]
  },
  {
   "cell_type": "code",
   "execution_count": 85,
   "id": "4f53c679",
   "metadata": {},
   "outputs": [
    {
     "data": {
      "text/plain": [
       "12"
      ]
     },
     "execution_count": 85,
     "metadata": {},
     "output_type": "execute_result"
    }
   ],
   "source": [
    "len(sopa.find_all('strong'))"
   ]
  },
  {
   "cell_type": "code",
   "execution_count": 90,
   "id": "d06094eb",
   "metadata": {},
   "outputs": [
    {
     "data": {
      "text/plain": [
       "<strong class=\"jsl10n localized-slogan\" data-jsl10n=\"portal.slogan\">The Free Encyclopedia</strong>"
      ]
     },
     "execution_count": 90,
     "metadata": {},
     "output_type": "execute_result"
    }
   ],
   "source": [
    "sopa.find_all('strong')[0]"
   ]
  },
  {
   "cell_type": "code",
   "execution_count": 88,
   "id": "a95b70fc",
   "metadata": {},
   "outputs": [
    {
     "data": {
      "text/plain": [
       "10"
      ]
     },
     "execution_count": 88,
     "metadata": {},
     "output_type": "execute_result"
    }
   ],
   "source": [
    "len(sopa.find_all('strong')[1:-1])"
   ]
  },
  {
   "cell_type": "code",
   "execution_count": 89,
   "id": "dc6ce83c",
   "metadata": {},
   "outputs": [
    {
     "data": {
      "text/plain": [
       "['English',\n",
       " 'Ð\\xa0Ñ\\x83Ñ\\x81Ñ\\x81ÐºÐ¸Ð¹',\n",
       " 'æ\\x97¥æ\\x9c¬èª\\x9e',\n",
       " 'EspaÃ±ol',\n",
       " 'Deutsch',\n",
       " 'FranÃ§ais',\n",
       " 'Italiano',\n",
       " 'ä¸\\xadæ\\x96\\x87',\n",
       " 'Ù\\x81Ø§Ø±Ø³Û\\x8c',\n",
       " 'Ø§Ù\\x84Ø¹Ø±Ø¨Ù\\x8aØ©']"
      ]
     },
     "execution_count": 89,
     "metadata": {},
     "output_type": "execute_result"
    }
   ],
   "source": [
    "[e.text for e in sopa.find_all('strong')[1:-1]]"
   ]
  },
  {
   "cell_type": "code",
   "execution_count": 92,
   "id": "7c757682",
   "metadata": {},
   "outputs": [
    {
     "data": {
      "text/plain": [
       "13"
      ]
     },
     "execution_count": 92,
     "metadata": {},
     "output_type": "execute_result"
    }
   ],
   "source": [
    "len(sopa.find_all('small'))"
   ]
  },
  {
   "cell_type": "code",
   "execution_count": 95,
   "id": "84936afb",
   "metadata": {},
   "outputs": [
    {
     "data": {
      "text/plain": [
       "10"
      ]
     },
     "execution_count": 95,
     "metadata": {},
     "output_type": "execute_result"
    }
   ],
   "source": [
    "len(sopa.find_all('small')[:10])"
   ]
  },
  {
   "cell_type": "code",
   "execution_count": 96,
   "id": "61c61d76",
   "metadata": {},
   "outputs": [
    {
     "data": {
      "text/plain": [
       "['6,782,000+ articles',\n",
       " '1Â\\xa0963Â\\xa0000+ Ñ\\x81Ñ\\x82Ð°Ñ\\x82ÐµÐ¹',\n",
       " '1,403,000+ è¨\\x98äº\\x8b',\n",
       " '1.930.000+ artÃ\\xadculos',\n",
       " '2.881.000+ Artikel',\n",
       " '2â\\x80¯590â\\x80¯000+ articles',\n",
       " '1.847.000+ voci',\n",
       " '1,403,000+ æ\\x9d¡ç\\x9b® / æ¢\\x9dç\\x9b®',\n",
       " 'Û¹Û¹Û³Ù¬Û°Û°Û°+ Ù\\x85Ù\\x82Ø§Ù\\x84Ù\\x87',\n",
       " 'Ù¡Ù¬Ù¢Ù¢Ù§Ù¬Ù\\xa0Ù\\xa0Ù\\xa0+ Ù\\x85Ù\\x82Ø§Ù\\x84Ø©']"
      ]
     },
     "execution_count": 96,
     "metadata": {},
     "output_type": "execute_result"
    }
   ],
   "source": [
    "[e.text for e in sopa.find_all('small')[:10]]"
   ]
  },
  {
   "cell_type": "code",
   "execution_count": 98,
   "id": "56c6c542",
   "metadata": {},
   "outputs": [
    {
     "data": {
      "text/plain": [
       "{'English': '6,782,000+ articles',\n",
       " 'Ð\\xa0Ñ\\x83Ñ\\x81Ñ\\x81ÐºÐ¸Ð¹': '1Â\\xa0963Â\\xa0000+ Ñ\\x81Ñ\\x82Ð°Ñ\\x82ÐµÐ¹',\n",
       " 'æ\\x97¥æ\\x9c¬èª\\x9e': '1,403,000+ è¨\\x98äº\\x8b',\n",
       " 'EspaÃ±ol': '1.930.000+ artÃ\\xadculos',\n",
       " 'Deutsch': '2.881.000+ Artikel',\n",
       " 'FranÃ§ais': '2â\\x80¯590â\\x80¯000+ articles',\n",
       " 'Italiano': '1.847.000+ voci',\n",
       " 'ä¸\\xadæ\\x96\\x87': '1,403,000+ æ\\x9d¡ç\\x9b® / æ¢\\x9dç\\x9b®',\n",
       " 'Ù\\x81Ø§Ø±Ø³Û\\x8c': 'Û¹Û¹Û³Ù¬Û°Û°Û°+ Ù\\x85Ù\\x82Ø§Ù\\x84Ù\\x87',\n",
       " 'Ø§Ù\\x84Ø¹Ø±Ø¨Ù\\x8aØ©': 'Ù¡Ù¬Ù¢Ù¢Ù§Ù¬Ù\\xa0Ù\\xa0Ù\\xa0+ Ù\\x85Ù\\x82Ø§Ù\\x84Ø©'}"
      ]
     },
     "execution_count": 98,
     "metadata": {},
     "output_type": "execute_result"
    }
   ],
   "source": [
    "leng = [e.text for e in sopa.find_all('strong')[1:-1]]\n",
    "\n",
    "num = [e.text for e in sopa.find_all('small')[:10]]\n",
    "\n",
    "\n",
    "dict(zip(leng, num))"
   ]
  },
  {
   "cell_type": "markdown",
   "id": "c2e5b4d9",
   "metadata": {},
   "source": [
    "## 10"
   ]
  },
  {
   "cell_type": "code",
   "execution_count": 99,
   "id": "73c0f44a",
   "metadata": {},
   "outputs": [],
   "source": [
    "url = 'https://data.gov.uk/'\n",
    "\n",
    "html = req.get(url).text\n",
    "\n",
    "sopa = bs(html, 'html.parser')"
   ]
  },
  {
   "cell_type": "code",
   "execution_count": 103,
   "id": "2efea2a3",
   "metadata": {},
   "outputs": [
    {
     "data": {
      "text/plain": [
       "['Business and economy',\n",
       " 'Crime and justice',\n",
       " 'Defence',\n",
       " 'Education',\n",
       " 'Environment',\n",
       " 'Government',\n",
       " 'Government spending',\n",
       " 'Health',\n",
       " 'Mapping',\n",
       " 'Society',\n",
       " 'Towns and cities',\n",
       " 'Transport',\n",
       " 'Digital service performance',\n",
       " 'Government reference data']"
      ]
     },
     "execution_count": 103,
     "metadata": {},
     "output_type": "execute_result"
    }
   ],
   "source": [
    "[e.text for e in sopa.find_all('a', {'class': 'govuk-link'})[4:]]"
   ]
  },
  {
   "cell_type": "markdown",
   "id": "3c7bebe0",
   "metadata": {},
   "source": [
    "## 11"
   ]
  },
  {
   "cell_type": "code",
   "execution_count": 104,
   "id": "615d59c7",
   "metadata": {},
   "outputs": [],
   "source": [
    "url = 'https://en.wikipedia.org/wiki/List_of_languages_by_number_of_native_speakers'\n",
    "\n",
    "html = req.get(url).text\n",
    "\n",
    "sopa = bs(html, 'html.parser')"
   ]
  },
  {
   "cell_type": "code",
   "execution_count": 108,
   "id": "7c8c351d",
   "metadata": {
    "scrolled": false
   },
   "outputs": [],
   "source": [
    "tabla = sopa.find('table')"
   ]
  },
  {
   "cell_type": "code",
   "execution_count": 115,
   "id": "fcbddb56",
   "metadata": {},
   "outputs": [
    {
     "data": {
      "text/plain": [
       "['Language', 'Native speakers(in millions)', 'Language family', 'Branch']"
      ]
     },
     "execution_count": 115,
     "metadata": {},
     "output_type": "execute_result"
    }
   ],
   "source": [
    "cabeceras = [e.text.strip() for e in tabla.find_all('th')]\n",
    "\n",
    "cabeceras"
   ]
  },
  {
   "cell_type": "code",
   "execution_count": 121,
   "id": "9ce84f6d",
   "metadata": {},
   "outputs": [],
   "source": [
    "filas = tabla.find_all('tr')[1:]"
   ]
  },
  {
   "cell_type": "code",
   "execution_count": 125,
   "id": "7209e5ab",
   "metadata": {},
   "outputs": [
    {
     "data": {
      "text/plain": [
       "['Mandarin Chinese', '941', 'Sino-Tibetan', 'Sinitic']"
      ]
     },
     "execution_count": 125,
     "metadata": {},
     "output_type": "execute_result"
    }
   ],
   "source": [
    "[e.text.strip() for e in filas[0].find_all('td')]"
   ]
  },
  {
   "cell_type": "code",
   "execution_count": 126,
   "id": "795eb5f8",
   "metadata": {},
   "outputs": [],
   "source": [
    "data = []\n",
    "\n",
    "for f in filas:\n",
    "    \n",
    "    d = [e.text.strip() for e in f.find_all('td')]\n",
    "    \n",
    "    data.append(d)\n",
    "    "
   ]
  },
  {
   "cell_type": "code",
   "execution_count": 128,
   "id": "3524707c",
   "metadata": {},
   "outputs": [],
   "source": [
    "data = [[e.text.strip() for e in f.find_all('td')] for f in filas]"
   ]
  },
  {
   "cell_type": "code",
   "execution_count": 131,
   "id": "6a6775df",
   "metadata": {},
   "outputs": [
    {
     "data": {
      "text/html": [
       "<div>\n",
       "<style scoped>\n",
       "    .dataframe tbody tr th:only-of-type {\n",
       "        vertical-align: middle;\n",
       "    }\n",
       "\n",
       "    .dataframe tbody tr th {\n",
       "        vertical-align: top;\n",
       "    }\n",
       "\n",
       "    .dataframe thead th {\n",
       "        text-align: right;\n",
       "    }\n",
       "</style>\n",
       "<table border=\"1\" class=\"dataframe\">\n",
       "  <thead>\n",
       "    <tr style=\"text-align: right;\">\n",
       "      <th></th>\n",
       "      <th>Language</th>\n",
       "      <th>Native speakers(in millions)</th>\n",
       "      <th>Language family</th>\n",
       "      <th>Branch</th>\n",
       "    </tr>\n",
       "  </thead>\n",
       "  <tbody>\n",
       "    <tr>\n",
       "      <th>0</th>\n",
       "      <td>Mandarin Chinese</td>\n",
       "      <td>941</td>\n",
       "      <td>Sino-Tibetan</td>\n",
       "      <td>Sinitic</td>\n",
       "    </tr>\n",
       "    <tr>\n",
       "      <th>1</th>\n",
       "      <td>Spanish</td>\n",
       "      <td>486</td>\n",
       "      <td>Indo-European</td>\n",
       "      <td>Romance</td>\n",
       "    </tr>\n",
       "    <tr>\n",
       "      <th>2</th>\n",
       "      <td>English</td>\n",
       "      <td>380</td>\n",
       "      <td>Indo-European</td>\n",
       "      <td>Germanic</td>\n",
       "    </tr>\n",
       "    <tr>\n",
       "      <th>3</th>\n",
       "      <td>Hindi</td>\n",
       "      <td>345</td>\n",
       "      <td>Indo-European</td>\n",
       "      <td>Indo-Aryan</td>\n",
       "    </tr>\n",
       "    <tr>\n",
       "      <th>4</th>\n",
       "      <td>Bengali</td>\n",
       "      <td>237</td>\n",
       "      <td>Indo-European</td>\n",
       "      <td>Indo-Aryan</td>\n",
       "    </tr>\n",
       "    <tr>\n",
       "      <th>5</th>\n",
       "      <td>Portuguese</td>\n",
       "      <td>236</td>\n",
       "      <td>Indo-European</td>\n",
       "      <td>Romance</td>\n",
       "    </tr>\n",
       "    <tr>\n",
       "      <th>6</th>\n",
       "      <td>Russian</td>\n",
       "      <td>148</td>\n",
       "      <td>Indo-European</td>\n",
       "      <td>Balto-Slavic</td>\n",
       "    </tr>\n",
       "    <tr>\n",
       "      <th>7</th>\n",
       "      <td>Japanese</td>\n",
       "      <td>123</td>\n",
       "      <td>Japonic</td>\n",
       "      <td>Japanese</td>\n",
       "    </tr>\n",
       "    <tr>\n",
       "      <th>8</th>\n",
       "      <td>Yue Chinese</td>\n",
       "      <td>86</td>\n",
       "      <td>Sino-Tibetan</td>\n",
       "      <td>Sinitic</td>\n",
       "    </tr>\n",
       "    <tr>\n",
       "      <th>9</th>\n",
       "      <td>Vietnamese</td>\n",
       "      <td>85</td>\n",
       "      <td>Austroasiatic</td>\n",
       "      <td>Vietic</td>\n",
       "    </tr>\n",
       "  </tbody>\n",
       "</table>\n",
       "</div>"
      ],
      "text/plain": [
       "           Language Native speakers(in millions) Language family        Branch\n",
       "0  Mandarin Chinese                          941    Sino-Tibetan       Sinitic\n",
       "1           Spanish                          486   Indo-European       Romance\n",
       "2           English                          380   Indo-European      Germanic\n",
       "3             Hindi                          345   Indo-European    Indo-Aryan\n",
       "4           Bengali                          237   Indo-European    Indo-Aryan\n",
       "5        Portuguese                          236   Indo-European       Romance\n",
       "6           Russian                          148   Indo-European  Balto-Slavic\n",
       "7          Japanese                          123         Japonic      Japanese\n",
       "8       Yue Chinese                           86    Sino-Tibetan       Sinitic\n",
       "9        Vietnamese                           85   Austroasiatic        Vietic"
      ]
     },
     "execution_count": 131,
     "metadata": {},
     "output_type": "execute_result"
    }
   ],
   "source": [
    "df = pd.DataFrame(data, columns=cabeceras)\n",
    "\n",
    "df.head(10)"
   ]
  },
  {
   "cell_type": "markdown",
   "id": "563897ea",
   "metadata": {},
   "source": [
    "## 12"
   ]
  },
  {
   "cell_type": "code",
   "execution_count": 132,
   "id": "8c9f3a42",
   "metadata": {},
   "outputs": [],
   "source": [
    "url = 'https://www.imdb.com/chart/top'\n",
    "\n",
    "html = req.get(url).text\n",
    "\n",
    "sopa = bs(html, 'html.parser')"
   ]
  },
  {
   "cell_type": "code",
   "execution_count": 133,
   "id": "a2ebf0a6",
   "metadata": {},
   "outputs": [
    {
     "data": {
      "text/plain": [
       "<html>\n",
       "<head><title>403 Forbidden</title></head>\n",
       "<body>\n",
       "<center><h1>403 Forbidden</h1></center>\n",
       "</body>\n",
       "</html>"
      ]
     },
     "execution_count": 133,
     "metadata": {},
     "output_type": "execute_result"
    }
   ],
   "source": [
    "sopa"
   ]
  },
  {
   "cell_type": "markdown",
   "id": "859c3526",
   "metadata": {},
   "source": [
    "## 13"
   ]
  },
  {
   "cell_type": "code",
   "execution_count": 134,
   "id": "d2af283d",
   "metadata": {},
   "outputs": [
    {
     "name": "stdout",
     "output_type": "stream",
     "text": [
      "Enter the city:Madrid\n"
     ]
    },
    {
     "name": "stderr",
     "output_type": "stream",
     "text": [
      "/opt/homebrew/Caskroom/miniconda/base/envs/clase/lib/python3.9/site-packages/bs4/__init__.py:435: MarkupResemblesLocatorWarning: The input looks more like a filename than markup. You may want to open this file and pass the filehandle into Beautiful Soup.\n",
      "  warnings.warn(\n"
     ]
    }
   ],
   "source": [
    "city = city=input('Enter the city:')\n",
    "\n",
    "url = 'http://api.openweathermap.org/data/2.5/weather?'+'q='+city+'&APPID=b35975e18dc93725acb092f7272cc6b8&units=metric'\n",
    "\n",
    "html = req.get(url).text\n",
    "\n",
    "sopa = bs(html, 'html.parser')"
   ]
  },
  {
   "cell_type": "code",
   "execution_count": 135,
   "id": "d326bcf0",
   "metadata": {},
   "outputs": [
    {
     "data": {
      "text/plain": [
       "{\"cod\":401, \"message\": \"Invalid API key. Please see https://openweathermap.org/faq#error401 for more info.\"}"
      ]
     },
     "execution_count": 135,
     "metadata": {},
     "output_type": "execute_result"
    }
   ],
   "source": [
    "sopa"
   ]
  },
  {
   "cell_type": "markdown",
   "id": "952bd470",
   "metadata": {},
   "source": [
    "## 14"
   ]
  },
  {
   "cell_type": "code",
   "execution_count": 136,
   "id": "3c4d0258",
   "metadata": {},
   "outputs": [],
   "source": [
    "url = 'http://books.toscrape.com/'\n",
    "\n",
    "html = req.get(url).text\n",
    "\n",
    "sopa = bs(html, 'html.parser')"
   ]
  },
  {
   "cell_type": "code",
   "execution_count": 139,
   "id": "92bb265b",
   "metadata": {},
   "outputs": [],
   "source": [
    "libros = sopa.find_all('li', {'class': 'col-xs-6 col-sm-4 col-md-3 col-lg-3'})"
   ]
  },
  {
   "cell_type": "code",
   "execution_count": 164,
   "id": "1678e985",
   "metadata": {},
   "outputs": [
    {
     "data": {
      "text/plain": [
       "'catalogue/a-light-in-the-attic_1000/index.html'"
      ]
     },
     "execution_count": 164,
     "metadata": {},
     "output_type": "execute_result"
    }
   ],
   "source": [
    "libros[0].find_all('a')[1].attrs['href']"
   ]
  },
  {
   "cell_type": "code",
   "execution_count": 165,
   "id": "0f42a9a4",
   "metadata": {},
   "outputs": [
    {
     "data": {
      "text/plain": [
       "'http://books.toscrape.com/catalogue/a-light-in-the-attic_1000/index.html'"
      ]
     },
     "execution_count": 165,
     "metadata": {},
     "output_type": "execute_result"
    }
   ],
   "source": [
    "url + libros[0].find_all('a')[1].attrs['href']"
   ]
  },
  {
   "cell_type": "code",
   "execution_count": 146,
   "id": "8ae19613",
   "metadata": {},
   "outputs": [
    {
     "data": {
      "text/plain": [
       "'A Light in the Attic'"
      ]
     },
     "execution_count": 146,
     "metadata": {},
     "output_type": "execute_result"
    }
   ],
   "source": [
    "libros[0].find('a').find('img').attrs['alt']   # nombre"
   ]
  },
  {
   "cell_type": "code",
   "execution_count": 150,
   "id": "f960027b",
   "metadata": {},
   "outputs": [
    {
     "data": {
      "text/plain": [
       "'Â£51.77'"
      ]
     },
     "execution_count": 150,
     "metadata": {},
     "output_type": "execute_result"
    }
   ],
   "source": [
    "libros[0].find('p', {'class': 'price_color'}).text  # precio"
   ]
  },
  {
   "cell_type": "code",
   "execution_count": 152,
   "id": "664416ab",
   "metadata": {},
   "outputs": [
    {
     "data": {
      "text/plain": [
       "'In stock'"
      ]
     },
     "execution_count": 152,
     "metadata": {},
     "output_type": "execute_result"
    }
   ],
   "source": [
    "libros[0].find('p', {'class': 'instock availability'}).text.strip()"
   ]
  },
  {
   "cell_type": "code",
   "execution_count": 166,
   "id": "ed97373c",
   "metadata": {},
   "outputs": [],
   "source": [
    "data = []\n",
    "\n",
    "for l in libros:\n",
    "    \n",
    "    dictio = {'nombre': l.find('a').find('img').attrs['alt'],   \n",
    "              'precio': float(l.find('p', {'class': 'price_color'}).text[2:]),\n",
    "              'stock': l.find('p', {'class': 'instock availability'}).text.strip(),\n",
    "              'url': url + l.find_all('a')[1].attrs['href']\n",
    "             }\n",
    "    \n",
    "    \n",
    "    data.append(dictio)"
   ]
  },
  {
   "cell_type": "code",
   "execution_count": 167,
   "id": "0bdd567d",
   "metadata": {},
   "outputs": [
    {
     "data": {
      "text/html": [
       "<div>\n",
       "<style scoped>\n",
       "    .dataframe tbody tr th:only-of-type {\n",
       "        vertical-align: middle;\n",
       "    }\n",
       "\n",
       "    .dataframe tbody tr th {\n",
       "        vertical-align: top;\n",
       "    }\n",
       "\n",
       "    .dataframe thead th {\n",
       "        text-align: right;\n",
       "    }\n",
       "</style>\n",
       "<table border=\"1\" class=\"dataframe\">\n",
       "  <thead>\n",
       "    <tr style=\"text-align: right;\">\n",
       "      <th></th>\n",
       "      <th>nombre</th>\n",
       "      <th>precio</th>\n",
       "      <th>stock</th>\n",
       "      <th>url</th>\n",
       "    </tr>\n",
       "  </thead>\n",
       "  <tbody>\n",
       "    <tr>\n",
       "      <th>0</th>\n",
       "      <td>A Light in the Attic</td>\n",
       "      <td>51.77</td>\n",
       "      <td>In stock</td>\n",
       "      <td>http://books.toscrape.com/catalogue/a-light-in...</td>\n",
       "    </tr>\n",
       "    <tr>\n",
       "      <th>1</th>\n",
       "      <td>Tipping the Velvet</td>\n",
       "      <td>53.74</td>\n",
       "      <td>In stock</td>\n",
       "      <td>http://books.toscrape.com/catalogue/tipping-th...</td>\n",
       "    </tr>\n",
       "    <tr>\n",
       "      <th>2</th>\n",
       "      <td>Soumission</td>\n",
       "      <td>50.10</td>\n",
       "      <td>In stock</td>\n",
       "      <td>http://books.toscrape.com/catalogue/soumission...</td>\n",
       "    </tr>\n",
       "    <tr>\n",
       "      <th>3</th>\n",
       "      <td>Sharp Objects</td>\n",
       "      <td>47.82</td>\n",
       "      <td>In stock</td>\n",
       "      <td>http://books.toscrape.com/catalogue/sharp-obje...</td>\n",
       "    </tr>\n",
       "    <tr>\n",
       "      <th>4</th>\n",
       "      <td>Sapiens: A Brief History of Humankind</td>\n",
       "      <td>54.23</td>\n",
       "      <td>In stock</td>\n",
       "      <td>http://books.toscrape.com/catalogue/sapiens-a-...</td>\n",
       "    </tr>\n",
       "  </tbody>\n",
       "</table>\n",
       "</div>"
      ],
      "text/plain": [
       "                                  nombre  precio     stock  \\\n",
       "0                   A Light in the Attic   51.77  In stock   \n",
       "1                     Tipping the Velvet   53.74  In stock   \n",
       "2                             Soumission   50.10  In stock   \n",
       "3                          Sharp Objects   47.82  In stock   \n",
       "4  Sapiens: A Brief History of Humankind   54.23  In stock   \n",
       "\n",
       "                                                 url  \n",
       "0  http://books.toscrape.com/catalogue/a-light-in...  \n",
       "1  http://books.toscrape.com/catalogue/tipping-th...  \n",
       "2  http://books.toscrape.com/catalogue/soumission...  \n",
       "3  http://books.toscrape.com/catalogue/sharp-obje...  \n",
       "4  http://books.toscrape.com/catalogue/sapiens-a-...  "
      ]
     },
     "execution_count": 167,
     "metadata": {},
     "output_type": "execute_result"
    }
   ],
   "source": [
    "df = pd.DataFrame(data)\n",
    "\n",
    "df.head()"
   ]
  },
  {
   "cell_type": "code",
   "execution_count": 168,
   "id": "961ab86f",
   "metadata": {},
   "outputs": [
    {
     "name": "stdout",
     "output_type": "stream",
     "text": [
      "<class 'pandas.core.frame.DataFrame'>\n",
      "RangeIndex: 20 entries, 0 to 19\n",
      "Data columns (total 4 columns):\n",
      " #   Column  Non-Null Count  Dtype  \n",
      "---  ------  --------------  -----  \n",
      " 0   nombre  20 non-null     object \n",
      " 1   precio  20 non-null     float64\n",
      " 2   stock   20 non-null     object \n",
      " 3   url     20 non-null     object \n",
      "dtypes: float64(1), object(3)\n",
      "memory usage: 768.0+ bytes\n"
     ]
    }
   ],
   "source": [
    "df.info()"
   ]
  },
  {
   "cell_type": "code",
   "execution_count": 169,
   "id": "374d9032",
   "metadata": {},
   "outputs": [
    {
     "data": {
      "text/html": [
       "<div>\n",
       "<style scoped>\n",
       "    .dataframe tbody tr th:only-of-type {\n",
       "        vertical-align: middle;\n",
       "    }\n",
       "\n",
       "    .dataframe tbody tr th {\n",
       "        vertical-align: top;\n",
       "    }\n",
       "\n",
       "    .dataframe thead th {\n",
       "        text-align: right;\n",
       "    }\n",
       "</style>\n",
       "<table border=\"1\" class=\"dataframe\">\n",
       "  <thead>\n",
       "    <tr style=\"text-align: right;\">\n",
       "      <th></th>\n",
       "      <th>nombre</th>\n",
       "      <th>precio</th>\n",
       "      <th>stock</th>\n",
       "      <th>url</th>\n",
       "    </tr>\n",
       "  </thead>\n",
       "  <tbody>\n",
       "    <tr>\n",
       "      <th>0</th>\n",
       "      <td>A Light in the Attic</td>\n",
       "      <td>51.77</td>\n",
       "      <td>In stock</td>\n",
       "      <td>http://books.toscrape.com/catalogue/a-light-in...</td>\n",
       "    </tr>\n",
       "    <tr>\n",
       "      <th>1</th>\n",
       "      <td>Tipping the Velvet</td>\n",
       "      <td>53.74</td>\n",
       "      <td>In stock</td>\n",
       "      <td>http://books.toscrape.com/catalogue/tipping-th...</td>\n",
       "    </tr>\n",
       "    <tr>\n",
       "      <th>2</th>\n",
       "      <td>Soumission</td>\n",
       "      <td>50.10</td>\n",
       "      <td>In stock</td>\n",
       "      <td>http://books.toscrape.com/catalogue/soumission...</td>\n",
       "    </tr>\n",
       "    <tr>\n",
       "      <th>3</th>\n",
       "      <td>Sharp Objects</td>\n",
       "      <td>47.82</td>\n",
       "      <td>In stock</td>\n",
       "      <td>http://books.toscrape.com/catalogue/sharp-obje...</td>\n",
       "    </tr>\n",
       "    <tr>\n",
       "      <th>4</th>\n",
       "      <td>Sapiens: A Brief History of Humankind</td>\n",
       "      <td>54.23</td>\n",
       "      <td>In stock</td>\n",
       "      <td>http://books.toscrape.com/catalogue/sapiens-a-...</td>\n",
       "    </tr>\n",
       "    <tr>\n",
       "      <th>9</th>\n",
       "      <td>The Black Maria</td>\n",
       "      <td>52.15</td>\n",
       "      <td>In stock</td>\n",
       "      <td>http://books.toscrape.com/catalogue/the-black-...</td>\n",
       "    </tr>\n",
       "    <tr>\n",
       "      <th>13</th>\n",
       "      <td>Scott Pilgrim's Precious Little Life (Scott Pi...</td>\n",
       "      <td>52.29</td>\n",
       "      <td>In stock</td>\n",
       "      <td>http://books.toscrape.com/catalogue/scott-pilg...</td>\n",
       "    </tr>\n",
       "    <tr>\n",
       "      <th>15</th>\n",
       "      <td>Our Band Could Be Your Life: Scenes from the A...</td>\n",
       "      <td>57.25</td>\n",
       "      <td>In stock</td>\n",
       "      <td>http://books.toscrape.com/catalogue/our-band-c...</td>\n",
       "    </tr>\n",
       "    <tr>\n",
       "      <th>18</th>\n",
       "      <td>Libertarianism for Beginners</td>\n",
       "      <td>51.33</td>\n",
       "      <td>In stock</td>\n",
       "      <td>http://books.toscrape.com/catalogue/libertaria...</td>\n",
       "    </tr>\n",
       "  </tbody>\n",
       "</table>\n",
       "</div>"
      ],
      "text/plain": [
       "                                               nombre  precio     stock  \\\n",
       "0                                A Light in the Attic   51.77  In stock   \n",
       "1                                  Tipping the Velvet   53.74  In stock   \n",
       "2                                          Soumission   50.10  In stock   \n",
       "3                                       Sharp Objects   47.82  In stock   \n",
       "4               Sapiens: A Brief History of Humankind   54.23  In stock   \n",
       "9                                     The Black Maria   52.15  In stock   \n",
       "13  Scott Pilgrim's Precious Little Life (Scott Pi...   52.29  In stock   \n",
       "15  Our Band Could Be Your Life: Scenes from the A...   57.25  In stock   \n",
       "18                       Libertarianism for Beginners   51.33  In stock   \n",
       "\n",
       "                                                  url  \n",
       "0   http://books.toscrape.com/catalogue/a-light-in...  \n",
       "1   http://books.toscrape.com/catalogue/tipping-th...  \n",
       "2   http://books.toscrape.com/catalogue/soumission...  \n",
       "3   http://books.toscrape.com/catalogue/sharp-obje...  \n",
       "4   http://books.toscrape.com/catalogue/sapiens-a-...  \n",
       "9   http://books.toscrape.com/catalogue/the-black-...  \n",
       "13  http://books.toscrape.com/catalogue/scott-pilg...  \n",
       "15  http://books.toscrape.com/catalogue/our-band-c...  \n",
       "18  http://books.toscrape.com/catalogue/libertaria...  "
      ]
     },
     "execution_count": 169,
     "metadata": {},
     "output_type": "execute_result"
    }
   ],
   "source": [
    "df[df.precio>45.32]"
   ]
  },
  {
   "cell_type": "code",
   "execution_count": 170,
   "id": "ffca56b6",
   "metadata": {},
   "outputs": [],
   "source": [
    "url = 'http://books.toscrape.com/catalogue/a-light-in-the-attic_1000/index.html'\n",
    "\n",
    "html = req.get(url).text\n",
    "\n",
    "sopa = bs(html, 'html.parser')\n"
   ]
  },
  {
   "cell_type": "code",
   "execution_count": 190,
   "id": "b56aa1a1",
   "metadata": {},
   "outputs": [
    {
     "data": {
      "text/plain": [
       "<p class=\"star-rating Two\">\n",
       "<i class=\"icon-star\"></i>\n",
       "<i class=\"icon-star\"></i>\n",
       "<i class=\"icon-star\"></i>\n",
       "<i class=\"icon-star\"></i>\n",
       "<i class=\"icon-star\"></i>\n",
       "<!-- <small><a href=\"/catalogue/its-only-the-himalayas_981/reviews/\">\n",
       "        \n",
       "                \n",
       "                    0 customer reviews\n",
       "                \n",
       "        </a></small>\n",
       "         --> \n",
       "\n",
       "\n",
       "<!-- \n",
       "    <a id=\"write_review\" href=\"/catalogue/its-only-the-himalayas_981/reviews/add/#addreview\" class=\"btn btn-success btn-sm\">\n",
       "        Write a review\n",
       "    </a>\n",
       "\n",
       " --></p>"
      ]
     },
     "execution_count": 190,
     "metadata": {},
     "output_type": "execute_result"
    }
   ],
   "source": [
    "sopa.find_all('p')[2]"
   ]
  },
  {
   "cell_type": "code",
   "execution_count": 176,
   "id": "f0c3b90c",
   "metadata": {},
   "outputs": [],
   "source": [
    "desc = []\n",
    "\n",
    "\n",
    "for u in df.url:\n",
    "    \n",
    "    html = req.get(u).text\n",
    "    \n",
    "    sopa = bs(html, 'html.parser')\n",
    "    \n",
    "    d = sopa.find_all('p')[3].text\n",
    "    \n",
    "    desc.append(d)"
   ]
  },
  {
   "cell_type": "code",
   "execution_count": 179,
   "id": "2334db0c",
   "metadata": {},
   "outputs": [],
   "source": [
    "df['description'] = desc"
   ]
  },
  {
   "cell_type": "code",
   "execution_count": 180,
   "id": "bd72b653",
   "metadata": {},
   "outputs": [
    {
     "data": {
      "text/html": [
       "<div>\n",
       "<style scoped>\n",
       "    .dataframe tbody tr th:only-of-type {\n",
       "        vertical-align: middle;\n",
       "    }\n",
       "\n",
       "    .dataframe tbody tr th {\n",
       "        vertical-align: top;\n",
       "    }\n",
       "\n",
       "    .dataframe thead th {\n",
       "        text-align: right;\n",
       "    }\n",
       "</style>\n",
       "<table border=\"1\" class=\"dataframe\">\n",
       "  <thead>\n",
       "    <tr style=\"text-align: right;\">\n",
       "      <th></th>\n",
       "      <th>nombre</th>\n",
       "      <th>precio</th>\n",
       "      <th>stock</th>\n",
       "      <th>url</th>\n",
       "      <th>description</th>\n",
       "    </tr>\n",
       "  </thead>\n",
       "  <tbody>\n",
       "    <tr>\n",
       "      <th>0</th>\n",
       "      <td>A Light in the Attic</td>\n",
       "      <td>51.77</td>\n",
       "      <td>In stock</td>\n",
       "      <td>http://books.toscrape.com/catalogue/a-light-in...</td>\n",
       "      <td>It's hard to imagine a world without A Light i...</td>\n",
       "    </tr>\n",
       "    <tr>\n",
       "      <th>1</th>\n",
       "      <td>Tipping the Velvet</td>\n",
       "      <td>53.74</td>\n",
       "      <td>In stock</td>\n",
       "      <td>http://books.toscrape.com/catalogue/tipping-th...</td>\n",
       "      <td>\"Erotic and absorbing...Written with starling ...</td>\n",
       "    </tr>\n",
       "    <tr>\n",
       "      <th>2</th>\n",
       "      <td>Soumission</td>\n",
       "      <td>50.10</td>\n",
       "      <td>In stock</td>\n",
       "      <td>http://books.toscrape.com/catalogue/soumission...</td>\n",
       "      <td>Dans une France assez proche de la nÃ´tre, un ...</td>\n",
       "    </tr>\n",
       "    <tr>\n",
       "      <th>3</th>\n",
       "      <td>Sharp Objects</td>\n",
       "      <td>47.82</td>\n",
       "      <td>In stock</td>\n",
       "      <td>http://books.toscrape.com/catalogue/sharp-obje...</td>\n",
       "      <td>WICKED above her hipbone, GIRL across her hear...</td>\n",
       "    </tr>\n",
       "    <tr>\n",
       "      <th>4</th>\n",
       "      <td>Sapiens: A Brief History of Humankind</td>\n",
       "      <td>54.23</td>\n",
       "      <td>In stock</td>\n",
       "      <td>http://books.toscrape.com/catalogue/sapiens-a-...</td>\n",
       "      <td>From a renowned historian comes a groundbreaki...</td>\n",
       "    </tr>\n",
       "    <tr>\n",
       "      <th>5</th>\n",
       "      <td>The Requiem Red</td>\n",
       "      <td>22.65</td>\n",
       "      <td>In stock</td>\n",
       "      <td>http://books.toscrape.com/catalogue/the-requie...</td>\n",
       "      <td>Patient Twenty-nine.A monster roams the halls ...</td>\n",
       "    </tr>\n",
       "    <tr>\n",
       "      <th>6</th>\n",
       "      <td>The Dirty Little Secrets of Getting Your Dream...</td>\n",
       "      <td>33.34</td>\n",
       "      <td>In stock</td>\n",
       "      <td>http://books.toscrape.com/catalogue/the-dirty-...</td>\n",
       "      <td>Drawing on his extensive experience evaluating...</td>\n",
       "    </tr>\n",
       "    <tr>\n",
       "      <th>7</th>\n",
       "      <td>The Coming Woman: A Novel Based on the Life of...</td>\n",
       "      <td>17.93</td>\n",
       "      <td>In stock</td>\n",
       "      <td>http://books.toscrape.com/catalogue/the-coming...</td>\n",
       "      <td>\"If you have a heart, if you have a soul, Kare...</td>\n",
       "    </tr>\n",
       "    <tr>\n",
       "      <th>8</th>\n",
       "      <td>The Boys in the Boat: Nine Americans and Their...</td>\n",
       "      <td>22.60</td>\n",
       "      <td>In stock</td>\n",
       "      <td>http://books.toscrape.com/catalogue/the-boys-i...</td>\n",
       "      <td>For readers of Laura Hillenbrand's Seabiscuit ...</td>\n",
       "    </tr>\n",
       "    <tr>\n",
       "      <th>9</th>\n",
       "      <td>The Black Maria</td>\n",
       "      <td>52.15</td>\n",
       "      <td>In stock</td>\n",
       "      <td>http://books.toscrape.com/catalogue/the-black-...</td>\n",
       "      <td>Praise for Aracelis Girmay:\"[Girmay's] every l...</td>\n",
       "    </tr>\n",
       "    <tr>\n",
       "      <th>10</th>\n",
       "      <td>Starving Hearts (Triangular Trade Trilogy, #1)</td>\n",
       "      <td>13.99</td>\n",
       "      <td>In stock</td>\n",
       "      <td>http://books.toscrape.com/catalogue/starving-h...</td>\n",
       "      <td>Since her assault, Miss Annette Chetwynd has b...</td>\n",
       "    </tr>\n",
       "    <tr>\n",
       "      <th>11</th>\n",
       "      <td>Shakespeare's Sonnets</td>\n",
       "      <td>20.66</td>\n",
       "      <td>In stock</td>\n",
       "      <td>http://books.toscrape.com/catalogue/shakespear...</td>\n",
       "      <td>This book is an important and complete collect...</td>\n",
       "    </tr>\n",
       "    <tr>\n",
       "      <th>12</th>\n",
       "      <td>Set Me Free</td>\n",
       "      <td>17.46</td>\n",
       "      <td>In stock</td>\n",
       "      <td>http://books.toscrape.com/catalogue/set-me-fre...</td>\n",
       "      <td>Aaron Ledbetterâs future had been planned ou...</td>\n",
       "    </tr>\n",
       "    <tr>\n",
       "      <th>13</th>\n",
       "      <td>Scott Pilgrim's Precious Little Life (Scott Pi...</td>\n",
       "      <td>52.29</td>\n",
       "      <td>In stock</td>\n",
       "      <td>http://books.toscrape.com/catalogue/scott-pilg...</td>\n",
       "      <td>Scott Pilgrim's life is totally sweet. He's 23...</td>\n",
       "    </tr>\n",
       "    <tr>\n",
       "      <th>14</th>\n",
       "      <td>Rip it Up and Start Again</td>\n",
       "      <td>35.02</td>\n",
       "      <td>In stock</td>\n",
       "      <td>http://books.toscrape.com/catalogue/rip-it-up-...</td>\n",
       "      <td>Punk's raw power rejuvenated rock, but by the ...</td>\n",
       "    </tr>\n",
       "    <tr>\n",
       "      <th>15</th>\n",
       "      <td>Our Band Could Be Your Life: Scenes from the A...</td>\n",
       "      <td>57.25</td>\n",
       "      <td>In stock</td>\n",
       "      <td>http://books.toscrape.com/catalogue/our-band-c...</td>\n",
       "      <td>This is the never-before-told story of the mus...</td>\n",
       "    </tr>\n",
       "    <tr>\n",
       "      <th>16</th>\n",
       "      <td>Olio</td>\n",
       "      <td>23.88</td>\n",
       "      <td>In stock</td>\n",
       "      <td>http://books.toscrape.com/catalogue/olio_984/i...</td>\n",
       "      <td>Part fact, part fiction, Tyehimba Jess's much ...</td>\n",
       "    </tr>\n",
       "    <tr>\n",
       "      <th>17</th>\n",
       "      <td>Mesaerion: The Best Science Fiction Stories 18...</td>\n",
       "      <td>37.59</td>\n",
       "      <td>In stock</td>\n",
       "      <td>http://books.toscrape.com/catalogue/mesaerion-...</td>\n",
       "      <td>Andrew Barger, award-winning author and engine...</td>\n",
       "    </tr>\n",
       "    <tr>\n",
       "      <th>18</th>\n",
       "      <td>Libertarianism for Beginners</td>\n",
       "      <td>51.33</td>\n",
       "      <td>In stock</td>\n",
       "      <td>http://books.toscrape.com/catalogue/libertaria...</td>\n",
       "      <td>Libertarianism isn't about winning elections; ...</td>\n",
       "    </tr>\n",
       "    <tr>\n",
       "      <th>19</th>\n",
       "      <td>It's Only the Himalayas</td>\n",
       "      <td>45.17</td>\n",
       "      <td>In stock</td>\n",
       "      <td>http://books.toscrape.com/catalogue/its-only-t...</td>\n",
       "      <td>âWherever you go, whatever you do, just . . ...</td>\n",
       "    </tr>\n",
       "  </tbody>\n",
       "</table>\n",
       "</div>"
      ],
      "text/plain": [
       "                                               nombre  precio     stock  \\\n",
       "0                                A Light in the Attic   51.77  In stock   \n",
       "1                                  Tipping the Velvet   53.74  In stock   \n",
       "2                                          Soumission   50.10  In stock   \n",
       "3                                       Sharp Objects   47.82  In stock   \n",
       "4               Sapiens: A Brief History of Humankind   54.23  In stock   \n",
       "5                                     The Requiem Red   22.65  In stock   \n",
       "6   The Dirty Little Secrets of Getting Your Dream...   33.34  In stock   \n",
       "7   The Coming Woman: A Novel Based on the Life of...   17.93  In stock   \n",
       "8   The Boys in the Boat: Nine Americans and Their...   22.60  In stock   \n",
       "9                                     The Black Maria   52.15  In stock   \n",
       "10     Starving Hearts (Triangular Trade Trilogy, #1)   13.99  In stock   \n",
       "11                              Shakespeare's Sonnets   20.66  In stock   \n",
       "12                                        Set Me Free   17.46  In stock   \n",
       "13  Scott Pilgrim's Precious Little Life (Scott Pi...   52.29  In stock   \n",
       "14                          Rip it Up and Start Again   35.02  In stock   \n",
       "15  Our Band Could Be Your Life: Scenes from the A...   57.25  In stock   \n",
       "16                                               Olio   23.88  In stock   \n",
       "17  Mesaerion: The Best Science Fiction Stories 18...   37.59  In stock   \n",
       "18                       Libertarianism for Beginners   51.33  In stock   \n",
       "19                            It's Only the Himalayas   45.17  In stock   \n",
       "\n",
       "                                                  url  \\\n",
       "0   http://books.toscrape.com/catalogue/a-light-in...   \n",
       "1   http://books.toscrape.com/catalogue/tipping-th...   \n",
       "2   http://books.toscrape.com/catalogue/soumission...   \n",
       "3   http://books.toscrape.com/catalogue/sharp-obje...   \n",
       "4   http://books.toscrape.com/catalogue/sapiens-a-...   \n",
       "5   http://books.toscrape.com/catalogue/the-requie...   \n",
       "6   http://books.toscrape.com/catalogue/the-dirty-...   \n",
       "7   http://books.toscrape.com/catalogue/the-coming...   \n",
       "8   http://books.toscrape.com/catalogue/the-boys-i...   \n",
       "9   http://books.toscrape.com/catalogue/the-black-...   \n",
       "10  http://books.toscrape.com/catalogue/starving-h...   \n",
       "11  http://books.toscrape.com/catalogue/shakespear...   \n",
       "12  http://books.toscrape.com/catalogue/set-me-fre...   \n",
       "13  http://books.toscrape.com/catalogue/scott-pilg...   \n",
       "14  http://books.toscrape.com/catalogue/rip-it-up-...   \n",
       "15  http://books.toscrape.com/catalogue/our-band-c...   \n",
       "16  http://books.toscrape.com/catalogue/olio_984/i...   \n",
       "17  http://books.toscrape.com/catalogue/mesaerion-...   \n",
       "18  http://books.toscrape.com/catalogue/libertaria...   \n",
       "19  http://books.toscrape.com/catalogue/its-only-t...   \n",
       "\n",
       "                                          description  \n",
       "0   It's hard to imagine a world without A Light i...  \n",
       "1   \"Erotic and absorbing...Written with starling ...  \n",
       "2   Dans une France assez proche de la nÃ´tre, un ...  \n",
       "3   WICKED above her hipbone, GIRL across her hear...  \n",
       "4   From a renowned historian comes a groundbreaki...  \n",
       "5   Patient Twenty-nine.A monster roams the halls ...  \n",
       "6   Drawing on his extensive experience evaluating...  \n",
       "7   \"If you have a heart, if you have a soul, Kare...  \n",
       "8   For readers of Laura Hillenbrand's Seabiscuit ...  \n",
       "9   Praise for Aracelis Girmay:\"[Girmay's] every l...  \n",
       "10  Since her assault, Miss Annette Chetwynd has b...  \n",
       "11  This book is an important and complete collect...  \n",
       "12  Aaron Ledbetterâs future had been planned ou...  \n",
       "13  Scott Pilgrim's life is totally sweet. He's 23...  \n",
       "14  Punk's raw power rejuvenated rock, but by the ...  \n",
       "15  This is the never-before-told story of the mus...  \n",
       "16  Part fact, part fiction, Tyehimba Jess's much ...  \n",
       "17  Andrew Barger, award-winning author and engine...  \n",
       "18  Libertarianism isn't about winning elections; ...  \n",
       "19  âWherever you go, whatever you do, just . . ...  "
      ]
     },
     "execution_count": 180,
     "metadata": {},
     "output_type": "execute_result"
    }
   ],
   "source": [
    "df"
   ]
  },
  {
   "cell_type": "code",
   "execution_count": null,
   "id": "c87f26f6",
   "metadata": {},
   "outputs": [],
   "source": []
  }
 ],
 "metadata": {
  "kernelspec": {
   "display_name": "clase",
   "language": "python",
   "name": "clase"
  },
  "language_info": {
   "codemirror_mode": {
    "name": "ipython",
    "version": 3
   },
   "file_extension": ".py",
   "mimetype": "text/x-python",
   "name": "python",
   "nbconvert_exporter": "python",
   "pygments_lexer": "ipython3",
   "version": "3.9.12"
  }
 },
 "nbformat": 4,
 "nbformat_minor": 5
}
