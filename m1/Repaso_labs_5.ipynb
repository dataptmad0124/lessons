{
 "cells": [
  {
   "cell_type": "code",
   "execution_count": 1,
   "id": "61ebca7b",
   "metadata": {},
   "outputs": [],
   "source": [
    "import requests as req"
   ]
  },
  {
   "cell_type": "markdown",
   "id": "adea7e47",
   "metadata": {},
   "source": [
    "https://github.com/ironhack-datalabs/scavenger"
   ]
  },
  {
   "cell_type": "code",
   "execution_count": 2,
   "id": "8c202fdd",
   "metadata": {},
   "outputs": [],
   "source": [
    "url = 'https://api.github.com/repos/ironhack-datalabs/scavenger/contents?extension:scavengerhunt'"
   ]
  },
  {
   "cell_type": "code",
   "execution_count": 3,
   "id": "49a0e0b7",
   "metadata": {},
   "outputs": [
    {
     "data": {
      "text/plain": [
       "<Response [200]>"
      ]
     },
     "execution_count": 3,
     "metadata": {},
     "output_type": "execute_result"
    }
   ],
   "source": [
    "HEADER = {'Authorization': 'token ' + 'ghp_O.......'}\n",
    "\n",
    "res = req.get(url, headers=HEADER)\n",
    "\n",
    "res"
   ]
  },
  {
   "cell_type": "code",
   "execution_count": 4,
   "id": "7d2ef78c",
   "metadata": {},
   "outputs": [],
   "source": [
    "lst = res.json()"
   ]
  },
  {
   "cell_type": "code",
   "execution_count": 5,
   "id": "02d9d2d5",
   "metadata": {},
   "outputs": [
    {
     "data": {
      "text/plain": [
       "{'name': '15024',\n",
       " 'path': '15024',\n",
       " 'sha': '2945e51c87ad5da893c954afcf092f06343bbb7d',\n",
       " 'size': 0,\n",
       " 'url': 'https://api.github.com/repos/ironhack-datalabs/scavenger/contents/15024?ref=master',\n",
       " 'html_url': 'https://github.com/ironhack-datalabs/scavenger/tree/master/15024',\n",
       " 'git_url': 'https://api.github.com/repos/ironhack-datalabs/scavenger/git/trees/2945e51c87ad5da893c954afcf092f06343bbb7d',\n",
       " 'download_url': None,\n",
       " 'type': 'dir',\n",
       " '_links': {'self': 'https://api.github.com/repos/ironhack-datalabs/scavenger/contents/15024?ref=master',\n",
       "  'git': 'https://api.github.com/repos/ironhack-datalabs/scavenger/git/trees/2945e51c87ad5da893c954afcf092f06343bbb7d',\n",
       "  'html': 'https://github.com/ironhack-datalabs/scavenger/tree/master/15024'}}"
      ]
     },
     "execution_count": 5,
     "metadata": {},
     "output_type": "execute_result"
    }
   ],
   "source": [
    "lst[1]"
   ]
  },
  {
   "cell_type": "code",
   "execution_count": 6,
   "id": "ffbd635c",
   "metadata": {},
   "outputs": [
    {
     "data": {
      "text/plain": [
       "26"
      ]
     },
     "execution_count": 6,
     "metadata": {},
     "output_type": "execute_result"
    }
   ],
   "source": [
    "len(lst)"
   ]
  },
  {
   "cell_type": "code",
   "execution_count": 7,
   "id": "09fff59d",
   "metadata": {},
   "outputs": [
    {
     "data": {
      "text/plain": [
       "'https://api.github.com/repos/ironhack-datalabs/scavenger/contents/15024?ref=master'"
      ]
     },
     "execution_count": 7,
     "metadata": {},
     "output_type": "execute_result"
    }
   ],
   "source": [
    "lst[1]['url']"
   ]
  },
  {
   "cell_type": "code",
   "execution_count": 11,
   "id": "5c92dc84",
   "metadata": {},
   "outputs": [
    {
     "data": {
      "text/plain": [
       "<Response [200]>"
      ]
     },
     "execution_count": 11,
     "metadata": {},
     "output_type": "execute_result"
    }
   ],
   "source": [
    "res2 = req.get(lst[1]['url'], headers=HEADER)\n",
    "\n",
    "res2"
   ]
  },
  {
   "cell_type": "code",
   "execution_count": 12,
   "id": "0ed3ee0e",
   "metadata": {},
   "outputs": [
    {
     "data": {
      "text/plain": [
       "'https://raw.githubusercontent.com/ironhack-datalabs/scavenger/master/15024/.0006.scavengerhunt'"
      ]
     },
     "execution_count": 12,
     "metadata": {},
     "output_type": "execute_result"
    }
   ],
   "source": [
    "res2.json()[0]['download_url']"
   ]
  },
  {
   "cell_type": "code",
   "execution_count": 13,
   "id": "b56ea564",
   "metadata": {},
   "outputs": [
    {
     "data": {
      "text/plain": [
       "'of\\n'"
      ]
     },
     "execution_count": 13,
     "metadata": {},
     "output_type": "execute_result"
    }
   ],
   "source": [
    "req.get(res2.json()[0]['download_url'], headers=HEADER).text"
   ]
  },
  {
   "cell_type": "code",
   "execution_count": 14,
   "id": "5341ef2c",
   "metadata": {},
   "outputs": [
    {
     "data": {
      "text/plain": [
       "{'name': '30351',\n",
       " 'path': '30351',\n",
       " 'sha': 'c488d7f64088c852e22067d48fdc64ee3670f3ba',\n",
       " 'size': 0,\n",
       " 'url': 'https://api.github.com/repos/ironhack-datalabs/scavenger/contents/30351?ref=master',\n",
       " 'html_url': 'https://github.com/ironhack-datalabs/scavenger/tree/master/30351',\n",
       " 'git_url': 'https://api.github.com/repos/ironhack-datalabs/scavenger/git/trees/c488d7f64088c852e22067d48fdc64ee3670f3ba',\n",
       " 'download_url': None,\n",
       " 'type': 'dir',\n",
       " '_links': {'self': 'https://api.github.com/repos/ironhack-datalabs/scavenger/contents/30351?ref=master',\n",
       "  'git': 'https://api.github.com/repos/ironhack-datalabs/scavenger/git/trees/c488d7f64088c852e22067d48fdc64ee3670f3ba',\n",
       "  'html': 'https://github.com/ironhack-datalabs/scavenger/tree/master/30351'}}"
      ]
     },
     "execution_count": 14,
     "metadata": {},
     "output_type": "execute_result"
    }
   ],
   "source": [
    "lst[4]"
   ]
  },
  {
   "cell_type": "code",
   "execution_count": 23,
   "id": "78ce0395",
   "metadata": {},
   "outputs": [
    {
     "name": "stdout",
     "output_type": "stream",
     "text": [
      "{'name': '.gitignore', 'path': '.gitignore', 'sha': 'e43b0f988953ae3a84b00331d0ccf5f7d51cb3cf', 'size': 10, 'url': 'https://api.github.com/repos/ironhack-datalabs/scavenger/contents/.gitignore?ref=master', 'html_url': 'https://github.com/ironhack-datalabs/scavenger/blob/master/.gitignore', 'git_url': 'https://api.github.com/repos/ironhack-datalabs/scavenger/git/blobs/e43b0f988953ae3a84b00331d0ccf5f7d51cb3cf', 'download_url': 'https://raw.githubusercontent.com/ironhack-datalabs/scavenger/master/.gitignore', 'type': 'file', '_links': {'self': 'https://api.github.com/repos/ironhack-datalabs/scavenger/contents/.gitignore?ref=master', 'git': 'https://api.github.com/repos/ironhack-datalabs/scavenger/git/blobs/e43b0f988953ae3a84b00331d0ccf5f7d51cb3cf', 'html': 'https://github.com/ironhack-datalabs/scavenger/blob/master/.gitignore'}}\n"
     ]
    }
   ],
   "source": [
    "raw_data = []\n",
    "\n",
    "\n",
    "for e in lst:\n",
    "    \n",
    "    try:\n",
    "        \n",
    "        data = req.get(e['url'], headers=HEADER).json()[0]\n",
    "                \n",
    "        dictio = {'name': data['name'],\n",
    "                  'url': data['url']}\n",
    "        \n",
    "        raw_data.append(dictio)\n",
    "        \n",
    "    except:\n",
    "        print(e)"
   ]
  },
  {
   "cell_type": "code",
   "execution_count": 24,
   "id": "32dd5a82",
   "metadata": {},
   "outputs": [
    {
     "data": {
      "text/plain": [
       "25"
      ]
     },
     "execution_count": 24,
     "metadata": {},
     "output_type": "execute_result"
    }
   ],
   "source": [
    "len(raw_data)"
   ]
  },
  {
   "cell_type": "code",
   "execution_count": 25,
   "id": "5e953ea7",
   "metadata": {},
   "outputs": [],
   "source": [
    "data_ord = sorted(raw_data, key=lambda x: x['name'])[:-3]"
   ]
  },
  {
   "cell_type": "code",
   "execution_count": 26,
   "id": "559bc37d",
   "metadata": {},
   "outputs": [
    {
     "data": {
      "text/plain": [
       "[{'name': '.0001.scavengerhunt',\n",
       "  'url': 'https://api.github.com/repos/ironhack-datalabs/scavenger/contents/98750/.0001.scavengerhunt?ref=master'},\n",
       " {'name': '.0002.scavengerhunt',\n",
       "  'url': 'https://api.github.com/repos/ironhack-datalabs/scavenger/contents/88596/.0002.scavengerhunt?ref=master'},\n",
       " {'name': '.0003.scavengerhunt',\n",
       "  'url': 'https://api.github.com/repos/ironhack-datalabs/scavenger/contents/60224/.0003.scavengerhunt?ref=master'},\n",
       " {'name': '.0004.scavengerhunt',\n",
       "  'url': 'https://api.github.com/repos/ironhack-datalabs/scavenger/contents/68848/.0004.scavengerhunt?ref=master'},\n",
       " {'name': '.0005.scavengerhunt',\n",
       "  'url': 'https://api.github.com/repos/ironhack-datalabs/scavenger/contents/44639/.0005.scavengerhunt?ref=master'},\n",
       " {'name': '.0006.scavengerhunt',\n",
       "  'url': 'https://api.github.com/repos/ironhack-datalabs/scavenger/contents/15024/.0006.scavengerhunt?ref=master'},\n",
       " {'name': '.0007.scavengerhunt',\n",
       "  'url': 'https://api.github.com/repos/ironhack-datalabs/scavenger/contents/17020/.0007.scavengerhunt?ref=master'},\n",
       " {'name': '.0008.scavengerhunt',\n",
       "  'url': 'https://api.github.com/repos/ironhack-datalabs/scavenger/contents/15534/.0008.scavengerhunt?ref=master'},\n",
       " {'name': '.0009.scavengerhunt',\n",
       "  'url': 'https://api.github.com/repos/ironhack-datalabs/scavenger/contents/97881/.0009.scavengerhunt?ref=master'},\n",
       " {'name': '.0010.scavengerhunt',\n",
       "  'url': 'https://api.github.com/repos/ironhack-datalabs/scavenger/contents/47830/.0010.scavengerhunt?ref=master'},\n",
       " {'name': '.0011.scavengerhunt',\n",
       "  'url': 'https://api.github.com/repos/ironhack-datalabs/scavenger/contents/50896/.0011.scavengerhunt?ref=master'},\n",
       " {'name': '.0013.scavengerhunt',\n",
       "  'url': 'https://api.github.com/repos/ironhack-datalabs/scavenger/contents/89338/.0013.scavengerhunt?ref=master'},\n",
       " {'name': '.0014.scavengerhunt',\n",
       "  'url': 'https://api.github.com/repos/ironhack-datalabs/scavenger/contents/49418/.0014.scavengerhunt?ref=master'},\n",
       " {'name': '.0015.scavengerhunt',\n",
       "  'url': 'https://api.github.com/repos/ironhack-datalabs/scavenger/contents/91701/.0015.scavengerhunt?ref=master'},\n",
       " {'name': '.0016.scavengerhunt',\n",
       "  'url': 'https://api.github.com/repos/ironhack-datalabs/scavenger/contents/47222/.0016.scavengerhunt?ref=master'},\n",
       " {'name': '.0017.scavengerhunt',\n",
       "  'url': 'https://api.github.com/repos/ironhack-datalabs/scavenger/contents/70985/.0017.scavengerhunt?ref=master'},\n",
       " {'name': '.0018.scavengerhunt',\n",
       "  'url': 'https://api.github.com/repos/ironhack-datalabs/scavenger/contents/45525/.0018.scavengerhunt?ref=master'},\n",
       " {'name': '.0019.scavengerhunt',\n",
       "  'url': 'https://api.github.com/repos/ironhack-datalabs/scavenger/contents/70751/.0019.scavengerhunt?ref=master'},\n",
       " {'name': '.0020.scavengerhunt',\n",
       "  'url': 'https://api.github.com/repos/ironhack-datalabs/scavenger/contents/55685/.0020.scavengerhunt?ref=master'},\n",
       " {'name': '.0021.scavengerhunt',\n",
       "  'url': 'https://api.github.com/repos/ironhack-datalabs/scavenger/contents/30351/.0021.scavengerhunt?ref=master'},\n",
       " {'name': '.0022.scavengerhunt',\n",
       "  'url': 'https://api.github.com/repos/ironhack-datalabs/scavenger/contents/40303/.0022.scavengerhunt?ref=master'},\n",
       " {'name': '.0023.scavengerhunt',\n",
       "  'url': 'https://api.github.com/repos/ironhack-datalabs/scavenger/contents/55417/.0023.scavengerhunt?ref=master'}]"
      ]
     },
     "execution_count": 26,
     "metadata": {},
     "output_type": "execute_result"
    }
   ],
   "source": [
    "data_ord"
   ]
  },
  {
   "cell_type": "code",
   "execution_count": 31,
   "id": "33d48788",
   "metadata": {},
   "outputs": [],
   "source": [
    "respuesta = ''\n",
    "\n",
    "for e in data_ord:\n",
    "    \n",
    "    url = req.get(e['url'], headers=HEADER).json()['download_url']\n",
    "    \n",
    "    \n",
    "    res = req.get(url, headers=HEADER)\n",
    "    \n",
    "    respuesta += res.text"
   ]
  },
  {
   "cell_type": "code",
   "execution_count": 33,
   "id": "59bcfeca",
   "metadata": {},
   "outputs": [
    {
     "data": {
      "text/plain": [
       "'In data science, 80 percent of time spent is preparing data, percent of time is spent complaining about the need to prepare '"
      ]
     },
     "execution_count": 33,
     "metadata": {},
     "output_type": "execute_result"
    }
   ],
   "source": [
    "respuesta.replace('\\n', ' ')"
   ]
  },
  {
   "cell_type": "code",
   "execution_count": null,
   "id": "47a763d6",
   "metadata": {},
   "outputs": [],
   "source": []
  }
 ],
 "metadata": {
  "kernelspec": {
   "display_name": "clase",
   "language": "python",
   "name": "clase"
  },
  "language_info": {
   "codemirror_mode": {
    "name": "ipython",
    "version": 3
   },
   "file_extension": ".py",
   "mimetype": "text/x-python",
   "name": "python",
   "nbconvert_exporter": "python",
   "pygments_lexer": "ipython3",
   "version": "3.9.12"
  }
 },
 "nbformat": 4,
 "nbformat_minor": 5
}
