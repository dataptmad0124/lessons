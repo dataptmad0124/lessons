{
 "cells": [
  {
   "cell_type": "code",
   "execution_count": 1,
   "id": "9efbcdd4",
   "metadata": {},
   "outputs": [],
   "source": [
    "from selenium import webdriver\n",
    "\n",
    "from selenium.webdriver.common.by import By \n",
    "\n",
    "import time"
   ]
  },
  {
   "cell_type": "code",
   "execution_count": 2,
   "id": "cdbb5894",
   "metadata": {},
   "outputs": [],
   "source": [
    "PATH = 'driver/chromedriver'  # si tienes windows -- driver/chromedriver.exe"
   ]
  },
  {
   "cell_type": "code",
   "execution_count": 3,
   "id": "c5c18bde",
   "metadata": {},
   "outputs": [
    {
     "name": "stderr",
     "output_type": "stream",
     "text": [
      "/var/folders/95/ms6dwls51ls1jq0t456d3r200000gn/T/ipykernel_36398/797652658.py:1: DeprecationWarning: executable_path has been deprecated, please pass in a Service object\n",
      "  driver = webdriver.Chrome(PATH)\n"
     ]
    }
   ],
   "source": [
    "driver = webdriver.Chrome(PATH)"
   ]
  },
  {
   "cell_type": "markdown",
   "id": "588bf8a5",
   "metadata": {},
   "source": [
    "## 1"
   ]
  },
  {
   "cell_type": "code",
   "execution_count": 4,
   "id": "3f9320db",
   "metadata": {},
   "outputs": [],
   "source": [
    "url = 'https://github.com/trending/developers'"
   ]
  },
  {
   "cell_type": "code",
   "execution_count": 5,
   "id": "03c4bf7f",
   "metadata": {},
   "outputs": [],
   "source": [
    "driver.get(url)"
   ]
  },
  {
   "cell_type": "code",
   "execution_count": 7,
   "id": "c73fecdf",
   "metadata": {},
   "outputs": [],
   "source": [
    "tarjetas = driver.find_elements(By.CSS_SELECTOR, 'div.col-md-6')"
   ]
  },
  {
   "cell_type": "code",
   "execution_count": 8,
   "id": "e3d34b88",
   "metadata": {},
   "outputs": [
    {
     "data": {
      "text/plain": [
       "50"
      ]
     },
     "execution_count": 8,
     "metadata": {},
     "output_type": "execute_result"
    }
   ],
   "source": [
    "len(tarjetas)"
   ]
  },
  {
   "cell_type": "code",
   "execution_count": 10,
   "id": "683d2aba",
   "metadata": {},
   "outputs": [
    {
     "data": {
      "text/plain": [
       "25"
      ]
     },
     "execution_count": 10,
     "metadata": {},
     "output_type": "execute_result"
    }
   ],
   "source": [
    "len(tarjetas[::2])"
   ]
  },
  {
   "cell_type": "code",
   "execution_count": 11,
   "id": "85292fe9",
   "metadata": {},
   "outputs": [],
   "source": [
    "tarjetas = tarjetas[::2]"
   ]
  },
  {
   "cell_type": "code",
   "execution_count": 14,
   "id": "708a44be",
   "metadata": {},
   "outputs": [
    {
     "data": {
      "text/plain": [
       "'Tom Payne'"
      ]
     },
     "execution_count": 14,
     "metadata": {},
     "output_type": "execute_result"
    }
   ],
   "source": [
    "tarjetas[0].find_element(By.TAG_NAME, 'h1').text"
   ]
  },
  {
   "cell_type": "code",
   "execution_count": 15,
   "id": "49b8c018",
   "metadata": {},
   "outputs": [],
   "source": [
    "xpath = '//*[@id=\"pa-twpayne\"]/div[2]/div[1]/div[1]/h1/a'"
   ]
  },
  {
   "cell_type": "code",
   "execution_count": 16,
   "id": "f81cb7bb",
   "metadata": {},
   "outputs": [
    {
     "data": {
      "text/plain": [
       "'Tom Payne'"
      ]
     },
     "execution_count": 16,
     "metadata": {},
     "output_type": "execute_result"
    }
   ],
   "source": [
    "tarjetas[0].find_element(By.XPATH, xpath).text"
   ]
  },
  {
   "cell_type": "code",
   "execution_count": 18,
   "id": "3dbdb394",
   "metadata": {},
   "outputs": [
    {
     "data": {
      "text/plain": [
       "'1\\nTom Payne\\ntwpayne\\nPOPULAR REPO\\nchezmoi\\nManage your dotfiles across multiple diverse machines, securely.\\nFollow'"
      ]
     },
     "execution_count": 18,
     "metadata": {},
     "output_type": "execute_result"
    }
   ],
   "source": [
    "driver.find_element(By.ID, 'pa-twpayne').text"
   ]
  },
  {
   "cell_type": "code",
   "execution_count": 19,
   "id": "36829fc0",
   "metadata": {},
   "outputs": [
    {
     "data": {
      "text/plain": [
       "'Tom Payne'"
      ]
     },
     "execution_count": 19,
     "metadata": {},
     "output_type": "execute_result"
    }
   ],
   "source": [
    "selector = 'div.d-sm-flex.flex-auto > div.col-sm-8.d-md-flex > div:nth-child(1) > h1 > a'\n",
    "\n",
    "tarjetas[0].find_element(By.CSS_SELECTOR, selector).text"
   ]
  },
  {
   "cell_type": "code",
   "execution_count": 23,
   "id": "554fdaf5",
   "metadata": {},
   "outputs": [
    {
     "data": {
      "text/plain": [
       "50"
      ]
     },
     "execution_count": 23,
     "metadata": {},
     "output_type": "execute_result"
    }
   ],
   "source": [
    "len(driver.find_elements(By.CLASS_NAME, 'col-md-6'))"
   ]
  },
  {
   "cell_type": "code",
   "execution_count": 24,
   "id": "4901da6b",
   "metadata": {},
   "outputs": [
    {
     "data": {
      "text/plain": [
       "'Tom Payne'"
      ]
     },
     "execution_count": 24,
     "metadata": {},
     "output_type": "execute_result"
    }
   ],
   "source": [
    "tarjetas[0].find_element(By.TAG_NAME, 'h1').text"
   ]
  },
  {
   "cell_type": "code",
   "execution_count": 28,
   "id": "6e04e97c",
   "metadata": {},
   "outputs": [
    {
     "data": {
      "text/plain": [
       "'twpayne'"
      ]
     },
     "execution_count": 28,
     "metadata": {},
     "output_type": "execute_result"
    }
   ],
   "source": [
    "tarjetas[0].find_element(By.TAG_NAME, 'p').text"
   ]
  },
  {
   "cell_type": "code",
   "execution_count": 29,
   "id": "f30e5153",
   "metadata": {},
   "outputs": [],
   "source": [
    "res = []\n",
    "\n",
    "\n",
    "for t in tarjetas:\n",
    "    \n",
    "    nombre = t.find_element(By.TAG_NAME, 'h1').text\n",
    "    \n",
    "    try:\n",
    "        nick = t.find_element(By.TAG_NAME, 'p').text\n",
    "    except:\n",
    "        nick = ''\n",
    "        \n",
    "        \n",
    "    dictio = {'nombre': nombre, 'nick': nick}\n",
    "    \n",
    "    \n",
    "    res.append(dictio)\n"
   ]
  },
  {
   "cell_type": "code",
   "execution_count": 30,
   "id": "123dda46",
   "metadata": {},
   "outputs": [
    {
     "data": {
      "text/plain": [
       "[{'nombre': 'Tom Payne', 'nick': 'twpayne'},\n",
       " {'nombre': 'fzyzcjy', 'nick': 'fzyzcjy'},\n",
       " {'nombre': 'Laurent Mazare', 'nick': 'LaurentMazare'},\n",
       " {'nombre': 'Alex Eagle', 'nick': 'alexeagle'},\n",
       " {'nombre': 'Leonid Bugaev', 'nick': 'buger'},\n",
       " {'nombre': 'Stephen Celis', 'nick': 'stephencelis'},\n",
       " {'nombre': 'Luca Palmieri', 'nick': 'LukeMathWalker'},\n",
       " {'nombre': 'Volodymyr Agafonkin', 'nick': 'mourner'},\n",
       " {'nombre': 'Matt Brophy', 'nick': 'brophdawg11'},\n",
       " {'nombre': 'Jamie Magee', 'nick': 'JamieMagee'},\n",
       " {'nombre': 'Gar', 'nick': 'wraithgar'},\n",
       " {'nombre': 'Martin Geisler', 'nick': 'mgeisler'},\n",
       " {'nombre': 'awaelchli', 'nick': ''},\n",
       " {'nombre': 'Robert Haase', 'nick': 'haesleinhuepf'},\n",
       " {'nombre': 'Azure SDK Bot', 'nick': 'azure-sdk'},\n",
       " {'nombre': 'Sandeep Somavarapu', 'nick': 'sandy081'},\n",
       " {'nombre': 'netcon', 'nick': 'conwnet'},\n",
       " {'nombre': 'J. Nick Koston', 'nick': 'bdraco'},\n",
       " {'nombre': 'Manuel Kaufmann', 'nick': 'humitos'},\n",
       " {'nombre': 'Pradyun Gedam', 'nick': 'pradyunsg'},\n",
       " {'nombre': 'Andrew Kane', 'nick': 'ankane'},\n",
       " {'nombre': 'Alex Kladov', 'nick': 'matklad'},\n",
       " {'nombre': 'Simon Eskildsen', 'nick': 'sirupsen'},\n",
       " {'nombre': 'Shishir Patil', 'nick': 'ShishirPatil'},\n",
       " {'nombre': 'Leonardo Maldonado', 'nick': 'leonardomso'}]"
      ]
     },
     "execution_count": 30,
     "metadata": {},
     "output_type": "execute_result"
    }
   ],
   "source": [
    "res"
   ]
  },
  {
   "cell_type": "markdown",
   "id": "cb327e54",
   "metadata": {},
   "source": [
    "## 2"
   ]
  },
  {
   "cell_type": "code",
   "execution_count": 31,
   "id": "a768fc56",
   "metadata": {},
   "outputs": [],
   "source": [
    "url = 'https://github.com/trending/python?since=daily'"
   ]
  },
  {
   "cell_type": "code",
   "execution_count": 32,
   "id": "f0dc2401",
   "metadata": {},
   "outputs": [],
   "source": [
    "driver.get(url)"
   ]
  },
  {
   "cell_type": "code",
   "execution_count": 35,
   "id": "0e32dd4f",
   "metadata": {},
   "outputs": [],
   "source": [
    "tarjetas = driver.find_elements(By.CSS_SELECTOR, 'h2.h3.lh-condensed')"
   ]
  },
  {
   "cell_type": "code",
   "execution_count": 36,
   "id": "9c956520",
   "metadata": {},
   "outputs": [
    {
     "data": {
      "text/plain": [
       "25"
      ]
     },
     "execution_count": 36,
     "metadata": {},
     "output_type": "execute_result"
    }
   ],
   "source": [
    "len(tarjetas)"
   ]
  },
  {
   "cell_type": "code",
   "execution_count": 38,
   "id": "3f90df80",
   "metadata": {},
   "outputs": [
    {
     "data": {
      "text/plain": [
       "'vvbbnn00 / WARP-Clash-API'"
      ]
     },
     "execution_count": 38,
     "metadata": {},
     "output_type": "execute_result"
    }
   ],
   "source": [
    "tarjetas[0].text"
   ]
  },
  {
   "cell_type": "code",
   "execution_count": 39,
   "id": "1f9cbf5d",
   "metadata": {},
   "outputs": [
    {
     "data": {
      "text/plain": [
       "['vvbbnn00 / WARP-Clash-API',\n",
       " 'OpenCodeInterpreter / OpenCodeInterpreter',\n",
       " 'joaomdmoura / crewAI',\n",
       " 'public-apis / public-apis',\n",
       " 'SciPhi-AI / R2R',\n",
       " 'myshell-ai / MeloTTS',\n",
       " 'WongKinYiu / yolov9',\n",
       " 'donnemartin / system-design-primer',\n",
       " 'KillianLucas / open-interpreter',\n",
       " 'mouredev / Hello-Python',\n",
       " 'binary-husky / gpt_academic',\n",
       " 'ronibandini / reggaetonBeGone',\n",
       " 'joaomdmoura / crewAI-examples',\n",
       " 'MrMimic / data-scientist-roadmap',\n",
       " 'state-spaces / mamba',\n",
       " 'Azure / PyRIT',\n",
       " 'prowler-cloud / prowler',\n",
       " 'mistralai / client-python',\n",
       " 'wagtail / wagtail',\n",
       " 'gpt-engineer-org / gpt-engineer',\n",
       " 'Clouditera / SecGPT',\n",
       " 'rany2 / edge-tts',\n",
       " 'Pythagora-io / gpt-pilot',\n",
       " 'Fanghua-Yu / SUPIR',\n",
       " 'LiheYoung / Depth-Anything']"
      ]
     },
     "execution_count": 39,
     "metadata": {},
     "output_type": "execute_result"
    }
   ],
   "source": [
    "res = []\n",
    "\n",
    "\n",
    "for t in tarjetas:\n",
    "    \n",
    "    res.append(t.text)\n",
    "    \n",
    "res"
   ]
  },
  {
   "cell_type": "code",
   "execution_count": 40,
   "id": "fb292e00",
   "metadata": {},
   "outputs": [
    {
     "data": {
      "text/plain": [
       "['vvbbnn00 / WARP-Clash-API',\n",
       " 'OpenCodeInterpreter / OpenCodeInterpreter',\n",
       " 'joaomdmoura / crewAI',\n",
       " 'public-apis / public-apis',\n",
       " 'SciPhi-AI / R2R',\n",
       " 'myshell-ai / MeloTTS',\n",
       " 'WongKinYiu / yolov9',\n",
       " 'donnemartin / system-design-primer',\n",
       " 'KillianLucas / open-interpreter',\n",
       " 'mouredev / Hello-Python',\n",
       " 'binary-husky / gpt_academic',\n",
       " 'ronibandini / reggaetonBeGone',\n",
       " 'joaomdmoura / crewAI-examples',\n",
       " 'MrMimic / data-scientist-roadmap',\n",
       " 'state-spaces / mamba',\n",
       " 'Azure / PyRIT',\n",
       " 'prowler-cloud / prowler',\n",
       " 'mistralai / client-python',\n",
       " 'wagtail / wagtail',\n",
       " 'gpt-engineer-org / gpt-engineer',\n",
       " 'Clouditera / SecGPT',\n",
       " 'rany2 / edge-tts',\n",
       " 'Pythagora-io / gpt-pilot',\n",
       " 'Fanghua-Yu / SUPIR',\n",
       " 'LiheYoung / Depth-Anything']"
      ]
     },
     "execution_count": 40,
     "metadata": {},
     "output_type": "execute_result"
    }
   ],
   "source": [
    "res = [t.text for t in tarjetas]\n",
    "\n",
    "res"
   ]
  },
  {
   "cell_type": "code",
   "execution_count": 43,
   "id": "a4d9533c",
   "metadata": {},
   "outputs": [
    {
     "data": {
      "text/plain": [
       "<selenium.webdriver.remote.webelement.WebElement (session=\"b9200426c595974c7db3f1e573ba780b\", element=\"ABDCE60DD68B239FB3D69813D49BBC73_element_858\")>"
      ]
     },
     "execution_count": 43,
     "metadata": {},
     "output_type": "execute_result"
    }
   ],
   "source": [
    "tarjetas[0].find_element(By.TAG_NAME, 'a')"
   ]
  },
  {
   "cell_type": "markdown",
   "id": "1c85ae98",
   "metadata": {},
   "source": [
    "## 3"
   ]
  },
  {
   "cell_type": "code",
   "execution_count": 44,
   "id": "01340c62",
   "metadata": {},
   "outputs": [],
   "source": [
    "url = 'https://en.wikipedia.org/wiki/Walt_Disney'"
   ]
  },
  {
   "cell_type": "code",
   "execution_count": 45,
   "id": "1771a33a",
   "metadata": {},
   "outputs": [],
   "source": [
    "driver.get(url)"
   ]
  },
  {
   "cell_type": "code",
   "execution_count": 47,
   "id": "3948226c",
   "metadata": {},
   "outputs": [],
   "source": [
    "images = driver.find_elements(By.TAG_NAME, 'img')"
   ]
  },
  {
   "cell_type": "code",
   "execution_count": 49,
   "id": "697a3aa0",
   "metadata": {},
   "outputs": [
    {
     "data": {
      "text/plain": [
       "'https://en.wikipedia.org/static/images/icons/wikipedia.png'"
      ]
     },
     "execution_count": 49,
     "metadata": {},
     "output_type": "execute_result"
    }
   ],
   "source": [
    "images[0].get_attribute('src')"
   ]
  },
  {
   "cell_type": "code",
   "execution_count": 52,
   "id": "80355e7d",
   "metadata": {},
   "outputs": [
    {
     "data": {
      "text/plain": [
       "'https://upload.wikimedia.org/wikipedia/commons/thumb/d/df/Walt_Disney_1946.JPG/220px-Walt_Disney_1946.JPG'"
      ]
     },
     "execution_count": 52,
     "metadata": {},
     "output_type": "execute_result"
    }
   ],
   "source": [
    "# encontrar una img en particular\n",
    "\n",
    "xpath = '//*[@id=\"mw-content-text\"]/div[1]/table[1]/tbody/tr[2]/td/span/a/img'\n",
    "\n",
    "driver.find_element(By.XPATH, xpath).get_attribute('src')"
   ]
  },
  {
   "cell_type": "code",
   "execution_count": 57,
   "id": "e20b9397",
   "metadata": {},
   "outputs": [
    {
     "data": {
      "text/plain": [
       "['https://en.wikipedia.org/static/images/icons/wikipedia.png',\n",
       " 'https://en.wikipedia.org/static/images/mobile/copyright/wikipedia-wordmark-en.svg',\n",
       " 'https://en.wikipedia.org/static/images/mobile/copyright/wikipedia-tagline-en.svg',\n",
       " 'https://upload.wikimedia.org/wikipedia/foundation/2/20/CloseWindow19x19.png',\n",
       " 'https://upload.wikimedia.org/wikipedia/en/thumb/e/e7/Cscr-featured.svg/20px-Cscr-featured.svg.png']"
      ]
     },
     "execution_count": 57,
     "metadata": {},
     "output_type": "execute_result"
    }
   ],
   "source": [
    "res = []\n",
    "\n",
    "for e in images:\n",
    "    \n",
    "    img_url = e.get_attribute('src')\n",
    "    \n",
    "    if img_url.startswith('https:'):\n",
    "        \n",
    "        res.append(img_url)\n",
    "        \n",
    "res[:5]"
   ]
  },
  {
   "cell_type": "code",
   "execution_count": 55,
   "id": "8b48d7b9",
   "metadata": {},
   "outputs": [
    {
     "data": {
      "text/plain": [
       "['https://en.wikipedia.org/static/images/icons/wikipedia.png',\n",
       " 'https://en.wikipedia.org/static/images/mobile/copyright/wikipedia-wordmark-en.svg',\n",
       " 'https://en.wikipedia.org/static/images/mobile/copyright/wikipedia-tagline-en.svg',\n",
       " 'https://upload.wikimedia.org/wikipedia/foundation/2/20/CloseWindow19x19.png',\n",
       " 'https://upload.wikimedia.org/wikipedia/en/thumb/e/e7/Cscr-featured.svg/20px-Cscr-featured.svg.png',\n",
       " 'https://upload.wikimedia.org/wikipedia/en/thumb/8/8c/Extended-protection-shackle.svg/20px-Extended-protection-shackle.svg.png',\n",
       " 'https://upload.wikimedia.org/wikipedia/commons/thumb/d/df/Walt_Disney_1946.JPG/220px-Walt_Disney_1946.JPG',\n",
       " 'https://upload.wikimedia.org/wikipedia/commons/thumb/8/87/Walt_Disney_1942_signature.svg/150px-Walt_Disney_1942_signature.svg.png',\n",
       " 'https://upload.wikimedia.org/wikipedia/commons/thumb/3/3a/Walt_Disney_Birthplace_Exterior_Hermosa_Chicago_Illinois.jpg/220px-Walt_Disney_Birthplace_Exterior_Hermosa_Chicago_Illinois.jpg',\n",
       " 'https://upload.wikimedia.org/wikipedia/commons/thumb/c/c4/Walt_Disney_envelope_ca._1921.jpg/220px-Walt_Disney_envelope_ca._1921.jpg',\n",
       " 'https://upload.wikimedia.org/wikipedia/commons/thumb/c/cd/Walt_Disney_Snow_white_1937_trailer_screenshot_%2813%29.jpg/220px-Walt_Disney_Snow_white_1937_trailer_screenshot_%2813%29.jpg',\n",
       " 'https://upload.wikimedia.org/wikipedia/commons/thumb/1/15/Disney_drawing_goofy.jpg/170px-Disney_drawing_goofy.jpg',\n",
       " 'https://upload.wikimedia.org/wikipedia/commons/thumb/8/8c/WaltDisneyplansDisneylandDec1954.jpg/220px-WaltDisneyplansDisneylandDec1954.jpg',\n",
       " 'https://upload.wikimedia.org/wikipedia/commons/thumb/f/ff/Walt_disney_portrait_right.jpg/170px-Walt_disney_portrait_right.jpg',\n",
       " 'https://upload.wikimedia.org/wikipedia/commons/thumb/1/1a/Walt_Disney_Grave.JPG/170px-Walt_Disney_Grave.JPG',\n",
       " 'https://upload.wikimedia.org/wikipedia/commons/thumb/1/1b/Nuvola_apps_kaboodle.svg/16px-Nuvola_apps_kaboodle.svg.png',\n",
       " 'https://upload.wikimedia.org/wikipedia/commons/thumb/1/13/DisneySchiphol1951.jpg/220px-DisneySchiphol1951.jpg',\n",
       " 'https://upload.wikimedia.org/wikipedia/commons/thumb/6/6c/Disney1968.jpg/170px-Disney1968.jpg',\n",
       " 'https://upload.wikimedia.org/wikipedia/commons/thumb/b/b0/Disney_Oscar_1953_%28cropped%29.jpg/170px-Disney_Oscar_1953_%28cropped%29.jpg',\n",
       " 'https://upload.wikimedia.org/wikipedia/en/thumb/4/4a/Commons-logo.svg/20px-Commons-logo.svg.png',\n",
       " 'https://upload.wikimedia.org/wikipedia/commons/thumb/f/fa/Wikiquote-logo.svg/23px-Wikiquote-logo.svg.png',\n",
       " 'https://upload.wikimedia.org/wikipedia/commons/thumb/4/4c/Wikisource-logo.svg/26px-Wikisource-logo.svg.png',\n",
       " 'https://upload.wikimedia.org/wikipedia/en/thumb/8/8a/OOjs_UI_icon_edit-ltr-progressive.svg/10px-OOjs_UI_icon_edit-ltr-progressive.svg.png',\n",
       " 'https://upload.wikimedia.org/wikipedia/en/thumb/8/8a/OOjs_UI_icon_edit-ltr-progressive.svg/10px-OOjs_UI_icon_edit-ltr-progressive.svg.png',\n",
       " 'https://upload.wikimedia.org/wikipedia/en/thumb/9/96/Symbol_category_class.svg/16px-Symbol_category_class.svg.png',\n",
       " 'https://upload.wikimedia.org/wikipedia/commons/thumb/e/e3/Disneyland_Resort_logo.svg/135px-Disneyland_Resort_logo.svg.png',\n",
       " 'https://upload.wikimedia.org/wikipedia/commons/thumb/d/da/Animation_disc.svg/20px-Animation_disc.svg.png',\n",
       " 'https://upload.wikimedia.org/wikipedia/en/thumb/6/69/P_vip.svg/19px-P_vip.svg.png',\n",
       " 'https://upload.wikimedia.org/wikipedia/commons/thumb/f/fe/Mickey_Mouse_colored_%28head%29.svg/20px-Mickey_Mouse_colored_%28head%29.svg.png',\n",
       " 'https://upload.wikimedia.org/wikipedia/en/thumb/e/e7/Video-x-generic.svg/19px-Video-x-generic.svg.png',\n",
       " 'https://upload.wikimedia.org/wikipedia/commons/thumb/a/a3/Flag_of_Los_Angeles_County%2C_California.svg/21px-Flag_of_Los_Angeles_County%2C_California.svg.png',\n",
       " 'https://upload.wikimedia.org/wikipedia/commons/thumb/8/8c/Blank_television_set.svg/21px-Blank_television_set.svg.png',\n",
       " 'https://upload.wikimedia.org/wikipedia/en/thumb/a/a4/Flag_of_the_United_States.svg/21px-Flag_of_the_United_States.svg.png',\n",
       " 'https://upload.wikimedia.org/wikipedia/en/thumb/8/8a/OOjs_UI_icon_edit-ltr-progressive.svg/10px-OOjs_UI_icon_edit-ltr-progressive.svg.png',\n",
       " 'https://en.wikipedia.org/static/images/footer/wikimedia-button.png',\n",
       " 'https://en.wikipedia.org/static/images/footer/poweredby_mediawiki_88x31.png']"
      ]
     },
     "execution_count": 55,
     "metadata": {},
     "output_type": "execute_result"
    }
   ],
   "source": [
    "[e.get_attribute('src') for e in images if e.get_attribute('src').startswith('https:')]"
   ]
  },
  {
   "cell_type": "markdown",
   "id": "f0708901",
   "metadata": {},
   "source": [
    "## 4"
   ]
  },
  {
   "cell_type": "code",
   "execution_count": 58,
   "id": "3b3f5272",
   "metadata": {},
   "outputs": [],
   "source": [
    "url ='https://en.wikipedia.org/wiki/Python' "
   ]
  },
  {
   "cell_type": "code",
   "execution_count": 59,
   "id": "21683f36",
   "metadata": {},
   "outputs": [],
   "source": [
    "driver.get(url)"
   ]
  },
  {
   "cell_type": "code",
   "execution_count": 60,
   "id": "0619f560",
   "metadata": {},
   "outputs": [
    {
     "data": {
      "text/plain": [
       "[<selenium.webdriver.remote.webelement.WebElement (session=\"b9200426c595974c7db3f1e573ba780b\", element=\"1334E3291CF26492124A82B26E05EAB1_element_1125\")>,\n",
       " <selenium.webdriver.remote.webelement.WebElement (session=\"b9200426c595974c7db3f1e573ba780b\", element=\"1334E3291CF26492124A82B26E05EAB1_element_1396\")>,\n",
       " <selenium.webdriver.remote.webelement.WebElement (session=\"b9200426c595974c7db3f1e573ba780b\", element=\"1334E3291CF26492124A82B26E05EAB1_element_1397\")>,\n",
       " <selenium.webdriver.remote.webelement.WebElement (session=\"b9200426c595974c7db3f1e573ba780b\", element=\"1334E3291CF26492124A82B26E05EAB1_element_1398\")>,\n",
       " <selenium.webdriver.remote.webelement.WebElement (session=\"b9200426c595974c7db3f1e573ba780b\", element=\"1334E3291CF26492124A82B26E05EAB1_element_1399\")>]"
      ]
     },
     "execution_count": 60,
     "metadata": {},
     "output_type": "execute_result"
    }
   ],
   "source": [
    "aes = driver.find_elements(By.TAG_NAME, 'a')\n",
    "\n",
    "aes[:5]"
   ]
  },
  {
   "cell_type": "code",
   "execution_count": 65,
   "id": "29eb5d1b",
   "metadata": {},
   "outputs": [
    {
     "data": {
      "text/plain": [
       "'https://en.wikipedia.org/w/index.php?title=Special:UserLogin&returnto=Python'"
      ]
     },
     "execution_count": 65,
     "metadata": {},
     "output_type": "execute_result"
    }
   ],
   "source": [
    "aes[16].get_attribute('href')"
   ]
  },
  {
   "cell_type": "code",
   "execution_count": 68,
   "id": "52ac959a",
   "metadata": {},
   "outputs": [
    {
     "data": {
      "text/plain": [
       "['https://en.wikipedia.org/wiki/Python#bodyContent',\n",
       " 'https://en.wikipedia.org/wiki/Main_Page',\n",
       " 'https://en.wikipedia.org/wiki/Wikipedia:Contents',\n",
       " 'https://en.wikipedia.org/wiki/Portal:Current_events',\n",
       " 'https://en.wikipedia.org/wiki/Special:Random',\n",
       " 'https://en.wikipedia.org/wiki/Wikipedia:About',\n",
       " 'https://en.wikipedia.org/wiki/Wikipedia:Contact_us',\n",
       " 'https://donate.wikimedia.org/wiki/Special:FundraiserRedirector?utm_source=donate&utm_medium=sidebar&utm_campaign=C13_en.wikipedia.org&uselang=en',\n",
       " 'https://en.wikipedia.org/wiki/Help:Contents',\n",
       " 'https://en.wikipedia.org/wiki/Help:Introduction']"
      ]
     },
     "execution_count": 68,
     "metadata": {},
     "output_type": "execute_result"
    }
   ],
   "source": [
    "links = [e.get_attribute('href') for e in aes]\n",
    "\n",
    "links[:10]"
   ]
  },
  {
   "cell_type": "markdown",
   "id": "91f23f48",
   "metadata": {},
   "source": [
    "## 5"
   ]
  },
  {
   "cell_type": "code",
   "execution_count": 69,
   "id": "44040fba",
   "metadata": {},
   "outputs": [],
   "source": [
    "url = 'http://uscode.house.gov/download/download.shtml'"
   ]
  },
  {
   "cell_type": "code",
   "execution_count": 70,
   "id": "1069a927",
   "metadata": {},
   "outputs": [],
   "source": [
    "driver.get(url)"
   ]
  },
  {
   "cell_type": "code",
   "execution_count": 72,
   "id": "b9c8d23e",
   "metadata": {},
   "outputs": [],
   "source": [
    "obj = driver.find_elements(By.CLASS_NAME, 'usctitlechanged')"
   ]
  },
  {
   "cell_type": "code",
   "execution_count": 74,
   "id": "26d6be5f",
   "metadata": {},
   "outputs": [
    {
     "data": {
      "text/plain": [
       "6"
      ]
     },
     "execution_count": 74,
     "metadata": {},
     "output_type": "execute_result"
    }
   ],
   "source": [
    "len(obj)"
   ]
  },
  {
   "cell_type": "markdown",
   "id": "686e530d",
   "metadata": {},
   "source": [
    "## 6"
   ]
  },
  {
   "cell_type": "code",
   "execution_count": 75,
   "id": "ae55d83c",
   "metadata": {},
   "outputs": [],
   "source": [
    "url = 'https://www.fbi.gov/wanted/topten'"
   ]
  },
  {
   "cell_type": "code",
   "execution_count": 76,
   "id": "ff7c8e2f",
   "metadata": {},
   "outputs": [],
   "source": [
    "driver.get(url)"
   ]
  },
  {
   "cell_type": "code",
   "execution_count": 78,
   "id": "3064b5c7",
   "metadata": {},
   "outputs": [],
   "source": [
    "mendas = driver.find_elements(By.CLASS_NAME, 'title')"
   ]
  },
  {
   "cell_type": "code",
   "execution_count": 79,
   "id": "a69d3b64",
   "metadata": {},
   "outputs": [
    {
     "data": {
      "text/plain": [
       "11"
      ]
     },
     "execution_count": 79,
     "metadata": {},
     "output_type": "execute_result"
    }
   ],
   "source": [
    "len(mendas)"
   ]
  },
  {
   "cell_type": "code",
   "execution_count": 81,
   "id": "cbe0a723",
   "metadata": {},
   "outputs": [
    {
     "data": {
      "text/plain": [
       "['BHADRESHKUMAR CHETANBHAI PATEL',\n",
       " 'ALEJANDRO ROSALES CASTILLO',\n",
       " 'DONALD EUGENE FIELDS II',\n",
       " 'RUJA IGNATOVA',\n",
       " 'WILVER VILLEGAS-PALOMINO',\n",
       " \"VITEL'HOMME INNOCENT\",\n",
       " 'ARNOLDO JIMENEZ',\n",
       " 'ALEXIS FLORES',\n",
       " 'OMAR ALEXANDER CARDENAS',\n",
       " 'YULAN ADONAY ARCHAGA CARIAS']"
      ]
     },
     "execution_count": 81,
     "metadata": {},
     "output_type": "execute_result"
    }
   ],
   "source": [
    "[e.text for e in mendas][1:]"
   ]
  },
  {
   "cell_type": "markdown",
   "id": "3c1974f4",
   "metadata": {},
   "source": [
    "## 7"
   ]
  },
  {
   "cell_type": "code",
   "execution_count": 82,
   "id": "3f49fc92",
   "metadata": {},
   "outputs": [],
   "source": [
    "url = 'https://www.emsc-csem.org/Earthquake/'\n"
   ]
  },
  {
   "cell_type": "code",
   "execution_count": 129,
   "id": "ac65c94f",
   "metadata": {},
   "outputs": [],
   "source": [
    "driver.get(url)"
   ]
  },
  {
   "cell_type": "code",
   "execution_count": 130,
   "id": "c2786c44",
   "metadata": {},
   "outputs": [],
   "source": [
    "tabla = driver.find_elements(By.TAG_NAME, 'table')[2]"
   ]
  },
  {
   "cell_type": "code",
   "execution_count": 131,
   "id": "043de213",
   "metadata": {},
   "outputs": [],
   "source": [
    "cabeceras = tabla.find_element(By.TAG_NAME, 'thead')"
   ]
  },
  {
   "cell_type": "code",
   "execution_count": 132,
   "id": "a78ddb66",
   "metadata": {},
   "outputs": [
    {
     "data": {
      "text/plain": [
       "'Citizen\\nresponse\\nDate & Time\\nUTC\\nLat.\\ndegrees\\nLon.\\ndegrees\\nDepth\\nkm\\nMag.[+] Region'"
      ]
     },
     "execution_count": 132,
     "metadata": {},
     "output_type": "execute_result"
    }
   ],
   "source": [
    "cabeceras.text"
   ]
  },
  {
   "cell_type": "code",
   "execution_count": 133,
   "id": "59d2a48f",
   "metadata": {},
   "outputs": [
    {
     "data": {
      "text/plain": [
       "['',\n",
       " 'Citizen\\nresponse',\n",
       " 'Date & Time\\nUTC',\n",
       " 'Lat.\\ndegrees',\n",
       " 'Lon.\\ndegrees',\n",
       " 'Depth\\nkm',\n",
       " 'Mag.[+]',\n",
       " 'Region']"
      ]
     },
     "execution_count": 133,
     "metadata": {},
     "output_type": "execute_result"
    }
   ],
   "source": [
    "cabeceras = [e.text for e in cabeceras.find_elements(By.TAG_NAME, 'th')]\n",
    "\n",
    "cabeceras"
   ]
  },
  {
   "cell_type": "code",
   "execution_count": 134,
   "id": "4059e742",
   "metadata": {},
   "outputs": [],
   "source": [
    "cuerpo = tabla.find_element(By.TAG_NAME, 'tbody')"
   ]
  },
  {
   "cell_type": "code",
   "execution_count": 135,
   "id": "7bcd23d4",
   "metadata": {},
   "outputs": [],
   "source": [
    "filas = cuerpo.find_elements(By.TAG_NAME, 'tr')"
   ]
  },
  {
   "cell_type": "code",
   "execution_count": 136,
   "id": "dc4f3c48",
   "metadata": {},
   "outputs": [
    {
     "data": {
      "text/plain": [
       "['2024-02-28 18:07:05',\n",
       " '14 min ago',\n",
       " '-32.150 -71.680 57 3.0 OFFSHORE COQUIMBO, CHILE']"
      ]
     },
     "execution_count": 136,
     "metadata": {},
     "output_type": "execute_result"
    }
   ],
   "source": [
    "filas[0].text.split('\\n')"
   ]
  },
  {
   "cell_type": "code",
   "execution_count": 113,
   "id": "3746cad3",
   "metadata": {},
   "outputs": [
    {
     "data": {
      "text/plain": [
       "[<selenium.webdriver.remote.webelement.WebElement (session=\"b9200426c595974c7db3f1e573ba780b\", element=\"0ABC9F08F38F196163837E53CCDAD2D7_element_1117\")>,\n",
       " <selenium.webdriver.remote.webelement.WebElement (session=\"b9200426c595974c7db3f1e573ba780b\", element=\"0ABC9F08F38F196163837E53CCDAD2D7_element_1118\")>,\n",
       " <selenium.webdriver.remote.webelement.WebElement (session=\"b9200426c595974c7db3f1e573ba780b\", element=\"0ABC9F08F38F196163837E53CCDAD2D7_element_1119\")>,\n",
       " <selenium.webdriver.remote.webelement.WebElement (session=\"b9200426c595974c7db3f1e573ba780b\", element=\"0ABC9F08F38F196163837E53CCDAD2D7_element_1122\")>,\n",
       " <selenium.webdriver.remote.webelement.WebElement (session=\"b9200426c595974c7db3f1e573ba780b\", element=\"0ABC9F08F38F196163837E53CCDAD2D7_element_1123\")>,\n",
       " <selenium.webdriver.remote.webelement.WebElement (session=\"b9200426c595974c7db3f1e573ba780b\", element=\"0ABC9F08F38F196163837E53CCDAD2D7_element_1124\")>,\n",
       " <selenium.webdriver.remote.webelement.WebElement (session=\"b9200426c595974c7db3f1e573ba780b\", element=\"0ABC9F08F38F196163837E53CCDAD2D7_element_1125\")>,\n",
       " <selenium.webdriver.remote.webelement.WebElement (session=\"b9200426c595974c7db3f1e573ba780b\", element=\"0ABC9F08F38F196163837E53CCDAD2D7_element_1126\")>,\n",
       " <selenium.webdriver.remote.webelement.WebElement (session=\"b9200426c595974c7db3f1e573ba780b\", element=\"0ABC9F08F38F196163837E53CCDAD2D7_element_1127\")>,\n",
       " <selenium.webdriver.remote.webelement.WebElement (session=\"b9200426c595974c7db3f1e573ba780b\", element=\"0ABC9F08F38F196163837E53CCDAD2D7_element_1128\")>]"
      ]
     },
     "execution_count": 113,
     "metadata": {},
     "output_type": "execute_result"
    }
   ],
   "source": [
    "filas[0].find_elements(By.TAG_NAME, 'td')"
   ]
  },
  {
   "cell_type": "code",
   "execution_count": 114,
   "id": "7bd0f40e",
   "metadata": {
    "scrolled": true
   },
   "outputs": [
    {
     "data": {
      "text/plain": [
       "['',\n",
       " '',\n",
       " '',\n",
       " '2024-02-28 18:06:02\\n8 min ago',\n",
       " '31.740',\n",
       " '-104.126',\n",
       " '7',\n",
       " '',\n",
       " '2.2',\n",
       " 'WESTERN TEXAS']"
      ]
     },
     "execution_count": 114,
     "metadata": {},
     "output_type": "execute_result"
    }
   ],
   "source": [
    "[e.text for e in filas[0].find_elements(By.TAG_NAME, 'td')]"
   ]
  },
  {
   "cell_type": "code",
   "execution_count": 115,
   "id": "cc743c95",
   "metadata": {},
   "outputs": [
    {
     "data": {
      "text/plain": [
       "10"
      ]
     },
     "execution_count": 115,
     "metadata": {},
     "output_type": "execute_result"
    }
   ],
   "source": [
    "len([e.text for e in filas[0].find_elements(By.TAG_NAME, 'td')])"
   ]
  },
  {
   "cell_type": "code",
   "execution_count": 116,
   "id": "338fcc98",
   "metadata": {},
   "outputs": [
    {
     "data": {
      "text/plain": [
       "8"
      ]
     },
     "execution_count": 116,
     "metadata": {},
     "output_type": "execute_result"
    }
   ],
   "source": [
    "len(cabeceras)"
   ]
  },
  {
   "cell_type": "code",
   "execution_count": 142,
   "id": "d66e8f7b",
   "metadata": {},
   "outputs": [
    {
     "data": {
      "text/plain": [
       "['Date & Time\\nUTC',\n",
       " 'Lat.\\ndegrees',\n",
       " 'Lon.\\ndegrees',\n",
       " 'Depth\\nkm',\n",
       " 'Mag.[+]',\n",
       " 'Region']"
      ]
     },
     "execution_count": 142,
     "metadata": {},
     "output_type": "execute_result"
    }
   ],
   "source": [
    "cabeceras = cabeceras[2:]\n",
    "\n",
    "cabeceras"
   ]
  },
  {
   "cell_type": "code",
   "execution_count": 123,
   "id": "8f72718b",
   "metadata": {},
   "outputs": [
    {
     "data": {
      "text/plain": [
       "6"
      ]
     },
     "execution_count": 123,
     "metadata": {},
     "output_type": "execute_result"
    }
   ],
   "source": [
    "len(cabeceras)"
   ]
  },
  {
   "cell_type": "code",
   "execution_count": 137,
   "id": "0a8dc471",
   "metadata": {},
   "outputs": [
    {
     "data": {
      "text/plain": [
       "['2024-02-28 18:07:05\\n14 min ago',\n",
       " '-32.150',\n",
       " '-71.680',\n",
       " '57',\n",
       " '3.0',\n",
       " 'OFFSHORE COQUIMBO, CHILE']"
      ]
     },
     "execution_count": 137,
     "metadata": {},
     "output_type": "execute_result"
    }
   ],
   "source": [
    "f = [e.text for e in filas[0].find_elements(By.TAG_NAME, 'td')][1:]\n",
    "\n",
    "res = []\n",
    "\n",
    "\n",
    "for e in f:\n",
    "    \n",
    "    if e!='':\n",
    "        \n",
    "        res.append(e)\n",
    "        \n",
    "res"
   ]
  },
  {
   "cell_type": "code",
   "execution_count": 122,
   "id": "849dd488",
   "metadata": {},
   "outputs": [
    {
     "data": {
      "text/plain": [
       "6"
      ]
     },
     "execution_count": 122,
     "metadata": {},
     "output_type": "execute_result"
    }
   ],
   "source": [
    "len(res)"
   ]
  },
  {
   "cell_type": "code",
   "execution_count": 150,
   "id": "4f0cdb9f",
   "metadata": {},
   "outputs": [],
   "source": [
    "data = []\n",
    "\n",
    "for f in filas:\n",
    "    \n",
    "    tmp = []\n",
    "    \n",
    "    \n",
    "    \n",
    "    d = [e.text for e in f.find_elements(By.TAG_NAME, 'td')][2:]\n",
    "\n",
    "\n",
    "    for casilla in d:\n",
    "\n",
    "        if casilla!='':\n",
    "\n",
    "            tmp.append(casilla)\n",
    "\n",
    "    data.append(tmp)\n",
    "        \n",
    "    "
   ]
  },
  {
   "cell_type": "code",
   "execution_count": 151,
   "id": "c80973a7",
   "metadata": {},
   "outputs": [],
   "source": [
    "import pandas as pd"
   ]
  },
  {
   "cell_type": "code",
   "execution_count": 153,
   "id": "04022f8b",
   "metadata": {},
   "outputs": [
    {
     "data": {
      "text/html": [
       "<div>\n",
       "<style scoped>\n",
       "    .dataframe tbody tr th:only-of-type {\n",
       "        vertical-align: middle;\n",
       "    }\n",
       "\n",
       "    .dataframe tbody tr th {\n",
       "        vertical-align: top;\n",
       "    }\n",
       "\n",
       "    .dataframe thead th {\n",
       "        text-align: right;\n",
       "    }\n",
       "</style>\n",
       "<table border=\"1\" class=\"dataframe\">\n",
       "  <thead>\n",
       "    <tr style=\"text-align: right;\">\n",
       "      <th></th>\n",
       "      <th>Date &amp; Time\\nUTC</th>\n",
       "      <th>Lat.\\ndegrees</th>\n",
       "      <th>Lon.\\ndegrees</th>\n",
       "      <th>Depth\\nkm</th>\n",
       "      <th>Mag.[+]</th>\n",
       "      <th>Region</th>\n",
       "    </tr>\n",
       "  </thead>\n",
       "  <tbody>\n",
       "    <tr>\n",
       "      <th>0</th>\n",
       "      <td>2024-02-28 18:07:05\\n16 min ago</td>\n",
       "      <td>-32.150</td>\n",
       "      <td>-71.680</td>\n",
       "      <td>57</td>\n",
       "      <td>3.0</td>\n",
       "      <td>OFFSHORE COQUIMBO, CHILE</td>\n",
       "    </tr>\n",
       "    <tr>\n",
       "      <th>1</th>\n",
       "      <td>2024-02-28 18:06:02\\n17 min ago</td>\n",
       "      <td>31.740</td>\n",
       "      <td>-104.126</td>\n",
       "      <td>7</td>\n",
       "      <td>2.2</td>\n",
       "      <td>WESTERN TEXAS</td>\n",
       "    </tr>\n",
       "    <tr>\n",
       "      <th>2</th>\n",
       "      <td>2024-02-28 18:03:08\\n20 min ago</td>\n",
       "      <td>38.570</td>\n",
       "      <td>22.210</td>\n",
       "      <td>5</td>\n",
       "      <td>2.6</td>\n",
       "      <td>GREECE</td>\n",
       "    </tr>\n",
       "    <tr>\n",
       "      <th>3</th>\n",
       "      <td>2024-02-28 18:01:11\\n22 min ago</td>\n",
       "      <td>40.857</td>\n",
       "      <td>33.652</td>\n",
       "      <td>7</td>\n",
       "      <td>2.1</td>\n",
       "      <td>CENTRAL TURKEY</td>\n",
       "    </tr>\n",
       "    <tr>\n",
       "      <th>4</th>\n",
       "      <td>2024-02-28 17:47:31\\n35 min ago</td>\n",
       "      <td>-32.200</td>\n",
       "      <td>-70.270</td>\n",
       "      <td>114</td>\n",
       "      <td>3.1</td>\n",
       "      <td>SAN JUAN, ARGENTINA</td>\n",
       "    </tr>\n",
       "  </tbody>\n",
       "</table>\n",
       "</div>"
      ],
      "text/plain": [
       "                  Date & Time\\nUTC Lat.\\ndegrees Lon.\\ndegrees Depth\\nkm  \\\n",
       "0  2024-02-28 18:07:05\\n16 min ago       -32.150       -71.680        57   \n",
       "1  2024-02-28 18:06:02\\n17 min ago        31.740      -104.126         7   \n",
       "2  2024-02-28 18:03:08\\n20 min ago        38.570        22.210         5   \n",
       "3  2024-02-28 18:01:11\\n22 min ago        40.857        33.652         7   \n",
       "4  2024-02-28 17:47:31\\n35 min ago       -32.200       -70.270       114   \n",
       "\n",
       "  Mag.[+]                    Region  \n",
       "0     3.0  OFFSHORE COQUIMBO, CHILE  \n",
       "1     2.2             WESTERN TEXAS  \n",
       "2     2.6                    GREECE  \n",
       "3     2.1            CENTRAL TURKEY  \n",
       "4     3.1       SAN JUAN, ARGENTINA  "
      ]
     },
     "execution_count": 153,
     "metadata": {},
     "output_type": "execute_result"
    }
   ],
   "source": [
    "df = pd.DataFrame(data, columns=cabeceras)\n",
    "\n",
    "df.head()"
   ]
  },
  {
   "cell_type": "markdown",
   "id": "3c0cf4ba",
   "metadata": {},
   "source": [
    "## 8"
   ]
  },
  {
   "cell_type": "code",
   "execution_count": 154,
   "id": "97c4e581",
   "metadata": {},
   "outputs": [],
   "source": [
    "url = 'https://twitter.com/elonmusk'"
   ]
  },
  {
   "cell_type": "code",
   "execution_count": 159,
   "id": "435c2710",
   "metadata": {},
   "outputs": [
    {
     "data": {
      "text/plain": [
       "<module 'time' (built-in)>"
      ]
     },
     "execution_count": 159,
     "metadata": {},
     "output_type": "execute_result"
    }
   ],
   "source": [
    "time"
   ]
  },
  {
   "cell_type": "code",
   "execution_count": 161,
   "id": "77a7787a",
   "metadata": {},
   "outputs": [
    {
     "data": {
      "text/plain": [
       "'38,8 mil posts'"
      ]
     },
     "execution_count": 161,
     "metadata": {},
     "output_type": "execute_result"
    }
   ],
   "source": [
    "driver.get(url)\n",
    "\n",
    "\n",
    "time.sleep(3)   # pausa 3 segundos, espera a que cargue\n",
    "\n",
    "\n",
    "xpath = '//*[@id=\"react-root\"]/div/div/div[2]/main/div/div/div/div/div/div[1]/div[1]/div/div/div/div/div/div[2]/div/div'\n",
    "\n",
    "driver.find_element(By.XPATH, xpath).text\n"
   ]
  },
  {
   "cell_type": "code",
   "execution_count": 164,
   "id": "99b3bfd5",
   "metadata": {},
   "outputs": [],
   "source": [
    "from selenium.webdriver.support.ui import WebDriverWait   # es para esperar\n",
    "\n",
    "from selenium.webdriver.support import expected_conditions as EC  # condiciones esperadas..."
   ]
  },
  {
   "cell_type": "code",
   "execution_count": 167,
   "id": "675825e8",
   "metadata": {},
   "outputs": [
    {
     "data": {
      "text/plain": [
       "'38,8 mil posts'"
      ]
     },
     "execution_count": 167,
     "metadata": {},
     "output_type": "execute_result"
    }
   ],
   "source": [
    "driver.get(url)\n",
    "\n",
    "# espera maximo 60 segundos, si lo encuentras antes damelo\n",
    "\n",
    "WebDriverWait(driver, 60).until(EC.presence_of_element_located((By.XPATH, xpath))).text"
   ]
  },
  {
   "cell_type": "markdown",
   "id": "43d3d2bf",
   "metadata": {},
   "source": [
    "## 9"
   ]
  },
  {
   "cell_type": "code",
   "execution_count": 168,
   "id": "1bb944fb",
   "metadata": {},
   "outputs": [
    {
     "data": {
      "text/plain": [
       "'174,1 M'"
      ]
     },
     "execution_count": 168,
     "metadata": {},
     "output_type": "execute_result"
    }
   ],
   "source": [
    "xpath = '//*[@id=\"react-root\"]/div/div/div[2]/main/div/div/div/div/div/div[3]/div/div/div/div/div[4]/div[2]/a/span[1]/span'\n",
    "\n",
    "driver.find_element(By.XPATH, xpath).text"
   ]
  },
  {
   "cell_type": "markdown",
   "id": "fd1fd255",
   "metadata": {},
   "source": [
    "## 10"
   ]
  },
  {
   "cell_type": "code",
   "execution_count": 169,
   "id": "74c3e1a8",
   "metadata": {},
   "outputs": [],
   "source": [
    "url = 'https://www.wikipedia.org/'"
   ]
  },
  {
   "cell_type": "code",
   "execution_count": 170,
   "id": "034f42e6",
   "metadata": {},
   "outputs": [],
   "source": [
    "driver.get(url)"
   ]
  },
  {
   "cell_type": "code",
   "execution_count": 172,
   "id": "472b7dea",
   "metadata": {},
   "outputs": [
    {
     "data": {
      "text/plain": [
       "<selenium.webdriver.remote.webelement.WebElement (session=\"b9200426c595974c7db3f1e573ba780b\", element=\"437D6A2109C63CB6027E53FA5FEC09ED_element_35\")>"
      ]
     },
     "execution_count": 172,
     "metadata": {},
     "output_type": "execute_result"
    }
   ],
   "source": [
    "caja = driver.find_element(By.XPATH, '//*[@id=\"www-wikipedia-org\"]/main/nav[1]')\n",
    "\n",
    "caja"
   ]
  },
  {
   "cell_type": "code",
   "execution_count": 176,
   "id": "d2f84130",
   "metadata": {},
   "outputs": [
    {
     "data": {
      "text/plain": [
       "['Español',\n",
       " 'English',\n",
       " 'Русский',\n",
       " '日本語',\n",
       " 'Deutsch',\n",
       " 'Français',\n",
       " 'Italiano',\n",
       " '中文',\n",
       " 'فارسی',\n",
       " 'العربية']"
      ]
     },
     "execution_count": 176,
     "metadata": {},
     "output_type": "execute_result"
    }
   ],
   "source": [
    "idiomas = [e.text for e in caja.find_elements(By.TAG_NAME, 'strong')]\n",
    "\n",
    "idiomas"
   ]
  },
  {
   "cell_type": "code",
   "execution_count": 177,
   "id": "8d04a4f4",
   "metadata": {},
   "outputs": [
    {
     "data": {
      "text/plain": [
       "['1.930.000+ artículos',\n",
       " '6,782,000+ articles',\n",
       " '1 963 000+ статей',\n",
       " '1,403,000+ 記事',\n",
       " '2.881.000+ Artikel',\n",
       " '2\\u202f590\\u202f000+ articles',\n",
       " '1.847.000+ voci',\n",
       " '1,403,000+ 条目 / 條目',\n",
       " '۹۹۳٬۰۰۰+ مقاله',\n",
       " '١٬٢٢٧٬٠٠٠+ مقالة']"
      ]
     },
     "execution_count": 177,
     "metadata": {},
     "output_type": "execute_result"
    }
   ],
   "source": [
    "articulos = [e.text for e in caja.find_elements(By.TAG_NAME, 'small')]\n",
    "\n",
    "articulos"
   ]
  },
  {
   "cell_type": "code",
   "execution_count": 178,
   "id": "110356a3",
   "metadata": {},
   "outputs": [
    {
     "data": {
      "text/plain": [
       "{'Español': '1.930.000+ artículos',\n",
       " 'English': '6,782,000+ articles',\n",
       " 'Русский': '1 963 000+ статей',\n",
       " '日本語': '1,403,000+ 記事',\n",
       " 'Deutsch': '2.881.000+ Artikel',\n",
       " 'Français': '2\\u202f590\\u202f000+ articles',\n",
       " 'Italiano': '1.847.000+ voci',\n",
       " '中文': '1,403,000+ 条目 / 條目',\n",
       " 'فارسی': '۹۹۳٬۰۰۰+ مقاله',\n",
       " 'العربية': '١٬٢٢٧٬٠٠٠+ مقالة'}"
      ]
     },
     "execution_count": 178,
     "metadata": {},
     "output_type": "execute_result"
    }
   ],
   "source": [
    "dict(zip(idiomas, articulos))"
   ]
  },
  {
   "cell_type": "code",
   "execution_count": 193,
   "id": "b0859b1a",
   "metadata": {},
   "outputs": [
    {
     "name": "stdout",
     "output_type": "stream",
     "text": [
      "Collecting deep-translator\n",
      "  Downloading deep_translator-1.11.4-py3-none-any.whl (42 kB)\n",
      "\u001b[2K     \u001b[38;2;114;156;31m━━━━━━━━━━━━━━━━━━━━━━━━━━━━━━━━━━━━━━━━\u001b[0m \u001b[32m42.3/42.3 kB\u001b[0m \u001b[31m2.4 MB/s\u001b[0m eta \u001b[36m0:00:00\u001b[0m\n",
      "\u001b[?25hRequirement already satisfied: beautifulsoup4<5.0.0,>=4.9.1 in /opt/homebrew/Caskroom/miniconda/base/envs/clase/lib/python3.9/site-packages (from deep-translator) (4.11.1)\n",
      "Requirement already satisfied: requests<3.0.0,>=2.23.0 in /opt/homebrew/Caskroom/miniconda/base/envs/clase/lib/python3.9/site-packages (from deep-translator) (2.28.1)\n",
      "Requirement already satisfied: soupsieve>1.2 in /opt/homebrew/Caskroom/miniconda/base/envs/clase/lib/python3.9/site-packages (from beautifulsoup4<5.0.0,>=4.9.1->deep-translator) (2.3.2.post1)\n",
      "Requirement already satisfied: urllib3<1.27,>=1.21.1 in /opt/homebrew/Caskroom/miniconda/base/envs/clase/lib/python3.9/site-packages (from requests<3.0.0,>=2.23.0->deep-translator) (1.26.13)\n",
      "Requirement already satisfied: certifi>=2017.4.17 in /opt/homebrew/Caskroom/miniconda/base/envs/clase/lib/python3.9/site-packages (from requests<3.0.0,>=2.23.0->deep-translator) (2022.12.7)\n",
      "Requirement already satisfied: idna<4,>=2.5 in /opt/homebrew/Caskroom/miniconda/base/envs/clase/lib/python3.9/site-packages (from requests<3.0.0,>=2.23.0->deep-translator) (2.10)\n",
      "Requirement already satisfied: charset-normalizer<3,>=2 in /opt/homebrew/Caskroom/miniconda/base/envs/clase/lib/python3.9/site-packages (from requests<3.0.0,>=2.23.0->deep-translator) (2.1.1)\n",
      "\u001b[33mWARNING: Error parsing requirements for pyarrow: [Errno 21] Is a directory: '/opt/homebrew/Caskroom/miniconda/base/envs/clase/lib/python3.9/site-packages/pyarrow-10.0.1.dist-info/METADATA'\u001b[0m\u001b[33m\n",
      "\u001b[0mInstalling collected packages: deep-translator\n",
      "Successfully installed deep-translator-1.11.4\n",
      "Note: you may need to restart the kernel to use updated packages.\n"
     ]
    }
   ],
   "source": [
    "%pip install -U deep-translator"
   ]
  },
  {
   "cell_type": "code",
   "execution_count": 195,
   "id": "908aba43",
   "metadata": {},
   "outputs": [
    {
     "data": {
      "text/plain": [
       "'Mach weiter so, du bist großartig'"
      ]
     },
     "execution_count": 195,
     "metadata": {},
     "output_type": "execute_result"
    }
   ],
   "source": [
    "from deep_translator import GoogleTranslator\n",
    "\n",
    "GoogleTranslator(source='auto', target='de').translate(\"keep it up, you are awesome\") "
   ]
  },
  {
   "cell_type": "code",
   "execution_count": 196,
   "id": "b6f3de3b",
   "metadata": {},
   "outputs": [
    {
     "data": {
      "text/plain": [
       "'Arabisch'"
      ]
     },
     "execution_count": 196,
     "metadata": {},
     "output_type": "execute_result"
    }
   ],
   "source": [
    "GoogleTranslator(source='auto', target='de').translate('العربية')"
   ]
  },
  {
   "cell_type": "code",
   "execution_count": 199,
   "id": "344477a7",
   "metadata": {},
   "outputs": [
    {
     "name": "stdout",
     "output_type": "stream",
     "text": [
      "Español\n",
      "1.930.000+ artículos\n",
      "Inglés\n",
      "6.782.000+ artículos\n",
      "ruso\n",
      "1.963.000+ artículos\n",
      "japonés\n",
      "1.403.000+ artículos\n",
      "Alemán\n",
      "2,881,000+ Artículo\n",
      "Francés\n",
      "2590000+ artículos\n",
      "italiano\n",
      "1.847.000+ entradas\n",
      "Chino\n",
      "1.403.000+ entradas/entradas\n",
      "farsi\n",
      "Más de 993.000 artículos\n",
      "Arábica\n",
      "1.227.000+ artículos\n"
     ]
    }
   ],
   "source": [
    "for k,v in dict(zip(idiomas, articulos)).items():\n",
    "    \n",
    "    print(GoogleTranslator(source='auto', target='es').translate(k))\n",
    "    print(GoogleTranslator(source='auto', target='es').translate(v))"
   ]
  },
  {
   "cell_type": "markdown",
   "id": "bdfc7499",
   "metadata": {},
   "source": [
    "## IMDB"
   ]
  },
  {
   "cell_type": "code",
   "execution_count": 200,
   "id": "fd8a5c45",
   "metadata": {},
   "outputs": [
    {
     "name": "stderr",
     "output_type": "stream",
     "text": [
      "/var/folders/95/ms6dwls51ls1jq0t456d3r200000gn/T/ipykernel_36398/166559364.py:4: DeprecationWarning: executable_path has been deprecated, please pass in a Service object\n",
      "  driver = webdriver.Chrome(PATH)\n"
     ]
    }
   ],
   "source": [
    "url = 'https://www.imdb.com/chart/top'\n",
    "\n",
    "\n",
    "driver = webdriver.Chrome(PATH)\n",
    "\n",
    "driver.get(url)"
   ]
  },
  {
   "cell_type": "code",
   "execution_count": 204,
   "id": "c94c742d",
   "metadata": {},
   "outputs": [
    {
     "data": {
      "text/plain": [
       "<selenium.webdriver.remote.webelement.WebElement (session=\"d869a19df54fa23349dacba198433eb4\", element=\"E1232D3CFD8774A27A19703E09967E7D_element_118\")>"
      ]
     },
     "execution_count": 204,
     "metadata": {},
     "output_type": "execute_result"
    }
   ],
   "source": [
    "pelis = driver.find_element(By.XPATH, '//*[@id=\"__next\"]/main/div/div[3]/section/div/div[2]/div/ul')\n",
    "\n",
    "pelis"
   ]
  },
  {
   "cell_type": "code",
   "execution_count": 211,
   "id": "89ab0a2c",
   "metadata": {},
   "outputs": [
    {
     "data": {
      "text/plain": [
       "250"
      ]
     },
     "execution_count": 211,
     "metadata": {},
     "output_type": "execute_result"
    }
   ],
   "source": [
    "len(pelis.find_elements(By.TAG_NAME,'li'))"
   ]
  },
  {
   "cell_type": "code",
   "execution_count": 212,
   "id": "b2974b95",
   "metadata": {},
   "outputs": [],
   "source": [
    "pel = pelis.find_elements(By.TAG_NAME,'li')"
   ]
  },
  {
   "cell_type": "code",
   "execution_count": 213,
   "id": "829495d8",
   "metadata": {},
   "outputs": [
    {
     "data": {
      "text/plain": [
       "250"
      ]
     },
     "execution_count": 213,
     "metadata": {},
     "output_type": "execute_result"
    }
   ],
   "source": [
    "len(pel)"
   ]
  },
  {
   "cell_type": "code",
   "execution_count": 217,
   "id": "cd3566c9",
   "metadata": {},
   "outputs": [
    {
     "data": {
      "text/plain": [
       "['1. Cadena perpetua', '1994', '2h 22m', '13', '9,3', ' (2,9 M)', 'Puntuar']"
      ]
     },
     "execution_count": 217,
     "metadata": {},
     "output_type": "execute_result"
    }
   ],
   "source": [
    "pel[0].text.split('\\n')"
   ]
  },
  {
   "cell_type": "code",
   "execution_count": 218,
   "id": "56f119bf",
   "metadata": {},
   "outputs": [],
   "source": [
    "df = pd.DataFrame([e.text.split('\\n') for e in pel])"
   ]
  },
  {
   "cell_type": "code",
   "execution_count": 221,
   "id": "6e9a0536",
   "metadata": {},
   "outputs": [
    {
     "data": {
      "text/html": [
       "<div>\n",
       "<style scoped>\n",
       "    .dataframe tbody tr th:only-of-type {\n",
       "        vertical-align: middle;\n",
       "    }\n",
       "\n",
       "    .dataframe tbody tr th {\n",
       "        vertical-align: top;\n",
       "    }\n",
       "\n",
       "    .dataframe thead th {\n",
       "        text-align: right;\n",
       "    }\n",
       "</style>\n",
       "<table border=\"1\" class=\"dataframe\">\n",
       "  <thead>\n",
       "    <tr style=\"text-align: right;\">\n",
       "      <th></th>\n",
       "      <th>0</th>\n",
       "      <th>1</th>\n",
       "      <th>2</th>\n",
       "      <th>3</th>\n",
       "      <th>4</th>\n",
       "      <th>5</th>\n",
       "      <th>6</th>\n",
       "    </tr>\n",
       "  </thead>\n",
       "  <tbody>\n",
       "    <tr>\n",
       "      <th>0</th>\n",
       "      <td>1. Cadena perpetua</td>\n",
       "      <td>1994</td>\n",
       "      <td>2h 22m</td>\n",
       "      <td>13</td>\n",
       "      <td>9,3</td>\n",
       "      <td>(2,9 M)</td>\n",
       "      <td>Puntuar</td>\n",
       "    </tr>\n",
       "    <tr>\n",
       "      <th>1</th>\n",
       "      <td>2. El padrino</td>\n",
       "      <td>1972</td>\n",
       "      <td>2h 55m</td>\n",
       "      <td>18</td>\n",
       "      <td>9,2</td>\n",
       "      <td>(2 M)</td>\n",
       "      <td>Puntuar</td>\n",
       "    </tr>\n",
       "    <tr>\n",
       "      <th>2</th>\n",
       "      <td>3. El caballero oscuro</td>\n",
       "      <td>2008</td>\n",
       "      <td>2h 32m</td>\n",
       "      <td>12</td>\n",
       "      <td>9,0</td>\n",
       "      <td>(2,8 M)</td>\n",
       "      <td>Puntuar</td>\n",
       "    </tr>\n",
       "    <tr>\n",
       "      <th>3</th>\n",
       "      <td>4. El padrino parte II</td>\n",
       "      <td>1974</td>\n",
       "      <td>3h 22m</td>\n",
       "      <td>18</td>\n",
       "      <td>9,0</td>\n",
       "      <td>(1,4 M)</td>\n",
       "      <td>Puntuar</td>\n",
       "    </tr>\n",
       "    <tr>\n",
       "      <th>4</th>\n",
       "      <td>5. 12 hombres sin piedad</td>\n",
       "      <td>1957</td>\n",
       "      <td>1h 36m</td>\n",
       "      <td>A</td>\n",
       "      <td>9,0</td>\n",
       "      <td>(856 mil)</td>\n",
       "      <td>Puntuar</td>\n",
       "    </tr>\n",
       "  </tbody>\n",
       "</table>\n",
       "</div>"
      ],
      "text/plain": [
       "                          0     1       2   3    4           5        6\n",
       "0        1. Cadena perpetua  1994  2h 22m  13  9,3     (2,9 M)  Puntuar\n",
       "1             2. El padrino  1972  2h 55m  18  9,2       (2 M)  Puntuar\n",
       "2    3. El caballero oscuro  2008  2h 32m  12  9,0     (2,8 M)  Puntuar\n",
       "3    4. El padrino parte II  1974  3h 22m  18  9,0     (1,4 M)  Puntuar\n",
       "4  5. 12 hombres sin piedad  1957  1h 36m   A  9,0   (856 mil)  Puntuar"
      ]
     },
     "execution_count": 221,
     "metadata": {},
     "output_type": "execute_result"
    }
   ],
   "source": [
    "df.head()"
   ]
  },
  {
   "cell_type": "code",
   "execution_count": 225,
   "id": "e3308a00",
   "metadata": {},
   "outputs": [
    {
     "name": "stderr",
     "output_type": "stream",
     "text": [
      "/var/folders/95/ms6dwls51ls1jq0t456d3r200000gn/T/ipykernel_36398/166559364.py:4: DeprecationWarning: executable_path has been deprecated, please pass in a Service object\n",
      "  driver = webdriver.Chrome(PATH)\n"
     ]
    }
   ],
   "source": [
    "url = 'https://www.imdb.com/chart/top'\n",
    "\n",
    "\n",
    "driver = webdriver.Chrome(PATH)\n",
    "\n",
    "driver.get(url)"
   ]
  },
  {
   "cell_type": "code",
   "execution_count": 226,
   "id": "d724afa0",
   "metadata": {},
   "outputs": [],
   "source": [
    "xpath = '//*[@id=\"list-view-option-detailed\"]'\n",
    "\n",
    "driver.find_element(By.XPATH, xpath).click()"
   ]
  },
  {
   "cell_type": "code",
   "execution_count": 227,
   "id": "bed74dc5",
   "metadata": {},
   "outputs": [
    {
     "data": {
      "text/plain": [
       "<selenium.webdriver.remote.webelement.WebElement (session=\"2b9e8579decc0fa38411d9ff2d1d5400\", element=\"1C6A261CB7C2D55DFF7ACF9CDB99A273_element_14639\")>"
      ]
     },
     "execution_count": 227,
     "metadata": {},
     "output_type": "execute_result"
    }
   ],
   "source": [
    "pelis = driver.find_element(By.XPATH, '//*[@id=\"__next\"]/main/div/div[3]/section/div/div[2]/div/ul')\n",
    "\n",
    "pelis"
   ]
  },
  {
   "cell_type": "code",
   "execution_count": 228,
   "id": "b7ca7186",
   "metadata": {},
   "outputs": [
    {
     "data": {
      "text/plain": [
       "250"
      ]
     },
     "execution_count": 228,
     "metadata": {},
     "output_type": "execute_result"
    }
   ],
   "source": [
    "pel = pelis.find_elements(By.TAG_NAME,'li')\n",
    "\n",
    "len(pel)"
   ]
  },
  {
   "cell_type": "code",
   "execution_count": 230,
   "id": "7b302489",
   "metadata": {},
   "outputs": [
    {
     "data": {
      "text/plain": [
       "['1. Cadena perpetua',\n",
       " '1994',\n",
       " '2h 22m',\n",
       " '13',\n",
       " '9,3',\n",
       " ' (2,9 M)',\n",
       " 'Puntuar',\n",
       " 'Andy Dufresne es encarcelado por matar a su esposa y al amante de esta. Tras una dura adaptación, intenta mejorar las condiciones de la prisión y dar esperanza a sus compañeros.',\n",
       " 'DirectorFrank DarabontEstrellasTim RobbinsMorgan FreemanBob Gunton',\n",
       " 'Votos2.863.136']"
      ]
     },
     "execution_count": 230,
     "metadata": {},
     "output_type": "execute_result"
    }
   ],
   "source": [
    "pel[0].text.split('\\n')"
   ]
  },
  {
   "cell_type": "code",
   "execution_count": 233,
   "id": "7a45b053",
   "metadata": {},
   "outputs": [
    {
     "data": {
      "text/plain": [
       "'1. Cadena perpetua'"
      ]
     },
     "execution_count": 233,
     "metadata": {},
     "output_type": "execute_result"
    }
   ],
   "source": [
    "nombre = pel[0].find_element(By.TAG_NAME, 'h3').text\n",
    "\n",
    "nombre"
   ]
  },
  {
   "cell_type": "code",
   "execution_count": 236,
   "id": "d056db7a",
   "metadata": {},
   "outputs": [
    {
     "data": {
      "text/plain": [
       "'1994'"
      ]
     },
     "execution_count": 236,
     "metadata": {},
     "output_type": "execute_result"
    }
   ],
   "source": [
    "año = pel[0].find_elements(By.TAG_NAME, 'span')[1].text\n",
    "\n",
    "año"
   ]
  },
  {
   "cell_type": "code",
   "execution_count": 239,
   "id": "d2c841b9",
   "metadata": {},
   "outputs": [
    {
     "data": {
      "text/plain": [
       "'2h 22m'"
      ]
     },
     "execution_count": 239,
     "metadata": {},
     "output_type": "execute_result"
    }
   ],
   "source": [
    "dur = pel[0].find_elements(By.TAG_NAME, 'span')[2].text\n",
    "\n",
    "dur"
   ]
  },
  {
   "cell_type": "code",
   "execution_count": 240,
   "id": "5e3f87cb",
   "metadata": {},
   "outputs": [
    {
     "data": {
      "text/plain": [
       "'13'"
      ]
     },
     "execution_count": 240,
     "metadata": {},
     "output_type": "execute_result"
    }
   ],
   "source": [
    "edad = pel[0].find_elements(By.TAG_NAME, 'span')[3].text\n",
    "\n",
    "edad"
   ]
  },
  {
   "cell_type": "code",
   "execution_count": 254,
   "id": "f52cf7d0",
   "metadata": {},
   "outputs": [],
   "source": [
    "# el xpath es unico, esta basado en el ID\n",
    "\n",
    "est = pel[0].find_elements(By.TAG_NAME, 'span')[4].text"
   ]
  },
  {
   "cell_type": "code",
   "execution_count": 255,
   "id": "66b1a817",
   "metadata": {},
   "outputs": [
    {
     "data": {
      "text/plain": [
       "['9,3', ' (2,9 M)', 'Puntuar']"
      ]
     },
     "execution_count": 255,
     "metadata": {},
     "output_type": "execute_result"
    }
   ],
   "source": [
    "est.split('\\n')"
   ]
  },
  {
   "cell_type": "code",
   "execution_count": 256,
   "id": "aa7092b2",
   "metadata": {},
   "outputs": [],
   "source": [
    "reco = est.split('\\n')[0]\n",
    "\n",
    "usuarios = est.split('\\n')[1].strip().replace('(', '').replace(')', '')"
   ]
  },
  {
   "cell_type": "code",
   "execution_count": 257,
   "id": "4b553703",
   "metadata": {},
   "outputs": [
    {
     "data": {
      "text/plain": [
       "'9,3'"
      ]
     },
     "execution_count": 257,
     "metadata": {},
     "output_type": "execute_result"
    }
   ],
   "source": [
    "reco"
   ]
  },
  {
   "cell_type": "code",
   "execution_count": 258,
   "id": "5e630138",
   "metadata": {},
   "outputs": [
    {
     "data": {
      "text/plain": [
       "'2,9 M'"
      ]
     },
     "execution_count": 258,
     "metadata": {},
     "output_type": "execute_result"
    }
   ],
   "source": [
    "usuarios"
   ]
  },
  {
   "cell_type": "code",
   "execution_count": 260,
   "id": "b874c3b8",
   "metadata": {},
   "outputs": [
    {
     "data": {
      "text/plain": [
       "'Andy Dufresne es encarcelado por matar a su esposa y al amante de esta. Tras una dura adaptación, intenta mejorar las condiciones de la prisión y dar esperanza a sus compañeros.'"
      ]
     },
     "execution_count": 260,
     "metadata": {},
     "output_type": "execute_result"
    }
   ],
   "source": [
    "desc = pel[0].find_element(By.CSS_SELECTOR, 'div.ipc-html-content-inner-div').text\n",
    "\n",
    "desc"
   ]
  },
  {
   "cell_type": "code",
   "execution_count": 262,
   "id": "15815f13",
   "metadata": {},
   "outputs": [
    {
     "data": {
      "text/plain": [
       "'Frank Darabont'"
      ]
     },
     "execution_count": 262,
     "metadata": {},
     "output_type": "execute_result"
    }
   ],
   "source": [
    "director = pel[0].find_element(By.CSS_SELECTOR, 'a.ipc-link.ipc-link--base.dli-director-item').text\n",
    "\n",
    "director"
   ]
  },
  {
   "cell_type": "code",
   "execution_count": 270,
   "id": "32f0ec4d",
   "metadata": {},
   "outputs": [
    {
     "data": {
      "text/plain": [
       "'Estrellas'"
      ]
     },
     "execution_count": 270,
     "metadata": {},
     "output_type": "execute_result"
    }
   ],
   "source": [
    "pel[0].find_elements(By.TAG_NAME, 'span')[11].text"
   ]
  },
  {
   "cell_type": "code",
   "execution_count": 273,
   "id": "859825d3",
   "metadata": {},
   "outputs": [
    {
     "data": {
      "text/plain": [
       "['Estrellas', 'Tim Robbins', 'Morgan Freeman', 'Bob Gunton']"
      ]
     },
     "execution_count": 273,
     "metadata": {},
     "output_type": "execute_result"
    }
   ],
   "source": [
    "estrellas = [e.text for e in pel[0].find_elements(By.TAG_NAME, 'span')[11:]][:-1]\n",
    "\n",
    "estrellas"
   ]
  },
  {
   "cell_type": "code",
   "execution_count": 276,
   "id": "49bdc8b3",
   "metadata": {},
   "outputs": [
    {
     "data": {
      "text/plain": [
       "'2.863.136'"
      ]
     },
     "execution_count": 276,
     "metadata": {},
     "output_type": "execute_result"
    }
   ],
   "source": [
    "votos = pel[0].find_element(By.CSS_SELECTOR, 'div.sc-f24f1c5c-0.cPpOqU').text[5:]\n",
    "\n",
    "votos"
   ]
  },
  {
   "cell_type": "code",
   "execution_count": 277,
   "id": "e8f303d7",
   "metadata": {},
   "outputs": [
    {
     "data": {
      "text/plain": [
       "250"
      ]
     },
     "execution_count": 277,
     "metadata": {},
     "output_type": "execute_result"
    }
   ],
   "source": [
    "len(pel)"
   ]
  },
  {
   "cell_type": "code",
   "execution_count": 278,
   "id": "b6ce320a",
   "metadata": {},
   "outputs": [],
   "source": [
    "data = []\n",
    "\n",
    "for p in pel:\n",
    "    \n",
    "    est = p.find_elements(By.TAG_NAME, 'span')[4].text\n",
    "    \n",
    "    dictio = {'nombre': p.find_element(By.TAG_NAME, 'h3').text,\n",
    "              'año': p.find_elements(By.TAG_NAME, 'span')[1].text,\n",
    "              'duracion': p.find_elements(By.TAG_NAME, 'span')[2].text,\n",
    "              'edad': p.find_elements(By.TAG_NAME, 'span')[3].text,\n",
    "              'reco': est.split('\\n')[0],\n",
    "              'usuarios': est.split('\\n')[1].strip().replace('(', '').replace(')', ''),\n",
    "              'desc': p.find_element(By.CSS_SELECTOR, 'div.ipc-html-content-inner-div').text,\n",
    "              'director': p.find_element(By.CSS_SELECTOR, 'a.ipc-link.ipc-link--base.dli-director-item').text,\n",
    "              'estrellas': '-'.join([e.text for e in p.find_elements(By.TAG_NAME, 'span')[11:]][:-1]),\n",
    "              'votos': p.find_element(By.CSS_SELECTOR, 'div.sc-f24f1c5c-0.cPpOqU').text[5:]\n",
    "\n",
    "             }\n",
    "    \n",
    "    \n",
    "    data.append(dictio)\n",
    "    \n",
    "    \n"
   ]
  },
  {
   "cell_type": "code",
   "execution_count": 279,
   "id": "20b10de9",
   "metadata": {},
   "outputs": [
    {
     "data": {
      "text/html": [
       "<div>\n",
       "<style scoped>\n",
       "    .dataframe tbody tr th:only-of-type {\n",
       "        vertical-align: middle;\n",
       "    }\n",
       "\n",
       "    .dataframe tbody tr th {\n",
       "        vertical-align: top;\n",
       "    }\n",
       "\n",
       "    .dataframe thead th {\n",
       "        text-align: right;\n",
       "    }\n",
       "</style>\n",
       "<table border=\"1\" class=\"dataframe\">\n",
       "  <thead>\n",
       "    <tr style=\"text-align: right;\">\n",
       "      <th></th>\n",
       "      <th>nombre</th>\n",
       "      <th>año</th>\n",
       "      <th>duracion</th>\n",
       "      <th>edad</th>\n",
       "      <th>reco</th>\n",
       "      <th>usuarios</th>\n",
       "      <th>desc</th>\n",
       "      <th>director</th>\n",
       "      <th>estrellas</th>\n",
       "      <th>votos</th>\n",
       "    </tr>\n",
       "  </thead>\n",
       "  <tbody>\n",
       "    <tr>\n",
       "      <th>0</th>\n",
       "      <td>1. Cadena perpetua</td>\n",
       "      <td>1994</td>\n",
       "      <td>2h 22m</td>\n",
       "      <td>13</td>\n",
       "      <td>9,3</td>\n",
       "      <td>2,9 M</td>\n",
       "      <td>Andy Dufresne es encarcelado por matar a su es...</td>\n",
       "      <td>Frank Darabont</td>\n",
       "      <td>Estrellas-Tim Robbins-Morgan Freeman-Bob Gunton</td>\n",
       "      <td>2.863.136</td>\n",
       "    </tr>\n",
       "    <tr>\n",
       "      <th>1</th>\n",
       "      <td>2. El padrino</td>\n",
       "      <td>1972</td>\n",
       "      <td>2h 55m</td>\n",
       "      <td>18</td>\n",
       "      <td>9,2</td>\n",
       "      <td>2 M</td>\n",
       "      <td>El envejecido patriarca de una dinastía del cr...</td>\n",
       "      <td>Francis Ford Coppola</td>\n",
       "      <td>Estrellas-Marlon Brando-Al Pacino-James Caan</td>\n",
       "      <td>1.994.445</td>\n",
       "    </tr>\n",
       "    <tr>\n",
       "      <th>2</th>\n",
       "      <td>3. El caballero oscuro</td>\n",
       "      <td>2008</td>\n",
       "      <td>2h 32m</td>\n",
       "      <td>12</td>\n",
       "      <td>9,0</td>\n",
       "      <td>2,8 M</td>\n",
       "      <td>Cuando la amenaza conocida como el Joker causa...</td>\n",
       "      <td>Christopher Nolan</td>\n",
       "      <td>Estrellas-Christian Bale-Heath Ledger-Aaron Ec...</td>\n",
       "      <td>2.844.368</td>\n",
       "    </tr>\n",
       "    <tr>\n",
       "      <th>3</th>\n",
       "      <td>4. El padrino parte II</td>\n",
       "      <td>1974</td>\n",
       "      <td>3h 22m</td>\n",
       "      <td>18</td>\n",
       "      <td>9,0</td>\n",
       "      <td>1,4 M</td>\n",
       "      <td>Se retratan los inicios de la vida y la carrer...</td>\n",
       "      <td>Francis Ford Coppola</td>\n",
       "      <td>Estrellas-Al Pacino-Robert De Niro-Robert Duvall</td>\n",
       "      <td>1.353.232</td>\n",
       "    </tr>\n",
       "    <tr>\n",
       "      <th>4</th>\n",
       "      <td>5. 12 hombres sin piedad</td>\n",
       "      <td>1957</td>\n",
       "      <td>1h 36m</td>\n",
       "      <td>A</td>\n",
       "      <td>9,0</td>\n",
       "      <td>856 mil</td>\n",
       "      <td>Un miembro del jurado trata de evitar un error...</td>\n",
       "      <td>Sidney Lumet</td>\n",
       "      <td>Estrellas-Henry Fonda-Lee J. Cobb-Martin Balsam</td>\n",
       "      <td>855.641</td>\n",
       "    </tr>\n",
       "  </tbody>\n",
       "</table>\n",
       "</div>"
      ],
      "text/plain": [
       "                     nombre   año duracion edad reco usuarios  \\\n",
       "0        1. Cadena perpetua  1994   2h 22m   13  9,3    2,9 M   \n",
       "1             2. El padrino  1972   2h 55m   18  9,2      2 M   \n",
       "2    3. El caballero oscuro  2008   2h 32m   12  9,0    2,8 M   \n",
       "3    4. El padrino parte II  1974   3h 22m   18  9,0    1,4 M   \n",
       "4  5. 12 hombres sin piedad  1957   1h 36m    A  9,0  856 mil   \n",
       "\n",
       "                                                desc              director  \\\n",
       "0  Andy Dufresne es encarcelado por matar a su es...        Frank Darabont   \n",
       "1  El envejecido patriarca de una dinastía del cr...  Francis Ford Coppola   \n",
       "2  Cuando la amenaza conocida como el Joker causa...     Christopher Nolan   \n",
       "3  Se retratan los inicios de la vida y la carrer...  Francis Ford Coppola   \n",
       "4  Un miembro del jurado trata de evitar un error...          Sidney Lumet   \n",
       "\n",
       "                                           estrellas      votos  \n",
       "0    Estrellas-Tim Robbins-Morgan Freeman-Bob Gunton  2.863.136  \n",
       "1       Estrellas-Marlon Brando-Al Pacino-James Caan  1.994.445  \n",
       "2  Estrellas-Christian Bale-Heath Ledger-Aaron Ec...  2.844.368  \n",
       "3   Estrellas-Al Pacino-Robert De Niro-Robert Duvall  1.353.232  \n",
       "4    Estrellas-Henry Fonda-Lee J. Cobb-Martin Balsam    855.641  "
      ]
     },
     "execution_count": 279,
     "metadata": {},
     "output_type": "execute_result"
    }
   ],
   "source": [
    "df = pd.DataFrame(data)\n",
    "\n",
    "df.head()"
   ]
  },
  {
   "cell_type": "code",
   "execution_count": 280,
   "id": "3d782a4d",
   "metadata": {},
   "outputs": [
    {
     "data": {
      "text/html": [
       "<div>\n",
       "<style scoped>\n",
       "    .dataframe tbody tr th:only-of-type {\n",
       "        vertical-align: middle;\n",
       "    }\n",
       "\n",
       "    .dataframe tbody tr th {\n",
       "        vertical-align: top;\n",
       "    }\n",
       "\n",
       "    .dataframe thead th {\n",
       "        text-align: right;\n",
       "    }\n",
       "</style>\n",
       "<table border=\"1\" class=\"dataframe\">\n",
       "  <thead>\n",
       "    <tr style=\"text-align: right;\">\n",
       "      <th></th>\n",
       "      <th>nombre</th>\n",
       "      <th>año</th>\n",
       "      <th>duracion</th>\n",
       "      <th>edad</th>\n",
       "      <th>reco</th>\n",
       "      <th>usuarios</th>\n",
       "      <th>desc</th>\n",
       "      <th>director</th>\n",
       "      <th>estrellas</th>\n",
       "      <th>votos</th>\n",
       "    </tr>\n",
       "  </thead>\n",
       "  <tbody>\n",
       "    <tr>\n",
       "      <th>245</th>\n",
       "      <td>246. Criadas y señoras</td>\n",
       "      <td>2011</td>\n",
       "      <td>2h 26m</td>\n",
       "      <td>A</td>\n",
       "      <td>8,1</td>\n",
       "      <td>489 mil</td>\n",
       "      <td>Un aspirante a autor durante el movimiento por...</td>\n",
       "      <td>Tate Taylor</td>\n",
       "      <td>Estrellas-Viola Davis-Emma Stone-Octavia Spencer</td>\n",
       "      <td>489.130</td>\n",
       "    </tr>\n",
       "    <tr>\n",
       "      <th>246</th>\n",
       "      <td>247. Sucedió una noche</td>\n",
       "      <td>1934</td>\n",
       "      <td>1h 45m</td>\n",
       "      <td>A</td>\n",
       "      <td>8,1</td>\n",
       "      <td>111 mil</td>\n",
       "      <td>Una heredera malcriada huye de su familia y re...</td>\n",
       "      <td>Frank Capra</td>\n",
       "      <td>Estrellas-Clark Gable-Claudette Colbert-Walter...</td>\n",
       "      <td>111.423</td>\n",
       "    </tr>\n",
       "    <tr>\n",
       "      <th>247</th>\n",
       "      <td>248. Los cuatrocientos golpes</td>\n",
       "      <td>1959</td>\n",
       "      <td>1h 32m</td>\n",
       "      <td>A</td>\n",
       "      <td>8,1</td>\n",
       "      <td>127 mil</td>\n",
       "      <td>Un niño desatendido se sumerge en una vida de ...</td>\n",
       "      <td>François Truffaut</td>\n",
       "      <td>Estrellas-Jean-Pierre Léaud-Albert Rémy-Claire...</td>\n",
       "      <td>127.225</td>\n",
       "    </tr>\n",
       "    <tr>\n",
       "      <th>248</th>\n",
       "      <td>249. Drishyam</td>\n",
       "      <td>2015</td>\n",
       "      <td>2h 43m</td>\n",
       "      <td>Not Rated</td>\n",
       "      <td>8,2</td>\n",
       "      <td>93 mil</td>\n",
       "      <td>Un hombre toma medidas desesperadas que intent...</td>\n",
       "      <td>Nishikant Kamat</td>\n",
       "      <td>Estrellas-Ajay Devgn-Shriya Saran-Tabu</td>\n",
       "      <td>93.413</td>\n",
       "    </tr>\n",
       "    <tr>\n",
       "      <th>249</th>\n",
       "      <td>250. Bailando con lobos</td>\n",
       "      <td>1990</td>\n",
       "      <td>3h 1m</td>\n",
       "      <td>A</td>\n",
       "      <td>8,0</td>\n",
       "      <td>288 mil</td>\n",
       "      <td>El teniente John Dunbar, asignado a un remoto ...</td>\n",
       "      <td>Kevin Costner</td>\n",
       "      <td>Estrellas-Kevin Costner-Mary McDonnell-Graham ...</td>\n",
       "      <td>287.958</td>\n",
       "    </tr>\n",
       "  </tbody>\n",
       "</table>\n",
       "</div>"
      ],
      "text/plain": [
       "                            nombre   año duracion       edad reco usuarios  \\\n",
       "245         246. Criadas y señoras  2011   2h 26m          A  8,1  489 mil   \n",
       "246         247. Sucedió una noche  1934   1h 45m          A  8,1  111 mil   \n",
       "247  248. Los cuatrocientos golpes  1959   1h 32m          A  8,1  127 mil   \n",
       "248                  249. Drishyam  2015   2h 43m  Not Rated  8,2   93 mil   \n",
       "249        250. Bailando con lobos  1990    3h 1m          A  8,0  288 mil   \n",
       "\n",
       "                                                  desc           director  \\\n",
       "245  Un aspirante a autor durante el movimiento por...        Tate Taylor   \n",
       "246  Una heredera malcriada huye de su familia y re...        Frank Capra   \n",
       "247  Un niño desatendido se sumerge en una vida de ...  François Truffaut   \n",
       "248  Un hombre toma medidas desesperadas que intent...    Nishikant Kamat   \n",
       "249  El teniente John Dunbar, asignado a un remoto ...      Kevin Costner   \n",
       "\n",
       "                                             estrellas    votos  \n",
       "245   Estrellas-Viola Davis-Emma Stone-Octavia Spencer  489.130  \n",
       "246  Estrellas-Clark Gable-Claudette Colbert-Walter...  111.423  \n",
       "247  Estrellas-Jean-Pierre Léaud-Albert Rémy-Claire...  127.225  \n",
       "248             Estrellas-Ajay Devgn-Shriya Saran-Tabu   93.413  \n",
       "249  Estrellas-Kevin Costner-Mary McDonnell-Graham ...  287.958  "
      ]
     },
     "execution_count": 280,
     "metadata": {},
     "output_type": "execute_result"
    }
   ],
   "source": [
    "df.tail()"
   ]
  },
  {
   "cell_type": "markdown",
   "id": "21bc112e",
   "metadata": {},
   "source": [
    "## Books"
   ]
  },
  {
   "cell_type": "code",
   "execution_count": 281,
   "id": "f5afdcd6",
   "metadata": {},
   "outputs": [],
   "source": [
    "url = 'http://books.toscrape.com/'\n",
    "\n",
    "driver.get(url)"
   ]
  },
  {
   "cell_type": "code",
   "execution_count": 282,
   "id": "bbf92c4e",
   "metadata": {},
   "outputs": [
    {
     "data": {
      "text/plain": [
       "<selenium.webdriver.remote.webelement.WebElement (session=\"2b9e8579decc0fa38411d9ff2d1d5400\", element=\"F75890B17529F01897FDD55EADFD58E2_element_924\")>"
      ]
     },
     "execution_count": 282,
     "metadata": {},
     "output_type": "execute_result"
    }
   ],
   "source": [
    "libros = driver.find_element(By.TAG_NAME, 'ol')\n",
    "\n",
    "libros"
   ]
  },
  {
   "cell_type": "code",
   "execution_count": 286,
   "id": "52615020",
   "metadata": {},
   "outputs": [],
   "source": [
    "libros = libros.find_elements(By.TAG_NAME, 'li')"
   ]
  },
  {
   "cell_type": "code",
   "execution_count": 293,
   "id": "b248d99e",
   "metadata": {},
   "outputs": [
    {
     "data": {
      "text/plain": [
       "'A Light in the Attic'"
      ]
     },
     "execution_count": 293,
     "metadata": {},
     "output_type": "execute_result"
    }
   ],
   "source": [
    "nombre = libros[0].find_element(By.TAG_NAME, 'h3').find_element(By.TAG_NAME, 'a').get_attribute('title')\n",
    "\n",
    "nombre"
   ]
  },
  {
   "cell_type": "code",
   "execution_count": 299,
   "id": "0c7f00e7",
   "metadata": {},
   "outputs": [
    {
     "data": {
      "text/plain": [
       "51.77"
      ]
     },
     "execution_count": 299,
     "metadata": {},
     "output_type": "execute_result"
    }
   ],
   "source": [
    "precio  = float(libros[0].find_elements(By.TAG_NAME, 'p')[1].text[1:])\n",
    "\n",
    "precio"
   ]
  },
  {
   "cell_type": "code",
   "execution_count": 301,
   "id": "8da967d3",
   "metadata": {},
   "outputs": [
    {
     "data": {
      "text/plain": [
       "'In stock'"
      ]
     },
     "execution_count": 301,
     "metadata": {},
     "output_type": "execute_result"
    }
   ],
   "source": [
    "stock = libros[0].find_elements(By.TAG_NAME, 'p')[2].text\n",
    "\n",
    "stock"
   ]
  },
  {
   "cell_type": "code",
   "execution_count": 304,
   "id": "ae157b8d",
   "metadata": {},
   "outputs": [
    {
     "data": {
      "text/plain": [
       "'Three'"
      ]
     },
     "execution_count": 304,
     "metadata": {},
     "output_type": "execute_result"
    }
   ],
   "source": [
    "estrellas = libros[0].find_elements(By.TAG_NAME, 'p')[0].get_attribute('class').split()[-1]\n",
    "\n",
    "estrellas"
   ]
  },
  {
   "cell_type": "code",
   "execution_count": 305,
   "id": "cc9d0b9b",
   "metadata": {},
   "outputs": [],
   "source": [
    "data = []\n",
    "\n",
    "\n",
    "for l in libros:\n",
    "    \n",
    "    dictio = {'nombre': l.find_element(By.TAG_NAME, 'h3').find_element(By.TAG_NAME, 'a').get_attribute('title'),\n",
    "              'precio': float(l.find_elements(By.TAG_NAME, 'p')[1].text[1:]),\n",
    "              'stock': l.find_elements(By.TAG_NAME, 'p')[2].text,\n",
    "              'estrellas': l.find_elements(By.TAG_NAME, 'p')[0].get_attribute('class').split()[-1]\n",
    "\n",
    "             }\n",
    "    \n",
    "    \n",
    "    data.append(dictio)"
   ]
  },
  {
   "cell_type": "code",
   "execution_count": 307,
   "id": "f5241331",
   "metadata": {},
   "outputs": [
    {
     "name": "stdout",
     "output_type": "stream",
     "text": [
      "<class 'pandas.core.frame.DataFrame'>\n",
      "RangeIndex: 20 entries, 0 to 19\n",
      "Data columns (total 4 columns):\n",
      " #   Column     Non-Null Count  Dtype  \n",
      "---  ------     --------------  -----  \n",
      " 0   nombre     20 non-null     object \n",
      " 1   precio     20 non-null     float64\n",
      " 2   stock      20 non-null     object \n",
      " 3   estrellas  20 non-null     object \n",
      "dtypes: float64(1), object(3)\n",
      "memory usage: 768.0+ bytes\n"
     ]
    }
   ],
   "source": [
    "df = pd.DataFrame(data)\n",
    "\n",
    "df.info()"
   ]
  },
  {
   "cell_type": "code",
   "execution_count": 308,
   "id": "0a852a91",
   "metadata": {},
   "outputs": [
    {
     "data": {
      "text/plain": [
       "array(['Three', 'One', 'Four', 'Five', 'Two'], dtype=object)"
      ]
     },
     "execution_count": 308,
     "metadata": {},
     "output_type": "execute_result"
    }
   ],
   "source": [
    "df.estrellas.unique()"
   ]
  },
  {
   "cell_type": "code",
   "execution_count": 309,
   "id": "01f49102",
   "metadata": {},
   "outputs": [],
   "source": [
    "dictio = {'Three': 3, 'One': 1, 'Four': 4, 'Five': 5, 'Two': 2}\n",
    "\n",
    "df.estrellas = df.estrellas.apply(lambda x: dictio[x])"
   ]
  },
  {
   "cell_type": "code",
   "execution_count": 310,
   "id": "f5856014",
   "metadata": {},
   "outputs": [
    {
     "data": {
      "text/html": [
       "<div>\n",
       "<style scoped>\n",
       "    .dataframe tbody tr th:only-of-type {\n",
       "        vertical-align: middle;\n",
       "    }\n",
       "\n",
       "    .dataframe tbody tr th {\n",
       "        vertical-align: top;\n",
       "    }\n",
       "\n",
       "    .dataframe thead th {\n",
       "        text-align: right;\n",
       "    }\n",
       "</style>\n",
       "<table border=\"1\" class=\"dataframe\">\n",
       "  <thead>\n",
       "    <tr style=\"text-align: right;\">\n",
       "      <th></th>\n",
       "      <th>nombre</th>\n",
       "      <th>precio</th>\n",
       "      <th>stock</th>\n",
       "      <th>estrellas</th>\n",
       "    </tr>\n",
       "  </thead>\n",
       "  <tbody>\n",
       "    <tr>\n",
       "      <th>0</th>\n",
       "      <td>A Light in the Attic</td>\n",
       "      <td>51.77</td>\n",
       "      <td>In stock</td>\n",
       "      <td>3</td>\n",
       "    </tr>\n",
       "    <tr>\n",
       "      <th>1</th>\n",
       "      <td>Tipping the Velvet</td>\n",
       "      <td>53.74</td>\n",
       "      <td>In stock</td>\n",
       "      <td>1</td>\n",
       "    </tr>\n",
       "    <tr>\n",
       "      <th>2</th>\n",
       "      <td>Soumission</td>\n",
       "      <td>50.10</td>\n",
       "      <td>In stock</td>\n",
       "      <td>1</td>\n",
       "    </tr>\n",
       "    <tr>\n",
       "      <th>3</th>\n",
       "      <td>Sharp Objects</td>\n",
       "      <td>47.82</td>\n",
       "      <td>In stock</td>\n",
       "      <td>4</td>\n",
       "    </tr>\n",
       "    <tr>\n",
       "      <th>4</th>\n",
       "      <td>Sapiens: A Brief History of Humankind</td>\n",
       "      <td>54.23</td>\n",
       "      <td>In stock</td>\n",
       "      <td>5</td>\n",
       "    </tr>\n",
       "    <tr>\n",
       "      <th>5</th>\n",
       "      <td>The Requiem Red</td>\n",
       "      <td>22.65</td>\n",
       "      <td>In stock</td>\n",
       "      <td>1</td>\n",
       "    </tr>\n",
       "    <tr>\n",
       "      <th>6</th>\n",
       "      <td>The Dirty Little Secrets of Getting Your Dream...</td>\n",
       "      <td>33.34</td>\n",
       "      <td>In stock</td>\n",
       "      <td>4</td>\n",
       "    </tr>\n",
       "    <tr>\n",
       "      <th>7</th>\n",
       "      <td>The Coming Woman: A Novel Based on the Life of...</td>\n",
       "      <td>17.93</td>\n",
       "      <td>In stock</td>\n",
       "      <td>3</td>\n",
       "    </tr>\n",
       "    <tr>\n",
       "      <th>8</th>\n",
       "      <td>The Boys in the Boat: Nine Americans and Their...</td>\n",
       "      <td>22.60</td>\n",
       "      <td>In stock</td>\n",
       "      <td>4</td>\n",
       "    </tr>\n",
       "    <tr>\n",
       "      <th>9</th>\n",
       "      <td>The Black Maria</td>\n",
       "      <td>52.15</td>\n",
       "      <td>In stock</td>\n",
       "      <td>1</td>\n",
       "    </tr>\n",
       "    <tr>\n",
       "      <th>10</th>\n",
       "      <td>Starving Hearts (Triangular Trade Trilogy, #1)</td>\n",
       "      <td>13.99</td>\n",
       "      <td>In stock</td>\n",
       "      <td>2</td>\n",
       "    </tr>\n",
       "    <tr>\n",
       "      <th>11</th>\n",
       "      <td>Shakespeare's Sonnets</td>\n",
       "      <td>20.66</td>\n",
       "      <td>In stock</td>\n",
       "      <td>4</td>\n",
       "    </tr>\n",
       "    <tr>\n",
       "      <th>12</th>\n",
       "      <td>Set Me Free</td>\n",
       "      <td>17.46</td>\n",
       "      <td>In stock</td>\n",
       "      <td>5</td>\n",
       "    </tr>\n",
       "    <tr>\n",
       "      <th>13</th>\n",
       "      <td>Scott Pilgrim's Precious Little Life (Scott Pi...</td>\n",
       "      <td>52.29</td>\n",
       "      <td>In stock</td>\n",
       "      <td>5</td>\n",
       "    </tr>\n",
       "    <tr>\n",
       "      <th>14</th>\n",
       "      <td>Rip it Up and Start Again</td>\n",
       "      <td>35.02</td>\n",
       "      <td>In stock</td>\n",
       "      <td>5</td>\n",
       "    </tr>\n",
       "    <tr>\n",
       "      <th>15</th>\n",
       "      <td>Our Band Could Be Your Life: Scenes from the A...</td>\n",
       "      <td>57.25</td>\n",
       "      <td>In stock</td>\n",
       "      <td>3</td>\n",
       "    </tr>\n",
       "    <tr>\n",
       "      <th>16</th>\n",
       "      <td>Olio</td>\n",
       "      <td>23.88</td>\n",
       "      <td>In stock</td>\n",
       "      <td>1</td>\n",
       "    </tr>\n",
       "    <tr>\n",
       "      <th>17</th>\n",
       "      <td>Mesaerion: The Best Science Fiction Stories 18...</td>\n",
       "      <td>37.59</td>\n",
       "      <td>In stock</td>\n",
       "      <td>1</td>\n",
       "    </tr>\n",
       "    <tr>\n",
       "      <th>18</th>\n",
       "      <td>Libertarianism for Beginners</td>\n",
       "      <td>51.33</td>\n",
       "      <td>In stock</td>\n",
       "      <td>2</td>\n",
       "    </tr>\n",
       "    <tr>\n",
       "      <th>19</th>\n",
       "      <td>It's Only the Himalayas</td>\n",
       "      <td>45.17</td>\n",
       "      <td>In stock</td>\n",
       "      <td>2</td>\n",
       "    </tr>\n",
       "  </tbody>\n",
       "</table>\n",
       "</div>"
      ],
      "text/plain": [
       "                                               nombre  precio     stock  \\\n",
       "0                                A Light in the Attic   51.77  In stock   \n",
       "1                                  Tipping the Velvet   53.74  In stock   \n",
       "2                                          Soumission   50.10  In stock   \n",
       "3                                       Sharp Objects   47.82  In stock   \n",
       "4               Sapiens: A Brief History of Humankind   54.23  In stock   \n",
       "5                                     The Requiem Red   22.65  In stock   \n",
       "6   The Dirty Little Secrets of Getting Your Dream...   33.34  In stock   \n",
       "7   The Coming Woman: A Novel Based on the Life of...   17.93  In stock   \n",
       "8   The Boys in the Boat: Nine Americans and Their...   22.60  In stock   \n",
       "9                                     The Black Maria   52.15  In stock   \n",
       "10     Starving Hearts (Triangular Trade Trilogy, #1)   13.99  In stock   \n",
       "11                              Shakespeare's Sonnets   20.66  In stock   \n",
       "12                                        Set Me Free   17.46  In stock   \n",
       "13  Scott Pilgrim's Precious Little Life (Scott Pi...   52.29  In stock   \n",
       "14                          Rip it Up and Start Again   35.02  In stock   \n",
       "15  Our Band Could Be Your Life: Scenes from the A...   57.25  In stock   \n",
       "16                                               Olio   23.88  In stock   \n",
       "17  Mesaerion: The Best Science Fiction Stories 18...   37.59  In stock   \n",
       "18                       Libertarianism for Beginners   51.33  In stock   \n",
       "19                            It's Only the Himalayas   45.17  In stock   \n",
       "\n",
       "    estrellas  \n",
       "0           3  \n",
       "1           1  \n",
       "2           1  \n",
       "3           4  \n",
       "4           5  \n",
       "5           1  \n",
       "6           4  \n",
       "7           3  \n",
       "8           4  \n",
       "9           1  \n",
       "10          2  \n",
       "11          4  \n",
       "12          5  \n",
       "13          5  \n",
       "14          5  \n",
       "15          3  \n",
       "16          1  \n",
       "17          1  \n",
       "18          2  \n",
       "19          2  "
      ]
     },
     "execution_count": 310,
     "metadata": {},
     "output_type": "execute_result"
    }
   ],
   "source": [
    "df"
   ]
  },
  {
   "cell_type": "code",
   "execution_count": 314,
   "id": "a9c0b3ad",
   "metadata": {},
   "outputs": [
    {
     "name": "stderr",
     "output_type": "stream",
     "text": [
      "/var/folders/95/ms6dwls51ls1jq0t456d3r200000gn/T/ipykernel_36398/2712564179.py:6: DeprecationWarning: executable_path has been deprecated, please pass in a Service object\n",
      "  driver = webdriver.Chrome(PATH)\n"
     ]
    },
    {
     "ename": "NoSuchElementException",
     "evalue": "Message: no such element: Unable to locate element: {\"method\":\"css selector\",\"selector\":\"#default > div > div > div > div > section > div:nth-child(2) > div > ul > li.next > a\"}\n  (Session info: chrome=122.0.6261.69)\nStacktrace:\n0   chromedriver                        0x00000001046d67dc chromedriver + 4040668\n1   chromedriver                        0x00000001046ce9e0 chromedriver + 4008416\n2   chromedriver                        0x0000000104341870 chromedriver + 284784\n3   chromedriver                        0x0000000104385080 chromedriver + 561280\n4   chromedriver                        0x00000001043bf048 chromedriver + 798792\n5   chromedriver                        0x000000010437974c chromedriver + 513868\n6   chromedriver                        0x000000010437a044 chromedriver + 516164\n7   chromedriver                        0x000000010469ba04 chromedriver + 3799556\n8   chromedriver                        0x000000010469fee4 chromedriver + 3817188\n9   chromedriver                        0x0000000104684260 chromedriver + 3703392\n10  chromedriver                        0x00000001046a0a2c chromedriver + 3820076\n11  chromedriver                        0x000000010467701c chromedriver + 3649564\n12  chromedriver                        0x00000001046bde3c chromedriver + 3939900\n13  chromedriver                        0x00000001046bdfb4 chromedriver + 3940276\n14  chromedriver                        0x00000001046ce660 chromedriver + 4007520\n15  libsystem_pthread.dylib             0x000000019d8d7fa8 _pthread_start + 148\n16  libsystem_pthread.dylib             0x000000019d8d2da0 thread_start + 8\n",
     "output_type": "error",
     "traceback": [
      "\u001b[0;31m---------------------------------------------------------------------------\u001b[0m",
      "\u001b[0;31mNoSuchElementException\u001b[0m                    Traceback (most recent call last)",
      "Cell \u001b[0;32mIn[314], line 30\u001b[0m\n\u001b[1;32m     20\u001b[0m     dictio \u001b[38;5;241m=\u001b[39m {\u001b[38;5;124m'\u001b[39m\u001b[38;5;124mnombre\u001b[39m\u001b[38;5;124m'\u001b[39m: l\u001b[38;5;241m.\u001b[39mfind_element(By\u001b[38;5;241m.\u001b[39mTAG_NAME, \u001b[38;5;124m'\u001b[39m\u001b[38;5;124mh3\u001b[39m\u001b[38;5;124m'\u001b[39m)\u001b[38;5;241m.\u001b[39mfind_element(By\u001b[38;5;241m.\u001b[39mTAG_NAME, \u001b[38;5;124m'\u001b[39m\u001b[38;5;124ma\u001b[39m\u001b[38;5;124m'\u001b[39m)\u001b[38;5;241m.\u001b[39mget_attribute(\u001b[38;5;124m'\u001b[39m\u001b[38;5;124mtitle\u001b[39m\u001b[38;5;124m'\u001b[39m),\n\u001b[1;32m     21\u001b[0m               \u001b[38;5;124m'\u001b[39m\u001b[38;5;124mprecio\u001b[39m\u001b[38;5;124m'\u001b[39m: \u001b[38;5;28mfloat\u001b[39m(l\u001b[38;5;241m.\u001b[39mfind_elements(By\u001b[38;5;241m.\u001b[39mTAG_NAME, \u001b[38;5;124m'\u001b[39m\u001b[38;5;124mp\u001b[39m\u001b[38;5;124m'\u001b[39m)[\u001b[38;5;241m1\u001b[39m]\u001b[38;5;241m.\u001b[39mtext[\u001b[38;5;241m1\u001b[39m:]),\n\u001b[1;32m     22\u001b[0m               \u001b[38;5;124m'\u001b[39m\u001b[38;5;124mstock\u001b[39m\u001b[38;5;124m'\u001b[39m: l\u001b[38;5;241m.\u001b[39mfind_elements(By\u001b[38;5;241m.\u001b[39mTAG_NAME, \u001b[38;5;124m'\u001b[39m\u001b[38;5;124mp\u001b[39m\u001b[38;5;124m'\u001b[39m)[\u001b[38;5;241m2\u001b[39m]\u001b[38;5;241m.\u001b[39mtext,\n\u001b[1;32m     23\u001b[0m               \u001b[38;5;124m'\u001b[39m\u001b[38;5;124mestrellas\u001b[39m\u001b[38;5;124m'\u001b[39m: l\u001b[38;5;241m.\u001b[39mfind_elements(By\u001b[38;5;241m.\u001b[39mTAG_NAME, \u001b[38;5;124m'\u001b[39m\u001b[38;5;124mp\u001b[39m\u001b[38;5;124m'\u001b[39m)[\u001b[38;5;241m0\u001b[39m]\u001b[38;5;241m.\u001b[39mget_attribute(\u001b[38;5;124m'\u001b[39m\u001b[38;5;124mclass\u001b[39m\u001b[38;5;124m'\u001b[39m)\u001b[38;5;241m.\u001b[39msplit()[\u001b[38;5;241m-\u001b[39m\u001b[38;5;241m1\u001b[39m]\n\u001b[1;32m     24\u001b[0m \n\u001b[1;32m     25\u001b[0m              }\n\u001b[1;32m     27\u001b[0m     data\u001b[38;5;241m.\u001b[39mappend(dictio)\n\u001b[0;32m---> 30\u001b[0m boton \u001b[38;5;241m=\u001b[39m \u001b[43mdriver\u001b[49m\u001b[38;5;241;43m.\u001b[39;49m\u001b[43mfind_element\u001b[49m\u001b[43m(\u001b[49m\u001b[43mBy\u001b[49m\u001b[38;5;241;43m.\u001b[39;49m\u001b[43mCSS_SELECTOR\u001b[49m\u001b[43m,\u001b[49m\u001b[43m \u001b[49m\u001b[38;5;124;43m'\u001b[39;49m\u001b[38;5;124;43m#default > div > div > div > div > section > div:nth-child(2) > div > ul > li.next > a\u001b[39;49m\u001b[38;5;124;43m'\u001b[39;49m\u001b[43m)\u001b[49m\n\u001b[1;32m     32\u001b[0m boton\u001b[38;5;241m.\u001b[39mclick()\n\u001b[1;32m     34\u001b[0m time\u001b[38;5;241m.\u001b[39msleep(\u001b[38;5;241m1\u001b[39m)\n",
      "File \u001b[0;32m/opt/homebrew/Caskroom/miniconda/base/envs/clase/lib/python3.9/site-packages/selenium/webdriver/remote/webdriver.py:830\u001b[0m, in \u001b[0;36mWebDriver.find_element\u001b[0;34m(self, by, value)\u001b[0m\n\u001b[1;32m    827\u001b[0m     by \u001b[38;5;241m=\u001b[39m By\u001b[38;5;241m.\u001b[39mCSS_SELECTOR\n\u001b[1;32m    828\u001b[0m     value \u001b[38;5;241m=\u001b[39m \u001b[38;5;124mf\u001b[39m\u001b[38;5;124m'\u001b[39m\u001b[38;5;124m[name=\u001b[39m\u001b[38;5;124m\"\u001b[39m\u001b[38;5;132;01m{\u001b[39;00mvalue\u001b[38;5;132;01m}\u001b[39;00m\u001b[38;5;124m\"\u001b[39m\u001b[38;5;124m]\u001b[39m\u001b[38;5;124m'\u001b[39m\n\u001b[0;32m--> 830\u001b[0m \u001b[38;5;28;01mreturn\u001b[39;00m \u001b[38;5;28;43mself\u001b[39;49m\u001b[38;5;241;43m.\u001b[39;49m\u001b[43mexecute\u001b[49m\u001b[43m(\u001b[49m\u001b[43mCommand\u001b[49m\u001b[38;5;241;43m.\u001b[39;49m\u001b[43mFIND_ELEMENT\u001b[49m\u001b[43m,\u001b[49m\u001b[43m \u001b[49m\u001b[43m{\u001b[49m\u001b[38;5;124;43m\"\u001b[39;49m\u001b[38;5;124;43musing\u001b[39;49m\u001b[38;5;124;43m\"\u001b[39;49m\u001b[43m:\u001b[49m\u001b[43m \u001b[49m\u001b[43mby\u001b[49m\u001b[43m,\u001b[49m\u001b[43m \u001b[49m\u001b[38;5;124;43m\"\u001b[39;49m\u001b[38;5;124;43mvalue\u001b[39;49m\u001b[38;5;124;43m\"\u001b[39;49m\u001b[43m:\u001b[49m\u001b[43m \u001b[49m\u001b[43mvalue\u001b[49m\u001b[43m}\u001b[49m\u001b[43m)\u001b[49m[\u001b[38;5;124m\"\u001b[39m\u001b[38;5;124mvalue\u001b[39m\u001b[38;5;124m\"\u001b[39m]\n",
      "File \u001b[0;32m/opt/homebrew/Caskroom/miniconda/base/envs/clase/lib/python3.9/site-packages/selenium/webdriver/remote/webdriver.py:440\u001b[0m, in \u001b[0;36mWebDriver.execute\u001b[0;34m(self, driver_command, params)\u001b[0m\n\u001b[1;32m    438\u001b[0m response \u001b[38;5;241m=\u001b[39m \u001b[38;5;28mself\u001b[39m\u001b[38;5;241m.\u001b[39mcommand_executor\u001b[38;5;241m.\u001b[39mexecute(driver_command, params)\n\u001b[1;32m    439\u001b[0m \u001b[38;5;28;01mif\u001b[39;00m response:\n\u001b[0;32m--> 440\u001b[0m     \u001b[38;5;28;43mself\u001b[39;49m\u001b[38;5;241;43m.\u001b[39;49m\u001b[43merror_handler\u001b[49m\u001b[38;5;241;43m.\u001b[39;49m\u001b[43mcheck_response\u001b[49m\u001b[43m(\u001b[49m\u001b[43mresponse\u001b[49m\u001b[43m)\u001b[49m\n\u001b[1;32m    441\u001b[0m     response[\u001b[38;5;124m\"\u001b[39m\u001b[38;5;124mvalue\u001b[39m\u001b[38;5;124m\"\u001b[39m] \u001b[38;5;241m=\u001b[39m \u001b[38;5;28mself\u001b[39m\u001b[38;5;241m.\u001b[39m_unwrap_value(response\u001b[38;5;241m.\u001b[39mget(\u001b[38;5;124m\"\u001b[39m\u001b[38;5;124mvalue\u001b[39m\u001b[38;5;124m\"\u001b[39m, \u001b[38;5;28;01mNone\u001b[39;00m))\n\u001b[1;32m    442\u001b[0m     \u001b[38;5;28;01mreturn\u001b[39;00m response\n",
      "File \u001b[0;32m/opt/homebrew/Caskroom/miniconda/base/envs/clase/lib/python3.9/site-packages/selenium/webdriver/remote/errorhandler.py:245\u001b[0m, in \u001b[0;36mErrorHandler.check_response\u001b[0;34m(self, response)\u001b[0m\n\u001b[1;32m    243\u001b[0m         alert_text \u001b[38;5;241m=\u001b[39m value[\u001b[38;5;124m\"\u001b[39m\u001b[38;5;124malert\u001b[39m\u001b[38;5;124m\"\u001b[39m]\u001b[38;5;241m.\u001b[39mget(\u001b[38;5;124m\"\u001b[39m\u001b[38;5;124mtext\u001b[39m\u001b[38;5;124m\"\u001b[39m)\n\u001b[1;32m    244\u001b[0m     \u001b[38;5;28;01mraise\u001b[39;00m exception_class(message, screen, stacktrace, alert_text)  \u001b[38;5;66;03m# type: ignore[call-arg]  # mypy is not smart enough here\u001b[39;00m\n\u001b[0;32m--> 245\u001b[0m \u001b[38;5;28;01mraise\u001b[39;00m exception_class(message, screen, stacktrace)\n",
      "\u001b[0;31mNoSuchElementException\u001b[0m: Message: no such element: Unable to locate element: {\"method\":\"css selector\",\"selector\":\"#default > div > div > div > div > section > div:nth-child(2) > div > ul > li.next > a\"}\n  (Session info: chrome=122.0.6261.69)\nStacktrace:\n0   chromedriver                        0x00000001046d67dc chromedriver + 4040668\n1   chromedriver                        0x00000001046ce9e0 chromedriver + 4008416\n2   chromedriver                        0x0000000104341870 chromedriver + 284784\n3   chromedriver                        0x0000000104385080 chromedriver + 561280\n4   chromedriver                        0x00000001043bf048 chromedriver + 798792\n5   chromedriver                        0x000000010437974c chromedriver + 513868\n6   chromedriver                        0x000000010437a044 chromedriver + 516164\n7   chromedriver                        0x000000010469ba04 chromedriver + 3799556\n8   chromedriver                        0x000000010469fee4 chromedriver + 3817188\n9   chromedriver                        0x0000000104684260 chromedriver + 3703392\n10  chromedriver                        0x00000001046a0a2c chromedriver + 3820076\n11  chromedriver                        0x000000010467701c chromedriver + 3649564\n12  chromedriver                        0x00000001046bde3c chromedriver + 3939900\n13  chromedriver                        0x00000001046bdfb4 chromedriver + 3940276\n14  chromedriver                        0x00000001046ce660 chromedriver + 4007520\n15  libsystem_pthread.dylib             0x000000019d8d7fa8 _pthread_start + 148\n16  libsystem_pthread.dylib             0x000000019d8d2da0 thread_start + 8\n"
     ]
    }
   ],
   "source": [
    "# todas las paginas\n",
    "\n",
    "\n",
    "url = 'http://books.toscrape.com/'\n",
    "\n",
    "driver = webdriver.Chrome(PATH)\n",
    "\n",
    "\n",
    "driver.get(url)\n",
    "\n",
    "\n",
    "data = []\n",
    "\n",
    "for i in range(50):\n",
    "    \n",
    "    libros = driver.find_element(By.TAG_NAME, 'ol').find_elements(By.TAG_NAME, 'li')\n",
    "    \n",
    "    for l in libros:\n",
    "\n",
    "        dictio = {'nombre': l.find_element(By.TAG_NAME, 'h3').find_element(By.TAG_NAME, 'a').get_attribute('title'),\n",
    "                  'precio': float(l.find_elements(By.TAG_NAME, 'p')[1].text[1:]),\n",
    "                  'stock': l.find_elements(By.TAG_NAME, 'p')[2].text,\n",
    "                  'estrellas': l.find_elements(By.TAG_NAME, 'p')[0].get_attribute('class').split()[-1]\n",
    "\n",
    "                 }\n",
    "\n",
    "        data.append(dictio)\n",
    "        \n",
    "    \n",
    "    if i!=49:  # aqui salio el error, pero el dato esta\n",
    "        boton = driver.find_element(By.CSS_SELECTOR, '#default > div > div > div > div > section > div:nth-child(2) > div > ul > li.next > a')\n",
    "\n",
    "        boton.click()\n",
    "    \n",
    "        time.sleep(1)\n",
    "    \n",
    "    \n",
    "    \n",
    "df = pd.DataFrame(data)\n",
    "\n",
    "dictio = {'Three': 3, 'One': 1, 'Four': 4, 'Five': 5, 'Two': 2}\n",
    "\n",
    "df.estrellas = df.estrellas.apply(lambda x: dictio[x]) \n",
    "\n",
    "\n",
    "df"
   ]
  },
  {
   "cell_type": "code",
   "execution_count": 317,
   "id": "f9cbf764",
   "metadata": {},
   "outputs": [
    {
     "name": "stdout",
     "output_type": "stream",
     "text": [
      "<class 'pandas.core.frame.DataFrame'>\n",
      "RangeIndex: 1000 entries, 0 to 999\n",
      "Data columns (total 4 columns):\n",
      " #   Column     Non-Null Count  Dtype  \n",
      "---  ------     --------------  -----  \n",
      " 0   nombre     1000 non-null   object \n",
      " 1   precio     1000 non-null   float64\n",
      " 2   stock      1000 non-null   object \n",
      " 3   estrellas  1000 non-null   int64  \n",
      "dtypes: float64(1), int64(1), object(2)\n",
      "memory usage: 31.4+ KB\n"
     ]
    }
   ],
   "source": [
    "df = pd.DataFrame(data)\n",
    "\n",
    "dictio = {'Three': 3, 'One': 1, 'Four': 4, 'Five': 5, 'Two': 2}\n",
    "\n",
    "df.estrellas = df.estrellas.apply(lambda x: dictio[x]) \n",
    "\n",
    "\n",
    "df.info()"
   ]
  },
  {
   "cell_type": "code",
   "execution_count": 318,
   "id": "3f152db4",
   "metadata": {},
   "outputs": [],
   "source": [
    "driver.quit()"
   ]
  },
  {
   "cell_type": "code",
   "execution_count": null,
   "id": "8a80947b",
   "metadata": {},
   "outputs": [],
   "source": []
  }
 ],
 "metadata": {
  "kernelspec": {
   "display_name": "clase",
   "language": "python",
   "name": "clase"
  },
  "language_info": {
   "codemirror_mode": {
    "name": "ipython",
    "version": 3
   },
   "file_extension": ".py",
   "mimetype": "text/x-python",
   "name": "python",
   "nbconvert_exporter": "python",
   "pygments_lexer": "ipython3",
   "version": "3.9.12"
  }
 },
 "nbformat": 4,
 "nbformat_minor": 5
}
