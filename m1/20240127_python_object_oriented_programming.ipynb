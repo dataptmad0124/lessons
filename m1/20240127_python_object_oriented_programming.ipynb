{
 "cells": [
  {
   "cell_type": "markdown",
   "id": "276fa5c1",
   "metadata": {},
   "source": [
    "# Object Oriented Programming\n",
    "\n",
    "---\n",
    "\n",
    "- __ABSTRACTION:__ To simplify reality and focus only on the data and processes relevant to the application being built.\n",
    "\n",
    "- __ENCAPSULATION:__ Data and the programs that manipulate those data are bound together and their complexity is hidden.\n",
    "\n",
    "- __INHERITANCE:__ A class can derive methods and properties from another class, resulting in a hierarchy of classes.\n",
    "\n",
    "- __POLYMORPHISM:__ Different subclasses of the same superclass, can implement their shared interface in different ways.\n"
   ]
  },
  {
   "cell_type": "code",
   "execution_count": 2,
   "id": "73dea519",
   "metadata": {},
   "outputs": [],
   "source": [
    "#help(list)"
   ]
  },
  {
   "cell_type": "code",
   "execution_count": 3,
   "id": "36579b06",
   "metadata": {},
   "outputs": [],
   "source": [
    "?object"
   ]
  },
  {
   "cell_type": "code",
   "execution_count": 4,
   "id": "509773d7",
   "metadata": {},
   "outputs": [],
   "source": [
    "?list"
   ]
  },
  {
   "cell_type": "code",
   "execution_count": 6,
   "id": "35093ede",
   "metadata": {},
   "outputs": [],
   "source": [
    "#help(str)"
   ]
  },
  {
   "cell_type": "code",
   "execution_count": 8,
   "id": "140cc631",
   "metadata": {},
   "outputs": [],
   "source": [
    "#help(dict)"
   ]
  },
  {
   "cell_type": "markdown",
   "id": "06c357bb",
   "metadata": {},
   "source": [
    "#### In this lesson we will deal with...\n",
    "\n",
    "- The `__init__()` method or attributes constructor.\n",
    "\n",
    "- Custom methods to change those attributes.\n",
    "\n",
    "- Inheritance "
   ]
  },
  {
   "cell_type": "code",
   "execution_count": 9,
   "id": "082ac7ed",
   "metadata": {},
   "outputs": [
    {
     "data": {
      "text/plain": [
       "[1, 2, 3, 4]"
      ]
     },
     "execution_count": 9,
     "metadata": {},
     "output_type": "execute_result"
    }
   ],
   "source": [
    "lst = [1,2,3,4]\n",
    "\n",
    "lst"
   ]
  },
  {
   "cell_type": "code",
   "execution_count": 10,
   "id": "63733e53",
   "metadata": {},
   "outputs": [
    {
     "data": {
      "text/plain": [
       "4"
      ]
     },
     "execution_count": 10,
     "metadata": {},
     "output_type": "execute_result"
    }
   ],
   "source": [
    "len(lst)"
   ]
  },
  {
   "cell_type": "code",
   "execution_count": 12,
   "id": "110af31e",
   "metadata": {},
   "outputs": [
    {
     "data": {
      "text/plain": [
       "4"
      ]
     },
     "execution_count": 12,
     "metadata": {},
     "output_type": "execute_result"
    }
   ],
   "source": [
    "lst.__len__()"
   ]
  },
  {
   "cell_type": "code",
   "execution_count": 14,
   "id": "1979f141",
   "metadata": {},
   "outputs": [],
   "source": [
    "lst.append(8)"
   ]
  },
  {
   "cell_type": "code",
   "execution_count": 15,
   "id": "15de3a29",
   "metadata": {},
   "outputs": [
    {
     "data": {
      "text/plain": [
       "[1, 2, 3, 4, 8]"
      ]
     },
     "execution_count": 15,
     "metadata": {},
     "output_type": "execute_result"
    }
   ],
   "source": [
    "lst"
   ]
  },
  {
   "cell_type": "markdown",
   "id": "2b4bb8c1",
   "metadata": {},
   "source": [
    "---"
   ]
  },
  {
   "cell_type": "markdown",
   "id": "5b584f38",
   "metadata": {},
   "source": [
    "## Attributes (i.e.: the `__init__()` method)"
   ]
  },
  {
   "cell_type": "code",
   "execution_count": 16,
   "id": "cf1dcc5b",
   "metadata": {},
   "outputs": [],
   "source": [
    "import random"
   ]
  },
  {
   "cell_type": "code",
   "execution_count": 34,
   "id": "ce8c8521",
   "metadata": {},
   "outputs": [],
   "source": [
    "# la primera con mayuscula, buenas practicas\n",
    "\n",
    "class Dog(object):   # esto es el molde\n",
    "    \n",
    "    GENDER = ['male', 'female']  # es una cte, todo en mayus\n",
    "    \n",
    "    \n",
    "    # definicion atributos, metodo constructor\n",
    "    \n",
    "    def __init__(self,   # self no es un parametro de entrada, es la autoreferencia\n",
    "                 name,\n",
    "                 breed,\n",
    "                 age,\n",
    "                 weight='5 kg'\n",
    "                ):\n",
    "        \n",
    "        # atributos (datos del objeto)\n",
    "        self.name = name\n",
    "        self.breed = breed\n",
    "        self.age = age\n",
    "        self.weight = weight\n",
    "        self.gender = random.choice(self.GENDER)\n",
    "    \n",
    "    "
   ]
  },
  {
   "cell_type": "code",
   "execution_count": 18,
   "id": "5a3d0113",
   "metadata": {},
   "outputs": [],
   "source": [
    "# creo una instancia, una copia en particular, un perro individual\n",
    "\n",
    "penny = Dog(name = 'Penny',\n",
    "            breed = 'pug',\n",
    "            age = 7,\n",
    "            weight = '7 kg'\n",
    "           )"
   ]
  },
  {
   "cell_type": "markdown",
   "id": "2f1d430c",
   "metadata": {},
   "source": [
    "![penny](http://www.potacho.com/wp-content/uploads/2014/05/06-05_01.jpg)"
   ]
  },
  {
   "cell_type": "code",
   "execution_count": 19,
   "id": "59b1636b",
   "metadata": {},
   "outputs": [
    {
     "data": {
      "text/plain": [
       "<__main__.Dog at 0x103c195e0>"
      ]
     },
     "execution_count": 19,
     "metadata": {},
     "output_type": "execute_result"
    }
   ],
   "source": [
    "penny"
   ]
  },
  {
   "cell_type": "code",
   "execution_count": 21,
   "id": "284666b5",
   "metadata": {},
   "outputs": [
    {
     "data": {
      "text/plain": [
       "'Penny'"
      ]
     },
     "execution_count": 21,
     "metadata": {},
     "output_type": "execute_result"
    }
   ],
   "source": [
    "penny.name   # atributo nombre"
   ]
  },
  {
   "cell_type": "code",
   "execution_count": 22,
   "id": "c4b28951",
   "metadata": {},
   "outputs": [
    {
     "data": {
      "text/plain": [
       "'female'"
      ]
     },
     "execution_count": 22,
     "metadata": {},
     "output_type": "execute_result"
    }
   ],
   "source": [
    "penny.gender"
   ]
  },
  {
   "cell_type": "code",
   "execution_count": 23,
   "id": "f60fd827",
   "metadata": {},
   "outputs": [
    {
     "data": {
      "text/plain": [
       "'7 kg'"
      ]
     },
     "execution_count": 23,
     "metadata": {},
     "output_type": "execute_result"
    }
   ],
   "source": [
    "penny.weight"
   ]
  },
  {
   "cell_type": "code",
   "execution_count": 24,
   "id": "bfeb21c4",
   "metadata": {},
   "outputs": [
    {
     "data": {
      "text/plain": [
       "str"
      ]
     },
     "execution_count": 24,
     "metadata": {},
     "output_type": "execute_result"
    }
   ],
   "source": [
    "type(penny.weight)"
   ]
  },
  {
   "cell_type": "code",
   "execution_count": 25,
   "id": "63a14bef",
   "metadata": {},
   "outputs": [
    {
     "data": {
      "text/plain": [
       "7"
      ]
     },
     "execution_count": 25,
     "metadata": {},
     "output_type": "execute_result"
    }
   ],
   "source": [
    "penny.age"
   ]
  },
  {
   "cell_type": "code",
   "execution_count": 26,
   "id": "2f8389b0",
   "metadata": {},
   "outputs": [
    {
     "data": {
      "text/plain": [
       "int"
      ]
     },
     "execution_count": 26,
     "metadata": {},
     "output_type": "execute_result"
    }
   ],
   "source": [
    "type(penny.age)"
   ]
  },
  {
   "cell_type": "code",
   "execution_count": 28,
   "id": "f696f38e",
   "metadata": {},
   "outputs": [],
   "source": [
    "rex = Dog(name = 'Rex',\n",
    "            breed = 'german',\n",
    "            age = 2,\n",
    "            weight = '14 kg')"
   ]
  },
  {
   "cell_type": "code",
   "execution_count": 29,
   "id": "3f002012",
   "metadata": {},
   "outputs": [
    {
     "data": {
      "text/plain": [
       "<__main__.Dog at 0x10413eb50>"
      ]
     },
     "execution_count": 29,
     "metadata": {},
     "output_type": "execute_result"
    }
   ],
   "source": [
    "rex"
   ]
  },
  {
   "cell_type": "code",
   "execution_count": 30,
   "id": "b6be5387",
   "metadata": {},
   "outputs": [
    {
     "data": {
      "text/plain": [
       "'Rex'"
      ]
     },
     "execution_count": 30,
     "metadata": {},
     "output_type": "execute_result"
    }
   ],
   "source": [
    "rex.name"
   ]
  },
  {
   "cell_type": "code",
   "execution_count": 31,
   "id": "eaa69658",
   "metadata": {},
   "outputs": [
    {
     "data": {
      "text/plain": [
       "2"
      ]
     },
     "execution_count": 31,
     "metadata": {},
     "output_type": "execute_result"
    }
   ],
   "source": [
    "rex.age"
   ]
  },
  {
   "cell_type": "code",
   "execution_count": 32,
   "id": "c5e7794c",
   "metadata": {},
   "outputs": [
    {
     "data": {
      "text/plain": [
       "'14 kg'"
      ]
     },
     "execution_count": 32,
     "metadata": {},
     "output_type": "execute_result"
    }
   ],
   "source": [
    "rex.weight"
   ]
  },
  {
   "cell_type": "code",
   "execution_count": 36,
   "id": "a5f0635b",
   "metadata": {},
   "outputs": [],
   "source": [
    "perro = Dog(name = 'Rex',\n",
    "            breed = 'german',\n",
    "            age = 2)"
   ]
  },
  {
   "cell_type": "code",
   "execution_count": 37,
   "id": "a863106d",
   "metadata": {},
   "outputs": [
    {
     "data": {
      "text/plain": [
       "'5 kg'"
      ]
     },
     "execution_count": 37,
     "metadata": {},
     "output_type": "execute_result"
    }
   ],
   "source": [
    "perro.weight"
   ]
  },
  {
   "cell_type": "markdown",
   "id": "9240fdbe",
   "metadata": {},
   "source": [
    "---"
   ]
  },
  {
   "cell_type": "markdown",
   "id": "dc28cca1",
   "metadata": {},
   "source": [
    "## Methods (i.e.: functions)"
   ]
  },
  {
   "cell_type": "code",
   "execution_count": 38,
   "id": "70c7e7b2",
   "metadata": {},
   "outputs": [
    {
     "data": {
      "text/plain": [
       "'Yona'"
      ]
     },
     "execution_count": 38,
     "metadata": {},
     "output_type": "execute_result"
    }
   ],
   "source": [
    "nombre = 'yona'\n",
    "\n",
    "nombre.capitalize()   # metodo (funciondentro del objeto)"
   ]
  },
  {
   "cell_type": "code",
   "execution_count": 39,
   "id": "323b385f",
   "metadata": {},
   "outputs": [
    {
     "data": {
      "text/plain": [
       "<function str.capitalize()>"
      ]
     },
     "execution_count": 39,
     "metadata": {},
     "output_type": "execute_result"
    }
   ],
   "source": [
    "nombre.capitalize"
   ]
  },
  {
   "cell_type": "code",
   "execution_count": 41,
   "id": "74d7d01c",
   "metadata": {},
   "outputs": [
    {
     "data": {
      "text/plain": [
       "['y', 'na']"
      ]
     },
     "execution_count": 41,
     "metadata": {},
     "output_type": "execute_result"
    }
   ],
   "source": [
    "nombre.split('o')"
   ]
  },
  {
   "cell_type": "markdown",
   "id": "76cdb3d6",
   "metadata": {},
   "source": [
    "---"
   ]
  },
  {
   "cell_type": "code",
   "execution_count": 99,
   "id": "603f0703",
   "metadata": {},
   "outputs": [],
   "source": [
    "# la primera con mayuscula, buenas practicas\n",
    "\n",
    "class Dog(object):   # esto es el molde\n",
    "    \n",
    "    GENDER = ['male', 'female']  # es una cte, todo en mayus\n",
    "    \n",
    "    \n",
    "    # definicion atributos, metodo constructor\n",
    "    \n",
    "    def __init__(self,   # self no es un parametro de entrada, es la autoreferencia\n",
    "                 name,\n",
    "                 breed,\n",
    "                 age,\n",
    "                 weight='5 kg'\n",
    "                ):\n",
    "        \n",
    "        # atributos (datos del objeto)\n",
    "        self.name = name\n",
    "        self.breed = breed\n",
    "        self.age = age\n",
    "        self.weight = weight\n",
    "        self.gender = random.choice(self.GENDER)\n",
    "    \n",
    "    \n",
    "    \n",
    "    def eat(self, amount):\n",
    "        \n",
    "        \"\"\"\n",
    "        Es bueno documentar las cosas.\n",
    "        \n",
    "        Aqui podriamos poner toda la explicacion\n",
    "        \n",
    "        \"\"\"\n",
    "        \n",
    "        display(f'{self.name} pesaba {self.weight}')\n",
    "        \n",
    "        new_weight = int(self.weight.split(' ')[0])\n",
    "        \n",
    "        new_weight += amount\n",
    "        \n",
    "        self.weight = f'{new_weight} kg'"
   ]
  },
  {
   "cell_type": "code",
   "execution_count": 47,
   "id": "eee926e3",
   "metadata": {},
   "outputs": [],
   "source": [
    "# creo una instancia, una copia en particular, un perro individual\n",
    "\n",
    "penny = Dog(name = 'Penny',\n",
    "            breed = 'pug',\n",
    "            age = 7,\n",
    "            weight = '7 kg'\n",
    "           )"
   ]
  },
  {
   "cell_type": "code",
   "execution_count": 48,
   "id": "4404ca7c",
   "metadata": {},
   "outputs": [
    {
     "data": {
      "text/plain": [
       "'Penny'"
      ]
     },
     "execution_count": 48,
     "metadata": {},
     "output_type": "execute_result"
    }
   ],
   "source": [
    "penny.name"
   ]
  },
  {
   "cell_type": "code",
   "execution_count": 49,
   "id": "44dd1390",
   "metadata": {},
   "outputs": [
    {
     "data": {
      "text/plain": [
       "'7 kg'"
      ]
     },
     "execution_count": 49,
     "metadata": {},
     "output_type": "execute_result"
    }
   ],
   "source": [
    "penny.weight"
   ]
  },
  {
   "cell_type": "code",
   "execution_count": 50,
   "id": "ce6452c9",
   "metadata": {},
   "outputs": [
    {
     "name": "stdout",
     "output_type": "stream",
     "text": [
      "Penny pesaba 7 kg\n"
     ]
    }
   ],
   "source": [
    "penny.eat(1)"
   ]
  },
  {
   "cell_type": "code",
   "execution_count": 51,
   "id": "48e22ccc",
   "metadata": {},
   "outputs": [
    {
     "data": {
      "text/plain": [
       "'8 kg'"
      ]
     },
     "execution_count": 51,
     "metadata": {},
     "output_type": "execute_result"
    }
   ],
   "source": [
    "penny.weight"
   ]
  },
  {
   "cell_type": "code",
   "execution_count": 52,
   "id": "357150a4",
   "metadata": {},
   "outputs": [
    {
     "name": "stdout",
     "output_type": "stream",
     "text": [
      "Penny pesaba 8 kg\n"
     ]
    }
   ],
   "source": [
    "var = penny.eat(1)"
   ]
  },
  {
   "cell_type": "code",
   "execution_count": 53,
   "id": "308c6ff4",
   "metadata": {},
   "outputs": [
    {
     "name": "stdout",
     "output_type": "stream",
     "text": [
      "None\n"
     ]
    }
   ],
   "source": [
    "print(var)"
   ]
  },
  {
   "cell_type": "code",
   "execution_count": 55,
   "id": "a0fc10c8",
   "metadata": {},
   "outputs": [],
   "source": [
    "var2 = lst.append(9)"
   ]
  },
  {
   "cell_type": "code",
   "execution_count": 56,
   "id": "d651a2ee",
   "metadata": {},
   "outputs": [
    {
     "data": {
      "text/plain": [
       "[1, 2, 3, 4, 8, 9]"
      ]
     },
     "execution_count": 56,
     "metadata": {},
     "output_type": "execute_result"
    }
   ],
   "source": [
    "lst"
   ]
  },
  {
   "cell_type": "code",
   "execution_count": 57,
   "id": "b368426e",
   "metadata": {},
   "outputs": [
    {
     "name": "stdout",
     "output_type": "stream",
     "text": [
      "None\n"
     ]
    }
   ],
   "source": [
    "print(var2)"
   ]
  },
  {
   "cell_type": "markdown",
   "id": "1dd9d1d9",
   "metadata": {},
   "source": [
    "---"
   ]
  },
  {
   "cell_type": "code",
   "execution_count": 58,
   "id": "57d57cf9",
   "metadata": {},
   "outputs": [
    {
     "data": {
      "text/plain": [
       "mappingproxy({'__module__': '__main__',\n",
       "              'GENDER': ['male', 'female'],\n",
       "              '__init__': <function __main__.Dog.__init__(self, name, breed, age, weight='5 kg')>,\n",
       "              'eat': <function __main__.Dog.eat(self, amount)>,\n",
       "              '__dict__': <attribute '__dict__' of 'Dog' objects>,\n",
       "              '__weakref__': <attribute '__weakref__' of 'Dog' objects>,\n",
       "              '__doc__': None})"
      ]
     },
     "execution_count": 58,
     "metadata": {},
     "output_type": "execute_result"
    }
   ],
   "source": [
    "Dog.__dict__"
   ]
  },
  {
   "cell_type": "code",
   "execution_count": 61,
   "id": "bcc78f10",
   "metadata": {},
   "outputs": [
    {
     "name": "stdout",
     "output_type": "stream",
     "text": [
      "Help on class Dog in module __main__:\n",
      "\n",
      "class Dog(builtins.object)\n",
      " |  Dog(name, breed, age, weight='5 kg')\n",
      " |  \n",
      " |  Methods defined here:\n",
      " |  \n",
      " |  __init__(self, name, breed, age, weight='5 kg')\n",
      " |      Initialize self.  See help(type(self)) for accurate signature.\n",
      " |  \n",
      " |  eat(self, amount)\n",
      " |      Es bueno documentar las cosas.\n",
      " |      \n",
      " |      Aqui podriamos poner toda la explicacion\n",
      " |  \n",
      " |  ----------------------------------------------------------------------\n",
      " |  Data descriptors defined here:\n",
      " |  \n",
      " |  __dict__\n",
      " |      dictionary for instance variables (if defined)\n",
      " |  \n",
      " |  __weakref__\n",
      " |      list of weak references to the object (if defined)\n",
      " |  \n",
      " |  ----------------------------------------------------------------------\n",
      " |  Data and other attributes defined here:\n",
      " |  \n",
      " |  GENDER = ['male', 'female']\n",
      "\n"
     ]
    }
   ],
   "source": [
    "help(Dog)"
   ]
  },
  {
   "cell_type": "code",
   "execution_count": 63,
   "id": "94769769",
   "metadata": {},
   "outputs": [],
   "source": [
    "#help(list)"
   ]
  },
  {
   "cell_type": "code",
   "execution_count": 65,
   "id": "13d6f5fe",
   "metadata": {},
   "outputs": [
    {
     "data": {
      "text/plain": [
       "{'name': 'Penny',\n",
       " 'breed': 'pug',\n",
       " 'age': 7,\n",
       " 'weight': '9 kg',\n",
       " 'gender': 'female'}"
      ]
     },
     "execution_count": 65,
     "metadata": {},
     "output_type": "execute_result"
    }
   ],
   "source": [
    "penny.__dict__"
   ]
  },
  {
   "cell_type": "code",
   "execution_count": 66,
   "id": "269c1ee8",
   "metadata": {},
   "outputs": [
    {
     "data": {
      "text/plain": [
       "'female'"
      ]
     },
     "execution_count": 66,
     "metadata": {},
     "output_type": "execute_result"
    }
   ],
   "source": [
    "penny.__dict__['gender']"
   ]
  },
  {
   "cell_type": "code",
   "execution_count": 71,
   "id": "6bbecb03",
   "metadata": {},
   "outputs": [],
   "source": [
    "#help(lst)"
   ]
  },
  {
   "cell_type": "code",
   "execution_count": 72,
   "id": "7ef70ada",
   "metadata": {},
   "outputs": [
    {
     "ename": "AttributeError",
     "evalue": "'list' object has no attribute '__dict__'",
     "output_type": "error",
     "traceback": [
      "\u001b[0;31m---------------------------------------------------------------------------\u001b[0m",
      "\u001b[0;31mAttributeError\u001b[0m                            Traceback (most recent call last)",
      "Cell \u001b[0;32mIn[72], line 1\u001b[0m\n\u001b[0;32m----> 1\u001b[0m \u001b[43mlst\u001b[49m\u001b[38;5;241;43m.\u001b[39;49m\u001b[38;5;18;43m__dict__\u001b[39;49m \u001b[38;5;241m=\u001b[39m {\u001b[38;5;124m'\u001b[39m\u001b[38;5;124ma\u001b[39m\u001b[38;5;124m'\u001b[39m: \u001b[38;5;241m1\u001b[39m}\n",
      "\u001b[0;31mAttributeError\u001b[0m: 'list' object has no attribute '__dict__'"
     ]
    }
   ],
   "source": [
    "lst.__dict__ = {'a': 1}"
   ]
  },
  {
   "cell_type": "code",
   "execution_count": 73,
   "id": "40bee729",
   "metadata": {},
   "outputs": [],
   "source": [
    "penny.__dict__ = {'a': 1}"
   ]
  },
  {
   "cell_type": "code",
   "execution_count": 74,
   "id": "8a1dadaa",
   "metadata": {},
   "outputs": [
    {
     "data": {
      "text/plain": [
       "{'a': 1}"
      ]
     },
     "execution_count": 74,
     "metadata": {},
     "output_type": "execute_result"
    }
   ],
   "source": [
    "penny.__dict__"
   ]
  },
  {
   "cell_type": "code",
   "execution_count": 75,
   "id": "b1004844",
   "metadata": {},
   "outputs": [],
   "source": [
    "print = 90"
   ]
  },
  {
   "cell_type": "code",
   "execution_count": 77,
   "id": "9b027bac",
   "metadata": {},
   "outputs": [
    {
     "ename": "TypeError",
     "evalue": "'int' object is not callable",
     "output_type": "error",
     "traceback": [
      "\u001b[0;31m---------------------------------------------------------------------------\u001b[0m",
      "\u001b[0;31mTypeError\u001b[0m                                 Traceback (most recent call last)",
      "Cell \u001b[0;32mIn[77], line 1\u001b[0m\n\u001b[0;32m----> 1\u001b[0m \u001b[38;5;28;43mprint\u001b[39;49m\u001b[43m(\u001b[49m\u001b[38;5;124;43m'\u001b[39;49m\u001b[38;5;124;43mhola\u001b[39;49m\u001b[38;5;124;43m'\u001b[39;49m\u001b[43m)\u001b[49m\n",
      "\u001b[0;31mTypeError\u001b[0m: 'int' object is not callable"
     ]
    }
   ],
   "source": [
    "print('hola')"
   ]
  },
  {
   "cell_type": "code",
   "execution_count": 78,
   "id": "b13bdbc1",
   "metadata": {},
   "outputs": [
    {
     "ename": "TypeError",
     "evalue": "'int' object is not callable",
     "output_type": "error",
     "traceback": [
      "\u001b[0;31m---------------------------------------------------------------------------\u001b[0m",
      "\u001b[0;31mTypeError\u001b[0m                                 Traceback (most recent call last)",
      "Cell \u001b[0;32mIn[78], line 3\u001b[0m\n\u001b[1;32m      1\u001b[0m num \u001b[38;5;241m=\u001b[39m \u001b[38;5;241m90\u001b[39m\n\u001b[0;32m----> 3\u001b[0m \u001b[43mnum\u001b[49m\u001b[43m(\u001b[49m\u001b[38;5;124;43m'\u001b[39;49m\u001b[38;5;124;43mhola\u001b[39;49m\u001b[38;5;124;43m'\u001b[39;49m\u001b[43m)\u001b[49m\n",
      "\u001b[0;31mTypeError\u001b[0m: 'int' object is not callable"
     ]
    }
   ],
   "source": [
    "num = 90\n",
    "\n",
    "num('hola')"
   ]
  },
  {
   "cell_type": "code",
   "execution_count": 80,
   "id": "4d48d01d",
   "metadata": {},
   "outputs": [
    {
     "ename": "SyntaxError",
     "evalue": "invalid syntax (3724669921.py, line 1)",
     "output_type": "error",
     "traceback": [
      "\u001b[0;36m  Cell \u001b[0;32mIn[80], line 1\u001b[0;36m\u001b[0m\n\u001b[0;31m    def = 90\u001b[0m\n\u001b[0m        ^\u001b[0m\n\u001b[0;31mSyntaxError\u001b[0m\u001b[0;31m:\u001b[0m invalid syntax\n"
     ]
    }
   ],
   "source": [
    "def = 90"
   ]
  },
  {
   "cell_type": "code",
   "execution_count": 81,
   "id": "cfacccdf",
   "metadata": {},
   "outputs": [
    {
     "ename": "SyntaxError",
     "evalue": "invalid syntax (1955616281.py, line 1)",
     "output_type": "error",
     "traceback": [
      "\u001b[0;36m  Cell \u001b[0;32mIn[81], line 1\u001b[0;36m\u001b[0m\n\u001b[0;31m    class = 90\u001b[0m\n\u001b[0m          ^\u001b[0m\n\u001b[0;31mSyntaxError\u001b[0m\u001b[0;31m:\u001b[0m invalid syntax\n"
     ]
    }
   ],
   "source": [
    "class = 90"
   ]
  },
  {
   "cell_type": "code",
   "execution_count": 82,
   "id": "ba883f44",
   "metadata": {},
   "outputs": [
    {
     "ename": "SyntaxError",
     "evalue": "invalid syntax (60159017.py, line 1)",
     "output_type": "error",
     "traceback": [
      "\u001b[0;36m  Cell \u001b[0;32mIn[82], line 1\u001b[0;36m\u001b[0m\n\u001b[0;31m    lambda = 90\u001b[0m\n\u001b[0m           ^\u001b[0m\n\u001b[0;31mSyntaxError\u001b[0m\u001b[0;31m:\u001b[0m invalid syntax\n"
     ]
    }
   ],
   "source": [
    "lambda = 90"
   ]
  },
  {
   "cell_type": "code",
   "execution_count": 83,
   "id": "f7da6393",
   "metadata": {},
   "outputs": [
    {
     "data": {
      "text/plain": [
       "__main__.Dog"
      ]
     },
     "execution_count": 83,
     "metadata": {},
     "output_type": "execute_result"
    }
   ],
   "source": [
    "Dog"
   ]
  },
  {
   "cell_type": "code",
   "execution_count": 100,
   "id": "16ad5225",
   "metadata": {},
   "outputs": [],
   "source": [
    "class Shepard(Dog):\n",
    "    \n",
    "    \n",
    "    # metodo constructor de los pastores\n",
    "    def __init__(self,   # self no es un parametro de entrada, es la autoreferencia\n",
    "                 name,\n",
    "                 breed,\n",
    "                 age,\n",
    "                 weight\n",
    "                ):\n",
    "        \n",
    "        \n",
    "        # metodo constructor de los perros\n",
    "        super().__init__(name, breed, age, weight)"
   ]
  },
  {
   "cell_type": "code",
   "execution_count": 101,
   "id": "11edf819",
   "metadata": {},
   "outputs": [],
   "source": [
    "rex = Shepard(name = 'REx',\n",
    "              breed = 'pug',\n",
    "              age = 7,\n",
    "              weight = '7 kg'\n",
    "           )"
   ]
  },
  {
   "cell_type": "code",
   "execution_count": 102,
   "id": "a1c9ad69",
   "metadata": {},
   "outputs": [
    {
     "data": {
      "text/plain": [
       "'REx'"
      ]
     },
     "execution_count": 102,
     "metadata": {},
     "output_type": "execute_result"
    }
   ],
   "source": [
    "rex.name"
   ]
  },
  {
   "cell_type": "code",
   "execution_count": 103,
   "id": "4b0c502c",
   "metadata": {},
   "outputs": [
    {
     "data": {
      "text/plain": [
       "7"
      ]
     },
     "execution_count": 103,
     "metadata": {},
     "output_type": "execute_result"
    }
   ],
   "source": [
    "rex.age"
   ]
  },
  {
   "cell_type": "code",
   "execution_count": 104,
   "id": "f67313c3",
   "metadata": {},
   "outputs": [
    {
     "data": {
      "text/plain": [
       "'REx pesaba 7 kg'"
      ]
     },
     "metadata": {},
     "output_type": "display_data"
    }
   ],
   "source": [
    "rex.eat(1)"
   ]
  },
  {
   "cell_type": "code",
   "execution_count": 105,
   "id": "c560e157",
   "metadata": {},
   "outputs": [
    {
     "data": {
      "text/plain": [
       "'8 kg'"
      ]
     },
     "execution_count": 105,
     "metadata": {},
     "output_type": "execute_result"
    }
   ],
   "source": [
    "rex.weight"
   ]
  },
  {
   "cell_type": "code",
   "execution_count": 106,
   "id": "06ddeb50",
   "metadata": {},
   "outputs": [],
   "source": [
    "class Shepard(Dog):   # (Dog) hereda todos los metodos\n",
    "    \n",
    "    \n",
    "    # metodo constructor de los pastores\n",
    "    def __init__(self,   # self no es un parametro de entrada, es la autoreferencia\n",
    "                 name,\n",
    "                 breed,\n",
    "                 age,\n",
    "                 weight\n",
    "                ):\n",
    "        \n",
    "        \n",
    "        # metodo constructor de los perros\n",
    "        super().__init__(name, breed, age, weight) # herencia de atributos\n",
    "        \n",
    "        \n",
    "    def pastorear(self, ovejas):\n",
    "        \n",
    "        return ovejas"
   ]
  },
  {
   "cell_type": "code",
   "execution_count": 107,
   "id": "185f1514",
   "metadata": {},
   "outputs": [],
   "source": [
    "penny = Dog(name = 'Penny',\n",
    "            breed = 'pug',\n",
    "            age = 7,\n",
    "            weight = '7 kg'\n",
    "           )"
   ]
  },
  {
   "cell_type": "code",
   "execution_count": 108,
   "id": "9ea32ffd",
   "metadata": {},
   "outputs": [
    {
     "ename": "AttributeError",
     "evalue": "'Dog' object has no attribute 'pastorear'",
     "output_type": "error",
     "traceback": [
      "\u001b[0;31m---------------------------------------------------------------------------\u001b[0m",
      "\u001b[0;31mAttributeError\u001b[0m                            Traceback (most recent call last)",
      "Cell \u001b[0;32mIn[108], line 1\u001b[0m\n\u001b[0;32m----> 1\u001b[0m \u001b[43mpenny\u001b[49m\u001b[38;5;241;43m.\u001b[39;49m\u001b[43mpastorear\u001b[49m(\u001b[38;5;241m8\u001b[39m)\n",
      "\u001b[0;31mAttributeError\u001b[0m: 'Dog' object has no attribute 'pastorear'"
     ]
    }
   ],
   "source": [
    "penny.pastorear(8)"
   ]
  },
  {
   "cell_type": "code",
   "execution_count": 110,
   "id": "6add537e",
   "metadata": {},
   "outputs": [
    {
     "ename": "AttributeError",
     "evalue": "'list' object has no attribute 'lower'",
     "output_type": "error",
     "traceback": [
      "\u001b[0;31m---------------------------------------------------------------------------\u001b[0m",
      "\u001b[0;31mAttributeError\u001b[0m                            Traceback (most recent call last)",
      "Cell \u001b[0;32mIn[110], line 1\u001b[0m\n\u001b[0;32m----> 1\u001b[0m \u001b[43mlst\u001b[49m\u001b[38;5;241;43m.\u001b[39;49m\u001b[43mlower\u001b[49m()\n",
      "\u001b[0;31mAttributeError\u001b[0m: 'list' object has no attribute 'lower'"
     ]
    }
   ],
   "source": [
    "lst.lower()"
   ]
  },
  {
   "cell_type": "code",
   "execution_count": 111,
   "id": "950a1746",
   "metadata": {},
   "outputs": [],
   "source": [
    "rex = Shepard(name = 'REx',\n",
    "              breed = 'pug',\n",
    "              age = 7,\n",
    "              weight = '7 kg'\n",
    "           )"
   ]
  },
  {
   "cell_type": "code",
   "execution_count": 112,
   "id": "07ed1508",
   "metadata": {},
   "outputs": [
    {
     "data": {
      "text/plain": [
       "80"
      ]
     },
     "execution_count": 112,
     "metadata": {},
     "output_type": "execute_result"
    }
   ],
   "source": [
    "rex.pastorear(80)"
   ]
  },
  {
   "cell_type": "code",
   "execution_count": 113,
   "id": "16096018",
   "metadata": {},
   "outputs": [
    {
     "data": {
      "text/plain": [
       "True"
      ]
     },
     "execution_count": 113,
     "metadata": {},
     "output_type": "execute_result"
    }
   ],
   "source": [
    "isinstance(penny, Dog)   # ¿penny es un perro?  Si (es una copia de clase)"
   ]
  },
  {
   "cell_type": "code",
   "execution_count": 114,
   "id": "7b1cb564",
   "metadata": {},
   "outputs": [
    {
     "data": {
      "text/plain": [
       "False"
      ]
     },
     "execution_count": 114,
     "metadata": {},
     "output_type": "execute_result"
    }
   ],
   "source": [
    "isinstance(penny, Shepard)  # ¿penny es un pastor?  No"
   ]
  },
  {
   "cell_type": "code",
   "execution_count": 119,
   "id": "af40cf30",
   "metadata": {},
   "outputs": [
    {
     "data": {
      "text/plain": [
       "True"
      ]
     },
     "execution_count": 119,
     "metadata": {},
     "output_type": "execute_result"
    }
   ],
   "source": [
    "isinstance(rex, Shepard)    # ¿rex es un pastor?  Si"
   ]
  },
  {
   "cell_type": "code",
   "execution_count": 120,
   "id": "1aac32f5",
   "metadata": {},
   "outputs": [
    {
     "data": {
      "text/plain": [
       "True"
      ]
     },
     "execution_count": 120,
     "metadata": {},
     "output_type": "execute_result"
    }
   ],
   "source": [
    "isinstance(rex, Dog)    # ¿rex es un perro?  Si"
   ]
  },
  {
   "cell_type": "code",
   "execution_count": 117,
   "id": "82bd0f33",
   "metadata": {},
   "outputs": [
    {
     "name": "stdout",
     "output_type": "stream",
     "text": [
      "Help on Shepard in module __main__ object:\n",
      "\n",
      "class Shepard(Dog)\n",
      " |  Shepard(name, breed, age, weight)\n",
      " |  \n",
      " |  Method resolution order:\n",
      " |      Shepard\n",
      " |      Dog\n",
      " |      builtins.object\n",
      " |  \n",
      " |  Methods defined here:\n",
      " |  \n",
      " |  __init__(self, name, breed, age, weight)\n",
      " |      Initialize self.  See help(type(self)) for accurate signature.\n",
      " |  \n",
      " |  pastorear(self, ovejas)\n",
      " |  \n",
      " |  ----------------------------------------------------------------------\n",
      " |  Methods inherited from Dog:\n",
      " |  \n",
      " |  eat(self, amount)\n",
      " |      Es bueno documentar las cosas.\n",
      " |      \n",
      " |      Aqui podriamos poner toda la explicacion\n",
      " |  \n",
      " |  ----------------------------------------------------------------------\n",
      " |  Data descriptors inherited from Dog:\n",
      " |  \n",
      " |  __dict__\n",
      " |      dictionary for instance variables (if defined)\n",
      " |  \n",
      " |  __weakref__\n",
      " |      list of weak references to the object (if defined)\n",
      " |  \n",
      " |  ----------------------------------------------------------------------\n",
      " |  Data and other attributes inherited from Dog:\n",
      " |  \n",
      " |  GENDER = ['male', 'female']\n",
      "\n"
     ]
    }
   ],
   "source": [
    "help(rex)"
   ]
  },
  {
   "cell_type": "code",
   "execution_count": 118,
   "id": "f31bd7aa",
   "metadata": {},
   "outputs": [
    {
     "name": "stdout",
     "output_type": "stream",
     "text": [
      "Help on Dog in module __main__ object:\n",
      "\n",
      "class Dog(builtins.object)\n",
      " |  Dog(name, breed, age, weight='5 kg')\n",
      " |  \n",
      " |  Methods defined here:\n",
      " |  \n",
      " |  __init__(self, name, breed, age, weight='5 kg')\n",
      " |      Initialize self.  See help(type(self)) for accurate signature.\n",
      " |  \n",
      " |  eat(self, amount)\n",
      " |      Es bueno documentar las cosas.\n",
      " |      \n",
      " |      Aqui podriamos poner toda la explicacion\n",
      " |  \n",
      " |  ----------------------------------------------------------------------\n",
      " |  Data descriptors defined here:\n",
      " |  \n",
      " |  __dict__\n",
      " |      dictionary for instance variables (if defined)\n",
      " |  \n",
      " |  __weakref__\n",
      " |      list of weak references to the object (if defined)\n",
      " |  \n",
      " |  ----------------------------------------------------------------------\n",
      " |  Data and other attributes defined here:\n",
      " |  \n",
      " |  GENDER = ['male', 'female']\n",
      "\n"
     ]
    }
   ],
   "source": [
    "help(penny)"
   ]
  },
  {
   "cell_type": "markdown",
   "id": "33b422a7",
   "metadata": {},
   "source": [
    "## Métodos dunder\n",
    "#### métodos  __especiales__  \n",
    "\n",
    "- Se les llama `dunders` por la doble barra que tienen(double underscores) \n",
    "- También se les llama método mágicos (magic methods)\n",
    "- Conecta funciones con comportamientos y operadores externos\n",
    "\n",
    "Una pequeña lista:\n",
    "\n",
    "- `__repr__` : Representación oficial de una string (cuando se imprime el objeto)\n",
    "- `__str__` : Conversion a string y print\n",
    "- `__len__` : Cuando se pasa `len` a un iterable\n",
    "\n",
    "\n",
    "#### Operadores de comparación\n",
    "- `__eq__` : ==\n",
    "- `__ne__` : !=\n",
    "- `__lt__` : <\n",
    "- `__le__` : <=\n",
    "- `__gt__` : >\n",
    "- `__ge__` : >=\n",
    "\n",
    "\n",
    "#### Operadores\n",
    "- `__add__` : +\n",
    "- `__mul__` : *\n",
    "- `__truediv__` : /\n",
    "- `__sub__` : - \n",
    "\n",
    "**Más [información](https://docs.python.org/3/library/operator.html).**"
   ]
  },
  {
   "cell_type": "code",
   "execution_count": 122,
   "id": "633de5cd",
   "metadata": {},
   "outputs": [],
   "source": [
    "#help(list)"
   ]
  },
  {
   "cell_type": "code",
   "execution_count": 123,
   "id": "4a70f8da",
   "metadata": {},
   "outputs": [],
   "source": [
    "class Cat:\n",
    "    \n",
    "    def __eq__(self, x):\n",
    "        \n",
    "        return True"
   ]
  },
  {
   "cell_type": "code",
   "execution_count": 124,
   "id": "8b18614a",
   "metadata": {},
   "outputs": [],
   "source": [
    "gato = Cat()"
   ]
  },
  {
   "cell_type": "code",
   "execution_count": 125,
   "id": "3ac00c72",
   "metadata": {},
   "outputs": [
    {
     "data": {
      "text/plain": [
       "<__main__.Cat at 0x10416b2b0>"
      ]
     },
     "execution_count": 125,
     "metadata": {},
     "output_type": "execute_result"
    }
   ],
   "source": [
    "gato"
   ]
  },
  {
   "cell_type": "code",
   "execution_count": 126,
   "id": "9a369419",
   "metadata": {},
   "outputs": [
    {
     "name": "stdout",
     "output_type": "stream",
     "text": [
      "Help on Cat in module __main__ object:\n",
      "\n",
      "class Cat(builtins.object)\n",
      " |  Methods defined here:\n",
      " |  \n",
      " |  __eq__(self, x)\n",
      " |      Return self==value.\n",
      " |  \n",
      " |  ----------------------------------------------------------------------\n",
      " |  Data descriptors defined here:\n",
      " |  \n",
      " |  __dict__\n",
      " |      dictionary for instance variables (if defined)\n",
      " |  \n",
      " |  __weakref__\n",
      " |      list of weak references to the object (if defined)\n",
      " |  \n",
      " |  ----------------------------------------------------------------------\n",
      " |  Data and other attributes defined here:\n",
      " |  \n",
      " |  __hash__ = None\n",
      "\n"
     ]
    }
   ],
   "source": [
    "help(gato)"
   ]
  },
  {
   "cell_type": "code",
   "execution_count": 127,
   "id": "8e65ded2",
   "metadata": {},
   "outputs": [
    {
     "data": {
      "text/plain": [
       "True"
      ]
     },
     "execution_count": 127,
     "metadata": {},
     "output_type": "execute_result"
    }
   ],
   "source": [
    "gato == True"
   ]
  },
  {
   "cell_type": "code",
   "execution_count": 128,
   "id": "8208352b",
   "metadata": {},
   "outputs": [
    {
     "data": {
      "text/plain": [
       "True"
      ]
     },
     "execution_count": 128,
     "metadata": {},
     "output_type": "execute_result"
    }
   ],
   "source": [
    "gato == False"
   ]
  },
  {
   "cell_type": "code",
   "execution_count": 129,
   "id": "a329cdf4",
   "metadata": {},
   "outputs": [
    {
     "data": {
      "text/plain": [
       "True"
      ]
     },
     "execution_count": 129,
     "metadata": {},
     "output_type": "execute_result"
    }
   ],
   "source": [
    "gato == 1"
   ]
  },
  {
   "cell_type": "code",
   "execution_count": 130,
   "id": "b3773e4b",
   "metadata": {},
   "outputs": [
    {
     "data": {
      "text/plain": [
       "True"
      ]
     },
     "execution_count": 130,
     "metadata": {},
     "output_type": "execute_result"
    }
   ],
   "source": [
    "gato == 'hola'"
   ]
  },
  {
   "cell_type": "code",
   "execution_count": 131,
   "id": "e1f60813",
   "metadata": {},
   "outputs": [
    {
     "data": {
      "text/plain": [
       "True"
      ]
     },
     "execution_count": 131,
     "metadata": {},
     "output_type": "execute_result"
    }
   ],
   "source": [
    "gato == 43.90"
   ]
  },
  {
   "cell_type": "code",
   "execution_count": 132,
   "id": "65f23dc6",
   "metadata": {},
   "outputs": [
    {
     "data": {
      "text/plain": [
       "True"
      ]
     },
     "execution_count": 132,
     "metadata": {},
     "output_type": "execute_result"
    }
   ],
   "source": [
    "gato == [1,2,3,4,5,6]"
   ]
  },
  {
   "cell_type": "markdown",
   "id": "6069f069",
   "metadata": {},
   "source": [
    "### Now let's try to build our first `Class` (https://www.codewars.com/kata/5a03af9606d5b65ff7000009/train/python)"
   ]
  }
 ],
 "metadata": {
  "kernelspec": {
   "display_name": "clase",
   "language": "python",
   "name": "clase"
  },
  "language_info": {
   "codemirror_mode": {
    "name": "ipython",
    "version": 3
   },
   "file_extension": ".py",
   "mimetype": "text/x-python",
   "name": "python",
   "nbconvert_exporter": "python",
   "pygments_lexer": "ipython3",
   "version": "3.9.12"
  }
 },
 "nbformat": 4,
 "nbformat_minor": 5
}
