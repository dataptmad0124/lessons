{
 "cells": [
  {
   "cell_type": "markdown",
   "id": "276fa5c1",
   "metadata": {},
   "source": [
    "# Object Oriented Programming\n",
    "\n",
    "---\n",
    "\n",
    "- __ABSTRACTION:__ To simplify reality and focus only on the data and processes relevant to the application being built.\n",
    "\n",
    "- __ENCAPSULATION:__ Data and the programs that manipulate those data are bound together and their complexity is hidden.\n",
    "\n",
    "- __INHERITANCE:__ A class can derive methods and properties from another class, resulting in a hierarchy of classes.\n",
    "\n",
    "- __POLYMORPHISM:__ Different subclasses of the same superclass, can implement their shared interface in different ways.\n"
   ]
  },
  {
   "cell_type": "code",
   "execution_count": 2,
   "id": "36579b06",
   "metadata": {},
   "outputs": [],
   "source": []
  },
  {
   "cell_type": "code",
   "execution_count": 3,
   "id": "56b068c7",
   "metadata": {},
   "outputs": [],
   "source": []
  },
  {
   "cell_type": "markdown",
   "id": "06c357bb",
   "metadata": {},
   "source": [
    "#### In this lesson we will deal with...\n",
    "\n",
    "- The `__init__()` method or attributes constructor.\n",
    "\n",
    "- Custom methods to change those attributes.\n",
    "\n",
    "- Inheritance "
   ]
  },
  {
   "cell_type": "code",
   "execution_count": null,
   "id": "082ac7ed",
   "metadata": {},
   "outputs": [],
   "source": []
  },
  {
   "cell_type": "markdown",
   "id": "2b4bb8c1",
   "metadata": {},
   "source": [
    "---"
   ]
  },
  {
   "cell_type": "markdown",
   "id": "5b584f38",
   "metadata": {},
   "source": [
    "## Attributes (i.e.: the `__init__()` method)"
   ]
  },
  {
   "cell_type": "code",
   "execution_count": null,
   "id": "ce8c8521",
   "metadata": {},
   "outputs": [],
   "source": []
  },
  {
   "cell_type": "code",
   "execution_count": null,
   "id": "5a3d0113",
   "metadata": {},
   "outputs": [],
   "source": []
  },
  {
   "cell_type": "markdown",
   "id": "2f1d430c",
   "metadata": {},
   "source": [
    "![penny](http://www.potacho.com/wp-content/uploads/2014/05/06-05_01.jpg)"
   ]
  },
  {
   "cell_type": "code",
   "execution_count": null,
   "id": "59b1636b",
   "metadata": {},
   "outputs": [],
   "source": []
  },
  {
   "cell_type": "markdown",
   "id": "9240fdbe",
   "metadata": {},
   "source": [
    "---"
   ]
  },
  {
   "cell_type": "markdown",
   "id": "dc28cca1",
   "metadata": {},
   "source": [
    "## Methods (i.e.: functions)"
   ]
  },
  {
   "cell_type": "code",
   "execution_count": null,
   "id": "70c7e7b2",
   "metadata": {},
   "outputs": [],
   "source": []
  },
  {
   "cell_type": "markdown",
   "id": "76cdb3d6",
   "metadata": {},
   "source": [
    "---"
   ]
  },
  {
   "cell_type": "code",
   "execution_count": null,
   "id": "603f0703",
   "metadata": {},
   "outputs": [],
   "source": []
  },
  {
   "cell_type": "code",
   "execution_count": null,
   "id": "eee926e3",
   "metadata": {},
   "outputs": [],
   "source": []
  },
  {
   "cell_type": "code",
   "execution_count": null,
   "id": "4404ca7c",
   "metadata": {},
   "outputs": [],
   "source": []
  },
  {
   "cell_type": "code",
   "execution_count": null,
   "id": "44dd1390",
   "metadata": {},
   "outputs": [],
   "source": []
  },
  {
   "cell_type": "code",
   "execution_count": null,
   "id": "ce6452c9",
   "metadata": {},
   "outputs": [],
   "source": []
  },
  {
   "cell_type": "markdown",
   "id": "1dd9d1d9",
   "metadata": {},
   "source": [
    "---"
   ]
  },
  {
   "cell_type": "code",
   "execution_count": null,
   "id": "57d57cf9",
   "metadata": {},
   "outputs": [],
   "source": []
  },
  {
   "cell_type": "code",
   "execution_count": null,
   "id": "6bbecb03",
   "metadata": {},
   "outputs": [],
   "source": []
  },
  {
   "cell_type": "code",
   "execution_count": null,
   "id": "7ef70ada",
   "metadata": {},
   "outputs": [],
   "source": []
  },
  {
   "cell_type": "markdown",
   "id": "6069f069",
   "metadata": {},
   "source": [
    "### Now let's try to build our first `Class` (https://www.codewars.com/kata/5a03af9606d5b65ff7000009/train/python)"
   ]
  }
 ],
 "metadata": {
  "kernelspec": {
   "display_name": "clase",
   "language": "python",
   "name": "clase"
  },
  "language_info": {
   "codemirror_mode": {
    "name": "ipython",
    "version": 3
   },
   "file_extension": ".py",
   "mimetype": "text/x-python",
   "name": "python",
   "nbconvert_exporter": "python",
   "pygments_lexer": "ipython3",
   "version": "3.9.12"
  }
 },
 "nbformat": 4,
 "nbformat_minor": 5
}
