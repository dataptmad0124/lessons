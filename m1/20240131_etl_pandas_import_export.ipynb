{
 "cells": [
  {
   "cell_type": "markdown",
   "id": "97213025",
   "metadata": {},
   "source": [
    "# Pandas Input/output\n",
    "\n",
    "Can read: `.csv`, `.json`, `.xlsx`, `.parquet`, `.db`, `.hdf`, ...\n",
    "\n",
    "\n",
    "https://pandas.pydata.org/pandas-docs/stable/reference/io.html"
   ]
  },
  {
   "cell_type": "code",
   "execution_count": 1,
   "id": "37b7567a",
   "metadata": {},
   "outputs": [],
   "source": [
    "import pandas as pd"
   ]
  },
  {
   "cell_type": "markdown",
   "id": "97c8ba03",
   "metadata": {},
   "source": [
    "### Our Data\n",
    "\n",
    "- `attacks.csv` from Kaggle\n",
    "- `github_pulls.json` from GitHub API\n",
    "- `2023_Accidentalidad.xlsx` from Datos Abiertos Ayuntamiento de Madrid\n",
    "- `test.parquet` from Kaggle"
   ]
  },
  {
   "cell_type": "markdown",
   "id": "02d1ad7b",
   "metadata": {},
   "source": [
    "__.CSV Files__"
   ]
  },
  {
   "cell_type": "code",
   "execution_count": 8,
   "id": "c307aea0",
   "metadata": {
    "scrolled": true
   },
   "outputs": [],
   "source": [
    "# el with abre y cierra el archivo\n",
    "\n",
    "with open('datasets/barrios.csv') as f:  # f es un alias\n",
    "    \n",
    "    lines = f.readlines()"
   ]
  },
  {
   "cell_type": "code",
   "execution_count": 10,
   "id": "86aca4e1",
   "metadata": {},
   "outputs": [
    {
     "data": {
      "text/plain": [
       "['cod_distrito\\tcod_barrio\\tbarrio\\n',\n",
       " '1\\t1\\tPALACIO\\n',\n",
       " '1\\t2\\tEMBAJADORES\\n',\n",
       " '1\\t3\\tCORTES\\n',\n",
       " '1\\t4\\tJUSTICIA\\n']"
      ]
     },
     "execution_count": 10,
     "metadata": {},
     "output_type": "execute_result"
    }
   ],
   "source": [
    "lines[:5]"
   ]
  },
  {
   "cell_type": "code",
   "execution_count": 65,
   "id": "9a405fe0",
   "metadata": {},
   "outputs": [
    {
     "data": {
      "text/html": [
       "<div>\n",
       "<style scoped>\n",
       "    .dataframe tbody tr th:only-of-type {\n",
       "        vertical-align: middle;\n",
       "    }\n",
       "\n",
       "    .dataframe tbody tr th {\n",
       "        vertical-align: top;\n",
       "    }\n",
       "\n",
       "    .dataframe thead th {\n",
       "        text-align: right;\n",
       "    }\n",
       "</style>\n",
       "<table border=\"1\" class=\"dataframe\">\n",
       "  <thead>\n",
       "    <tr style=\"text-align: right;\">\n",
       "      <th></th>\n",
       "      <th>cod_distrito\\tcod_barrio\\tbarrio</th>\n",
       "    </tr>\n",
       "  </thead>\n",
       "  <tbody>\n",
       "    <tr>\n",
       "      <th>0</th>\n",
       "      <td>1\\t1\\tPALACIO</td>\n",
       "    </tr>\n",
       "    <tr>\n",
       "      <th>1</th>\n",
       "      <td>1\\t2\\tEMBAJADORES</td>\n",
       "    </tr>\n",
       "    <tr>\n",
       "      <th>2</th>\n",
       "      <td>1\\t3\\tCORTES</td>\n",
       "    </tr>\n",
       "    <tr>\n",
       "      <th>3</th>\n",
       "      <td>1\\t4\\tJUSTICIA</td>\n",
       "    </tr>\n",
       "    <tr>\n",
       "      <th>4</th>\n",
       "      <td>1\\t5\\tUNIVERSIDAD</td>\n",
       "    </tr>\n",
       "  </tbody>\n",
       "</table>\n",
       "</div>"
      ],
      "text/plain": [
       "  cod_distrito\\tcod_barrio\\tbarrio\n",
       "0                    1\\t1\\tPALACIO\n",
       "1                1\\t2\\tEMBAJADORES\n",
       "2                     1\\t3\\tCORTES\n",
       "3                   1\\t4\\tJUSTICIA\n",
       "4                1\\t5\\tUNIVERSIDAD"
      ]
     },
     "execution_count": 65,
     "metadata": {},
     "output_type": "execute_result"
    }
   ],
   "source": [
    "df_csv = pd.read_csv('datasets/barrios.csv')\n",
    "\n",
    "df_csv.head()"
   ]
  },
  {
   "cell_type": "code",
   "execution_count": 67,
   "id": "1137a6b6",
   "metadata": {},
   "outputs": [
    {
     "data": {
      "text/plain": [
       "'1\\t1\\tPALACIO'"
      ]
     },
     "execution_count": 67,
     "metadata": {},
     "output_type": "execute_result"
    }
   ],
   "source": [
    "df_csv.iloc[0, 0]"
   ]
  },
  {
   "cell_type": "code",
   "execution_count": 68,
   "id": "769d1989",
   "metadata": {},
   "outputs": [
    {
     "name": "stdout",
     "output_type": "stream",
     "text": [
      "1\t1\tPALACIO\n"
     ]
    }
   ],
   "source": [
    "print(df_csv.iloc[0, 0])"
   ]
  },
  {
   "cell_type": "code",
   "execution_count": 62,
   "id": "efc38456",
   "metadata": {},
   "outputs": [
    {
     "name": "stdout",
     "output_type": "stream",
     "text": [
      "ab\n"
     ]
    }
   ],
   "source": [
    "print('ab')"
   ]
  },
  {
   "cell_type": "code",
   "execution_count": 14,
   "id": "2f66d293",
   "metadata": {},
   "outputs": [
    {
     "name": "stdout",
     "output_type": "stream",
     "text": [
      "a\tb\n"
     ]
    }
   ],
   "source": [
    "print('a\\tb')"
   ]
  },
  {
   "cell_type": "code",
   "execution_count": 63,
   "id": "39451014",
   "metadata": {},
   "outputs": [
    {
     "name": "stdout",
     "output_type": "stream",
     "text": [
      "a\n",
      "b\n"
     ]
    }
   ],
   "source": [
    "print('a\\nb')"
   ]
  },
  {
   "cell_type": "code",
   "execution_count": 64,
   "id": "296132c5",
   "metadata": {},
   "outputs": [
    {
     "name": "stdout",
     "output_type": "stream",
     "text": [
      "a\\tb\n"
     ]
    }
   ],
   "source": [
    "print(r'a\\tb')  # r de raw, asi es literal lo que escribo"
   ]
  },
  {
   "cell_type": "code",
   "execution_count": 15,
   "id": "936e6b8f",
   "metadata": {},
   "outputs": [
    {
     "data": {
      "text/html": [
       "<div>\n",
       "<style scoped>\n",
       "    .dataframe tbody tr th:only-of-type {\n",
       "        vertical-align: middle;\n",
       "    }\n",
       "\n",
       "    .dataframe tbody tr th {\n",
       "        vertical-align: top;\n",
       "    }\n",
       "\n",
       "    .dataframe thead th {\n",
       "        text-align: right;\n",
       "    }\n",
       "</style>\n",
       "<table border=\"1\" class=\"dataframe\">\n",
       "  <thead>\n",
       "    <tr style=\"text-align: right;\">\n",
       "      <th></th>\n",
       "      <th>cod_distrito</th>\n",
       "      <th>cod_barrio</th>\n",
       "      <th>barrio</th>\n",
       "    </tr>\n",
       "  </thead>\n",
       "  <tbody>\n",
       "    <tr>\n",
       "      <th>0</th>\n",
       "      <td>1</td>\n",
       "      <td>1</td>\n",
       "      <td>PALACIO</td>\n",
       "    </tr>\n",
       "    <tr>\n",
       "      <th>1</th>\n",
       "      <td>1</td>\n",
       "      <td>2</td>\n",
       "      <td>EMBAJADORES</td>\n",
       "    </tr>\n",
       "    <tr>\n",
       "      <th>2</th>\n",
       "      <td>1</td>\n",
       "      <td>3</td>\n",
       "      <td>CORTES</td>\n",
       "    </tr>\n",
       "    <tr>\n",
       "      <th>3</th>\n",
       "      <td>1</td>\n",
       "      <td>4</td>\n",
       "      <td>JUSTICIA</td>\n",
       "    </tr>\n",
       "    <tr>\n",
       "      <th>4</th>\n",
       "      <td>1</td>\n",
       "      <td>5</td>\n",
       "      <td>UNIVERSIDAD</td>\n",
       "    </tr>\n",
       "  </tbody>\n",
       "</table>\n",
       "</div>"
      ],
      "text/plain": [
       "   cod_distrito  cod_barrio       barrio\n",
       "0             1           1      PALACIO\n",
       "1             1           2  EMBAJADORES\n",
       "2             1           3       CORTES\n",
       "3             1           4     JUSTICIA\n",
       "4             1           5  UNIVERSIDAD"
      ]
     },
     "execution_count": 15,
     "metadata": {},
     "output_type": "execute_result"
    }
   ],
   "source": [
    "df_csv = pd.read_csv('datasets/barrios.csv', sep='\\t')\n",
    "\n",
    "df_csv.head()"
   ]
  },
  {
   "cell_type": "code",
   "execution_count": 16,
   "id": "282b3f4e",
   "metadata": {},
   "outputs": [
    {
     "name": "stdout",
     "output_type": "stream",
     "text": [
      "<class 'pandas.core.frame.DataFrame'>\n",
      "RangeIndex: 55 entries, 0 to 54\n",
      "Data columns (total 3 columns):\n",
      " #   Column        Non-Null Count  Dtype \n",
      "---  ------        --------------  ----- \n",
      " 0   cod_distrito  55 non-null     int64 \n",
      " 1   cod_barrio    55 non-null     int64 \n",
      " 2   barrio        55 non-null     object\n",
      "dtypes: int64(2), object(1)\n",
      "memory usage: 1.4+ KB\n"
     ]
    }
   ],
   "source": [
    "df_csv.info()"
   ]
  },
  {
   "cell_type": "code",
   "execution_count": 17,
   "id": "ec29ad37",
   "metadata": {},
   "outputs": [
    {
     "ename": "UnicodeDecodeError",
     "evalue": "'utf-8' codec can't decode byte 0xa0 in position 696: invalid start byte",
     "output_type": "error",
     "traceback": [
      "\u001b[0;31m---------------------------------------------------------------------------\u001b[0m",
      "\u001b[0;31mUnicodeDecodeError\u001b[0m                        Traceback (most recent call last)",
      "Cell \u001b[0;32mIn[17], line 1\u001b[0m\n\u001b[0;32m----> 1\u001b[0m df_csv \u001b[38;5;241m=\u001b[39m \u001b[43mpd\u001b[49m\u001b[38;5;241;43m.\u001b[39;49m\u001b[43mread_csv\u001b[49m\u001b[43m(\u001b[49m\u001b[38;5;124;43m'\u001b[39;49m\u001b[38;5;124;43mdatasets/attacks.csv\u001b[39;49m\u001b[38;5;124;43m'\u001b[39;49m\u001b[43m)\u001b[49m\n\u001b[1;32m      3\u001b[0m df_csv\u001b[38;5;241m.\u001b[39mhead()\n",
      "File \u001b[0;32m/opt/homebrew/Caskroom/miniconda/base/envs/clase/lib/python3.9/site-packages/pandas/util/_decorators.py:211\u001b[0m, in \u001b[0;36mdeprecate_kwarg.<locals>._deprecate_kwarg.<locals>.wrapper\u001b[0;34m(*args, **kwargs)\u001b[0m\n\u001b[1;32m    209\u001b[0m     \u001b[38;5;28;01melse\u001b[39;00m:\n\u001b[1;32m    210\u001b[0m         kwargs[new_arg_name] \u001b[38;5;241m=\u001b[39m new_arg_value\n\u001b[0;32m--> 211\u001b[0m \u001b[38;5;28;01mreturn\u001b[39;00m \u001b[43mfunc\u001b[49m\u001b[43m(\u001b[49m\u001b[38;5;241;43m*\u001b[39;49m\u001b[43margs\u001b[49m\u001b[43m,\u001b[49m\u001b[43m \u001b[49m\u001b[38;5;241;43m*\u001b[39;49m\u001b[38;5;241;43m*\u001b[39;49m\u001b[43mkwargs\u001b[49m\u001b[43m)\u001b[49m\n",
      "File \u001b[0;32m/opt/homebrew/Caskroom/miniconda/base/envs/clase/lib/python3.9/site-packages/pandas/util/_decorators.py:331\u001b[0m, in \u001b[0;36mdeprecate_nonkeyword_arguments.<locals>.decorate.<locals>.wrapper\u001b[0;34m(*args, **kwargs)\u001b[0m\n\u001b[1;32m    325\u001b[0m \u001b[38;5;28;01mif\u001b[39;00m \u001b[38;5;28mlen\u001b[39m(args) \u001b[38;5;241m>\u001b[39m num_allow_args:\n\u001b[1;32m    326\u001b[0m     warnings\u001b[38;5;241m.\u001b[39mwarn(\n\u001b[1;32m    327\u001b[0m         msg\u001b[38;5;241m.\u001b[39mformat(arguments\u001b[38;5;241m=\u001b[39m_format_argument_list(allow_args)),\n\u001b[1;32m    328\u001b[0m         \u001b[38;5;167;01mFutureWarning\u001b[39;00m,\n\u001b[1;32m    329\u001b[0m         stacklevel\u001b[38;5;241m=\u001b[39mfind_stack_level(),\n\u001b[1;32m    330\u001b[0m     )\n\u001b[0;32m--> 331\u001b[0m \u001b[38;5;28;01mreturn\u001b[39;00m \u001b[43mfunc\u001b[49m\u001b[43m(\u001b[49m\u001b[38;5;241;43m*\u001b[39;49m\u001b[43margs\u001b[49m\u001b[43m,\u001b[49m\u001b[43m \u001b[49m\u001b[38;5;241;43m*\u001b[39;49m\u001b[38;5;241;43m*\u001b[39;49m\u001b[43mkwargs\u001b[49m\u001b[43m)\u001b[49m\n",
      "File \u001b[0;32m/opt/homebrew/Caskroom/miniconda/base/envs/clase/lib/python3.9/site-packages/pandas/io/parsers/readers.py:950\u001b[0m, in \u001b[0;36mread_csv\u001b[0;34m(filepath_or_buffer, sep, delimiter, header, names, index_col, usecols, squeeze, prefix, mangle_dupe_cols, dtype, engine, converters, true_values, false_values, skipinitialspace, skiprows, skipfooter, nrows, na_values, keep_default_na, na_filter, verbose, skip_blank_lines, parse_dates, infer_datetime_format, keep_date_col, date_parser, dayfirst, cache_dates, iterator, chunksize, compression, thousands, decimal, lineterminator, quotechar, quoting, doublequote, escapechar, comment, encoding, encoding_errors, dialect, error_bad_lines, warn_bad_lines, on_bad_lines, delim_whitespace, low_memory, memory_map, float_precision, storage_options)\u001b[0m\n\u001b[1;32m    935\u001b[0m kwds_defaults \u001b[38;5;241m=\u001b[39m _refine_defaults_read(\n\u001b[1;32m    936\u001b[0m     dialect,\n\u001b[1;32m    937\u001b[0m     delimiter,\n\u001b[0;32m   (...)\u001b[0m\n\u001b[1;32m    946\u001b[0m     defaults\u001b[38;5;241m=\u001b[39m{\u001b[38;5;124m\"\u001b[39m\u001b[38;5;124mdelimiter\u001b[39m\u001b[38;5;124m\"\u001b[39m: \u001b[38;5;124m\"\u001b[39m\u001b[38;5;124m,\u001b[39m\u001b[38;5;124m\"\u001b[39m},\n\u001b[1;32m    947\u001b[0m )\n\u001b[1;32m    948\u001b[0m kwds\u001b[38;5;241m.\u001b[39mupdate(kwds_defaults)\n\u001b[0;32m--> 950\u001b[0m \u001b[38;5;28;01mreturn\u001b[39;00m \u001b[43m_read\u001b[49m\u001b[43m(\u001b[49m\u001b[43mfilepath_or_buffer\u001b[49m\u001b[43m,\u001b[49m\u001b[43m \u001b[49m\u001b[43mkwds\u001b[49m\u001b[43m)\u001b[49m\n",
      "File \u001b[0;32m/opt/homebrew/Caskroom/miniconda/base/envs/clase/lib/python3.9/site-packages/pandas/io/parsers/readers.py:605\u001b[0m, in \u001b[0;36m_read\u001b[0;34m(filepath_or_buffer, kwds)\u001b[0m\n\u001b[1;32m    602\u001b[0m _validate_names(kwds\u001b[38;5;241m.\u001b[39mget(\u001b[38;5;124m\"\u001b[39m\u001b[38;5;124mnames\u001b[39m\u001b[38;5;124m\"\u001b[39m, \u001b[38;5;28;01mNone\u001b[39;00m))\n\u001b[1;32m    604\u001b[0m \u001b[38;5;66;03m# Create the parser.\u001b[39;00m\n\u001b[0;32m--> 605\u001b[0m parser \u001b[38;5;241m=\u001b[39m \u001b[43mTextFileReader\u001b[49m\u001b[43m(\u001b[49m\u001b[43mfilepath_or_buffer\u001b[49m\u001b[43m,\u001b[49m\u001b[43m \u001b[49m\u001b[38;5;241;43m*\u001b[39;49m\u001b[38;5;241;43m*\u001b[39;49m\u001b[43mkwds\u001b[49m\u001b[43m)\u001b[49m\n\u001b[1;32m    607\u001b[0m \u001b[38;5;28;01mif\u001b[39;00m chunksize \u001b[38;5;129;01mor\u001b[39;00m iterator:\n\u001b[1;32m    608\u001b[0m     \u001b[38;5;28;01mreturn\u001b[39;00m parser\n",
      "File \u001b[0;32m/opt/homebrew/Caskroom/miniconda/base/envs/clase/lib/python3.9/site-packages/pandas/io/parsers/readers.py:1442\u001b[0m, in \u001b[0;36mTextFileReader.__init__\u001b[0;34m(self, f, engine, **kwds)\u001b[0m\n\u001b[1;32m   1439\u001b[0m     \u001b[38;5;28mself\u001b[39m\u001b[38;5;241m.\u001b[39moptions[\u001b[38;5;124m\"\u001b[39m\u001b[38;5;124mhas_index_names\u001b[39m\u001b[38;5;124m\"\u001b[39m] \u001b[38;5;241m=\u001b[39m kwds[\u001b[38;5;124m\"\u001b[39m\u001b[38;5;124mhas_index_names\u001b[39m\u001b[38;5;124m\"\u001b[39m]\n\u001b[1;32m   1441\u001b[0m \u001b[38;5;28mself\u001b[39m\u001b[38;5;241m.\u001b[39mhandles: IOHandles \u001b[38;5;241m|\u001b[39m \u001b[38;5;28;01mNone\u001b[39;00m \u001b[38;5;241m=\u001b[39m \u001b[38;5;28;01mNone\u001b[39;00m\n\u001b[0;32m-> 1442\u001b[0m \u001b[38;5;28mself\u001b[39m\u001b[38;5;241m.\u001b[39m_engine \u001b[38;5;241m=\u001b[39m \u001b[38;5;28;43mself\u001b[39;49m\u001b[38;5;241;43m.\u001b[39;49m\u001b[43m_make_engine\u001b[49m\u001b[43m(\u001b[49m\u001b[43mf\u001b[49m\u001b[43m,\u001b[49m\u001b[43m \u001b[49m\u001b[38;5;28;43mself\u001b[39;49m\u001b[38;5;241;43m.\u001b[39;49m\u001b[43mengine\u001b[49m\u001b[43m)\u001b[49m\n",
      "File \u001b[0;32m/opt/homebrew/Caskroom/miniconda/base/envs/clase/lib/python3.9/site-packages/pandas/io/parsers/readers.py:1753\u001b[0m, in \u001b[0;36mTextFileReader._make_engine\u001b[0;34m(self, f, engine)\u001b[0m\n\u001b[1;32m   1750\u001b[0m     \u001b[38;5;28;01mraise\u001b[39;00m \u001b[38;5;167;01mValueError\u001b[39;00m(msg)\n\u001b[1;32m   1752\u001b[0m \u001b[38;5;28;01mtry\u001b[39;00m:\n\u001b[0;32m-> 1753\u001b[0m     \u001b[38;5;28;01mreturn\u001b[39;00m \u001b[43mmapping\u001b[49m\u001b[43m[\u001b[49m\u001b[43mengine\u001b[49m\u001b[43m]\u001b[49m\u001b[43m(\u001b[49m\u001b[43mf\u001b[49m\u001b[43m,\u001b[49m\u001b[43m \u001b[49m\u001b[38;5;241;43m*\u001b[39;49m\u001b[38;5;241;43m*\u001b[39;49m\u001b[38;5;28;43mself\u001b[39;49m\u001b[38;5;241;43m.\u001b[39;49m\u001b[43moptions\u001b[49m\u001b[43m)\u001b[49m\n\u001b[1;32m   1754\u001b[0m \u001b[38;5;28;01mexcept\u001b[39;00m \u001b[38;5;167;01mException\u001b[39;00m:\n\u001b[1;32m   1755\u001b[0m     \u001b[38;5;28;01mif\u001b[39;00m \u001b[38;5;28mself\u001b[39m\u001b[38;5;241m.\u001b[39mhandles \u001b[38;5;129;01mis\u001b[39;00m \u001b[38;5;129;01mnot\u001b[39;00m \u001b[38;5;28;01mNone\u001b[39;00m:\n",
      "File \u001b[0;32m/opt/homebrew/Caskroom/miniconda/base/envs/clase/lib/python3.9/site-packages/pandas/io/parsers/c_parser_wrapper.py:79\u001b[0m, in \u001b[0;36mCParserWrapper.__init__\u001b[0;34m(self, src, **kwds)\u001b[0m\n\u001b[1;32m     76\u001b[0m     kwds\u001b[38;5;241m.\u001b[39mpop(key, \u001b[38;5;28;01mNone\u001b[39;00m)\n\u001b[1;32m     78\u001b[0m kwds[\u001b[38;5;124m\"\u001b[39m\u001b[38;5;124mdtype\u001b[39m\u001b[38;5;124m\"\u001b[39m] \u001b[38;5;241m=\u001b[39m ensure_dtype_objs(kwds\u001b[38;5;241m.\u001b[39mget(\u001b[38;5;124m\"\u001b[39m\u001b[38;5;124mdtype\u001b[39m\u001b[38;5;124m\"\u001b[39m, \u001b[38;5;28;01mNone\u001b[39;00m))\n\u001b[0;32m---> 79\u001b[0m \u001b[38;5;28mself\u001b[39m\u001b[38;5;241m.\u001b[39m_reader \u001b[38;5;241m=\u001b[39m \u001b[43mparsers\u001b[49m\u001b[38;5;241;43m.\u001b[39;49m\u001b[43mTextReader\u001b[49m\u001b[43m(\u001b[49m\u001b[43msrc\u001b[49m\u001b[43m,\u001b[49m\u001b[43m \u001b[49m\u001b[38;5;241;43m*\u001b[39;49m\u001b[38;5;241;43m*\u001b[39;49m\u001b[43mkwds\u001b[49m\u001b[43m)\u001b[49m\n\u001b[1;32m     81\u001b[0m \u001b[38;5;28mself\u001b[39m\u001b[38;5;241m.\u001b[39munnamed_cols \u001b[38;5;241m=\u001b[39m \u001b[38;5;28mself\u001b[39m\u001b[38;5;241m.\u001b[39m_reader\u001b[38;5;241m.\u001b[39munnamed_cols\n\u001b[1;32m     83\u001b[0m \u001b[38;5;66;03m# error: Cannot determine type of 'names'\u001b[39;00m\n",
      "File \u001b[0;32m/opt/homebrew/Caskroom/miniconda/base/envs/clase/lib/python3.9/site-packages/pandas/_libs/parsers.pyx:547\u001b[0m, in \u001b[0;36mpandas._libs.parsers.TextReader.__cinit__\u001b[0;34m()\u001b[0m\n",
      "File \u001b[0;32m/opt/homebrew/Caskroom/miniconda/base/envs/clase/lib/python3.9/site-packages/pandas/_libs/parsers.pyx:636\u001b[0m, in \u001b[0;36mpandas._libs.parsers.TextReader._get_header\u001b[0;34m()\u001b[0m\n",
      "File \u001b[0;32m/opt/homebrew/Caskroom/miniconda/base/envs/clase/lib/python3.9/site-packages/pandas/_libs/parsers.pyx:852\u001b[0m, in \u001b[0;36mpandas._libs.parsers.TextReader._tokenize_rows\u001b[0;34m()\u001b[0m\n",
      "File \u001b[0;32m/opt/homebrew/Caskroom/miniconda/base/envs/clase/lib/python3.9/site-packages/pandas/_libs/parsers.pyx:1965\u001b[0m, in \u001b[0;36mpandas._libs.parsers.raise_parser_error\u001b[0;34m()\u001b[0m\n",
      "\u001b[0;31mUnicodeDecodeError\u001b[0m: 'utf-8' codec can't decode byte 0xa0 in position 696: invalid start byte"
     ]
    }
   ],
   "source": [
    "df_csv = pd.read_csv('datasets/attacks.csv')\n",
    "\n",
    "df_csv.head()"
   ]
  },
  {
   "cell_type": "code",
   "execution_count": 19,
   "id": "181dba25",
   "metadata": {},
   "outputs": [
    {
     "data": {
      "text/html": [
       "<div>\n",
       "<style scoped>\n",
       "    .dataframe tbody tr th:only-of-type {\n",
       "        vertical-align: middle;\n",
       "    }\n",
       "\n",
       "    .dataframe tbody tr th {\n",
       "        vertical-align: top;\n",
       "    }\n",
       "\n",
       "    .dataframe thead th {\n",
       "        text-align: right;\n",
       "    }\n",
       "</style>\n",
       "<table border=\"1\" class=\"dataframe\">\n",
       "  <thead>\n",
       "    <tr style=\"text-align: right;\">\n",
       "      <th></th>\n",
       "      <th>Codec</th>\n",
       "      <th>Aliases</th>\n",
       "      <th>Languages</th>\n",
       "    </tr>\n",
       "  </thead>\n",
       "  <tbody>\n",
       "    <tr>\n",
       "      <th>0</th>\n",
       "      <td>ascii</td>\n",
       "      <td>646, us-ascii</td>\n",
       "      <td>English</td>\n",
       "    </tr>\n",
       "    <tr>\n",
       "      <th>1</th>\n",
       "      <td>big5</td>\n",
       "      <td>big5-tw, csbig5</td>\n",
       "      <td>Traditional Chinese</td>\n",
       "    </tr>\n",
       "    <tr>\n",
       "      <th>2</th>\n",
       "      <td>big5hkscs</td>\n",
       "      <td>big5-hkscs, hkscs</td>\n",
       "      <td>Traditional Chinese</td>\n",
       "    </tr>\n",
       "    <tr>\n",
       "      <th>3</th>\n",
       "      <td>cp037</td>\n",
       "      <td>IBM037, IBM039</td>\n",
       "      <td>English</td>\n",
       "    </tr>\n",
       "    <tr>\n",
       "      <th>4</th>\n",
       "      <td>cp273</td>\n",
       "      <td>273, IBM273, csIBM273</td>\n",
       "      <td>German</td>\n",
       "    </tr>\n",
       "  </tbody>\n",
       "</table>\n",
       "</div>"
      ],
      "text/plain": [
       "       Codec                Aliases            Languages\n",
       "0      ascii          646, us-ascii              English\n",
       "1       big5        big5-tw, csbig5  Traditional Chinese\n",
       "2  big5hkscs      big5-hkscs, hkscs  Traditional Chinese\n",
       "3      cp037         IBM037, IBM039              English\n",
       "4      cp273  273, IBM273, csIBM273               German"
      ]
     },
     "execution_count": 19,
     "metadata": {},
     "output_type": "execute_result"
    }
   ],
   "source": [
    "codecs = pd.read_csv('datasets/pandas_codecs.csv')\n",
    "\n",
    "codecs.head()"
   ]
  },
  {
   "cell_type": "code",
   "execution_count": 22,
   "id": "7167b006",
   "metadata": {},
   "outputs": [
    {
     "data": {
      "text/plain": [
       "109"
      ]
     },
     "execution_count": 22,
     "metadata": {},
     "output_type": "execute_result"
    }
   ],
   "source": [
    "codecs['Codec'].size"
   ]
  },
  {
   "cell_type": "code",
   "execution_count": 25,
   "id": "e4bbaeea",
   "metadata": {},
   "outputs": [],
   "source": [
    "new_codecs = []\n",
    "\n",
    "for c in codecs['Codec']:\n",
    "    \n",
    "    try:\n",
    "        \n",
    "        df_csv = pd.read_csv('datasets/attacks.csv', encoding=c)\n",
    "        \n",
    "        new_codecs.append(c)\n",
    "        \n",
    "    except:\n",
    "        \n",
    "        continue   # pasa al siguiente paso del bucle"
   ]
  },
  {
   "cell_type": "code",
   "execution_count": 26,
   "id": "b603f75f",
   "metadata": {},
   "outputs": [
    {
     "data": {
      "text/plain": [
       "['cp037',\n",
       " 'cp273',\n",
       " 'cp437',\n",
       " 'cp500',\n",
       " 'cp720',\n",
       " 'cp737',\n",
       " 'cp775',\n",
       " 'cp850',\n",
       " 'cp852',\n",
       " 'cp855',\n",
       " 'cp858',\n",
       " 'cp860',\n",
       " 'cp861',\n",
       " 'cp862',\n",
       " 'cp863',\n",
       " 'cp864',\n",
       " 'cp865',\n",
       " 'cp866',\n",
       " 'cp875',\n",
       " 'cp1006',\n",
       " 'cp1026',\n",
       " 'cp1125',\n",
       " 'cp1140',\n",
       " 'cp1250',\n",
       " 'cp1251',\n",
       " 'cp1252',\n",
       " 'cp1254',\n",
       " 'cp1256',\n",
       " 'latin_1',\n",
       " 'iso8859_2',\n",
       " 'iso8859_4',\n",
       " 'iso8859_5',\n",
       " 'iso8859_7',\n",
       " 'iso8859_9',\n",
       " 'iso8859_10',\n",
       " 'iso8859_13',\n",
       " 'iso8859_14',\n",
       " 'iso8859_15',\n",
       " 'iso8859_16',\n",
       " 'koi8_r',\n",
       " 'koi8_u',\n",
       " 'kz1048',\n",
       " 'mac_cyrillic',\n",
       " 'mac_greek',\n",
       " 'mac_iceland',\n",
       " 'mac_latin2',\n",
       " 'mac_roman',\n",
       " 'mac_turkish',\n",
       " 'ptcp154']"
      ]
     },
     "execution_count": 26,
     "metadata": {},
     "output_type": "execute_result"
    }
   ],
   "source": [
    "new_codecs"
   ]
  },
  {
   "cell_type": "code",
   "execution_count": 27,
   "id": "478b96c3",
   "metadata": {},
   "outputs": [
    {
     "data": {
      "text/html": [
       "<div>\n",
       "<style scoped>\n",
       "    .dataframe tbody tr th:only-of-type {\n",
       "        vertical-align: middle;\n",
       "    }\n",
       "\n",
       "    .dataframe tbody tr th {\n",
       "        vertical-align: top;\n",
       "    }\n",
       "\n",
       "    .dataframe thead th {\n",
       "        text-align: right;\n",
       "    }\n",
       "</style>\n",
       "<table border=\"1\" class=\"dataframe\">\n",
       "  <thead>\n",
       "    <tr style=\"text-align: right;\">\n",
       "      <th></th>\n",
       "      <th>Case Number</th>\n",
       "      <th>Date</th>\n",
       "      <th>Year</th>\n",
       "      <th>Type</th>\n",
       "      <th>Country</th>\n",
       "      <th>Area</th>\n",
       "      <th>Location</th>\n",
       "      <th>Activity</th>\n",
       "      <th>Name</th>\n",
       "      <th>Sex</th>\n",
       "      <th>...</th>\n",
       "      <th>Species</th>\n",
       "      <th>Investigator or Source</th>\n",
       "      <th>pdf</th>\n",
       "      <th>href formula</th>\n",
       "      <th>href</th>\n",
       "      <th>Case Number.1</th>\n",
       "      <th>Case Number.2</th>\n",
       "      <th>original order</th>\n",
       "      <th>Unnamed: 22</th>\n",
       "      <th>Unnamed: 23</th>\n",
       "    </tr>\n",
       "  </thead>\n",
       "  <tbody>\n",
       "    <tr>\n",
       "      <th>0</th>\n",
       "      <td>2018.06.25</td>\n",
       "      <td>25-Jun-2018</td>\n",
       "      <td>2018.0</td>\n",
       "      <td>Boating</td>\n",
       "      <td>USA</td>\n",
       "      <td>California</td>\n",
       "      <td>Oceanside, San Diego County</td>\n",
       "      <td>Paddling</td>\n",
       "      <td>Julie Wolfe</td>\n",
       "      <td>F</td>\n",
       "      <td>...</td>\n",
       "      <td>White shark</td>\n",
       "      <td>R. Collier, GSAF</td>\n",
       "      <td>2018.06.25-Wolfe.pdf</td>\n",
       "      <td>http://sharkattackfile.net/spreadsheets/pdf_di...</td>\n",
       "      <td>http://sharkattackfile.net/spreadsheets/pdf_di...</td>\n",
       "      <td>2018.06.25</td>\n",
       "      <td>2018.06.25</td>\n",
       "      <td>6303.0</td>\n",
       "      <td>NaN</td>\n",
       "      <td>NaN</td>\n",
       "    </tr>\n",
       "    <tr>\n",
       "      <th>1</th>\n",
       "      <td>2018.06.18</td>\n",
       "      <td>18-Jun-2018</td>\n",
       "      <td>2018.0</td>\n",
       "      <td>Unprovoked</td>\n",
       "      <td>USA</td>\n",
       "      <td>Georgia</td>\n",
       "      <td>St. Simon Island, Glynn County</td>\n",
       "      <td>Standing</td>\n",
       "      <td>Adyson McNeely</td>\n",
       "      <td>F</td>\n",
       "      <td>...</td>\n",
       "      <td>NaN</td>\n",
       "      <td>K.McMurray, TrackingSharks.com</td>\n",
       "      <td>2018.06.18-McNeely.pdf</td>\n",
       "      <td>http://sharkattackfile.net/spreadsheets/pdf_di...</td>\n",
       "      <td>http://sharkattackfile.net/spreadsheets/pdf_di...</td>\n",
       "      <td>2018.06.18</td>\n",
       "      <td>2018.06.18</td>\n",
       "      <td>6302.0</td>\n",
       "      <td>NaN</td>\n",
       "      <td>NaN</td>\n",
       "    </tr>\n",
       "    <tr>\n",
       "      <th>2</th>\n",
       "      <td>2018.06.09</td>\n",
       "      <td>09-Jun-2018</td>\n",
       "      <td>2018.0</td>\n",
       "      <td>Invalid</td>\n",
       "      <td>USA</td>\n",
       "      <td>Hawaii</td>\n",
       "      <td>Habush, Oahu</td>\n",
       "      <td>Surfing</td>\n",
       "      <td>John Denges</td>\n",
       "      <td>M</td>\n",
       "      <td>...</td>\n",
       "      <td>NaN</td>\n",
       "      <td>K.McMurray, TrackingSharks.com</td>\n",
       "      <td>2018.06.09-Denges.pdf</td>\n",
       "      <td>http://sharkattackfile.net/spreadsheets/pdf_di...</td>\n",
       "      <td>http://sharkattackfile.net/spreadsheets/pdf_di...</td>\n",
       "      <td>2018.06.09</td>\n",
       "      <td>2018.06.09</td>\n",
       "      <td>6301.0</td>\n",
       "      <td>NaN</td>\n",
       "      <td>NaN</td>\n",
       "    </tr>\n",
       "    <tr>\n",
       "      <th>3</th>\n",
       "      <td>2018.06.08</td>\n",
       "      <td>08-Jun-2018</td>\n",
       "      <td>2018.0</td>\n",
       "      <td>Unprovoked</td>\n",
       "      <td>AUSTRALIA</td>\n",
       "      <td>New South Wales</td>\n",
       "      <td>Arrawarra Headland</td>\n",
       "      <td>Surfing</td>\n",
       "      <td>male</td>\n",
       "      <td>M</td>\n",
       "      <td>...</td>\n",
       "      <td>2 m shark</td>\n",
       "      <td>B. Myatt, GSAF</td>\n",
       "      <td>2018.06.08-Arrawarra.pdf</td>\n",
       "      <td>http://sharkattackfile.net/spreadsheets/pdf_di...</td>\n",
       "      <td>http://sharkattackfile.net/spreadsheets/pdf_di...</td>\n",
       "      <td>2018.06.08</td>\n",
       "      <td>2018.06.08</td>\n",
       "      <td>6300.0</td>\n",
       "      <td>NaN</td>\n",
       "      <td>NaN</td>\n",
       "    </tr>\n",
       "    <tr>\n",
       "      <th>4</th>\n",
       "      <td>2018.06.04</td>\n",
       "      <td>04-Jun-2018</td>\n",
       "      <td>2018.0</td>\n",
       "      <td>Provoked</td>\n",
       "      <td>MEXICO</td>\n",
       "      <td>Colima</td>\n",
       "      <td>La Ticla</td>\n",
       "      <td>Free diving</td>\n",
       "      <td>Gustavo Ramos</td>\n",
       "      <td>M</td>\n",
       "      <td>...</td>\n",
       "      <td>Tiger shark, 3m</td>\n",
       "      <td>A .Kipper</td>\n",
       "      <td>2018.06.04-Ramos.pdf</td>\n",
       "      <td>http://sharkattackfile.net/spreadsheets/pdf_di...</td>\n",
       "      <td>http://sharkattackfile.net/spreadsheets/pdf_di...</td>\n",
       "      <td>2018.06.04</td>\n",
       "      <td>2018.06.04</td>\n",
       "      <td>6299.0</td>\n",
       "      <td>NaN</td>\n",
       "      <td>NaN</td>\n",
       "    </tr>\n",
       "  </tbody>\n",
       "</table>\n",
       "<p>5 rows × 24 columns</p>\n",
       "</div>"
      ],
      "text/plain": [
       "  Case Number         Date    Year        Type    Country             Area  \\\n",
       "0  2018.06.25  25-Jun-2018  2018.0     Boating        USA       California   \n",
       "1  2018.06.18  18-Jun-2018  2018.0  Unprovoked        USA          Georgia   \n",
       "2  2018.06.09  09-Jun-2018  2018.0     Invalid        USA           Hawaii   \n",
       "3  2018.06.08  08-Jun-2018  2018.0  Unprovoked  AUSTRALIA  New South Wales   \n",
       "4  2018.06.04  04-Jun-2018  2018.0    Provoked     MEXICO           Colima   \n",
       "\n",
       "                         Location     Activity             Name Sex   ...  \\\n",
       "0     Oceanside, San Diego County     Paddling      Julie Wolfe    F  ...   \n",
       "1  St. Simon Island, Glynn County     Standing  Adyson McNeely     F  ...   \n",
       "2                    Habush, Oahu      Surfing      John Denges    M  ...   \n",
       "3              Arrawarra Headland      Surfing             male    M  ...   \n",
       "4                        La Ticla  Free diving   Gustavo Ramos     M  ...   \n",
       "\n",
       "          Species           Investigator or Source                       pdf  \\\n",
       "0      White shark                R. Collier, GSAF      2018.06.25-Wolfe.pdf   \n",
       "1              NaN  K.McMurray, TrackingSharks.com    2018.06.18-McNeely.pdf   \n",
       "2              NaN  K.McMurray, TrackingSharks.com     2018.06.09-Denges.pdf   \n",
       "3        2 m shark                  B. Myatt, GSAF  2018.06.08-Arrawarra.pdf   \n",
       "4  Tiger shark, 3m                       A .Kipper      2018.06.04-Ramos.pdf   \n",
       "\n",
       "                                        href formula  \\\n",
       "0  http://sharkattackfile.net/spreadsheets/pdf_di...   \n",
       "1  http://sharkattackfile.net/spreadsheets/pdf_di...   \n",
       "2  http://sharkattackfile.net/spreadsheets/pdf_di...   \n",
       "3  http://sharkattackfile.net/spreadsheets/pdf_di...   \n",
       "4  http://sharkattackfile.net/spreadsheets/pdf_di...   \n",
       "\n",
       "                                                href Case Number.1  \\\n",
       "0  http://sharkattackfile.net/spreadsheets/pdf_di...    2018.06.25   \n",
       "1  http://sharkattackfile.net/spreadsheets/pdf_di...    2018.06.18   \n",
       "2  http://sharkattackfile.net/spreadsheets/pdf_di...    2018.06.09   \n",
       "3  http://sharkattackfile.net/spreadsheets/pdf_di...    2018.06.08   \n",
       "4  http://sharkattackfile.net/spreadsheets/pdf_di...    2018.06.04   \n",
       "\n",
       "  Case Number.2 original order Unnamed: 22 Unnamed: 23  \n",
       "0    2018.06.25         6303.0         NaN         NaN  \n",
       "1    2018.06.18         6302.0         NaN         NaN  \n",
       "2    2018.06.09         6301.0         NaN         NaN  \n",
       "3    2018.06.08         6300.0         NaN         NaN  \n",
       "4    2018.06.04         6299.0         NaN         NaN  \n",
       "\n",
       "[5 rows x 24 columns]"
      ]
     },
     "execution_count": 27,
     "metadata": {},
     "output_type": "execute_result"
    }
   ],
   "source": [
    "df_csv = pd.read_csv('datasets/attacks.csv', encoding='iso8859_9')\n",
    "\n",
    "df_csv.head()"
   ]
  },
  {
   "cell_type": "code",
   "execution_count": 28,
   "id": "2d4f0abe",
   "metadata": {},
   "outputs": [
    {
     "data": {
      "text/html": [
       "<div>\n",
       "<style scoped>\n",
       "    .dataframe tbody tr th:only-of-type {\n",
       "        vertical-align: middle;\n",
       "    }\n",
       "\n",
       "    .dataframe tbody tr th {\n",
       "        vertical-align: top;\n",
       "    }\n",
       "\n",
       "    .dataframe thead th {\n",
       "        text-align: right;\n",
       "    }\n",
       "</style>\n",
       "<table border=\"1\" class=\"dataframe\">\n",
       "  <thead>\n",
       "    <tr style=\"text-align: right;\">\n",
       "      <th></th>\n",
       "      <th>Year</th>\n",
       "      <th>original order</th>\n",
       "    </tr>\n",
       "  </thead>\n",
       "  <tbody>\n",
       "    <tr>\n",
       "      <th>count</th>\n",
       "      <td>6300.000000</td>\n",
       "      <td>6309.000000</td>\n",
       "    </tr>\n",
       "    <tr>\n",
       "      <th>mean</th>\n",
       "      <td>1927.272381</td>\n",
       "      <td>3155.999683</td>\n",
       "    </tr>\n",
       "    <tr>\n",
       "      <th>std</th>\n",
       "      <td>281.116308</td>\n",
       "      <td>1821.396206</td>\n",
       "    </tr>\n",
       "    <tr>\n",
       "      <th>min</th>\n",
       "      <td>0.000000</td>\n",
       "      <td>2.000000</td>\n",
       "    </tr>\n",
       "    <tr>\n",
       "      <th>25%</th>\n",
       "      <td>1942.000000</td>\n",
       "      <td>1579.000000</td>\n",
       "    </tr>\n",
       "    <tr>\n",
       "      <th>50%</th>\n",
       "      <td>1977.000000</td>\n",
       "      <td>3156.000000</td>\n",
       "    </tr>\n",
       "    <tr>\n",
       "      <th>75%</th>\n",
       "      <td>2005.000000</td>\n",
       "      <td>4733.000000</td>\n",
       "    </tr>\n",
       "    <tr>\n",
       "      <th>max</th>\n",
       "      <td>2018.000000</td>\n",
       "      <td>6310.000000</td>\n",
       "    </tr>\n",
       "  </tbody>\n",
       "</table>\n",
       "</div>"
      ],
      "text/plain": [
       "              Year  original order\n",
       "count  6300.000000     6309.000000\n",
       "mean   1927.272381     3155.999683\n",
       "std     281.116308     1821.396206\n",
       "min       0.000000        2.000000\n",
       "25%    1942.000000     1579.000000\n",
       "50%    1977.000000     3156.000000\n",
       "75%    2005.000000     4733.000000\n",
       "max    2018.000000     6310.000000"
      ]
     },
     "execution_count": 28,
     "metadata": {},
     "output_type": "execute_result"
    }
   ],
   "source": [
    "df_csv.describe()"
   ]
  },
  {
   "cell_type": "code",
   "execution_count": 29,
   "id": "24d165b8",
   "metadata": {},
   "outputs": [
    {
     "name": "stdout",
     "output_type": "stream",
     "text": [
      "<class 'pandas.core.frame.DataFrame'>\n",
      "RangeIndex: 25723 entries, 0 to 25722\n",
      "Data columns (total 24 columns):\n",
      " #   Column                  Non-Null Count  Dtype  \n",
      "---  ------                  --------------  -----  \n",
      " 0   Case Number             8702 non-null   object \n",
      " 1   Date                    6302 non-null   object \n",
      " 2   Year                    6300 non-null   float64\n",
      " 3   Type                    6298 non-null   object \n",
      " 4   Country                 6252 non-null   object \n",
      " 5   Area                    5847 non-null   object \n",
      " 6   Location                5762 non-null   object \n",
      " 7   Activity                5758 non-null   object \n",
      " 8   Name                    6092 non-null   object \n",
      " 9   Sex                     5737 non-null   object \n",
      " 10  Age                     3471 non-null   object \n",
      " 11  Injury                  6274 non-null   object \n",
      " 12  Fatal (Y/N)             5763 non-null   object \n",
      " 13  Time                    2948 non-null   object \n",
      " 14  Species                 3464 non-null   object \n",
      " 15  Investigator or Source  6285 non-null   object \n",
      " 16  pdf                     6302 non-null   object \n",
      " 17  href formula            6301 non-null   object \n",
      " 18  href                    6302 non-null   object \n",
      " 19  Case Number.1           6302 non-null   object \n",
      " 20  Case Number.2           6302 non-null   object \n",
      " 21  original order          6309 non-null   float64\n",
      " 22  Unnamed: 22             1 non-null      object \n",
      " 23  Unnamed: 23             2 non-null      object \n",
      "dtypes: float64(2), object(22)\n",
      "memory usage: 4.7+ MB\n"
     ]
    }
   ],
   "source": [
    "df_csv.info()"
   ]
  },
  {
   "cell_type": "code",
   "execution_count": 40,
   "id": "322175eb",
   "metadata": {},
   "outputs": [],
   "source": [
    "df_csv.to_csv('datasets/tiburones.csv', index=False)"
   ]
  },
  {
   "cell_type": "markdown",
   "id": "d0d65d5b",
   "metadata": {},
   "source": [
    "---"
   ]
  },
  {
   "cell_type": "markdown",
   "id": "12be646d",
   "metadata": {},
   "source": [
    "__.JSON Files__"
   ]
  },
  {
   "cell_type": "code",
   "execution_count": 30,
   "id": "2bf608ab",
   "metadata": {
    "scrolled": true
   },
   "outputs": [],
   "source": [
    "import json\n",
    "\n",
    "with open('datasets/github_pulls.json') as archivo:\n",
    "    \n",
    "    json = json.load(archivo)"
   ]
  },
  {
   "cell_type": "code",
   "execution_count": 33,
   "id": "1cd98df2",
   "metadata": {},
   "outputs": [
    {
     "data": {
      "text/plain": [
       "dict_keys(['url', 'id', 'node_id', 'html_url', 'diff_url', 'patch_url', 'issue_url', 'number', 'state', 'locked', 'title', 'user', 'body', 'created_at', 'updated_at', 'closed_at', 'merged_at', 'merge_commit_sha', 'assignee', 'assignees', 'requested_reviewers', 'requested_teams', 'labels', 'milestone', 'draft', 'commits_url', 'review_comments_url', 'review_comment_url', 'comments_url', 'statuses_url', 'head', 'base', '_links', 'author_association', 'auto_merge', 'active_lock_reason'])"
      ]
     },
     "execution_count": 33,
     "metadata": {},
     "output_type": "execute_result"
    }
   ],
   "source": [
    "json[0].keys()"
   ]
  },
  {
   "cell_type": "code",
   "execution_count": 34,
   "id": "f345c90e",
   "metadata": {},
   "outputs": [
    {
     "data": {
      "text/html": [
       "<div>\n",
       "<style scoped>\n",
       "    .dataframe tbody tr th:only-of-type {\n",
       "        vertical-align: middle;\n",
       "    }\n",
       "\n",
       "    .dataframe tbody tr th {\n",
       "        vertical-align: top;\n",
       "    }\n",
       "\n",
       "    .dataframe thead th {\n",
       "        text-align: right;\n",
       "    }\n",
       "</style>\n",
       "<table border=\"1\" class=\"dataframe\">\n",
       "  <thead>\n",
       "    <tr style=\"text-align: right;\">\n",
       "      <th></th>\n",
       "      <th>url</th>\n",
       "      <th>id</th>\n",
       "      <th>node_id</th>\n",
       "      <th>html_url</th>\n",
       "      <th>diff_url</th>\n",
       "      <th>patch_url</th>\n",
       "      <th>issue_url</th>\n",
       "      <th>number</th>\n",
       "      <th>state</th>\n",
       "      <th>locked</th>\n",
       "      <th>...</th>\n",
       "      <th>review_comments_url</th>\n",
       "      <th>review_comment_url</th>\n",
       "      <th>comments_url</th>\n",
       "      <th>statuses_url</th>\n",
       "      <th>head</th>\n",
       "      <th>base</th>\n",
       "      <th>_links</th>\n",
       "      <th>author_association</th>\n",
       "      <th>auto_merge</th>\n",
       "      <th>active_lock_reason</th>\n",
       "    </tr>\n",
       "  </thead>\n",
       "  <tbody>\n",
       "    <tr>\n",
       "      <th>0</th>\n",
       "      <td>https://api.github.com/repos/ih-datapt-mad/dat...</td>\n",
       "      <td>1558177807</td>\n",
       "      <td>PR_kwDOKTHW1M5c3-gP</td>\n",
       "      <td>https://github.com/ih-datapt-mad/dataptmad0923...</td>\n",
       "      <td>https://github.com/ih-datapt-mad/dataptmad0923...</td>\n",
       "      <td>https://github.com/ih-datapt-mad/dataptmad0923...</td>\n",
       "      <td>https://api.github.com/repos/ih-datapt-mad/dat...</td>\n",
       "      <td>106</td>\n",
       "      <td>open</td>\n",
       "      <td>False</td>\n",
       "      <td>...</td>\n",
       "      <td>https://api.github.com/repos/ih-datapt-mad/dat...</td>\n",
       "      <td>https://api.github.com/repos/ih-datapt-mad/dat...</td>\n",
       "      <td>https://api.github.com/repos/ih-datapt-mad/dat...</td>\n",
       "      <td>https://api.github.com/repos/ih-datapt-mad/dat...</td>\n",
       "      <td>{'label': 'Guillemorato:error-handling-guille'...</td>\n",
       "      <td>{'label': 'ih-datapt-mad:main', 'ref': 'main',...</td>\n",
       "      <td>{'self': {'href': 'https://api.github.com/repo...</td>\n",
       "      <td>NONE</td>\n",
       "      <td>NaN</td>\n",
       "      <td>NaN</td>\n",
       "    </tr>\n",
       "    <tr>\n",
       "      <th>1</th>\n",
       "      <td>https://api.github.com/repos/ih-datapt-mad/dat...</td>\n",
       "      <td>1557503243</td>\n",
       "      <td>PR_kwDOKTHW1M5c1Z0L</td>\n",
       "      <td>https://github.com/ih-datapt-mad/dataptmad0923...</td>\n",
       "      <td>https://github.com/ih-datapt-mad/dataptmad0923...</td>\n",
       "      <td>https://github.com/ih-datapt-mad/dataptmad0923...</td>\n",
       "      <td>https://api.github.com/repos/ih-datapt-mad/dat...</td>\n",
       "      <td>105</td>\n",
       "      <td>open</td>\n",
       "      <td>False</td>\n",
       "      <td>...</td>\n",
       "      <td>https://api.github.com/repos/ih-datapt-mad/dat...</td>\n",
       "      <td>https://api.github.com/repos/ih-datapt-mad/dat...</td>\n",
       "      <td>https://api.github.com/repos/ih-datapt-mad/dat...</td>\n",
       "      <td>https://api.github.com/repos/ih-datapt-mad/dat...</td>\n",
       "      <td>{'label': 'tomasmorin97:error-handling', 'ref'...</td>\n",
       "      <td>{'label': 'ih-datapt-mad:main', 'ref': 'main',...</td>\n",
       "      <td>{'self': {'href': 'https://api.github.com/repo...</td>\n",
       "      <td>NONE</td>\n",
       "      <td>NaN</td>\n",
       "      <td>NaN</td>\n",
       "    </tr>\n",
       "    <tr>\n",
       "      <th>2</th>\n",
       "      <td>https://api.github.com/repos/ih-datapt-mad/dat...</td>\n",
       "      <td>1557498093</td>\n",
       "      <td>PR_kwDOKTHW1M5c1Yjt</td>\n",
       "      <td>https://github.com/ih-datapt-mad/dataptmad0923...</td>\n",
       "      <td>https://github.com/ih-datapt-mad/dataptmad0923...</td>\n",
       "      <td>https://github.com/ih-datapt-mad/dataptmad0923...</td>\n",
       "      <td>https://api.github.com/repos/ih-datapt-mad/dat...</td>\n",
       "      <td>104</td>\n",
       "      <td>open</td>\n",
       "      <td>False</td>\n",
       "      <td>...</td>\n",
       "      <td>https://api.github.com/repos/ih-datapt-mad/dat...</td>\n",
       "      <td>https://api.github.com/repos/ih-datapt-mad/dat...</td>\n",
       "      <td>https://api.github.com/repos/ih-datapt-mad/dat...</td>\n",
       "      <td>https://api.github.com/repos/ih-datapt-mad/dat...</td>\n",
       "      <td>{'label': 'Guillemorato:list-comprension-guill...</td>\n",
       "      <td>{'label': 'ih-datapt-mad:main', 'ref': 'main',...</td>\n",
       "      <td>{'self': {'href': 'https://api.github.com/repo...</td>\n",
       "      <td>NONE</td>\n",
       "      <td>NaN</td>\n",
       "      <td>NaN</td>\n",
       "    </tr>\n",
       "    <tr>\n",
       "      <th>3</th>\n",
       "      <td>https://api.github.com/repos/ih-datapt-mad/dat...</td>\n",
       "      <td>1556968958</td>\n",
       "      <td>PR_kwDOKTHW1M5czXX-</td>\n",
       "      <td>https://github.com/ih-datapt-mad/dataptmad0923...</td>\n",
       "      <td>https://github.com/ih-datapt-mad/dataptmad0923...</td>\n",
       "      <td>https://github.com/ih-datapt-mad/dataptmad0923...</td>\n",
       "      <td>https://api.github.com/repos/ih-datapt-mad/dat...</td>\n",
       "      <td>103</td>\n",
       "      <td>open</td>\n",
       "      <td>False</td>\n",
       "      <td>...</td>\n",
       "      <td>https://api.github.com/repos/ih-datapt-mad/dat...</td>\n",
       "      <td>https://api.github.com/repos/ih-datapt-mad/dat...</td>\n",
       "      <td>https://api.github.com/repos/ih-datapt-mad/dat...</td>\n",
       "      <td>https://api.github.com/repos/ih-datapt-mad/dat...</td>\n",
       "      <td>{'label': 'SilviaAlconGarrido:numpy-Silvia-Alc...</td>\n",
       "      <td>{'label': 'ih-datapt-mad:main', 'ref': 'main',...</td>\n",
       "      <td>{'self': {'href': 'https://api.github.com/repo...</td>\n",
       "      <td>NONE</td>\n",
       "      <td>NaN</td>\n",
       "      <td>NaN</td>\n",
       "    </tr>\n",
       "    <tr>\n",
       "      <th>4</th>\n",
       "      <td>https://api.github.com/repos/ih-datapt-mad/dat...</td>\n",
       "      <td>1556926203</td>\n",
       "      <td>PR_kwDOKTHW1M5czM77</td>\n",
       "      <td>https://github.com/ih-datapt-mad/dataptmad0923...</td>\n",
       "      <td>https://github.com/ih-datapt-mad/dataptmad0923...</td>\n",
       "      <td>https://github.com/ih-datapt-mad/dataptmad0923...</td>\n",
       "      <td>https://api.github.com/repos/ih-datapt-mad/dat...</td>\n",
       "      <td>102</td>\n",
       "      <td>open</td>\n",
       "      <td>False</td>\n",
       "      <td>...</td>\n",
       "      <td>https://api.github.com/repos/ih-datapt-mad/dat...</td>\n",
       "      <td>https://api.github.com/repos/ih-datapt-mad/dat...</td>\n",
       "      <td>https://api.github.com/repos/ih-datapt-mad/dat...</td>\n",
       "      <td>https://api.github.com/repos/ih-datapt-mad/dat...</td>\n",
       "      <td>{'label': 'AndrewBavuels:numpy', 'ref': 'numpy...</td>\n",
       "      <td>{'label': 'ih-datapt-mad:main', 'ref': 'main',...</td>\n",
       "      <td>{'self': {'href': 'https://api.github.com/repo...</td>\n",
       "      <td>NONE</td>\n",
       "      <td>NaN</td>\n",
       "      <td>NaN</td>\n",
       "    </tr>\n",
       "  </tbody>\n",
       "</table>\n",
       "<p>5 rows × 36 columns</p>\n",
       "</div>"
      ],
      "text/plain": [
       "                                                 url          id  \\\n",
       "0  https://api.github.com/repos/ih-datapt-mad/dat...  1558177807   \n",
       "1  https://api.github.com/repos/ih-datapt-mad/dat...  1557503243   \n",
       "2  https://api.github.com/repos/ih-datapt-mad/dat...  1557498093   \n",
       "3  https://api.github.com/repos/ih-datapt-mad/dat...  1556968958   \n",
       "4  https://api.github.com/repos/ih-datapt-mad/dat...  1556926203   \n",
       "\n",
       "               node_id                                           html_url  \\\n",
       "0  PR_kwDOKTHW1M5c3-gP  https://github.com/ih-datapt-mad/dataptmad0923...   \n",
       "1  PR_kwDOKTHW1M5c1Z0L  https://github.com/ih-datapt-mad/dataptmad0923...   \n",
       "2  PR_kwDOKTHW1M5c1Yjt  https://github.com/ih-datapt-mad/dataptmad0923...   \n",
       "3  PR_kwDOKTHW1M5czXX-  https://github.com/ih-datapt-mad/dataptmad0923...   \n",
       "4  PR_kwDOKTHW1M5czM77  https://github.com/ih-datapt-mad/dataptmad0923...   \n",
       "\n",
       "                                            diff_url  \\\n",
       "0  https://github.com/ih-datapt-mad/dataptmad0923...   \n",
       "1  https://github.com/ih-datapt-mad/dataptmad0923...   \n",
       "2  https://github.com/ih-datapt-mad/dataptmad0923...   \n",
       "3  https://github.com/ih-datapt-mad/dataptmad0923...   \n",
       "4  https://github.com/ih-datapt-mad/dataptmad0923...   \n",
       "\n",
       "                                           patch_url  \\\n",
       "0  https://github.com/ih-datapt-mad/dataptmad0923...   \n",
       "1  https://github.com/ih-datapt-mad/dataptmad0923...   \n",
       "2  https://github.com/ih-datapt-mad/dataptmad0923...   \n",
       "3  https://github.com/ih-datapt-mad/dataptmad0923...   \n",
       "4  https://github.com/ih-datapt-mad/dataptmad0923...   \n",
       "\n",
       "                                           issue_url  number state  locked  \\\n",
       "0  https://api.github.com/repos/ih-datapt-mad/dat...     106  open   False   \n",
       "1  https://api.github.com/repos/ih-datapt-mad/dat...     105  open   False   \n",
       "2  https://api.github.com/repos/ih-datapt-mad/dat...     104  open   False   \n",
       "3  https://api.github.com/repos/ih-datapt-mad/dat...     103  open   False   \n",
       "4  https://api.github.com/repos/ih-datapt-mad/dat...     102  open   False   \n",
       "\n",
       "   ...                                review_comments_url  \\\n",
       "0  ...  https://api.github.com/repos/ih-datapt-mad/dat...   \n",
       "1  ...  https://api.github.com/repos/ih-datapt-mad/dat...   \n",
       "2  ...  https://api.github.com/repos/ih-datapt-mad/dat...   \n",
       "3  ...  https://api.github.com/repos/ih-datapt-mad/dat...   \n",
       "4  ...  https://api.github.com/repos/ih-datapt-mad/dat...   \n",
       "\n",
       "                                  review_comment_url  \\\n",
       "0  https://api.github.com/repos/ih-datapt-mad/dat...   \n",
       "1  https://api.github.com/repos/ih-datapt-mad/dat...   \n",
       "2  https://api.github.com/repos/ih-datapt-mad/dat...   \n",
       "3  https://api.github.com/repos/ih-datapt-mad/dat...   \n",
       "4  https://api.github.com/repos/ih-datapt-mad/dat...   \n",
       "\n",
       "                                        comments_url  \\\n",
       "0  https://api.github.com/repos/ih-datapt-mad/dat...   \n",
       "1  https://api.github.com/repos/ih-datapt-mad/dat...   \n",
       "2  https://api.github.com/repos/ih-datapt-mad/dat...   \n",
       "3  https://api.github.com/repos/ih-datapt-mad/dat...   \n",
       "4  https://api.github.com/repos/ih-datapt-mad/dat...   \n",
       "\n",
       "                                        statuses_url  \\\n",
       "0  https://api.github.com/repos/ih-datapt-mad/dat...   \n",
       "1  https://api.github.com/repos/ih-datapt-mad/dat...   \n",
       "2  https://api.github.com/repos/ih-datapt-mad/dat...   \n",
       "3  https://api.github.com/repos/ih-datapt-mad/dat...   \n",
       "4  https://api.github.com/repos/ih-datapt-mad/dat...   \n",
       "\n",
       "                                                head  \\\n",
       "0  {'label': 'Guillemorato:error-handling-guille'...   \n",
       "1  {'label': 'tomasmorin97:error-handling', 'ref'...   \n",
       "2  {'label': 'Guillemorato:list-comprension-guill...   \n",
       "3  {'label': 'SilviaAlconGarrido:numpy-Silvia-Alc...   \n",
       "4  {'label': 'AndrewBavuels:numpy', 'ref': 'numpy...   \n",
       "\n",
       "                                                base  \\\n",
       "0  {'label': 'ih-datapt-mad:main', 'ref': 'main',...   \n",
       "1  {'label': 'ih-datapt-mad:main', 'ref': 'main',...   \n",
       "2  {'label': 'ih-datapt-mad:main', 'ref': 'main',...   \n",
       "3  {'label': 'ih-datapt-mad:main', 'ref': 'main',...   \n",
       "4  {'label': 'ih-datapt-mad:main', 'ref': 'main',...   \n",
       "\n",
       "                                              _links author_association  \\\n",
       "0  {'self': {'href': 'https://api.github.com/repo...               NONE   \n",
       "1  {'self': {'href': 'https://api.github.com/repo...               NONE   \n",
       "2  {'self': {'href': 'https://api.github.com/repo...               NONE   \n",
       "3  {'self': {'href': 'https://api.github.com/repo...               NONE   \n",
       "4  {'self': {'href': 'https://api.github.com/repo...               NONE   \n",
       "\n",
       "   auto_merge active_lock_reason  \n",
       "0         NaN                NaN  \n",
       "1         NaN                NaN  \n",
       "2         NaN                NaN  \n",
       "3         NaN                NaN  \n",
       "4         NaN                NaN  \n",
       "\n",
       "[5 rows x 36 columns]"
      ]
     },
     "execution_count": 34,
     "metadata": {},
     "output_type": "execute_result"
    }
   ],
   "source": [
    "df_json = pd.read_json('datasets/github_pulls.json')\n",
    "\n",
    "df_json.head()"
   ]
  },
  {
   "cell_type": "code",
   "execution_count": 39,
   "id": "f8a49524",
   "metadata": {},
   "outputs": [
    {
     "data": {
      "text/plain": [
       "'https://github.com/ih-datapt-mad/dataptmad0923_labs/pull/106.diff'"
      ]
     },
     "execution_count": 39,
     "metadata": {},
     "output_type": "execute_result"
    }
   ],
   "source": [
    "urls = df_json['diff_url']\n",
    "\n",
    "urls[0]"
   ]
  },
  {
   "cell_type": "code",
   "execution_count": 41,
   "id": "bb08ab58",
   "metadata": {},
   "outputs": [],
   "source": [
    "urls.to_json('datasets/urls.json')"
   ]
  },
  {
   "cell_type": "markdown",
   "id": "6b0862fe",
   "metadata": {},
   "source": [
    "---"
   ]
  },
  {
   "cell_type": "markdown",
   "id": "ae360767",
   "metadata": {},
   "source": [
    "__.XLSX Files__"
   ]
  },
  {
   "cell_type": "code",
   "execution_count": null,
   "id": "5c2b3877",
   "metadata": {},
   "outputs": [],
   "source": [
    "# Additional libraries for Excel files\n",
    "\n",
    "#!conda install -y xlrd\n",
    "#!conda install -y openpyxl"
   ]
  },
  {
   "cell_type": "code",
   "execution_count": null,
   "id": "5222d79a",
   "metadata": {},
   "outputs": [],
   "source": [
    "%pip install xlrd\n",
    "%pip install openpyxl"
   ]
  },
  {
   "cell_type": "code",
   "execution_count": 42,
   "id": "6888056f",
   "metadata": {},
   "outputs": [
    {
     "data": {
      "text/html": [
       "<div>\n",
       "<style scoped>\n",
       "    .dataframe tbody tr th:only-of-type {\n",
       "        vertical-align: middle;\n",
       "    }\n",
       "\n",
       "    .dataframe tbody tr th {\n",
       "        vertical-align: top;\n",
       "    }\n",
       "\n",
       "    .dataframe thead th {\n",
       "        text-align: right;\n",
       "    }\n",
       "</style>\n",
       "<table border=\"1\" class=\"dataframe\">\n",
       "  <thead>\n",
       "    <tr style=\"text-align: right;\">\n",
       "      <th></th>\n",
       "      <th>num_expediente</th>\n",
       "      <th>fecha</th>\n",
       "      <th>hora</th>\n",
       "      <th>localizacion</th>\n",
       "      <th>numero</th>\n",
       "      <th>cod_distrito</th>\n",
       "      <th>distrito</th>\n",
       "      <th>tipo_accidente</th>\n",
       "      <th>estado_meteorológico</th>\n",
       "      <th>tipo_vehiculo</th>\n",
       "      <th>tipo_persona</th>\n",
       "      <th>rango_edad</th>\n",
       "      <th>sexo</th>\n",
       "      <th>cod_lesividad</th>\n",
       "      <th>lesividad</th>\n",
       "      <th>coordenada_x_utm</th>\n",
       "      <th>coordenada_y_utm</th>\n",
       "      <th>positiva_alcohol</th>\n",
       "      <th>positiva_droga</th>\n",
       "    </tr>\n",
       "  </thead>\n",
       "  <tbody>\n",
       "    <tr>\n",
       "      <th>0</th>\n",
       "      <td>2023S000001</td>\n",
       "      <td>2023-01-01</td>\n",
       "      <td>01:15:00</td>\n",
       "      <td>AVDA. ALFONSO XIII, 33</td>\n",
       "      <td>33</td>\n",
       "      <td>5</td>\n",
       "      <td>CHAMARTÍN</td>\n",
       "      <td>Alcance</td>\n",
       "      <td>Despejado</td>\n",
       "      <td>Todo terreno</td>\n",
       "      <td>Conductor</td>\n",
       "      <td>De 55 a 59 años</td>\n",
       "      <td>Mujer</td>\n",
       "      <td>14.0</td>\n",
       "      <td>Sin asistencia sanitaria</td>\n",
       "      <td>443397.166</td>\n",
       "      <td>4478129.388</td>\n",
       "      <td>N</td>\n",
       "      <td>NaN</td>\n",
       "    </tr>\n",
       "    <tr>\n",
       "      <th>1</th>\n",
       "      <td>2023S000001</td>\n",
       "      <td>2023-01-01</td>\n",
       "      <td>01:15:00</td>\n",
       "      <td>AVDA. ALFONSO XIII, 33</td>\n",
       "      <td>33</td>\n",
       "      <td>5</td>\n",
       "      <td>CHAMARTÍN</td>\n",
       "      <td>Alcance</td>\n",
       "      <td>Despejado</td>\n",
       "      <td>Todo terreno</td>\n",
       "      <td>Pasajero</td>\n",
       "      <td>De 21 a 24 años</td>\n",
       "      <td>Hombre</td>\n",
       "      <td>14.0</td>\n",
       "      <td>Sin asistencia sanitaria</td>\n",
       "      <td>443397.166</td>\n",
       "      <td>4478129.388</td>\n",
       "      <td>N</td>\n",
       "      <td>NaN</td>\n",
       "    </tr>\n",
       "    <tr>\n",
       "      <th>2</th>\n",
       "      <td>2023S000001</td>\n",
       "      <td>2023-01-01</td>\n",
       "      <td>01:15:00</td>\n",
       "      <td>AVDA. ALFONSO XIII, 33</td>\n",
       "      <td>33</td>\n",
       "      <td>5</td>\n",
       "      <td>CHAMARTÍN</td>\n",
       "      <td>Alcance</td>\n",
       "      <td>Despejado</td>\n",
       "      <td>Todo terreno</td>\n",
       "      <td>Pasajero</td>\n",
       "      <td>De 21 a 24 años</td>\n",
       "      <td>Hombre</td>\n",
       "      <td>14.0</td>\n",
       "      <td>Sin asistencia sanitaria</td>\n",
       "      <td>443397.166</td>\n",
       "      <td>4478129.388</td>\n",
       "      <td>N</td>\n",
       "      <td>NaN</td>\n",
       "    </tr>\n",
       "    <tr>\n",
       "      <th>3</th>\n",
       "      <td>2023S000001</td>\n",
       "      <td>2023-01-01</td>\n",
       "      <td>01:15:00</td>\n",
       "      <td>AVDA. ALFONSO XIII, 33</td>\n",
       "      <td>33</td>\n",
       "      <td>5</td>\n",
       "      <td>CHAMARTÍN</td>\n",
       "      <td>Alcance</td>\n",
       "      <td>Despejado</td>\n",
       "      <td>Todo terreno</td>\n",
       "      <td>Pasajero</td>\n",
       "      <td>De 21 a 24 años</td>\n",
       "      <td>Mujer</td>\n",
       "      <td>7.0</td>\n",
       "      <td>Asistencia sanitaria sólo en el lugar del acci...</td>\n",
       "      <td>443397.166</td>\n",
       "      <td>4478129.388</td>\n",
       "      <td>N</td>\n",
       "      <td>NaN</td>\n",
       "    </tr>\n",
       "    <tr>\n",
       "      <th>4</th>\n",
       "      <td>2023S000001</td>\n",
       "      <td>2023-01-01</td>\n",
       "      <td>01:15:00</td>\n",
       "      <td>AVDA. ALFONSO XIII, 33</td>\n",
       "      <td>33</td>\n",
       "      <td>5</td>\n",
       "      <td>CHAMARTÍN</td>\n",
       "      <td>Alcance</td>\n",
       "      <td>Despejado</td>\n",
       "      <td>Todo terreno</td>\n",
       "      <td>Pasajero</td>\n",
       "      <td>De 55 a 59 años</td>\n",
       "      <td>Hombre</td>\n",
       "      <td>7.0</td>\n",
       "      <td>Asistencia sanitaria sólo en el lugar del acci...</td>\n",
       "      <td>443397.166</td>\n",
       "      <td>4478129.388</td>\n",
       "      <td>N</td>\n",
       "      <td>NaN</td>\n",
       "    </tr>\n",
       "  </tbody>\n",
       "</table>\n",
       "</div>"
      ],
      "text/plain": [
       "  num_expediente      fecha      hora            localizacion numero  \\\n",
       "0    2023S000001 2023-01-01  01:15:00  AVDA. ALFONSO XIII, 33     33   \n",
       "1    2023S000001 2023-01-01  01:15:00  AVDA. ALFONSO XIII, 33     33   \n",
       "2    2023S000001 2023-01-01  01:15:00  AVDA. ALFONSO XIII, 33     33   \n",
       "3    2023S000001 2023-01-01  01:15:00  AVDA. ALFONSO XIII, 33     33   \n",
       "4    2023S000001 2023-01-01  01:15:00  AVDA. ALFONSO XIII, 33     33   \n",
       "\n",
       "   cod_distrito   distrito tipo_accidente estado_meteorológico tipo_vehiculo  \\\n",
       "0             5  CHAMARTÍN        Alcance            Despejado  Todo terreno   \n",
       "1             5  CHAMARTÍN        Alcance            Despejado  Todo terreno   \n",
       "2             5  CHAMARTÍN        Alcance            Despejado  Todo terreno   \n",
       "3             5  CHAMARTÍN        Alcance            Despejado  Todo terreno   \n",
       "4             5  CHAMARTÍN        Alcance            Despejado  Todo terreno   \n",
       "\n",
       "  tipo_persona       rango_edad    sexo  cod_lesividad  \\\n",
       "0    Conductor  De 55 a 59 años   Mujer           14.0   \n",
       "1     Pasajero  De 21 a 24 años  Hombre           14.0   \n",
       "2     Pasajero  De 21 a 24 años  Hombre           14.0   \n",
       "3     Pasajero  De 21 a 24 años   Mujer            7.0   \n",
       "4     Pasajero  De 55 a 59 años  Hombre            7.0   \n",
       "\n",
       "                                           lesividad  coordenada_x_utm  \\\n",
       "0                           Sin asistencia sanitaria        443397.166   \n",
       "1                           Sin asistencia sanitaria        443397.166   \n",
       "2                           Sin asistencia sanitaria        443397.166   \n",
       "3  Asistencia sanitaria sólo en el lugar del acci...        443397.166   \n",
       "4  Asistencia sanitaria sólo en el lugar del acci...        443397.166   \n",
       "\n",
       "   coordenada_y_utm positiva_alcohol  positiva_droga  \n",
       "0       4478129.388                N             NaN  \n",
       "1       4478129.388                N             NaN  \n",
       "2       4478129.388                N             NaN  \n",
       "3       4478129.388                N             NaN  \n",
       "4       4478129.388                N             NaN  "
      ]
     },
     "execution_count": 42,
     "metadata": {},
     "output_type": "execute_result"
    }
   ],
   "source": [
    "df_xlsx = pd.read_excel('datasets/2023_Accidentalidad.xlsx')\n",
    "\n",
    "df_xlsx.head()"
   ]
  },
  {
   "cell_type": "markdown",
   "id": "630bc08e",
   "metadata": {},
   "source": [
    "---"
   ]
  },
  {
   "cell_type": "markdown",
   "id": "04949dad",
   "metadata": {},
   "source": [
    "__.PARQUET Files__"
   ]
  },
  {
   "cell_type": "code",
   "execution_count": null,
   "id": "5ac5ee75",
   "metadata": {},
   "outputs": [],
   "source": [
    "# Additional library for Parquet files\n",
    "\n",
    "#!conda install -c conda-forge pyarrow"
   ]
  },
  {
   "cell_type": "code",
   "execution_count": null,
   "id": "f2a51ac5",
   "metadata": {},
   "outputs": [],
   "source": [
    "%pip install pyarrow"
   ]
  },
  {
   "cell_type": "code",
   "execution_count": 44,
   "id": "c5abead1",
   "metadata": {},
   "outputs": [
    {
     "data": {
      "text/html": [
       "<div>\n",
       "<style scoped>\n",
       "    .dataframe tbody tr th:only-of-type {\n",
       "        vertical-align: middle;\n",
       "    }\n",
       "\n",
       "    .dataframe tbody tr th {\n",
       "        vertical-align: top;\n",
       "    }\n",
       "\n",
       "    .dataframe thead th {\n",
       "        text-align: right;\n",
       "    }\n",
       "</style>\n",
       "<table border=\"1\" class=\"dataframe\">\n",
       "  <thead>\n",
       "    <tr style=\"text-align: right;\">\n",
       "      <th></th>\n",
       "      <th>id</th>\n",
       "      <th>names</th>\n",
       "      <th>amount</th>\n",
       "    </tr>\n",
       "    <tr>\n",
       "      <th>__null_dask_index__</th>\n",
       "      <th></th>\n",
       "      <th></th>\n",
       "      <th></th>\n",
       "    </tr>\n",
       "  </thead>\n",
       "  <tbody>\n",
       "    <tr>\n",
       "      <th>0</th>\n",
       "      <td>23</td>\n",
       "      <td>Ursula</td>\n",
       "      <td>1380</td>\n",
       "    </tr>\n",
       "    <tr>\n",
       "      <th>1</th>\n",
       "      <td>92</td>\n",
       "      <td>Tim</td>\n",
       "      <td>-178</td>\n",
       "    </tr>\n",
       "    <tr>\n",
       "      <th>2</th>\n",
       "      <td>239</td>\n",
       "      <td>Alice</td>\n",
       "      <td>-784</td>\n",
       "    </tr>\n",
       "    <tr>\n",
       "      <th>3</th>\n",
       "      <td>260</td>\n",
       "      <td>Michael</td>\n",
       "      <td>-249</td>\n",
       "    </tr>\n",
       "    <tr>\n",
       "      <th>4</th>\n",
       "      <td>314</td>\n",
       "      <td>Jerry</td>\n",
       "      <td>1299</td>\n",
       "    </tr>\n",
       "  </tbody>\n",
       "</table>\n",
       "</div>"
      ],
      "text/plain": [
       "                      id    names  amount\n",
       "__null_dask_index__                      \n",
       "0                     23   Ursula    1380\n",
       "1                     92      Tim    -178\n",
       "2                    239    Alice    -784\n",
       "3                    260  Michael    -249\n",
       "4                    314    Jerry    1299"
      ]
     },
     "execution_count": 44,
     "metadata": {},
     "output_type": "execute_result"
    }
   ],
   "source": [
    "df_parquet = pd.read_parquet('datasets/part.parquet')\n",
    "\n",
    "df_parquet.head()"
   ]
  },
  {
   "cell_type": "code",
   "execution_count": 45,
   "id": "a2051bb1",
   "metadata": {},
   "outputs": [
    {
     "name": "stdout",
     "output_type": "stream",
     "text": [
      "<class 'pandas.core.frame.DataFrame'>\n",
      "Int64Index: 1000000 entries, 0 to 999999\n",
      "Data columns (total 3 columns):\n",
      " #   Column  Non-Null Count    Dtype \n",
      "---  ------  --------------    ----- \n",
      " 0   id      1000000 non-null  int64 \n",
      " 1   names   1000000 non-null  object\n",
      " 2   amount  1000000 non-null  int64 \n",
      "dtypes: int64(2), object(1)\n",
      "memory usage: 30.5+ MB\n"
     ]
    }
   ],
   "source": [
    "df_parquet.info()"
   ]
  },
  {
   "cell_type": "code",
   "execution_count": 50,
   "id": "7d2b7e9b",
   "metadata": {},
   "outputs": [
    {
     "name": "stdout",
     "output_type": "stream",
     "text": [
      "<class 'pandas.core.frame.DataFrame'>\n",
      "RangeIndex: 2000000 entries, 0 to 1999999\n",
      "Data columns (total 4 columns):\n",
      " #   Column               Dtype \n",
      "---  ------               ----- \n",
      " 0   __null_dask_index__  int64 \n",
      " 1   id                   int64 \n",
      " 2   names                object\n",
      " 3   amount               int64 \n",
      "dtypes: int64(3), object(1)\n",
      "memory usage: 61.0+ MB\n"
     ]
    }
   ],
   "source": [
    "tocho = pd.concat([df_parquet, df_parquet]).reset_index()\n",
    "\n",
    "tocho.info()"
   ]
  },
  {
   "cell_type": "code",
   "execution_count": 51,
   "id": "0d20e4e2",
   "metadata": {},
   "outputs": [],
   "source": [
    "tocho.to_parquet('datasets/tocho.parquet')"
   ]
  },
  {
   "cell_type": "code",
   "execution_count": 52,
   "id": "5072fe2b",
   "metadata": {},
   "outputs": [
    {
     "name": "stdout",
     "output_type": "stream",
     "text": [
      "<class 'pandas.core.frame.DataFrame'>\n",
      "RangeIndex: 2000000 entries, 0 to 1999999\n",
      "Data columns (total 4 columns):\n",
      " #   Column               Dtype \n",
      "---  ------               ----- \n",
      " 0   __null_dask_index__  int64 \n",
      " 1   id                   int64 \n",
      " 2   names                object\n",
      " 3   amount               int64 \n",
      "dtypes: int64(3), object(1)\n",
      "memory usage: 61.0+ MB\n"
     ]
    }
   ],
   "source": [
    "df_tocho = pd.read_parquet('datasets/tocho.parquet')\n",
    "\n",
    "df_tocho.info()"
   ]
  },
  {
   "cell_type": "code",
   "execution_count": 54,
   "id": "a82e281d",
   "metadata": {},
   "outputs": [
    {
     "data": {
      "text/html": [
       "<div>\n",
       "<style scoped>\n",
       "    .dataframe tbody tr th:only-of-type {\n",
       "        vertical-align: middle;\n",
       "    }\n",
       "\n",
       "    .dataframe tbody tr th {\n",
       "        vertical-align: top;\n",
       "    }\n",
       "\n",
       "    .dataframe thead th {\n",
       "        text-align: right;\n",
       "    }\n",
       "</style>\n",
       "<table border=\"1\" class=\"dataframe\">\n",
       "  <thead>\n",
       "    <tr style=\"text-align: right;\">\n",
       "      <th></th>\n",
       "      <th>__null_dask_index__</th>\n",
       "      <th>id</th>\n",
       "      <th>names</th>\n",
       "      <th>amount</th>\n",
       "    </tr>\n",
       "  </thead>\n",
       "  <tbody>\n",
       "    <tr>\n",
       "      <th>0</th>\n",
       "      <td>0</td>\n",
       "      <td>23</td>\n",
       "      <td>Ursula</td>\n",
       "      <td>1380</td>\n",
       "    </tr>\n",
       "    <tr>\n",
       "      <th>1</th>\n",
       "      <td>1</td>\n",
       "      <td>92</td>\n",
       "      <td>Tim</td>\n",
       "      <td>-178</td>\n",
       "    </tr>\n",
       "    <tr>\n",
       "      <th>2</th>\n",
       "      <td>2</td>\n",
       "      <td>239</td>\n",
       "      <td>Alice</td>\n",
       "      <td>-784</td>\n",
       "    </tr>\n",
       "    <tr>\n",
       "      <th>3</th>\n",
       "      <td>3</td>\n",
       "      <td>260</td>\n",
       "      <td>Michael</td>\n",
       "      <td>-249</td>\n",
       "    </tr>\n",
       "    <tr>\n",
       "      <th>4</th>\n",
       "      <td>4</td>\n",
       "      <td>314</td>\n",
       "      <td>Jerry</td>\n",
       "      <td>1299</td>\n",
       "    </tr>\n",
       "  </tbody>\n",
       "</table>\n",
       "</div>"
      ],
      "text/plain": [
       "   __null_dask_index__   id    names  amount\n",
       "0                    0   23   Ursula    1380\n",
       "1                    1   92      Tim    -178\n",
       "2                    2  239    Alice    -784\n",
       "3                    3  260  Michael    -249\n",
       "4                    4  314    Jerry    1299"
      ]
     },
     "execution_count": 54,
     "metadata": {},
     "output_type": "execute_result"
    }
   ],
   "source": [
    "df_tocho.head()"
   ]
  },
  {
   "cell_type": "code",
   "execution_count": 55,
   "id": "69a4f6dd",
   "metadata": {},
   "outputs": [
    {
     "data": {
      "text/html": [
       "<div>\n",
       "<style scoped>\n",
       "    .dataframe tbody tr th:only-of-type {\n",
       "        vertical-align: middle;\n",
       "    }\n",
       "\n",
       "    .dataframe tbody tr th {\n",
       "        vertical-align: top;\n",
       "    }\n",
       "\n",
       "    .dataframe thead th {\n",
       "        text-align: right;\n",
       "    }\n",
       "</style>\n",
       "<table border=\"1\" class=\"dataframe\">\n",
       "  <thead>\n",
       "    <tr style=\"text-align: right;\">\n",
       "      <th></th>\n",
       "      <th>__null_dask_index__</th>\n",
       "      <th>id</th>\n",
       "      <th>names</th>\n",
       "      <th>amount</th>\n",
       "    </tr>\n",
       "  </thead>\n",
       "  <tbody>\n",
       "    <tr>\n",
       "      <th>1999995</th>\n",
       "      <td>999995</td>\n",
       "      <td>60</td>\n",
       "      <td>Oliver</td>\n",
       "      <td>176</td>\n",
       "    </tr>\n",
       "    <tr>\n",
       "      <th>1999996</th>\n",
       "      <td>999996</td>\n",
       "      <td>440</td>\n",
       "      <td>Sarah</td>\n",
       "      <td>1292</td>\n",
       "    </tr>\n",
       "    <tr>\n",
       "      <th>1999997</th>\n",
       "      <td>999997</td>\n",
       "      <td>24</td>\n",
       "      <td>Victor</td>\n",
       "      <td>559</td>\n",
       "    </tr>\n",
       "    <tr>\n",
       "      <th>1999998</th>\n",
       "      <td>999998</td>\n",
       "      <td>66</td>\n",
       "      <td>George</td>\n",
       "      <td>2093</td>\n",
       "    </tr>\n",
       "    <tr>\n",
       "      <th>1999999</th>\n",
       "      <td>999999</td>\n",
       "      <td>39</td>\n",
       "      <td>Frank</td>\n",
       "      <td>204</td>\n",
       "    </tr>\n",
       "  </tbody>\n",
       "</table>\n",
       "</div>"
      ],
      "text/plain": [
       "         __null_dask_index__   id   names  amount\n",
       "1999995               999995   60  Oliver     176\n",
       "1999996               999996  440   Sarah    1292\n",
       "1999997               999997   24  Victor     559\n",
       "1999998               999998   66  George    2093\n",
       "1999999               999999   39   Frank     204"
      ]
     },
     "execution_count": 55,
     "metadata": {},
     "output_type": "execute_result"
    }
   ],
   "source": [
    "df_tocho.tail()"
   ]
  },
  {
   "cell_type": "code",
   "execution_count": 60,
   "id": "fb671801",
   "metadata": {},
   "outputs": [],
   "source": [
    "df_xlsx.select_dtypes('number').to_parquet('datasets/desde_excel.parquet')"
   ]
  },
  {
   "cell_type": "code",
   "execution_count": 61,
   "id": "8fc6ca6c",
   "metadata": {},
   "outputs": [
    {
     "name": "stdout",
     "output_type": "stream",
     "text": [
      "<class 'pandas.core.frame.DataFrame'>\n",
      "RangeIndex: 4007 entries, 0 to 4006\n",
      "Data columns (total 5 columns):\n",
      " #   Column            Non-Null Count  Dtype  \n",
      "---  ------            --------------  -----  \n",
      " 0   cod_distrito      4007 non-null   int64  \n",
      " 1   cod_lesividad     2030 non-null   float64\n",
      " 2   coordenada_x_utm  4004 non-null   float64\n",
      " 3   coordenada_y_utm  4004 non-null   float64\n",
      " 4   positiva_droga    12 non-null     float64\n",
      "dtypes: float64(4), int64(1)\n",
      "memory usage: 156.6 KB\n"
     ]
    }
   ],
   "source": [
    "df_xlsx = pd.read_parquet('datasets/desde_excel.parquet')\n",
    "\n",
    "df_xlsx.info()"
   ]
  },
  {
   "cell_type": "code",
   "execution_count": 70,
   "id": "0457e408",
   "metadata": {},
   "outputs": [
    {
     "data": {
      "text/html": [
       "<div>\n",
       "<style scoped>\n",
       "    .dataframe tbody tr th:only-of-type {\n",
       "        vertical-align: middle;\n",
       "    }\n",
       "\n",
       "    .dataframe tbody tr th {\n",
       "        vertical-align: top;\n",
       "    }\n",
       "\n",
       "    .dataframe thead th {\n",
       "        text-align: right;\n",
       "    }\n",
       "</style>\n",
       "<table border=\"1\" class=\"dataframe\">\n",
       "  <thead>\n",
       "    <tr style=\"text-align: right;\">\n",
       "      <th></th>\n",
       "      <th>55 0 81 0 -6 11 25 88 64 4</th>\n",
       "    </tr>\n",
       "  </thead>\n",
       "  <tbody>\n",
       "    <tr>\n",
       "      <th>0</th>\n",
       "      <td>56 0 96 0 52 -4 40 44 4 4</td>\n",
       "    </tr>\n",
       "    <tr>\n",
       "      <th>1</th>\n",
       "      <td>50 -1 89 -7 50 0 39 40 2 1</td>\n",
       "    </tr>\n",
       "    <tr>\n",
       "      <th>2</th>\n",
       "      <td>53 9 79 0 42 -2 25 37 12 4</td>\n",
       "    </tr>\n",
       "    <tr>\n",
       "      <th>3</th>\n",
       "      <td>55 2 82 0 54 -6 26 28 2 1</td>\n",
       "    </tr>\n",
       "    <tr>\n",
       "      <th>4</th>\n",
       "      <td>41 0 84 3 38 -4 43 45 2 1</td>\n",
       "    </tr>\n",
       "    <tr>\n",
       "      <th>...</th>\n",
       "      <td>...</td>\n",
       "    </tr>\n",
       "    <tr>\n",
       "      <th>14494</th>\n",
       "      <td>80 0 84 0 -36 -29 4 120 116 5</td>\n",
       "    </tr>\n",
       "    <tr>\n",
       "      <th>14495</th>\n",
       "      <td>55 0 81 0 -20 25 26 102 76 4</td>\n",
       "    </tr>\n",
       "    <tr>\n",
       "      <th>14496</th>\n",
       "      <td>55 0 77 0 12 -22 22 65 42 4</td>\n",
       "    </tr>\n",
       "    <tr>\n",
       "      <th>14497</th>\n",
       "      <td>37 0 103 0 18 -16 66 85 20 1</td>\n",
       "    </tr>\n",
       "    <tr>\n",
       "      <th>14498</th>\n",
       "      <td>56 2 98 0 52 1 42 46 4 4</td>\n",
       "    </tr>\n",
       "  </tbody>\n",
       "</table>\n",
       "<p>14499 rows × 1 columns</p>\n",
       "</div>"
      ],
      "text/plain": [
       "          55 0 81 0 -6 11 25 88 64 4\n",
       "0          56 0 96 0 52 -4 40 44 4 4\n",
       "1         50 -1 89 -7 50 0 39 40 2 1\n",
       "2         53 9 79 0 42 -2 25 37 12 4\n",
       "3          55 2 82 0 54 -6 26 28 2 1\n",
       "4          41 0 84 3 38 -4 43 45 2 1\n",
       "...                              ...\n",
       "14494  80 0 84 0 -36 -29 4 120 116 5\n",
       "14495   55 0 81 0 -20 25 26 102 76 4\n",
       "14496    55 0 77 0 12 -22 22 65 42 4\n",
       "14497   37 0 103 0 18 -16 66 85 20 1\n",
       "14498       56 2 98 0 52 1 42 46 4 4\n",
       "\n",
       "[14499 rows x 1 columns]"
      ]
     },
     "execution_count": 70,
     "metadata": {},
     "output_type": "execute_result"
    }
   ],
   "source": [
    "pd.read_csv('https://archive.ics.uci.edu/ml/machine-learning-databases/statlog/shuttle/shuttle.tst')"
   ]
  },
  {
   "cell_type": "markdown",
   "id": "a40a4fdc",
   "metadata": {},
   "source": [
    "---"
   ]
  },
  {
   "cell_type": "markdown",
   "id": "e0e0e834",
   "metadata": {},
   "source": [
    "__SQL Files...in the next episode...__"
   ]
  }
 ],
 "metadata": {
  "kernelspec": {
   "display_name": "clase",
   "language": "python",
   "name": "clase"
  },
  "language_info": {
   "codemirror_mode": {
    "name": "ipython",
    "version": 3
   },
   "file_extension": ".py",
   "mimetype": "text/x-python",
   "name": "python",
   "nbconvert_exporter": "python",
   "pygments_lexer": "ipython3",
   "version": "3.9.12"
  }
 },
 "nbformat": 4,
 "nbformat_minor": 5
}
