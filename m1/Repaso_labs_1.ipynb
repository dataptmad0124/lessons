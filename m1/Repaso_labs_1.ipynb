{
 "cells": [
  {
   "cell_type": "markdown",
   "id": "8110394f",
   "metadata": {},
   "source": [
    "# Ejer 1"
   ]
  },
  {
   "cell_type": "code",
   "execution_count": 11,
   "id": "88db2cf7",
   "metadata": {},
   "outputs": [],
   "source": [
    "def modify_list(lst, lmbda):\n",
    "    \"\"\"\n",
    "    Input: list and lambda expression\n",
    "    Output: the transformed list\n",
    "    \"\"\"\n",
    "    \n",
    "    # your code here\n",
    "    \n",
    "    res = []\n",
    "    \n",
    "    for e in lst:\n",
    "        \n",
    "        n_temp = lmbda(e)\n",
    "        \n",
    "        n_temp = round(n_temp, 2)\n",
    "        \n",
    "        res.append(n_temp)\n",
    "        \n",
    "        \n",
    "    return res\n",
    "    "
   ]
  },
  {
   "cell_type": "code",
   "execution_count": 12,
   "id": "ed62973e",
   "metadata": {},
   "outputs": [],
   "source": [
    "temps = [12, 23, 38, -55, 24]\n"
   ]
  },
  {
   "cell_type": "code",
   "execution_count": 13,
   "id": "8a12afcf",
   "metadata": {},
   "outputs": [
    {
     "data": {
      "text/plain": [
       "<function __main__.<lambda>(x)>"
      ]
     },
     "execution_count": 13,
     "metadata": {},
     "output_type": "execute_result"
    }
   ],
   "source": [
    "lambda x: x + 273.15"
   ]
  },
  {
   "cell_type": "code",
   "execution_count": 14,
   "id": "232cf906",
   "metadata": {},
   "outputs": [],
   "source": [
    "l = lambda x: x + 273.15"
   ]
  },
  {
   "cell_type": "code",
   "execution_count": 15,
   "id": "7614f24d",
   "metadata": {},
   "outputs": [
    {
     "data": {
      "text/plain": [
       "285.15"
      ]
     },
     "execution_count": 15,
     "metadata": {},
     "output_type": "execute_result"
    }
   ],
   "source": [
    "l(12)"
   ]
  },
  {
   "cell_type": "code",
   "execution_count": 16,
   "id": "23f19329",
   "metadata": {},
   "outputs": [
    {
     "data": {
      "text/plain": [
       "[285.15, 296.15, 311.15, 218.15, 297.15]"
      ]
     },
     "execution_count": 16,
     "metadata": {},
     "output_type": "execute_result"
    }
   ],
   "source": [
    "modify_list(temps, l)"
   ]
  },
  {
   "cell_type": "code",
   "execution_count": 17,
   "id": "dccf63e9",
   "metadata": {},
   "outputs": [
    {
     "data": {
      "text/plain": [
       "<map at 0x108c30130>"
      ]
     },
     "execution_count": 17,
     "metadata": {},
     "output_type": "execute_result"
    }
   ],
   "source": [
    "map(lambda x : x+273.15, temps)"
   ]
  },
  {
   "cell_type": "code",
   "execution_count": 18,
   "id": "2412ce09",
   "metadata": {},
   "outputs": [
    {
     "data": {
      "text/plain": [
       "[285.15, 296.15, 311.15, 218.15, 297.15]"
      ]
     },
     "execution_count": 18,
     "metadata": {},
     "output_type": "execute_result"
    }
   ],
   "source": [
    "list(map(lambda x : round(x+273.15, 2), temps))"
   ]
  },
  {
   "cell_type": "markdown",
   "id": "9ca92a17",
   "metadata": {},
   "source": [
    "# Ejer 2"
   ]
  },
  {
   "cell_type": "code",
   "execution_count": 19,
   "id": "8daae576",
   "metadata": {},
   "outputs": [
    {
     "data": {
      "text/plain": [
       "<function __main__.<lambda>(a, b)>"
      ]
     },
     "execution_count": 19,
     "metadata": {},
     "output_type": "execute_result"
    }
   ],
   "source": [
    "lambda a, b : 1 if a%b==0 or b%a==0 else 0"
   ]
  },
  {
   "cell_type": "code",
   "execution_count": 21,
   "id": "715210b4",
   "metadata": {},
   "outputs": [],
   "source": [
    "mod = lambda a, b : 1 if a%b==0 or b%a==0 else 0"
   ]
  },
  {
   "cell_type": "code",
   "execution_count": 22,
   "id": "77a117b8",
   "metadata": {},
   "outputs": [
    {
     "data": {
      "text/plain": [
       "1"
      ]
     },
     "execution_count": 22,
     "metadata": {},
     "output_type": "execute_result"
    }
   ],
   "source": [
    "mod(20, 2)"
   ]
  },
  {
   "cell_type": "code",
   "execution_count": 23,
   "id": "51a2b788",
   "metadata": {},
   "outputs": [
    {
     "data": {
      "text/plain": [
       "1"
      ]
     },
     "execution_count": 23,
     "metadata": {},
     "output_type": "execute_result"
    }
   ],
   "source": [
    "mod(2, 20)"
   ]
  },
  {
   "cell_type": "code",
   "execution_count": 24,
   "id": "383de88d",
   "metadata": {},
   "outputs": [
    {
     "data": {
      "text/plain": [
       "0"
      ]
     },
     "execution_count": 24,
     "metadata": {},
     "output_type": "execute_result"
    }
   ],
   "source": [
    "mod(20, 3)"
   ]
  },
  {
   "cell_type": "code",
   "execution_count": 27,
   "id": "21acaa29",
   "metadata": {},
   "outputs": [],
   "source": [
    "def divisor(a):\n",
    "    \"\"\"\n",
    "    Input: a number\n",
    "    Output: a function that returns 1 if the number is \n",
    "    divisible by another number (to be passed later) and zero otherwise.\n",
    "    \"\"\"\n",
    "    \n",
    "    # your code here\n",
    "    \n",
    "    return mod(a, b=5)\n",
    "    "
   ]
  },
  {
   "cell_type": "code",
   "execution_count": 28,
   "id": "19ccfe58",
   "metadata": {},
   "outputs": [
    {
     "data": {
      "text/plain": [
       "0"
      ]
     },
     "execution_count": 28,
     "metadata": {},
     "output_type": "execute_result"
    }
   ],
   "source": [
    "divisor(8)"
   ]
  },
  {
   "cell_type": "code",
   "execution_count": 31,
   "id": "1752beb9",
   "metadata": {},
   "outputs": [
    {
     "data": {
      "text/plain": [
       "1"
      ]
     },
     "execution_count": 31,
     "metadata": {},
     "output_type": "execute_result"
    }
   ],
   "source": [
    "divisor(25)"
   ]
  },
  {
   "cell_type": "markdown",
   "id": "c78da3ab",
   "metadata": {},
   "source": [
    "# Ejer 3"
   ]
  },
  {
   "cell_type": "code",
   "execution_count": 32,
   "id": "bdd19016",
   "metadata": {},
   "outputs": [],
   "source": [
    "list1 = ['Green', 'cheese', 'English', 'tomato']\n",
    "list2 = ['eggs', 'cheese', 'cucumber', 'tomato']"
   ]
  },
  {
   "cell_type": "code",
   "execution_count": 33,
   "id": "bf49dfe9",
   "metadata": {},
   "outputs": [
    {
     "data": {
      "text/plain": [
       "<zip at 0x1091f8400>"
      ]
     },
     "execution_count": 33,
     "metadata": {},
     "output_type": "execute_result"
    }
   ],
   "source": [
    "zip(list1, list2)"
   ]
  },
  {
   "cell_type": "code",
   "execution_count": 34,
   "id": "b83c3ebc",
   "metadata": {},
   "outputs": [
    {
     "data": {
      "text/plain": [
       "[('Green', 'eggs'),\n",
       " ('cheese', 'cheese'),\n",
       " ('English', 'cucumber'),\n",
       " ('tomato', 'tomato')]"
      ]
     },
     "execution_count": 34,
     "metadata": {},
     "output_type": "execute_result"
    }
   ],
   "source": [
    "list(zip(list1, list2))"
   ]
  },
  {
   "cell_type": "code",
   "execution_count": 35,
   "id": "9722ced8",
   "metadata": {},
   "outputs": [
    {
     "data": {
      "text/plain": [
       "[('Green', 'eggs', 'Green'),\n",
       " ('cheese', 'cheese', 'cheese'),\n",
       " ('English', 'cucumber', 'English'),\n",
       " ('tomato', 'tomato', 'tomato')]"
      ]
     },
     "execution_count": 35,
     "metadata": {},
     "output_type": "execute_result"
    }
   ],
   "source": [
    "list(zip(list1, list2, list1))"
   ]
  },
  {
   "cell_type": "code",
   "execution_count": 36,
   "id": "8384bf3d",
   "metadata": {},
   "outputs": [],
   "source": [
    "zipea = lambda lst1, lst2: [(lst1[i], lst2[i]) for i in range(len(lst1))] "
   ]
  },
  {
   "cell_type": "code",
   "execution_count": 37,
   "id": "d0b007b7",
   "metadata": {},
   "outputs": [
    {
     "data": {
      "text/plain": [
       "[('Green', 'eggs'),\n",
       " ('cheese', 'cheese'),\n",
       " ('English', 'cucumber'),\n",
       " ('tomato', 'tomato')]"
      ]
     },
     "execution_count": 37,
     "metadata": {},
     "output_type": "execute_result"
    }
   ],
   "source": [
    "zipea(list1, list2)"
   ]
  },
  {
   "cell_type": "code",
   "execution_count": 38,
   "id": "4a4d1495",
   "metadata": {},
   "outputs": [
    {
     "data": {
      "text/plain": [
       "['Green_eggs', 'cheese_cheese', 'English_cucumber', 'tomato_tomato']"
      ]
     },
     "execution_count": 38,
     "metadata": {},
     "output_type": "execute_result"
    }
   ],
   "source": [
    "zipea2 = lambda lst1, lst2: [lst1[i] + '_' + lst2[i] for i in range(len(lst1))] \n",
    "\n",
    "zipea2(list1, list2)"
   ]
  },
  {
   "cell_type": "code",
   "execution_count": 40,
   "id": "6a3b9519",
   "metadata": {},
   "outputs": [
    {
     "data": {
      "text/plain": [
       "'Green_eggs'"
      ]
     },
     "execution_count": 40,
     "metadata": {},
     "output_type": "execute_result"
    }
   ],
   "source": [
    "list1[0] + '_' + list2[0]"
   ]
  },
  {
   "cell_type": "markdown",
   "id": "ac145eb9",
   "metadata": {},
   "source": [
    "# Ejer 4"
   ]
  },
  {
   "cell_type": "code",
   "execution_count": 41,
   "id": "9d69f4e2",
   "metadata": {},
   "outputs": [
    {
     "data": {
      "text/plain": [
       "{'Honda': 1997, 'Toyota': 1995, 'Audi': 2001, 'BMW': 2005}"
      ]
     },
     "execution_count": 41,
     "metadata": {},
     "output_type": "execute_result"
    }
   ],
   "source": [
    "d = {'Honda': 1997, 'Toyota': 1995, 'Audi': 2001, 'BMW': 2005}\n",
    "\n",
    "d"
   ]
  },
  {
   "cell_type": "code",
   "execution_count": 43,
   "id": "fe864ef6",
   "metadata": {},
   "outputs": [
    {
     "data": {
      "text/plain": [
       "[('Audi', 2001), ('BMW', 2005), ('Honda', 1997), ('Toyota', 1995)]"
      ]
     },
     "execution_count": 43,
     "metadata": {},
     "output_type": "execute_result"
    }
   ],
   "source": [
    "sorted(d.items())   # esto esta ordenado por keys "
   ]
  },
  {
   "cell_type": "code",
   "execution_count": 44,
   "id": "ce94f477",
   "metadata": {},
   "outputs": [
    {
     "data": {
      "text/plain": [
       "{'Audi': 2001, 'BMW': 2005, 'Honda': 1997, 'Toyota': 1995}"
      ]
     },
     "execution_count": 44,
     "metadata": {},
     "output_type": "execute_result"
    }
   ],
   "source": [
    "dict(sorted(d.items()))"
   ]
  },
  {
   "cell_type": "code",
   "execution_count": 45,
   "id": "976d5eed",
   "metadata": {},
   "outputs": [
    {
     "name": "stdout",
     "output_type": "stream",
     "text": [
      "Help on built-in function sorted in module builtins:\n",
      "\n",
      "sorted(iterable, /, *, key=None, reverse=False)\n",
      "    Return a new list containing all items from the iterable in ascending order.\n",
      "    \n",
      "    A custom key function can be supplied to customize the sort order, and the\n",
      "    reverse flag can be set to request the result in descending order.\n",
      "\n"
     ]
    }
   ],
   "source": [
    "help(sorted)"
   ]
  },
  {
   "cell_type": "code",
   "execution_count": 47,
   "id": "520e05c5",
   "metadata": {},
   "outputs": [
    {
     "data": {
      "text/plain": [
       "[('Toyota', 1995), ('Honda', 1997), ('Audi', 2001), ('BMW', 2005)]"
      ]
     },
     "execution_count": 47,
     "metadata": {},
     "output_type": "execute_result"
    }
   ],
   "source": [
    "sorted(d.items(), key=lambda x: x[1])  # esto esta ordenado por values "
   ]
  },
  {
   "cell_type": "code",
   "execution_count": 48,
   "id": "0ed0b96a",
   "metadata": {},
   "outputs": [
    {
     "data": {
      "text/plain": [
       "{'Toyota': 1995, 'Honda': 1997, 'Audi': 2001, 'BMW': 2005}"
      ]
     },
     "execution_count": 48,
     "metadata": {},
     "output_type": "execute_result"
    }
   ],
   "source": [
    "dict(sorted(d.items(), key=lambda x: x[1]))"
   ]
  },
  {
   "cell_type": "markdown",
   "id": "ba476944",
   "metadata": {},
   "source": [
    "# Map reduce filter Ejer 1"
   ]
  },
  {
   "cell_type": "code",
   "execution_count": 49,
   "id": "6c845b44",
   "metadata": {},
   "outputs": [],
   "source": [
    "from functools import reduce"
   ]
  },
  {
   "cell_type": "code",
   "execution_count": 51,
   "id": "3234e71d",
   "metadata": {},
   "outputs": [],
   "source": [
    "# Run this code:\n",
    "\n",
    "location = 'data/58585-0.txt'  # ruta relativa, donde esta el archivo\n",
    "\n",
    "\n",
    "# abrir y leer el archivo en formato string (f.read), y lo convierte a lista con el .split()\n",
    "with open(location, 'r', encoding=\"utf8\") as f:\n",
    "    prophet = f.read().split(' ')"
   ]
  },
  {
   "cell_type": "code",
   "execution_count": 54,
   "id": "f08b56a3",
   "metadata": {},
   "outputs": [
    {
     "data": {
      "text/plain": [
       "13637"
      ]
     },
     "execution_count": 54,
     "metadata": {},
     "output_type": "execute_result"
    }
   ],
   "source": [
    "len(prophet)"
   ]
  },
  {
   "cell_type": "code",
   "execution_count": 55,
   "id": "0225f4d8",
   "metadata": {},
   "outputs": [
    {
     "data": {
      "text/plain": [
       "13069"
      ]
     },
     "execution_count": 55,
     "metadata": {},
     "output_type": "execute_result"
    }
   ],
   "source": [
    "len(prophet[568:])"
   ]
  },
  {
   "cell_type": "code",
   "execution_count": 56,
   "id": "47e90b71",
   "metadata": {},
   "outputs": [],
   "source": [
    "prophet = prophet[568:]"
   ]
  },
  {
   "cell_type": "code",
   "execution_count": 57,
   "id": "45d1c4db",
   "metadata": {},
   "outputs": [],
   "source": [
    "def reference(x):\n",
    "    '''\n",
    "    Input: A string\n",
    "    Output: The string with references removed\n",
    "    \n",
    "    Example:\n",
    "    Input: 'the{7}'\n",
    "    Output: 'the'\n",
    "    '''\n",
    "    \n",
    "    # your code here\n",
    "    \n",
    "    x = x.split('{')[0]\n",
    "    \n",
    "    return x\n",
    "    "
   ]
  },
  {
   "cell_type": "code",
   "execution_count": 58,
   "id": "d6241f5e",
   "metadata": {},
   "outputs": [
    {
     "data": {
      "text/plain": [
       "'the'"
      ]
     },
     "execution_count": 58,
     "metadata": {},
     "output_type": "execute_result"
    }
   ],
   "source": [
    "reference('the{7}')"
   ]
  },
  {
   "cell_type": "code",
   "execution_count": 62,
   "id": "1c37278a",
   "metadata": {},
   "outputs": [],
   "source": [
    "prophet_reference = list(map(reference, prophet))"
   ]
  },
  {
   "cell_type": "code",
   "execution_count": 63,
   "id": "6efcd018",
   "metadata": {},
   "outputs": [
    {
     "data": {
      "text/plain": [
       "['PROPHET\\n\\n|Almustafa,',\n",
       " 'the',\n",
       " 'chosen',\n",
       " 'and',\n",
       " 'the\\nbeloved,',\n",
       " 'who',\n",
       " 'was',\n",
       " 'a',\n",
       " 'dawn',\n",
       " 'unto']"
      ]
     },
     "execution_count": 63,
     "metadata": {},
     "output_type": "execute_result"
    }
   ],
   "source": [
    "prophet_reference[:10]"
   ]
  },
  {
   "cell_type": "code",
   "execution_count": 64,
   "id": "8caa307f",
   "metadata": {},
   "outputs": [],
   "source": [
    "def line_break(x):\n",
    "    '''\n",
    "    Input: A string\n",
    "    Output: A list of strings split on the line break (\\n) character\n",
    "        \n",
    "    Example:\n",
    "    Input: 'the\\nbeloved'\n",
    "    Output: ['the', 'beloved']\n",
    "    '''\n",
    "    \n",
    "    # your code here\n",
    "    \n",
    "    return x.split('\\n')"
   ]
  },
  {
   "cell_type": "code",
   "execution_count": 65,
   "id": "fe20bc81",
   "metadata": {},
   "outputs": [
    {
     "data": {
      "text/plain": [
       "['the', 'beloved']"
      ]
     },
     "execution_count": 65,
     "metadata": {},
     "output_type": "execute_result"
    }
   ],
   "source": [
    "line_break('the\\nbeloved')"
   ]
  },
  {
   "cell_type": "code",
   "execution_count": 68,
   "id": "c3a03d38",
   "metadata": {},
   "outputs": [],
   "source": [
    "prophet_line = list(map(line_break, prophet_reference))"
   ]
  },
  {
   "cell_type": "code",
   "execution_count": 69,
   "id": "af614414",
   "metadata": {},
   "outputs": [
    {
     "data": {
      "text/plain": [
       "[['PROPHET', '', '|Almustafa,'],\n",
       " ['the'],\n",
       " ['chosen'],\n",
       " ['and'],\n",
       " ['the', 'beloved,'],\n",
       " ['who'],\n",
       " ['was'],\n",
       " ['a'],\n",
       " ['dawn'],\n",
       " ['unto']]"
      ]
     },
     "execution_count": 69,
     "metadata": {},
     "output_type": "execute_result"
    }
   ],
   "source": [
    "prophet_line[:10]"
   ]
  },
  {
   "cell_type": "code",
   "execution_count": 70,
   "id": "e840b5b4",
   "metadata": {},
   "outputs": [
    {
     "data": {
      "text/plain": [
       "['PROPHET',\n",
       " '',\n",
       " '|Almustafa,',\n",
       " 'the',\n",
       " 'chosen',\n",
       " 'and',\n",
       " 'the',\n",
       " 'beloved,',\n",
       " 'who',\n",
       " 'was']"
      ]
     },
     "execution_count": 70,
     "metadata": {},
     "output_type": "execute_result"
    }
   ],
   "source": [
    "res = []\n",
    "\n",
    "\n",
    "for lista in prophet_line:\n",
    "    \n",
    "    for e in lista:\n",
    "        \n",
    "        res.append(e)  # es para introducir el elemento dentro de la lista res\n",
    "        \n",
    "        \n",
    "res[:10]"
   ]
  },
  {
   "cell_type": "code",
   "execution_count": 71,
   "id": "34730c7a",
   "metadata": {},
   "outputs": [
    {
     "data": {
      "text/plain": [
       "['PROPHET',\n",
       " '',\n",
       " '|Almustafa,',\n",
       " 'the',\n",
       " 'chosen',\n",
       " 'and',\n",
       " 'the',\n",
       " 'beloved,',\n",
       " 'who',\n",
       " 'was']"
      ]
     },
     "execution_count": 71,
     "metadata": {},
     "output_type": "execute_result"
    }
   ],
   "source": [
    "prophet_flat = [e for lista in prophet_line for e in lista]\n",
    "\n",
    "prophet_flat[:10]"
   ]
  },
  {
   "cell_type": "code",
   "execution_count": 73,
   "id": "7a72c020",
   "metadata": {},
   "outputs": [
    {
     "data": {
      "text/plain": [
       "['PROPHET',\n",
       " '',\n",
       " '|Almustafa,',\n",
       " 'the',\n",
       " 'chosen',\n",
       " 'and',\n",
       " 'the',\n",
       " 'beloved,',\n",
       " 'who',\n",
       " 'was']"
      ]
     },
     "execution_count": 73,
     "metadata": {},
     "output_type": "execute_result"
    }
   ],
   "source": [
    "prophet_flat = reduce(lambda a,b: a+b, prophet_line)\n",
    "\n",
    "prophet_flat[:10]"
   ]
  },
  {
   "cell_type": "code",
   "execution_count": 74,
   "id": "cf0872f2",
   "metadata": {},
   "outputs": [],
   "source": [
    "def word_filter(x):\n",
    "    '''\n",
    "    Input: A string\n",
    "    Output: True if the word is not in the specified list \n",
    "    and False if the word is in the list.\n",
    "        \n",
    "    Example:\n",
    "    word list = ['and', 'the']\n",
    "    Input: 'and'\n",
    "    Output: False\n",
    "    \n",
    "    Input: 'John'\n",
    "    Output: True\n",
    "    '''\n",
    "    \n",
    "    word_list = ['and', 'the', 'a', 'an']\n",
    "    \n",
    "    # your code here\n",
    "    \n",
    "    return x not in word_list\n",
    "    "
   ]
  },
  {
   "cell_type": "code",
   "execution_count": 75,
   "id": "a772b906",
   "metadata": {},
   "outputs": [
    {
     "data": {
      "text/plain": [
       "False"
      ]
     },
     "execution_count": 75,
     "metadata": {},
     "output_type": "execute_result"
    }
   ],
   "source": [
    "word_filter('and')"
   ]
  },
  {
   "cell_type": "code",
   "execution_count": 76,
   "id": "b389d853",
   "metadata": {},
   "outputs": [
    {
     "data": {
      "text/plain": [
       "True"
      ]
     },
     "execution_count": 76,
     "metadata": {},
     "output_type": "execute_result"
    }
   ],
   "source": [
    "word_filter('John')"
   ]
  },
  {
   "cell_type": "code",
   "execution_count": 78,
   "id": "95b825fe",
   "metadata": {},
   "outputs": [
    {
     "data": {
      "text/plain": [
       "['PROPHET',\n",
       " '',\n",
       " '|Almustafa,',\n",
       " 'the',\n",
       " 'chosen',\n",
       " 'and',\n",
       " 'the',\n",
       " 'beloved,',\n",
       " 'who',\n",
       " 'was',\n",
       " 'a',\n",
       " 'dawn',\n",
       " 'unto',\n",
       " 'his',\n",
       " 'own',\n",
       " 'day,',\n",
       " 'had',\n",
       " 'waited',\n",
       " 'twelve',\n",
       " 'years']"
      ]
     },
     "execution_count": 78,
     "metadata": {},
     "output_type": "execute_result"
    }
   ],
   "source": [
    "prophet_flat[:20]"
   ]
  },
  {
   "cell_type": "code",
   "execution_count": 79,
   "id": "fe3a38a1",
   "metadata": {},
   "outputs": [
    {
     "data": {
      "text/plain": [
       "['PROPHET',\n",
       " '',\n",
       " '|Almustafa,',\n",
       " 'chosen',\n",
       " 'beloved,',\n",
       " 'who',\n",
       " 'was',\n",
       " 'dawn',\n",
       " 'unto',\n",
       " 'his',\n",
       " 'own',\n",
       " 'day,',\n",
       " 'had',\n",
       " 'waited',\n",
       " 'twelve',\n",
       " 'years',\n",
       " 'in',\n",
       " 'city',\n",
       " 'of',\n",
       " 'Orphalese']"
      ]
     },
     "execution_count": 79,
     "metadata": {},
     "output_type": "execute_result"
    }
   ],
   "source": [
    "prophet_filter = list(filter(word_filter, prophet_flat))\n",
    "\n",
    "prophet_filter[:20]"
   ]
  },
  {
   "cell_type": "code",
   "execution_count": 80,
   "id": "d4ab4b3c",
   "metadata": {},
   "outputs": [],
   "source": [
    "# case insensitive\n",
    "\n",
    "def word_filter(x):\n",
    "    '''\n",
    "    Input: A string\n",
    "    Output: True if the word is not in the specified list \n",
    "    and False if the word is in the list.\n",
    "        \n",
    "    Example:\n",
    "    word list = ['and', 'the']\n",
    "    Input: 'and'\n",
    "    Output: False\n",
    "    \n",
    "    Input: 'John'\n",
    "    Output: True\n",
    "    '''\n",
    "    \n",
    "    word_list = ['and', 'the', 'a', 'an']\n",
    "    \n",
    "    # your code here\n",
    "    \n",
    "    return x.lower() not in word_list"
   ]
  },
  {
   "cell_type": "code",
   "execution_count": 81,
   "id": "fba506d9",
   "metadata": {},
   "outputs": [
    {
     "data": {
      "text/plain": [
       "['PROPHET',\n",
       " '',\n",
       " '|Almustafa,',\n",
       " 'chosen',\n",
       " 'beloved,',\n",
       " 'who',\n",
       " 'was',\n",
       " 'dawn',\n",
       " 'unto',\n",
       " 'his',\n",
       " 'own',\n",
       " 'day,',\n",
       " 'had',\n",
       " 'waited',\n",
       " 'twelve',\n",
       " 'years',\n",
       " 'in',\n",
       " 'city',\n",
       " 'of',\n",
       " 'Orphalese']"
      ]
     },
     "execution_count": 81,
     "metadata": {},
     "output_type": "execute_result"
    }
   ],
   "source": [
    "prophet_filter = list(filter(word_filter, prophet_flat))\n",
    "\n",
    "prophet_filter[:20]"
   ]
  },
  {
   "cell_type": "code",
   "execution_count": 82,
   "id": "58a4f52f",
   "metadata": {},
   "outputs": [],
   "source": [
    "def concat_space(a, b):\n",
    "    '''\n",
    "    Input:Two strings\n",
    "    Output: A single string separated by a space\n",
    "        \n",
    "    Example:\n",
    "    Input: 'John', 'Smith'\n",
    "    Output: 'John Smith'\n",
    "    '''\n",
    "    \n",
    "    # your code here\n",
    "    \n",
    "    return a + ' ' + b"
   ]
  },
  {
   "cell_type": "code",
   "execution_count": 83,
   "id": "ba92c58c",
   "metadata": {},
   "outputs": [
    {
     "data": {
      "text/plain": [
       "'John Smith'"
      ]
     },
     "execution_count": 83,
     "metadata": {},
     "output_type": "execute_result"
    }
   ],
   "source": [
    "concat_space('John', 'Smith')"
   ]
  },
  {
   "cell_type": "code",
   "execution_count": 87,
   "id": "7dbd4db3",
   "metadata": {},
   "outputs": [
    {
     "data": {
      "text/plain": [
       "list"
      ]
     },
     "execution_count": 87,
     "metadata": {},
     "output_type": "execute_result"
    }
   ],
   "source": [
    "type(prophet_filter)"
   ]
  },
  {
   "cell_type": "code",
   "execution_count": 86,
   "id": "ddb8ffdd",
   "metadata": {},
   "outputs": [
    {
     "data": {
      "text/plain": [
       "str"
      ]
     },
     "execution_count": 86,
     "metadata": {},
     "output_type": "execute_result"
    }
   ],
   "source": [
    "prophet_string = reduce(concat_space, prophet_filter)\n",
    "\n",
    "type(prophet_string)"
   ]
  },
  {
   "cell_type": "code",
   "execution_count": 88,
   "id": "51ded357",
   "metadata": {},
   "outputs": [
    {
     "data": {
      "text/plain": [
       "str"
      ]
     },
     "execution_count": 88,
     "metadata": {},
     "output_type": "execute_result"
    }
   ],
   "source": [
    "prophet_string = reduce(lambda a, b: a + ' ' + b, prophet_filter)\n",
    "\n",
    "type(prophet_string)"
   ]
  },
  {
   "cell_type": "code",
   "execution_count": null,
   "id": "5303e8b2",
   "metadata": {},
   "outputs": [],
   "source": []
  },
  {
   "cell_type": "code",
   "execution_count": null,
   "id": "073b86fc",
   "metadata": {},
   "outputs": [],
   "source": []
  }
 ],
 "metadata": {
  "kernelspec": {
   "display_name": "clase",
   "language": "python",
   "name": "clase"
  },
  "language_info": {
   "codemirror_mode": {
    "name": "ipython",
    "version": 3
   },
   "file_extension": ".py",
   "mimetype": "text/x-python",
   "name": "python",
   "nbconvert_exporter": "python",
   "pygments_lexer": "ipython3",
   "version": "3.9.12"
  }
 },
 "nbformat": 4,
 "nbformat_minor": 5
}
