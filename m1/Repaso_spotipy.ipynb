{
 "cells": [
  {
   "cell_type": "code",
   "execution_count": null,
   "id": "23b91ac0",
   "metadata": {},
   "outputs": [],
   "source": [
    "CLIENT_ID = \"4109b2d9f5014671863bb2df1d1fbdd3\"\n",
    "CLIENT_SECRET = \"5cb719fae80c4191a9c0b288f51bfe50\""
   ]
  },
  {
   "cell_type": "code",
   "execution_count": null,
   "id": "89b6b75f",
   "metadata": {},
   "outputs": [],
   "source": [
    "#%pip install spotipy"
   ]
  },
  {
   "cell_type": "code",
   "execution_count": null,
   "id": "c880a641",
   "metadata": {},
   "outputs": [],
   "source": [
    "import spotipy\n",
    "from spotipy.oauth2 import SpotifyClientCredentials\n",
    "\n",
    "#Initialize SpotiPy with user credentials\n",
    "sp = spotipy.Spotify(auth_manager=SpotifyClientCredentials(client_id=CLIENT_ID,\n",
    "                                                           client_secret=CLIENT_SECRET))\n"
   ]
  },
  {
   "cell_type": "code",
   "execution_count": null,
   "id": "c3c37a17",
   "metadata": {},
   "outputs": [],
   "source": [
    "results = sp.search(q='Lady Gaga', limit=50)\n",
    "\n",
    "results.keys()"
   ]
  },
  {
   "cell_type": "code",
   "execution_count": null,
   "id": "93876d48",
   "metadata": {},
   "outputs": [],
   "source": [
    "# 1. List Your Favorite Artists\n",
    "artists = [\"Muchachito Bombo Infierno\", 'J.A.M', 'Soil an Pimp Sessions', 'Vulfpeck']\n"
   ]
  },
  {
   "cell_type": "code",
   "execution_count": null,
   "id": "c65bf9fc",
   "metadata": {},
   "outputs": [],
   "source": [
    "sp.search(q='J.A.M', limit=5)['tracks']['items'][0]['name']"
   ]
  },
  {
   "cell_type": "code",
   "execution_count": null,
   "id": "b664f38f",
   "metadata": {},
   "outputs": [],
   "source": [
    "[e['name'] for e in sp.search(q='J.A.M', limit=5)['tracks']['items']]"
   ]
  },
  {
   "cell_type": "code",
   "execution_count": null,
   "id": "d68f885e",
   "metadata": {},
   "outputs": [],
   "source": [
    "items = sp.search(q='Vulfpeck', limit=5)['tracks']['items']\n",
    "\n",
    "lst = []\n",
    "\n",
    "\n",
    "for e in items:\n",
    "    \n",
    "    lst.append(e['name'])"
   ]
  },
  {
   "cell_type": "code",
   "execution_count": null,
   "id": "d9efa1cc",
   "metadata": {},
   "outputs": [],
   "source": [
    "lst"
   ]
  },
  {
   "cell_type": "code",
   "execution_count": null,
   "id": "3ca1ca72",
   "metadata": {},
   "outputs": [],
   "source": [
    "def get_top_tracks(artista: str, limit: int=5) -> list:\n",
    "    \n",
    "    items = sp.search(q=artista, limit=limit)['tracks']['items']\n",
    "    \n",
    "    res = [e['name'] for e in items]\n",
    "    \n",
    "    return res"
   ]
  },
  {
   "cell_type": "code",
   "execution_count": null,
   "id": "83d7cab2",
   "metadata": {},
   "outputs": [],
   "source": [
    "get_top_tracks('Radio Futura')"
   ]
  },
  {
   "cell_type": "code",
   "execution_count": null,
   "id": "5bffe9fe",
   "metadata": {},
   "outputs": [],
   "source": [
    "get_top_tracks('Slipknot', 10)"
   ]
  },
  {
   "cell_type": "code",
   "execution_count": null,
   "id": "146c3c51",
   "metadata": {},
   "outputs": [],
   "source": [
    "get_top_tracks('Fox Capture Plan', 8)"
   ]
  },
  {
   "cell_type": "code",
   "execution_count": null,
   "id": "8762f064",
   "metadata": {},
   "outputs": [],
   "source": [
    "artists"
   ]
  },
  {
   "cell_type": "code",
   "execution_count": null,
   "id": "0e0db957",
   "metadata": {},
   "outputs": [],
   "source": [
    "res = []\n",
    "\n",
    "for art in artists:\n",
    "    \n",
    "    res.append(get_top_tracks(art, 10))"
   ]
  },
  {
   "cell_type": "code",
   "execution_count": null,
   "id": "dbe31ed6",
   "metadata": {},
   "outputs": [],
   "source": [
    "res"
   ]
  },
  {
   "cell_type": "code",
   "execution_count": null,
   "id": "cd9e1789",
   "metadata": {},
   "outputs": [],
   "source": [
    "import pandas as pd\n",
    "\n",
    "df = pd.DataFrame(sp.search(q='J.A.M', limit=5)['tracks']['items'])"
   ]
  },
  {
   "cell_type": "code",
   "execution_count": null,
   "id": "25119f6d",
   "metadata": {},
   "outputs": [],
   "source": [
    "df.columns"
   ]
  },
  {
   "cell_type": "code",
   "execution_count": null,
   "id": "215de2ef",
   "metadata": {},
   "outputs": [],
   "source": [
    "df.sort_values(by='popularity', ascending=False).head()"
   ]
  },
  {
   "cell_type": "code",
   "execution_count": null,
   "id": "13ac4de0",
   "metadata": {},
   "outputs": [],
   "source": [
    "df.sort_values(by='popularity', ascending=False).values[0]"
   ]
  },
  {
   "cell_type": "code",
   "execution_count": null,
   "id": "5156bccd",
   "metadata": {},
   "outputs": [],
   "source": [
    "# artistas relacionados"
   ]
  },
  {
   "cell_type": "code",
   "execution_count": null,
   "id": "a5242716",
   "metadata": {},
   "outputs": [],
   "source": [
    "sp.search(q='J.A.M', limit=5)['tracks']['items'][0]['artists'][0]['id']"
   ]
  },
  {
   "cell_type": "code",
   "execution_count": null,
   "id": "a85a2186",
   "metadata": {},
   "outputs": [],
   "source": [
    "artista_id = '6xt9sJmmyYwWkJv8A6ssiU'"
   ]
  },
  {
   "cell_type": "code",
   "execution_count": null,
   "id": "2f8726b0",
   "metadata": {},
   "outputs": [],
   "source": [
    "rel = sp.artist_related_artists(artista_id)\n",
    "\n",
    "rel.keys()"
   ]
  },
  {
   "cell_type": "code",
   "execution_count": null,
   "id": "b4e5f44b",
   "metadata": {},
   "outputs": [],
   "source": [
    "rel['artists'][0].keys()"
   ]
  },
  {
   "cell_type": "code",
   "execution_count": null,
   "id": "506a7fd3",
   "metadata": {},
   "outputs": [],
   "source": [
    "rel['artists'][0]['name']"
   ]
  },
  {
   "cell_type": "code",
   "execution_count": null,
   "id": "807d8716",
   "metadata": {},
   "outputs": [],
   "source": [
    "rel['artists'][:2]"
   ]
  },
  {
   "cell_type": "code",
   "execution_count": null,
   "id": "05023ea6",
   "metadata": {},
   "outputs": [],
   "source": [
    "[e['name'] for e in rel['artists'][:3]]"
   ]
  },
  {
   "cell_type": "code",
   "execution_count": null,
   "id": "05275903",
   "metadata": {},
   "outputs": [],
   "source": [
    "res = []\n",
    "\n",
    "\n",
    "for e in rel['artists']:\n",
    "    \n",
    "    res.append(e['name'])"
   ]
  },
  {
   "cell_type": "code",
   "execution_count": null,
   "id": "20a652c3",
   "metadata": {},
   "outputs": [],
   "source": [
    "res"
   ]
  },
  {
   "cell_type": "code",
   "execution_count": null,
   "id": "53c49190",
   "metadata": {},
   "outputs": [],
   "source": [
    "def related_artists(artista, limit=5):\n",
    "    \n",
    "    art_id = sp.search(q=artista, limit=1)['tracks']['items'][0]['artists'][0]['id']\n",
    "    \n",
    "    \n",
    "    rel = sp.artist_related_artists(art_id)\n",
    "    \n",
    "    \n",
    "    res = [e['name'] for e in rel['artists'][:limit]]\n",
    "    \n",
    "    \n",
    "    return res\n",
    "    "
   ]
  },
  {
   "cell_type": "code",
   "execution_count": null,
   "id": "d66c8006",
   "metadata": {},
   "outputs": [],
   "source": [
    "related_artists('Vulfpeck')"
   ]
  },
  {
   "cell_type": "code",
   "execution_count": null,
   "id": "2026cb2a",
   "metadata": {},
   "outputs": [],
   "source": [
    "related_artists('Radio Futura')"
   ]
  },
  {
   "cell_type": "code",
   "execution_count": null,
   "id": "4bd93c97",
   "metadata": {},
   "outputs": [],
   "source": [
    "related_artists('Radio Futura', 10)"
   ]
  },
  {
   "cell_type": "code",
   "execution_count": null,
   "id": "ab60762c",
   "metadata": {},
   "outputs": [],
   "source": [
    "# playlist\n",
    "\n",
    "sp.featured_playlists()['playlists']['items'][-1]['id']"
   ]
  },
  {
   "cell_type": "code",
   "execution_count": null,
   "id": "8be981ae",
   "metadata": {},
   "outputs": [],
   "source": [
    "play_id = sp.featured_playlists()['playlists']['items'][-1]['id']\n",
    "\n",
    "play_id"
   ]
  },
  {
   "cell_type": "code",
   "execution_count": null,
   "id": "a7f27952",
   "metadata": {},
   "outputs": [],
   "source": [
    "sp.playlist_tracks(play_id)"
   ]
  },
  {
   "cell_type": "code",
   "execution_count": null,
   "id": "7ba716ba",
   "metadata": {},
   "outputs": [],
   "source": [
    "#help(sp)"
   ]
  },
  {
   "cell_type": "code",
   "execution_count": null,
   "id": "5fa51dc6",
   "metadata": {},
   "outputs": [],
   "source": [
    "sp.playlist(play_id).keys()"
   ]
  },
  {
   "cell_type": "code",
   "execution_count": null,
   "id": "56397f9c",
   "metadata": {},
   "outputs": [],
   "source": [
    "sp.playlist(play_id)['name']"
   ]
  },
  {
   "cell_type": "code",
   "execution_count": null,
   "id": "024a16cc",
   "metadata": {},
   "outputs": [],
   "source": [
    "sp.playlist(play_id)['description']"
   ]
  },
  {
   "cell_type": "code",
   "execution_count": null,
   "id": "64d3cd5f",
   "metadata": {},
   "outputs": [],
   "source": [
    "sp.playlist(play_id)['id']"
   ]
  },
  {
   "cell_type": "code",
   "execution_count": null,
   "id": "51696b48",
   "metadata": {},
   "outputs": [],
   "source": [
    "sp.playlist_tracks(play_id).keys()"
   ]
  },
  {
   "cell_type": "code",
   "execution_count": null,
   "id": "344f2744",
   "metadata": {},
   "outputs": [],
   "source": [
    "tracks = sp.playlist_tracks(play_id)['items']\n",
    "\n",
    "tracks[0]['track']['name']"
   ]
  },
  {
   "cell_type": "code",
   "execution_count": null,
   "id": "75398c31",
   "metadata": {},
   "outputs": [],
   "source": [
    "[e['track']['name'] for e in tracks]"
   ]
  },
  {
   "cell_type": "code",
   "execution_count": null,
   "id": "de3f8ba4",
   "metadata": {},
   "outputs": [],
   "source": [
    "tracks[0]['track']['artists'][0]['name']"
   ]
  },
  {
   "cell_type": "code",
   "execution_count": null,
   "id": "13d4eb15",
   "metadata": {},
   "outputs": [],
   "source": [
    "[e['track']['artists'][0]['name'] for e in tracks]"
   ]
  },
  {
   "cell_type": "code",
   "execution_count": null,
   "id": "a3fd3cbd",
   "metadata": {},
   "outputs": [],
   "source": [
    "related_artists('Frankie Goes to Hollywood', 10)"
   ]
  },
  {
   "cell_type": "code",
   "execution_count": null,
   "id": "c2772bf7",
   "metadata": {},
   "outputs": [],
   "source": [
    "# ejer 2\n",
    "\n",
    "\n",
    "# 1. Featured Exploration\n",
    "featured = sp.featured_playlists(limit=5)\n",
    "\n",
    "for idx, playlist in enumerate(featured['playlists']['items'], 1):\n",
    "    \n",
    "    print(f\"{idx}. {playlist['name']} - {playlist['id']}\")\n",
    "\n",
    "    \n",
    "    \n",
    "    \n",
    "# Let's choose the first playlist for simplicity (you can choose any)\n",
    "chosen_playlist_id = featured['playlists']['items'][0]['id']\n",
    "\n",
    "\n",
    "\n",
    "\n",
    "# 2. Deep Dive\n",
    "playlist_details = sp.playlist(chosen_playlist_id)\n",
    "print(\"\\nChosen Playlist Details:\")\n",
    "print(f\"Name: {playlist_details['name']}\")\n",
    "print(f\"Description: {playlist_details['description']}\")\n",
    "print(f\"Total Tracks: {playlist_details['tracks']['total']}\")\n",
    "\n",
    "\n",
    "\n",
    "\n",
    "# 3. Track-tastic\n",
    "tracks = sp.playlist_tracks(chosen_playlist_id, limit=10)\n",
    "print(\"\\nFirst 10 Tracks:\")\n",
    "for track in tracks['items']:\n",
    "    print(track['track']['name'])\n",
    "\n",
    "    \n",
    "    \n",
    "    \n",
    "    \n",
    "# 4. Artistic Flair\n",
    "track_artist_dict = {}\n",
    "for track_item in tracks['items']:\n",
    "    track_name = track_item['track']['name']\n",
    "    artists = [artist['name'] for artist in track_item['track']['artists']]\n",
    "    track_artist_dict[track_name] = artists\n",
    "\n",
    "    \n",
    "    \n",
    "    \n",
    "    \n",
    "print(\"\\nTrack-Artist Mapping:\")\n",
    "for track, artists in track_artist_dict.items():\n",
    "    print(f\"{track}: {', '.join(artists)}\")\n"
   ]
  },
  {
   "cell_type": "code",
   "execution_count": null,
   "id": "68c937e9",
   "metadata": {},
   "outputs": [],
   "source": [
    "import requests as req\n",
    "\n",
    "url = 'https://pokeapi.co/api/v2/ability/'\n",
    "\n",
    "res = req.get(url).json()"
   ]
  },
  {
   "cell_type": "code",
   "execution_count": null,
   "id": "15687585",
   "metadata": {},
   "outputs": [],
   "source": [
    "res"
   ]
  },
  {
   "cell_type": "code",
   "execution_count": null,
   "id": "6893c028",
   "metadata": {},
   "outputs": [],
   "source": []
  }
 ],
 "metadata": {
  "kernelspec": {
   "display_name": "clase",
   "language": "python",
   "name": "clase"
  },
  "language_info": {
   "codemirror_mode": {
    "name": "ipython",
    "version": 3
   },
   "file_extension": ".py",
   "mimetype": "text/x-python",
   "name": "python",
   "nbconvert_exporter": "python",
   "pygments_lexer": "ipython3",
   "version": "3.9.12"
  }
 },
 "nbformat": 4,
 "nbformat_minor": 5
}
