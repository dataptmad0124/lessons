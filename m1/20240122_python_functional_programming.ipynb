{
 "cells": [
  {
   "cell_type": "markdown",
   "id": "edbd153f",
   "metadata": {},
   "source": [
    "# Programming Paradigms\n",
    "---"
   ]
  },
  {
   "cell_type": "markdown",
   "id": "a188f917",
   "metadata": {},
   "source": [
    "> ### Procedural\n",
    "\n",
    "- Write sequential series of execution steps/tasks\n",
    "\n",
    "- \"Top to bottom\" code execution\n",
    "\n",
    "> ### Functional\n",
    "\n",
    "- Organize code in functions with clearly defined tasks\n",
    "\n",
    "- Pass data around via parameters\n",
    "\n",
    "> ### Object-oriented*\n",
    "\n",
    "- Organize data and logic in objects (attributes and methods)\n",
    "\n",
    "- Organize code in logical entities"
   ]
  },
  {
   "cell_type": "markdown",
   "id": "33666ce3",
   "metadata": {},
   "source": [
    "---"
   ]
  },
  {
   "cell_type": "code",
   "execution_count": 1,
   "id": "0597716d",
   "metadata": {},
   "outputs": [],
   "source": [
    "# data\n",
    "\n",
    "\n",
    "estudiantes = ['pepe', 'juan', 'ana', 'maria']\n",
    "\n",
    "notas = [3, 5, 8, 9]"
   ]
  },
  {
   "cell_type": "code",
   "execution_count": 2,
   "id": "0fa00bb2",
   "metadata": {},
   "outputs": [
    {
     "data": {
      "text/plain": [
       "['pepe', 'juan', 'ana', 'maria']"
      ]
     },
     "execution_count": 2,
     "metadata": {},
     "output_type": "execute_result"
    }
   ],
   "source": [
    "estudiantes"
   ]
  },
  {
   "cell_type": "code",
   "execution_count": 3,
   "id": "a326eb56",
   "metadata": {},
   "outputs": [
    {
     "data": {
      "text/plain": [
       "[3, 5, 8, 9]"
      ]
     },
     "execution_count": 3,
     "metadata": {},
     "output_type": "execute_result"
    }
   ],
   "source": [
    "notas"
   ]
  },
  {
   "cell_type": "markdown",
   "id": "0c2dc93e",
   "metadata": {},
   "source": [
    "---\n",
    "\n",
    "### Procedural"
   ]
  },
  {
   "cell_type": "code",
   "execution_count": 4,
   "id": "09d391c0",
   "metadata": {},
   "outputs": [
    {
     "name": "stdout",
     "output_type": "stream",
     "text": [
      "Introduce el nombre de un estudianteManue\n",
      "Introduce una nota8\n",
      "['Pepe', 'juan', 'ana', 'maria', 'Manue']\n",
      "[3, 5, 8, 9, 8]\n"
     ]
    }
   ],
   "source": [
    "nombre = input('Introduce el nombre de un estudiante')\n",
    "\n",
    "estudiantes.append(nombre)\n",
    "\n",
    "estudiantes[0] = estudiantes[0].capitalize()\n",
    "\n",
    "nota = input('Introduce una nota')\n",
    "\n",
    "nota = int(nota)\n",
    "\n",
    "notas.append(nota)\n",
    "\n",
    "print(estudiantes)\n",
    "\n",
    "print(notas)"
   ]
  },
  {
   "cell_type": "code",
   "execution_count": 5,
   "id": "d754e157",
   "metadata": {},
   "outputs": [
    {
     "data": {
      "text/plain": [
       "5"
      ]
     },
     "execution_count": 5,
     "metadata": {},
     "output_type": "execute_result"
    }
   ],
   "source": [
    "len(estudiantes)"
   ]
  },
  {
   "cell_type": "markdown",
   "id": "1f45003c",
   "metadata": {},
   "source": [
    "---\n",
    "\n",
    "### Functional"
   ]
  },
  {
   "cell_type": "code",
   "execution_count": 6,
   "id": "bafdd708",
   "metadata": {},
   "outputs": [],
   "source": [
    "# definicion de la funcion\n",
    "def estudiar(estudiantes, notas):\n",
    "    \n",
    "    nombre = input('Introduce el nombre de un estudiante')\n",
    "    \n",
    "    estudiantes.append(nombre)\n",
    "    \n",
    "    estudiantes[0] = estudiantes[0].capitalize()\n",
    "    \n",
    "    \n",
    "    nota = int(input('Introduce una nota'))\n",
    "    \n",
    "    notas.append(nota)\n",
    "    \n",
    "    print(estudiantes)\n",
    "    print(notas)\n",
    "    \n",
    "    return [estudiantes, notas]"
   ]
  },
  {
   "cell_type": "code",
   "execution_count": 7,
   "id": "a992460e",
   "metadata": {},
   "outputs": [
    {
     "data": {
      "text/plain": [
       "['Pepe', 'juan', 'ana', 'maria', 'Manue']"
      ]
     },
     "execution_count": 7,
     "metadata": {},
     "output_type": "execute_result"
    }
   ],
   "source": [
    "estudiantes"
   ]
  },
  {
   "cell_type": "code",
   "execution_count": 8,
   "id": "4be89030",
   "metadata": {},
   "outputs": [
    {
     "data": {
      "text/plain": [
       "[3, 5, 8, 9, 8]"
      ]
     },
     "execution_count": 8,
     "metadata": {},
     "output_type": "execute_result"
    }
   ],
   "source": [
    "notas"
   ]
  },
  {
   "cell_type": "code",
   "execution_count": 9,
   "id": "3b2c3e8f",
   "metadata": {},
   "outputs": [
    {
     "name": "stdout",
     "output_type": "stream",
     "text": [
      "Introduce el nombre de un estudianteAlejandro\n",
      "Introduce una nota10\n",
      "['Pepe', 'juan', 'ana', 'maria', 'Manue', 'Alejandro']\n",
      "[3, 5, 8, 9, 8, 10]\n"
     ]
    }
   ],
   "source": [
    "variable = estudiar(estudiantes, notas)"
   ]
  },
  {
   "cell_type": "code",
   "execution_count": 10,
   "id": "a1ce1db8",
   "metadata": {},
   "outputs": [
    {
     "data": {
      "text/plain": [
       "[['Pepe', 'juan', 'ana', 'maria', 'Manue', 'Alejandro'], [3, 5, 8, 9, 8, 10]]"
      ]
     },
     "execution_count": 10,
     "metadata": {},
     "output_type": "execute_result"
    }
   ],
   "source": [
    "variable"
   ]
  },
  {
   "cell_type": "code",
   "execution_count": 11,
   "id": "d1eb12a2",
   "metadata": {},
   "outputs": [
    {
     "name": "stdout",
     "output_type": "stream",
     "text": [
      "8\n"
     ]
    }
   ],
   "source": [
    "a = print(8)"
   ]
  },
  {
   "cell_type": "code",
   "execution_count": 12,
   "id": "4bb260a1",
   "metadata": {},
   "outputs": [
    {
     "name": "stdout",
     "output_type": "stream",
     "text": [
      "None\n"
     ]
    }
   ],
   "source": [
    "print(a)"
   ]
  },
  {
   "cell_type": "code",
   "execution_count": 14,
   "id": "8209c4e4",
   "metadata": {},
   "outputs": [],
   "source": [
    "def funcion():   # no entra nada\n",
    "    \n",
    "    num = 90\n",
    "    \n",
    "    num_2 = num**2\n",
    "    \n",
    "    lst = []\n",
    "    \n",
    "    lst.append(num_2)\n",
    "    \n",
    "    # no tiene return, no devuelve nada"
   ]
  },
  {
   "cell_type": "code",
   "execution_count": 15,
   "id": "21921629",
   "metadata": {},
   "outputs": [],
   "source": [
    "funcion()"
   ]
  },
  {
   "cell_type": "code",
   "execution_count": 16,
   "id": "df2ab114",
   "metadata": {},
   "outputs": [],
   "source": [
    "b = funcion()"
   ]
  },
  {
   "cell_type": "code",
   "execution_count": 18,
   "id": "60a670bd",
   "metadata": {},
   "outputs": [
    {
     "ename": "SyntaxError",
     "evalue": "'return' outside function (2166546933.py, line 1)",
     "output_type": "error",
     "traceback": [
      "\u001b[0;36m  Cell \u001b[0;32mIn[18], line 1\u001b[0;36m\u001b[0m\n\u001b[0;31m    return (b)\u001b[0m\n\u001b[0m    ^\u001b[0m\n\u001b[0;31mSyntaxError\u001b[0m\u001b[0;31m:\u001b[0m 'return' outside function\n"
     ]
    }
   ],
   "source": [
    "return (b)"
   ]
  },
  {
   "cell_type": "code",
   "execution_count": 19,
   "id": "2b23c685",
   "metadata": {},
   "outputs": [],
   "source": [
    "def funcion():   # no entra nada\n",
    "    \n",
    "    num = 90\n",
    "    \n",
    "    num_2 = num**2\n",
    "    \n",
    "    lst = []\n",
    "    \n",
    "    lst.append(num_2)\n",
    "    \n",
    "    return lst"
   ]
  },
  {
   "cell_type": "code",
   "execution_count": 20,
   "id": "01c842e6",
   "metadata": {},
   "outputs": [
    {
     "name": "stdout",
     "output_type": "stream",
     "text": [
      "[8100]\n"
     ]
    }
   ],
   "source": [
    "b = funcion()\n",
    "\n",
    "print(b)"
   ]
  },
  {
   "cell_type": "code",
   "execution_count": 22,
   "id": "f97384cd",
   "metadata": {},
   "outputs": [],
   "source": [
    "def sumar(a, b):\n",
    "    \n",
    "    return a+b"
   ]
  },
  {
   "cell_type": "code",
   "execution_count": 23,
   "id": "4f9a5743",
   "metadata": {},
   "outputs": [
    {
     "data": {
      "text/plain": [
       "17"
      ]
     },
     "execution_count": 23,
     "metadata": {},
     "output_type": "execute_result"
    }
   ],
   "source": [
    "sumar(8, 9)"
   ]
  },
  {
   "cell_type": "code",
   "execution_count": 24,
   "id": "90df3261",
   "metadata": {},
   "outputs": [],
   "source": [
    "def multi(a, b):\n",
    "    \n",
    "    return a*b"
   ]
  },
  {
   "cell_type": "code",
   "execution_count": 25,
   "id": "bde650a3",
   "metadata": {},
   "outputs": [
    {
     "data": {
      "text/plain": [
       "72"
      ]
     },
     "execution_count": 25,
     "metadata": {},
     "output_type": "execute_result"
    }
   ],
   "source": [
    "multi(8, 9)"
   ]
  },
  {
   "cell_type": "code",
   "execution_count": 26,
   "id": "02a94637",
   "metadata": {},
   "outputs": [],
   "source": [
    "def facturar(precio):\n",
    "    \n",
    "    tax = multi(precio, 0.21)\n",
    "    \n",
    "    iva = multi(precio, 0.15)\n",
    "    \n",
    "    precio = sumar(precio, tax)\n",
    "    \n",
    "    precio = sumar(precio, iva)\n",
    "    \n",
    "    return precio"
   ]
  },
  {
   "cell_type": "code",
   "execution_count": 27,
   "id": "33bd8ed6",
   "metadata": {},
   "outputs": [
    {
     "data": {
      "text/plain": [
       "340.0"
      ]
     },
     "execution_count": 27,
     "metadata": {},
     "output_type": "execute_result"
    }
   ],
   "source": [
    "facturar(250)"
   ]
  },
  {
   "cell_type": "code",
   "execution_count": 28,
   "id": "96e3c391",
   "metadata": {},
   "outputs": [],
   "source": [
    "valor = facturar(321.90)"
   ]
  },
  {
   "cell_type": "code",
   "execution_count": 29,
   "id": "6724660a",
   "metadata": {},
   "outputs": [
    {
     "name": "stdout",
     "output_type": "stream",
     "text": [
      "437.784\n"
     ]
    }
   ],
   "source": [
    "print(valor)"
   ]
  },
  {
   "cell_type": "code",
   "execution_count": 30,
   "id": "c723d026",
   "metadata": {},
   "outputs": [
    {
     "name": "stdout",
     "output_type": "stream",
     "text": [
      "8\n",
      "None\n"
     ]
    }
   ],
   "source": [
    "a = print(8)\n",
    "\n",
    "print(a)"
   ]
  },
  {
   "cell_type": "code",
   "execution_count": 31,
   "id": "8b987d3f",
   "metadata": {},
   "outputs": [],
   "source": [
    "def facturar(precio):\n",
    "    \n",
    "    tax = multi(precio, 0.21)\n",
    "    \n",
    "    iva = multi(precio, 0.15)\n",
    "    \n",
    "    precio = sumar(precio, tax)\n",
    "    \n",
    "    precio = sumar(precio, iva)\n",
    "    \n",
    "    "
   ]
  },
  {
   "cell_type": "code",
   "execution_count": 32,
   "id": "d87f07e4",
   "metadata": {},
   "outputs": [],
   "source": [
    "valor = facturar(321.90)"
   ]
  },
  {
   "cell_type": "code",
   "execution_count": 33,
   "id": "15282239",
   "metadata": {},
   "outputs": [
    {
     "name": "stdout",
     "output_type": "stream",
     "text": [
      "None\n"
     ]
    }
   ],
   "source": [
    "print(valor)"
   ]
  },
  {
   "cell_type": "code",
   "execution_count": 34,
   "id": "16c25af6",
   "metadata": {},
   "outputs": [
    {
     "ename": "NameError",
     "evalue": "name 'precio' is not defined",
     "output_type": "error",
     "traceback": [
      "\u001b[0;31m---------------------------------------------------------------------------\u001b[0m",
      "\u001b[0;31mNameError\u001b[0m                                 Traceback (most recent call last)",
      "Cell \u001b[0;32mIn[34], line 1\u001b[0m\n\u001b[0;32m----> 1\u001b[0m \u001b[43mprecio\u001b[49m\n",
      "\u001b[0;31mNameError\u001b[0m: name 'precio' is not defined"
     ]
    }
   ],
   "source": [
    "precio"
   ]
  },
  {
   "cell_type": "markdown",
   "id": "5f875794",
   "metadata": {},
   "source": [
    "---"
   ]
  },
  {
   "cell_type": "markdown",
   "id": "3c91e180",
   "metadata": {},
   "source": [
    "---"
   ]
  },
  {
   "cell_type": "markdown",
   "id": "5598d6b8",
   "metadata": {},
   "source": [
    "__Some considerations__"
   ]
  },
  {
   "cell_type": "code",
   "execution_count": 38,
   "id": "4ea373c5",
   "metadata": {},
   "outputs": [
    {
     "data": {
      "text/plain": [
       "[8100]"
      ]
     },
     "execution_count": 38,
     "metadata": {},
     "output_type": "execute_result"
    }
   ],
   "source": [
    "# global o local\n",
    "\n",
    "b"
   ]
  },
  {
   "cell_type": "code",
   "execution_count": 39,
   "id": "83cf3704",
   "metadata": {},
   "outputs": [],
   "source": [
    "def probar():\n",
    "    \n",
    "    global b\n",
    "    \n",
    "    b.append(90)\n",
    "    \n",
    "    print(b)"
   ]
  },
  {
   "cell_type": "code",
   "execution_count": 40,
   "id": "c153d64a",
   "metadata": {},
   "outputs": [
    {
     "name": "stdout",
     "output_type": "stream",
     "text": [
      "[8100, 90]\n"
     ]
    }
   ],
   "source": [
    "probar()"
   ]
  },
  {
   "cell_type": "code",
   "execution_count": 41,
   "id": "df62ea7e",
   "metadata": {},
   "outputs": [
    {
     "data": {
      "text/plain": [
       "[8100, 90]"
      ]
     },
     "execution_count": 41,
     "metadata": {},
     "output_type": "execute_result"
    }
   ],
   "source": [
    "b"
   ]
  },
  {
   "cell_type": "code",
   "execution_count": 42,
   "id": "012d380a",
   "metadata": {
    "scrolled": true
   },
   "outputs": [
    {
     "name": "stdout",
     "output_type": "stream",
     "text": [
      "[8100, 90, 90]\n",
      "None\n"
     ]
    }
   ],
   "source": [
    "print(probar())"
   ]
  },
  {
   "cell_type": "code",
   "execution_count": 43,
   "id": "47b478cc",
   "metadata": {},
   "outputs": [],
   "source": [
    "M = 90  # global"
   ]
  },
  {
   "cell_type": "code",
   "execution_count": 45,
   "id": "5d2ad8bb",
   "metadata": {},
   "outputs": [
    {
     "data": {
      "text/plain": [
       "90"
      ]
     },
     "metadata": {},
     "output_type": "display_data"
    }
   ],
   "source": [
    "display(M)"
   ]
  },
  {
   "cell_type": "code",
   "execution_count": 46,
   "id": "b3580f9d",
   "metadata": {},
   "outputs": [],
   "source": [
    "def cambiar():\n",
    "    \n",
    "    M = 5  # local\n",
    "    \n",
    "    M += 32\n",
    "    \n",
    "    \n",
    "    return M"
   ]
  },
  {
   "cell_type": "code",
   "execution_count": 47,
   "id": "9a5d9dd9",
   "metadata": {},
   "outputs": [],
   "source": [
    "valor = cambiar()"
   ]
  },
  {
   "cell_type": "code",
   "execution_count": 48,
   "id": "631a59c3",
   "metadata": {},
   "outputs": [
    {
     "name": "stdout",
     "output_type": "stream",
     "text": [
      "37\n"
     ]
    }
   ],
   "source": [
    "print(valor)"
   ]
  },
  {
   "cell_type": "code",
   "execution_count": 49,
   "id": "2a4c8756",
   "metadata": {},
   "outputs": [
    {
     "name": "stdout",
     "output_type": "stream",
     "text": [
      "90\n"
     ]
    }
   ],
   "source": [
    "print(M)"
   ]
  },
  {
   "cell_type": "code",
   "execution_count": 50,
   "id": "70ee7db0",
   "metadata": {},
   "outputs": [],
   "source": [
    "def cambiar():\n",
    "    \n",
    "    global M\n",
    "    \n",
    "    M = 5  # Ahora es global\n",
    "    \n",
    "    M += 32\n",
    "    \n",
    "    \n",
    "    return M"
   ]
  },
  {
   "cell_type": "code",
   "execution_count": 51,
   "id": "cd8e3eff",
   "metadata": {},
   "outputs": [],
   "source": [
    "valor = cambiar()"
   ]
  },
  {
   "cell_type": "code",
   "execution_count": 52,
   "id": "06857471",
   "metadata": {},
   "outputs": [
    {
     "data": {
      "text/plain": [
       "37"
      ]
     },
     "execution_count": 52,
     "metadata": {},
     "output_type": "execute_result"
    }
   ],
   "source": [
    "valor"
   ]
  },
  {
   "cell_type": "code",
   "execution_count": 53,
   "id": "1f4a0d2b",
   "metadata": {},
   "outputs": [
    {
     "data": {
      "text/plain": [
       "37"
      ]
     },
     "execution_count": 53,
     "metadata": {},
     "output_type": "execute_result"
    }
   ],
   "source": [
    "M"
   ]
  },
  {
   "cell_type": "markdown",
   "id": "80e10bc6",
   "metadata": {},
   "source": [
    "---"
   ]
  },
  {
   "cell_type": "code",
   "execution_count": 54,
   "id": "0888352b",
   "metadata": {},
   "outputs": [],
   "source": [
    "def sumar(a, b, c):\n",
    "    \n",
    "    return a+b+c"
   ]
  },
  {
   "cell_type": "code",
   "execution_count": 55,
   "id": "eb4c8981",
   "metadata": {},
   "outputs": [
    {
     "ename": "TypeError",
     "evalue": "sumar() missing 2 required positional arguments: 'b' and 'c'",
     "output_type": "error",
     "traceback": [
      "\u001b[0;31m---------------------------------------------------------------------------\u001b[0m",
      "\u001b[0;31mTypeError\u001b[0m                                 Traceback (most recent call last)",
      "Cell \u001b[0;32mIn[55], line 1\u001b[0m\n\u001b[0;32m----> 1\u001b[0m \u001b[43msumar\u001b[49m\u001b[43m(\u001b[49m\u001b[38;5;241;43m8\u001b[39;49m\u001b[43m)\u001b[49m\n",
      "\u001b[0;31mTypeError\u001b[0m: sumar() missing 2 required positional arguments: 'b' and 'c'"
     ]
    }
   ],
   "source": [
    "sumar(8)"
   ]
  },
  {
   "cell_type": "code",
   "execution_count": 56,
   "id": "083aed69",
   "metadata": {},
   "outputs": [
    {
     "ename": "TypeError",
     "evalue": "sumar() missing 1 required positional argument: 'c'",
     "output_type": "error",
     "traceback": [
      "\u001b[0;31m---------------------------------------------------------------------------\u001b[0m",
      "\u001b[0;31mTypeError\u001b[0m                                 Traceback (most recent call last)",
      "Cell \u001b[0;32mIn[56], line 1\u001b[0m\n\u001b[0;32m----> 1\u001b[0m \u001b[43msumar\u001b[49m\u001b[43m(\u001b[49m\u001b[38;5;241;43m8\u001b[39;49m\u001b[43m,\u001b[49m\u001b[43m \u001b[49m\u001b[38;5;241;43m2\u001b[39;49m\u001b[43m)\u001b[49m\n",
      "\u001b[0;31mTypeError\u001b[0m: sumar() missing 1 required positional argument: 'c'"
     ]
    }
   ],
   "source": [
    "sumar(8, 2)"
   ]
  },
  {
   "cell_type": "code",
   "execution_count": 57,
   "id": "6078505b",
   "metadata": {},
   "outputs": [
    {
     "data": {
      "text/plain": [
       "15"
      ]
     },
     "execution_count": 57,
     "metadata": {},
     "output_type": "execute_result"
    }
   ],
   "source": [
    "sumar(8, 2, 5)"
   ]
  },
  {
   "cell_type": "code",
   "execution_count": 58,
   "id": "e4bffd43",
   "metadata": {},
   "outputs": [],
   "source": [
    "def sumar(a, b=2, c=9):\n",
    "    \n",
    "    return a+b+c"
   ]
  },
  {
   "cell_type": "code",
   "execution_count": 59,
   "id": "fc5cc1cf",
   "metadata": {},
   "outputs": [
    {
     "data": {
      "text/plain": [
       "19"
      ]
     },
     "execution_count": 59,
     "metadata": {},
     "output_type": "execute_result"
    }
   ],
   "source": [
    "sumar(8)"
   ]
  },
  {
   "cell_type": "code",
   "execution_count": 60,
   "id": "f88c4555",
   "metadata": {},
   "outputs": [
    {
     "data": {
      "text/plain": [
       "14"
      ]
     },
     "execution_count": 60,
     "metadata": {},
     "output_type": "execute_result"
    }
   ],
   "source": [
    "sumar(2, 3)"
   ]
  },
  {
   "cell_type": "code",
   "execution_count": 61,
   "id": "8fb45f30",
   "metadata": {},
   "outputs": [
    {
     "data": {
      "text/plain": [
       "17"
      ]
     },
     "execution_count": 61,
     "metadata": {},
     "output_type": "execute_result"
    }
   ],
   "source": [
    "sumar(2, 3, 12)"
   ]
  },
  {
   "cell_type": "code",
   "execution_count": 62,
   "id": "a343814b",
   "metadata": {},
   "outputs": [],
   "source": [
    "def sumar(a, b=2, c=9):\n",
    "    \n",
    "    return a + b/3 + c**2"
   ]
  },
  {
   "cell_type": "code",
   "execution_count": 63,
   "id": "637ae61c",
   "metadata": {},
   "outputs": [
    {
     "data": {
      "text/plain": [
       "89.66666666666667"
      ]
     },
     "execution_count": 63,
     "metadata": {},
     "output_type": "execute_result"
    }
   ],
   "source": [
    "sumar(8)"
   ]
  },
  {
   "cell_type": "code",
   "execution_count": 64,
   "id": "9c688d9c",
   "metadata": {},
   "outputs": [
    {
     "data": {
      "text/plain": [
       "84.0"
      ]
     },
     "execution_count": 64,
     "metadata": {},
     "output_type": "execute_result"
    }
   ],
   "source": [
    "sumar(2, 3)"
   ]
  },
  {
   "cell_type": "code",
   "execution_count": 65,
   "id": "f7464971",
   "metadata": {},
   "outputs": [
    {
     "data": {
      "text/plain": [
       "147.0"
      ]
     },
     "execution_count": 65,
     "metadata": {},
     "output_type": "execute_result"
    }
   ],
   "source": [
    "sumar(2, 3, 12)"
   ]
  },
  {
   "cell_type": "code",
   "execution_count": 66,
   "id": "791a2641",
   "metadata": {},
   "outputs": [
    {
     "data": {
      "text/plain": [
       "147.0"
      ]
     },
     "execution_count": 66,
     "metadata": {},
     "output_type": "execute_result"
    }
   ],
   "source": [
    "sumar(a=2, b=3, c=12)"
   ]
  },
  {
   "cell_type": "code",
   "execution_count": 67,
   "id": "b95f7157",
   "metadata": {},
   "outputs": [
    {
     "data": {
      "text/plain": [
       "11.0"
      ]
     },
     "execution_count": 67,
     "metadata": {},
     "output_type": "execute_result"
    }
   ],
   "source": [
    "sumar(c=2, a=3, b=12)"
   ]
  },
  {
   "cell_type": "code",
   "execution_count": 68,
   "id": "be324533",
   "metadata": {},
   "outputs": [
    {
     "ename": "TypeError",
     "evalue": "sumar() missing 1 required positional argument: 'a'",
     "output_type": "error",
     "traceback": [
      "\u001b[0;31m---------------------------------------------------------------------------\u001b[0m",
      "\u001b[0;31mTypeError\u001b[0m                                 Traceback (most recent call last)",
      "Cell \u001b[0;32mIn[68], line 1\u001b[0m\n\u001b[0;32m----> 1\u001b[0m \u001b[43msumar\u001b[49m\u001b[43m(\u001b[49m\u001b[43mc\u001b[49m\u001b[38;5;241;43m=\u001b[39;49m\u001b[38;5;241;43m2\u001b[39;49m\u001b[43m)\u001b[49m\n",
      "\u001b[0;31mTypeError\u001b[0m: sumar() missing 1 required positional argument: 'a'"
     ]
    }
   ],
   "source": [
    "sumar(c=2)"
   ]
  },
  {
   "cell_type": "code",
   "execution_count": 70,
   "id": "464f9da9",
   "metadata": {},
   "outputs": [
    {
     "data": {
      "text/plain": [
       "38.666666666666664"
      ]
     },
     "execution_count": 70,
     "metadata": {},
     "output_type": "execute_result"
    }
   ],
   "source": [
    "sumar(34, c=2)"
   ]
  },
  {
   "cell_type": "code",
   "execution_count": 69,
   "id": "a0cfdd05",
   "metadata": {},
   "outputs": [
    {
     "ename": "SyntaxError",
     "evalue": "non-default argument follows default argument (1088497992.py, line 1)",
     "output_type": "error",
     "traceback": [
      "\u001b[0;36m  Cell \u001b[0;32mIn[69], line 1\u001b[0;36m\u001b[0m\n\u001b[0;31m    def sumar(a=1, b, c):\u001b[0m\n\u001b[0m                      ^\u001b[0m\n\u001b[0;31mSyntaxError\u001b[0m\u001b[0;31m:\u001b[0m non-default argument follows default argument\n"
     ]
    }
   ],
   "source": [
    "def sumar(a=1, b, c):\n",
    "    \n",
    "    return a + b/3 + c**2"
   ]
  },
  {
   "cell_type": "code",
   "execution_count": 73,
   "id": "361eafcd",
   "metadata": {},
   "outputs": [],
   "source": [
    "b=90"
   ]
  },
  {
   "cell_type": "code",
   "execution_count": 74,
   "id": "e8cf5e67",
   "metadata": {},
   "outputs": [
    {
     "data": {
      "text/plain": [
       "171.66666666666669"
      ]
     },
     "execution_count": 74,
     "metadata": {},
     "output_type": "execute_result"
    }
   ],
   "source": [
    "sumar(a=b)"
   ]
  },
  {
   "cell_type": "code",
   "execution_count": 75,
   "id": "f100030d",
   "metadata": {},
   "outputs": [],
   "source": [
    "def sumar(a, b=2, c=9):\n",
    "    \n",
    "    return a + b/3 + c**2"
   ]
  },
  {
   "cell_type": "code",
   "execution_count": 76,
   "id": "76bf6f59",
   "metadata": {},
   "outputs": [
    {
     "data": {
      "text/plain": [
       "90.66666666666667"
      ]
     },
     "execution_count": 76,
     "metadata": {},
     "output_type": "execute_result"
    }
   ],
   "source": [
    "sumar(9)"
   ]
  },
  {
   "cell_type": "code",
   "execution_count": 77,
   "id": "3a05025e",
   "metadata": {},
   "outputs": [
    {
     "data": {
      "text/plain": [
       "90.33333333333333"
      ]
     },
     "execution_count": 77,
     "metadata": {},
     "output_type": "execute_result"
    }
   ],
   "source": [
    "sumar(9, 1)"
   ]
  },
  {
   "cell_type": "code",
   "execution_count": 78,
   "id": "0031997b",
   "metadata": {},
   "outputs": [
    {
     "data": {
      "text/plain": [
       "45.333333333333336"
      ]
     },
     "execution_count": 78,
     "metadata": {},
     "output_type": "execute_result"
    }
   ],
   "source": [
    "sumar(9, 1, 6)"
   ]
  },
  {
   "cell_type": "code",
   "execution_count": 79,
   "id": "71fe2730",
   "metadata": {},
   "outputs": [],
   "source": [
    "lst = [1,2,3]"
   ]
  },
  {
   "cell_type": "code",
   "execution_count": 80,
   "id": "065388ef",
   "metadata": {},
   "outputs": [
    {
     "data": {
      "text/plain": [
       "10.666666666666666"
      ]
     },
     "execution_count": 80,
     "metadata": {},
     "output_type": "execute_result"
    }
   ],
   "source": [
    "sumar(lst[0], lst[1], lst[2])"
   ]
  },
  {
   "cell_type": "code",
   "execution_count": 81,
   "id": "ea81fa40",
   "metadata": {},
   "outputs": [
    {
     "ename": "TypeError",
     "evalue": "can only concatenate list (not \"float\") to list",
     "output_type": "error",
     "traceback": [
      "\u001b[0;31m---------------------------------------------------------------------------\u001b[0m",
      "\u001b[0;31mTypeError\u001b[0m                                 Traceback (most recent call last)",
      "Cell \u001b[0;32mIn[81], line 1\u001b[0m\n\u001b[0;32m----> 1\u001b[0m \u001b[43msumar\u001b[49m\u001b[43m(\u001b[49m\u001b[43mlst\u001b[49m\u001b[43m)\u001b[49m\n",
      "Cell \u001b[0;32mIn[75], line 3\u001b[0m, in \u001b[0;36msumar\u001b[0;34m(a, b, c)\u001b[0m\n\u001b[1;32m      1\u001b[0m \u001b[38;5;28;01mdef\u001b[39;00m \u001b[38;5;21msumar\u001b[39m(a, b\u001b[38;5;241m=\u001b[39m\u001b[38;5;241m2\u001b[39m, c\u001b[38;5;241m=\u001b[39m\u001b[38;5;241m9\u001b[39m):\n\u001b[0;32m----> 3\u001b[0m     \u001b[38;5;28;01mreturn\u001b[39;00m \u001b[43ma\u001b[49m\u001b[43m \u001b[49m\u001b[38;5;241;43m+\u001b[39;49m\u001b[43m \u001b[49m\u001b[43mb\u001b[49m\u001b[38;5;241;43m/\u001b[39;49m\u001b[38;5;241;43m3\u001b[39;49m \u001b[38;5;241m+\u001b[39m c\u001b[38;5;241m*\u001b[39m\u001b[38;5;241m*\u001b[39m\u001b[38;5;241m2\u001b[39m\n",
      "\u001b[0;31mTypeError\u001b[0m: can only concatenate list (not \"float\") to list"
     ]
    }
   ],
   "source": [
    "sumar(lst)"
   ]
  },
  {
   "cell_type": "code",
   "execution_count": 82,
   "id": "08e3ba1c",
   "metadata": {},
   "outputs": [
    {
     "data": {
      "text/plain": [
       "10.666666666666666"
      ]
     },
     "execution_count": 82,
     "metadata": {},
     "output_type": "execute_result"
    }
   ],
   "source": [
    "sumar(*lst)   # *  significa desempaqueta la lista"
   ]
  },
  {
   "cell_type": "code",
   "execution_count": 86,
   "id": "78428adf",
   "metadata": {},
   "outputs": [],
   "source": [
    "def sumar2(*args): # *args significa que tiene un nº indeterminado de entradas\n",
    "    \n",
    "    print('Estoy dentro:', args)\n",
    "    \n",
    "    return sum(args)"
   ]
  },
  {
   "cell_type": "code",
   "execution_count": 87,
   "id": "768def4b",
   "metadata": {},
   "outputs": [
    {
     "name": "stdout",
     "output_type": "stream",
     "text": [
      "Estoy dentro: (1, 2, 3)\n"
     ]
    },
    {
     "data": {
      "text/plain": [
       "6"
      ]
     },
     "execution_count": 87,
     "metadata": {},
     "output_type": "execute_result"
    }
   ],
   "source": [
    "sumar2(*lst)   "
   ]
  },
  {
   "cell_type": "code",
   "execution_count": 88,
   "id": "9f59ad21",
   "metadata": {},
   "outputs": [
    {
     "name": "stdout",
     "output_type": "stream",
     "text": [
      "Estoy dentro: ([1, 2, 3],)\n"
     ]
    },
    {
     "ename": "TypeError",
     "evalue": "unsupported operand type(s) for +: 'int' and 'list'",
     "output_type": "error",
     "traceback": [
      "\u001b[0;31m---------------------------------------------------------------------------\u001b[0m",
      "\u001b[0;31mTypeError\u001b[0m                                 Traceback (most recent call last)",
      "Cell \u001b[0;32mIn[88], line 1\u001b[0m\n\u001b[0;32m----> 1\u001b[0m \u001b[43msumar2\u001b[49m\u001b[43m(\u001b[49m\u001b[43mlst\u001b[49m\u001b[43m)\u001b[49m \n",
      "Cell \u001b[0;32mIn[86], line 5\u001b[0m, in \u001b[0;36msumar2\u001b[0;34m(*args)\u001b[0m\n\u001b[1;32m      1\u001b[0m \u001b[38;5;28;01mdef\u001b[39;00m \u001b[38;5;21msumar2\u001b[39m(\u001b[38;5;241m*\u001b[39margs):\n\u001b[1;32m      3\u001b[0m     \u001b[38;5;28mprint\u001b[39m(\u001b[38;5;124m'\u001b[39m\u001b[38;5;124mEstoy dentro:\u001b[39m\u001b[38;5;124m'\u001b[39m, args)\n\u001b[0;32m----> 5\u001b[0m     \u001b[38;5;28;01mreturn\u001b[39;00m \u001b[38;5;28;43msum\u001b[39;49m\u001b[43m(\u001b[49m\u001b[43margs\u001b[49m\u001b[43m)\u001b[49m\n",
      "\u001b[0;31mTypeError\u001b[0m: unsupported operand type(s) for +: 'int' and 'list'"
     ]
    }
   ],
   "source": [
    "sumar2(lst) "
   ]
  },
  {
   "cell_type": "code",
   "execution_count": 89,
   "id": "f6e8509d",
   "metadata": {},
   "outputs": [
    {
     "name": "stdout",
     "output_type": "stream",
     "text": [
      "Estoy dentro: (1, 2, 3, 4, 5, 6, 7, 8, 9, 0)\n"
     ]
    },
    {
     "data": {
      "text/plain": [
       "45"
      ]
     },
     "execution_count": 89,
     "metadata": {},
     "output_type": "execute_result"
    }
   ],
   "source": [
    "sumar2(*[1,2,3,4,5,6,7,8,9,0])"
   ]
  },
  {
   "cell_type": "code",
   "execution_count": 91,
   "id": "24093c7e",
   "metadata": {},
   "outputs": [],
   "source": [
    "def sumar3(*args): # *args significa que tiene un nº indeterminado de entradas\n",
    "    \n",
    "    print('Estoy dentro:', args)\n",
    "    \n",
    "    lst = []\n",
    "    \n",
    "    for e in args:\n",
    "        \n",
    "        if e%2==0:\n",
    "            \n",
    "            lst.append(e**2)\n",
    "            \n",
    "        else:\n",
    "            \n",
    "            lst.append('Es impar')\n",
    "            \n",
    "            \n",
    "    return lst\n",
    "        "
   ]
  },
  {
   "cell_type": "code",
   "execution_count": 92,
   "id": "6ab5fe76",
   "metadata": {},
   "outputs": [
    {
     "name": "stdout",
     "output_type": "stream",
     "text": [
      "Estoy dentro: (1, 2, 3, 4, 5, 6, 7, 8, 9, 0)\n"
     ]
    },
    {
     "data": {
      "text/plain": [
       "['Es impar', 4, 'Es impar', 16, 'Es impar', 36, 'Es impar', 64, 'Es impar', 0]"
      ]
     },
     "execution_count": 92,
     "metadata": {},
     "output_type": "execute_result"
    }
   ],
   "source": [
    "sumar3(*[1,2,3,4,5,6,7,8,9,0])"
   ]
  },
  {
   "cell_type": "code",
   "execution_count": 93,
   "id": "cea9b9e0",
   "metadata": {},
   "outputs": [
    {
     "name": "stdout",
     "output_type": "stream",
     "text": [
      "Estoy dentro: ([1, 2, 3, 4, 5, 6, 7, 8, 9, 0],)\n"
     ]
    },
    {
     "ename": "TypeError",
     "evalue": "unsupported operand type(s) for %: 'list' and 'int'",
     "output_type": "error",
     "traceback": [
      "\u001b[0;31m---------------------------------------------------------------------------\u001b[0m",
      "\u001b[0;31mTypeError\u001b[0m                                 Traceback (most recent call last)",
      "Cell \u001b[0;32mIn[93], line 1\u001b[0m\n\u001b[0;32m----> 1\u001b[0m \u001b[43msumar3\u001b[49m\u001b[43m(\u001b[49m\u001b[43m[\u001b[49m\u001b[38;5;241;43m1\u001b[39;49m\u001b[43m,\u001b[49m\u001b[38;5;241;43m2\u001b[39;49m\u001b[43m,\u001b[49m\u001b[38;5;241;43m3\u001b[39;49m\u001b[43m,\u001b[49m\u001b[38;5;241;43m4\u001b[39;49m\u001b[43m,\u001b[49m\u001b[38;5;241;43m5\u001b[39;49m\u001b[43m,\u001b[49m\u001b[38;5;241;43m6\u001b[39;49m\u001b[43m,\u001b[49m\u001b[38;5;241;43m7\u001b[39;49m\u001b[43m,\u001b[49m\u001b[38;5;241;43m8\u001b[39;49m\u001b[43m,\u001b[49m\u001b[38;5;241;43m9\u001b[39;49m\u001b[43m,\u001b[49m\u001b[38;5;241;43m0\u001b[39;49m\u001b[43m]\u001b[49m\u001b[43m)\u001b[49m\n",
      "Cell \u001b[0;32mIn[91], line 9\u001b[0m, in \u001b[0;36msumar3\u001b[0;34m(*args)\u001b[0m\n\u001b[1;32m      5\u001b[0m lst \u001b[38;5;241m=\u001b[39m []\n\u001b[1;32m      7\u001b[0m \u001b[38;5;28;01mfor\u001b[39;00m e \u001b[38;5;129;01min\u001b[39;00m args:\n\u001b[0;32m----> 9\u001b[0m     \u001b[38;5;28;01mif\u001b[39;00m \u001b[43me\u001b[49m\u001b[38;5;241;43m%\u001b[39;49m\u001b[38;5;241;43m2\u001b[39;49m\u001b[38;5;241m==\u001b[39m\u001b[38;5;241m0\u001b[39m:\n\u001b[1;32m     11\u001b[0m         lst\u001b[38;5;241m.\u001b[39mappend(e\u001b[38;5;241m*\u001b[39m\u001b[38;5;241m*\u001b[39m\u001b[38;5;241m2\u001b[39m)\n\u001b[1;32m     13\u001b[0m     \u001b[38;5;28;01melse\u001b[39;00m:\n",
      "\u001b[0;31mTypeError\u001b[0m: unsupported operand type(s) for %: 'list' and 'int'"
     ]
    }
   ],
   "source": [
    "sumar3([1,2,3,4,5,6,7,8,9,0])"
   ]
  },
  {
   "cell_type": "code",
   "execution_count": 97,
   "id": "2a886229",
   "metadata": {},
   "outputs": [],
   "source": [
    "def sumar4(*args, c=90, d=20): # *args significa que tiene un nº indeterminado de entradas posicionales\n",
    "    \n",
    "    print('Estoy dentro:', args)\n",
    "    \n",
    "    print(c, d)\n",
    "    \n",
    "    return sum(args)"
   ]
  },
  {
   "cell_type": "code",
   "execution_count": 98,
   "id": "07e88fea",
   "metadata": {},
   "outputs": [
    {
     "name": "stdout",
     "output_type": "stream",
     "text": [
      "Estoy dentro: (1, 2, 3, 4, 5, 6, 7, 8, 9, 0)\n",
      "90 20\n"
     ]
    },
    {
     "data": {
      "text/plain": [
       "45"
      ]
     },
     "execution_count": 98,
     "metadata": {},
     "output_type": "execute_result"
    }
   ],
   "source": [
    "sumar4(*[1,2,3,4,5,6,7,8,9,0])"
   ]
  },
  {
   "cell_type": "code",
   "execution_count": 99,
   "id": "73fb88fe",
   "metadata": {},
   "outputs": [
    {
     "name": "stdout",
     "output_type": "stream",
     "text": [
      "Estoy dentro: (1, 2, 3, 4, 5, 6, 7, 8, 9, 0)\n",
      "1 hola\n"
     ]
    },
    {
     "data": {
      "text/plain": [
       "45"
      ]
     },
     "execution_count": 99,
     "metadata": {},
     "output_type": "execute_result"
    }
   ],
   "source": [
    "sumar4(*[1,2,3,4,5,6,7,8,9,0], c=1, d='hola')"
   ]
  },
  {
   "cell_type": "code",
   "execution_count": 100,
   "id": "d89f5b1b",
   "metadata": {},
   "outputs": [
    {
     "data": {
      "text/plain": [
       "{'c': 10, 'd': 'adios'}"
      ]
     },
     "execution_count": 100,
     "metadata": {},
     "output_type": "execute_result"
    }
   ],
   "source": [
    "dictio = {'c': 10, 'd': 'adios'}\n",
    "\n",
    "dictio"
   ]
  },
  {
   "cell_type": "code",
   "execution_count": 101,
   "id": "3bfce7bb",
   "metadata": {},
   "outputs": [
    {
     "name": "stdout",
     "output_type": "stream",
     "text": [
      "Estoy dentro: (1, 2, 3, 4, 5, 6, 7, 8, 9, 0)\n",
      "{'c': 10, 'd': 'adios'} hola\n"
     ]
    },
    {
     "data": {
      "text/plain": [
       "45"
      ]
     },
     "execution_count": 101,
     "metadata": {},
     "output_type": "execute_result"
    }
   ],
   "source": [
    "sumar4(*[1,2,3,4,5,6,7,8,9,0], c=dictio, d='hola')"
   ]
  },
  {
   "cell_type": "code",
   "execution_count": 102,
   "id": "bd93af49",
   "metadata": {},
   "outputs": [
    {
     "name": "stdout",
     "output_type": "stream",
     "text": [
      "Estoy dentro: (1, 2, 3, 4, 5, 6, 7, 8, 9, 0)\n",
      "10 adios\n"
     ]
    },
    {
     "data": {
      "text/plain": [
       "45"
      ]
     },
     "execution_count": 102,
     "metadata": {},
     "output_type": "execute_result"
    }
   ],
   "source": [
    "sumar4(*[1,2,3,4,5,6,7,8,9,0], **dictio)  # el ** desempaqueta un dictio, cuyas keys son los nombres de los argumentos"
   ]
  },
  {
   "cell_type": "code",
   "execution_count": 103,
   "id": "05c3a4e2",
   "metadata": {},
   "outputs": [],
   "source": [
    "def funcion(*args, **kwargs): # es la funcion MÁS general posible\n",
    "    \n",
    "    print(args)\n",
    "    \n",
    "    print(kwargs)"
   ]
  },
  {
   "cell_type": "code",
   "execution_count": 104,
   "id": "94d37d7a",
   "metadata": {},
   "outputs": [
    {
     "name": "stdout",
     "output_type": "stream",
     "text": [
      "(1, 2, 3, 4, 5, 6, 7, 8, 9, 0)\n",
      "{'c': 10, 'd': 'adios'}\n"
     ]
    }
   ],
   "source": [
    "funcion(*[1,2,3,4,5,6,7,8,9,0], **dictio)"
   ]
  },
  {
   "cell_type": "code",
   "execution_count": 106,
   "id": "03b6382d",
   "metadata": {},
   "outputs": [
    {
     "name": "stdout",
     "output_type": "stream",
     "text": [
      "(1, 2, 3, 4, 5, 6, 7, 8, 9, 0)\n",
      "{'hola': 3, 'adios': 8, 'True': [1, 2, 3, 4, 56]}\n"
     ]
    }
   ],
   "source": [
    "funcion(*[1,2,3,4,5,6,7,8,9,0], **{'hola': 3, 'adios': 8, 'True': [1,2,3,4,56]})"
   ]
  },
  {
   "cell_type": "code",
   "execution_count": 113,
   "id": "7e150b05",
   "metadata": {},
   "outputs": [],
   "source": [
    "def funcion2(*args, **kwargs): # es la funcion MÁS general posible\n",
    "    \n",
    "    for e in args:\n",
    "        \n",
    "        valor = e**2\n",
    "    \n",
    "    \n",
    "    print(valor)\n",
    "    \n",
    "    \n",
    "    for k,v in kwargs.items():\n",
    "        \n",
    "        print(k, '---', v)\n",
    "        \n",
    "        if k=='hola':\n",
    "            \n",
    "            print(k, 'Estoy con el valor que quieres')\n",
    "        \n",
    "    "
   ]
  },
  {
   "cell_type": "code",
   "execution_count": 114,
   "id": "df31b480",
   "metadata": {},
   "outputs": [
    {
     "name": "stdout",
     "output_type": "stream",
     "text": [
      "0\n",
      "hola --- 3\n",
      "hola Estoy con el valor que quieres\n",
      "adios --- 8\n",
      "True --- [1, 2, 3, 4, 56]\n"
     ]
    }
   ],
   "source": [
    "funcion2(*[1,2,3,4,5,6,7,8,9,0], **{'hola': 3, 'adios': 8, 'True': [1,2,3,4,56]})"
   ]
  },
  {
   "cell_type": "code",
   "execution_count": 121,
   "id": "183f220f",
   "metadata": {},
   "outputs": [],
   "source": [
    "def nombrar(**kwargs):\n",
    "    \n",
    "    print(kwargs)\n",
    "    \n",
    "    nombre = kwargs['name'].upper()\n",
    "    \n",
    "    apellido = kwargs['surname'].lower()\n",
    "    \n",
    "    return nombre+' '+apellido"
   ]
  },
  {
   "cell_type": "code",
   "execution_count": 122,
   "id": "7844ec3d",
   "metadata": {},
   "outputs": [
    {
     "name": "stdout",
     "output_type": "stream",
     "text": [
      "{'name': 'Yona', 'surname': 'RoDRiguez'}\n"
     ]
    },
    {
     "data": {
      "text/plain": [
       "'YONA rodriguez'"
      ]
     },
     "execution_count": 122,
     "metadata": {},
     "output_type": "execute_result"
    }
   ],
   "source": [
    "nombrar(name='Yona', surname='RoDRiguez')"
   ]
  },
  {
   "cell_type": "code",
   "execution_count": 120,
   "id": "ca7269cb",
   "metadata": {},
   "outputs": [
    {
     "data": {
      "text/plain": [
       "'YONA rodriguez'"
      ]
     },
     "execution_count": 120,
     "metadata": {},
     "output_type": "execute_result"
    }
   ],
   "source": [
    "nombrar(**{'name':'Yona', 'surname':'RoDRiguez'})"
   ]
  },
  {
   "cell_type": "markdown",
   "id": "ded39dfa",
   "metadata": {},
   "source": [
    "__OOP for the next episode...__"
   ]
  }
 ],
 "metadata": {
  "kernelspec": {
   "display_name": "Python 3 (ipykernel)",
   "language": "python",
   "name": "python3"
  },
  "language_info": {
   "codemirror_mode": {
    "name": "ipython",
    "version": 3
   },
   "file_extension": ".py",
   "mimetype": "text/x-python",
   "name": "python",
   "nbconvert_exporter": "python",
   "pygments_lexer": "ipython3",
   "version": "3.9.12"
  }
 },
 "nbformat": 4,
 "nbformat_minor": 5
}
