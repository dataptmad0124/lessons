{
 "cells": [
  {
   "cell_type": "markdown",
   "metadata": {},
   "source": [
    "# 3.1 - Web Scraping (selenium)\n",
    "\n",
    "**[Documentación](https://selenium-python.readthedocs.io/)**\n",
    "\n",
    "$$$$\n",
    "\n",
    "![selenium](img/selenium.png)\n",
    "\n",
    "$$$$\n",
    "\n",
    "Selenium es un entorno de pruebas de software para aplicaciones basadas en la web. Selenium provee una herramienta de grabar/reproducir para crear pruebas sin usar un lenguaje de scripting para pruebas (Selenium IDE). Incluye también un lenguaje específico de dominio para pruebas (Selenese) para escribir pruebas en un amplio número de lenguajes de programación populares incluyendo Java, C#, Ruby, Groovy, Perl, Php y Python. Las pruebas pueden ejecutarse entonces usando la mayoría de los navegadores web modernos en diferentes sistemas operativos como Windows, Linux y OSX.\n",
    "\n",
    "Selenium fue originalmente desarrollado por Jason Huggins en 2004 y pronto se unieron al esfuerzo otras personas especialistas en pruebas y programación. Es un software de código abierto bajo la licencia apache 2.0 que puede ser descargada y usada sin cargo. El nombre proviene de una broma hecha por Huggins burlándose de un competidor llamado Mercury (mercurio) diciendo que el envenenamiento por mercurio puede ser curado tomando complementos de Selenium. Los participantes tomaron el nombre y siguieron con él. Existen otros proyectos que se desarrollan alrededor de Selenium como Selenium Grid, para probar concurrencia de múltiples pruebas concurrentes de clientes remotos o locales, así como Flash Selenium para probar programas escritos en Adobe Flex o Selenium Silverlight.\n",
    "\n",
    "\n",
    "### Componentes\n",
    "\n",
    "**Selenium IDE**\n",
    "\n",
    "Selenium IDE es un entorno de desarrollo integrado para pruebas con Selenium. Está implementado como una extensión de Firefox y permite grabar, editar y depurar pruebas. Originalmente se le conoció como Selenium Recorder.\n",
    "\n",
    "Se pueden desarrollar automáticamente scripts al crear una grabación y de esa manera se puede editar manualmente con sentencias y comandos para que la reproducción de nuestra grabación sea correcta\n",
    "\n",
    "Los scripts se generan en Selanese, un lenguaje de scripting especial para Selenium. Selanese provee comandos que ejecutan acciones sobre objetos en el navegador, como hacer clic en un enlace, seleccionar de una lista de opciones, verificar la presencia de un texto en particular así como para tomar la totalidad de la página producto de las acciones.\n",
    "\n",
    "Características:\n",
    "\n",
    "+ Grabación y reproducción fácil\n",
    "+ Selección inteligente de campos usando ID, nombre o XPath según se necesite.\n",
    "+ Compleción automática de los comandos de Selenium más comunes.\n",
    "+ Pruebas de revisión cruzada\n",
    "+ Depuración y puntos de verificación (breakpoint)\n",
    "+ Almacenar las pruebas como Selanese, Ruby, Java y otros formatos.\n",
    "+ Soporte al archivo user-extensions.js\n",
    "+ Opción para asertar el título de la página.\n",
    "+ Opción de modificarle a la medida con el uso de complementos\n",
    "\n",
    "\n",
    "**Selenium Client API**\n",
    "\n",
    "Interfaz de programación de aplicaciones (API) de clientes Como alternativa a escribir pruebas en Selanese, las pruebas pueden escribirse en varios lenguajes de programación, éstos se comunican con Selenium mediante llamadas a los métodos de Selenium Client API. Actualmente Selenium provee API para Java, C#, Ruby y Python. Con Selenium 2 se presentó una nueva API de clientes, con WebDriver como componente central, aunque la anterior API puede seguirse usando llamando a la clase Selenium.\n",
    "\n",
    "\n",
    "**Selenium Remote Control**\n",
    "\n",
    "Selenium Remote Control (RC) es un servidor escrito en Java que acepta comandos al navegador vía HTTP. RC hace posible escribir pruebas automatizadas para aplicaciones web, en cualquier lenguaje de programación lo que permite una mejor integración de Selenium a entornos de prueba existentes. Para hacer la escritura de pruebas más fácil, Selenium actualmente provee controladores de dispositivos para PHP, Python, Ruby,.NET, Perl y Java. El controlador de Java puede usarse para Javascript vía el motor Rhino. Selenium Remote Control fue una refactorización de Driven Selenium o Selenium B, la versión original lanzaba directamente un proceso para el navegador en cuestión desde el lenguaje de prueba; el protocolo de cable (confusamente llamado Selanese también en aquel tiempo) fue reimplementado al portarse a cada lenguaje. Después de la refactorización, hubo un proceso intermediario demonio entre el script controlador y el navegador. Los beneficios incluyeron la capacidad de controlar navegadores remotos y reducir la necesidad de portar el código a un número creciente de lenguajes. Con la liberación de Selenium 2, Selenium RC fue oficialmente descartado en favor de Selenium WebDriver.\n",
    "\n",
    "\n",
    "**Selenium WebDriver**\n",
    "\n",
    "Selenium WebDriver es el sucesor de Selenium RC. Selenium WebDriver acepta comandos (enviados en Selenese o vía el API de cliente) y los envía a un navegador. Esto se implementa a través de un controlador del navegador específico para cada navegador que envía los comandos y trae los resultados de regreso. La mayoría de los controladores del navegador lanzan y acceden a la aplicación de navegador (como Mozilla Firefox o Internet Explorer), pero también hay un controlador para HtmlUnit que simula un navegador. A diferencia de Selenium 1, donde el servidor Selenium RC era indispensable, en Selenium WebDriver no se requiere de un servidor especial para ejecutar las pruebas, en vez de ello WebDriver inicia una instancia del navegador y lo controla; sin embargo puede usarse Selenium Grid (ver abajo) para ejecutar pruebas en sistemas remotos (ver más abajo). Desde inicios de 2012, Simon Stewart de Google (inventor del WebDriver) y David Burns de la Fundación Mozilla se encuentran negociando con el W3C que WebDriver se convierta en un estándar de Internet, como tal Selenium-Webdriver (Selenium 2.0) apunta a ser la implementación de referencia del estándar WebDriver en varios lenguajes de programación. Selenium-WebDriver está completamente implementado y soportado en Java, Ruby, Python y C#. En la práctica, esto significa que la API de Selenium 2.0 tiene significativamente menos llamadas que el API de Selenium 1.0. Donde Selenium 1.0 intentaba proveer una interfaz rica en muchas operaciones, Selenium 2.0 intenta proveer de los bloques de construcción básicos con los cuales los desarrolladores puedan programar su propio lenguaje específico de dominio. Uno de ellos ya existe y es el proyecto Watir en Ruby que tiene una historia rica en buen diseño. Watir-WebDriver implementa el API de Watir como un envolvente del Selenium-Webdriver en Ruby. Watir-WebDriver se crea de forma completamente automática, basado en las especificaciones del WebDriver y HTML.\n",
    "\n",
    "**Selenium Grid**\n",
    "\n",
    "Selenium Grid es un servidor que permite usar instancias de navegador ejecutándose en máquinas remotas. Con Selenium Grid, uno de los servidores actúa como concentrador. Las pruebas contactan al concentrador para obtener acceso a instancias de navegadores; el concentrador lleva una lista de instancias de los navegadores (Nodos de WebDriver) y permiten a las pruebas usar estas instancias. Selenium Grid permite ejecutar pruebas en paralelo en múltiples máquinas y manejar diferentes versiones y configuraciones de manera centralizada."
   ]
  },
  {
   "cell_type": "markdown",
   "metadata": {},
   "source": [
    "Nosotros usaremos fundamentalmente el Webdriver en Python.\n",
    "\n",
    "https://chromedriver.chromium.org/downloads"
   ]
  },
  {
   "cell_type": "markdown",
   "metadata": {},
   "source": [
    "Para instalar:\n",
    "    \n",
    "```bash\n",
    "conda install -c conda-forge selenium\n",
    "```\n",
    "\n",
    "```bash\n",
    "pip install selenium\n",
    "```"
   ]
  },
  {
   "cell_type": "code",
   "execution_count": 1,
   "metadata": {},
   "outputs": [],
   "source": [
    "from selenium import webdriver"
   ]
  },
  {
   "cell_type": "code",
   "execution_count": 3,
   "metadata": {
    "scrolled": false
   },
   "outputs": [],
   "source": [
    "#help(webdriver)"
   ]
  },
  {
   "cell_type": "markdown",
   "metadata": {},
   "source": [
    "**Si no has descargado el driver para Google, o el geckodriver para Firefox, puedes manejarlo para Chrome con esta librería.**"
   ]
  },
  {
   "cell_type": "code",
   "execution_count": null,
   "metadata": {},
   "outputs": [],
   "source": [
    "%pip install webdriver-manager"
   ]
  },
  {
   "cell_type": "code",
   "execution_count": null,
   "metadata": {},
   "outputs": [],
   "source": [
    "from webdriver_manager.chrome import ChromeDriverManager    # sustituye al archivo"
   ]
  },
  {
   "cell_type": "code",
   "execution_count": 5,
   "metadata": {},
   "outputs": [
    {
     "name": "stderr",
     "output_type": "stream",
     "text": [
      "/var/folders/95/ms6dwls51ls1jq0t456d3r200000gn/T/ipykernel_4989/2380951534.py:5: DeprecationWarning: executable_path has been deprecated, please pass in a Service object\n",
      "  driver = webdriver.Chrome(PATH)  # abre una ventane de chrome\n"
     ]
    }
   ],
   "source": [
    "#PATH = ChromeDriverManager().install()  # instala driver de chrome\n",
    "\n",
    "PATH = 'driver/chromedriver'\n",
    "\n",
    "driver = webdriver.Chrome(PATH)  # abre una ventane de chrome"
   ]
  },
  {
   "cell_type": "code",
   "execution_count": 6,
   "metadata": {},
   "outputs": [],
   "source": [
    "driver.get('https://www.google.es')"
   ]
  },
  {
   "cell_type": "code",
   "execution_count": 7,
   "metadata": {},
   "outputs": [],
   "source": [
    "driver.quit()    # cierra el driver, apaga chrome"
   ]
  },
  {
   "cell_type": "markdown",
   "metadata": {},
   "source": [
    "### Ejemplo Linkedin (perfiles)"
   ]
  },
  {
   "cell_type": "code",
   "execution_count": 8,
   "metadata": {},
   "outputs": [],
   "source": [
    "import requests as req \n",
    "\n",
    "from bs4 import BeautifulSoup as bs"
   ]
  },
  {
   "cell_type": "code",
   "execution_count": 9,
   "metadata": {},
   "outputs": [],
   "source": [
    "url = 'https://www.linkedin.com/in/yonatan-rodriguez/'\n",
    "\n",
    "html = req.get(url).text\n",
    "\n",
    "sopa = bs(html, 'html.parser')"
   ]
  },
  {
   "cell_type": "code",
   "execution_count": 10,
   "metadata": {},
   "outputs": [
    {
     "data": {
      "text/plain": [
       "<html><head>\n",
       "<script type=\"text/javascript\">\n",
       "window.onload = function() {\n",
       "  // Parse the tracking code from cookies.\n",
       "  var trk = \"bf\";\n",
       "  var trkInfo = \"bf\";\n",
       "  var cookies = document.cookie.split(\"; \");\n",
       "  for (var i = 0; i < cookies.length; ++i) {\n",
       "    if ((cookies[i].indexOf(\"trkCode=\") == 0) && (cookies[i].length > 8)) {\n",
       "      trk = cookies[i].substring(8);\n",
       "    }\n",
       "    else if ((cookies[i].indexOf(\"trkInfo=\") == 0) && (cookies[i].length > 8)) {\n",
       "      trkInfo = cookies[i].substring(8);\n",
       "    }\n",
       "  }\n",
       "\n",
       "  if (window.location.protocol == \"http:\") {\n",
       "    // If \"sl\" cookie is set, redirect to https.\n",
       "    for (var i = 0; i < cookies.length; ++i) {\n",
       "      if ((cookies[i].indexOf(\"sl=\") == 0) && (cookies[i].length > 3)) {\n",
       "        window.location.href = \"https:\" + window.location.href.substring(window.location.protocol.length);\n",
       "        return;\n",
       "      }\n",
       "    }\n",
       "  }\n",
       "\n",
       "  // Get the new domain. For international domains such as\n",
       "  // fr.linkedin.com, we convert it to www.linkedin.com\n",
       "  // treat .cn similar to .com here\n",
       "  var domain = location.host;\n",
       "  if (domain != \"www.linkedin.com\" && domain != \"www.linkedin.cn\") {\n",
       "    var subdomainIndex = location.host.indexOf(\".linkedin\");\n",
       "    if (subdomainIndex != -1) {\n",
       "      domain = \"www\" + location.host.substring(subdomainIndex);\n",
       "    }\n",
       "  }\n",
       "\n",
       "  window.location.href = \"https://\" + domain + \"/authwall?trk=\" + trk + \"&trkInfo=\" + trkInfo +\n",
       "      \"&original_referer=\" + document.referrer.substr(0, 200) +\n",
       "      \"&sessionRedirect=\" + encodeURIComponent(window.location.href);\n",
       "}\n",
       "</script>\n",
       "</head></html>"
      ]
     },
     "execution_count": 10,
     "metadata": {},
     "output_type": "execute_result"
    }
   ],
   "source": [
    "sopa"
   ]
  },
  {
   "cell_type": "code",
   "execution_count": 11,
   "metadata": {},
   "outputs": [],
   "source": [
    "from selenium.webdriver.common.by import By   # By es para buscar por tag, clase, id..."
   ]
  },
  {
   "cell_type": "code",
   "execution_count": 12,
   "metadata": {},
   "outputs": [],
   "source": [
    "from selenium.webdriver.chrome.options import Options\n",
    "\n",
    "\n",
    "# opciones del driver\n",
    "opciones=Options()\n",
    "\n",
    "\n",
    "\n",
    "# quita la bandera de ser robot\n",
    "opciones.add_experimental_option('excludeSwitches', ['enable-automation'])\n",
    "opciones.add_experimental_option('useAutomationExtension', False)\n",
    "\n",
    "\n",
    "\n",
    "# guardar las cookies\n",
    "opciones.add_argument('user-data-dir=cookies')    # mantiene las coockies\n"
   ]
  },
  {
   "cell_type": "code",
   "execution_count": 15,
   "metadata": {},
   "outputs": [
    {
     "name": "stderr",
     "output_type": "stream",
     "text": [
      "/var/folders/95/ms6dwls51ls1jq0t456d3r200000gn/T/ipykernel_4989/624065238.py:1: DeprecationWarning: executable_path has been deprecated, please pass in a Service object\n",
      "  driver = webdriver.Chrome(PATH, options=opciones)\n"
     ]
    }
   ],
   "source": [
    "driver = webdriver.Chrome(PATH, options=opciones)\n",
    "\n",
    "driver.get(url)"
   ]
  },
  {
   "cell_type": "code",
   "execution_count": 18,
   "metadata": {},
   "outputs": [
    {
     "data": {
      "text/plain": [
       "'Yonatan Rodriguez Alvarez'"
      ]
     },
     "execution_count": 18,
     "metadata": {},
     "output_type": "execute_result"
    }
   ],
   "source": [
    "nombre = driver.find_element(By.XPATH, '//*[@id=\"ember37\"]/h1').text\n",
    "\n",
    "nombre"
   ]
  },
  {
   "cell_type": "code",
   "execution_count": 22,
   "metadata": {},
   "outputs": [
    {
     "data": {
      "text/plain": [
       "'Data Scientist - Data Educator'"
      ]
     },
     "execution_count": 22,
     "metadata": {},
     "output_type": "execute_result"
    }
   ],
   "source": [
    "css_selector = 'div > div.scaffold-layout.scaffold-layout--breakpoint-md.scaffold-layout--main-aside.scaffold-layout--reflow.pv-profile > div > div > main > section.artdeco-card.dkMVpKHfVQQvsLLRJUpBLHXWCEYILELxrs > div.ph5.pb5 > div.mt2.relative > div:nth-child(1) > div.text-body-medium.break-words'\n",
    "\n",
    "titulo = driver.find_element(By.CSS_SELECTOR, css_selector).text\n",
    "\n",
    "titulo"
   ]
  },
  {
   "cell_type": "code",
   "execution_count": 30,
   "metadata": {},
   "outputs": [
    {
     "data": {
      "text/plain": [
       "'Madrid, Comunidad de Madrid, España'"
      ]
     },
     "execution_count": 30,
     "metadata": {},
     "output_type": "execute_result"
    }
   ],
   "source": [
    "clase = 'text-body-small.inline.t-black--light.break-words'  # cambiar espacios por punto\n",
    "\n",
    "lugar = driver.find_element(By.CLASS_NAME, clase).text\n",
    "\n",
    "lugar"
   ]
  },
  {
   "cell_type": "code",
   "execution_count": 32,
   "metadata": {},
   "outputs": [
    {
     "data": {
      "text/plain": [
       "{'nombre': 'Yonatan Rodriguez Alvarez',\n",
       " 'titulo': 'Data Scientist - Data Educator',\n",
       " 'lugar': 'Madrid, Comunidad de Madrid, España'}"
      ]
     },
     "execution_count": 32,
     "metadata": {},
     "output_type": "execute_result"
    }
   ],
   "source": [
    "{'nombre': nombre,\n",
    "'titulo': titulo,\n",
    "'lugar': lugar}"
   ]
  },
  {
   "cell_type": "code",
   "execution_count": 33,
   "metadata": {},
   "outputs": [],
   "source": [
    "driver.quit()"
   ]
  },
  {
   "cell_type": "markdown",
   "metadata": {},
   "source": [
    "# Amazon\n",
    "\n",
    "https://www.amazon.es/"
   ]
  },
  {
   "cell_type": "code",
   "execution_count": 35,
   "metadata": {},
   "outputs": [],
   "source": [
    "url = 'https://www.amazon.es/'\n",
    "\n",
    "html = req.get(url).text\n",
    "\n",
    "sopa = bs(html, 'html.parser')"
   ]
  },
  {
   "cell_type": "code",
   "execution_count": 88,
   "metadata": {},
   "outputs": [
    {
     "name": "stderr",
     "output_type": "stream",
     "text": [
      "/var/folders/95/ms6dwls51ls1jq0t456d3r200000gn/T/ipykernel_4989/624065238.py:1: DeprecationWarning: executable_path has been deprecated, please pass in a Service object\n",
      "  driver = webdriver.Chrome(PATH, options=opciones)\n"
     ]
    }
   ],
   "source": [
    "driver = webdriver.Chrome(PATH, options=opciones)\n",
    "\n",
    "driver.get(url)"
   ]
  },
  {
   "cell_type": "code",
   "execution_count": 45,
   "metadata": {},
   "outputs": [],
   "source": [
    "# introducir texto\n",
    "\n",
    "texto = driver.find_element(By.XPATH, '//*[@id=\"twotabsearchtextbox\"]')\n",
    "\n",
    "texto.send_keys('juguetes lego')"
   ]
  },
  {
   "cell_type": "code",
   "execution_count": 43,
   "metadata": {},
   "outputs": [],
   "source": [
    "# dar click\n",
    "\n",
    "boton = driver.find_element(By.XPATH, '//*[@id=\"nav-search-submit-button\"]')\n",
    "\n",
    "boton.click()"
   ]
  },
  {
   "cell_type": "code",
   "execution_count": 46,
   "metadata": {},
   "outputs": [],
   "source": [
    "from selenium.webdriver.common.keys import Keys  # para usar teclas del teclado\n",
    "\n",
    "texto.send_keys(Keys.ENTER)"
   ]
  },
  {
   "cell_type": "code",
   "execution_count": 48,
   "metadata": {},
   "outputs": [
    {
     "data": {
      "text/plain": [
       "86"
      ]
     },
     "execution_count": 48,
     "metadata": {},
     "output_type": "execute_result"
    }
   ],
   "source": [
    "# find_element para uno, find_elements para varios\n",
    "\n",
    "productos = driver.find_elements(By.CLASS_NAME ,'sg-col-inner')\n",
    "\n",
    "len(productos)"
   ]
  },
  {
   "cell_type": "code",
   "execution_count": 56,
   "metadata": {},
   "outputs": [
    {
     "data": {
      "text/plain": [
       "['Patrocinado',\n",
       " 'LEGO Marvel Armadura Robótica de Máquina de Guerra, Figura de Acción de Juguete con Armas: 3 Cañones Que Disparan, Personaje Superhéroe UCM, Regalo para Cinéfilos, Niños y Niñas de 6 Años o Más 76277',\n",
       " '134',\n",
       " '200+ comprados el mes pasado',\n",
       " '14',\n",
       " '99€',\n",
       " 'Entrega GRATIS el mar, 27 de feb en tu primer pedido',\n",
       " 'Entrega más rápida mañana, 25 de feb',\n",
       " 'Edades: 6 años y más']"
      ]
     },
     "execution_count": 56,
     "metadata": {},
     "output_type": "execute_result"
    }
   ],
   "source": [
    "productos[5].text.split('\\n')"
   ]
  },
  {
   "cell_type": "code",
   "execution_count": 66,
   "metadata": {},
   "outputs": [
    {
     "data": {
      "text/plain": [
       "14.99"
      ]
     },
     "execution_count": 66,
     "metadata": {},
     "output_type": "execute_result"
    }
   ],
   "source": [
    "precio = productos[5].find_elements(By.CLASS_NAME, 'a-row')[4].text\n",
    "\n",
    "float(precio.replace('\\n', '.').replace('€', ''))"
   ]
  },
  {
   "cell_type": "code",
   "execution_count": 67,
   "metadata": {},
   "outputs": [],
   "source": [
    "# scroll\n",
    "\n",
    "driver.execute_script(\"window.scrollTo(0, 400);\")   # 400px"
   ]
  },
  {
   "cell_type": "code",
   "execution_count": 68,
   "metadata": {},
   "outputs": [],
   "source": [
    "driver.execute_script(\"window.scrollTo(0, document.body.scrollHeight);\") # todo el scroll"
   ]
  },
  {
   "cell_type": "code",
   "execution_count": 70,
   "metadata": {},
   "outputs": [],
   "source": [
    "driver.find_element(By.XPATH, '//*[@id=\"search\"]/div[1]/div[1]/div/span[1]/div[1]/div[69]/div/div/span/a[3]').click()"
   ]
  },
  {
   "cell_type": "code",
   "execution_count": 75,
   "metadata": {},
   "outputs": [],
   "source": [
    "# cambiar de producto\n",
    "\n",
    "texto = driver.find_element(By.XPATH, '//*[@id=\"twotabsearchtextbox\"]')\n",
    "\n",
    "texto.clear()\n",
    "\n",
    "texto.send_keys('playmobil')"
   ]
  },
  {
   "cell_type": "code",
   "execution_count": 78,
   "metadata": {},
   "outputs": [],
   "source": [
    "texto.send_keys(Keys.ENTER)"
   ]
  },
  {
   "cell_type": "code",
   "execution_count": 79,
   "metadata": {},
   "outputs": [
    {
     "data": {
      "text/plain": [
       "101"
      ]
     },
     "execution_count": 79,
     "metadata": {},
     "output_type": "execute_result"
    }
   ],
   "source": [
    "productos = driver.find_elements(By.CLASS_NAME ,'sg-col-inner')\n",
    "\n",
    "len(productos)"
   ]
  },
  {
   "cell_type": "code",
   "execution_count": 83,
   "metadata": {},
   "outputs": [
    {
     "data": {
      "text/plain": [
       "['Patrocinado',\n",
       " 'PLAYMOBIL Family Fun 70088 Caravana de Verano, A Partir de 4 años',\n",
       " '6.593',\n",
       " '100+ comprados el mes pasado',\n",
       " '49',\n",
       " '99€ PVPR:',\n",
       " '62,99€',\n",
       " 'Entrega GRATIS el mar, 27 de feb',\n",
       " 'Entrega más rápida mañana, 25 de feb',\n",
       " 'Edades: 4 años y más']"
      ]
     },
     "execution_count": 83,
     "metadata": {},
     "output_type": "execute_result"
    }
   ],
   "source": [
    "productos[15].text.split('\\n')"
   ]
  },
  {
   "cell_type": "code",
   "execution_count": 89,
   "metadata": {},
   "outputs": [],
   "source": [
    "def extraer(producto):\n",
    "    \n",
    "    texto = driver.find_element(By.XPATH, '//*[@id=\"twotabsearchtextbox\"]')\n",
    "    \n",
    "    texto.clear()\n",
    "    \n",
    "    texto.send_keys(producto)\n",
    "    \n",
    "    texto.send_keys(Keys.ENTER)\n",
    "    \n",
    "    productos = driver.find_elements(By.CLASS_NAME ,'sg-col-inner')\n",
    "    \n",
    "    return productos[15].text.split('\\n')"
   ]
  },
  {
   "cell_type": "code",
   "execution_count": 90,
   "metadata": {},
   "outputs": [],
   "source": [
    "prod = ['lego', 'playmobil', 'pantalones']"
   ]
  },
  {
   "cell_type": "code",
   "execution_count": 91,
   "metadata": {},
   "outputs": [],
   "source": [
    "data = []\n",
    "\n",
    "for p in prod:\n",
    "    \n",
    "    d = extraer(p)\n",
    "    \n",
    "    \n",
    "    data.append(d)\n",
    "    "
   ]
  },
  {
   "cell_type": "code",
   "execution_count": 92,
   "metadata": {},
   "outputs": [],
   "source": [
    "driver.quit()"
   ]
  },
  {
   "cell_type": "code",
   "execution_count": 94,
   "metadata": {},
   "outputs": [
    {
     "data": {
      "text/plain": [
       "['Patrocinado',\n",
       " 'LEGO Creator Flores de Cerezo, Flores Artificiales de Decoración para Habitación y Accesorio para Escritorio, Ramo de Flores para Exponer, Regalo de Flores para Niñas y Niños de 8 Años o Más 40725',\n",
       " '281',\n",
       " '1 mil+ comprados el mes pasado',\n",
       " '12',\n",
       " '74€ PVPR:',\n",
       " '14,99€',\n",
       " 'Entrega GRATIS el mar, 27 de feb en tu primer pedido',\n",
       " 'Entrega más rápida mañana, 25 de feb',\n",
       " 'Edades: 8 años y más']"
      ]
     },
     "execution_count": 94,
     "metadata": {},
     "output_type": "execute_result"
    }
   ],
   "source": [
    "data[0]"
   ]
  },
  {
   "cell_type": "markdown",
   "metadata": {},
   "source": [
    "### Ejemplo ESPN\n",
    "\n",
    "https://www.espn.com/soccer/competitions"
   ]
  },
  {
   "cell_type": "code",
   "execution_count": 95,
   "metadata": {},
   "outputs": [],
   "source": [
    "url = 'https://www.espn.com/soccer/competitions'"
   ]
  },
  {
   "cell_type": "code",
   "execution_count": 96,
   "metadata": {},
   "outputs": [
    {
     "name": "stderr",
     "output_type": "stream",
     "text": [
      "/var/folders/95/ms6dwls51ls1jq0t456d3r200000gn/T/ipykernel_4989/624065238.py:1: DeprecationWarning: executable_path has been deprecated, please pass in a Service object\n",
      "  driver = webdriver.Chrome(PATH, options=opciones)\n"
     ]
    }
   ],
   "source": [
    "driver = webdriver.Chrome(PATH, options=opciones)\n",
    "\n",
    "driver.get(url)"
   ]
  },
  {
   "cell_type": "code",
   "execution_count": 98,
   "metadata": {},
   "outputs": [
    {
     "name": "stdout",
     "output_type": "stream",
     "text": [
      "Ya tienes cookies\n"
     ]
    }
   ],
   "source": [
    "try:\n",
    "    driver.find_element(By.XPATH, '//*[@id=\"onetrust-accept-btn-handler\"]').click()\n",
    "    \n",
    "except:\n",
    "    \n",
    "    print('Ya tienes cookies')"
   ]
  },
  {
   "cell_type": "code",
   "execution_count": 100,
   "metadata": {},
   "outputs": [
    {
     "data": {
      "text/plain": [
       "'Bundesliga'"
      ]
     },
     "execution_count": 100,
     "metadata": {},
     "output_type": "execute_result"
    }
   ],
   "source": [
    "driver.find_element(By.TAG_NAME, 'a').text"
   ]
  },
  {
   "cell_type": "code",
   "execution_count": 102,
   "metadata": {},
   "outputs": [],
   "source": [
    "driver.find_element(By.XPATH, '//*[@id=\"fittPageContainer\"]/div[3]/div/div/div/div[2]/div[1]/div/div[5]/div/section/div/div/span[2]/a').click()"
   ]
  },
  {
   "cell_type": "code",
   "execution_count": 105,
   "metadata": {},
   "outputs": [],
   "source": [
    "selector = 'div:nth-child(3) > div > div > div.Wrapper.TeamsWrapper.br-5.mb3.pa5 > div.layout.is-split > div:nth-child(1) > div > div:nth-child(4) > div > section > div > div > span:nth-child(2) > a'\n",
    "\n",
    "\n",
    "driver.find_element(By.CSS_SELECTOR, selector).click()\n"
   ]
  },
  {
   "cell_type": "code",
   "execution_count": 106,
   "metadata": {},
   "outputs": [],
   "source": [
    "## #fittPageContainer es un id, si cambia se quita del selector y ya funciona\n",
    "\n",
    "selector = '#fittPageContainer > div.StickyContainer > div.page-container.cf > div > div > section > div > div.tabs__wrapper.mv5 > nav > ul > li:nth-child(2) > a'\n",
    "\n",
    "driver.find_element(By.CSS_SELECTOR, selector).click()"
   ]
  },
  {
   "cell_type": "code",
   "execution_count": 107,
   "metadata": {},
   "outputs": [],
   "source": [
    "# dropdown\n",
    "\n",
    "from selenium.webdriver.support.ui import Select"
   ]
  },
  {
   "cell_type": "code",
   "execution_count": 108,
   "metadata": {},
   "outputs": [],
   "source": [
    "dropdown = driver.find_element(By.XPATH, '//*[@id=\"fittPageContainer\"]/div[2]/div[5]/div/div/section/div/div[4]/select[1]')"
   ]
  },
  {
   "cell_type": "code",
   "execution_count": 109,
   "metadata": {},
   "outputs": [],
   "source": [
    "select = Select(dropdown)\n",
    "\n",
    "select.select_by_visible_text('2022-23')"
   ]
  },
  {
   "cell_type": "markdown",
   "metadata": {},
   "source": [
    "### selenium"
   ]
  },
  {
   "cell_type": "code",
   "execution_count": 112,
   "metadata": {},
   "outputs": [],
   "source": [
    "tabla = driver.find_element(By.TAG_NAME, 'table')\n",
    "\n",
    "filas = tabla.find_elements(By.TAG_NAME, 'tr')\n",
    "\n",
    "data = []\n",
    "\n",
    "\n",
    "for f in filas:\n",
    "    \n",
    "    elementos = f.find_elements(By.TAG_NAME, 'td')\n",
    "    \n",
    "    tmp_lst = []\n",
    "    \n",
    "    for e in elementos:\n",
    "        \n",
    "        tmp_lst.append(e.text)\n",
    "        \n",
    "    data.append(tmp_lst)"
   ]
  },
  {
   "cell_type": "code",
   "execution_count": 114,
   "metadata": {},
   "outputs": [
    {
     "data": {
      "text/plain": [
       "[['1', 'Mario Hermoso', '26', '5', '2', '11'],\n",
       " ['', 'Stefan Savic', '22', '5', '2', '11'],\n",
       " ['3', 'Nahuel Molina', '33', '7', '1', '10'],\n",
       " ['4', 'José María Giménez', '28', '9', '0', '9'],\n",
       " ['5', 'Saúl Ñíguez', '31', '8', '0', '8'],\n",
       " ['6', 'Marcos Llorente', '22', '5', '0', '5'],\n",
       " ['', 'Rodrigo De Paul', '30', '5', '0', '5'],\n",
       " ['', 'Axel Witsel', '33', '2', '1', '5'],\n",
       " ['', 'Geoffrey Kondogbia', '20', '5', '0', '5'],\n",
       " ['', 'Sergio Reguilón', '11', '2', '1', '5'],\n",
       " ['11', 'Pablo Barrios', '21', '4', '0', '4'],\n",
       " ['', 'Koke', '33', '4', '0', '4'],\n",
       " ['', 'Reinildo Mandava', '22', '4', '0', '4'],\n",
       " ['14', 'Ivo Grbic', '12', '3', '0', '3'],\n",
       " ['15', 'Yannick Carrasco', '35', '2', '0', '2'],\n",
       " ['16', 'Thomas Lemar', '27', '1', '0', '1'],\n",
       " ['', 'Jan Oblak', '28', '1', '0', '1'],\n",
       " ['18', 'Ilias Kostis', '0', '0', '0', '0'],\n",
       " ['', 'Sergio Diez', '0', '0', '0', '0'],\n",
       " ['', 'Adrian Corral', '0', '0', '0', '0'],\n",
       " ['', 'Marco Moreno', '0', '0', '0', '0'],\n",
       " ['', 'Matt Doherty', '2', '0', '0', '0'],\n",
       " ['', 'Sergio Mestre', '0', '0', '0', '0'],\n",
       " ['', 'Antonio Gomis', '1', '0', '0', '0'],\n",
       " ['', 'Alejandro Iturbe', '0', '0', '0', '0']]"
      ]
     },
     "execution_count": 114,
     "metadata": {},
     "output_type": "execute_result"
    }
   ],
   "source": [
    "data[1:]"
   ]
  },
  {
   "cell_type": "code",
   "execution_count": 121,
   "metadata": {},
   "outputs": [],
   "source": [
    "cabeceras = tabla.find_element(By.TAG_NAME, 'thead').text.split()"
   ]
  },
  {
   "cell_type": "code",
   "execution_count": 115,
   "metadata": {},
   "outputs": [],
   "source": [
    "import pandas as pd"
   ]
  },
  {
   "cell_type": "code",
   "execution_count": 122,
   "metadata": {},
   "outputs": [
    {
     "data": {
      "text/html": [
       "<div>\n",
       "<style scoped>\n",
       "    .dataframe tbody tr th:only-of-type {\n",
       "        vertical-align: middle;\n",
       "    }\n",
       "\n",
       "    .dataframe tbody tr th {\n",
       "        vertical-align: top;\n",
       "    }\n",
       "\n",
       "    .dataframe thead th {\n",
       "        text-align: right;\n",
       "    }\n",
       "</style>\n",
       "<table border=\"1\" class=\"dataframe\">\n",
       "  <thead>\n",
       "    <tr style=\"text-align: right;\">\n",
       "      <th></th>\n",
       "      <th>RK</th>\n",
       "      <th>NAME</th>\n",
       "      <th>P</th>\n",
       "      <th>YC</th>\n",
       "      <th>RC</th>\n",
       "      <th>PTS</th>\n",
       "    </tr>\n",
       "  </thead>\n",
       "  <tbody>\n",
       "    <tr>\n",
       "      <th>0</th>\n",
       "      <td>1</td>\n",
       "      <td>Mario Hermoso</td>\n",
       "      <td>26</td>\n",
       "      <td>5</td>\n",
       "      <td>2</td>\n",
       "      <td>11</td>\n",
       "    </tr>\n",
       "    <tr>\n",
       "      <th>1</th>\n",
       "      <td></td>\n",
       "      <td>Stefan Savic</td>\n",
       "      <td>22</td>\n",
       "      <td>5</td>\n",
       "      <td>2</td>\n",
       "      <td>11</td>\n",
       "    </tr>\n",
       "    <tr>\n",
       "      <th>2</th>\n",
       "      <td>3</td>\n",
       "      <td>Nahuel Molina</td>\n",
       "      <td>33</td>\n",
       "      <td>7</td>\n",
       "      <td>1</td>\n",
       "      <td>10</td>\n",
       "    </tr>\n",
       "    <tr>\n",
       "      <th>3</th>\n",
       "      <td>4</td>\n",
       "      <td>José María Giménez</td>\n",
       "      <td>28</td>\n",
       "      <td>9</td>\n",
       "      <td>0</td>\n",
       "      <td>9</td>\n",
       "    </tr>\n",
       "    <tr>\n",
       "      <th>4</th>\n",
       "      <td>5</td>\n",
       "      <td>Saúl Ñíguez</td>\n",
       "      <td>31</td>\n",
       "      <td>8</td>\n",
       "      <td>0</td>\n",
       "      <td>8</td>\n",
       "    </tr>\n",
       "    <tr>\n",
       "      <th>5</th>\n",
       "      <td>6</td>\n",
       "      <td>Marcos Llorente</td>\n",
       "      <td>22</td>\n",
       "      <td>5</td>\n",
       "      <td>0</td>\n",
       "      <td>5</td>\n",
       "    </tr>\n",
       "    <tr>\n",
       "      <th>6</th>\n",
       "      <td></td>\n",
       "      <td>Rodrigo De Paul</td>\n",
       "      <td>30</td>\n",
       "      <td>5</td>\n",
       "      <td>0</td>\n",
       "      <td>5</td>\n",
       "    </tr>\n",
       "    <tr>\n",
       "      <th>7</th>\n",
       "      <td></td>\n",
       "      <td>Axel Witsel</td>\n",
       "      <td>33</td>\n",
       "      <td>2</td>\n",
       "      <td>1</td>\n",
       "      <td>5</td>\n",
       "    </tr>\n",
       "    <tr>\n",
       "      <th>8</th>\n",
       "      <td></td>\n",
       "      <td>Geoffrey Kondogbia</td>\n",
       "      <td>20</td>\n",
       "      <td>5</td>\n",
       "      <td>0</td>\n",
       "      <td>5</td>\n",
       "    </tr>\n",
       "    <tr>\n",
       "      <th>9</th>\n",
       "      <td></td>\n",
       "      <td>Sergio Reguilón</td>\n",
       "      <td>11</td>\n",
       "      <td>2</td>\n",
       "      <td>1</td>\n",
       "      <td>5</td>\n",
       "    </tr>\n",
       "    <tr>\n",
       "      <th>10</th>\n",
       "      <td>11</td>\n",
       "      <td>Pablo Barrios</td>\n",
       "      <td>21</td>\n",
       "      <td>4</td>\n",
       "      <td>0</td>\n",
       "      <td>4</td>\n",
       "    </tr>\n",
       "    <tr>\n",
       "      <th>11</th>\n",
       "      <td></td>\n",
       "      <td>Koke</td>\n",
       "      <td>33</td>\n",
       "      <td>4</td>\n",
       "      <td>0</td>\n",
       "      <td>4</td>\n",
       "    </tr>\n",
       "    <tr>\n",
       "      <th>12</th>\n",
       "      <td></td>\n",
       "      <td>Reinildo Mandava</td>\n",
       "      <td>22</td>\n",
       "      <td>4</td>\n",
       "      <td>0</td>\n",
       "      <td>4</td>\n",
       "    </tr>\n",
       "    <tr>\n",
       "      <th>13</th>\n",
       "      <td>14</td>\n",
       "      <td>Ivo Grbic</td>\n",
       "      <td>12</td>\n",
       "      <td>3</td>\n",
       "      <td>0</td>\n",
       "      <td>3</td>\n",
       "    </tr>\n",
       "    <tr>\n",
       "      <th>14</th>\n",
       "      <td>15</td>\n",
       "      <td>Yannick Carrasco</td>\n",
       "      <td>35</td>\n",
       "      <td>2</td>\n",
       "      <td>0</td>\n",
       "      <td>2</td>\n",
       "    </tr>\n",
       "    <tr>\n",
       "      <th>15</th>\n",
       "      <td>16</td>\n",
       "      <td>Thomas Lemar</td>\n",
       "      <td>27</td>\n",
       "      <td>1</td>\n",
       "      <td>0</td>\n",
       "      <td>1</td>\n",
       "    </tr>\n",
       "    <tr>\n",
       "      <th>16</th>\n",
       "      <td></td>\n",
       "      <td>Jan Oblak</td>\n",
       "      <td>28</td>\n",
       "      <td>1</td>\n",
       "      <td>0</td>\n",
       "      <td>1</td>\n",
       "    </tr>\n",
       "    <tr>\n",
       "      <th>17</th>\n",
       "      <td>18</td>\n",
       "      <td>Ilias Kostis</td>\n",
       "      <td>0</td>\n",
       "      <td>0</td>\n",
       "      <td>0</td>\n",
       "      <td>0</td>\n",
       "    </tr>\n",
       "    <tr>\n",
       "      <th>18</th>\n",
       "      <td></td>\n",
       "      <td>Sergio Diez</td>\n",
       "      <td>0</td>\n",
       "      <td>0</td>\n",
       "      <td>0</td>\n",
       "      <td>0</td>\n",
       "    </tr>\n",
       "    <tr>\n",
       "      <th>19</th>\n",
       "      <td></td>\n",
       "      <td>Adrian Corral</td>\n",
       "      <td>0</td>\n",
       "      <td>0</td>\n",
       "      <td>0</td>\n",
       "      <td>0</td>\n",
       "    </tr>\n",
       "    <tr>\n",
       "      <th>20</th>\n",
       "      <td></td>\n",
       "      <td>Marco Moreno</td>\n",
       "      <td>0</td>\n",
       "      <td>0</td>\n",
       "      <td>0</td>\n",
       "      <td>0</td>\n",
       "    </tr>\n",
       "    <tr>\n",
       "      <th>21</th>\n",
       "      <td></td>\n",
       "      <td>Matt Doherty</td>\n",
       "      <td>2</td>\n",
       "      <td>0</td>\n",
       "      <td>0</td>\n",
       "      <td>0</td>\n",
       "    </tr>\n",
       "    <tr>\n",
       "      <th>22</th>\n",
       "      <td></td>\n",
       "      <td>Sergio Mestre</td>\n",
       "      <td>0</td>\n",
       "      <td>0</td>\n",
       "      <td>0</td>\n",
       "      <td>0</td>\n",
       "    </tr>\n",
       "    <tr>\n",
       "      <th>23</th>\n",
       "      <td></td>\n",
       "      <td>Antonio Gomis</td>\n",
       "      <td>1</td>\n",
       "      <td>0</td>\n",
       "      <td>0</td>\n",
       "      <td>0</td>\n",
       "    </tr>\n",
       "    <tr>\n",
       "      <th>24</th>\n",
       "      <td></td>\n",
       "      <td>Alejandro Iturbe</td>\n",
       "      <td>0</td>\n",
       "      <td>0</td>\n",
       "      <td>0</td>\n",
       "      <td>0</td>\n",
       "    </tr>\n",
       "  </tbody>\n",
       "</table>\n",
       "</div>"
      ],
      "text/plain": [
       "    RK                NAME   P YC RC PTS\n",
       "0    1       Mario Hermoso  26  5  2  11\n",
       "1             Stefan Savic  22  5  2  11\n",
       "2    3       Nahuel Molina  33  7  1  10\n",
       "3    4  José María Giménez  28  9  0   9\n",
       "4    5         Saúl Ñíguez  31  8  0   8\n",
       "5    6     Marcos Llorente  22  5  0   5\n",
       "6          Rodrigo De Paul  30  5  0   5\n",
       "7              Axel Witsel  33  2  1   5\n",
       "8       Geoffrey Kondogbia  20  5  0   5\n",
       "9          Sergio Reguilón  11  2  1   5\n",
       "10  11       Pablo Barrios  21  4  0   4\n",
       "11                    Koke  33  4  0   4\n",
       "12        Reinildo Mandava  22  4  0   4\n",
       "13  14           Ivo Grbic  12  3  0   3\n",
       "14  15    Yannick Carrasco  35  2  0   2\n",
       "15  16        Thomas Lemar  27  1  0   1\n",
       "16               Jan Oblak  28  1  0   1\n",
       "17  18        Ilias Kostis   0  0  0   0\n",
       "18             Sergio Diez   0  0  0   0\n",
       "19           Adrian Corral   0  0  0   0\n",
       "20            Marco Moreno   0  0  0   0\n",
       "21            Matt Doherty   2  0  0   0\n",
       "22           Sergio Mestre   0  0  0   0\n",
       "23           Antonio Gomis   1  0  0   0\n",
       "24        Alejandro Iturbe   0  0  0   0"
      ]
     },
     "execution_count": 122,
     "metadata": {},
     "output_type": "execute_result"
    }
   ],
   "source": [
    "pd.DataFrame(data[1:], columns=cabeceras)"
   ]
  },
  {
   "cell_type": "markdown",
   "metadata": {},
   "source": [
    "### bs4"
   ]
  },
  {
   "cell_type": "code",
   "execution_count": 123,
   "metadata": {},
   "outputs": [
    {
     "data": {
      "text/plain": [
       "'https://www.espn.com/soccer/team/stats/_/id/1068/league/ESP.1/season/2022/view/discipline'"
      ]
     },
     "execution_count": 123,
     "metadata": {},
     "output_type": "execute_result"
    }
   ],
   "source": [
    "driver.current_url"
   ]
  },
  {
   "cell_type": "code",
   "execution_count": 124,
   "metadata": {},
   "outputs": [],
   "source": [
    "# se puede parsear con bs4\n",
    "\n",
    "html=req.get(driver.current_url).text\n",
    "\n",
    "sopa=bs(html, 'html.parser')"
   ]
  },
  {
   "cell_type": "code",
   "execution_count": 126,
   "metadata": {},
   "outputs": [],
   "source": [
    "sopa.find('table')  # asi seria mas rapido"
   ]
  },
  {
   "cell_type": "code",
   "execution_count": 132,
   "metadata": {},
   "outputs": [
    {
     "data": {
      "text/plain": [
       "'http://www.espn.com/soccer/player/_/id/222529/mario-hermoso'"
      ]
     },
     "execution_count": 132,
     "metadata": {},
     "output_type": "execute_result"
    }
   ],
   "source": [
    "tabla.find_elements(By.CSS_SELECTOR, 'a.AnchorLink')[3].get_attribute('href')"
   ]
  },
  {
   "cell_type": "code",
   "execution_count": 133,
   "metadata": {},
   "outputs": [],
   "source": [
    "links = []\n",
    "\n",
    "for e in tabla.find_elements(By.CSS_SELECTOR, 'a.AnchorLink')[3:]:\n",
    "    \n",
    "    url = e.get_attribute('href')\n",
    "    \n",
    "    links.append(url)"
   ]
  },
  {
   "cell_type": "code",
   "execution_count": 134,
   "metadata": {},
   "outputs": [
    {
     "data": {
      "text/plain": [
       "['http://www.espn.com/soccer/player/_/id/222529/mario-hermoso',\n",
       " 'http://www.espn.com/soccer/player/_/id/150541/stefan-savic',\n",
       " 'http://www.espn.com/soccer/player/_/id/164826/nahuel-molina',\n",
       " 'http://www.espn.com/soccer/player/_/id/188398/jose-maria-gimenez',\n",
       " 'http://www.espn.com/soccer/player/_/id/172269/saul-niguez',\n",
       " 'http://www.espn.com/soccer/player/_/id/206474/marcos-llorente',\n",
       " 'http://www.espn.com/soccer/player/_/id/174466/rodrigo-de-paul',\n",
       " 'http://www.espn.com/soccer/player/_/id/164895/axel-witsel',\n",
       " 'http://www.espn.com/soccer/player/_/id/152270/geoffrey-kondogbia',\n",
       " 'http://www.espn.com/soccer/player/_/id/231241/sergio-reguilon',\n",
       " 'http://www.espn.com/soccer/player/_/id/336634/pablo-barrios',\n",
       " 'http://www.espn.com/soccer/player/_/id/140791/koke',\n",
       " 'http://www.espn.com/soccer/player/_/id/230081/reinildo-mandava',\n",
       " 'http://www.espn.com/soccer/player/_/id/194778/ivo-grbic',\n",
       " 'http://www.espn.com/soccer/player/_/id/174893/yannick-carrasco',\n",
       " 'http://www.espn.com/soccer/player/_/id/190291/thomas-lemar',\n",
       " 'http://www.espn.com/soccer/player/_/id/149622/jan-oblak',\n",
       " 'http://www.espn.com/soccer/player/_/id/355900/ilias-kostis',\n",
       " 'http://www.espn.com/soccer/player/_/id/334093/sergio-diez',\n",
       " 'http://www.espn.com/soccer/player/_/id/312384/adrian-corral',\n",
       " 'http://www.espn.com/soccer/player/_/id/294932/marco-moreno',\n",
       " 'http://www.espn.com/soccer/player/_/id/43575/matt-doherty',\n",
       " 'http://www.espn.com/soccer/player/_/id/350351/sergio-mestre',\n",
       " 'http://www.espn.com/soccer/player/_/id/336230/antonio-gomis',\n",
       " 'http://www.espn.com/soccer/player/_/id/330433/alejandro-iturbe']"
      ]
     },
     "execution_count": 134,
     "metadata": {},
     "output_type": "execute_result"
    }
   ],
   "source": [
    "links"
   ]
  },
  {
   "cell_type": "code",
   "execution_count": 135,
   "metadata": {},
   "outputs": [],
   "source": [
    "driver.get(links[0])"
   ]
  },
  {
   "cell_type": "code",
   "execution_count": 136,
   "metadata": {},
   "outputs": [
    {
     "data": {
      "text/plain": [
       "'6\\' 0\", 163 lbs'"
      ]
     },
     "execution_count": 136,
     "metadata": {},
     "output_type": "execute_result"
    }
   ],
   "source": [
    "driver.find_element(By.XPATH, '//*[@id=\"fittPageContainer\"]/div[2]/div[1]/div/div/div[1]/div[2]/div/ul/li[1]/div[2]/div').text"
   ]
  },
  {
   "cell_type": "code",
   "execution_count": 137,
   "metadata": {},
   "outputs": [],
   "source": [
    "driver.back()"
   ]
  },
  {
   "cell_type": "code",
   "execution_count": 138,
   "metadata": {},
   "outputs": [
    {
     "data": {
      "text/plain": [
       "'mario-hermoso'"
      ]
     },
     "execution_count": 138,
     "metadata": {},
     "output_type": "execute_result"
    }
   ],
   "source": [
    "links[0].split('/')[-1]"
   ]
  },
  {
   "cell_type": "code",
   "execution_count": 139,
   "metadata": {},
   "outputs": [],
   "source": [
    "# si falla por el xpath, se usa css_selector sin id (#fittPageContainer)\n",
    "\n",
    "data = []\n",
    "\n",
    "for e in links:\n",
    "    \n",
    "    driver.get(e)\n",
    "    \n",
    "    altura = driver.find_element(By.XPATH, '//*[@id=\"fittPageContainer\"]/div[2]/div[1]/div/div/div[1]/div[2]/div/ul/li[1]/div[2]/div').text\n",
    "    \n",
    "    nombre = e.split('/')[-1]\n",
    "    \n",
    "    dictio = {'nombre': nombre, 'altura': altura}\n",
    "    \n",
    "    data.append(dictio)"
   ]
  },
  {
   "cell_type": "code",
   "execution_count": 141,
   "metadata": {},
   "outputs": [
    {
     "data": {
      "text/html": [
       "<div>\n",
       "<style scoped>\n",
       "    .dataframe tbody tr th:only-of-type {\n",
       "        vertical-align: middle;\n",
       "    }\n",
       "\n",
       "    .dataframe tbody tr th {\n",
       "        vertical-align: top;\n",
       "    }\n",
       "\n",
       "    .dataframe thead th {\n",
       "        text-align: right;\n",
       "    }\n",
       "</style>\n",
       "<table border=\"1\" class=\"dataframe\">\n",
       "  <thead>\n",
       "    <tr style=\"text-align: right;\">\n",
       "      <th></th>\n",
       "      <th>nombre</th>\n",
       "      <th>altura</th>\n",
       "    </tr>\n",
       "  </thead>\n",
       "  <tbody>\n",
       "    <tr>\n",
       "      <th>0</th>\n",
       "      <td>mario-hermoso</td>\n",
       "      <td>6' 0\", 163 lbs</td>\n",
       "    </tr>\n",
       "    <tr>\n",
       "      <th>1</th>\n",
       "      <td>stefan-savic</td>\n",
       "      <td>6' 2\", 179 lbs</td>\n",
       "    </tr>\n",
       "    <tr>\n",
       "      <th>2</th>\n",
       "      <td>nahuel-molina</td>\n",
       "      <td>5' 9\", 152 lbs</td>\n",
       "    </tr>\n",
       "    <tr>\n",
       "      <th>3</th>\n",
       "      <td>jose-maria-gimenez</td>\n",
       "      <td>6' 1\", 170 lbs</td>\n",
       "    </tr>\n",
       "    <tr>\n",
       "      <th>4</th>\n",
       "      <td>saul-niguez</td>\n",
       "      <td>6' 0\", 168 lbs</td>\n",
       "    </tr>\n",
       "    <tr>\n",
       "      <th>5</th>\n",
       "      <td>marcos-llorente</td>\n",
       "      <td>6' 0\", 161 lbs</td>\n",
       "    </tr>\n",
       "    <tr>\n",
       "      <th>6</th>\n",
       "      <td>rodrigo-de-paul</td>\n",
       "      <td>5' 11\", 152 lbs</td>\n",
       "    </tr>\n",
       "    <tr>\n",
       "      <th>7</th>\n",
       "      <td>axel-witsel</td>\n",
       "      <td>6' 1\", 179 lbs</td>\n",
       "    </tr>\n",
       "    <tr>\n",
       "      <th>8</th>\n",
       "      <td>geoffrey-kondogbia</td>\n",
       "      <td>6' 2\", 174 lbs</td>\n",
       "    </tr>\n",
       "    <tr>\n",
       "      <th>9</th>\n",
       "      <td>sergio-reguilon</td>\n",
       "      <td>5' 10\", 150 lbs</td>\n",
       "    </tr>\n",
       "    <tr>\n",
       "      <th>10</th>\n",
       "      <td>pablo-barrios</td>\n",
       "      <td>5' 11\", 163 lbs</td>\n",
       "    </tr>\n",
       "    <tr>\n",
       "      <th>11</th>\n",
       "      <td>koke</td>\n",
       "      <td>5' 9\", 170 lbs</td>\n",
       "    </tr>\n",
       "    <tr>\n",
       "      <th>12</th>\n",
       "      <td>reinildo-mandava</td>\n",
       "      <td>5' 11\", 161 lbs</td>\n",
       "    </tr>\n",
       "    <tr>\n",
       "      <th>13</th>\n",
       "      <td>ivo-grbic</td>\n",
       "      <td>6' 5\", 183 lbs</td>\n",
       "    </tr>\n",
       "    <tr>\n",
       "      <th>14</th>\n",
       "      <td>yannick-carrasco</td>\n",
       "      <td>5' 11\", 161 lbs</td>\n",
       "    </tr>\n",
       "    <tr>\n",
       "      <th>15</th>\n",
       "      <td>thomas-lemar</td>\n",
       "      <td>5' 7\", 139 lbs</td>\n",
       "    </tr>\n",
       "    <tr>\n",
       "      <th>16</th>\n",
       "      <td>jan-oblak</td>\n",
       "      <td>6' 2\", 192 lbs</td>\n",
       "    </tr>\n",
       "    <tr>\n",
       "      <th>17</th>\n",
       "      <td>ilias-kostis</td>\n",
       "      <td>6' 2\"</td>\n",
       "    </tr>\n",
       "    <tr>\n",
       "      <th>18</th>\n",
       "      <td>sergio-diez</td>\n",
       "      <td>5' 10\"</td>\n",
       "    </tr>\n",
       "    <tr>\n",
       "      <th>19</th>\n",
       "      <td>adrian-corral</td>\n",
       "      <td>1/5/2003</td>\n",
       "    </tr>\n",
       "    <tr>\n",
       "      <th>20</th>\n",
       "      <td>marco-moreno</td>\n",
       "      <td>6' 4\", 172 lbs</td>\n",
       "    </tr>\n",
       "    <tr>\n",
       "      <th>21</th>\n",
       "      <td>matt-doherty</td>\n",
       "      <td>6' 1\", 174 lbs</td>\n",
       "    </tr>\n",
       "    <tr>\n",
       "      <th>22</th>\n",
       "      <td>sergio-mestre</td>\n",
       "      <td>6' 4\"</td>\n",
       "    </tr>\n",
       "    <tr>\n",
       "      <th>23</th>\n",
       "      <td>antonio-gomis</td>\n",
       "      <td>6' 1\"</td>\n",
       "    </tr>\n",
       "    <tr>\n",
       "      <th>24</th>\n",
       "      <td>alejandro-iturbe</td>\n",
       "      <td>6' 1\"</td>\n",
       "    </tr>\n",
       "  </tbody>\n",
       "</table>\n",
       "</div>"
      ],
      "text/plain": [
       "                nombre           altura\n",
       "0        mario-hermoso   6' 0\", 163 lbs\n",
       "1         stefan-savic   6' 2\", 179 lbs\n",
       "2        nahuel-molina   5' 9\", 152 lbs\n",
       "3   jose-maria-gimenez   6' 1\", 170 lbs\n",
       "4          saul-niguez   6' 0\", 168 lbs\n",
       "5      marcos-llorente   6' 0\", 161 lbs\n",
       "6      rodrigo-de-paul  5' 11\", 152 lbs\n",
       "7          axel-witsel   6' 1\", 179 lbs\n",
       "8   geoffrey-kondogbia   6' 2\", 174 lbs\n",
       "9      sergio-reguilon  5' 10\", 150 lbs\n",
       "10       pablo-barrios  5' 11\", 163 lbs\n",
       "11                koke   5' 9\", 170 lbs\n",
       "12    reinildo-mandava  5' 11\", 161 lbs\n",
       "13           ivo-grbic   6' 5\", 183 lbs\n",
       "14    yannick-carrasco  5' 11\", 161 lbs\n",
       "15        thomas-lemar   5' 7\", 139 lbs\n",
       "16           jan-oblak   6' 2\", 192 lbs\n",
       "17        ilias-kostis            6' 2\"\n",
       "18         sergio-diez           5' 10\"\n",
       "19       adrian-corral         1/5/2003\n",
       "20        marco-moreno   6' 4\", 172 lbs\n",
       "21        matt-doherty   6' 1\", 174 lbs\n",
       "22       sergio-mestre            6' 4\"\n",
       "23       antonio-gomis            6' 1\"\n",
       "24    alejandro-iturbe            6' 1\""
      ]
     },
     "execution_count": 141,
     "metadata": {},
     "output_type": "execute_result"
    }
   ],
   "source": [
    "pd.DataFrame(data)"
   ]
  },
  {
   "cell_type": "code",
   "execution_count": 142,
   "metadata": {},
   "outputs": [],
   "source": [
    "driver.quit()"
   ]
  },
  {
   "cell_type": "markdown",
   "metadata": {},
   "source": [
    "## https://www.skyscanner.es/"
   ]
  },
  {
   "cell_type": "code",
   "execution_count": 143,
   "metadata": {},
   "outputs": [
    {
     "name": "stderr",
     "output_type": "stream",
     "text": [
      "/var/folders/95/ms6dwls51ls1jq0t456d3r200000gn/T/ipykernel_4989/762231862.py:3: DeprecationWarning: executable_path has been deprecated, please pass in a Service object\n",
      "  driver = webdriver.Chrome(PATH, options=opciones)\n"
     ]
    }
   ],
   "source": [
    "url = 'https://www.skyscanner.es/'\n",
    "\n",
    "driver = webdriver.Chrome(PATH, options=opciones)\n",
    "\n",
    "driver.get(url)"
   ]
  },
  {
   "cell_type": "code",
   "execution_count": 144,
   "metadata": {},
   "outputs": [],
   "source": [
    "driver.quit()"
   ]
  },
  {
   "cell_type": "code",
   "execution_count": 145,
   "metadata": {},
   "outputs": [
    {
     "name": "stderr",
     "output_type": "stream",
     "text": [
      "/var/folders/95/ms6dwls51ls1jq0t456d3r200000gn/T/ipykernel_4989/1171224142.py:3: DeprecationWarning: executable_path has been deprecated, please pass in a Service object\n",
      "  driver = webdriver.Chrome(PATH, options=opciones)\n"
     ]
    }
   ],
   "source": [
    "url = 'https://www.idealista.com/'\n",
    "\n",
    "driver = webdriver.Chrome(PATH, options=opciones)\n",
    "\n",
    "driver.get(url)"
   ]
  },
  {
   "cell_type": "code",
   "execution_count": 146,
   "metadata": {},
   "outputs": [],
   "source": [
    "driver.find_element(By.XPATH, '//*[@id=\"form-new-radio-button-wrapper\"]/fieldset/label[2]').click()"
   ]
  },
  {
   "cell_type": "code",
   "execution_count": 148,
   "metadata": {},
   "outputs": [],
   "source": [
    "driver.find_element(By.XPATH, '//*[@id=\"campoBus\"]').send_keys('Madrid')"
   ]
  },
  {
   "cell_type": "code",
   "execution_count": 147,
   "metadata": {},
   "outputs": [],
   "source": [
    "driver.find_element(By.XPATH, '//*[@id=\"btn-free-search\"]').click()"
   ]
  },
  {
   "cell_type": "code",
   "execution_count": 149,
   "metadata": {},
   "outputs": [],
   "source": [
    "driver.quit()"
   ]
  },
  {
   "cell_type": "code",
   "execution_count": null,
   "metadata": {},
   "outputs": [],
   "source": []
  }
 ],
 "metadata": {
  "kernelspec": {
   "display_name": "clase",
   "language": "python",
   "name": "clase"
  },
  "language_info": {
   "codemirror_mode": {
    "name": "ipython",
    "version": 3
   },
   "file_extension": ".py",
   "mimetype": "text/x-python",
   "name": "python",
   "nbconvert_exporter": "python",
   "pygments_lexer": "ipython3",
   "version": "3.9.12"
  },
  "varInspector": {
   "cols": {
    "lenName": 16,
    "lenType": 16,
    "lenVar": 40
   },
   "kernels_config": {
    "python": {
     "delete_cmd_postfix": "",
     "delete_cmd_prefix": "del ",
     "library": "var_list.py",
     "varRefreshCmd": "print(var_dic_list())"
    },
    "r": {
     "delete_cmd_postfix": ") ",
     "delete_cmd_prefix": "rm(",
     "library": "var_list.r",
     "varRefreshCmd": "cat(var_dic_list()) "
    }
   },
   "types_to_exclude": [
    "module",
    "function",
    "builtin_function_or_method",
    "instance",
    "_Feature"
   ],
   "window_display": false
  }
 },
 "nbformat": 4,
 "nbformat_minor": 4
}
