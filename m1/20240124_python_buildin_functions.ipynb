{
 "cells": [
  {
   "cell_type": "markdown",
   "id": "fbe26829",
   "metadata": {},
   "source": [
    "# Built-in Functions\n",
    "\n",
    "https://docs.python.org/3.9/library/functions.html\n",
    "\n",
    "- __isinstance(object, classinfo)__\n",
    "\n",
    "- __enumerate(iterable, start=0)__\n",
    "    \n",
    "- __input([prompt])__\n",
    "    \n",
    "- __sum(iterable, /, start=0)__\n",
    "\n",
    "- __range(start, stop[, step])__\n",
    "\n",
    "- __print(*objects, sep=' ', end='\\n', file=sys.stdout, flush=False)__"
   ]
  },
  {
   "cell_type": "code",
   "execution_count": 3,
   "id": "65a5d1b8",
   "metadata": {},
   "outputs": [],
   "source": [
    "def nombre(parametro):\n",
    "    \n",
    "    a = 334"
   ]
  },
  {
   "cell_type": "code",
   "execution_count": 5,
   "id": "2a44b912",
   "metadata": {},
   "outputs": [
    {
     "name": "stdout",
     "output_type": "stream",
     "text": [
      "None\n"
     ]
    }
   ],
   "source": [
    "print(nombre(9))"
   ]
  },
  {
   "cell_type": "code",
   "execution_count": 6,
   "id": "3fa9ff1d",
   "metadata": {},
   "outputs": [
    {
     "name": "stdout",
     "output_type": "stream",
     "text": [
      "8\n"
     ]
    }
   ],
   "source": [
    "var = print(8)"
   ]
  },
  {
   "cell_type": "code",
   "execution_count": 7,
   "id": "03acfb60",
   "metadata": {},
   "outputs": [
    {
     "name": "stdout",
     "output_type": "stream",
     "text": [
      "None\n"
     ]
    }
   ],
   "source": [
    "print(var)"
   ]
  },
  {
   "cell_type": "code",
   "execution_count": 8,
   "id": "5d8780e2",
   "metadata": {},
   "outputs": [
    {
     "data": {
      "text/plain": [
       "8"
      ]
     },
     "execution_count": 8,
     "metadata": {},
     "output_type": "execute_result"
    }
   ],
   "source": [
    "abs(-8)   # valor absoluto"
   ]
  },
  {
   "cell_type": "code",
   "execution_count": 9,
   "id": "f2e1690a",
   "metadata": {},
   "outputs": [
    {
     "data": {
      "text/plain": [
       "8.0"
      ]
     },
     "execution_count": 9,
     "metadata": {},
     "output_type": "execute_result"
    }
   ],
   "source": [
    "float(8)"
   ]
  },
  {
   "cell_type": "code",
   "execution_count": 10,
   "id": "1ec4f279",
   "metadata": {},
   "outputs": [
    {
     "data": {
      "text/plain": [
       "9"
      ]
     },
     "execution_count": 10,
     "metadata": {},
     "output_type": "execute_result"
    }
   ],
   "source": [
    "max([1,2,3,4,9])"
   ]
  },
  {
   "cell_type": "code",
   "execution_count": 14,
   "id": "25ac3529",
   "metadata": {},
   "outputs": [],
   "source": [
    "def enseñar(x):\n",
    "    \n",
    "    print('Numero', x)  # esto muestra escrito\n",
    "    \n",
    "    return x  # esto devuelve, se puede igualar a una variable"
   ]
  },
  {
   "cell_type": "code",
   "execution_count": 15,
   "id": "b306198b",
   "metadata": {},
   "outputs": [
    {
     "name": "stdout",
     "output_type": "stream",
     "text": [
      "Numero 3\n"
     ]
    }
   ],
   "source": [
    "var = enseñar(3)"
   ]
  },
  {
   "cell_type": "code",
   "execution_count": 16,
   "id": "51026e4f",
   "metadata": {},
   "outputs": [
    {
     "name": "stdout",
     "output_type": "stream",
     "text": [
      "3\n"
     ]
    }
   ],
   "source": [
    "print(var)"
   ]
  },
  {
   "cell_type": "code",
   "execution_count": 18,
   "id": "729c57f5",
   "metadata": {},
   "outputs": [
    {
     "data": {
      "text/plain": [
       "[1, 3, 4, 5, 6, 7, 8]"
      ]
     },
     "execution_count": 18,
     "metadata": {},
     "output_type": "execute_result"
    }
   ],
   "source": [
    "sorted([3,6,1,4,5,7,8])"
   ]
  },
  {
   "cell_type": "code",
   "execution_count": 19,
   "id": "88bc3630",
   "metadata": {},
   "outputs": [
    {
     "name": "stdout",
     "output_type": "stream",
     "text": [
      "Help on built-in function sorted in module builtins:\n",
      "\n",
      "sorted(iterable, /, *, key=None, reverse=False)\n",
      "    Return a new list containing all items from the iterable in ascending order.\n",
      "    \n",
      "    A custom key function can be supplied to customize the sort order, and the\n",
      "    reverse flag can be set to request the result in descending order.\n",
      "\n"
     ]
    }
   ],
   "source": [
    "help(sorted)"
   ]
  },
  {
   "cell_type": "code",
   "execution_count": 20,
   "id": "39a809dc",
   "metadata": {},
   "outputs": [
    {
     "data": {
      "text/plain": [
       "[8, 7, 6, 5, 4, 3, 1]"
      ]
     },
     "execution_count": 20,
     "metadata": {},
     "output_type": "execute_result"
    }
   ],
   "source": [
    "sorted([3,6,1,4,5,7,8], reverse=True)"
   ]
  },
  {
   "cell_type": "code",
   "execution_count": 21,
   "id": "408b89c1",
   "metadata": {},
   "outputs": [
    {
     "name": "stdout",
     "output_type": "stream",
     "text": [
      "Introduce una palabrajbhdfsikjsbfdisjfbdeu\n"
     ]
    }
   ],
   "source": [
    "palabra = input('Introduce una palabra')"
   ]
  },
  {
   "cell_type": "code",
   "execution_count": 22,
   "id": "736f8b76",
   "metadata": {},
   "outputs": [
    {
     "name": "stdout",
     "output_type": "stream",
     "text": [
      "jbhdfsikjsbfdisjfbdeu\n"
     ]
    }
   ],
   "source": [
    "print(palabra)"
   ]
  },
  {
   "cell_type": "code",
   "execution_count": 23,
   "id": "bc57f6dd",
   "metadata": {},
   "outputs": [
    {
     "name": "stdout",
     "output_type": "stream",
     "text": [
      "Help on class range in module builtins:\n",
      "\n",
      "class range(object)\n",
      " |  range(stop) -> range object\n",
      " |  range(start, stop[, step]) -> range object\n",
      " |  \n",
      " |  Return an object that produces a sequence of integers from start (inclusive)\n",
      " |  to stop (exclusive) by step.  range(i, j) produces i, i+1, i+2, ..., j-1.\n",
      " |  start defaults to 0, and stop is omitted!  range(4) produces 0, 1, 2, 3.\n",
      " |  These are exactly the valid indices for a list of 4 elements.\n",
      " |  When step is given, it specifies the increment (or decrement).\n",
      " |  \n",
      " |  Methods defined here:\n",
      " |  \n",
      " |  __bool__(self, /)\n",
      " |      True if self else False\n",
      " |  \n",
      " |  __contains__(self, key, /)\n",
      " |      Return key in self.\n",
      " |  \n",
      " |  __eq__(self, value, /)\n",
      " |      Return self==value.\n",
      " |  \n",
      " |  __ge__(self, value, /)\n",
      " |      Return self>=value.\n",
      " |  \n",
      " |  __getattribute__(self, name, /)\n",
      " |      Return getattr(self, name).\n",
      " |  \n",
      " |  __getitem__(self, key, /)\n",
      " |      Return self[key].\n",
      " |  \n",
      " |  __gt__(self, value, /)\n",
      " |      Return self>value.\n",
      " |  \n",
      " |  __hash__(self, /)\n",
      " |      Return hash(self).\n",
      " |  \n",
      " |  __iter__(self, /)\n",
      " |      Implement iter(self).\n",
      " |  \n",
      " |  __le__(self, value, /)\n",
      " |      Return self<=value.\n",
      " |  \n",
      " |  __len__(self, /)\n",
      " |      Return len(self).\n",
      " |  \n",
      " |  __lt__(self, value, /)\n",
      " |      Return self<value.\n",
      " |  \n",
      " |  __ne__(self, value, /)\n",
      " |      Return self!=value.\n",
      " |  \n",
      " |  __reduce__(...)\n",
      " |      Helper for pickle.\n",
      " |  \n",
      " |  __repr__(self, /)\n",
      " |      Return repr(self).\n",
      " |  \n",
      " |  __reversed__(...)\n",
      " |      Return a reverse iterator.\n",
      " |  \n",
      " |  count(...)\n",
      " |      rangeobject.count(value) -> integer -- return number of occurrences of value\n",
      " |  \n",
      " |  index(...)\n",
      " |      rangeobject.index(value) -> integer -- return index of value.\n",
      " |      Raise ValueError if the value is not present.\n",
      " |  \n",
      " |  ----------------------------------------------------------------------\n",
      " |  Static methods defined here:\n",
      " |  \n",
      " |  __new__(*args, **kwargs) from builtins.type\n",
      " |      Create and return a new object.  See help(type) for accurate signature.\n",
      " |  \n",
      " |  ----------------------------------------------------------------------\n",
      " |  Data descriptors defined here:\n",
      " |  \n",
      " |  start\n",
      " |  \n",
      " |  step\n",
      " |  \n",
      " |  stop\n",
      "\n"
     ]
    }
   ],
   "source": [
    "help(range)"
   ]
  },
  {
   "cell_type": "code",
   "execution_count": 24,
   "id": "eab59d3a",
   "metadata": {},
   "outputs": [
    {
     "name": "stdout",
     "output_type": "stream",
     "text": [
      "3 4 hola 34\n"
     ]
    }
   ],
   "source": [
    "print(3, 4, 'hola', 34)"
   ]
  },
  {
   "cell_type": "code",
   "execution_count": 25,
   "id": "86d39b5e",
   "metadata": {},
   "outputs": [
    {
     "name": "stdout",
     "output_type": "stream",
     "text": [
      "3----4----hola----34\n"
     ]
    }
   ],
   "source": [
    "print(3, 4, 'hola', 34, sep='----')"
   ]
  },
  {
   "cell_type": "code",
   "execution_count": 26,
   "id": "3fe05ea5",
   "metadata": {},
   "outputs": [
    {
     "name": "stdout",
     "output_type": "stream",
     "text": [
      "3----4----hola----34✅"
     ]
    }
   ],
   "source": [
    "print(3, 4, 'hola', 34, sep='----', end='✅')"
   ]
  },
  {
   "cell_type": "code",
   "execution_count": 27,
   "id": "ee95f774",
   "metadata": {},
   "outputs": [
    {
     "name": "stdout",
     "output_type": "stream",
     "text": [
      "2 3 4 5\n"
     ]
    }
   ],
   "source": [
    "print(2,3,4,5)"
   ]
  },
  {
   "cell_type": "code",
   "execution_count": 28,
   "id": "e2261e24",
   "metadata": {},
   "outputs": [
    {
     "name": "stdout",
     "output_type": "stream",
     "text": [
      "[2, 3, 4, 5]\n"
     ]
    }
   ],
   "source": [
    "print([2,3,4,5])"
   ]
  },
  {
   "cell_type": "code",
   "execution_count": 29,
   "id": "622aad47",
   "metadata": {},
   "outputs": [
    {
     "name": "stdout",
     "output_type": "stream",
     "text": [
      "2 3 4 5\n"
     ]
    }
   ],
   "source": [
    "print(*[2,3,4,5])"
   ]
  },
  {
   "cell_type": "code",
   "execution_count": 30,
   "id": "694de998",
   "metadata": {},
   "outputs": [
    {
     "name": "stdout",
     "output_type": "stream",
     "text": [
      "[2, 3, 4, 5]\n"
     ]
    }
   ],
   "source": [
    "print([2,3,4,5], sep='----')"
   ]
  },
  {
   "cell_type": "code",
   "execution_count": 31,
   "id": "ec58b8ad",
   "metadata": {},
   "outputs": [
    {
     "name": "stdout",
     "output_type": "stream",
     "text": [
      "2----3----4----5\n"
     ]
    }
   ],
   "source": [
    "print(*[2,3,4,5], sep='----')"
   ]
  },
  {
   "cell_type": "code",
   "execution_count": 32,
   "id": "12ef5541",
   "metadata": {},
   "outputs": [
    {
     "data": {
      "text/plain": [
       "6"
      ]
     },
     "execution_count": 32,
     "metadata": {},
     "output_type": "execute_result"
    }
   ],
   "source": [
    "sum([1,2,3,])"
   ]
  },
  {
   "cell_type": "code",
   "execution_count": 33,
   "id": "5fdda973",
   "metadata": {},
   "outputs": [],
   "source": [
    "# sum\n",
    "\n",
    "lst = [1,2,3,4,5]\n",
    "\n",
    "res = 0\n",
    "\n",
    "for num in lst:\n",
    "    \n",
    "    res = res + num\n"
   ]
  },
  {
   "cell_type": "code",
   "execution_count": 34,
   "id": "16f4e65f",
   "metadata": {},
   "outputs": [
    {
     "data": {
      "text/plain": [
       "15"
      ]
     },
     "execution_count": 34,
     "metadata": {},
     "output_type": "execute_result"
    }
   ],
   "source": [
    "res"
   ]
  },
  {
   "cell_type": "code",
   "execution_count": 35,
   "id": "1d341a68",
   "metadata": {},
   "outputs": [
    {
     "data": {
      "text/plain": [
       "5"
      ]
     },
     "execution_count": 35,
     "metadata": {},
     "output_type": "execute_result"
    }
   ],
   "source": [
    "# max\n",
    "\n",
    "lst = [1,2,3,4,5]\n",
    "\n",
    "res = 0\n",
    "\n",
    "for num in lst:\n",
    "    \n",
    "    if num > res:\n",
    "        \n",
    "        res = num\n",
    "    \n",
    "    \n",
    "res"
   ]
  }
 ],
 "metadata": {
  "kernelspec": {
   "display_name": "Python 3 (ipykernel)",
   "language": "python",
   "name": "python3"
  },
  "language_info": {
   "codemirror_mode": {
    "name": "ipython",
    "version": 3
   },
   "file_extension": ".py",
   "mimetype": "text/x-python",
   "name": "python",
   "nbconvert_exporter": "python",
   "pygments_lexer": "ipython3",
   "version": "3.9.12"
  }
 },
 "nbformat": 4,
 "nbformat_minor": 5
}
