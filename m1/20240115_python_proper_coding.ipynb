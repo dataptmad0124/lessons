{
 "cells": [
  {
   "cell_type": "markdown",
   "id": "7d5e1d0a",
   "metadata": {},
   "source": [
    "# Proper Coding\n",
    "\n",
    "__PEP 8 -- Style Guide for Python Code:__ https://www.python.org/dev/peps/pep-0008/  (alt: https://pep8.org/)\n",
    "\n",
    "---\n"
   ]
  },
  {
   "cell_type": "markdown",
   "id": "77065969",
   "metadata": {},
   "source": [
    "### What is Python\n",
    "\n",
    "- Generalist\n",
    "\n",
    "- Interpretet\n",
    "\n",
    "- Multi-Paradigm\n",
    "\n",
    "- Multi-Platform\n",
    "\n",
    "### Why Python\n",
    "\n",
    "- Human-like syntaxis\n",
    "\n",
    "- Strongly typed\n",
    "\n",
    "- Dynamically typed\n",
    "\n",
    "- Open source\n",
    "\n",
    "- Libraries\n",
    "\n",
    "- Extensible and embeddable"
   ]
  },
  {
   "cell_type": "code",
   "execution_count": null,
   "id": "00d5ff5b",
   "metadata": {},
   "outputs": [],
   "source": []
  },
  {
   "cell_type": "markdown",
   "id": "88cf67c8",
   "metadata": {},
   "source": [
    "---\n",
    "\n",
    "## Commenting vs Documenting Code"
   ]
  },
  {
   "cell_type": "code",
   "execution_count": null,
   "id": "95c4aa19",
   "metadata": {},
   "outputs": [],
   "source": []
  },
  {
   "cell_type": "markdown",
   "id": "1a050402",
   "metadata": {},
   "source": [
    "__Planning and Reviewing:__"
   ]
  },
  {
   "cell_type": "code",
   "execution_count": null,
   "id": "815642a9",
   "metadata": {},
   "outputs": [],
   "source": []
  },
  {
   "cell_type": "markdown",
   "id": "60dda6d1",
   "metadata": {},
   "source": [
    "__Code Description:__"
   ]
  },
  {
   "cell_type": "code",
   "execution_count": null,
   "id": "80dc2b1a",
   "metadata": {},
   "outputs": [],
   "source": []
  },
  {
   "cell_type": "markdown",
   "id": "ea5059d7",
   "metadata": {},
   "source": [
    "__Algorithmic Description:__"
   ]
  },
  {
   "cell_type": "code",
   "execution_count": null,
   "id": "95083754",
   "metadata": {},
   "outputs": [],
   "source": []
  },
  {
   "cell_type": "code",
   "execution_count": null,
   "id": "5c3a2f2b",
   "metadata": {},
   "outputs": [],
   "source": []
  },
  {
   "cell_type": "markdown",
   "id": "91219959",
   "metadata": {},
   "source": [
    "__Tagging:__"
   ]
  },
  {
   "cell_type": "code",
   "execution_count": null,
   "id": "c5c8a3b6",
   "metadata": {},
   "outputs": [],
   "source": []
  },
  {
   "cell_type": "markdown",
   "id": "2ee32c15",
   "metadata": {},
   "source": [
    "__Documenting Code__"
   ]
  },
  {
   "cell_type": "code",
   "execution_count": null,
   "id": "c071ecf4",
   "metadata": {},
   "outputs": [],
   "source": []
  },
  {
   "cell_type": "markdown",
   "id": "6c298214",
   "metadata": {},
   "source": [
    "---\n",
    "\n",
    "## Naming Conventions"
   ]
  },
  {
   "cell_type": "code",
   "execution_count": null,
   "id": "558e4e5a",
   "metadata": {},
   "outputs": [],
   "source": []
  },
  {
   "cell_type": "code",
   "execution_count": null,
   "id": "b3a0343c",
   "metadata": {},
   "outputs": [],
   "source": []
  },
  {
   "cell_type": "code",
   "execution_count": null,
   "id": "ff4ef3e4",
   "metadata": {},
   "outputs": [],
   "source": []
  },
  {
   "cell_type": "code",
   "execution_count": null,
   "id": "f939b4c0",
   "metadata": {},
   "outputs": [],
   "source": []
  },
  {
   "cell_type": "code",
   "execution_count": null,
   "id": "2b98abad",
   "metadata": {},
   "outputs": [],
   "source": []
  },
  {
   "cell_type": "markdown",
   "id": "952f88e6",
   "metadata": {},
   "source": [
    "---\n",
    "\n",
    "## Explicit code"
   ]
  },
  {
   "cell_type": "code",
   "execution_count": null,
   "id": "afc426cd",
   "metadata": {},
   "outputs": [],
   "source": []
  },
  {
   "cell_type": "code",
   "execution_count": null,
   "id": "cccfbd35",
   "metadata": {},
   "outputs": [],
   "source": []
  },
  {
   "cell_type": "markdown",
   "id": "21430bdc",
   "metadata": {},
   "source": [
    "---\n",
    "\n",
    "## One statement per line"
   ]
  },
  {
   "cell_type": "code",
   "execution_count": null,
   "id": "d297c569",
   "metadata": {},
   "outputs": [],
   "source": []
  },
  {
   "cell_type": "code",
   "execution_count": null,
   "id": "1c2d2d4b",
   "metadata": {},
   "outputs": [],
   "source": []
  },
  {
   "cell_type": "markdown",
   "id": "3025b25d",
   "metadata": {},
   "source": [
    "---\n",
    "\n",
    "### More info: https://docs.python-guide.org/writing/style/"
   ]
  }
 ],
 "metadata": {
  "kernelspec": {
   "display_name": "clase",
   "language": "python",
   "name": "clase"
  },
  "language_info": {
   "codemirror_mode": {
    "name": "ipython",
    "version": 3
   },
   "file_extension": ".py",
   "mimetype": "text/x-python",
   "name": "python",
   "nbconvert_exporter": "python",
   "pygments_lexer": "ipython3",
   "version": "3.9.12"
  }
 },
 "nbformat": 4,
 "nbformat_minor": 5
}
