{
 "cells": [
  {
   "cell_type": "markdown",
   "id": "7d5e1d0a",
   "metadata": {},
   "source": [
    "# Proper Coding\n",
    "\n",
    "__PEP 8 -- Style Guide for Python Code:__ https://www.python.org/dev/peps/pep-0008/  (alt: https://pep8.org/)\n",
    "\n",
    "---\n"
   ]
  },
  {
   "cell_type": "markdown",
   "id": "77065969",
   "metadata": {},
   "source": [
    "### What is Python\n",
    "\n",
    "- Generalist\n",
    "\n",
    "- Interpretet\n",
    "\n",
    "- Multi-Paradigm\n",
    "\n",
    "- Multi-Platform\n",
    "\n",
    "### Why Python\n",
    "\n",
    "- Human-like syntaxis\n",
    "\n",
    "- Strongly typed\n",
    "\n",
    "- Dynamically typed\n",
    "\n",
    "- Open source\n",
    "\n",
    "- Libraries\n",
    "\n",
    "- Extensible and embeddable"
   ]
  },
  {
   "cell_type": "code",
   "execution_count": 6,
   "id": "73603c5c",
   "metadata": {},
   "outputs": [
    {
     "name": "stdout",
     "output_type": "stream",
     "text": [
      "The Zen of Python, by Tim Peters\n",
      "\n",
      "Beautiful is better than ugly.\n",
      "Explicit is better than implicit.\n",
      "Simple is better than complex.\n",
      "Complex is better than complicated.\n",
      "Flat is better than nested.\n",
      "Sparse is better than dense.\n",
      "Readability counts.\n",
      "Special cases aren't special enough to break the rules.\n",
      "Although practicality beats purity.\n",
      "Errors should never pass silently.\n",
      "Unless explicitly silenced.\n",
      "In the face of ambiguity, refuse the temptation to guess.\n",
      "There should be one-- and preferably only one --obvious way to do it.\n",
      "Although that way may not be obvious at first unless you're Dutch.\n",
      "Now is better than never.\n",
      "Although never is often better than *right* now.\n",
      "If the implementation is hard to explain, it's a bad idea.\n",
      "If the implementation is easy to explain, it may be a good idea.\n",
      "Namespaces are one honking great idea -- let's do more of those!\n"
     ]
    }
   ],
   "source": [
    "import this"
   ]
  },
  {
   "cell_type": "markdown",
   "id": "88cf67c8",
   "metadata": {},
   "source": [
    "---\n",
    "\n",
    "## Commenting vs Documenting Code"
   ]
  },
  {
   "cell_type": "code",
   "execution_count": 7,
   "id": "95c4aa19",
   "metadata": {},
   "outputs": [],
   "source": [
    "# Esto es un comentario de una linea"
   ]
  },
  {
   "cell_type": "markdown",
   "id": "1a050402",
   "metadata": {},
   "source": [
    "__Planning and Reviewing:__"
   ]
  },
  {
   "cell_type": "code",
   "execution_count": 8,
   "id": "815642a9",
   "metadata": {},
   "outputs": [],
   "source": [
    "# Paso 1 blablabla\n",
    "\n",
    "# Paso 2\n",
    "\n",
    "# Paso 3"
   ]
  },
  {
   "cell_type": "markdown",
   "id": "60dda6d1",
   "metadata": {},
   "source": [
    "__Code Description:__"
   ]
  },
  {
   "cell_type": "code",
   "execution_count": null,
   "id": "80dc2b1a",
   "metadata": {},
   "outputs": [],
   "source": [
    "# Esta variable significa...."
   ]
  },
  {
   "cell_type": "markdown",
   "id": "ea5059d7",
   "metadata": {},
   "source": [
    "__Algorithmic Description:__"
   ]
  },
  {
   "cell_type": "markdown",
   "id": "91219959",
   "metadata": {},
   "source": [
    "__Tagging:__"
   ]
  },
  {
   "cell_type": "markdown",
   "id": "2ee32c15",
   "metadata": {},
   "source": [
    "__Documenting Code__"
   ]
  },
  {
   "cell_type": "code",
   "execution_count": 10,
   "id": "c071ecf4",
   "metadata": {},
   "outputs": [
    {
     "data": {
      "text/plain": [
       "'\\n\\nEsto es un comentario multilinea\\n\\n'"
      ]
     },
     "execution_count": 10,
     "metadata": {},
     "output_type": "execute_result"
    }
   ],
   "source": [
    "'''\n",
    "\n",
    "Esto es un comentario multilinea\n",
    "\n",
    "'''"
   ]
  },
  {
   "cell_type": "code",
   "execution_count": 11,
   "id": "1cf2c778",
   "metadata": {},
   "outputs": [
    {
     "data": {
      "text/plain": [
       "'\\nDataFrame\\n---------\\nAn efficient 2D container for potentially mixed-type time series or other\\nlabeled data series.\\nSimilar to its R counterpart, data.frame, except providing automatic data\\nalignment and a host of useful data manipulation methods having to do with the\\nlabeling information\\n'"
      ]
     },
     "execution_count": 11,
     "metadata": {},
     "output_type": "execute_result"
    }
   ],
   "source": [
    "\"\"\"\n",
    "DataFrame\n",
    "---------\n",
    "An efficient 2D container for potentially mixed-type time series or other\n",
    "labeled data series.\n",
    "Similar to its R counterpart, data.frame, except providing automatic data\n",
    "alignment and a host of useful data manipulation methods having to do with the\n",
    "labeling information\n",
    "\"\"\""
   ]
  },
  {
   "cell_type": "markdown",
   "id": "6c298214",
   "metadata": {},
   "source": [
    "---\n",
    "\n",
    "## Naming Conventions"
   ]
  },
  {
   "cell_type": "code",
   "execution_count": 13,
   "id": "558e4e5a",
   "metadata": {},
   "outputs": [],
   "source": [
    "# funcion\n",
    "\n",
    "def nueva_funcion(x):\n",
    "    \n",
    "    \"\"\"\n",
    "    DataFrame\n",
    "    ---------\n",
    "    An efficient 2D container for potentially mixed-type time series or other\n",
    "    labeled data series.\n",
    "    Similar to its R counterpart, data.frame, except providing automatic data\n",
    "    alignment and a host of useful data manipulation methods having to do with the\n",
    "    labeling information\n",
    "    \"\"\"\n",
    "    \n",
    "    return x"
   ]
  },
  {
   "cell_type": "code",
   "execution_count": 14,
   "id": "b3a0343c",
   "metadata": {},
   "outputs": [
    {
     "data": {
      "text/plain": [
       "4"
      ]
     },
     "execution_count": 14,
     "metadata": {},
     "output_type": "execute_result"
    }
   ],
   "source": [
    "nueva_funcion(4)"
   ]
  },
  {
   "cell_type": "code",
   "execution_count": 15,
   "id": "ff4ef3e4",
   "metadata": {},
   "outputs": [
    {
     "name": "stdout",
     "output_type": "stream",
     "text": [
      "Help on function nueva_funcion in module __main__:\n",
      "\n",
      "nueva_funcion(x)\n",
      "    DataFrame\n",
      "    ---------\n",
      "    An efficient 2D container for potentially mixed-type time series or other\n",
      "    labeled data series.\n",
      "    Similar to its R counterpart, data.frame, except providing automatic data\n",
      "    alignment and a host of useful data manipulation methods having to do with the\n",
      "    labeling information\n",
      "\n"
     ]
    }
   ],
   "source": [
    "help(nueva_funcion)"
   ]
  },
  {
   "cell_type": "code",
   "execution_count": null,
   "id": "fa634930",
   "metadata": {},
   "outputs": [],
   "source": [
    "# variables\n",
    "\n",
    "num = 10\n",
    "\n",
    " \n",
    "mi_variable = 'hola'    # snake tail\n",
    "\n",
    "miVariable = 'adios'    # camel case (esto en python no es la buena practica)\n",
    "\n",
    "blabla = 10   # por favor esto NO, semantica en los nombres\n",
    "\n",
    "\n",
    "CTE = 'constante'"
   ]
  },
  {
   "cell_type": "code",
   "execution_count": 16,
   "id": "c6f87a94",
   "metadata": {},
   "outputs": [
    {
     "ename": "SyntaxError",
     "evalue": "invalid syntax (1061445220.py, line 1)",
     "output_type": "error",
     "traceback": [
      "\u001b[0;36m  Cell \u001b[0;32mIn[16], line 1\u001b[0;36m\u001b[0m\n\u001b[0;31m    user login account # it doesn't work!!!\u001b[0m\n\u001b[0m         ^\u001b[0m\n\u001b[0;31mSyntaxError\u001b[0m\u001b[0;31m:\u001b[0m invalid syntax\n"
     ]
    }
   ],
   "source": [
    "user login account # it doesn't work!!!\n",
    "\n",
    "# Alternatives\n",
    "\n",
    "userLoginAccount # camelCase\n",
    "\n",
    "UserLoginAccount # PascalCase\n",
    "\n",
    "user_login_account # snake_case\n",
    "\n",
    "user-login-account # kebab-case"
   ]
  },
  {
   "cell_type": "code",
   "execution_count": null,
   "id": "a1bb4629",
   "metadata": {},
   "outputs": [],
   "source": [
    "# clases\n",
    "\n",
    "class Molde():\n",
    "    \n",
    "    # primera letra en mayuscula\n",
    "    \n",
    "    pass"
   ]
  },
  {
   "cell_type": "markdown",
   "id": "952f88e6",
   "metadata": {},
   "source": [
    "---\n",
    "\n",
    "## Explicit code"
   ]
  },
  {
   "cell_type": "code",
   "execution_count": null,
   "id": "afc426cd",
   "metadata": {},
   "outputs": [],
   "source": [
    "# Bad\n",
    "\n",
    "def make_complex(*args):\n",
    "    x, y = args\n",
    "    return dict(**locals())"
   ]
  },
  {
   "cell_type": "code",
   "execution_count": null,
   "id": "cccfbd35",
   "metadata": {},
   "outputs": [],
   "source": [
    "# Good\n",
    "\n",
    "def make_complex(x, y):\n",
    "    \n",
    "    return {'x': x, 'y': y}"
   ]
  },
  {
   "cell_type": "markdown",
   "id": "21430bdc",
   "metadata": {},
   "source": [
    "---\n",
    "\n",
    "## One statement per line"
   ]
  },
  {
   "cell_type": "code",
   "execution_count": 17,
   "id": "d297c569",
   "metadata": {},
   "outputs": [
    {
     "name": "stdout",
     "output_type": "stream",
     "text": [
      "one\n",
      "two\n"
     ]
    }
   ],
   "source": [
    "# Bad\n",
    "\n",
    "print('one'); print('two')\n"
   ]
  },
  {
   "cell_type": "code",
   "execution_count": 18,
   "id": "1c2d2d4b",
   "metadata": {},
   "outputs": [
    {
     "name": "stdout",
     "output_type": "stream",
     "text": [
      "one\n",
      "two\n"
     ]
    }
   ],
   "source": [
    "# Good\n",
    "\n",
    "print('one')\n",
    "\n",
    "print('two')\n"
   ]
  },
  {
   "cell_type": "markdown",
   "id": "3025b25d",
   "metadata": {},
   "source": [
    "---\n",
    "\n",
    "### More info: https://docs.python-guide.org/writing/style/"
   ]
  }
 ],
 "metadata": {
  "kernelspec": {
   "display_name": "clase",
   "language": "python",
   "name": "clase"
  },
  "language_info": {
   "codemirror_mode": {
    "name": "ipython",
    "version": 3
   },
   "file_extension": ".py",
   "mimetype": "text/x-python",
   "name": "python",
   "nbconvert_exporter": "python",
   "pygments_lexer": "ipython3",
   "version": "3.9.12"
  }
 },
 "nbformat": 4,
 "nbformat_minor": 5
}
