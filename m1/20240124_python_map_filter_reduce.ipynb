{
 "cells": [
  {
   "cell_type": "markdown",
   "id": "93aad838",
   "metadata": {},
   "source": [
    "# Map, Filter, Reduce\n",
    "\n",
    "or Processing Iterables Without a Loop"
   ]
  },
  {
   "cell_type": "markdown",
   "id": "a7f43ece",
   "metadata": {},
   "source": [
    "---"
   ]
  },
  {
   "cell_type": "markdown",
   "id": "0b4f5cff",
   "metadata": {},
   "source": [
    "## [Mapping](https://docs.python.org/3.9/library/functions.html#map)\n",
    "\n",
    "Consists of applying a transformation function to an iterable to produce a new iterable. Items in the new iterable are produced by calling the transformation function on each item in the original iterable.\n",
    "\n",
    "- The goal of using the `map()` function is to apply a function to a sequence (i.e.: it allows you to process and transform all the items in an iterable without using an explicit for loop)"
   ]
  },
  {
   "cell_type": "markdown",
   "id": "14f35025",
   "metadata": {},
   "source": [
    "#### `map()` returns a _map object_, which is an iterator that yields items on demand (a.k.a.: generators). Python iterators are known to be quite efficient in terms of memory consumption. This is the reason why map() now returns an iterator instead of a list."
   ]
  },
  {
   "cell_type": "code",
   "execution_count": 1,
   "id": "e7b11085",
   "metadata": {},
   "outputs": [
    {
     "data": {
      "text/plain": [
       "[0, 1, 2, 3, 4, 5, 6, 7, 8, 9]"
      ]
     },
     "execution_count": 1,
     "metadata": {},
     "output_type": "execute_result"
    }
   ],
   "source": [
    "lst = [i for i in range(10_000_000)]\n",
    "\n",
    "lst[:10]"
   ]
  },
  {
   "cell_type": "code",
   "execution_count": 2,
   "id": "a296834c",
   "metadata": {},
   "outputs": [
    {
     "data": {
      "text/plain": [
       "10000000"
      ]
     },
     "execution_count": 2,
     "metadata": {},
     "output_type": "execute_result"
    }
   ],
   "source": [
    "len(lst)"
   ]
  },
  {
   "cell_type": "code",
   "execution_count": 8,
   "id": "d7fb73df",
   "metadata": {
    "scrolled": true
   },
   "outputs": [],
   "source": [
    "def restar(numero):\n",
    "    \n",
    "    \"\"\"\n",
    "    Esta funcion tiene que recibir solo un elemento de entrada.\n",
    "    Para el map, pensad en esta funcion para un solo elemento del iterable\n",
    "    \n",
    "    numero es local, que solo existe aqui dentro\n",
    "    \n",
    "    \"\"\"\n",
    "    \n",
    "    return numero-10"
   ]
  },
  {
   "cell_type": "code",
   "execution_count": 12,
   "id": "bccc30a5",
   "metadata": {},
   "outputs": [
    {
     "ename": "NameError",
     "evalue": "name 'numero' is not defined",
     "output_type": "error",
     "traceback": [
      "\u001b[0;31m---------------------------------------------------------------------------\u001b[0m",
      "\u001b[0;31mNameError\u001b[0m                                 Traceback (most recent call last)",
      "Cell \u001b[0;32mIn[12], line 1\u001b[0m\n\u001b[0;32m----> 1\u001b[0m \u001b[43mnumero\u001b[49m\n",
      "\u001b[0;31mNameError\u001b[0m: name 'numero' is not defined"
     ]
    }
   ],
   "source": [
    "numero"
   ]
  },
  {
   "cell_type": "code",
   "execution_count": 9,
   "id": "8eae37b4",
   "metadata": {},
   "outputs": [
    {
     "data": {
      "text/plain": [
       "-2"
      ]
     },
     "execution_count": 9,
     "metadata": {},
     "output_type": "execute_result"
    }
   ],
   "source": [
    "restar(8)"
   ]
  },
  {
   "cell_type": "code",
   "execution_count": 5,
   "id": "47de0ff1",
   "metadata": {},
   "outputs": [
    {
     "name": "stdout",
     "output_type": "stream",
     "text": [
      "CPU times: user 1.08 s, sys: 60.2 ms, total: 1.14 s\n",
      "Wall time: 1.14 s\n"
     ]
    },
    {
     "data": {
      "text/plain": [
       "[-10, -9, -8, -7, -6, -5, -4, -3, -2, -1]"
      ]
     },
     "execution_count": 5,
     "metadata": {},
     "output_type": "execute_result"
    }
   ],
   "source": [
    "%%time\n",
    "\n",
    "res = []\n",
    "\n",
    "for e in lst:\n",
    "    \n",
    "    # e es cada elemento de la lista\n",
    "    \n",
    "    n = restar(e)\n",
    "    \n",
    "    res.append(n)\n",
    "    \n",
    "res[:10]"
   ]
  },
  {
   "cell_type": "code",
   "execution_count": 6,
   "id": "532c91ed",
   "metadata": {},
   "outputs": [
    {
     "name": "stdout",
     "output_type": "stream",
     "text": [
      "CPU times: user 616 ms, sys: 62.4 ms, total: 678 ms\n",
      "Wall time: 678 ms\n"
     ]
    },
    {
     "data": {
      "text/plain": [
       "[-10, -9, -8, -7, -6, -5, -4, -3, -2, -1]"
      ]
     },
     "execution_count": 6,
     "metadata": {},
     "output_type": "execute_result"
    }
   ],
   "source": [
    "%%time\n",
    "\n",
    "# esto es lo mimso de antes\n",
    "\n",
    "res = [restar(numero) for numero in lst]\n",
    "\n",
    "res[:10]"
   ]
  },
  {
   "cell_type": "code",
   "execution_count": 13,
   "id": "184e3a84",
   "metadata": {},
   "outputs": [
    {
     "name": "stdout",
     "output_type": "stream",
     "text": [
      "CPU times: user 4 µs, sys: 1e+03 ns, total: 5 µs\n",
      "Wall time: 8.11 µs\n"
     ]
    },
    {
     "data": {
      "text/plain": [
       "<map at 0x1456e4910>"
      ]
     },
     "execution_count": 13,
     "metadata": {},
     "output_type": "execute_result"
    }
   ],
   "source": [
    "%%time\n",
    "\n",
    "# map(funcion, iterable)\n",
    "\n",
    "map(restar, lst)"
   ]
  },
  {
   "cell_type": "code",
   "execution_count": 14,
   "id": "2d1bb411",
   "metadata": {},
   "outputs": [
    {
     "name": "stdout",
     "output_type": "stream",
     "text": [
      "CPU times: user 424 ms, sys: 53.6 ms, total: 477 ms\n",
      "Wall time: 477 ms\n"
     ]
    },
    {
     "data": {
      "text/plain": [
       "[-10, -9, -8, -7, -6, -5, -4, -3, -2, -1]"
      ]
     },
     "execution_count": 14,
     "metadata": {},
     "output_type": "execute_result"
    }
   ],
   "source": [
    "%%time\n",
    "\n",
    "# map(funcion, iterable)\n",
    "\n",
    "list(map(restar, lst))[:10]"
   ]
  },
  {
   "cell_type": "code",
   "execution_count": 16,
   "id": "ccbdfccd",
   "metadata": {},
   "outputs": [
    {
     "name": "stdout",
     "output_type": "stream",
     "text": [
      "CPU times: user 5 µs, sys: 0 ns, total: 5 µs\n",
      "Wall time: 9.3 µs\n"
     ]
    }
   ],
   "source": [
    "%%time\n",
    "\n",
    "x = map(restar, lst)"
   ]
  },
  {
   "cell_type": "code",
   "execution_count": 17,
   "id": "cb37cfc7",
   "metadata": {
    "scrolled": true
   },
   "outputs": [
    {
     "data": {
      "text/plain": [
       "map"
      ]
     },
     "execution_count": 17,
     "metadata": {},
     "output_type": "execute_result"
    }
   ],
   "source": [
    "type(x)"
   ]
  },
  {
   "cell_type": "code",
   "execution_count": 18,
   "id": "f5fdbc2c",
   "metadata": {},
   "outputs": [
    {
     "name": "stdout",
     "output_type": "stream",
     "text": [
      "<map object at 0x1456dd100>\n"
     ]
    }
   ],
   "source": [
    "print(x)"
   ]
  },
  {
   "cell_type": "code",
   "execution_count": 19,
   "id": "d0afa283",
   "metadata": {},
   "outputs": [
    {
     "data": {
      "text/plain": [
       "5459792128"
      ]
     },
     "execution_count": 19,
     "metadata": {},
     "output_type": "execute_result"
    }
   ],
   "source": [
    "id(x)"
   ]
  },
  {
   "cell_type": "code",
   "execution_count": 20,
   "id": "bd8a7431",
   "metadata": {},
   "outputs": [
    {
     "data": {
      "text/plain": [
       "[0, 1, 2, 3, 4, 5, 6, 7, 8, 9]"
      ]
     },
     "execution_count": 20,
     "metadata": {},
     "output_type": "execute_result"
    }
   ],
   "source": [
    "lst[:10]"
   ]
  },
  {
   "cell_type": "code",
   "execution_count": 22,
   "id": "fe7920a6",
   "metadata": {},
   "outputs": [
    {
     "name": "stdout",
     "output_type": "stream",
     "text": [
      "CPU times: user 4 µs, sys: 1 µs, total: 5 µs\n",
      "Wall time: 7.87 µs\n"
     ]
    },
    {
     "data": {
      "text/plain": [
       "<map at 0x1456c6f10>"
      ]
     },
     "execution_count": 22,
     "metadata": {},
     "output_type": "execute_result"
    }
   ],
   "source": [
    "%%time\n",
    "\n",
    "map(lambda numero: numero-10, lst)"
   ]
  },
  {
   "cell_type": "code",
   "execution_count": 24,
   "id": "86fe62fb",
   "metadata": {},
   "outputs": [
    {
     "name": "stdout",
     "output_type": "stream",
     "text": [
      "CPU times: user 4 µs, sys: 1 µs, total: 5 µs\n",
      "Wall time: 9.78 µs\n"
     ]
    },
    {
     "data": {
      "text/plain": [
       "<map at 0x1456d5f10>"
      ]
     },
     "execution_count": 24,
     "metadata": {},
     "output_type": "execute_result"
    }
   ],
   "source": [
    "%%time\n",
    "\n",
    "map(lambda numero: numero*2, lst)"
   ]
  },
  {
   "cell_type": "code",
   "execution_count": 25,
   "id": "e7804149",
   "metadata": {},
   "outputs": [
    {
     "name": "stdout",
     "output_type": "stream",
     "text": [
      "CPU times: user 456 ms, sys: 61.1 ms, total: 517 ms\n",
      "Wall time: 539 ms\n"
     ]
    },
    {
     "data": {
      "text/plain": [
       "[0, 2, 4, 6, 8, 10, 12, 14, 16, 18]"
      ]
     },
     "execution_count": 25,
     "metadata": {},
     "output_type": "execute_result"
    }
   ],
   "source": [
    "%%time\n",
    "\n",
    "list(map(lambda numero: numero*2, lst))[:10]"
   ]
  },
  {
   "cell_type": "code",
   "execution_count": 26,
   "id": "ad98ff8b",
   "metadata": {},
   "outputs": [
    {
     "data": {
      "text/plain": [
       "[1, 2, 3, 1, 2, 3]"
      ]
     },
     "execution_count": 26,
     "metadata": {},
     "output_type": "execute_result"
    }
   ],
   "source": [
    "[1,2,3] * 2"
   ]
  },
  {
   "cell_type": "code",
   "execution_count": 27,
   "id": "25045d72",
   "metadata": {},
   "outputs": [
    {
     "data": {
      "text/plain": [
       "{'a': 2, 'b': 3, 'c': 4}"
      ]
     },
     "execution_count": 27,
     "metadata": {},
     "output_type": "execute_result"
    }
   ],
   "source": [
    "dictio = {'a': 2, 'b': 3, 'c': 4}\n",
    "\n",
    "dictio"
   ]
  },
  {
   "cell_type": "code",
   "execution_count": 28,
   "id": "4de75d9e",
   "metadata": {},
   "outputs": [
    {
     "name": "stdout",
     "output_type": "stream",
     "text": [
      "a\n",
      "b\n",
      "c\n"
     ]
    }
   ],
   "source": [
    "for e in dictio:\n",
    "    print(e)"
   ]
  },
  {
   "cell_type": "code",
   "execution_count": 29,
   "id": "cd10cc69",
   "metadata": {},
   "outputs": [
    {
     "name": "stdout",
     "output_type": "stream",
     "text": [
      "2\n",
      "3\n",
      "4\n"
     ]
    }
   ],
   "source": [
    "for e in dictio.values():\n",
    "    print(e)"
   ]
  },
  {
   "cell_type": "code",
   "execution_count": 30,
   "id": "27d27673",
   "metadata": {},
   "outputs": [
    {
     "name": "stdout",
     "output_type": "stream",
     "text": [
      "('a', 2)\n",
      "('b', 3)\n",
      "('c', 4)\n"
     ]
    }
   ],
   "source": [
    "for e in dictio.items():\n",
    "    print(e)"
   ]
  },
  {
   "cell_type": "code",
   "execution_count": 31,
   "id": "bc50f7b8",
   "metadata": {},
   "outputs": [
    {
     "data": {
      "text/plain": [
       "<map at 0x1456d5fd0>"
      ]
     },
     "execution_count": 31,
     "metadata": {},
     "output_type": "execute_result"
    }
   ],
   "source": [
    "map(lambda x: x**2, dictio.values())"
   ]
  },
  {
   "cell_type": "code",
   "execution_count": 32,
   "id": "12f9401c",
   "metadata": {},
   "outputs": [
    {
     "data": {
      "text/plain": [
       "[4, 9, 16]"
      ]
     },
     "execution_count": 32,
     "metadata": {},
     "output_type": "execute_result"
    }
   ],
   "source": [
    "list(map(lambda x: x**2, dictio.values()))"
   ]
  },
  {
   "cell_type": "code",
   "execution_count": 33,
   "id": "645d0a64",
   "metadata": {},
   "outputs": [
    {
     "data": {
      "text/plain": [
       "<map at 0x1456dd280>"
      ]
     },
     "execution_count": 33,
     "metadata": {},
     "output_type": "execute_result"
    }
   ],
   "source": [
    "map(lambda x: x[1]**2, dictio.items())"
   ]
  },
  {
   "cell_type": "code",
   "execution_count": 34,
   "id": "9f4807c1",
   "metadata": {},
   "outputs": [
    {
     "data": {
      "text/plain": [
       "[4, 9, 16]"
      ]
     },
     "execution_count": 34,
     "metadata": {},
     "output_type": "execute_result"
    }
   ],
   "source": [
    "list(map(lambda x: x[1]**2, dictio.items()))"
   ]
  },
  {
   "cell_type": "code",
   "execution_count": 38,
   "id": "34739270",
   "metadata": {},
   "outputs": [
    {
     "data": {
      "text/plain": [
       "[('a', 4), ('b', 9), ('c', 16)]"
      ]
     },
     "execution_count": 38,
     "metadata": {},
     "output_type": "execute_result"
    }
   ],
   "source": [
    "list(map(lambda x: (x[0], x[1]**2), dictio.items()))"
   ]
  },
  {
   "cell_type": "code",
   "execution_count": 39,
   "id": "e7223e83",
   "metadata": {},
   "outputs": [
    {
     "data": {
      "text/plain": [
       "{'a': 4, 'b': 9, 'c': 16}"
      ]
     },
     "execution_count": 39,
     "metadata": {},
     "output_type": "execute_result"
    }
   ],
   "source": [
    "dict(map(lambda x: (x[0], x[1]**2), dictio.items()))"
   ]
  },
  {
   "cell_type": "code",
   "execution_count": 41,
   "id": "b7868155",
   "metadata": {},
   "outputs": [],
   "source": [
    "def funcion():\n",
    "    \n",
    "    return 2,3"
   ]
  },
  {
   "cell_type": "code",
   "execution_count": 42,
   "id": "a46eb962",
   "metadata": {},
   "outputs": [
    {
     "data": {
      "text/plain": [
       "(2, 3)"
      ]
     },
     "execution_count": 42,
     "metadata": {},
     "output_type": "execute_result"
    }
   ],
   "source": [
    "funcion()"
   ]
  },
  {
   "cell_type": "code",
   "execution_count": 44,
   "id": "e8d1145f",
   "metadata": {},
   "outputs": [],
   "source": [
    "def funcion2():\n",
    "    \n",
    "    return (2,3)"
   ]
  },
  {
   "cell_type": "code",
   "execution_count": 45,
   "id": "c469388b",
   "metadata": {},
   "outputs": [
    {
     "data": {
      "text/plain": [
       "(2, 3)"
      ]
     },
     "execution_count": 45,
     "metadata": {},
     "output_type": "execute_result"
    }
   ],
   "source": [
    "funcion2()"
   ]
  },
  {
   "cell_type": "markdown",
   "id": "d9a3e801",
   "metadata": {},
   "source": [
    "---"
   ]
  },
  {
   "cell_type": "markdown",
   "id": "9c4eb621",
   "metadata": {},
   "source": [
    "## [Filtering](https://docs.python.org/3.9/library/functions.html#filter)\n",
    "\n",
    "Filtering consists of applying a predicate or Boolean-valued function to an iterable to generate a new iterable. Items in the new iterable are produced by filtering out any items in the original iterable that make the predicate function return false.\n",
    "\n",
    "- The goal of the `filter()` function is to use the function we pass to it to remove elements from our sequence."
   ]
  },
  {
   "cell_type": "code",
   "execution_count": 46,
   "id": "9dc13cb6",
   "metadata": {},
   "outputs": [],
   "source": [
    "def buscar_par(numero):\n",
    "    \n",
    "    if numero%2==0:   # es par\n",
    "        return True\n",
    "    else:\n",
    "        return False"
   ]
  },
  {
   "cell_type": "code",
   "execution_count": 47,
   "id": "44186bac",
   "metadata": {},
   "outputs": [
    {
     "data": {
      "text/plain": [
       "True"
      ]
     },
     "execution_count": 47,
     "metadata": {},
     "output_type": "execute_result"
    }
   ],
   "source": [
    "buscar_par(8)"
   ]
  },
  {
   "cell_type": "code",
   "execution_count": 48,
   "id": "8e5ef87d",
   "metadata": {},
   "outputs": [
    {
     "data": {
      "text/plain": [
       "False"
      ]
     },
     "execution_count": 48,
     "metadata": {},
     "output_type": "execute_result"
    }
   ],
   "source": [
    "buscar_par(3)"
   ]
  },
  {
   "cell_type": "code",
   "execution_count": 49,
   "id": "88aca75d",
   "metadata": {},
   "outputs": [
    {
     "data": {
      "text/plain": [
       "[0, 1, 2, 3, 4, 5, 6, 7, 8, 9]"
      ]
     },
     "execution_count": 49,
     "metadata": {},
     "output_type": "execute_result"
    }
   ],
   "source": [
    "lst[:10]"
   ]
  },
  {
   "cell_type": "code",
   "execution_count": 50,
   "id": "907fdacb",
   "metadata": {},
   "outputs": [
    {
     "name": "stdout",
     "output_type": "stream",
     "text": [
      "CPU times: user 4 µs, sys: 1 µs, total: 5 µs\n",
      "Wall time: 9.06 µs\n"
     ]
    },
    {
     "data": {
      "text/plain": [
       "<filter at 0x1100bae80>"
      ]
     },
     "execution_count": 50,
     "metadata": {},
     "output_type": "execute_result"
    }
   ],
   "source": [
    "%%time\n",
    "\n",
    "#filter(funcion, iterable)\n",
    "\n",
    "filter(buscar_par, lst)"
   ]
  },
  {
   "cell_type": "code",
   "execution_count": 53,
   "id": "195d89fb",
   "metadata": {},
   "outputs": [
    {
     "name": "stdout",
     "output_type": "stream",
     "text": [
      "CPU times: user 531 ms, sys: 16 ms, total: 547 ms\n",
      "Wall time: 545 ms\n"
     ]
    },
    {
     "data": {
      "text/plain": [
       "[0, 2, 4, 6, 8, 10, 12, 14, 16, 18]"
      ]
     },
     "execution_count": 53,
     "metadata": {},
     "output_type": "execute_result"
    }
   ],
   "source": [
    "%%time\n",
    "\n",
    "list(filter(buscar_par, lst))[:10]"
   ]
  },
  {
   "cell_type": "code",
   "execution_count": 54,
   "id": "140f81c1",
   "metadata": {},
   "outputs": [
    {
     "name": "stdout",
     "output_type": "stream",
     "text": [
      "CPU times: user 576 ms, sys: 26.2 ms, total: 602 ms\n",
      "Wall time: 602 ms\n"
     ]
    },
    {
     "data": {
      "text/plain": [
       "[0, 2, 4, 6, 8, 10, 12, 14, 16, 18]"
      ]
     },
     "execution_count": 54,
     "metadata": {},
     "output_type": "execute_result"
    }
   ],
   "source": [
    "%%time\n",
    "\n",
    "res = []\n",
    "\n",
    "for e in  lst:\n",
    "    \n",
    "    if e%2==0:\n",
    "        \n",
    "        res.append(e)\n",
    "    \n",
    "    else:\n",
    "        pass\n",
    "    \n",
    "\n",
    "res[:10]"
   ]
  },
  {
   "cell_type": "code",
   "execution_count": 59,
   "id": "4e71a444",
   "metadata": {},
   "outputs": [
    {
     "name": "stdout",
     "output_type": "stream",
     "text": [
      "CPU times: user 390 ms, sys: 13.7 ms, total: 404 ms\n",
      "Wall time: 402 ms\n"
     ]
    },
    {
     "data": {
      "text/plain": [
       "[1, 3, 5, 7, 9, 11, 13, 15, 17, 19]"
      ]
     },
     "execution_count": 59,
     "metadata": {},
     "output_type": "execute_result"
    }
   ],
   "source": [
    "%%time\n",
    "\n",
    "list(filter(lambda patata: patata%2, lst))[:10]  # cuando es impar"
   ]
  },
  {
   "cell_type": "code",
   "execution_count": 60,
   "id": "41278aad",
   "metadata": {},
   "outputs": [
    {
     "name": "stdout",
     "output_type": "stream",
     "text": [
      "CPU times: user 436 ms, sys: 13.8 ms, total: 450 ms\n",
      "Wall time: 449 ms\n"
     ]
    },
    {
     "data": {
      "text/plain": [
       "[0, 2, 4, 6, 8, 10, 12, 14, 16, 18]"
      ]
     },
     "execution_count": 60,
     "metadata": {},
     "output_type": "execute_result"
    }
   ],
   "source": [
    "%%time\n",
    "\n",
    "list(filter(lambda patata: patata%2==0, lst))[:10]  # cuando es par"
   ]
  },
  {
   "cell_type": "code",
   "execution_count": 55,
   "id": "c2b2e031",
   "metadata": {},
   "outputs": [
    {
     "data": {
      "text/plain": [
       "1"
      ]
     },
     "execution_count": 55,
     "metadata": {},
     "output_type": "execute_result"
    }
   ],
   "source": [
    "3%2"
   ]
  },
  {
   "cell_type": "code",
   "execution_count": 61,
   "id": "98aaa105",
   "metadata": {},
   "outputs": [],
   "source": [
    "# formato json\n",
    "\n",
    "hoteles=[\n",
    "    \n",
    "    {'name':'Ritz', 'hasPool':True, 'stars':5},\n",
    "    \n",
    "    {'name':'Pension Lola', 'hasPool':True, 'stars':2},\n",
    "    \n",
    "    {'name':'Roma Norte', 'hasPool':False, 'stars':3},\n",
    "    \n",
    "    {'name':'Palace', 'hasPool':True, 'stars':4},\n",
    "]"
   ]
  },
  {
   "cell_type": "code",
   "execution_count": 64,
   "id": "8625034e",
   "metadata": {},
   "outputs": [
    {
     "data": {
      "text/plain": [
       "list"
      ]
     },
     "execution_count": 64,
     "metadata": {},
     "output_type": "execute_result"
    }
   ],
   "source": [
    "type(hoteles)"
   ]
  },
  {
   "cell_type": "code",
   "execution_count": 62,
   "id": "51a67f88",
   "metadata": {},
   "outputs": [
    {
     "data": {
      "text/plain": [
       "[{'name': 'Pension Lola', 'hasPool': True, 'stars': 2}]"
      ]
     },
     "execution_count": 62,
     "metadata": {},
     "output_type": "execute_result"
    }
   ],
   "source": [
    "# menos de 3 estrellas\n",
    "\n",
    "# aqui en la lambda, x es el dictio\n",
    "\n",
    "list(filter(lambda x: x['stars']<3, hoteles))"
   ]
  },
  {
   "cell_type": "code",
   "execution_count": 63,
   "id": "a7015d64",
   "metadata": {},
   "outputs": [
    {
     "data": {
      "text/plain": [
       "[{'name': 'Ritz', 'hasPool': True, 'stars': 5},\n",
       " {'name': 'Palace', 'hasPool': True, 'stars': 4}]"
      ]
     },
     "execution_count": 63,
     "metadata": {},
     "output_type": "execute_result"
    }
   ],
   "source": [
    "# mas de 3 estrellas\n",
    "\n",
    "list(filter(lambda x: x['stars']>3, hoteles))"
   ]
  },
  {
   "cell_type": "code",
   "execution_count": 66,
   "id": "0eead627",
   "metadata": {},
   "outputs": [
    {
     "data": {
      "text/plain": [
       "True"
      ]
     },
     "execution_count": 66,
     "metadata": {},
     "output_type": "execute_result"
    }
   ],
   "source": [
    "(lambda x: x['stars']>3)({'name':'Palace', 'hasPool':True, 'stars':4})"
   ]
  },
  {
   "cell_type": "code",
   "execution_count": 68,
   "id": "b4bd79e1",
   "metadata": {},
   "outputs": [
    {
     "data": {
      "text/plain": [
       "[{'name': 'Pension Lola', 'hasPool': True, 'stars': 2}]"
      ]
     },
     "execution_count": 68,
     "metadata": {},
     "output_type": "execute_result"
    }
   ],
   "source": [
    "# menos de 3 estrellas y con piscina (multifiltro)\n",
    "\n",
    "list(filter(lambda x: x['stars']<3 and x['hasPool'], hoteles))"
   ]
  },
  {
   "cell_type": "code",
   "execution_count": 69,
   "id": "c932e016",
   "metadata": {},
   "outputs": [
    {
     "data": {
      "text/plain": [
       "[{'name': 'Ritz', 'hasPool': True, 'stars': 5}]"
      ]
     },
     "execution_count": 69,
     "metadata": {},
     "output_type": "execute_result"
    }
   ],
   "source": [
    "list(filter(lambda x: x['stars']>3 and x['hasPool'] and x['name']=='Ritz', hoteles))"
   ]
  },
  {
   "cell_type": "code",
   "execution_count": 71,
   "id": "cd26aeef",
   "metadata": {},
   "outputs": [
    {
     "ename": "KeyError",
     "evalue": "'d'",
     "output_type": "error",
     "traceback": [
      "\u001b[0;31m---------------------------------------------------------------------------\u001b[0m",
      "\u001b[0;31mKeyError\u001b[0m                                  Traceback (most recent call last)",
      "Cell \u001b[0;32mIn[71], line 1\u001b[0m\n\u001b[0;32m----> 1\u001b[0m \u001b[43mdictio\u001b[49m\u001b[43m[\u001b[49m\u001b[38;5;124;43m'\u001b[39;49m\u001b[38;5;124;43md\u001b[39;49m\u001b[38;5;124;43m'\u001b[39;49m\u001b[43m]\u001b[49m\n",
      "\u001b[0;31mKeyError\u001b[0m: 'd'"
     ]
    }
   ],
   "source": [
    "dictio['d']"
   ]
  },
  {
   "cell_type": "code",
   "execution_count": 72,
   "id": "2ff2721c",
   "metadata": {},
   "outputs": [
    {
     "data": {
      "text/plain": [
       "20"
      ]
     },
     "execution_count": 72,
     "metadata": {},
     "output_type": "execute_result"
    }
   ],
   "source": [
    "dictio.get('d', 20)"
   ]
  },
  {
   "cell_type": "code",
   "execution_count": 73,
   "id": "109d89da",
   "metadata": {},
   "outputs": [
    {
     "data": {
      "text/plain": [
       "2"
      ]
     },
     "execution_count": 73,
     "metadata": {},
     "output_type": "execute_result"
    }
   ],
   "source": [
    "dictio.get('a', 20)"
   ]
  },
  {
   "cell_type": "code",
   "execution_count": 74,
   "id": "2ded2280",
   "metadata": {},
   "outputs": [
    {
     "data": {
      "text/plain": [
       "[{'name': 'Ritz', 'hasPool': True, 'stars': 5},\n",
       " {'name': 'Palace', 'hasPool': True, 'stars': 4}]"
      ]
     },
     "execution_count": 74,
     "metadata": {},
     "output_type": "execute_result"
    }
   ],
   "source": [
    "list(filter(lambda x: x.get('stars', 0)>3, hoteles))"
   ]
  },
  {
   "cell_type": "code",
   "execution_count": 78,
   "id": "b0548f87",
   "metadata": {},
   "outputs": [
    {
     "data": {
      "text/plain": [
       "[{'name': 'Ritz', 'hasPool': True, 'stars': 5},\n",
       " {'name': 'Pension Lola', 'hasPool': True, 'stars': 2},\n",
       " {'name': 'Roma Norte', 'hasPool': False, 'stars': 3},\n",
       " {'name': 'Palace', 'hasPool': True, 'stars': 4}]"
      ]
     },
     "execution_count": 78,
     "metadata": {},
     "output_type": "execute_result"
    }
   ],
   "source": [
    "list(filter(lambda x: x.get('hola', 10)>3, hoteles))"
   ]
  },
  {
   "cell_type": "markdown",
   "id": "504fe4ed",
   "metadata": {},
   "source": [
    "---"
   ]
  },
  {
   "cell_type": "markdown",
   "id": "6597bd3c",
   "metadata": {},
   "source": [
    "## [Reducing](https://docs.python.org/3.9/library/functools.html#module-functools#reduce)\n",
    "\n",
    "Reducing consists of applying a reduction function to an iterable to produce a single cumulative value.\n",
    "\n",
    "- The goal of the `reduce()` function is to aggregate all elements in a sequence."
   ]
  },
  {
   "cell_type": "markdown",
   "id": "c0449ba1",
   "metadata": {},
   "source": [
    "MapReduce is a programming model and an associated implementation for processing and generating big data sets with a parallel, distributed algorithm on a cluster."
   ]
  },
  {
   "cell_type": "code",
   "execution_count": 79,
   "id": "3874bdd6",
   "metadata": {},
   "outputs": [],
   "source": [
    "from functools import reduce"
   ]
  },
  {
   "cell_type": "code",
   "execution_count": 80,
   "id": "94d43faa",
   "metadata": {},
   "outputs": [
    {
     "data": {
      "text/plain": [
       "<function _functools.reduce>"
      ]
     },
     "execution_count": 80,
     "metadata": {},
     "output_type": "execute_result"
    }
   ],
   "source": [
    "reduce"
   ]
  },
  {
   "cell_type": "code",
   "execution_count": 81,
   "id": "06524cf6",
   "metadata": {},
   "outputs": [],
   "source": [
    "# lambda a,b: a+b\n",
    "\n",
    "\n",
    "def sumar(a, b):\n",
    "    \n",
    "    print(a, b)\n",
    "    \n",
    "    return a+b"
   ]
  },
  {
   "cell_type": "code",
   "execution_count": 82,
   "id": "d7c6a31b",
   "metadata": {},
   "outputs": [
    {
     "name": "stdout",
     "output_type": "stream",
     "text": [
      "2 3\n"
     ]
    },
    {
     "data": {
      "text/plain": [
       "5"
      ]
     },
     "execution_count": 82,
     "metadata": {},
     "output_type": "execute_result"
    }
   ],
   "source": [
    "sumar(2, 3)"
   ]
  },
  {
   "cell_type": "code",
   "execution_count": 83,
   "id": "af6339fc",
   "metadata": {},
   "outputs": [
    {
     "data": {
      "text/plain": [
       "[0, 1, 2, 3, 4, 5, 6, 7, 8, 9]"
      ]
     },
     "execution_count": 83,
     "metadata": {},
     "output_type": "execute_result"
    }
   ],
   "source": [
    "lst[:10]"
   ]
  },
  {
   "cell_type": "code",
   "execution_count": 84,
   "id": "28bbdbe4",
   "metadata": {},
   "outputs": [
    {
     "name": "stdout",
     "output_type": "stream",
     "text": [
      "0 1\n",
      "1 2\n",
      "3 3\n",
      "6 4\n",
      "10 5\n",
      "15 6\n",
      "21 7\n",
      "28 8\n",
      "36 9\n"
     ]
    },
    {
     "data": {
      "text/plain": [
       "45"
      ]
     },
     "execution_count": 84,
     "metadata": {},
     "output_type": "execute_result"
    }
   ],
   "source": [
    "reduce(sumar, lst[:10])"
   ]
  },
  {
   "cell_type": "code",
   "execution_count": 85,
   "id": "967ed4b1",
   "metadata": {},
   "outputs": [
    {
     "data": {
      "text/plain": [
       "45"
      ]
     },
     "execution_count": 85,
     "metadata": {},
     "output_type": "execute_result"
    }
   ],
   "source": [
    "sum(lst[:10])"
   ]
  },
  {
   "cell_type": "code",
   "execution_count": 86,
   "id": "aa341505",
   "metadata": {},
   "outputs": [
    {
     "ename": "NameError",
     "evalue": "name 'prod' is not defined",
     "output_type": "error",
     "traceback": [
      "\u001b[0;31m---------------------------------------------------------------------------\u001b[0m",
      "\u001b[0;31mNameError\u001b[0m                                 Traceback (most recent call last)",
      "Cell \u001b[0;32mIn[86], line 1\u001b[0m\n\u001b[0;32m----> 1\u001b[0m \u001b[43mprod\u001b[49m\n",
      "\u001b[0;31mNameError\u001b[0m: name 'prod' is not defined"
     ]
    }
   ],
   "source": [
    "prod"
   ]
  },
  {
   "cell_type": "code",
   "execution_count": 87,
   "id": "737657c8",
   "metadata": {},
   "outputs": [],
   "source": [
    "def producto(a, b):\n",
    "    \n",
    "    print(a, b)\n",
    "    \n",
    "    return a*b"
   ]
  },
  {
   "cell_type": "code",
   "execution_count": 88,
   "id": "4464ad3c",
   "metadata": {},
   "outputs": [
    {
     "name": "stdout",
     "output_type": "stream",
     "text": [
      "1 2\n",
      "2 3\n",
      "6 4\n",
      "24 5\n",
      "120 6\n",
      "720 7\n",
      "5040 8\n",
      "40320 9\n"
     ]
    },
    {
     "data": {
      "text/plain": [
       "362880"
      ]
     },
     "execution_count": 88,
     "metadata": {},
     "output_type": "execute_result"
    }
   ],
   "source": [
    "reduce(producto, lst[1:10])"
   ]
  },
  {
   "cell_type": "code",
   "execution_count": 89,
   "id": "2d40ae60",
   "metadata": {},
   "outputs": [
    {
     "name": "stdout",
     "output_type": "stream",
     "text": [
      "1 2\n",
      "2 3\n",
      "6 4\n",
      "24 5\n",
      "120 6\n",
      "720 7\n",
      "5040 8\n",
      "40320 9\n"
     ]
    }
   ],
   "source": [
    "numero_prod = reduce(producto, lst[1:10])"
   ]
  },
  {
   "cell_type": "code",
   "execution_count": 90,
   "id": "4c899400",
   "metadata": {},
   "outputs": [
    {
     "data": {
      "text/plain": [
       "362880"
      ]
     },
     "execution_count": 90,
     "metadata": {},
     "output_type": "execute_result"
    }
   ],
   "source": [
    "numero_prod"
   ]
  },
  {
   "cell_type": "code",
   "execution_count": 92,
   "id": "4d32368f",
   "metadata": {},
   "outputs": [
    {
     "name": "stdout",
     "output_type": "stream",
     "text": [
      "1\n",
      "1\n",
      "2\n",
      "6\n",
      "24\n",
      "120\n",
      "720\n",
      "5040\n",
      "40320\n"
     ]
    },
    {
     "data": {
      "text/plain": [
       "362880"
      ]
     },
     "execution_count": 92,
     "metadata": {},
     "output_type": "execute_result"
    }
   ],
   "source": [
    "res = 1\n",
    "\n",
    "for e in lst[1:10]:\n",
    "    \n",
    "    print(res)\n",
    "    \n",
    "    res *= e   # res = res * e\n",
    "    \n",
    "res"
   ]
  },
  {
   "cell_type": "code",
   "execution_count": 93,
   "id": "352b665a",
   "metadata": {},
   "outputs": [
    {
     "data": {
      "text/plain": [
       "3"
      ]
     },
     "execution_count": 93,
     "metadata": {},
     "output_type": "execute_result"
    }
   ],
   "source": [
    "lst_lst = [[1,2,3], [4,5,6], [7,8,9]]\n",
    "\n",
    "\n",
    "len(lst_lst)"
   ]
  },
  {
   "cell_type": "code",
   "execution_count": 94,
   "id": "91cc81ab",
   "metadata": {},
   "outputs": [
    {
     "data": {
      "text/plain": [
       "[1, 2, 3, 4, 5, 6, 7, 8, 9]"
      ]
     },
     "execution_count": 94,
     "metadata": {},
     "output_type": "execute_result"
    }
   ],
   "source": [
    "# lista con 9 elementos\n",
    "\n",
    "reduce(lambda a,b: a+b, lst_lst)  # flatten"
   ]
  },
  {
   "cell_type": "code",
   "execution_count": 95,
   "id": "708e76bf",
   "metadata": {},
   "outputs": [
    {
     "name": "stdout",
     "output_type": "stream",
     "text": [
      "[1, 2, 3] [4, 5, 6]\n",
      "[1, 2, 3, 4, 5, 6] [7, 8, 9]\n"
     ]
    },
    {
     "data": {
      "text/plain": [
       "[1, 2, 3, 4, 5, 6, 7, 8, 9]"
      ]
     },
     "execution_count": 95,
     "metadata": {},
     "output_type": "execute_result"
    }
   ],
   "source": [
    "reduce(sumar, lst_lst)  # flatten"
   ]
  },
  {
   "cell_type": "code",
   "execution_count": 96,
   "id": "3616255c",
   "metadata": {},
   "outputs": [
    {
     "ename": "TypeError",
     "evalue": "<lambda>() missing 1 required positional argument: 'c'",
     "output_type": "error",
     "traceback": [
      "\u001b[0;31m---------------------------------------------------------------------------\u001b[0m",
      "\u001b[0;31mTypeError\u001b[0m                                 Traceback (most recent call last)",
      "Cell \u001b[0;32mIn[96], line 1\u001b[0m\n\u001b[0;32m----> 1\u001b[0m \u001b[43mreduce\u001b[49m\u001b[43m(\u001b[49m\u001b[38;5;28;43;01mlambda\u001b[39;49;00m\u001b[43m \u001b[49m\u001b[43ma\u001b[49m\u001b[43m,\u001b[49m\u001b[43mb\u001b[49m\u001b[43m,\u001b[49m\u001b[43mc\u001b[49m\u001b[43m:\u001b[49m\u001b[43m \u001b[49m\u001b[43ma\u001b[49m\u001b[38;5;241;43m+\u001b[39;49m\u001b[43mb\u001b[49m\u001b[38;5;241;43m+\u001b[39;49m\u001b[43mc\u001b[49m\u001b[43m,\u001b[49m\u001b[43m \u001b[49m\u001b[43mlst_lst\u001b[49m\u001b[43m)\u001b[49m  \u001b[38;5;66;03m# flatten\u001b[39;00m\n",
      "\u001b[0;31mTypeError\u001b[0m: <lambda>() missing 1 required positional argument: 'c'"
     ]
    }
   ],
   "source": [
    "reduce(lambda a,b,c: a+b+c, lst_lst)  "
   ]
  },
  {
   "cell_type": "code",
   "execution_count": null,
   "id": "165f0385",
   "metadata": {},
   "outputs": [],
   "source": []
  }
 ],
 "metadata": {
  "kernelspec": {
   "display_name": "Python 3 (ipykernel)",
   "language": "python",
   "name": "python3"
  },
  "language_info": {
   "codemirror_mode": {
    "name": "ipython",
    "version": 3
   },
   "file_extension": ".py",
   "mimetype": "text/x-python",
   "name": "python",
   "nbconvert_exporter": "python",
   "pygments_lexer": "ipython3",
   "version": "3.9.12"
  }
 },
 "nbformat": 4,
 "nbformat_minor": 5
}
