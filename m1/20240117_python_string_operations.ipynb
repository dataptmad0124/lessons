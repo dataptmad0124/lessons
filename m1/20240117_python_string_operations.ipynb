{
 "cells": [
  {
   "cell_type": "markdown",
   "id": "ef4c80a6",
   "metadata": {},
   "source": [
    "# String Operations\n",
    "\n",
    "- __Common operations__\n",
    "    \n",
    "- __Slicing__\n",
    "    \n",
    "- __Regular Expressions__ (https://regex101.com/)"
   ]
  },
  {
   "cell_type": "code",
   "execution_count": 1,
   "id": "181d3c3a",
   "metadata": {},
   "outputs": [
    {
     "name": "stdout",
     "output_type": "stream",
     "text": [
      "Ironhack\n"
     ]
    }
   ],
   "source": [
    "empresa = 'Ironhack'\n",
    "\n",
    "print(empresa)"
   ]
  },
  {
   "cell_type": "code",
   "execution_count": 4,
   "id": "b374c79a",
   "metadata": {},
   "outputs": [
    {
     "data": {
      "text/plain": [
       "'Ironhack'"
      ]
     },
     "execution_count": 4,
     "metadata": {},
     "output_type": "execute_result"
    }
   ],
   "source": [
    "\"Ironhack\""
   ]
  },
  {
   "cell_type": "code",
   "execution_count": 5,
   "id": "f9cbaf83",
   "metadata": {},
   "outputs": [
    {
     "ename": "SyntaxError",
     "evalue": "invalid syntax (790176668.py, line 1)",
     "output_type": "error",
     "traceback": [
      "\u001b[0;36m  Cell \u001b[0;32mIn[5], line 1\u001b[0;36m\u001b[0m\n\u001b[0;31m    'Moe's'\u001b[0m\n\u001b[0m         ^\u001b[0m\n\u001b[0;31mSyntaxError\u001b[0m\u001b[0;31m:\u001b[0m invalid syntax\n"
     ]
    }
   ],
   "source": [
    "'Moe's'"
   ]
  },
  {
   "cell_type": "code",
   "execution_count": 6,
   "id": "c5604744",
   "metadata": {},
   "outputs": [
    {
     "data": {
      "text/plain": [
       "\"Moe's\""
      ]
     },
     "execution_count": 6,
     "metadata": {},
     "output_type": "execute_result"
    }
   ],
   "source": [
    "\"Moe's\""
   ]
  },
  {
   "cell_type": "code",
   "execution_count": 7,
   "id": "c059911a",
   "metadata": {},
   "outputs": [
    {
     "ename": "SyntaxError",
     "evalue": "EOL while scanning string literal (1160573436.py, line 1)",
     "output_type": "error",
     "traceback": [
      "\u001b[0;36m  Cell \u001b[0;32mIn[7], line 1\u001b[0;36m\u001b[0m\n\u001b[0;31m    \"2\"\"\u001b[0m\n\u001b[0m        ^\u001b[0m\n\u001b[0;31mSyntaxError\u001b[0m\u001b[0;31m:\u001b[0m EOL while scanning string literal\n"
     ]
    }
   ],
   "source": [
    "\"2\"\""
   ]
  },
  {
   "cell_type": "code",
   "execution_count": 8,
   "id": "c7b26d10",
   "metadata": {},
   "outputs": [
    {
     "data": {
      "text/plain": [
       "'2\"'"
      ]
     },
     "execution_count": 8,
     "metadata": {},
     "output_type": "execute_result"
    }
   ],
   "source": [
    "'2\"'"
   ]
  },
  {
   "cell_type": "code",
   "execution_count": 10,
   "id": "c9e598c7",
   "metadata": {},
   "outputs": [
    {
     "data": {
      "text/plain": [
       "str"
      ]
     },
     "execution_count": 10,
     "metadata": {},
     "output_type": "execute_result"
    }
   ],
   "source": [
    "type(empresa)"
   ]
  },
  {
   "cell_type": "markdown",
   "id": "28dd60ed",
   "metadata": {},
   "source": [
    "### Concatenate strings"
   ]
  },
  {
   "cell_type": "code",
   "execution_count": 11,
   "id": "588af5dd",
   "metadata": {},
   "outputs": [
    {
     "data": {
      "text/plain": [
       "'Hola que tal?'"
      ]
     },
     "execution_count": 11,
     "metadata": {},
     "output_type": "execute_result"
    }
   ],
   "source": [
    "'Hola' + ' ' + 'que tal?'"
   ]
  },
  {
   "cell_type": "code",
   "execution_count": 12,
   "id": "581baca5",
   "metadata": {},
   "outputs": [
    {
     "data": {
      "text/plain": [
       "'38'"
      ]
     },
     "execution_count": 12,
     "metadata": {},
     "output_type": "execute_result"
    }
   ],
   "source": [
    "'3' + '8'"
   ]
  },
  {
   "cell_type": "code",
   "execution_count": 14,
   "id": "8d411dc6",
   "metadata": {},
   "outputs": [
    {
     "data": {
      "text/plain": [
       "38"
      ]
     },
     "execution_count": 14,
     "metadata": {},
     "output_type": "execute_result"
    }
   ],
   "source": [
    "var = '3' + '8'\n",
    "\n",
    "int(var)"
   ]
  },
  {
   "cell_type": "code",
   "execution_count": 15,
   "id": "260ea92e",
   "metadata": {},
   "outputs": [
    {
     "data": {
      "text/plain": [
       "'DataDataDataData'"
      ]
     },
     "execution_count": 15,
     "metadata": {},
     "output_type": "execute_result"
    }
   ],
   "source": [
    "'Data' * 4"
   ]
  },
  {
   "cell_type": "code",
   "execution_count": 16,
   "id": "e0d748d7",
   "metadata": {},
   "outputs": [
    {
     "ename": "TypeError",
     "evalue": "unsupported operand type(s) for -: 'str' and 'str'",
     "output_type": "error",
     "traceback": [
      "\u001b[0;31m---------------------------------------------------------------------------\u001b[0m",
      "\u001b[0;31mTypeError\u001b[0m                                 Traceback (most recent call last)",
      "Cell \u001b[0;32mIn[16], line 1\u001b[0m\n\u001b[0;32m----> 1\u001b[0m \u001b[38;5;124;43m'\u001b[39;49m\u001b[38;5;124;43mhola\u001b[39;49m\u001b[38;5;124;43m'\u001b[39;49m\u001b[43m \u001b[49m\u001b[38;5;241;43m-\u001b[39;49m\u001b[43m \u001b[49m\u001b[38;5;124;43m'\u001b[39;49m\u001b[38;5;124;43mh\u001b[39;49m\u001b[38;5;124;43m'\u001b[39;49m\n",
      "\u001b[0;31mTypeError\u001b[0m: unsupported operand type(s) for -: 'str' and 'str'"
     ]
    }
   ],
   "source": [
    "'hola' - 'h'"
   ]
  },
  {
   "cell_type": "code",
   "execution_count": 17,
   "id": "b36c8daf",
   "metadata": {},
   "outputs": [
    {
     "ename": "TypeError",
     "evalue": "unsupported operand type(s) for /: 'str' and 'int'",
     "output_type": "error",
     "traceback": [
      "\u001b[0;31m---------------------------------------------------------------------------\u001b[0m",
      "\u001b[0;31mTypeError\u001b[0m                                 Traceback (most recent call last)",
      "Cell \u001b[0;32mIn[17], line 1\u001b[0m\n\u001b[0;32m----> 1\u001b[0m \u001b[38;5;124;43m'\u001b[39;49m\u001b[38;5;124;43mhola\u001b[39;49m\u001b[38;5;124;43m'\u001b[39;49m\u001b[43m \u001b[49m\u001b[38;5;241;43m/\u001b[39;49m\u001b[43m \u001b[49m\u001b[38;5;241;43m2\u001b[39;49m\n",
      "\u001b[0;31mTypeError\u001b[0m: unsupported operand type(s) for /: 'str' and 'int'"
     ]
    }
   ],
   "source": [
    "'hola' / 2"
   ]
  },
  {
   "cell_type": "code",
   "execution_count": 18,
   "id": "fb028857",
   "metadata": {},
   "outputs": [
    {
     "data": {
      "text/plain": [
       "450.0"
      ]
     },
     "execution_count": 18,
     "metadata": {},
     "output_type": "execute_result"
    }
   ],
   "source": [
    "numero = 900  # numero entero\n",
    "\n",
    "numero / 2"
   ]
  },
  {
   "cell_type": "code",
   "execution_count": 19,
   "id": "7b668814",
   "metadata": {},
   "outputs": [
    {
     "data": {
      "text/plain": [
       "'Oye alegre, me debes pastuki. Son 900'"
      ]
     },
     "execution_count": 19,
     "metadata": {},
     "output_type": "execute_result"
    }
   ],
   "source": [
    "'Oye alegre, me debes pastuki. Son {}'.format(numero)   # python2"
   ]
  },
  {
   "cell_type": "code",
   "execution_count": 20,
   "id": "fdc15f03",
   "metadata": {},
   "outputs": [
    {
     "data": {
      "text/plain": [
       "'Oye alegre, me debes pastuki. Son 900'"
      ]
     },
     "execution_count": 20,
     "metadata": {},
     "output_type": "execute_result"
    }
   ],
   "source": [
    "f'Oye alegre, me debes pastuki. Son {numero}'"
   ]
  },
  {
   "cell_type": "code",
   "execution_count": 22,
   "id": "718f1ee0",
   "metadata": {},
   "outputs": [
    {
     "data": {
      "text/plain": [
       "'Oye alegre, me debes pastuki. Son 5.75'"
      ]
     },
     "execution_count": 22,
     "metadata": {},
     "output_type": "execute_result"
    }
   ],
   "source": [
    "numero = 23/4\n",
    "\n",
    "\n",
    "f'Oye alegre, me debes pastuki. Son {numero}'"
   ]
  },
  {
   "cell_type": "code",
   "execution_count": 24,
   "id": "eb483876",
   "metadata": {},
   "outputs": [
    {
     "data": {
      "text/plain": [
       "'Esto es una lista: [1, 2, 3, 4, 5]'"
      ]
     },
     "execution_count": 24,
     "metadata": {},
     "output_type": "execute_result"
    }
   ],
   "source": [
    "lista = [1,2,3,4,5]\n",
    "\n",
    "f'Esto es una lista: {lista}'"
   ]
  },
  {
   "cell_type": "code",
   "execution_count": 25,
   "id": "eca8e613",
   "metadata": {},
   "outputs": [],
   "source": [
    "nombre = 'Ana'\n",
    "\n",
    "edad = 45\n",
    "\n",
    "ciudad = 'Madrid'"
   ]
  },
  {
   "cell_type": "code",
   "execution_count": 26,
   "id": "4393dc4f",
   "metadata": {},
   "outputs": [
    {
     "data": {
      "text/plain": [
       "'Ana tiene 45 años y vive en Madrid'"
      ]
     },
     "execution_count": 26,
     "metadata": {},
     "output_type": "execute_result"
    }
   ],
   "source": [
    "f'{nombre} tiene {edad} años y vive en {ciudad}'"
   ]
  },
  {
   "cell_type": "markdown",
   "id": "5afc167e",
   "metadata": {},
   "source": [
    "### .join()"
   ]
  },
  {
   "cell_type": "code",
   "execution_count": 27,
   "id": "93e4295a",
   "metadata": {},
   "outputs": [
    {
     "data": {
      "text/plain": [
       "['nombre', ' ', 'hola', ' ', 'ññññññññ', 'jasoknfdos', '🐶', '👺']"
      ]
     },
     "execution_count": 27,
     "metadata": {},
     "output_type": "execute_result"
    }
   ],
   "source": [
    "lista = ['nombre', ' ', 'hola', ' ', 'ññññññññ', 'jasoknfdos', '🐶', '👺']\n",
    "\n",
    "lista"
   ]
  },
  {
   "cell_type": "code",
   "execution_count": 28,
   "id": "12eae81e",
   "metadata": {},
   "outputs": [
    {
     "data": {
      "text/plain": [
       "'nombre_ _hola_ _ññññññññ_jasoknfdos_🐶_👺'"
      ]
     },
     "execution_count": 28,
     "metadata": {},
     "output_type": "execute_result"
    }
   ],
   "source": [
    "'_'.join(lista)"
   ]
  },
  {
   "cell_type": "code",
   "execution_count": 29,
   "id": "5a199efe",
   "metadata": {},
   "outputs": [
    {
     "data": {
      "text/plain": [
       "['nombre', 'hola', '🐶', '👺']"
      ]
     },
     "execution_count": 29,
     "metadata": {},
     "output_type": "execute_result"
    }
   ],
   "source": [
    "lista = ['nombre', 'hola', '🐶', '👺']\n",
    "\n",
    "lista"
   ]
  },
  {
   "cell_type": "code",
   "execution_count": 31,
   "id": "6f593d87",
   "metadata": {},
   "outputs": [
    {
     "data": {
      "text/plain": [
       "'nombre hola 🐶 👺'"
      ]
     },
     "execution_count": 31,
     "metadata": {},
     "output_type": "execute_result"
    }
   ],
   "source": [
    "' '.join(lista)"
   ]
  },
  {
   "cell_type": "code",
   "execution_count": 32,
   "id": "95fc5e6a",
   "metadata": {},
   "outputs": [
    {
     "data": {
      "text/plain": [
       "'nombre✅hola✅🐶✅👺'"
      ]
     },
     "execution_count": 32,
     "metadata": {},
     "output_type": "execute_result"
    }
   ],
   "source": [
    "'✅'.join(lista)"
   ]
  },
  {
   "cell_type": "code",
   "execution_count": 35,
   "id": "475d507f",
   "metadata": {},
   "outputs": [
    {
     "data": {
      "text/plain": [
       "['nombre', 'hola', '🐶', '👺', '2', '3']"
      ]
     },
     "execution_count": 35,
     "metadata": {},
     "output_type": "execute_result"
    }
   ],
   "source": [
    "lista = ['nombre', 'hola', '🐶', '👺', '2', str(3)]\n",
    "\n",
    "lista"
   ]
  },
  {
   "cell_type": "code",
   "execution_count": 36,
   "id": "3bfaf09d",
   "metadata": {},
   "outputs": [
    {
     "data": {
      "text/plain": [
       "'nombre✅hola✅🐶✅👺✅2✅3'"
      ]
     },
     "execution_count": 36,
     "metadata": {},
     "output_type": "execute_result"
    }
   ],
   "source": [
    "'✅'.join(lista)"
   ]
  },
  {
   "cell_type": "code",
   "execution_count": 37,
   "id": "e16515d7",
   "metadata": {},
   "outputs": [
    {
     "ename": "TypeError",
     "evalue": "sequence item 4: expected str instance, int found",
     "output_type": "error",
     "traceback": [
      "\u001b[0;31m---------------------------------------------------------------------------\u001b[0m",
      "\u001b[0;31mTypeError\u001b[0m                                 Traceback (most recent call last)",
      "Cell \u001b[0;32mIn[37], line 3\u001b[0m\n\u001b[1;32m      1\u001b[0m lista \u001b[38;5;241m=\u001b[39m [\u001b[38;5;124m'\u001b[39m\u001b[38;5;124mnombre\u001b[39m\u001b[38;5;124m'\u001b[39m, \u001b[38;5;124m'\u001b[39m\u001b[38;5;124mhola\u001b[39m\u001b[38;5;124m'\u001b[39m, \u001b[38;5;124m'\u001b[39m\u001b[38;5;124m🐶\u001b[39m\u001b[38;5;124m'\u001b[39m, \u001b[38;5;124m'\u001b[39m\u001b[38;5;124m👺\u001b[39m\u001b[38;5;124m'\u001b[39m, \u001b[38;5;241m2\u001b[39m, \u001b[38;5;241m3\u001b[39m]\n\u001b[0;32m----> 3\u001b[0m \u001b[38;5;124;43m'\u001b[39;49m\u001b[38;5;124;43m✅\u001b[39;49m\u001b[38;5;124;43m'\u001b[39;49m\u001b[38;5;241;43m.\u001b[39;49m\u001b[43mjoin\u001b[49m\u001b[43m(\u001b[49m\u001b[43mlista\u001b[49m\u001b[43m)\u001b[49m\n",
      "\u001b[0;31mTypeError\u001b[0m: sequence item 4: expected str instance, int found"
     ]
    }
   ],
   "source": [
    "lista = ['nombre', 'hola', '🐶', '👺', 2, 3]\n",
    "\n",
    "'✅'.join(lista)"
   ]
  },
  {
   "cell_type": "code",
   "execution_count": 39,
   "id": "f1bbb64d",
   "metadata": {},
   "outputs": [
    {
     "ename": "TypeError",
     "evalue": "can only concatenate str (not \"int\") to str",
     "output_type": "error",
     "traceback": [
      "\u001b[0;31m---------------------------------------------------------------------------\u001b[0m",
      "\u001b[0;31mTypeError\u001b[0m                                 Traceback (most recent call last)",
      "Cell \u001b[0;32mIn[39], line 1\u001b[0m\n\u001b[0;32m----> 1\u001b[0m \u001b[38;5;124;43m'\u001b[39;49m\u001b[38;5;124;43mhola\u001b[39;49m\u001b[38;5;124;43m'\u001b[39;49m\u001b[43m \u001b[49m\u001b[38;5;241;43m+\u001b[39;49m\u001b[43m \u001b[49m\u001b[38;5;241;43m2\u001b[39;49m\n",
      "\u001b[0;31mTypeError\u001b[0m: can only concatenate str (not \"int\") to str"
     ]
    }
   ],
   "source": [
    "'hola' + 2"
   ]
  },
  {
   "cell_type": "code",
   "execution_count": 40,
   "id": "74ccf471",
   "metadata": {},
   "outputs": [
    {
     "ename": "TypeError",
     "evalue": "sequence item 4: expected str instance, bool found",
     "output_type": "error",
     "traceback": [
      "\u001b[0;31m---------------------------------------------------------------------------\u001b[0m",
      "\u001b[0;31mTypeError\u001b[0m                                 Traceback (most recent call last)",
      "Cell \u001b[0;32mIn[40], line 3\u001b[0m\n\u001b[1;32m      1\u001b[0m lista \u001b[38;5;241m=\u001b[39m [\u001b[38;5;124m'\u001b[39m\u001b[38;5;124mnombre\u001b[39m\u001b[38;5;124m'\u001b[39m, \u001b[38;5;124m'\u001b[39m\u001b[38;5;124mhola\u001b[39m\u001b[38;5;124m'\u001b[39m, \u001b[38;5;124m'\u001b[39m\u001b[38;5;124m🐶\u001b[39m\u001b[38;5;124m'\u001b[39m, \u001b[38;5;124m'\u001b[39m\u001b[38;5;124m👺\u001b[39m\u001b[38;5;124m'\u001b[39m, \u001b[38;5;28;01mTrue\u001b[39;00m, \u001b[38;5;28;01mFalse\u001b[39;00m]\n\u001b[0;32m----> 3\u001b[0m \u001b[38;5;124;43m'\u001b[39;49m\u001b[38;5;124;43m✅\u001b[39;49m\u001b[38;5;124;43m'\u001b[39;49m\u001b[38;5;241;43m.\u001b[39;49m\u001b[43mjoin\u001b[49m\u001b[43m(\u001b[49m\u001b[43mlista\u001b[49m\u001b[43m)\u001b[49m\n",
      "\u001b[0;31mTypeError\u001b[0m: sequence item 4: expected str instance, bool found"
     ]
    }
   ],
   "source": [
    "lista = ['nombre', 'hola', '🐶', '👺', True, False]\n",
    "\n",
    "'✅'.join(lista)"
   ]
  },
  {
   "cell_type": "code",
   "execution_count": 42,
   "id": "92fe7642",
   "metadata": {},
   "outputs": [
    {
     "ename": "TypeError",
     "evalue": "can only concatenate str (not \"bool\") to str",
     "output_type": "error",
     "traceback": [
      "\u001b[0;31m---------------------------------------------------------------------------\u001b[0m",
      "\u001b[0;31mTypeError\u001b[0m                                 Traceback (most recent call last)",
      "Cell \u001b[0;32mIn[42], line 1\u001b[0m\n\u001b[0;32m----> 1\u001b[0m \u001b[38;5;124;43m'\u001b[39;49m\u001b[38;5;124;43mhola\u001b[39;49m\u001b[38;5;124;43m'\u001b[39;49m\u001b[43m \u001b[49m\u001b[38;5;241;43m+\u001b[39;49m\u001b[43m \u001b[49m\u001b[38;5;28;43;01mTrue\u001b[39;49;00m\n",
      "\u001b[0;31mTypeError\u001b[0m: can only concatenate str (not \"bool\") to str"
     ]
    }
   ],
   "source": [
    "'hola' + True"
   ]
  },
  {
   "cell_type": "code",
   "execution_count": 43,
   "id": "071d3984",
   "metadata": {},
   "outputs": [
    {
     "data": {
      "text/plain": [
       "2"
      ]
     },
     "execution_count": 43,
     "metadata": {},
     "output_type": "execute_result"
    }
   ],
   "source": [
    "True + True"
   ]
  },
  {
   "cell_type": "markdown",
   "id": "52e6726c",
   "metadata": {},
   "source": [
    "### .split()"
   ]
  },
  {
   "cell_type": "code",
   "execution_count": 53,
   "id": "b6f254e2",
   "metadata": {},
   "outputs": [
    {
     "name": "stdout",
     "output_type": "stream",
     "text": [
      "Hola.\n",
      " Soy el profe de data. \n",
      "Bienvenidos.\n"
     ]
    }
   ],
   "source": [
    "texto = 'Hola.\\n Soy el profe de data. \\nBienvenidos.'\n",
    "\n",
    "print(texto)"
   ]
  },
  {
   "cell_type": "code",
   "execution_count": 45,
   "id": "70bcfb41",
   "metadata": {},
   "outputs": [
    {
     "data": {
      "text/plain": [
       "'Hola. \\n Soy el profe de data. \\n Bienvenidos.'"
      ]
     },
     "execution_count": 45,
     "metadata": {},
     "output_type": "execute_result"
    }
   ],
   "source": [
    "texto"
   ]
  },
  {
   "cell_type": "code",
   "execution_count": 46,
   "id": "0fbf8227",
   "metadata": {},
   "outputs": [
    {
     "data": {
      "text/plain": [
       "'Hola. \\n Soy el profe de data. \\n Bienvenidos.'"
      ]
     },
     "metadata": {},
     "output_type": "display_data"
    }
   ],
   "source": [
    "display(texto)"
   ]
  },
  {
   "cell_type": "code",
   "execution_count": 47,
   "id": "28695a39",
   "metadata": {},
   "outputs": [
    {
     "data": {
      "text/plain": [
       "['Hola.', 'Soy', 'el', 'profe', 'de', 'data.', 'Bienvenidos.']"
      ]
     },
     "execution_count": 47,
     "metadata": {},
     "output_type": "execute_result"
    }
   ],
   "source": [
    "texto.split()   # rompe por el espacio por defecto"
   ]
  },
  {
   "cell_type": "code",
   "execution_count": 48,
   "id": "486ac4ad",
   "metadata": {},
   "outputs": [
    {
     "data": {
      "text/plain": [
       "['Hola. ', ' Soy el profe de data. ', ' Bienvenidos.']"
      ]
     },
     "execution_count": 48,
     "metadata": {},
     "output_type": "execute_result"
    }
   ],
   "source": [
    "texto.split('\\n') "
   ]
  },
  {
   "cell_type": "code",
   "execution_count": 49,
   "id": "063415dc",
   "metadata": {},
   "outputs": [
    {
     "data": {
      "text/plain": [
       "['H', 'la. \\n S', 'y el pr', 'fe de data. \\n Bienvenid', 's.']"
      ]
     },
     "execution_count": 49,
     "metadata": {},
     "output_type": "execute_result"
    }
   ],
   "source": [
    "texto.split('o') "
   ]
  },
  {
   "cell_type": "markdown",
   "id": "71b31c82",
   "metadata": {},
   "source": [
    "### .strip()"
   ]
  },
  {
   "cell_type": "code",
   "execution_count": 54,
   "id": "828e4b28",
   "metadata": {},
   "outputs": [
    {
     "data": {
      "text/plain": [
       "'         oeaskndvoewivcm lskefmnw psdkmfwopfdemn             '"
      ]
     },
     "execution_count": 54,
     "metadata": {},
     "output_type": "execute_result"
    }
   ],
   "source": [
    "texto = '         oeaskndvoewivcm lskefmnw psdkmfwopfdemn             '\n",
    "\n",
    "texto"
   ]
  },
  {
   "cell_type": "code",
   "execution_count": 55,
   "id": "f3d9ef07",
   "metadata": {},
   "outputs": [
    {
     "data": {
      "text/plain": [
       "'oeaskndvoewivcm lskefmnw psdkmfwopfdemn'"
      ]
     },
     "execution_count": 55,
     "metadata": {},
     "output_type": "execute_result"
    }
   ],
   "source": [
    "texto.strip() #el espacio por defecto, los quita por los lados"
   ]
  },
  {
   "cell_type": "code",
   "execution_count": 58,
   "id": "cc77b2a5",
   "metadata": {},
   "outputs": [
    {
     "data": {
      "text/plain": [
       "'text'"
      ]
     },
     "execution_count": 58,
     "metadata": {},
     "output_type": "execute_result"
    }
   ],
   "source": [
    "'texto'.strip('o')"
   ]
  },
  {
   "cell_type": "code",
   "execution_count": 59,
   "id": "42a7e835",
   "metadata": {},
   "outputs": [
    {
     "data": {
      "text/plain": [
       "'xto'"
      ]
     },
     "execution_count": 59,
     "metadata": {},
     "output_type": "execute_result"
    }
   ],
   "source": [
    "'texto'.lstrip('te')  # por la izq"
   ]
  },
  {
   "cell_type": "code",
   "execution_count": 62,
   "id": "b17d2f71",
   "metadata": {},
   "outputs": [
    {
     "data": {
      "text/plain": [
       "'tex'"
      ]
     },
     "execution_count": 62,
     "metadata": {},
     "output_type": "execute_result"
    }
   ],
   "source": [
    "'texto'.rstrip('to')  # por la dcha"
   ]
  },
  {
   "cell_type": "markdown",
   "id": "92b8ab28",
   "metadata": {},
   "source": [
    "### Slicing"
   ]
  },
  {
   "cell_type": "code",
   "execution_count": 63,
   "id": "37663f27",
   "metadata": {},
   "outputs": [
    {
     "data": {
      "text/plain": [
       "4"
      ]
     },
     "execution_count": 63,
     "metadata": {},
     "output_type": "execute_result"
    }
   ],
   "source": [
    "lista = [1,2,3,4,4]\n",
    "\n",
    "lista[-1]"
   ]
  },
  {
   "cell_type": "code",
   "execution_count": 65,
   "id": "18285ae7",
   "metadata": {},
   "outputs": [
    {
     "data": {
      "text/plain": [
       "[4, 4]"
      ]
     },
     "execution_count": 65,
     "metadata": {},
     "output_type": "execute_result"
    }
   ],
   "source": [
    "lista[-2:]"
   ]
  },
  {
   "cell_type": "code",
   "execution_count": 67,
   "id": "9c7e31d6",
   "metadata": {},
   "outputs": [
    {
     "data": {
      "text/plain": [
       "[3, 4]"
      ]
     },
     "execution_count": 67,
     "metadata": {},
     "output_type": "execute_result"
    }
   ],
   "source": [
    "start = 2\n",
    "stop  = 5\n",
    "step  = 2\n",
    "\n",
    "lista[start:stop:step]"
   ]
  },
  {
   "cell_type": "code",
   "execution_count": 68,
   "id": "007c018a",
   "metadata": {},
   "outputs": [
    {
     "data": {
      "text/plain": [
       "1"
      ]
     },
     "execution_count": 68,
     "metadata": {},
     "output_type": "execute_result"
    }
   ],
   "source": [
    "lista[0]"
   ]
  },
  {
   "cell_type": "code",
   "execution_count": 70,
   "id": "c058b40e",
   "metadata": {},
   "outputs": [
    {
     "data": {
      "text/plain": [
       "'hola, como vais, bien o que onda?'"
      ]
     },
     "execution_count": 70,
     "metadata": {},
     "output_type": "execute_result"
    }
   ],
   "source": [
    "texto = 'hola, como vais, bien o que onda?'\n",
    "\n",
    "texto"
   ]
  },
  {
   "cell_type": "code",
   "execution_count": 71,
   "id": "ac179d47",
   "metadata": {
    "scrolled": true
   },
   "outputs": [
    {
     "data": {
      "text/plain": [
       "'h'"
      ]
     },
     "execution_count": 71,
     "metadata": {},
     "output_type": "execute_result"
    }
   ],
   "source": [
    "texto[0]"
   ]
  },
  {
   "cell_type": "code",
   "execution_count": 72,
   "id": "4ac9597c",
   "metadata": {},
   "outputs": [
    {
     "data": {
      "text/plain": [
       "'?'"
      ]
     },
     "execution_count": 72,
     "metadata": {},
     "output_type": "execute_result"
    }
   ],
   "source": [
    "texto[-1]"
   ]
  },
  {
   "cell_type": "code",
   "execution_count": 75,
   "id": "3eb0fcdb",
   "metadata": {},
   "outputs": [
    {
     "data": {
      "text/plain": [
       "'l mvsbn en'"
      ]
     },
     "execution_count": 75,
     "metadata": {},
     "output_type": "execute_result"
    }
   ],
   "source": [
    "texto[2:30:3]"
   ]
  },
  {
   "cell_type": "code",
   "execution_count": 77,
   "id": "ece9308d",
   "metadata": {},
   "outputs": [
    {
     "name": "stdout",
     "output_type": "stream",
     "text": [
      "h\n",
      "o\n",
      "l\n",
      "a\n",
      ",\n",
      " \n",
      "c\n",
      "o\n",
      "m\n",
      "o\n"
     ]
    }
   ],
   "source": [
    "for letra in texto[:10]:\n",
    "    print(letra)"
   ]
  },
  {
   "cell_type": "code",
   "execution_count": 78,
   "id": "85f1a40c",
   "metadata": {},
   "outputs": [
    {
     "name": "stdout",
     "output_type": "stream",
     "text": [
      "h\n",
      "o\n",
      "l\n",
      "a\n",
      ",\n",
      " \n",
      "c\n",
      "o\n",
      "m\n",
      "o\n"
     ]
    }
   ],
   "source": [
    "for cacatua in texto[:10]:\n",
    "    print(cacatua)"
   ]
  },
  {
   "cell_type": "code",
   "execution_count": 79,
   "id": "37c53bfd",
   "metadata": {},
   "outputs": [
    {
     "data": {
      "text/plain": [
       "'o'"
      ]
     },
     "execution_count": 79,
     "metadata": {},
     "output_type": "execute_result"
    }
   ],
   "source": [
    "cacatua"
   ]
  },
  {
   "cell_type": "code",
   "execution_count": 80,
   "id": "6d294f75",
   "metadata": {},
   "outputs": [
    {
     "data": {
      "text/plain": [
       "11"
      ]
     },
     "execution_count": 80,
     "metadata": {},
     "output_type": "execute_result"
    }
   ],
   "source": [
    "var = 1\n",
    "\n",
    "for i in range(5):\n",
    "    \n",
    "    var = var + i\n",
    "    \n",
    "    \n",
    "    \n",
    "var"
   ]
  },
  {
   "cell_type": "code",
   "execution_count": 82,
   "id": "b6263324",
   "metadata": {},
   "outputs": [
    {
     "data": {
      "text/plain": [
       "'texto'"
      ]
     },
     "execution_count": 82,
     "metadata": {},
     "output_type": "execute_result"
    }
   ],
   "source": [
    "'TEXTO'.lower()"
   ]
  },
  {
   "cell_type": "code",
   "execution_count": 83,
   "id": "a53a6794",
   "metadata": {},
   "outputs": [
    {
     "data": {
      "text/plain": [
       "'TEXTO'"
      ]
     },
     "execution_count": 83,
     "metadata": {},
     "output_type": "execute_result"
    }
   ],
   "source": [
    "'texto'.upper()"
   ]
  },
  {
   "cell_type": "code",
   "execution_count": 84,
   "id": "69dbb2ea",
   "metadata": {},
   "outputs": [
    {
     "data": {
      "text/plain": [
       "'t😉xto'"
      ]
     },
     "execution_count": 84,
     "metadata": {},
     "output_type": "execute_result"
    }
   ],
   "source": [
    "'texto'.replace('e', '😉')"
   ]
  },
  {
   "cell_type": "code",
   "execution_count": 85,
   "id": "7247a855",
   "metadata": {},
   "outputs": [],
   "source": [
    "#help(str)"
   ]
  },
  {
   "cell_type": "code",
   "execution_count": 87,
   "id": "3074e8b2",
   "metadata": {},
   "outputs": [],
   "source": [
    "#help(list)"
   ]
  },
  {
   "cell_type": "markdown",
   "id": "53895f66",
   "metadata": {},
   "source": [
    "### .startswith() / .endswith()"
   ]
  },
  {
   "cell_type": "code",
   "execution_count": 89,
   "id": "26ff1046",
   "metadata": {},
   "outputs": [
    {
     "data": {
      "text/plain": [
       "False"
      ]
     },
     "execution_count": 89,
     "metadata": {},
     "output_type": "execute_result"
    }
   ],
   "source": [
    "'texto'.startswith('o')"
   ]
  },
  {
   "cell_type": "code",
   "execution_count": 91,
   "id": "5b4f3992",
   "metadata": {},
   "outputs": [
    {
     "data": {
      "text/plain": [
       "True"
      ]
     },
     "execution_count": 91,
     "metadata": {},
     "output_type": "execute_result"
    }
   ],
   "source": [
    "'texto'.endswith('to')"
   ]
  },
  {
   "cell_type": "markdown",
   "id": "918d4c16",
   "metadata": {},
   "source": [
    "### in"
   ]
  },
  {
   "cell_type": "code",
   "execution_count": 92,
   "id": "4121531c",
   "metadata": {},
   "outputs": [
    {
     "data": {
      "text/plain": [
       "'hola, como vais, bien o que onda?'"
      ]
     },
     "execution_count": 92,
     "metadata": {},
     "output_type": "execute_result"
    }
   ],
   "source": [
    "texto"
   ]
  },
  {
   "cell_type": "code",
   "execution_count": 93,
   "id": "4cde2fc6",
   "metadata": {},
   "outputs": [
    {
     "data": {
      "text/plain": [
       "True"
      ]
     },
     "execution_count": 93,
     "metadata": {},
     "output_type": "execute_result"
    }
   ],
   "source": [
    "'hola' in texto"
   ]
  },
  {
   "cell_type": "markdown",
   "id": "28789695",
   "metadata": {},
   "source": [
    "### .replace()"
   ]
  },
  {
   "cell_type": "code",
   "execution_count": 95,
   "id": "27789c2a",
   "metadata": {},
   "outputs": [
    {
     "data": {
      "text/plain": [
       "'adios, como vais, bien o que onda?'"
      ]
     },
     "execution_count": 95,
     "metadata": {},
     "output_type": "execute_result"
    }
   ],
   "source": [
    "texto.replace('hola', 'adios')   # primero lo que hay, luego lo que quiero"
   ]
  },
  {
   "cell_type": "code",
   "execution_count": 97,
   "id": "69247e9f",
   "metadata": {},
   "outputs": [
    {
     "data": {
      "text/plain": [
       "'adios, como vais, mal o que onda!'"
      ]
     },
     "execution_count": 97,
     "metadata": {},
     "output_type": "execute_result"
    }
   ],
   "source": [
    "texto.replace('hola', 'adios').replace('?', '!').replace('bien', 'mal')  "
   ]
  },
  {
   "cell_type": "code",
   "execution_count": 98,
   "id": "630dc673",
   "metadata": {},
   "outputs": [
    {
     "data": {
      "text/plain": [
       "'❌, como vais, bien o que onda?'"
      ]
     },
     "execution_count": 98,
     "metadata": {},
     "output_type": "execute_result"
    }
   ],
   "source": [
    "texto.replace('hola', 'adios').replace('adios', '❌')"
   ]
  },
  {
   "cell_type": "code",
   "execution_count": 100,
   "id": "c8672d70",
   "metadata": {},
   "outputs": [
    {
     "data": {
      "text/plain": [
       "'estais, como vais, bien o que onda?'"
      ]
     },
     "execution_count": 100,
     "metadata": {},
     "output_type": "execute_result"
    }
   ],
   "source": [
    "texto.replace('hola', 'estais')"
   ]
  },
  {
   "cell_type": "code",
   "execution_count": 101,
   "id": "37fa977d",
   "metadata": {},
   "outputs": [
    {
     "data": {
      "text/plain": [
       "'hola, como vais, bien o que onda?'"
      ]
     },
     "execution_count": 101,
     "metadata": {},
     "output_type": "execute_result"
    }
   ],
   "source": [
    "texto"
   ]
  },
  {
   "cell_type": "code",
   "execution_count": 102,
   "id": "9dc47cca",
   "metadata": {},
   "outputs": [],
   "source": [
    "texto = texto.replace('hola', 'adios').replace('adios', '❌')"
   ]
  },
  {
   "cell_type": "code",
   "execution_count": 103,
   "id": "5f847356",
   "metadata": {},
   "outputs": [
    {
     "data": {
      "text/plain": [
       "'❌, como vais, bien o que onda?'"
      ]
     },
     "execution_count": 103,
     "metadata": {},
     "output_type": "execute_result"
    }
   ],
   "source": [
    "texto"
   ]
  },
  {
   "cell_type": "code",
   "execution_count": 104,
   "id": "6b65f348",
   "metadata": {},
   "outputs": [
    {
     "data": {
      "text/plain": [
       "[1, 2, 3, 4, 4]"
      ]
     },
     "execution_count": 104,
     "metadata": {},
     "output_type": "execute_result"
    }
   ],
   "source": [
    "lista"
   ]
  },
  {
   "cell_type": "code",
   "execution_count": 105,
   "id": "009eb315",
   "metadata": {},
   "outputs": [],
   "source": [
    "lista.append(90)"
   ]
  },
  {
   "cell_type": "code",
   "execution_count": 106,
   "id": "eda87fb7",
   "metadata": {},
   "outputs": [
    {
     "data": {
      "text/plain": [
       "[1, 2, 3, 4, 4, 90]"
      ]
     },
     "execution_count": 106,
     "metadata": {},
     "output_type": "execute_result"
    }
   ],
   "source": [
    "lista"
   ]
  },
  {
   "cell_type": "code",
   "execution_count": 114,
   "id": "1025a5a4",
   "metadata": {},
   "outputs": [],
   "source": [
    "texto = '''Hola, estamos probando si todo el texto cambia a minus o mayus.\n",
    "\n",
    "\n",
    "Vereis que si.\n",
    "\n",
    "\n",
    "'''\n",
    "\n",
    "\n",
    "# triple comilla significa string multilinea o comentario multilinea"
   ]
  },
  {
   "cell_type": "code",
   "execution_count": 115,
   "id": "30b8ff6b",
   "metadata": {},
   "outputs": [
    {
     "name": "stdout",
     "output_type": "stream",
     "text": [
      "Hola, estamos probando si todo el texto cambia a minus o mayus.\n",
      "\n",
      "\n",
      "Vereis que si.\n",
      "\n",
      "\n",
      "\n"
     ]
    }
   ],
   "source": [
    "print(texto)"
   ]
  },
  {
   "cell_type": "code",
   "execution_count": 116,
   "id": "2586445c",
   "metadata": {},
   "outputs": [
    {
     "name": "stdout",
     "output_type": "stream",
     "text": [
      "HOLA, ESTAMOS PROBANDO SI TODO EL TEXTO CAMBIA A MINUS O MAYUS.\n",
      "\n",
      "\n",
      "VEREIS QUE SI.\n",
      "\n",
      "\n",
      "\n"
     ]
    }
   ],
   "source": [
    "print(texto.upper())"
   ]
  },
  {
   "cell_type": "code",
   "execution_count": 117,
   "id": "d1a1afbd",
   "metadata": {},
   "outputs": [
    {
     "data": {
      "text/plain": [
       "'hola, estamos probando si todo el texto cambia a minus o mayus.\\n\\n\\nvereis que si.\\n\\n\\n'"
      ]
     },
     "execution_count": 117,
     "metadata": {},
     "output_type": "execute_result"
    }
   ],
   "source": [
    "texto.upper().lower()"
   ]
  },
  {
   "cell_type": "code",
   "execution_count": 118,
   "id": "0b37ff45",
   "metadata": {},
   "outputs": [
    {
     "name": "stdout",
     "output_type": "stream",
     "text": [
      "Hola, estamos probando si todo el texto cambia a minus o mayus.\n",
      "\n",
      "\n",
      "vereis que si.\n",
      "\n",
      "\n",
      "\n"
     ]
    }
   ],
   "source": [
    "print(texto.capitalize())"
   ]
  },
  {
   "cell_type": "code",
   "execution_count": 119,
   "id": "09047235",
   "metadata": {},
   "outputs": [
    {
     "name": "stdout",
     "output_type": "stream",
     "text": [
      "Hola, Estamos Probando Si Todo El Texto Cambia A Minus O Mayus.\n",
      "\n",
      "\n",
      "Vereis Que Si.\n",
      "\n",
      "\n",
      "\n"
     ]
    }
   ],
   "source": [
    "print(texto.title())"
   ]
  },
  {
   "cell_type": "code",
   "execution_count": 121,
   "id": "b1a0fd43",
   "metadata": {},
   "outputs": [
    {
     "data": {
      "text/plain": [
       "'HOLA, ESTAMOS PROBANDO SI TODO EL TEXTO CAMBIA A MINUS O MAYUS.\\n\\n\\nVEREIS QUE SI.\\n\\n\\n'"
      ]
     },
     "execution_count": 121,
     "metadata": {},
     "output_type": "execute_result"
    }
   ],
   "source": [
    "texto = texto.upper()\n",
    "\n",
    "texto"
   ]
  },
  {
   "cell_type": "code",
   "execution_count": 122,
   "id": "f147f065",
   "metadata": {},
   "outputs": [
    {
     "data": {
      "text/plain": [
       "'HOLA, ESTAMOS PROBANDO SI TODO EL TEXTO CAMBIA A MINUS O MAYUS.VEREIS QUE SI.'"
      ]
     },
     "execution_count": 122,
     "metadata": {},
     "output_type": "execute_result"
    }
   ],
   "source": [
    "texto.replace('\\n', '')"
   ]
  },
  {
   "cell_type": "code",
   "execution_count": 124,
   "id": "dcf7fbf8",
   "metadata": {},
   "outputs": [
    {
     "data": {
      "text/plain": [
       "'hola, estamos probando si todo el texto cambia a minus o mayus.vereis que '"
      ]
     },
     "execution_count": 124,
     "metadata": {},
     "output_type": "execute_result"
    }
   ],
   "source": [
    "texto.replace('\\n', '').lower().strip('si.')"
   ]
  },
  {
   "cell_type": "markdown",
   "id": "4174c6eb",
   "metadata": {},
   "source": [
    "---"
   ]
  },
  {
   "cell_type": "code",
   "execution_count": 125,
   "id": "198e3073",
   "metadata": {},
   "outputs": [
    {
     "data": {
      "text/plain": [
       "(1, 2, 3, 4)"
      ]
     },
     "execution_count": 125,
     "metadata": {},
     "output_type": "execute_result"
    }
   ],
   "source": [
    "tupla = (1, 2, 3, 4)\n",
    "\n",
    "tupla"
   ]
  },
  {
   "cell_type": "code",
   "execution_count": 126,
   "id": "ef7d9aaf",
   "metadata": {},
   "outputs": [
    {
     "ename": "AttributeError",
     "evalue": "'tuple' object has no attribute 'append'",
     "output_type": "error",
     "traceback": [
      "\u001b[0;31m---------------------------------------------------------------------------\u001b[0m",
      "\u001b[0;31mAttributeError\u001b[0m                            Traceback (most recent call last)",
      "Cell \u001b[0;32mIn[126], line 1\u001b[0m\n\u001b[0;32m----> 1\u001b[0m \u001b[43mtupla\u001b[49m\u001b[38;5;241;43m.\u001b[39;49m\u001b[43mappend\u001b[49m(\u001b[38;5;241m9\u001b[39m)\n",
      "\u001b[0;31mAttributeError\u001b[0m: 'tuple' object has no attribute 'append'"
     ]
    }
   ],
   "source": [
    "tupla.append(9)"
   ]
  },
  {
   "cell_type": "code",
   "execution_count": 127,
   "id": "a69e4def",
   "metadata": {},
   "outputs": [
    {
     "data": {
      "text/plain": [
       "1"
      ]
     },
     "execution_count": 127,
     "metadata": {},
     "output_type": "execute_result"
    }
   ],
   "source": [
    "tupla[0]"
   ]
  },
  {
   "cell_type": "code",
   "execution_count": 128,
   "id": "b5bd4a45",
   "metadata": {},
   "outputs": [
    {
     "ename": "TypeError",
     "evalue": "'tuple' object does not support item assignment",
     "output_type": "error",
     "traceback": [
      "\u001b[0;31m---------------------------------------------------------------------------\u001b[0m",
      "\u001b[0;31mTypeError\u001b[0m                                 Traceback (most recent call last)",
      "Cell \u001b[0;32mIn[128], line 1\u001b[0m\n\u001b[0;32m----> 1\u001b[0m \u001b[43mtupla\u001b[49m\u001b[43m[\u001b[49m\u001b[38;5;241;43m0\u001b[39;49m\u001b[43m]\u001b[49m \u001b[38;5;241m=\u001b[39m \u001b[38;5;241m90\u001b[39m\n",
      "\u001b[0;31mTypeError\u001b[0m: 'tuple' object does not support item assignment"
     ]
    }
   ],
   "source": [
    "tupla[0] = 90"
   ]
  },
  {
   "cell_type": "code",
   "execution_count": 129,
   "id": "d82a1274",
   "metadata": {},
   "outputs": [
    {
     "data": {
      "text/plain": [
       "[1, 2, 3, 4]"
      ]
     },
     "execution_count": 129,
     "metadata": {},
     "output_type": "execute_result"
    }
   ],
   "source": [
    "lista = [1, 2, 3, 4]\n",
    "\n",
    "lista"
   ]
  },
  {
   "cell_type": "code",
   "execution_count": 130,
   "id": "59c88d2c",
   "metadata": {},
   "outputs": [],
   "source": [
    "lista.append(9)"
   ]
  },
  {
   "cell_type": "code",
   "execution_count": 131,
   "id": "bb9c3301",
   "metadata": {},
   "outputs": [
    {
     "data": {
      "text/plain": [
       "[1, 2, 3, 4, 9]"
      ]
     },
     "execution_count": 131,
     "metadata": {},
     "output_type": "execute_result"
    }
   ],
   "source": [
    "lista"
   ]
  },
  {
   "cell_type": "code",
   "execution_count": 132,
   "id": "f6b12d0a",
   "metadata": {},
   "outputs": [],
   "source": [
    "lista[0] = 90"
   ]
  },
  {
   "cell_type": "code",
   "execution_count": 133,
   "id": "6288fe0b",
   "metadata": {},
   "outputs": [
    {
     "data": {
      "text/plain": [
       "[90, 2, 3, 4, 9]"
      ]
     },
     "execution_count": 133,
     "metadata": {},
     "output_type": "execute_result"
    }
   ],
   "source": [
    "lista"
   ]
  },
  {
   "cell_type": "code",
   "execution_count": 135,
   "id": "fa05863e",
   "metadata": {},
   "outputs": [
    {
     "data": {
      "text/plain": [
       "(1, 2, 3, 4)"
      ]
     },
     "execution_count": 135,
     "metadata": {},
     "output_type": "execute_result"
    }
   ],
   "source": [
    "tuple(list(tupla))"
   ]
  },
  {
   "cell_type": "code",
   "execution_count": 137,
   "id": "7957bb06",
   "metadata": {},
   "outputs": [
    {
     "data": {
      "text/plain": [
       "10"
      ]
     },
     "execution_count": 137,
     "metadata": {},
     "output_type": "execute_result"
    }
   ],
   "source": [
    "sum(tupla)"
   ]
  },
  {
   "cell_type": "code",
   "execution_count": 138,
   "id": "e6b0520e",
   "metadata": {},
   "outputs": [
    {
     "data": {
      "text/plain": [
       "108"
      ]
     },
     "execution_count": 138,
     "metadata": {},
     "output_type": "execute_result"
    }
   ],
   "source": [
    "sum(lista)"
   ]
  },
  {
   "cell_type": "markdown",
   "id": "46a7653a",
   "metadata": {},
   "source": [
    "### Regular Expressions (RegEx)\n",
    "\n",
    "https://regex101.com/\n",
    "\n",
    "__Python library__: re — Regular expression operations (https://docs.python.org/3.7/library/re.html)\n",
    "\n",
    "--\n",
    "\n",
    "<ins>Character Classes</ins>:\n",
    "\n",
    "[a-z]: Any lowercase letter between a and z.\n",
    "\n",
    "[A-Z]: Any uppercase letter between A and Z.\n",
    "\n",
    "[0-9]: Any numeric character between 0 and 9.\n",
    "\n",
    "\\w: Any alphanumeric character.\n",
    "\n",
    "\\W: Any non-alphanumeric character.\n",
    "\n",
    "\\d: Any numeric character.\n",
    "\n",
    "\\D: Any non-numeric character.\n",
    "\n",
    "\\s: Any whitespace characters.\n",
    "\n",
    "\\S: Any non-whitespace characters.\n",
    "\n",
    ".: Any character except newline (\\n).\n",
    "\n",
    "\n",
    "<ins>Meta-characters</ins>:\n",
    "\n",
    "[]: Match set of characters\n",
    "\n",
    ".: Match any character except newline (\\n)\n",
    "\n",
    "^: Match characters not listed if within set or match beginning of line\n",
    "\n",
    "$: Match end of line\n",
    "\n",
    "|: Functions as an \"OR\" operator\n",
    "\n",
    "\n",
    "<ins>Quantifiers</ins>:\n",
    "\n",
    "*: Matches previous character 0 or more times\n",
    "\n",
    "+: Matches previous character 1 or more times\n",
    "\n",
    "?: Matches previous character 0 or 1 times (optional)\n",
    "\n",
    "{}: Matches previous characters however many times specified within:\n",
    "\n",
    "- {n} : Exactly n times\n",
    "\n",
    "- {n,} : At least n times\n",
    "\n",
    "- {n,m} : Between n and m times"
   ]
  },
  {
   "cell_type": "code",
   "execution_count": 139,
   "id": "5efca0ae",
   "metadata": {},
   "outputs": [],
   "source": [
    "import re"
   ]
  },
  {
   "cell_type": "code",
   "execution_count": 140,
   "id": "86654de6",
   "metadata": {},
   "outputs": [
    {
     "data": {
      "text/plain": [
       "<module 're' from '/opt/homebrew/Caskroom/miniconda/base/envs/clase/lib/python3.9/re.py'>"
      ]
     },
     "execution_count": 140,
     "metadata": {},
     "output_type": "execute_result"
    }
   ],
   "source": [
    "re"
   ]
  },
  {
   "cell_type": "code",
   "execution_count": 165,
   "id": "7157689c",
   "metadata": {},
   "outputs": [],
   "source": [
    "texto = '''yo.rod_ggg@gmail.com   \n",
    "\n",
    "hola@gmail.com\n",
    "\n",
    "    osdnroe ci oeirmfoleik v_-/&)(  \n",
    "\n",
    "\n",
    "+34646546654\n",
    "\n",
    "\n",
    "666-666-666\n",
    "\n",
    "'''"
   ]
  },
  {
   "cell_type": "code",
   "execution_count": 166,
   "id": "04def3e8",
   "metadata": {},
   "outputs": [
    {
     "data": {
      "text/plain": [
       "'yo.rod_ggg@gmail.com   \\n\\nhola@gmail.com\\n\\n    osdnroe ci oeirmfoleik v_-/&)(  \\n\\n\\n+34646546654\\n\\n\\n666-666-666\\n\\n'"
      ]
     },
     "execution_count": 166,
     "metadata": {},
     "output_type": "execute_result"
    }
   ],
   "source": [
    "texto"
   ]
  },
  {
   "cell_type": "code",
   "execution_count": 177,
   "id": "f47020fd",
   "metadata": {},
   "outputs": [],
   "source": [
    "patron = '[\\w\\.]+@[\\w\\.]+'"
   ]
  },
  {
   "cell_type": "code",
   "execution_count": 178,
   "id": "63cd4a47",
   "metadata": {},
   "outputs": [
    {
     "data": {
      "text/plain": [
       "['yo.rod_ggg@gmail.com', 'hola@gmail.com']"
      ]
     },
     "execution_count": 178,
     "metadata": {},
     "output_type": "execute_result"
    }
   ],
   "source": [
    "re.findall(patron, texto)"
   ]
  },
  {
   "cell_type": "code",
   "execution_count": 174,
   "id": "8158f407",
   "metadata": {},
   "outputs": [
    {
     "data": {
      "text/plain": [
       "['-', '34646546654', '666-666-666']"
      ]
     },
     "execution_count": 174,
     "metadata": {},
     "output_type": "execute_result"
    }
   ],
   "source": [
    "patron = '[\\d\\-]+'\n",
    "\n",
    "re.findall(patron, texto)"
   ]
  }
 ],
 "metadata": {
  "kernelspec": {
   "display_name": "clase",
   "language": "python",
   "name": "clase"
  },
  "language_info": {
   "codemirror_mode": {
    "name": "ipython",
    "version": 3
   },
   "file_extension": ".py",
   "mimetype": "text/x-python",
   "name": "python",
   "nbconvert_exporter": "python",
   "pygments_lexer": "ipython3",
   "version": "3.9.12"
  }
 },
 "nbformat": 4,
 "nbformat_minor": 5
}
