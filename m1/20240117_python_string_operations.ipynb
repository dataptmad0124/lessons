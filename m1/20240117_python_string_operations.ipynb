{
 "cells": [
  {
   "cell_type": "markdown",
   "id": "ef4c80a6",
   "metadata": {},
   "source": [
    "# String Operations\n",
    "\n",
    "- __Common operations__\n",
    "    \n",
    "- __Slicing__\n",
    "    \n",
    "- __Regular Expressions__ (https://regex101.com/)"
   ]
  },
  {
   "cell_type": "code",
   "execution_count": null,
   "id": "181d3c3a",
   "metadata": {},
   "outputs": [],
   "source": []
  },
  {
   "cell_type": "markdown",
   "id": "28dd60ed",
   "metadata": {},
   "source": [
    "### Concatenate strings"
   ]
  },
  {
   "cell_type": "code",
   "execution_count": null,
   "id": "588af5dd",
   "metadata": {},
   "outputs": [],
   "source": []
  },
  {
   "cell_type": "code",
   "execution_count": null,
   "id": "581baca5",
   "metadata": {},
   "outputs": [],
   "source": []
  },
  {
   "cell_type": "code",
   "execution_count": null,
   "id": "8d411dc6",
   "metadata": {},
   "outputs": [],
   "source": []
  },
  {
   "cell_type": "code",
   "execution_count": null,
   "id": "260ea92e",
   "metadata": {},
   "outputs": [],
   "source": []
  },
  {
   "cell_type": "markdown",
   "id": "5afc167e",
   "metadata": {},
   "source": [
    "### .join()"
   ]
  },
  {
   "cell_type": "code",
   "execution_count": null,
   "id": "6f593d87",
   "metadata": {},
   "outputs": [],
   "source": []
  },
  {
   "cell_type": "markdown",
   "id": "71b31c82",
   "metadata": {},
   "source": [
    "### .strip()"
   ]
  },
  {
   "cell_type": "code",
   "execution_count": null,
   "id": "828e4b28",
   "metadata": {},
   "outputs": [],
   "source": []
  },
  {
   "cell_type": "code",
   "execution_count": null,
   "id": "f3d9ef07",
   "metadata": {},
   "outputs": [],
   "source": []
  },
  {
   "cell_type": "code",
   "execution_count": null,
   "id": "9bc82ab1",
   "metadata": {},
   "outputs": [],
   "source": []
  },
  {
   "cell_type": "markdown",
   "id": "92b8ab28",
   "metadata": {},
   "source": [
    "### Slicing"
   ]
  },
  {
   "cell_type": "code",
   "execution_count": null,
   "id": "37663f27",
   "metadata": {},
   "outputs": [],
   "source": []
  },
  {
   "cell_type": "code",
   "execution_count": null,
   "id": "18285ae7",
   "metadata": {},
   "outputs": [],
   "source": []
  },
  {
   "cell_type": "markdown",
   "id": "52e6726c",
   "metadata": {},
   "source": [
    "### .split()"
   ]
  },
  {
   "cell_type": "code",
   "execution_count": null,
   "id": "ac179d47",
   "metadata": {
    "scrolled": true
   },
   "outputs": [],
   "source": []
  },
  {
   "cell_type": "markdown",
   "id": "53895f66",
   "metadata": {},
   "source": [
    "### .startswith() / .endswith()"
   ]
  },
  {
   "cell_type": "code",
   "execution_count": null,
   "id": "26ff1046",
   "metadata": {},
   "outputs": [],
   "source": []
  },
  {
   "cell_type": "markdown",
   "id": "918d4c16",
   "metadata": {},
   "source": [
    "### in"
   ]
  },
  {
   "cell_type": "code",
   "execution_count": null,
   "id": "4121531c",
   "metadata": {},
   "outputs": [],
   "source": []
  },
  {
   "cell_type": "code",
   "execution_count": null,
   "id": "4cde2fc6",
   "metadata": {},
   "outputs": [],
   "source": []
  },
  {
   "cell_type": "markdown",
   "id": "28789695",
   "metadata": {},
   "source": [
    "### .replace()"
   ]
  },
  {
   "cell_type": "code",
   "execution_count": null,
   "id": "27789c2a",
   "metadata": {},
   "outputs": [],
   "source": []
  },
  {
   "cell_type": "markdown",
   "id": "176cb268",
   "metadata": {},
   "source": [
    "### String methods recap"
   ]
  },
  {
   "cell_type": "code",
   "execution_count": null,
   "id": "1025a5a4",
   "metadata": {},
   "outputs": [],
   "source": []
  },
  {
   "cell_type": "markdown",
   "id": "4174c6eb",
   "metadata": {},
   "source": [
    "---"
   ]
  },
  {
   "cell_type": "markdown",
   "id": "46a7653a",
   "metadata": {},
   "source": [
    "### Regular Expressions (RegEx)\n",
    "\n",
    "__Python library__: re — Regular expression operations (https://docs.python.org/3.7/library/re.html)\n",
    "\n",
    "--\n",
    "\n",
    "<ins>Character Classes</ins>:\n",
    "\n",
    "[a-z]: Any lowercase letter between a and z.\n",
    "\n",
    "[A-Z]: Any uppercase letter between A and Z.\n",
    "\n",
    "[0-9]: Any numeric character between 0 and 9.\n",
    "\n",
    "\\w: Any alphanumeric character.\n",
    "\n",
    "\\W: Any non-alphanumeric character.\n",
    "\n",
    "\\d: Any numeric character.\n",
    "\n",
    "\\D: Any non-numeric character.\n",
    "\n",
    "\\s: Any whitespace characters.\n",
    "\n",
    "\\S: Any non-whitespace characters.\n",
    "\n",
    ".: Any character except newline (\\n).\n",
    "\n",
    "\n",
    "<ins>Meta-characters</ins>:\n",
    "\n",
    "[]: Match set of characters\n",
    "\n",
    ".: Match any character except newline (\\n)\n",
    "\n",
    "^: Match characters not listed if within set or match beginning of line\n",
    "\n",
    "$: Match end of line\n",
    "\n",
    "|: Functions as an \"OR\" operator\n",
    "\n",
    "\n",
    "<ins>Quantifiers</ins>:\n",
    "\n",
    "*: Matches previous character 0 or more times\n",
    "\n",
    "+: Matches previous character 1 or more times\n",
    "\n",
    "?: Matches previous character 0 or 1 times (optional)\n",
    "\n",
    "{}: Matches previous characters however many times specified within:\n",
    "\n",
    "- {n} : Exactly n times\n",
    "\n",
    "- {n,} : At least n times\n",
    "\n",
    "- {n,m} : Between n and m times"
   ]
  },
  {
   "cell_type": "code",
   "execution_count": null,
   "id": "5efca0ae",
   "metadata": {},
   "outputs": [],
   "source": []
  }
 ],
 "metadata": {
  "kernelspec": {
   "display_name": "Python 3 (ipykernel)",
   "language": "python",
   "name": "python3"
  },
  "language_info": {
   "codemirror_mode": {
    "name": "ipython",
    "version": 3
   },
   "file_extension": ".py",
   "mimetype": "text/x-python",
   "name": "python",
   "nbconvert_exporter": "python",
   "pygments_lexer": "ipython3",
   "version": "3.9.12"
  }
 },
 "nbformat": 4,
 "nbformat_minor": 5
}
